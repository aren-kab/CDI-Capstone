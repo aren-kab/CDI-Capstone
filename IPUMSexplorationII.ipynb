{
 "cells": [
  {
   "cell_type": "code",
   "execution_count": 1,
   "metadata": {},
   "outputs": [],
   "source": [
    "import pandas as pd\n",
    "import numpy as np\n",
    "import datetime as dt\n",
    "import matplotlib\n",
    "import matplotlib.pyplot as plt\n",
    "import scipy.cluster.hierarchy as shc\n",
    "from sklearn.cluster import AgglomerativeClustering\n",
    "import os\n",
    "import seaborn as sns"
   ]
  },
  {
   "cell_type": "code",
   "execution_count": 2,
   "metadata": {},
   "outputs": [],
   "source": [
    "from sklearn.cluster import KMeans\n",
    "from scipy.spatial.distance import cdist, pdist\n",
    "from sklearn.datasets import make_classification\n",
    "from sklearn.datasets import make_blobs\n",
    "from sklearn.metrics import silhouette_samples, silhouette_score\n",
    "import matplotlib.cm as cm\n",
    "from sklearn.mixture import GaussianMixture\n",
    "from sklearn.cluster import DBSCAN\n",
    "from sklearn import preprocessing\n",
    "from sklearn.preprocessing import StandardScaler"
   ]
  },
  {
   "cell_type": "code",
   "execution_count": 3,
   "metadata": {},
   "outputs": [],
   "source": [
    "# fileName = 'C:/Users/mcarp/Downloads/usa_00007.csv/usa_00007.csv'\n",
    "fileName = 'C:/Users/Aren Kabarajian/Documents/NYU_CUSP/Capstone/usa_00007.csv'\n",
    "file = pd.read_csv(fileName)\n",
    "dfCDI = pd.DataFrame(file)"
   ]
  },
  {
   "cell_type": "code",
   "execution_count": 4,
   "metadata": {},
   "outputs": [],
   "source": [
    "# fileName2 = 'C:/Users/mcarp/Downloads/county_merged_vals - Sheet1.csv'\n",
    "fileName2 = 'C:/Users/Aren Kabarajian/Documents/NYU_CUSP/Capstone/county_merged_vals - Sheet1.csv'\n",
    "file2 = pd.read_csv(fileName2)\n",
    "dfCty = pd.DataFrame(file2)"
   ]
  },
  {
   "cell_type": "code",
   "execution_count": 5,
   "metadata": {},
   "outputs": [
    {
     "name": "stdout",
     "output_type": "stream",
     "text": [
      "<class 'pandas.core.frame.DataFrame'>\n",
      "RangeIndex: 1887461 entries, 0 to 1887460\n",
      "Data columns (total 40 columns):\n",
      " #   Column      Dtype  \n",
      "---  ------      -----  \n",
      " 0   YEAR        int64  \n",
      " 1   MULTYEAR    int64  \n",
      " 2   SAMPLE      int64  \n",
      " 3   SERIAL      int64  \n",
      " 4   CBSERIAL    int64  \n",
      " 5   HHWT        float64\n",
      " 6   CLUSTER     int64  \n",
      " 7   CPI99       float64\n",
      " 8   STATEFIP    int64  \n",
      " 9   COUNTYFIP   int64  \n",
      " 10  DENSITY     float64\n",
      " 11  CITY        int64  \n",
      " 12  PUMA        int64  \n",
      " 13  STRATA      int64  \n",
      " 14  GQ          int64  \n",
      " 15  OWNERSHP    int64  \n",
      " 16  OWNERSHPD   int64  \n",
      " 17  OWNCOST     int64  \n",
      " 18  RENTGRS     int64  \n",
      " 19  HHINCOME    int64  \n",
      " 20  CILAPTOP    int64  \n",
      " 21  CIHISPEED   int64  \n",
      " 22  PERNUM      int64  \n",
      " 23  PERWT       float64\n",
      " 24  FAMSIZE     int64  \n",
      " 25  AGE         int64  \n",
      " 26  RACE        int64  \n",
      " 27  RACED       int64  \n",
      " 28  HISPAN      int64  \n",
      " 29  HISPAND     int64  \n",
      " 30  EDUC        int64  \n",
      " 31  EDUCD       int64  \n",
      " 32  OCCSOC      object \n",
      " 33  INDNAICS    object \n",
      " 34  INCTOT      int64  \n",
      " 35  FTOTINC     int64  \n",
      " 36  INCWAGE     int64  \n",
      " 37  MIGCOUNTY1  int64  \n",
      " 38  MOVEDIN     int64  \n",
      " 39  TRANTIME    int64  \n",
      "dtypes: float64(4), int64(34), object(2)\n",
      "memory usage: 576.0+ MB\n"
     ]
    }
   ],
   "source": [
    "dfCDI.info()"
   ]
  },
  {
   "cell_type": "code",
   "execution_count": 6,
   "metadata": {},
   "outputs": [
    {
     "data": {
      "text/plain": [
       "(1887461, 40)"
      ]
     },
     "execution_count": 6,
     "metadata": {},
     "output_type": "execute_result"
    }
   ],
   "source": [
    "dfCDI.shape"
   ]
  },
  {
   "cell_type": "code",
   "execution_count": 7,
   "metadata": {},
   "outputs": [
    {
     "data": {
      "text/plain": [
       "(1417874, 40)"
      ]
     },
     "execution_count": 7,
     "metadata": {},
     "output_type": "execute_result"
    }
   ],
   "source": [
    "dfCDI = dfCDI[dfCDI['AGE']>=21]\n",
    "dfCDI.shape"
   ]
  },
  {
   "cell_type": "code",
   "execution_count": 8,
   "metadata": {},
   "outputs": [
    {
     "data": {
      "text/plain": [
       "0       941339\n",
       "1252      1640\n",
       "1460      1534\n",
       "1619      1222\n",
       "1079      1172\n",
       "         ...  \n",
       "4263         1\n",
       "332          1\n",
       "3996         1\n",
       "57           1\n",
       "197          1\n",
       "Name: RENTGRS, Length: 4547, dtype: int64"
      ]
     },
     "execution_count": 8,
     "metadata": {},
     "output_type": "execute_result"
    }
   ],
   "source": [
    "dfCDI.RENTGRS.value_counts()"
   ]
  },
  {
   "cell_type": "code",
   "execution_count": 9,
   "metadata": {},
   "outputs": [
    {
     "data": {
      "text/plain": [
       "count    863826.0\n",
       "mean          0.0\n",
       "std           0.0\n",
       "min           0.0\n",
       "25%           0.0\n",
       "50%           0.0\n",
       "75%           0.0\n",
       "max           0.0\n",
       "Name: RENTGRS, dtype: float64"
      ]
     },
     "execution_count": 9,
     "metadata": {},
     "output_type": "execute_result"
    }
   ],
   "source": [
    "dfHomeOwn=dfCDI[dfCDI['OWNERSHP']==1]\n",
    "dfHomeOwn.RENTGRS.describe()"
   ]
  },
  {
   "cell_type": "markdown",
   "metadata": {},
   "source": [
    "This reveals that home owning rows all have 0 values for cost of rent."
   ]
  },
  {
   "cell_type": "code",
   "execution_count": 10,
   "metadata": {},
   "outputs": [
    {
     "data": {
      "text/plain": [
       "1    863826\n",
       "2    494178\n",
       "0     59870\n",
       "Name: OWNERSHP, dtype: int64"
      ]
     },
     "execution_count": 10,
     "metadata": {},
     "output_type": "execute_result"
    }
   ],
   "source": [
    "dfCDI['OWNERSHP'].value_counts()"
   ]
  },
  {
   "cell_type": "code",
   "execution_count": 11,
   "metadata": {},
   "outputs": [
    {
     "data": {
      "text/plain": [
       "(1358004, 40)"
      ]
     },
     "execution_count": 11,
     "metadata": {},
     "output_type": "execute_result"
    }
   ],
   "source": [
    "dfCDI = dfCDI[dfCDI['OWNERSHP']!=0]\n",
    "dfCDI.shape"
   ]
  },
  {
   "cell_type": "markdown",
   "metadata": {},
   "source": [
    "Removes N/As (~50k rows)"
   ]
  },
  {
   "cell_type": "code",
   "execution_count": 12,
   "metadata": {},
   "outputs": [
    {
     "data": {
      "text/plain": [
       "0       881469\n",
       "1252      1640\n",
       "1460      1534\n",
       "1619      1222\n",
       "1079      1172\n",
       "         ...  \n",
       "4263         1\n",
       "332          1\n",
       "3996         1\n",
       "57           1\n",
       "197          1\n",
       "Name: RENTGRS, Length: 4547, dtype: int64"
      ]
     },
     "execution_count": 12,
     "metadata": {},
     "output_type": "execute_result"
    }
   ],
   "source": [
    "dfCDI['RENTGRS'].value_counts()"
   ]
  },
  {
   "cell_type": "code",
   "execution_count": 13,
   "metadata": {},
   "outputs": [],
   "source": [
    "dfCDI['affrentdec'] = dfCDI['RENTGRS']*12/dfCDI['HHINCOME']"
   ]
  },
  {
   "cell_type": "code",
   "execution_count": 14,
   "metadata": {},
   "outputs": [],
   "source": [
    "def housingFunc(own, affrentdec):\n",
    "    if own==1:\n",
    "        housingCat=2\n",
    "    elif own==2 and affrentdec<.3:\n",
    "        housingCat=1\n",
    "    else:\n",
    "        housingCat=0\n",
    "    return housingCat"
   ]
  },
  {
   "cell_type": "code",
   "execution_count": 15,
   "metadata": {},
   "outputs": [
    {
     "data": {
      "text/plain": [
       "2    863826\n",
       "1    261051\n",
       "0    233127\n",
       "Name: HousingCat, dtype: int64"
      ]
     },
     "execution_count": 15,
     "metadata": {},
     "output_type": "execute_result"
    }
   ],
   "source": [
    "dfCDI['HousingCat'] = dfCDI.apply(lambda x: housingFunc(x['OWNERSHP'], x['affrentdec']), axis=1)\n",
    "dfCDI['HousingCat'].value_counts()"
   ]
  },
  {
   "cell_type": "markdown",
   "metadata": {},
   "source": [
    "COMBINING aff. rent and home ownership into 1 indicator: 0, 1, 2 scores (0: rent>=30% income, 1: rent<30% income, 2: owner)"
   ]
  },
  {
   "cell_type": "code",
   "execution_count": 16,
   "metadata": {},
   "outputs": [
    {
     "data": {
      "text/plain": [
       "0    761987\n",
       "1    596017\n",
       "Name: EDUCbin, dtype: int64"
      ]
     },
     "execution_count": 16,
     "metadata": {},
     "output_type": "execute_result"
    }
   ],
   "source": [
    "dfCDI['EDUCbin'] = [1 if x >=8 else 0 for x in dfCDI['EDUC']]\n",
    "dfCDI['EDUCbin'].value_counts()"
   ]
  },
  {
   "cell_type": "code",
   "execution_count": 17,
   "metadata": {},
   "outputs": [
    {
     "data": {
      "text/plain": [
       "10    1047257\n",
       "20     176856\n",
       "0      133891\n",
       "Name: CIHISPEED, dtype: int64"
      ]
     },
     "execution_count": 17,
     "metadata": {},
     "output_type": "execute_result"
    }
   ],
   "source": [
    "dfCDI['CIHISPEED'].value_counts()"
   ]
  },
  {
   "cell_type": "code",
   "execution_count": 18,
   "metadata": {},
   "outputs": [],
   "source": [
    "dfCDI = dfCDI[dfCDI['CIHISPEED']!=0]"
   ]
  },
  {
   "cell_type": "code",
   "execution_count": 19,
   "metadata": {},
   "outputs": [
    {
     "data": {
      "text/plain": [
       "0      510201\n",
       "30     105754\n",
       "15      96661\n",
       "20      96467\n",
       "10      73306\n",
       "        ...  \n",
       "104         1\n",
       "117         1\n",
       "116         1\n",
       "103         1\n",
       "113         1\n",
       "Name: TRANTIME, Length: 120, dtype: int64"
      ]
     },
     "execution_count": 19,
     "metadata": {},
     "output_type": "execute_result"
    }
   ],
   "source": [
    "dfCDI['TRANTIME'].value_counts()"
   ]
  },
  {
   "cell_type": "code",
   "execution_count": 20,
   "metadata": {},
   "outputs": [
    {
     "data": {
      "text/plain": [
       "(1224113, 43)"
      ]
     },
     "execution_count": 20,
     "metadata": {},
     "output_type": "execute_result"
    }
   ],
   "source": [
    "dfCDI.shape"
   ]
  },
  {
   "cell_type": "code",
   "execution_count": 21,
   "metadata": {},
   "outputs": [
    {
     "data": {
      "text/plain": [
       "(1180785, 60)"
      ]
     },
     "execution_count": 21,
     "metadata": {},
     "output_type": "execute_result"
    }
   ],
   "source": [
    "joined2019_2 = dfCDI.merge(dfCty, on='COUNTYFIP')\n",
    "joined2019_2.shape"
   ]
  },
  {
   "cell_type": "code",
   "execution_count": 22,
   "metadata": {},
   "outputs": [
    {
     "name": "stdout",
     "output_type": "stream",
     "text": [
      "41\n",
      "42\n",
      "21\n",
      "39\n",
      "56\n",
      "58\n",
      "57\n",
      "59\n"
     ]
    }
   ],
   "source": [
    "print(joined2019_2.columns.get_loc(\"HousingCat\"))\n",
    "print(joined2019_2.columns.get_loc(\"EDUCbin\"))\n",
    "print(joined2019_2.columns.get_loc(\"CIHISPEED\"))\n",
    "print(joined2019_2.columns.get_loc(\"TRANTIME\"))\n",
    "print(joined2019_2.columns.get_loc(\"DrinkingWater\"))\n",
    "print(joined2019_2.columns.get_loc(\"AirQuality\"))\n",
    "print(joined2019_2.columns.get_loc(\"EarlyEd\"))\n",
    "print(joined2019_2.columns.get_loc(\"ProspNeigh\"))"
   ]
  },
  {
   "cell_type": "code",
   "execution_count": 23,
   "metadata": {},
   "outputs": [],
   "source": [
    "X = joined2019_2.iloc[:, [41,42,21,39,56,58,57,59]]"
   ]
  },
  {
   "cell_type": "code",
   "execution_count": 24,
   "metadata": {},
   "outputs": [
    {
     "data": {
      "text/html": [
       "<div>\n",
       "<style scoped>\n",
       "    .dataframe tbody tr th:only-of-type {\n",
       "        vertical-align: middle;\n",
       "    }\n",
       "\n",
       "    .dataframe tbody tr th {\n",
       "        vertical-align: top;\n",
       "    }\n",
       "\n",
       "    .dataframe thead th {\n",
       "        text-align: right;\n",
       "    }\n",
       "</style>\n",
       "<table border=\"1\" class=\"dataframe\">\n",
       "  <thead>\n",
       "    <tr style=\"text-align: right;\">\n",
       "      <th></th>\n",
       "      <th>HousingCat</th>\n",
       "      <th>EDUCbin</th>\n",
       "      <th>CIHISPEED</th>\n",
       "      <th>TRANTIME</th>\n",
       "      <th>DrinkingWater</th>\n",
       "      <th>AirQuality</th>\n",
       "      <th>EarlyEd</th>\n",
       "      <th>ProspNeigh</th>\n",
       "    </tr>\n",
       "  </thead>\n",
       "  <tbody>\n",
       "    <tr>\n",
       "      <th>count</th>\n",
       "      <td>1.180785e+06</td>\n",
       "      <td>1.180785e+06</td>\n",
       "      <td>1.180785e+06</td>\n",
       "      <td>1.180785e+06</td>\n",
       "      <td>1.180785e+06</td>\n",
       "      <td>1.180785e+06</td>\n",
       "      <td>1.180785e+06</td>\n",
       "      <td>1.180785e+06</td>\n",
       "    </tr>\n",
       "    <tr>\n",
       "      <th>mean</th>\n",
       "      <td>1.495227e+00</td>\n",
       "      <td>4.688491e-01</td>\n",
       "      <td>1.139179e+01</td>\n",
       "      <td>1.802718e+01</td>\n",
       "      <td>9.943121e-01</td>\n",
       "      <td>3.523099e+01</td>\n",
       "      <td>5.149841e-01</td>\n",
       "      <td>8.171870e-01</td>\n",
       "    </tr>\n",
       "    <tr>\n",
       "      <th>std</th>\n",
       "      <td>7.505296e-01</td>\n",
       "      <td>4.990289e-01</td>\n",
       "      <td>3.461329e+00</td>\n",
       "      <td>2.410094e+01</td>\n",
       "      <td>1.992936e-02</td>\n",
       "      <td>6.126561e+00</td>\n",
       "      <td>8.383225e-02</td>\n",
       "      <td>1.154902e-01</td>\n",
       "    </tr>\n",
       "    <tr>\n",
       "      <th>min</th>\n",
       "      <td>0.000000e+00</td>\n",
       "      <td>0.000000e+00</td>\n",
       "      <td>1.000000e+01</td>\n",
       "      <td>0.000000e+00</td>\n",
       "      <td>8.888183e-01</td>\n",
       "      <td>1.700000e+01</td>\n",
       "      <td>3.260000e-01</td>\n",
       "      <td>3.646189e-01</td>\n",
       "    </tr>\n",
       "    <tr>\n",
       "      <th>25%</th>\n",
       "      <td>1.000000e+00</td>\n",
       "      <td>0.000000e+00</td>\n",
       "      <td>1.000000e+01</td>\n",
       "      <td>0.000000e+00</td>\n",
       "      <td>9.996217e-01</td>\n",
       "      <td>3.000000e+01</td>\n",
       "      <td>4.570000e-01</td>\n",
       "      <td>7.592451e-01</td>\n",
       "    </tr>\n",
       "    <tr>\n",
       "      <th>50%</th>\n",
       "      <td>2.000000e+00</td>\n",
       "      <td>0.000000e+00</td>\n",
       "      <td>1.000000e+01</td>\n",
       "      <td>1.000000e+01</td>\n",
       "      <td>9.999295e-01</td>\n",
       "      <td>3.700000e+01</td>\n",
       "      <td>5.450000e-01</td>\n",
       "      <td>8.183911e-01</td>\n",
       "    </tr>\n",
       "    <tr>\n",
       "      <th>75%</th>\n",
       "      <td>2.000000e+00</td>\n",
       "      <td>1.000000e+00</td>\n",
       "      <td>1.000000e+01</td>\n",
       "      <td>3.000000e+01</td>\n",
       "      <td>1.000000e+00</td>\n",
       "      <td>4.000000e+01</td>\n",
       "      <td>5.540000e-01</td>\n",
       "      <td>8.968348e-01</td>\n",
       "    </tr>\n",
       "    <tr>\n",
       "      <th>max</th>\n",
       "      <td>2.000000e+00</td>\n",
       "      <td>1.000000e+00</td>\n",
       "      <td>2.000000e+01</td>\n",
       "      <td>1.420000e+02</td>\n",
       "      <td>1.000000e+00</td>\n",
       "      <td>4.300000e+01</td>\n",
       "      <td>7.440000e-01</td>\n",
       "      <td>9.960382e-01</td>\n",
       "    </tr>\n",
       "  </tbody>\n",
       "</table>\n",
       "</div>"
      ],
      "text/plain": [
       "         HousingCat       EDUCbin     CIHISPEED      TRANTIME  DrinkingWater  \\\n",
       "count  1.180785e+06  1.180785e+06  1.180785e+06  1.180785e+06   1.180785e+06   \n",
       "mean   1.495227e+00  4.688491e-01  1.139179e+01  1.802718e+01   9.943121e-01   \n",
       "std    7.505296e-01  4.990289e-01  3.461329e+00  2.410094e+01   1.992936e-02   \n",
       "min    0.000000e+00  0.000000e+00  1.000000e+01  0.000000e+00   8.888183e-01   \n",
       "25%    1.000000e+00  0.000000e+00  1.000000e+01  0.000000e+00   9.996217e-01   \n",
       "50%    2.000000e+00  0.000000e+00  1.000000e+01  1.000000e+01   9.999295e-01   \n",
       "75%    2.000000e+00  1.000000e+00  1.000000e+01  3.000000e+01   1.000000e+00   \n",
       "max    2.000000e+00  1.000000e+00  2.000000e+01  1.420000e+02   1.000000e+00   \n",
       "\n",
       "         AirQuality       EarlyEd    ProspNeigh  \n",
       "count  1.180785e+06  1.180785e+06  1.180785e+06  \n",
       "mean   3.523099e+01  5.149841e-01  8.171870e-01  \n",
       "std    6.126561e+00  8.383225e-02  1.154902e-01  \n",
       "min    1.700000e+01  3.260000e-01  3.646189e-01  \n",
       "25%    3.000000e+01  4.570000e-01  7.592451e-01  \n",
       "50%    3.700000e+01  5.450000e-01  8.183911e-01  \n",
       "75%    4.000000e+01  5.540000e-01  8.968348e-01  \n",
       "max    4.300000e+01  7.440000e-01  9.960382e-01  "
      ]
     },
     "execution_count": 24,
     "metadata": {},
     "output_type": "execute_result"
    }
   ],
   "source": [
    "X.describe()"
   ]
  },
  {
   "cell_type": "code",
   "execution_count": 25,
   "metadata": {},
   "outputs": [],
   "source": [
    "scaler=StandardScaler()\n",
    "scalerNum = scaler.fit(X)\n",
    "Xstd = scalerNum.transform(X)"
   ]
  },
  {
   "cell_type": "code",
   "execution_count": 26,
   "metadata": {},
   "outputs": [
    {
     "data": {
      "text/html": [
       "<div>\n",
       "<style scoped>\n",
       "    .dataframe tbody tr th:only-of-type {\n",
       "        vertical-align: middle;\n",
       "    }\n",
       "\n",
       "    .dataframe tbody tr th {\n",
       "        vertical-align: top;\n",
       "    }\n",
       "\n",
       "    .dataframe thead th {\n",
       "        text-align: right;\n",
       "    }\n",
       "</style>\n",
       "<table border=\"1\" class=\"dataframe\">\n",
       "  <thead>\n",
       "    <tr style=\"text-align: right;\">\n",
       "      <th></th>\n",
       "      <th>HousingCat</th>\n",
       "      <th>EDUCbin</th>\n",
       "      <th>CIHISPEED</th>\n",
       "      <th>TRANTIME</th>\n",
       "      <th>DrinkingWater</th>\n",
       "      <th>AirQuality</th>\n",
       "      <th>EarlyEd</th>\n",
       "      <th>ProspNeigh</th>\n",
       "    </tr>\n",
       "  </thead>\n",
       "  <tbody>\n",
       "    <tr>\n",
       "      <th>count</th>\n",
       "      <td>1.180785e+06</td>\n",
       "      <td>1.180785e+06</td>\n",
       "      <td>1.180785e+06</td>\n",
       "      <td>1.180785e+06</td>\n",
       "      <td>1.180785e+06</td>\n",
       "      <td>1.180785e+06</td>\n",
       "      <td>1.180785e+06</td>\n",
       "      <td>1.180785e+06</td>\n",
       "    </tr>\n",
       "    <tr>\n",
       "      <th>mean</th>\n",
       "      <td>7.065428e-13</td>\n",
       "      <td>-4.973875e-14</td>\n",
       "      <td>8.830854e-14</td>\n",
       "      <td>-4.389707e-13</td>\n",
       "      <td>-2.740658e-13</td>\n",
       "      <td>1.435436e-12</td>\n",
       "      <td>-3.516910e-12</td>\n",
       "      <td>5.989656e-13</td>\n",
       "    </tr>\n",
       "    <tr>\n",
       "      <th>std</th>\n",
       "      <td>1.000000e+00</td>\n",
       "      <td>1.000000e+00</td>\n",
       "      <td>1.000000e+00</td>\n",
       "      <td>1.000000e+00</td>\n",
       "      <td>1.000000e+00</td>\n",
       "      <td>1.000000e+00</td>\n",
       "      <td>1.000000e+00</td>\n",
       "      <td>1.000000e+00</td>\n",
       "    </tr>\n",
       "    <tr>\n",
       "      <th>min</th>\n",
       "      <td>-1.992230e+00</td>\n",
       "      <td>-9.395234e-01</td>\n",
       "      <td>-4.020960e-01</td>\n",
       "      <td>-7.479869e-01</td>\n",
       "      <td>-5.293388e+00</td>\n",
       "      <td>-2.975731e+00</td>\n",
       "      <td>-2.254314e+00</td>\n",
       "      <td>-3.918673e+00</td>\n",
       "    </tr>\n",
       "    <tr>\n",
       "      <th>25%</th>\n",
       "      <td>-6.598374e-01</td>\n",
       "      <td>-9.395234e-01</td>\n",
       "      <td>-4.020960e-01</td>\n",
       "      <td>-7.479869e-01</td>\n",
       "      <td>2.664198e-01</td>\n",
       "      <td>-8.538214e-01</td>\n",
       "      <td>-6.916685e-01</td>\n",
       "      <td>-5.017038e-01</td>\n",
       "    </tr>\n",
       "    <tr>\n",
       "      <th>50%</th>\n",
       "      <td>6.725556e-01</td>\n",
       "      <td>-9.395234e-01</td>\n",
       "      <td>-4.020960e-01</td>\n",
       "      <td>-3.330653e-01</td>\n",
       "      <td>2.818670e-01</td>\n",
       "      <td>2.887450e-01</td>\n",
       "      <td>3.580473e-01</td>\n",
       "      <td>1.042612e-02</td>\n",
       "    </tr>\n",
       "    <tr>\n",
       "      <th>75%</th>\n",
       "      <td>6.725556e-01</td>\n",
       "      <td>1.064369e+00</td>\n",
       "      <td>-4.020960e-01</td>\n",
       "      <td>4.967781e-01</td>\n",
       "      <td>2.854028e-01</td>\n",
       "      <td>7.784163e-01</td>\n",
       "      <td>4.654046e-01</td>\n",
       "      <td>6.896505e-01</td>\n",
       "    </tr>\n",
       "    <tr>\n",
       "      <th>max</th>\n",
       "      <td>6.725556e-01</td>\n",
       "      <td>1.064369e+00</td>\n",
       "      <td>2.486969e+00</td>\n",
       "      <td>5.143901e+00</td>\n",
       "      <td>2.854028e-01</td>\n",
       "      <td>1.268088e+00</td>\n",
       "      <td>2.731836e+00</td>\n",
       "      <td>1.548628e+00</td>\n",
       "    </tr>\n",
       "  </tbody>\n",
       "</table>\n",
       "</div>"
      ],
      "text/plain": [
       "         HousingCat       EDUCbin     CIHISPEED      TRANTIME  DrinkingWater  \\\n",
       "count  1.180785e+06  1.180785e+06  1.180785e+06  1.180785e+06   1.180785e+06   \n",
       "mean   7.065428e-13 -4.973875e-14  8.830854e-14 -4.389707e-13  -2.740658e-13   \n",
       "std    1.000000e+00  1.000000e+00  1.000000e+00  1.000000e+00   1.000000e+00   \n",
       "min   -1.992230e+00 -9.395234e-01 -4.020960e-01 -7.479869e-01  -5.293388e+00   \n",
       "25%   -6.598374e-01 -9.395234e-01 -4.020960e-01 -7.479869e-01   2.664198e-01   \n",
       "50%    6.725556e-01 -9.395234e-01 -4.020960e-01 -3.330653e-01   2.818670e-01   \n",
       "75%    6.725556e-01  1.064369e+00 -4.020960e-01  4.967781e-01   2.854028e-01   \n",
       "max    6.725556e-01  1.064369e+00  2.486969e+00  5.143901e+00   2.854028e-01   \n",
       "\n",
       "         AirQuality       EarlyEd    ProspNeigh  \n",
       "count  1.180785e+06  1.180785e+06  1.180785e+06  \n",
       "mean   1.435436e-12 -3.516910e-12  5.989656e-13  \n",
       "std    1.000000e+00  1.000000e+00  1.000000e+00  \n",
       "min   -2.975731e+00 -2.254314e+00 -3.918673e+00  \n",
       "25%   -8.538214e-01 -6.916685e-01 -5.017038e-01  \n",
       "50%    2.887450e-01  3.580473e-01  1.042612e-02  \n",
       "75%    7.784163e-01  4.654046e-01  6.896505e-01  \n",
       "max    1.268088e+00  2.731836e+00  1.548628e+00  "
      ]
     },
     "execution_count": 26,
     "metadata": {},
     "output_type": "execute_result"
    }
   ],
   "source": [
    "dfX = pd.DataFrame(Xstd, columns=['HousingCat','EDUCbin','CIHISPEED','TRANTIME','DrinkingWater','AirQuality','EarlyEd','ProspNeigh'])\n",
    "dfX.describe()"
   ]
  },
  {
   "cell_type": "markdown",
   "metadata": {},
   "source": [
    "elbow method:"
   ]
  },
  {
   "cell_type": "code",
   "execution_count": 51,
   "metadata": {},
   "outputs": [],
   "source": [
    "# wcss = []\n",
    "# for i in range(1,10):\n",
    "#     kmeans = KMeans(n_clusters = i, init = 'k-means++', random_state = 42)\n",
    "#     kmeans.fit(dfX)\n",
    "#     wcss.append(kmeans.inertia_)"
   ]
  },
  {
   "cell_type": "code",
   "execution_count": 52,
   "metadata": {},
   "outputs": [],
   "source": [
    "# plt.figure(figsize=(10,5))\n",
    "# sns.lineplot(range(1,10), wcss,marker='o',color='red')\n",
    "# plt.title('The Elbow Method')\n",
    "# plt.xlabel('Number of clusters')\n",
    "# plt.ylabel('WCSS')\n",
    "# plt.show()"
   ]
  },
  {
   "cell_type": "markdown",
   "metadata": {},
   "source": [
    "silhouette score:"
   ]
  },
  {
   "cell_type": "code",
   "execution_count": 59,
   "metadata": {},
   "outputs": [
    {
     "name": "stdout",
     "output_type": "stream",
     "text": [
      "For n_clusters = 2 the average silhouette_score is: 0.16302729144625938\n",
      "For n_clusters = 3 the average silhouette_score is: 0.19284080668780232\n",
      "For n_clusters = 4 the average silhouette_score is: 0.19600153880706772\n",
      "For n_clusters = 5 the average silhouette_score is: 0.23867311749759226\n",
      "For n_clusters = 6 the average silhouette_score is: 0.2339304079171766\n",
      "For n_clusters = 7 the average silhouette_score is: 0.24054435736708546\n",
      "For n_clusters = 8 the average silhouette_score is: 0.23753860974272661\n",
      "For n_clusters = 9 the average silhouette_score is: 0.26233299562379647\n",
      "For n_clusters = 10 the average silhouette_score is: 0.24957206677028812\n",
      "For n_clusters = 11 the average silhouette_score is: 0.2677493946048121\n"
     ]
    }
   ],
   "source": [
    "for i in range(2,12):\n",
    "    km = KMeans(n_clusters = i, init = 'k-means++', random_state = 42)\n",
    "    cluster_labels = km.fit_predict(dfX)\n",
    "    silhouette_avg = silhouette_score(dfX, cluster_labels, metric='euclidean', sample_size = 1000,random_state=None)\n",
    "    print('For n_clusters = {} the average silhouette_score is: {}'.format(i, silhouette_avg))"
   ]
  },
  {
   "cell_type": "code",
   "execution_count": 57,
   "metadata": {},
   "outputs": [
    {
     "name": "stdout",
     "output_type": "stream",
     "text": [
      "For n_clusters = 2 the average silhouette_score is: 0.16105757182179053\n",
      "For n_clusters = 3 the average silhouette_score is: 0.19227043352324308\n",
      "For n_clusters = 4 the average silhouette_score is: 0.19774548532755298\n",
      "For n_clusters = 5 the average silhouette_score is: 0.22851781368246302\n",
      "For n_clusters = 6 the average silhouette_score is: 0.23400383192918967\n",
      "For n_clusters = 7 the average silhouette_score is: 0.24333381440763946\n",
      "For n_clusters = 8 the average silhouette_score is: 0.23387246954654306\n",
      "For n_clusters = 9 the average silhouette_score is: 0.2522630384859576\n",
      "For n_clusters = 10 the average silhouette_score is: 0.25876397984403593\n"
     ]
    }
   ],
   "source": [
    "for i in range(2,11):\n",
    "    km = KMeans(n_clusters = i, init = 'k-means++', random_state = 42)\n",
    "    cluster_labels = km.fit_predict(dfX)\n",
    "    silhouette_avg = silhouette_score(dfX, cluster_labels, metric='euclidean',sample_size = 10000, random_state=None)\n",
    "    print('For n_clusters = {} the average silhouette_score is: {}'.format(i, silhouette_avg))"
   ]
  },
  {
   "cell_type": "code",
   "execution_count": 60,
   "metadata": {},
   "outputs": [],
   "source": [
    "# for i in range(2,11):\n",
    "#     km = KMeans(n_clusters = i, init = 'k-means++', random_state = 42)\n",
    "#     cluster_labels = km.fit_predict(dfX)\n",
    "#     silhouette_avg = silhouette_score(dfX, cluster_labels, metric='euclidean', random_state=None)\n",
    "#     print('For n_clusters = {} the average silhouette_score is: {}'.format(i, silhouette_avg))"
   ]
  },
  {
   "cell_type": "code",
   "execution_count": 27,
   "metadata": {},
   "outputs": [
    {
     "name": "stdout",
     "output_type": "stream",
     "text": [
      "[2 0 2 ... 1 1 1]\n"
     ]
    }
   ],
   "source": [
    "kmeans = KMeans(n_clusters = 3, init = 'k-means++', random_state = 42)\n",
    "kmeans.fit(dfX)\n",
    "print(kmeans.labels_)"
   ]
  },
  {
   "cell_type": "code",
   "execution_count": 28,
   "metadata": {},
   "outputs": [
    {
     "data": {
      "text/plain": [
       "array([[ 1.        ,  1.        , 10.        , ..., 37.        ,\n",
       "         0.554     ,  0.89683482],\n",
       "       [ 1.        ,  0.        , 10.        , ..., 37.        ,\n",
       "         0.554     ,  0.89683482],\n",
       "       [ 2.        ,  1.        , 10.        , ..., 37.        ,\n",
       "         0.554     ,  0.89683482],\n",
       "       ...,\n",
       "       [ 2.        ,  1.        , 10.        , ..., 40.        ,\n",
       "         0.326     ,  0.40503748],\n",
       "       [ 2.        ,  1.        , 10.        , ..., 40.        ,\n",
       "         0.326     ,  0.40503748],\n",
       "       [ 2.        ,  1.        , 10.        , ..., 40.        ,\n",
       "         0.326     ,  0.40503748]])"
      ]
     },
     "execution_count": 28,
     "metadata": {},
     "output_type": "execute_result"
    }
   ],
   "source": [
    "Xfin = scaler.inverse_transform(dfX)\n",
    "Xfin"
   ]
  },
  {
   "cell_type": "code",
   "execution_count": 29,
   "metadata": {},
   "outputs": [
    {
     "data": {
      "text/html": [
       "<div>\n",
       "<style scoped>\n",
       "    .dataframe tbody tr th:only-of-type {\n",
       "        vertical-align: middle;\n",
       "    }\n",
       "\n",
       "    .dataframe tbody tr th {\n",
       "        vertical-align: top;\n",
       "    }\n",
       "\n",
       "    .dataframe thead th {\n",
       "        text-align: right;\n",
       "    }\n",
       "</style>\n",
       "<table border=\"1\" class=\"dataframe\">\n",
       "  <thead>\n",
       "    <tr style=\"text-align: right;\">\n",
       "      <th></th>\n",
       "      <th>HousingCat</th>\n",
       "      <th>EDUCbin</th>\n",
       "      <th>CIHISPEED</th>\n",
       "      <th>TRANTIME</th>\n",
       "      <th>DrinkingWater</th>\n",
       "      <th>AirQuality</th>\n",
       "      <th>EarlyEd</th>\n",
       "      <th>ProspNeigh</th>\n",
       "    </tr>\n",
       "  </thead>\n",
       "  <tbody>\n",
       "    <tr>\n",
       "      <th>count</th>\n",
       "      <td>1.180785e+06</td>\n",
       "      <td>1.180785e+06</td>\n",
       "      <td>1.180785e+06</td>\n",
       "      <td>1.180785e+06</td>\n",
       "      <td>1.180785e+06</td>\n",
       "      <td>1.180785e+06</td>\n",
       "      <td>1.180785e+06</td>\n",
       "      <td>1.180785e+06</td>\n",
       "    </tr>\n",
       "    <tr>\n",
       "      <th>mean</th>\n",
       "      <td>1.495227e+00</td>\n",
       "      <td>4.688491e-01</td>\n",
       "      <td>1.139179e+01</td>\n",
       "      <td>1.802718e+01</td>\n",
       "      <td>9.943121e-01</td>\n",
       "      <td>3.523099e+01</td>\n",
       "      <td>5.149841e-01</td>\n",
       "      <td>8.171870e-01</td>\n",
       "    </tr>\n",
       "    <tr>\n",
       "      <th>std</th>\n",
       "      <td>7.505296e-01</td>\n",
       "      <td>4.990289e-01</td>\n",
       "      <td>3.461329e+00</td>\n",
       "      <td>2.410094e+01</td>\n",
       "      <td>1.992936e-02</td>\n",
       "      <td>6.126561e+00</td>\n",
       "      <td>8.383225e-02</td>\n",
       "      <td>1.154902e-01</td>\n",
       "    </tr>\n",
       "    <tr>\n",
       "      <th>min</th>\n",
       "      <td>0.000000e+00</td>\n",
       "      <td>0.000000e+00</td>\n",
       "      <td>1.000000e+01</td>\n",
       "      <td>0.000000e+00</td>\n",
       "      <td>8.888183e-01</td>\n",
       "      <td>1.700000e+01</td>\n",
       "      <td>3.260000e-01</td>\n",
       "      <td>3.646189e-01</td>\n",
       "    </tr>\n",
       "    <tr>\n",
       "      <th>25%</th>\n",
       "      <td>1.000000e+00</td>\n",
       "      <td>0.000000e+00</td>\n",
       "      <td>1.000000e+01</td>\n",
       "      <td>0.000000e+00</td>\n",
       "      <td>9.996217e-01</td>\n",
       "      <td>3.000000e+01</td>\n",
       "      <td>4.570000e-01</td>\n",
       "      <td>7.592451e-01</td>\n",
       "    </tr>\n",
       "    <tr>\n",
       "      <th>50%</th>\n",
       "      <td>2.000000e+00</td>\n",
       "      <td>0.000000e+00</td>\n",
       "      <td>1.000000e+01</td>\n",
       "      <td>1.000000e+01</td>\n",
       "      <td>9.999295e-01</td>\n",
       "      <td>3.700000e+01</td>\n",
       "      <td>5.450000e-01</td>\n",
       "      <td>8.183911e-01</td>\n",
       "    </tr>\n",
       "    <tr>\n",
       "      <th>75%</th>\n",
       "      <td>2.000000e+00</td>\n",
       "      <td>1.000000e+00</td>\n",
       "      <td>1.000000e+01</td>\n",
       "      <td>3.000000e+01</td>\n",
       "      <td>1.000000e+00</td>\n",
       "      <td>4.000000e+01</td>\n",
       "      <td>5.540000e-01</td>\n",
       "      <td>8.968348e-01</td>\n",
       "    </tr>\n",
       "    <tr>\n",
       "      <th>max</th>\n",
       "      <td>2.000000e+00</td>\n",
       "      <td>1.000000e+00</td>\n",
       "      <td>2.000000e+01</td>\n",
       "      <td>1.420000e+02</td>\n",
       "      <td>1.000000e+00</td>\n",
       "      <td>4.300000e+01</td>\n",
       "      <td>7.440000e-01</td>\n",
       "      <td>9.960382e-01</td>\n",
       "    </tr>\n",
       "  </tbody>\n",
       "</table>\n",
       "</div>"
      ],
      "text/plain": [
       "         HousingCat       EDUCbin     CIHISPEED      TRANTIME  DrinkingWater  \\\n",
       "count  1.180785e+06  1.180785e+06  1.180785e+06  1.180785e+06   1.180785e+06   \n",
       "mean   1.495227e+00  4.688491e-01  1.139179e+01  1.802718e+01   9.943121e-01   \n",
       "std    7.505296e-01  4.990289e-01  3.461329e+00  2.410094e+01   1.992936e-02   \n",
       "min    0.000000e+00  0.000000e+00  1.000000e+01  0.000000e+00   8.888183e-01   \n",
       "25%    1.000000e+00  0.000000e+00  1.000000e+01  0.000000e+00   9.996217e-01   \n",
       "50%    2.000000e+00  0.000000e+00  1.000000e+01  1.000000e+01   9.999295e-01   \n",
       "75%    2.000000e+00  1.000000e+00  1.000000e+01  3.000000e+01   1.000000e+00   \n",
       "max    2.000000e+00  1.000000e+00  2.000000e+01  1.420000e+02   1.000000e+00   \n",
       "\n",
       "         AirQuality       EarlyEd    ProspNeigh  \n",
       "count  1.180785e+06  1.180785e+06  1.180785e+06  \n",
       "mean   3.523099e+01  5.149841e-01  8.171870e-01  \n",
       "std    6.126561e+00  8.383225e-02  1.154902e-01  \n",
       "min    1.700000e+01  3.260000e-01  3.646189e-01  \n",
       "25%    3.000000e+01  4.570000e-01  7.592451e-01  \n",
       "50%    3.700000e+01  5.450000e-01  8.183911e-01  \n",
       "75%    4.000000e+01  5.540000e-01  8.968348e-01  \n",
       "max    4.300000e+01  7.440000e-01  9.960382e-01  "
      ]
     },
     "execution_count": 29,
     "metadata": {},
     "output_type": "execute_result"
    }
   ],
   "source": [
    "dfXfin = pd.DataFrame(Xfin, columns=['HousingCat','EDUCbin','CIHISPEED','TRANTIME','DrinkingWater','AirQuality','EarlyEd','ProspNeigh'])\n",
    "dfXfin.describe()"
   ]
  },
  {
   "cell_type": "code",
   "execution_count": 30,
   "metadata": {},
   "outputs": [
    {
     "data": {
      "text/plain": [
       "array([[ 1.        ,  1.        , 10.        , ..., 37.        ,\n",
       "         0.554     ,  0.89683482],\n",
       "       [ 1.        ,  0.        , 10.        , ..., 37.        ,\n",
       "         0.554     ,  0.89683482],\n",
       "       [ 2.        ,  1.        , 10.        , ..., 37.        ,\n",
       "         0.554     ,  0.89683482],\n",
       "       ...,\n",
       "       [ 2.        ,  1.        , 10.        , ..., 40.        ,\n",
       "         0.326     ,  0.40503748],\n",
       "       [ 2.        ,  1.        , 10.        , ..., 40.        ,\n",
       "         0.326     ,  0.40503748],\n",
       "       [ 2.        ,  1.        , 10.        , ..., 40.        ,\n",
       "         0.326     ,  0.40503748]])"
      ]
     },
     "execution_count": 30,
     "metadata": {},
     "output_type": "execute_result"
    }
   ],
   "source": [
    "Xfin"
   ]
  },
  {
   "cell_type": "code",
   "execution_count": 31,
   "metadata": {},
   "outputs": [
    {
     "data": {
      "text/html": [
       "<div>\n",
       "<style scoped>\n",
       "    .dataframe tbody tr th:only-of-type {\n",
       "        vertical-align: middle;\n",
       "    }\n",
       "\n",
       "    .dataframe tbody tr th {\n",
       "        vertical-align: top;\n",
       "    }\n",
       "\n",
       "    .dataframe thead th {\n",
       "        text-align: right;\n",
       "    }\n",
       "</style>\n",
       "<table border=\"1\" class=\"dataframe\">\n",
       "  <thead>\n",
       "    <tr style=\"text-align: right;\">\n",
       "      <th></th>\n",
       "      <th>HousingCat</th>\n",
       "      <th>EDUCbin</th>\n",
       "      <th>CIHISPEED</th>\n",
       "      <th>TRANTIME</th>\n",
       "      <th>DrinkingWater</th>\n",
       "      <th>AirQuality</th>\n",
       "      <th>EarlyEd</th>\n",
       "      <th>ProspNeigh</th>\n",
       "    </tr>\n",
       "    <tr>\n",
       "      <th>labels</th>\n",
       "      <th></th>\n",
       "      <th></th>\n",
       "      <th></th>\n",
       "      <th></th>\n",
       "      <th></th>\n",
       "      <th></th>\n",
       "      <th></th>\n",
       "      <th></th>\n",
       "    </tr>\n",
       "  </thead>\n",
       "  <tbody>\n",
       "    <tr>\n",
       "      <th>0</th>\n",
       "      <td>1.431241</td>\n",
       "      <td>0.310862</td>\n",
       "      <td>11.605861</td>\n",
       "      <td>17.875157</td>\n",
       "      <td>0.998381</td>\n",
       "      <td>38.868787</td>\n",
       "      <td>0.496988</td>\n",
       "      <td>0.773319</td>\n",
       "    </tr>\n",
       "    <tr>\n",
       "      <th>1</th>\n",
       "      <td>1.537159</td>\n",
       "      <td>0.307743</td>\n",
       "      <td>12.447006</td>\n",
       "      <td>14.108426</td>\n",
       "      <td>0.914040</td>\n",
       "      <td>36.808718</td>\n",
       "      <td>0.380446</td>\n",
       "      <td>0.628615</td>\n",
       "    </tr>\n",
       "    <tr>\n",
       "      <th>2</th>\n",
       "      <td>1.583582</td>\n",
       "      <td>0.724255</td>\n",
       "      <td>10.927895</td>\n",
       "      <td>18.802775</td>\n",
       "      <td>0.999618</td>\n",
       "      <td>29.650148</td>\n",
       "      <td>0.560433</td>\n",
       "      <td>0.908354</td>\n",
       "    </tr>\n",
       "  </tbody>\n",
       "</table>\n",
       "</div>"
      ],
      "text/plain": [
       "        HousingCat   EDUCbin  CIHISPEED   TRANTIME  DrinkingWater  AirQuality  \\\n",
       "labels                                                                          \n",
       "0         1.431241  0.310862  11.605861  17.875157       0.998381   38.868787   \n",
       "1         1.537159  0.307743  12.447006  14.108426       0.914040   36.808718   \n",
       "2         1.583582  0.724255  10.927895  18.802775       0.999618   29.650148   \n",
       "\n",
       "         EarlyEd  ProspNeigh  \n",
       "labels                        \n",
       "0       0.496988    0.773319  \n",
       "1       0.380446    0.628615  \n",
       "2       0.560433    0.908354  "
      ]
     },
     "execution_count": 31,
     "metadata": {},
     "output_type": "execute_result"
    }
   ],
   "source": [
    "dfXfin['labels'] = kmeans.labels_\n",
    "cluster_sum = dfXfin.groupby(by = 'labels').mean()\n",
    "cluster_sum.head(7)"
   ]
  },
  {
   "cell_type": "code",
   "execution_count": 32,
   "metadata": {},
   "outputs": [],
   "source": [
    "clust0 = dfXfin[dfXfin['labels']==0]\n",
    "clust1 = dfXfin[dfXfin['labels']==1]\n",
    "clust2 = dfXfin[dfXfin['labels']==2]\n",
    "# clust3 = dfXfin[dfXfin['labels']==3]\n",
    "# clust4 = dfXfin[dfXfin['labels']==4]\n",
    "# clust5 = dfXfin[dfXfin['labels']==5]\n",
    "# clust6 = dfXfin[dfXfin['labels']==6]"
   ]
  },
  {
   "cell_type": "code",
   "execution_count": 33,
   "metadata": {
    "scrolled": true
   },
   "outputs": [],
   "source": [
    "# import scikit_posthocs as sp\n",
    "# sp.posthoc_dunn(Xfin,p_adjust = 'bonferroni')"
   ]
  },
  {
   "cell_type": "markdown",
   "metadata": {},
   "source": [
    "## Cluster 0"
   ]
  },
  {
   "cell_type": "code",
   "execution_count": 34,
   "metadata": {},
   "outputs": [
    {
     "data": {
      "text/html": [
       "<div>\n",
       "<style scoped>\n",
       "    .dataframe tbody tr th:only-of-type {\n",
       "        vertical-align: middle;\n",
       "    }\n",
       "\n",
       "    .dataframe tbody tr th {\n",
       "        vertical-align: top;\n",
       "    }\n",
       "\n",
       "    .dataframe thead th {\n",
       "        text-align: right;\n",
       "    }\n",
       "</style>\n",
       "<table border=\"1\" class=\"dataframe\">\n",
       "  <thead>\n",
       "    <tr style=\"text-align: right;\">\n",
       "      <th></th>\n",
       "      <th>HousingCat</th>\n",
       "      <th>EDUCbin</th>\n",
       "      <th>CIHISPEED</th>\n",
       "      <th>TRANTIME</th>\n",
       "      <th>DrinkingWater</th>\n",
       "      <th>AirQuality</th>\n",
       "      <th>EarlyEd</th>\n",
       "      <th>ProspNeigh</th>\n",
       "      <th>labels</th>\n",
       "    </tr>\n",
       "  </thead>\n",
       "  <tbody>\n",
       "    <tr>\n",
       "      <th>count</th>\n",
       "      <td>665450.000000</td>\n",
       "      <td>665450.000000</td>\n",
       "      <td>665450.000000</td>\n",
       "      <td>665450.000000</td>\n",
       "      <td>665450.000000</td>\n",
       "      <td>665450.000000</td>\n",
       "      <td>665450.000000</td>\n",
       "      <td>665450.000000</td>\n",
       "      <td>665450.0</td>\n",
       "    </tr>\n",
       "    <tr>\n",
       "      <th>mean</th>\n",
       "      <td>1.431241</td>\n",
       "      <td>0.310862</td>\n",
       "      <td>11.605861</td>\n",
       "      <td>17.875157</td>\n",
       "      <td>0.998381</td>\n",
       "      <td>38.868787</td>\n",
       "      <td>0.496988</td>\n",
       "      <td>0.773319</td>\n",
       "      <td>0.0</td>\n",
       "    </tr>\n",
       "    <tr>\n",
       "      <th>std</th>\n",
       "      <td>0.787109</td>\n",
       "      <td>0.462847</td>\n",
       "      <td>3.671490</td>\n",
       "      <td>24.229254</td>\n",
       "      <td>0.005619</td>\n",
       "      <td>3.659450</td>\n",
       "      <td>0.070067</td>\n",
       "      <td>0.079173</td>\n",
       "      <td>0.0</td>\n",
       "    </tr>\n",
       "    <tr>\n",
       "      <th>min</th>\n",
       "      <td>0.000000</td>\n",
       "      <td>0.000000</td>\n",
       "      <td>10.000000</td>\n",
       "      <td>0.000000</td>\n",
       "      <td>0.964234</td>\n",
       "      <td>26.000000</td>\n",
       "      <td>0.351000</td>\n",
       "      <td>0.506095</td>\n",
       "      <td>0.0</td>\n",
       "    </tr>\n",
       "    <tr>\n",
       "      <th>25%</th>\n",
       "      <td>1.000000</td>\n",
       "      <td>0.000000</td>\n",
       "      <td>10.000000</td>\n",
       "      <td>0.000000</td>\n",
       "      <td>0.999622</td>\n",
       "      <td>37.000000</td>\n",
       "      <td>0.440000</td>\n",
       "      <td>0.759245</td>\n",
       "      <td>0.0</td>\n",
       "    </tr>\n",
       "    <tr>\n",
       "      <th>50%</th>\n",
       "      <td>2.000000</td>\n",
       "      <td>0.000000</td>\n",
       "      <td>10.000000</td>\n",
       "      <td>10.000000</td>\n",
       "      <td>0.999622</td>\n",
       "      <td>40.000000</td>\n",
       "      <td>0.545000</td>\n",
       "      <td>0.759245</td>\n",
       "      <td>0.0</td>\n",
       "    </tr>\n",
       "    <tr>\n",
       "      <th>75%</th>\n",
       "      <td>2.000000</td>\n",
       "      <td>1.000000</td>\n",
       "      <td>10.000000</td>\n",
       "      <td>30.000000</td>\n",
       "      <td>0.999930</td>\n",
       "      <td>40.000000</td>\n",
       "      <td>0.545000</td>\n",
       "      <td>0.818391</td>\n",
       "      <td>0.0</td>\n",
       "    </tr>\n",
       "    <tr>\n",
       "      <th>max</th>\n",
       "      <td>2.000000</td>\n",
       "      <td>1.000000</td>\n",
       "      <td>20.000000</td>\n",
       "      <td>142.000000</td>\n",
       "      <td>1.000000</td>\n",
       "      <td>43.000000</td>\n",
       "      <td>0.558000</td>\n",
       "      <td>0.975044</td>\n",
       "      <td>0.0</td>\n",
       "    </tr>\n",
       "  </tbody>\n",
       "</table>\n",
       "</div>"
      ],
      "text/plain": [
       "          HousingCat        EDUCbin      CIHISPEED       TRANTIME  \\\n",
       "count  665450.000000  665450.000000  665450.000000  665450.000000   \n",
       "mean        1.431241       0.310862      11.605861      17.875157   \n",
       "std         0.787109       0.462847       3.671490      24.229254   \n",
       "min         0.000000       0.000000      10.000000       0.000000   \n",
       "25%         1.000000       0.000000      10.000000       0.000000   \n",
       "50%         2.000000       0.000000      10.000000      10.000000   \n",
       "75%         2.000000       1.000000      10.000000      30.000000   \n",
       "max         2.000000       1.000000      20.000000     142.000000   \n",
       "\n",
       "       DrinkingWater     AirQuality        EarlyEd     ProspNeigh    labels  \n",
       "count  665450.000000  665450.000000  665450.000000  665450.000000  665450.0  \n",
       "mean        0.998381      38.868787       0.496988       0.773319       0.0  \n",
       "std         0.005619       3.659450       0.070067       0.079173       0.0  \n",
       "min         0.964234      26.000000       0.351000       0.506095       0.0  \n",
       "25%         0.999622      37.000000       0.440000       0.759245       0.0  \n",
       "50%         0.999622      40.000000       0.545000       0.759245       0.0  \n",
       "75%         0.999930      40.000000       0.545000       0.818391       0.0  \n",
       "max         1.000000      43.000000       0.558000       0.975044       0.0  "
      ]
     },
     "execution_count": 34,
     "metadata": {},
     "output_type": "execute_result"
    }
   ],
   "source": [
    "clust0.describe()"
   ]
  },
  {
   "cell_type": "code",
   "execution_count": 35,
   "metadata": {},
   "outputs": [
    {
     "data": {
      "text/plain": [
       "(array([3.55806e+05, 1.30420e+05, 8.89320e+04, 3.71140e+04, 3.07700e+04,\n",
       "        4.96400e+03, 9.04700e+03, 1.24900e+03, 8.20000e+01, 7.06600e+03]),\n",
       " array([  0. ,  14.2,  28.4,  42.6,  56.8,  71. ,  85.2,  99.4, 113.6,\n",
       "        127.8, 142. ]),\n",
       " <a list of 10 Patch objects>)"
      ]
     },
     "execution_count": 35,
     "metadata": {},
     "output_type": "execute_result"
    },
    {
     "data": {
      "image/png": "[encoded data removed]",
      "text/plain": [
       "<Figure size 432x288 with 1 Axes>"
      ]
     },
     "metadata": {
      "needs_background": "light"
     },
     "output_type": "display_data"
    }
   ],
   "source": [
    "matplotlib.pyplot.hist(clust0['TRANTIME'])"
   ]
  },
  {
   "cell_type": "code",
   "execution_count": 36,
   "metadata": {},
   "outputs": [
    {
     "data": {
      "text/plain": [
       "(array([3.24700e+03, 3.69000e+04, 0.00000e+00, 1.61870e+04, 2.67000e+02,\n",
       "        5.81820e+04, 9.41020e+04, 0.00000e+00, 3.29996e+05, 1.26569e+05]),\n",
       " array([26. , 27.7, 29.4, 31.1, 32.8, 34.5, 36.2, 37.9, 39.6, 41.3, 43. ]),\n",
       " <a list of 10 Patch objects>)"
      ]
     },
     "execution_count": 36,
     "metadata": {},
     "output_type": "execute_result"
    },
    {
     "data": {
      "image/png": "[encoded data removed]",
      "text/plain": [
       "<Figure size 432x288 with 1 Axes>"
      ]
     },
     "metadata": {
      "needs_background": "light"
     },
     "output_type": "display_data"
    }
   ],
   "source": [
    "matplotlib.pyplot.hist(clust0['AirQuality'])"
   ]
  },
  {
   "cell_type": "code",
   "execution_count": 37,
   "metadata": {},
   "outputs": [
    {
     "data": {
      "text/plain": [
       "2.0    411497\n",
       "1.0    129425\n",
       "0.0    124528\n",
       "Name: HousingCat, dtype: int64"
      ]
     },
     "execution_count": 37,
     "metadata": {},
     "output_type": "execute_result"
    }
   ],
   "source": [
    "clust0['HousingCat'].value_counts()"
   ]
  },
  {
   "cell_type": "markdown",
   "metadata": {},
   "source": [
    "## Cluster 1"
   ]
  },
  {
   "cell_type": "code",
   "execution_count": 38,
   "metadata": {},
   "outputs": [
    {
     "data": {
      "text/html": [
       "<div>\n",
       "<style scoped>\n",
       "    .dataframe tbody tr th:only-of-type {\n",
       "        vertical-align: middle;\n",
       "    }\n",
       "\n",
       "    .dataframe tbody tr th {\n",
       "        vertical-align: top;\n",
       "    }\n",
       "\n",
       "    .dataframe thead th {\n",
       "        text-align: right;\n",
       "    }\n",
       "</style>\n",
       "<table border=\"1\" class=\"dataframe\">\n",
       "  <thead>\n",
       "    <tr style=\"text-align: right;\">\n",
       "      <th></th>\n",
       "      <th>HousingCat</th>\n",
       "      <th>EDUCbin</th>\n",
       "      <th>CIHISPEED</th>\n",
       "      <th>TRANTIME</th>\n",
       "      <th>DrinkingWater</th>\n",
       "      <th>AirQuality</th>\n",
       "      <th>EarlyEd</th>\n",
       "      <th>ProspNeigh</th>\n",
       "      <th>labels</th>\n",
       "    </tr>\n",
       "  </thead>\n",
       "  <tbody>\n",
       "    <tr>\n",
       "      <th>count</th>\n",
       "      <td>63592.000000</td>\n",
       "      <td>63592.000000</td>\n",
       "      <td>63592.000000</td>\n",
       "      <td>63592.000000</td>\n",
       "      <td>63592.000000</td>\n",
       "      <td>63592.000000</td>\n",
       "      <td>63592.000000</td>\n",
       "      <td>63592.000000</td>\n",
       "      <td>63592.0</td>\n",
       "    </tr>\n",
       "    <tr>\n",
       "      <th>mean</th>\n",
       "      <td>1.537159</td>\n",
       "      <td>0.307743</td>\n",
       "      <td>12.447006</td>\n",
       "      <td>14.108426</td>\n",
       "      <td>0.914040</td>\n",
       "      <td>36.808718</td>\n",
       "      <td>0.380446</td>\n",
       "      <td>0.628615</td>\n",
       "      <td>1.0</td>\n",
       "    </tr>\n",
       "    <tr>\n",
       "      <th>std</th>\n",
       "      <td>0.720487</td>\n",
       "      <td>0.461563</td>\n",
       "      <td>4.299129</td>\n",
       "      <td>23.024460</td>\n",
       "      <td>0.011947</td>\n",
       "      <td>4.645156</td>\n",
       "      <td>0.056385</td>\n",
       "      <td>0.189324</td>\n",
       "      <td>0.0</td>\n",
       "    </tr>\n",
       "    <tr>\n",
       "      <th>min</th>\n",
       "      <td>0.000000</td>\n",
       "      <td>0.000000</td>\n",
       "      <td>10.000000</td>\n",
       "      <td>0.000000</td>\n",
       "      <td>0.888818</td>\n",
       "      <td>25.000000</td>\n",
       "      <td>0.326000</td>\n",
       "      <td>0.364619</td>\n",
       "      <td>1.0</td>\n",
       "    </tr>\n",
       "    <tr>\n",
       "      <th>25%</th>\n",
       "      <td>1.000000</td>\n",
       "      <td>0.000000</td>\n",
       "      <td>10.000000</td>\n",
       "      <td>0.000000</td>\n",
       "      <td>0.916417</td>\n",
       "      <td>35.000000</td>\n",
       "      <td>0.336000</td>\n",
       "      <td>0.548841</td>\n",
       "      <td>1.0</td>\n",
       "    </tr>\n",
       "    <tr>\n",
       "      <th>50%</th>\n",
       "      <td>2.000000</td>\n",
       "      <td>0.000000</td>\n",
       "      <td>10.000000</td>\n",
       "      <td>5.000000</td>\n",
       "      <td>0.916609</td>\n",
       "      <td>38.000000</td>\n",
       "      <td>0.336000</td>\n",
       "      <td>0.548841</td>\n",
       "      <td>1.0</td>\n",
       "    </tr>\n",
       "    <tr>\n",
       "      <th>75%</th>\n",
       "      <td>2.000000</td>\n",
       "      <td>1.000000</td>\n",
       "      <td>10.000000</td>\n",
       "      <td>20.000000</td>\n",
       "      <td>0.919018</td>\n",
       "      <td>41.000000</td>\n",
       "      <td>0.421000</td>\n",
       "      <td>0.823759</td>\n",
       "      <td>1.0</td>\n",
       "    </tr>\n",
       "    <tr>\n",
       "      <th>max</th>\n",
       "      <td>2.000000</td>\n",
       "      <td>1.000000</td>\n",
       "      <td>20.000000</td>\n",
       "      <td>142.000000</td>\n",
       "      <td>0.924825</td>\n",
       "      <td>41.000000</td>\n",
       "      <td>0.506000</td>\n",
       "      <td>0.994578</td>\n",
       "      <td>1.0</td>\n",
       "    </tr>\n",
       "  </tbody>\n",
       "</table>\n",
       "</div>"
      ],
      "text/plain": [
       "         HousingCat       EDUCbin     CIHISPEED      TRANTIME  DrinkingWater  \\\n",
       "count  63592.000000  63592.000000  63592.000000  63592.000000   63592.000000   \n",
       "mean       1.537159      0.307743     12.447006     14.108426       0.914040   \n",
       "std        0.720487      0.461563      4.299129     23.024460       0.011947   \n",
       "min        0.000000      0.000000     10.000000      0.000000       0.888818   \n",
       "25%        1.000000      0.000000     10.000000      0.000000       0.916417   \n",
       "50%        2.000000      0.000000     10.000000      5.000000       0.916609   \n",
       "75%        2.000000      1.000000     10.000000     20.000000       0.919018   \n",
       "max        2.000000      1.000000     20.000000    142.000000       0.924825   \n",
       "\n",
       "         AirQuality       EarlyEd    ProspNeigh   labels  \n",
       "count  63592.000000  63592.000000  63592.000000  63592.0  \n",
       "mean      36.808718      0.380446      0.628615      1.0  \n",
       "std        4.645156      0.056385      0.189324      0.0  \n",
       "min       25.000000      0.326000      0.364619      1.0  \n",
       "25%       35.000000      0.336000      0.548841      1.0  \n",
       "50%       38.000000      0.336000      0.548841      1.0  \n",
       "75%       41.000000      0.421000      0.823759      1.0  \n",
       "max       41.000000      0.506000      0.994578      1.0  "
      ]
     },
     "execution_count": 38,
     "metadata": {},
     "output_type": "execute_result"
    }
   ],
   "source": [
    "clust1.describe()"
   ]
  },
  {
   "cell_type": "code",
   "execution_count": 39,
   "metadata": {},
   "outputs": [
    {
     "data": {
      "text/plain": [
       "(array([3.9949e+04, 1.2782e+04, 5.4740e+03, 2.1220e+03, 1.3700e+03,\n",
       "        3.1000e+02, 5.6400e+02, 1.3500e+02, 8.0000e+00, 8.7800e+02]),\n",
       " array([  0. ,  14.2,  28.4,  42.6,  56.8,  71. ,  85.2,  99.4, 113.6,\n",
       "        127.8, 142. ]),\n",
       " <a list of 10 Patch objects>)"
      ]
     },
     "execution_count": 39,
     "metadata": {},
     "output_type": "execute_result"
    },
    {
     "data": {
      "image/png": "[encoded data removed]",
      "text/plain": [
       "<Figure size 432x288 with 1 Axes>"
      ]
     },
     "metadata": {
      "needs_background": "light"
     },
     "output_type": "display_data"
    }
   ],
   "source": [
    "matplotlib.pyplot.hist(clust1['TRANTIME'])"
   ]
  },
  {
   "cell_type": "code",
   "execution_count": 40,
   "metadata": {},
   "outputs": [
    {
     "data": {
      "text/plain": [
       "(array([ 5950.,     0.,     0.,     0.,     0.,  3473., 20930.,     0.,\n",
       "         3491., 29748.]),\n",
       " array([25. , 26.6, 28.2, 29.8, 31.4, 33. , 34.6, 36.2, 37.8, 39.4, 41. ]),\n",
       " <a list of 10 Patch objects>)"
      ]
     },
     "execution_count": 40,
     "metadata": {},
     "output_type": "execute_result"
    },
    {
     "data": {
      "image/png": "[encoded data removed]",
      "text/plain": [
       "<Figure size 432x288 with 1 Axes>"
      ]
     },
     "metadata": {
      "needs_background": "light"
     },
     "output_type": "display_data"
    }
   ],
   "source": [
    "matplotlib.pyplot.hist(clust1['AirQuality'])"
   ]
  },
  {
   "cell_type": "code",
   "execution_count": 41,
   "metadata": {},
   "outputs": [
    {
     "data": {
      "text/plain": [
       "2.0    42759\n",
       "1.0    12233\n",
       "0.0     8600\n",
       "Name: HousingCat, dtype: int64"
      ]
     },
     "execution_count": 41,
     "metadata": {},
     "output_type": "execute_result"
    }
   ],
   "source": [
    "clust1['HousingCat'].value_counts()"
   ]
  },
  {
   "cell_type": "markdown",
   "metadata": {},
   "source": [
    "## Cluster 2"
   ]
  },
  {
   "cell_type": "code",
   "execution_count": 42,
   "metadata": {},
   "outputs": [
    {
     "data": {
      "text/html": [
       "<div>\n",
       "<style scoped>\n",
       "    .dataframe tbody tr th:only-of-type {\n",
       "        vertical-align: middle;\n",
       "    }\n",
       "\n",
       "    .dataframe tbody tr th {\n",
       "        vertical-align: top;\n",
       "    }\n",
       "\n",
       "    .dataframe thead th {\n",
       "        text-align: right;\n",
       "    }\n",
       "</style>\n",
       "<table border=\"1\" class=\"dataframe\">\n",
       "  <thead>\n",
       "    <tr style=\"text-align: right;\">\n",
       "      <th></th>\n",
       "      <th>HousingCat</th>\n",
       "      <th>EDUCbin</th>\n",
       "      <th>CIHISPEED</th>\n",
       "      <th>TRANTIME</th>\n",
       "      <th>DrinkingWater</th>\n",
       "      <th>AirQuality</th>\n",
       "      <th>EarlyEd</th>\n",
       "      <th>ProspNeigh</th>\n",
       "      <th>labels</th>\n",
       "    </tr>\n",
       "  </thead>\n",
       "  <tbody>\n",
       "    <tr>\n",
       "      <th>count</th>\n",
       "      <td>451743.000000</td>\n",
       "      <td>451743.000000</td>\n",
       "      <td>451743.000000</td>\n",
       "      <td>451743.000000</td>\n",
       "      <td>451743.000000</td>\n",
       "      <td>451743.000000</td>\n",
       "      <td>451743.000000</td>\n",
       "      <td>451743.000000</td>\n",
       "      <td>451743.0</td>\n",
       "    </tr>\n",
       "    <tr>\n",
       "      <th>mean</th>\n",
       "      <td>1.583582</td>\n",
       "      <td>0.724255</td>\n",
       "      <td>10.927895</td>\n",
       "      <td>18.802775</td>\n",
       "      <td>0.999618</td>\n",
       "      <td>29.650148</td>\n",
       "      <td>0.560433</td>\n",
       "      <td>0.908354</td>\n",
       "      <td>2.0</td>\n",
       "    </tr>\n",
       "    <tr>\n",
       "      <th>std</th>\n",
       "      <td>0.687444</td>\n",
       "      <td>0.446890</td>\n",
       "      <td>2.901375</td>\n",
       "      <td>24.001394</td>\n",
       "      <td>0.003456</td>\n",
       "      <td>4.935135</td>\n",
       "      <td>0.074830</td>\n",
       "      <td>0.066574</td>\n",
       "      <td>0.0</td>\n",
       "    </tr>\n",
       "    <tr>\n",
       "      <th>min</th>\n",
       "      <td>0.000000</td>\n",
       "      <td>0.000000</td>\n",
       "      <td>10.000000</td>\n",
       "      <td>0.000000</td>\n",
       "      <td>0.964234</td>\n",
       "      <td>17.000000</td>\n",
       "      <td>0.415000</td>\n",
       "      <td>0.608371</td>\n",
       "      <td>2.0</td>\n",
       "    </tr>\n",
       "    <tr>\n",
       "      <th>25%</th>\n",
       "      <td>1.000000</td>\n",
       "      <td>0.000000</td>\n",
       "      <td>10.000000</td>\n",
       "      <td>0.000000</td>\n",
       "      <td>0.999998</td>\n",
       "      <td>27.000000</td>\n",
       "      <td>0.513000</td>\n",
       "      <td>0.885916</td>\n",
       "      <td>2.0</td>\n",
       "    </tr>\n",
       "    <tr>\n",
       "      <th>50%</th>\n",
       "      <td>2.000000</td>\n",
       "      <td>1.000000</td>\n",
       "      <td>10.000000</td>\n",
       "      <td>12.000000</td>\n",
       "      <td>1.000000</td>\n",
       "      <td>28.000000</td>\n",
       "      <td>0.554000</td>\n",
       "      <td>0.900075</td>\n",
       "      <td>2.0</td>\n",
       "    </tr>\n",
       "    <tr>\n",
       "      <th>75%</th>\n",
       "      <td>2.000000</td>\n",
       "      <td>1.000000</td>\n",
       "      <td>10.000000</td>\n",
       "      <td>30.000000</td>\n",
       "      <td>1.000000</td>\n",
       "      <td>36.000000</td>\n",
       "      <td>0.607000</td>\n",
       "      <td>0.969714</td>\n",
       "      <td>2.0</td>\n",
       "    </tr>\n",
       "    <tr>\n",
       "      <th>max</th>\n",
       "      <td>2.000000</td>\n",
       "      <td>1.000000</td>\n",
       "      <td>20.000000</td>\n",
       "      <td>142.000000</td>\n",
       "      <td>1.000000</td>\n",
       "      <td>37.000000</td>\n",
       "      <td>0.744000</td>\n",
       "      <td>0.996038</td>\n",
       "      <td>2.0</td>\n",
       "    </tr>\n",
       "  </tbody>\n",
       "</table>\n",
       "</div>"
      ],
      "text/plain": [
       "          HousingCat        EDUCbin      CIHISPEED       TRANTIME  \\\n",
       "count  451743.000000  451743.000000  451743.000000  451743.000000   \n",
       "mean        1.583582       0.724255      10.927895      18.802775   \n",
       "std         0.687444       0.446890       2.901375      24.001394   \n",
       "min         0.000000       0.000000      10.000000       0.000000   \n",
       "25%         1.000000       0.000000      10.000000       0.000000   \n",
       "50%         2.000000       1.000000      10.000000      12.000000   \n",
       "75%         2.000000       1.000000      10.000000      30.000000   \n",
       "max         2.000000       1.000000      20.000000     142.000000   \n",
       "\n",
       "       DrinkingWater     AirQuality        EarlyEd     ProspNeigh    labels  \n",
       "count  451743.000000  451743.000000  451743.000000  451743.000000  451743.0  \n",
       "mean        0.999618      29.650148       0.560433       0.908354       2.0  \n",
       "std         0.003456       4.935135       0.074830       0.066574       0.0  \n",
       "min         0.964234      17.000000       0.415000       0.608371       2.0  \n",
       "25%         0.999998      27.000000       0.513000       0.885916       2.0  \n",
       "50%         1.000000      28.000000       0.554000       0.900075       2.0  \n",
       "75%         1.000000      36.000000       0.607000       0.969714       2.0  \n",
       "max         1.000000      37.000000       0.744000       0.996038       2.0  "
      ]
     },
     "execution_count": 42,
     "metadata": {},
     "output_type": "execute_result"
    }
   ],
   "source": [
    "clust2.describe()"
   ]
  },
  {
   "cell_type": "code",
   "execution_count": 43,
   "metadata": {},
   "outputs": [
    {
     "data": {
      "text/plain": [
       "(array([2.29214e+05, 9.37600e+04, 6.33710e+04, 2.90180e+04, 2.07090e+04,\n",
       "        4.34500e+03, 6.01200e+03, 1.11200e+03, 3.60000e+01, 4.16600e+03]),\n",
       " array([  0. ,  14.2,  28.4,  42.6,  56.8,  71. ,  85.2,  99.4, 113.6,\n",
       "        127.8, 142. ]),\n",
       " <a list of 10 Patch objects>)"
      ]
     },
     "execution_count": 43,
     "metadata": {},
     "output_type": "execute_result"
    },
    {
     "data": {
      "image/png": "[encoded data removed]",
      "text/plain": [
       "<Figure size 432x288 with 1 Axes>"
      ]
     },
     "metadata": {
      "needs_background": "light"
     },
     "output_type": "display_data"
    }
   ],
   "source": [
    "matplotlib.pyplot.hist(clust2['TRANTIME'])"
   ]
  },
  {
   "cell_type": "code",
   "execution_count": 44,
   "metadata": {},
   "outputs": [
    {
     "data": {
      "text/plain": [
       "(array([ 16919.,      0.,      0.,  43236.,  46349., 127388.,  80659.,\n",
       "         10294.,  13352., 113546.]),\n",
       " array([17., 19., 21., 23., 25., 27., 29., 31., 33., 35., 37.]),\n",
       " <a list of 10 Patch objects>)"
      ]
     },
     "execution_count": 44,
     "metadata": {},
     "output_type": "execute_result"
    },
    {
     "data": {
      "image/png": "[encoded data removed]",
      "text/plain": [
       "<Figure size 432x288 with 1 Axes>"
      ]
     },
     "metadata": {
      "needs_background": "light"
     },
     "output_type": "display_data"
    }
   ],
   "source": [
    "matplotlib.pyplot.hist(clust2['AirQuality'])"
   ]
  },
  {
   "cell_type": "code",
   "execution_count": 68,
   "metadata": {
    "scrolled": true
   },
   "outputs": [
    {
     "data": {
      "text/plain": [
       "2.0    177299\n",
       "1.0     54011\n",
       "0.0     29214\n",
       "Name: HousingCat, dtype: int64"
      ]
     },
     "execution_count": 68,
     "metadata": {},
     "output_type": "execute_result"
    }
   ],
   "source": [
    "clust2['HousingCat'].value_counts()"
   ]
  },
  {
   "cell_type": "markdown",
   "metadata": {},
   "source": [
    "## Cluster 3"
   ]
  },
  {
   "cell_type": "code",
   "execution_count": 69,
   "metadata": {},
   "outputs": [
    {
     "data": {
      "text/html": [
       "<div>\n",
       "<style scoped>\n",
       "    .dataframe tbody tr th:only-of-type {\n",
       "        vertical-align: middle;\n",
       "    }\n",
       "\n",
       "    .dataframe tbody tr th {\n",
       "        vertical-align: top;\n",
       "    }\n",
       "\n",
       "    .dataframe thead th {\n",
       "        text-align: right;\n",
       "    }\n",
       "</style>\n",
       "<table border=\"1\" class=\"dataframe\">\n",
       "  <thead>\n",
       "    <tr style=\"text-align: right;\">\n",
       "      <th></th>\n",
       "      <th>HousingCat</th>\n",
       "      <th>EDUCbin</th>\n",
       "      <th>CIHISPEED</th>\n",
       "      <th>TRANTIME</th>\n",
       "      <th>DrinkingWater</th>\n",
       "      <th>AirQuality</th>\n",
       "      <th>EarlyEd</th>\n",
       "      <th>ProspNeigh</th>\n",
       "      <th>labels</th>\n",
       "    </tr>\n",
       "  </thead>\n",
       "  <tbody>\n",
       "    <tr>\n",
       "      <th>count</th>\n",
       "      <td>317927.000000</td>\n",
       "      <td>317927.0</td>\n",
       "      <td>317927.0</td>\n",
       "      <td>317927.000000</td>\n",
       "      <td>317927.000000</td>\n",
       "      <td>317927.000000</td>\n",
       "      <td>317927.000000</td>\n",
       "      <td>317927.000000</td>\n",
       "      <td>317927.0</td>\n",
       "    </tr>\n",
       "    <tr>\n",
       "      <th>mean</th>\n",
       "      <td>1.588748</td>\n",
       "      <td>1.0</td>\n",
       "      <td>10.0</td>\n",
       "      <td>19.656906</td>\n",
       "      <td>0.998869</td>\n",
       "      <td>37.966914</td>\n",
       "      <td>0.508506</td>\n",
       "      <td>0.795337</td>\n",
       "      <td>3.0</td>\n",
       "    </tr>\n",
       "    <tr>\n",
       "      <th>std</th>\n",
       "      <td>0.688067</td>\n",
       "      <td>0.0</td>\n",
       "      <td>0.0</td>\n",
       "      <td>24.133519</td>\n",
       "      <td>0.004798</td>\n",
       "      <td>3.807193</td>\n",
       "      <td>0.060721</td>\n",
       "      <td>0.083209</td>\n",
       "      <td>0.0</td>\n",
       "    </tr>\n",
       "    <tr>\n",
       "      <th>min</th>\n",
       "      <td>0.000000</td>\n",
       "      <td>1.0</td>\n",
       "      <td>10.0</td>\n",
       "      <td>0.000000</td>\n",
       "      <td>0.964234</td>\n",
       "      <td>26.000000</td>\n",
       "      <td>0.351000</td>\n",
       "      <td>0.506095</td>\n",
       "      <td>3.0</td>\n",
       "    </tr>\n",
       "    <tr>\n",
       "      <th>25%</th>\n",
       "      <td>1.000000</td>\n",
       "      <td>1.0</td>\n",
       "      <td>10.0</td>\n",
       "      <td>0.000000</td>\n",
       "      <td>0.999622</td>\n",
       "      <td>36.000000</td>\n",
       "      <td>0.513000</td>\n",
       "      <td>0.759245</td>\n",
       "      <td>3.0</td>\n",
       "    </tr>\n",
       "    <tr>\n",
       "      <th>50%</th>\n",
       "      <td>2.000000</td>\n",
       "      <td>1.0</td>\n",
       "      <td>10.0</td>\n",
       "      <td>15.000000</td>\n",
       "      <td>0.999622</td>\n",
       "      <td>40.000000</td>\n",
       "      <td>0.545000</td>\n",
       "      <td>0.759245</td>\n",
       "      <td>3.0</td>\n",
       "    </tr>\n",
       "    <tr>\n",
       "      <th>75%</th>\n",
       "      <td>2.000000</td>\n",
       "      <td>1.0</td>\n",
       "      <td>10.0</td>\n",
       "      <td>30.000000</td>\n",
       "      <td>0.999999</td>\n",
       "      <td>40.000000</td>\n",
       "      <td>0.545000</td>\n",
       "      <td>0.872352</td>\n",
       "      <td>3.0</td>\n",
       "    </tr>\n",
       "    <tr>\n",
       "      <th>max</th>\n",
       "      <td>2.000000</td>\n",
       "      <td>1.0</td>\n",
       "      <td>10.0</td>\n",
       "      <td>142.000000</td>\n",
       "      <td>1.000000</td>\n",
       "      <td>43.000000</td>\n",
       "      <td>0.558000</td>\n",
       "      <td>0.938336</td>\n",
       "      <td>3.0</td>\n",
       "    </tr>\n",
       "  </tbody>\n",
       "</table>\n",
       "</div>"
      ],
      "text/plain": [
       "          HousingCat   EDUCbin  CIHISPEED       TRANTIME  DrinkingWater  \\\n",
       "count  317927.000000  317927.0   317927.0  317927.000000  317927.000000   \n",
       "mean        1.588748       1.0       10.0      19.656906       0.998869   \n",
       "std         0.688067       0.0        0.0      24.133519       0.004798   \n",
       "min         0.000000       1.0       10.0       0.000000       0.964234   \n",
       "25%         1.000000       1.0       10.0       0.000000       0.999622   \n",
       "50%         2.000000       1.0       10.0      15.000000       0.999622   \n",
       "75%         2.000000       1.0       10.0      30.000000       0.999999   \n",
       "max         2.000000       1.0       10.0     142.000000       1.000000   \n",
       "\n",
       "          AirQuality        EarlyEd     ProspNeigh    labels  \n",
       "count  317927.000000  317927.000000  317927.000000  317927.0  \n",
       "mean       37.966914       0.508506       0.795337       3.0  \n",
       "std         3.807193       0.060721       0.083209       0.0  \n",
       "min        26.000000       0.351000       0.506095       3.0  \n",
       "25%        36.000000       0.513000       0.759245       3.0  \n",
       "50%        40.000000       0.545000       0.759245       3.0  \n",
       "75%        40.000000       0.545000       0.872352       3.0  \n",
       "max        43.000000       0.558000       0.938336       3.0  "
      ]
     },
     "execution_count": 69,
     "metadata": {},
     "output_type": "execute_result"
    }
   ],
   "source": [
    "clust3.describe()"
   ]
  },
  {
   "cell_type": "code",
   "execution_count": 70,
   "metadata": {},
   "outputs": [
    {
     "data": {
      "text/plain": [
       "(array([1.53068e+05, 7.00320e+04, 4.71920e+04, 2.12930e+04, 1.51330e+04,\n",
       "        2.99000e+03, 4.32200e+03, 7.07000e+02, 3.50000e+01, 3.15500e+03]),\n",
       " array([  0. ,  14.2,  28.4,  42.6,  56.8,  71. ,  85.2,  99.4, 113.6,\n",
       "        127.8, 142. ]),\n",
       " <a list of 10 Patch objects>)"
      ]
     },
     "execution_count": 70,
     "metadata": {},
     "output_type": "execute_result"
    },
    {
     "data": {
      "image/png": "[encoded data removed]",
      "text/plain": [
       "<Figure size 432x288 with 1 Axes>"
      ]
     },
     "metadata": {
      "needs_background": "light"
     },
     "output_type": "display_data"
    }
   ],
   "source": [
    "matplotlib.pyplot.hist(clust3['TRANTIME'])"
   ]
  },
  {
   "cell_type": "code",
   "execution_count": 71,
   "metadata": {},
   "outputs": [
    {
     "data": {
      "text/plain": [
       "(array([  1705.,  25026.,      0.,   5555.,      0.,  47637.,  68717.,\n",
       "             0., 130602.,  38685.]),\n",
       " array([26. , 27.7, 29.4, 31.1, 32.8, 34.5, 36.2, 37.9, 39.6, 41.3, 43. ]),\n",
       " <a list of 10 Patch objects>)"
      ]
     },
     "execution_count": 71,
     "metadata": {},
     "output_type": "execute_result"
    },
    {
     "data": {
      "image/png": "[encoded data removed]",
      "text/plain": [
       "<Figure size 432x288 with 1 Axes>"
      ]
     },
     "metadata": {
      "needs_background": "light"
     },
     "output_type": "display_data"
    }
   ],
   "source": [
    "matplotlib.pyplot.hist(clust3['AirQuality'])"
   ]
  },
  {
   "cell_type": "code",
   "execution_count": 72,
   "metadata": {},
   "outputs": [
    {
     "data": {
      "text/plain": [
       "2.0    223949\n",
       "1.0     57208\n",
       "0.0     36770\n",
       "Name: HousingCat, dtype: int64"
      ]
     },
     "execution_count": 72,
     "metadata": {},
     "output_type": "execute_result"
    }
   ],
   "source": [
    "clust3['HousingCat'].value_counts()"
   ]
  },
  {
   "cell_type": "markdown",
   "metadata": {},
   "source": [
    "## Cluster 4"
   ]
  },
  {
   "cell_type": "code",
   "execution_count": 73,
   "metadata": {},
   "outputs": [
    {
     "data": {
      "text/html": [
       "<div>\n",
       "<style scoped>\n",
       "    .dataframe tbody tr th:only-of-type {\n",
       "        vertical-align: middle;\n",
       "    }\n",
       "\n",
       "    .dataframe tbody tr th {\n",
       "        vertical-align: top;\n",
       "    }\n",
       "\n",
       "    .dataframe thead th {\n",
       "        text-align: right;\n",
       "    }\n",
       "</style>\n",
       "<table border=\"1\" class=\"dataframe\">\n",
       "  <thead>\n",
       "    <tr style=\"text-align: right;\">\n",
       "      <th></th>\n",
       "      <th>HousingCat</th>\n",
       "      <th>EDUCbin</th>\n",
       "      <th>CIHISPEED</th>\n",
       "      <th>TRANTIME</th>\n",
       "      <th>DrinkingWater</th>\n",
       "      <th>AirQuality</th>\n",
       "      <th>EarlyEd</th>\n",
       "      <th>ProspNeigh</th>\n",
       "      <th>labels</th>\n",
       "    </tr>\n",
       "  </thead>\n",
       "  <tbody>\n",
       "    <tr>\n",
       "      <th>count</th>\n",
       "      <td>145176.000000</td>\n",
       "      <td>145176.000000</td>\n",
       "      <td>145176.0</td>\n",
       "      <td>145176.000000</td>\n",
       "      <td>145176.000000</td>\n",
       "      <td>145176.000000</td>\n",
       "      <td>145176.000000</td>\n",
       "      <td>145176.000000</td>\n",
       "      <td>145176.0</td>\n",
       "    </tr>\n",
       "    <tr>\n",
       "      <th>mean</th>\n",
       "      <td>1.338217</td>\n",
       "      <td>0.313674</td>\n",
       "      <td>20.0</td>\n",
       "      <td>16.829503</td>\n",
       "      <td>0.998404</td>\n",
       "      <td>36.015051</td>\n",
       "      <td>0.509720</td>\n",
       "      <td>0.807054</td>\n",
       "      <td>4.0</td>\n",
       "    </tr>\n",
       "    <tr>\n",
       "      <th>std</th>\n",
       "      <td>0.827495</td>\n",
       "      <td>0.463987</td>\n",
       "      <td>0.0</td>\n",
       "      <td>24.095228</td>\n",
       "      <td>0.005916</td>\n",
       "      <td>5.794882</td>\n",
       "      <td>0.073592</td>\n",
       "      <td>0.101951</td>\n",
       "      <td>0.0</td>\n",
       "    </tr>\n",
       "    <tr>\n",
       "      <th>min</th>\n",
       "      <td>0.000000</td>\n",
       "      <td>0.000000</td>\n",
       "      <td>20.0</td>\n",
       "      <td>0.000000</td>\n",
       "      <td>0.964234</td>\n",
       "      <td>17.000000</td>\n",
       "      <td>0.351000</td>\n",
       "      <td>0.506095</td>\n",
       "      <td>4.0</td>\n",
       "    </tr>\n",
       "    <tr>\n",
       "      <th>25%</th>\n",
       "      <td>1.000000</td>\n",
       "      <td>0.000000</td>\n",
       "      <td>20.0</td>\n",
       "      <td>0.000000</td>\n",
       "      <td>0.999622</td>\n",
       "      <td>31.000000</td>\n",
       "      <td>0.457000</td>\n",
       "      <td>0.759245</td>\n",
       "      <td>4.0</td>\n",
       "    </tr>\n",
       "    <tr>\n",
       "      <th>50%</th>\n",
       "      <td>2.000000</td>\n",
       "      <td>0.000000</td>\n",
       "      <td>20.0</td>\n",
       "      <td>9.000000</td>\n",
       "      <td>0.999908</td>\n",
       "      <td>37.000000</td>\n",
       "      <td>0.545000</td>\n",
       "      <td>0.759245</td>\n",
       "      <td>4.0</td>\n",
       "    </tr>\n",
       "    <tr>\n",
       "      <th>75%</th>\n",
       "      <td>2.000000</td>\n",
       "      <td>1.000000</td>\n",
       "      <td>20.0</td>\n",
       "      <td>30.000000</td>\n",
       "      <td>1.000000</td>\n",
       "      <td>40.000000</td>\n",
       "      <td>0.545000</td>\n",
       "      <td>0.885916</td>\n",
       "      <td>4.0</td>\n",
       "    </tr>\n",
       "    <tr>\n",
       "      <th>max</th>\n",
       "      <td>2.000000</td>\n",
       "      <td>1.000000</td>\n",
       "      <td>20.0</td>\n",
       "      <td>142.000000</td>\n",
       "      <td>1.000000</td>\n",
       "      <td>43.000000</td>\n",
       "      <td>0.744000</td>\n",
       "      <td>0.996038</td>\n",
       "      <td>4.0</td>\n",
       "    </tr>\n",
       "  </tbody>\n",
       "</table>\n",
       "</div>"
      ],
      "text/plain": [
       "          HousingCat        EDUCbin  CIHISPEED       TRANTIME  DrinkingWater  \\\n",
       "count  145176.000000  145176.000000   145176.0  145176.000000  145176.000000   \n",
       "mean        1.338217       0.313674       20.0      16.829503       0.998404   \n",
       "std         0.827495       0.463987        0.0      24.095228       0.005916   \n",
       "min         0.000000       0.000000       20.0       0.000000       0.964234   \n",
       "25%         1.000000       0.000000       20.0       0.000000       0.999622   \n",
       "50%         2.000000       0.000000       20.0       9.000000       0.999908   \n",
       "75%         2.000000       1.000000       20.0      30.000000       1.000000   \n",
       "max         2.000000       1.000000       20.0     142.000000       1.000000   \n",
       "\n",
       "          AirQuality        EarlyEd     ProspNeigh    labels  \n",
       "count  145176.000000  145176.000000  145176.000000  145176.0  \n",
       "mean       36.015051       0.509720       0.807054       4.0  \n",
       "std         5.794882       0.073592       0.101951       0.0  \n",
       "min        17.000000       0.351000       0.506095       4.0  \n",
       "25%        31.000000       0.457000       0.759245       4.0  \n",
       "50%        37.000000       0.545000       0.759245       4.0  \n",
       "75%        40.000000       0.545000       0.885916       4.0  \n",
       "max        43.000000       0.744000       0.996038       4.0  "
      ]
     },
     "execution_count": 73,
     "metadata": {},
     "output_type": "execute_result"
    }
   ],
   "source": [
    "clust4.describe()"
   ]
  },
  {
   "cell_type": "code",
   "execution_count": 74,
   "metadata": {},
   "outputs": [
    {
     "data": {
      "text/plain": [
       "(array([8.1606e+04, 2.6740e+04, 1.8743e+04, 7.2310e+03, 6.3030e+03,\n",
       "        8.7100e+02, 1.7670e+03, 2.5600e+02, 9.0000e+00, 1.6500e+03]),\n",
       " array([  0. ,  14.2,  28.4,  42.6,  56.8,  71. ,  85.2,  99.4, 113.6,\n",
       "        127.8, 142. ]),\n",
       " <a list of 10 Patch objects>)"
      ]
     },
     "execution_count": 74,
     "metadata": {},
     "output_type": "execute_result"
    },
    {
     "data": {
      "image/png": "[encoded data removed]",
      "text/plain": [
       "<Figure size 432x288 with 1 Axes>"
      ]
     },
     "metadata": {
      "needs_background": "light"
     },
     "output_type": "display_data"
    }
   ],
   "source": [
    "matplotlib.pyplot.hist(clust4['TRANTIME'])"
   ]
  },
  {
   "cell_type": "code",
   "execution_count": 75,
   "metadata": {},
   "outputs": [
    {
     "data": {
      "text/plain": [
       "(array([ 1414.,     0.,  3930.,  8048., 16731., 11425.,  3414., 32633.,\n",
       "        48833., 18748.]),\n",
       " array([17. , 19.6, 22.2, 24.8, 27.4, 30. , 32.6, 35.2, 37.8, 40.4, 43. ]),\n",
       " <a list of 10 Patch objects>)"
      ]
     },
     "execution_count": 75,
     "metadata": {},
     "output_type": "execute_result"
    },
    {
     "data": {
      "image/png": "[encoded data removed]",
      "text/plain": [
       "<Figure size 432x288 with 1 Axes>"
      ]
     },
     "metadata": {
      "needs_background": "light"
     },
     "output_type": "display_data"
    }
   ],
   "source": [
    "matplotlib.pyplot.hist(clust4['AirQuality'])"
   ]
  },
  {
   "cell_type": "code",
   "execution_count": 76,
   "metadata": {},
   "outputs": [
    {
     "data": {
      "text/plain": [
       "2.0    82558\n",
       "0.0    33457\n",
       "1.0    29161\n",
       "Name: HousingCat, dtype: int64"
      ]
     },
     "execution_count": 76,
     "metadata": {},
     "output_type": "execute_result"
    }
   ],
   "source": [
    "clust4['HousingCat'].value_counts()"
   ]
  },
  {
   "cell_type": "code",
   "execution_count": 79,
   "metadata": {},
   "outputs": [
    {
     "data": {
      "text/html": [
       "<div>\n",
       "<style scoped>\n",
       "    .dataframe tbody tr th:only-of-type {\n",
       "        vertical-align: middle;\n",
       "    }\n",
       "\n",
       "    .dataframe tbody tr th {\n",
       "        vertical-align: top;\n",
       "    }\n",
       "\n",
       "    .dataframe thead th {\n",
       "        text-align: right;\n",
       "    }\n",
       "</style>\n",
       "<table border=\"1\" class=\"dataframe\">\n",
       "  <thead>\n",
       "    <tr style=\"text-align: right;\">\n",
       "      <th></th>\n",
       "      <th>HousingCat</th>\n",
       "      <th>EDUCbin</th>\n",
       "      <th>CIHISPEED</th>\n",
       "      <th>TRANTIME</th>\n",
       "      <th>DrinkingWater</th>\n",
       "      <th>AirQuality</th>\n",
       "      <th>EarlyEd</th>\n",
       "      <th>ProspNeigh</th>\n",
       "    </tr>\n",
       "  </thead>\n",
       "  <tbody>\n",
       "    <tr>\n",
       "      <th>0</th>\n",
       "      <td>1.0</td>\n",
       "      <td>1.0</td>\n",
       "      <td>10.0</td>\n",
       "      <td>10.0</td>\n",
       "      <td>1.0</td>\n",
       "      <td>37.0</td>\n",
       "      <td>0.554</td>\n",
       "      <td>0.896835</td>\n",
       "    </tr>\n",
       "    <tr>\n",
       "      <th>1</th>\n",
       "      <td>1.0</td>\n",
       "      <td>0.0</td>\n",
       "      <td>10.0</td>\n",
       "      <td>0.0</td>\n",
       "      <td>1.0</td>\n",
       "      <td>37.0</td>\n",
       "      <td>0.554</td>\n",
       "      <td>0.896835</td>\n",
       "    </tr>\n",
       "    <tr>\n",
       "      <th>2</th>\n",
       "      <td>2.0</td>\n",
       "      <td>1.0</td>\n",
       "      <td>10.0</td>\n",
       "      <td>20.0</td>\n",
       "      <td>1.0</td>\n",
       "      <td>37.0</td>\n",
       "      <td>0.554</td>\n",
       "      <td>0.896835</td>\n",
       "    </tr>\n",
       "    <tr>\n",
       "      <th>3</th>\n",
       "      <td>2.0</td>\n",
       "      <td>0.0</td>\n",
       "      <td>10.0</td>\n",
       "      <td>25.0</td>\n",
       "      <td>1.0</td>\n",
       "      <td>37.0</td>\n",
       "      <td>0.554</td>\n",
       "      <td>0.896835</td>\n",
       "    </tr>\n",
       "    <tr>\n",
       "      <th>4</th>\n",
       "      <td>2.0</td>\n",
       "      <td>0.0</td>\n",
       "      <td>10.0</td>\n",
       "      <td>0.0</td>\n",
       "      <td>1.0</td>\n",
       "      <td>37.0</td>\n",
       "      <td>0.554</td>\n",
       "      <td>0.896835</td>\n",
       "    </tr>\n",
       "  </tbody>\n",
       "</table>\n",
       "</div>"
      ],
      "text/plain": [
       "   HousingCat  EDUCbin  CIHISPEED  TRANTIME  DrinkingWater  AirQuality  \\\n",
       "0         1.0      1.0       10.0      10.0            1.0        37.0   \n",
       "1         1.0      0.0       10.0       0.0            1.0        37.0   \n",
       "2         2.0      1.0       10.0      20.0            1.0        37.0   \n",
       "3         2.0      0.0       10.0      25.0            1.0        37.0   \n",
       "4         2.0      0.0       10.0       0.0            1.0        37.0   \n",
       "\n",
       "   EarlyEd  ProspNeigh  \n",
       "0    0.554    0.896835  \n",
       "1    0.554    0.896835  \n",
       "2    0.554    0.896835  \n",
       "3    0.554    0.896835  \n",
       "4    0.554    0.896835  "
      ]
     },
     "execution_count": 79,
     "metadata": {},
     "output_type": "execute_result"
    }
   ],
   "source": [
    "Xcorr=dfXfin.iloc[:, [0,1,2,3,4,5,6,7]]\n",
    "Xcorr.head()"
   ]
  },
  {
   "cell_type": "code",
   "execution_count": 80,
   "metadata": {},
   "outputs": [
    {
     "data": {
      "text/plain": [
       "<matplotlib.axes._subplots.AxesSubplot at 0x1d7048d62c8>"
      ]
     },
     "execution_count": 80,
     "metadata": {},
     "output_type": "execute_result"
    },
    {
     "data": {
      "image/png": "[encoded data removed]",
      "text/plain": [
       "<Figure size 864x576 with 2 Axes>"
      ]
     },
     "metadata": {
      "needs_background": "light"
     },
     "output_type": "display_data"
    }
   ],
   "source": [
    "plt.subplots(figsize=(12,8))\n",
    "sns.heatmap(Xcorr.corr(), annot = True)"
   ]
  },
  {
   "cell_type": "markdown",
   "metadata": {},
   "source": [
    "## Cluster Visualizations:"
   ]
  },
  {
   "cell_type": "code",
   "execution_count": 81,
   "metadata": {},
   "outputs": [
    {
     "data": {
      "text/plain": [
       "<matplotlib.legend.Legend at 0x1d704bb1a48>"
      ]
     },
     "execution_count": 81,
     "metadata": {},
     "output_type": "execute_result"
    },
    {
     "data": {
      "image/png": "[encoded data removed]",
      "text/plain": [
       "<Figure size 576x576 with 1 Axes>"
      ]
     },
     "metadata": {
      "needs_background": "light"
     },
     "output_type": "display_data"
    }
   ],
   "source": [
    "fig, ax = plt.subplots(figsize=(8,8))\n",
    "scatter = ax.scatter(dfXfin['HousingCat'], dfXfin['EDUCbin'], c=dfXfin['labels'], cmap=plt.cm.cool)\n",
    "ax.set_xlabel('2 yr college binary')\n",
    "ax.set_ylabel('% of 3-4 yr olds in preschool')\n",
    "legend1=ax.legend(*scatter.legend_elements(),loc=\"lower left\", title=\"Cluster\")\n",
    "plt.gca().add_artist(legend1)"
   ]
  },
  {
   "cell_type": "code",
   "execution_count": null,
   "metadata": {},
   "outputs": [],
   "source": []
  }
 ],
 "metadata": {
  "kernelspec": {
   "display_name": "Python 3",
   "language": "python",
   "name": "python3"
  },
  "language_info": {
   "codemirror_mode": {
    "name": "ipython",
    "version": 3
   },
   "file_extension": ".py",
   "mimetype": "text/x-python",
   "name": "python",
   "nbconvert_exporter": "python",
   "pygments_lexer": "ipython3",
   "version": "3.7.6"
  }
 },
 "nbformat": 4,
 "nbformat_minor": 5
}
