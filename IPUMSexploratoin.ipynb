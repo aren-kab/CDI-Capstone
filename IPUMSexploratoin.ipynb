{
 "cells": [
  {
   "cell_type": "code",
   "execution_count": 1,
   "id": "federal-equation",
   "metadata": {},
   "outputs": [],
   "source": [
    "import pandas as pd\n",
    "import numpy as np\n",
    "import datetime as dt\n",
    "import matplotlib\n",
    "import matplotlib.pyplot as plt\n",
    "import scipy.cluster.hierarchy as shc\n",
    "from sklearn.cluster import AgglomerativeClustering\n",
    "import os\n",
    "import seaborn as sns"
   ]
  },
  {
   "cell_type": "code",
   "execution_count": 54,
   "id": "initial-lyric",
   "metadata": {},
   "outputs": [],
   "source": [
    "from sklearn.cluster import KMeans\n",
    "from scipy.spatial.distance import cdist, pdist\n",
    "from sklearn.datasets import make_classification\n",
    "from sklearn.datasets import make_blobs\n",
    "from sklearn.metrics import silhouette_samples, silhouette_score\n",
    "import matplotlib.cm as cm\n",
    "from sklearn.mixture import GaussianMixture\n",
    "from sklearn.cluster import DBSCAN\n",
    "from sklearn import preprocessing\n",
    "from sklearn.preprocessing import StandardScaler"
   ]
  },
  {
   "cell_type": "code",
   "execution_count": 3,
   "id": "recorded-honey",
   "metadata": {},
   "outputs": [],
   "source": [
    "fileName = 'C:/Users/mcarp/Downloads/usa_00007.csv/usa_00007.csv'\n",
    "file = pd.read_csv(fileName)\n",
    "dfCDI = pd.DataFrame(file)"
   ]
  },
  {
   "cell_type": "code",
   "execution_count": 4,
   "id": "dietary-romania",
   "metadata": {},
   "outputs": [],
   "source": [
    "fileName2 = 'C:/Users/mcarp/Downloads/county_merged_vals - Sheet1.csv'\n",
    "file2 = pd.read_csv(fileName2)\n",
    "dfCty = pd.DataFrame(file2)"
   ]
  },
  {
   "cell_type": "code",
   "execution_count": 5,
   "id": "discrete-emphasis",
   "metadata": {},
   "outputs": [
    {
     "name": "stdout",
     "output_type": "stream",
     "text": [
      "<class 'pandas.core.frame.DataFrame'>\n",
      "RangeIndex: 1887461 entries, 0 to 1887460\n",
      "Data columns (total 40 columns):\n",
      " #   Column      Dtype  \n",
      "---  ------      -----  \n",
      " 0   YEAR        int64  \n",
      " 1   MULTYEAR    int64  \n",
      " 2   SAMPLE      int64  \n",
      " 3   SERIAL      int64  \n",
      " 4   CBSERIAL    int64  \n",
      " 5   HHWT        float64\n",
      " 6   CLUSTER     int64  \n",
      " 7   CPI99       float64\n",
      " 8   STATEFIP    int64  \n",
      " 9   COUNTYFIP   int64  \n",
      " 10  DENSITY     float64\n",
      " 11  CITY        int64  \n",
      " 12  PUMA        int64  \n",
      " 13  STRATA      int64  \n",
      " 14  GQ          int64  \n",
      " 15  OWNERSHP    int64  \n",
      " 16  OWNERSHPD   int64  \n",
      " 17  OWNCOST     int64  \n",
      " 18  RENTGRS     int64  \n",
      " 19  HHINCOME    int64  \n",
      " 20  CILAPTOP    int64  \n",
      " 21  CIHISPEED   int64  \n",
      " 22  PERNUM      int64  \n",
      " 23  PERWT       float64\n",
      " 24  FAMSIZE     int64  \n",
      " 25  AGE         int64  \n",
      " 26  RACE        int64  \n",
      " 27  RACED       int64  \n",
      " 28  HISPAN      int64  \n",
      " 29  HISPAND     int64  \n",
      " 30  EDUC        int64  \n",
      " 31  EDUCD       int64  \n",
      " 32  OCCSOC      object \n",
      " 33  INDNAICS    object \n",
      " 34  INCTOT      int64  \n",
      " 35  FTOTINC     int64  \n",
      " 36  INCWAGE     int64  \n",
      " 37  MIGCOUNTY1  int64  \n",
      " 38  MOVEDIN     int64  \n",
      " 39  TRANTIME    int64  \n",
      "dtypes: float64(4), int64(34), object(2)\n",
      "memory usage: 576.0+ MB\n"
     ]
    }
   ],
   "source": [
    "dfCDI.info()"
   ]
  },
  {
   "cell_type": "code",
   "execution_count": 6,
   "id": "welcome-keeping",
   "metadata": {},
   "outputs": [
    {
     "data": {
      "text/html": [
       "<div>\n",
       "<style scoped>\n",
       "    .dataframe tbody tr th:only-of-type {\n",
       "        vertical-align: middle;\n",
       "    }\n",
       "\n",
       "    .dataframe tbody tr th {\n",
       "        vertical-align: top;\n",
       "    }\n",
       "\n",
       "    .dataframe thead th {\n",
       "        text-align: right;\n",
       "    }\n",
       "</style>\n",
       "<table border=\"1\" class=\"dataframe\">\n",
       "  <thead>\n",
       "    <tr style=\"text-align: right;\">\n",
       "      <th></th>\n",
       "      <th>YEAR</th>\n",
       "      <th>MULTYEAR</th>\n",
       "      <th>SAMPLE</th>\n",
       "      <th>SERIAL</th>\n",
       "      <th>CBSERIAL</th>\n",
       "      <th>HHWT</th>\n",
       "      <th>CLUSTER</th>\n",
       "      <th>CPI99</th>\n",
       "      <th>STATEFIP</th>\n",
       "      <th>COUNTYFIP</th>\n",
       "      <th>...</th>\n",
       "      <th>HISPAN</th>\n",
       "      <th>HISPAND</th>\n",
       "      <th>EDUC</th>\n",
       "      <th>EDUCD</th>\n",
       "      <th>INCTOT</th>\n",
       "      <th>FTOTINC</th>\n",
       "      <th>INCWAGE</th>\n",
       "      <th>MIGCOUNTY1</th>\n",
       "      <th>MOVEDIN</th>\n",
       "      <th>TRANTIME</th>\n",
       "    </tr>\n",
       "  </thead>\n",
       "  <tbody>\n",
       "    <tr>\n",
       "      <th>count</th>\n",
       "      <td>1887461.0</td>\n",
       "      <td>1.887461e+06</td>\n",
       "      <td>1887461.0</td>\n",
       "      <td>1.887461e+06</td>\n",
       "      <td>1.887461e+06</td>\n",
       "      <td>1.887461e+06</td>\n",
       "      <td>1.887461e+06</td>\n",
       "      <td>1.887461e+06</td>\n",
       "      <td>1887461.0</td>\n",
       "      <td>1.887461e+06</td>\n",
       "      <td>...</td>\n",
       "      <td>1.887461e+06</td>\n",
       "      <td>1.887461e+06</td>\n",
       "      <td>1.887461e+06</td>\n",
       "      <td>1.887461e+06</td>\n",
       "      <td>1.887461e+06</td>\n",
       "      <td>1.887461e+06</td>\n",
       "      <td>1.887461e+06</td>\n",
       "      <td>1.887461e+06</td>\n",
       "      <td>1.887461e+06</td>\n",
       "      <td>1.887461e+06</td>\n",
       "    </tr>\n",
       "    <tr>\n",
       "      <th>mean</th>\n",
       "      <td>2019.0</td>\n",
       "      <td>2.017007e+03</td>\n",
       "      <td>201903.0</td>\n",
       "      <td>7.161752e+05</td>\n",
       "      <td>2.017008e+12</td>\n",
       "      <td>1.950090e+01</td>\n",
       "      <td>2.019007e+12</td>\n",
       "      <td>6.520000e-01</td>\n",
       "      <td>6.0</td>\n",
       "      <td>5.322070e+01</td>\n",
       "      <td>...</td>\n",
       "      <td>5.212203e-01</td>\n",
       "      <td>5.395687e+01</td>\n",
       "      <td>6.112827e+00</td>\n",
       "      <td>6.350181e+01</td>\n",
       "      <td>1.733883e+06</td>\n",
       "      <td>5.430318e+05</td>\n",
       "      <td>2.107476e+05</td>\n",
       "      <td>6.346545e+00</td>\n",
       "      <td>1.470495e+00</td>\n",
       "      <td>1.281491e+01</td>\n",
       "    </tr>\n",
       "    <tr>\n",
       "      <th>std</th>\n",
       "      <td>0.0</td>\n",
       "      <td>1.414209e+00</td>\n",
       "      <td>0.0</td>\n",
       "      <td>2.177509e+05</td>\n",
       "      <td>1.414360e+09</td>\n",
       "      <td>1.395353e+01</td>\n",
       "      <td>2.177509e+06</td>\n",
       "      <td>1.789791e-12</td>\n",
       "      <td>0.0</td>\n",
       "      <td>2.819463e+01</td>\n",
       "      <td>...</td>\n",
       "      <td>9.677537e-01</td>\n",
       "      <td>1.037007e+02</td>\n",
       "      <td>3.402226e+00</td>\n",
       "      <td>3.383771e+01</td>\n",
       "      <td>3.734217e+06</td>\n",
       "      <td>2.020262e+06</td>\n",
       "      <td>3.771700e+05</td>\n",
       "      <td>2.284799e+01</td>\n",
       "      <td>2.260702e+00</td>\n",
       "      <td>2.181307e+01</td>\n",
       "    </tr>\n",
       "    <tr>\n",
       "      <th>min</th>\n",
       "      <td>2019.0</td>\n",
       "      <td>2.015000e+03</td>\n",
       "      <td>201903.0</td>\n",
       "      <td>3.422620e+05</td>\n",
       "      <td>2.015000e+12</td>\n",
       "      <td>1.000000e+00</td>\n",
       "      <td>2.019003e+12</td>\n",
       "      <td>6.520000e-01</td>\n",
       "      <td>6.0</td>\n",
       "      <td>0.000000e+00</td>\n",
       "      <td>...</td>\n",
       "      <td>0.000000e+00</td>\n",
       "      <td>0.000000e+00</td>\n",
       "      <td>0.000000e+00</td>\n",
       "      <td>1.000000e+00</td>\n",
       "      <td>-1.165400e+04</td>\n",
       "      <td>-1.575500e+04</td>\n",
       "      <td>0.000000e+00</td>\n",
       "      <td>0.000000e+00</td>\n",
       "      <td>0.000000e+00</td>\n",
       "      <td>0.000000e+00</td>\n",
       "    </tr>\n",
       "    <tr>\n",
       "      <th>25%</th>\n",
       "      <td>2019.0</td>\n",
       "      <td>2.016000e+03</td>\n",
       "      <td>201903.0</td>\n",
       "      <td>5.280200e+05</td>\n",
       "      <td>2.016000e+12</td>\n",
       "      <td>1.100000e+01</td>\n",
       "      <td>2.019005e+12</td>\n",
       "      <td>6.520000e-01</td>\n",
       "      <td>6.0</td>\n",
       "      <td>3.700000e+01</td>\n",
       "      <td>...</td>\n",
       "      <td>0.000000e+00</td>\n",
       "      <td>0.000000e+00</td>\n",
       "      <td>3.000000e+00</td>\n",
       "      <td>3.000000e+01</td>\n",
       "      <td>1.018100e+04</td>\n",
       "      <td>4.072500e+04</td>\n",
       "      <td>0.000000e+00</td>\n",
       "      <td>0.000000e+00</td>\n",
       "      <td>0.000000e+00</td>\n",
       "      <td>0.000000e+00</td>\n",
       "    </tr>\n",
       "    <tr>\n",
       "      <th>50%</th>\n",
       "      <td>2019.0</td>\n",
       "      <td>2.017000e+03</td>\n",
       "      <td>201903.0</td>\n",
       "      <td>7.092400e+05</td>\n",
       "      <td>2.017001e+12</td>\n",
       "      <td>1.500000e+01</td>\n",
       "      <td>2.019007e+12</td>\n",
       "      <td>6.520000e-01</td>\n",
       "      <td>6.0</td>\n",
       "      <td>5.900000e+01</td>\n",
       "      <td>...</td>\n",
       "      <td>0.000000e+00</td>\n",
       "      <td>0.000000e+00</td>\n",
       "      <td>6.000000e+00</td>\n",
       "      <td>6.500000e+01</td>\n",
       "      <td>3.590000e+04</td>\n",
       "      <td>8.449400e+04</td>\n",
       "      <td>2.357000e+04</td>\n",
       "      <td>0.000000e+00</td>\n",
       "      <td>0.000000e+00</td>\n",
       "      <td>0.000000e+00</td>\n",
       "    </tr>\n",
       "    <tr>\n",
       "      <th>75%</th>\n",
       "      <td>2019.0</td>\n",
       "      <td>2.018000e+03</td>\n",
       "      <td>201903.0</td>\n",
       "      <td>9.046820e+05</td>\n",
       "      <td>2.018001e+12</td>\n",
       "      <td>2.400000e+01</td>\n",
       "      <td>2.019009e+12</td>\n",
       "      <td>6.520000e-01</td>\n",
       "      <td>6.0</td>\n",
       "      <td>7.300000e+01</td>\n",
       "      <td>...</td>\n",
       "      <td>1.000000e+00</td>\n",
       "      <td>1.000000e+02</td>\n",
       "      <td>1.000000e+01</td>\n",
       "      <td>1.010000e+02</td>\n",
       "      <td>1.124000e+05</td>\n",
       "      <td>1.565180e+05</td>\n",
       "      <td>1.065370e+05</td>\n",
       "      <td>0.000000e+00</td>\n",
       "      <td>3.000000e+00</td>\n",
       "      <td>2.000000e+01</td>\n",
       "    </tr>\n",
       "    <tr>\n",
       "      <th>max</th>\n",
       "      <td>2019.0</td>\n",
       "      <td>2.019000e+03</td>\n",
       "      <td>201903.0</td>\n",
       "      <td>1.090399e+06</td>\n",
       "      <td>2.019010e+12</td>\n",
       "      <td>4.720000e+02</td>\n",
       "      <td>2.019011e+12</td>\n",
       "      <td>6.520000e-01</td>\n",
       "      <td>6.0</td>\n",
       "      <td>1.130000e+02</td>\n",
       "      <td>...</td>\n",
       "      <td>4.000000e+00</td>\n",
       "      <td>4.980000e+02</td>\n",
       "      <td>1.100000e+01</td>\n",
       "      <td>1.160000e+02</td>\n",
       "      <td>9.999999e+06</td>\n",
       "      <td>9.999999e+06</td>\n",
       "      <td>9.999990e+05</td>\n",
       "      <td>8.100000e+02</td>\n",
       "      <td>7.000000e+00</td>\n",
       "      <td>1.420000e+02</td>\n",
       "    </tr>\n",
       "  </tbody>\n",
       "</table>\n",
       "<p>8 rows × 38 columns</p>\n",
       "</div>"
      ],
      "text/plain": [
       "            YEAR      MULTYEAR     SAMPLE        SERIAL      CBSERIAL  \\\n",
       "count  1887461.0  1.887461e+06  1887461.0  1.887461e+06  1.887461e+06   \n",
       "mean      2019.0  2.017007e+03   201903.0  7.161752e+05  2.017008e+12   \n",
       "std          0.0  1.414209e+00        0.0  2.177509e+05  1.414360e+09   \n",
       "min       2019.0  2.015000e+03   201903.0  3.422620e+05  2.015000e+12   \n",
       "25%       2019.0  2.016000e+03   201903.0  5.280200e+05  2.016000e+12   \n",
       "50%       2019.0  2.017000e+03   201903.0  7.092400e+05  2.017001e+12   \n",
       "75%       2019.0  2.018000e+03   201903.0  9.046820e+05  2.018001e+12   \n",
       "max       2019.0  2.019000e+03   201903.0  1.090399e+06  2.019010e+12   \n",
       "\n",
       "               HHWT       CLUSTER         CPI99   STATEFIP     COUNTYFIP  ...  \\\n",
       "count  1.887461e+06  1.887461e+06  1.887461e+06  1887461.0  1.887461e+06  ...   \n",
       "mean   1.950090e+01  2.019007e+12  6.520000e-01        6.0  5.322070e+01  ...   \n",
       "std    1.395353e+01  2.177509e+06  1.789791e-12        0.0  2.819463e+01  ...   \n",
       "min    1.000000e+00  2.019003e+12  6.520000e-01        6.0  0.000000e+00  ...   \n",
       "25%    1.100000e+01  2.019005e+12  6.520000e-01        6.0  3.700000e+01  ...   \n",
       "50%    1.500000e+01  2.019007e+12  6.520000e-01        6.0  5.900000e+01  ...   \n",
       "75%    2.400000e+01  2.019009e+12  6.520000e-01        6.0  7.300000e+01  ...   \n",
       "max    4.720000e+02  2.019011e+12  6.520000e-01        6.0  1.130000e+02  ...   \n",
       "\n",
       "             HISPAN       HISPAND          EDUC         EDUCD        INCTOT  \\\n",
       "count  1.887461e+06  1.887461e+06  1.887461e+06  1.887461e+06  1.887461e+06   \n",
       "mean   5.212203e-01  5.395687e+01  6.112827e+00  6.350181e+01  1.733883e+06   \n",
       "std    9.677537e-01  1.037007e+02  3.402226e+00  3.383771e+01  3.734217e+06   \n",
       "min    0.000000e+00  0.000000e+00  0.000000e+00  1.000000e+00 -1.165400e+04   \n",
       "25%    0.000000e+00  0.000000e+00  3.000000e+00  3.000000e+01  1.018100e+04   \n",
       "50%    0.000000e+00  0.000000e+00  6.000000e+00  6.500000e+01  3.590000e+04   \n",
       "75%    1.000000e+00  1.000000e+02  1.000000e+01  1.010000e+02  1.124000e+05   \n",
       "max    4.000000e+00  4.980000e+02  1.100000e+01  1.160000e+02  9.999999e+06   \n",
       "\n",
       "            FTOTINC       INCWAGE    MIGCOUNTY1       MOVEDIN      TRANTIME  \n",
       "count  1.887461e+06  1.887461e+06  1.887461e+06  1.887461e+06  1.887461e+06  \n",
       "mean   5.430318e+05  2.107476e+05  6.346545e+00  1.470495e+00  1.281491e+01  \n",
       "std    2.020262e+06  3.771700e+05  2.284799e+01  2.260702e+00  2.181307e+01  \n",
       "min   -1.575500e+04  0.000000e+00  0.000000e+00  0.000000e+00  0.000000e+00  \n",
       "25%    4.072500e+04  0.000000e+00  0.000000e+00  0.000000e+00  0.000000e+00  \n",
       "50%    8.449400e+04  2.357000e+04  0.000000e+00  0.000000e+00  0.000000e+00  \n",
       "75%    1.565180e+05  1.065370e+05  0.000000e+00  3.000000e+00  2.000000e+01  \n",
       "max    9.999999e+06  9.999990e+05  8.100000e+02  7.000000e+00  1.420000e+02  \n",
       "\n",
       "[8 rows x 38 columns]"
      ]
     },
     "execution_count": 6,
     "metadata": {},
     "output_type": "execute_result"
    }
   ],
   "source": [
    "dfCDI.describe()"
   ]
  },
  {
   "cell_type": "code",
   "execution_count": 7,
   "id": "blond-vertex",
   "metadata": {},
   "outputs": [
    {
     "data": {
      "text/plain": [
       "1    1851700\n",
       "0      35761\n",
       "Name: affrentbin, dtype: int64"
      ]
     },
     "execution_count": 7,
     "metadata": {},
     "output_type": "execute_result"
    }
   ],
   "source": [
    "dfCDI['affrentdec']= dfCDI['RENTGRS']/dfCDI['FTOTINC'] \n",
    "dfCDI['affrentbin'] = [0 if x >=.3 else 1 for x in dfCDI['affrentdec']]\n",
    "dfCDI['affrentbin'].value_counts()"
   ]
  },
  {
   "cell_type": "code",
   "execution_count": 8,
   "id": "cutting-pennsylvania",
   "metadata": {},
   "outputs": [
    {
     "data": {
      "text/plain": [
       "count    1.887461e+06\n",
       "mean     6.112827e+00\n",
       "std      3.402226e+00\n",
       "min      0.000000e+00\n",
       "25%      3.000000e+00\n",
       "50%      6.000000e+00\n",
       "75%      1.000000e+01\n",
       "max      1.100000e+01\n",
       "Name: EDUC, dtype: float64"
      ]
     },
     "execution_count": 8,
     "metadata": {},
     "output_type": "execute_result"
    }
   ],
   "source": [
    "dfCDI['EDUC'].describe()"
   ]
  },
  {
   "cell_type": "code",
   "execution_count": 9,
   "id": "great-input",
   "metadata": {},
   "outputs": [],
   "source": [
    "dfCDI['EDUCbin'] = [1 if x >=8 else 0 for x in dfCDI['EDUC']]"
   ]
  },
  {
   "cell_type": "code",
   "execution_count": 10,
   "id": "italic-middle",
   "metadata": {},
   "outputs": [
    {
     "data": {
      "text/plain": [
       "10    1401605\n",
       "0      247588\n",
       "20     238268\n",
       "Name: CIHISPEED, dtype: int64"
      ]
     },
     "execution_count": 10,
     "metadata": {},
     "output_type": "execute_result"
    }
   ],
   "source": [
    "dfCDI['CIHISPEED'].value_counts()"
   ]
  },
  {
   "cell_type": "code",
   "execution_count": 11,
   "id": "efficient-jones",
   "metadata": {},
   "outputs": [
    {
     "data": {
      "text/plain": [
       "1    1109153\n",
       "2     698519\n",
       "0      79789\n",
       "Name: OWNERSHP, dtype: int64"
      ]
     },
     "execution_count": 11,
     "metadata": {},
     "output_type": "execute_result"
    }
   ],
   "source": [
    "dfCDI['OWNERSHP'].value_counts()"
   ]
  },
  {
   "cell_type": "code",
   "execution_count": 12,
   "id": "declared-slope",
   "metadata": {},
   "outputs": [
    {
     "data": {
      "text/plain": [
       "0      1082661\n",
       "30      118512\n",
       "15      110400\n",
       "20      108637\n",
       "10       86031\n",
       "        ...   \n",
       "91           2\n",
       "103          2\n",
       "113          1\n",
       "117          1\n",
       "104          1\n",
       "Name: TRANTIME, Length: 120, dtype: int64"
      ]
     },
     "execution_count": 12,
     "metadata": {},
     "output_type": "execute_result"
    }
   ],
   "source": [
    "dfCDI['TRANTIME'].value_counts()"
   ]
  },
  {
   "cell_type": "code",
   "execution_count": 13,
   "id": "sacred-dream",
   "metadata": {},
   "outputs": [
    {
     "data": {
      "text/plain": [
       "(1887461, 43)"
      ]
     },
     "execution_count": 13,
     "metadata": {},
     "output_type": "execute_result"
    }
   ],
   "source": [
    "dfCDI.shape"
   ]
  },
  {
   "cell_type": "code",
   "execution_count": 14,
   "id": "particular-movement",
   "metadata": {},
   "outputs": [
    {
     "data": {
      "text/plain": [
       "(1807672, 43)"
      ]
     },
     "execution_count": 14,
     "metadata": {},
     "output_type": "execute_result"
    }
   ],
   "source": [
    "dfCDI = dfCDI[dfCDI['OWNERSHP']!=0]\n",
    "dfCDI.shape"
   ]
  },
  {
   "cell_type": "code",
   "execution_count": 15,
   "id": "latin-representation",
   "metadata": {},
   "outputs": [
    {
     "data": {
      "text/html": [
       "<div>\n",
       "<style scoped>\n",
       "    .dataframe tbody tr th:only-of-type {\n",
       "        vertical-align: middle;\n",
       "    }\n",
       "\n",
       "    .dataframe tbody tr th {\n",
       "        vertical-align: top;\n",
       "    }\n",
       "\n",
       "    .dataframe thead th {\n",
       "        text-align: right;\n",
       "    }\n",
       "</style>\n",
       "<table border=\"1\" class=\"dataframe\">\n",
       "  <thead>\n",
       "    <tr style=\"text-align: right;\">\n",
       "      <th></th>\n",
       "      <th>YEAR</th>\n",
       "      <th>MULTYEAR</th>\n",
       "      <th>SAMPLE</th>\n",
       "      <th>SERIAL</th>\n",
       "      <th>CBSERIAL</th>\n",
       "      <th>HHWT</th>\n",
       "      <th>CLUSTER</th>\n",
       "      <th>CPI99</th>\n",
       "      <th>STATEFIP</th>\n",
       "      <th>COUNTYFIP</th>\n",
       "      <th>...</th>\n",
       "      <th>INDNAICS</th>\n",
       "      <th>INCTOT</th>\n",
       "      <th>FTOTINC</th>\n",
       "      <th>INCWAGE</th>\n",
       "      <th>MIGCOUNTY1</th>\n",
       "      <th>MOVEDIN</th>\n",
       "      <th>TRANTIME</th>\n",
       "      <th>affrentdec</th>\n",
       "      <th>affrentbin</th>\n",
       "      <th>EDUCbin</th>\n",
       "    </tr>\n",
       "  </thead>\n",
       "  <tbody>\n",
       "    <tr>\n",
       "      <th>0</th>\n",
       "      <td>2019</td>\n",
       "      <td>2015</td>\n",
       "      <td>201903</td>\n",
       "      <td>342262</td>\n",
       "      <td>2015000000008</td>\n",
       "      <td>20.0</td>\n",
       "      <td>2019003422623</td>\n",
       "      <td>0.652</td>\n",
       "      <td>6</td>\n",
       "      <td>59</td>\n",
       "      <td>...</td>\n",
       "      <td>424M</td>\n",
       "      <td>56113</td>\n",
       "      <td>56113</td>\n",
       "      <td>53955</td>\n",
       "      <td>0</td>\n",
       "      <td>2</td>\n",
       "      <td>10</td>\n",
       "      <td>0.021546</td>\n",
       "      <td>1</td>\n",
       "      <td>1</td>\n",
       "    </tr>\n",
       "    <tr>\n",
       "      <th>1</th>\n",
       "      <td>2019</td>\n",
       "      <td>2015</td>\n",
       "      <td>201903</td>\n",
       "      <td>342262</td>\n",
       "      <td>2015000000008</td>\n",
       "      <td>20.0</td>\n",
       "      <td>2019003422623</td>\n",
       "      <td>0.652</td>\n",
       "      <td>6</td>\n",
       "      <td>59</td>\n",
       "      <td>...</td>\n",
       "      <td>522M</td>\n",
       "      <td>0</td>\n",
       "      <td>56113</td>\n",
       "      <td>0</td>\n",
       "      <td>0</td>\n",
       "      <td>0</td>\n",
       "      <td>0</td>\n",
       "      <td>0.021546</td>\n",
       "      <td>1</td>\n",
       "      <td>0</td>\n",
       "    </tr>\n",
       "    <tr>\n",
       "      <th>2</th>\n",
       "      <td>2019</td>\n",
       "      <td>2015</td>\n",
       "      <td>201903</td>\n",
       "      <td>342263</td>\n",
       "      <td>2015000000009</td>\n",
       "      <td>15.0</td>\n",
       "      <td>2019003422633</td>\n",
       "      <td>0.652</td>\n",
       "      <td>6</td>\n",
       "      <td>81</td>\n",
       "      <td>...</td>\n",
       "      <td>5411</td>\n",
       "      <td>0</td>\n",
       "      <td>250353</td>\n",
       "      <td>0</td>\n",
       "      <td>85</td>\n",
       "      <td>1</td>\n",
       "      <td>0</td>\n",
       "      <td>0.000000</td>\n",
       "      <td>1</td>\n",
       "      <td>1</td>\n",
       "    </tr>\n",
       "    <tr>\n",
       "      <th>3</th>\n",
       "      <td>2019</td>\n",
       "      <td>2015</td>\n",
       "      <td>201903</td>\n",
       "      <td>342263</td>\n",
       "      <td>2015000000009</td>\n",
       "      <td>15.0</td>\n",
       "      <td>2019003422633</td>\n",
       "      <td>0.652</td>\n",
       "      <td>6</td>\n",
       "      <td>81</td>\n",
       "      <td>...</td>\n",
       "      <td>3341</td>\n",
       "      <td>250353</td>\n",
       "      <td>250353</td>\n",
       "      <td>248194</td>\n",
       "      <td>85</td>\n",
       "      <td>0</td>\n",
       "      <td>25</td>\n",
       "      <td>0.000000</td>\n",
       "      <td>1</td>\n",
       "      <td>1</td>\n",
       "    </tr>\n",
       "    <tr>\n",
       "      <th>4</th>\n",
       "      <td>2019</td>\n",
       "      <td>2015</td>\n",
       "      <td>201903</td>\n",
       "      <td>342263</td>\n",
       "      <td>2015000000009</td>\n",
       "      <td>15.0</td>\n",
       "      <td>2019003422633</td>\n",
       "      <td>0.652</td>\n",
       "      <td>6</td>\n",
       "      <td>81</td>\n",
       "      <td>...</td>\n",
       "      <td>0</td>\n",
       "      <td>9999999</td>\n",
       "      <td>250353</td>\n",
       "      <td>999999</td>\n",
       "      <td>85</td>\n",
       "      <td>0</td>\n",
       "      <td>0</td>\n",
       "      <td>0.000000</td>\n",
       "      <td>1</td>\n",
       "      <td>0</td>\n",
       "    </tr>\n",
       "  </tbody>\n",
       "</table>\n",
       "<p>5 rows × 43 columns</p>\n",
       "</div>"
      ],
      "text/plain": [
       "   YEAR  MULTYEAR  SAMPLE  SERIAL       CBSERIAL  HHWT        CLUSTER  CPI99  \\\n",
       "0  2019      2015  201903  342262  2015000000008  20.0  2019003422623  0.652   \n",
       "1  2019      2015  201903  342262  2015000000008  20.0  2019003422623  0.652   \n",
       "2  2019      2015  201903  342263  2015000000009  15.0  2019003422633  0.652   \n",
       "3  2019      2015  201903  342263  2015000000009  15.0  2019003422633  0.652   \n",
       "4  2019      2015  201903  342263  2015000000009  15.0  2019003422633  0.652   \n",
       "\n",
       "   STATEFIP  COUNTYFIP  ...  INDNAICS   INCTOT  FTOTINC  INCWAGE  MIGCOUNTY1  \\\n",
       "0         6         59  ...  424M        56113    56113    53955           0   \n",
       "1         6         59  ...  522M            0    56113        0           0   \n",
       "2         6         81  ...  5411            0   250353        0          85   \n",
       "3         6         81  ...  3341       250353   250353   248194          85   \n",
       "4         6         81  ...         0  9999999   250353   999999          85   \n",
       "\n",
       "   MOVEDIN  TRANTIME  affrentdec  affrentbin  EDUCbin  \n",
       "0        2        10    0.021546           1        1  \n",
       "1        0         0    0.021546           1        0  \n",
       "2        1         0    0.000000           1        1  \n",
       "3        0        25    0.000000           1        1  \n",
       "4        0         0    0.000000           1        0  \n",
       "\n",
       "[5 rows x 43 columns]"
      ]
     },
     "execution_count": 15,
     "metadata": {},
     "output_type": "execute_result"
    }
   ],
   "source": [
    "dfCDI.head()"
   ]
  },
  {
   "cell_type": "code",
   "execution_count": 16,
   "id": "divided-woman",
   "metadata": {},
   "outputs": [],
   "source": [
    "#joined2019 = dfCDI.join(dfCty,on='COUNTYFIP',how='inner',lsuffix='str')"
   ]
  },
  {
   "cell_type": "code",
   "execution_count": 17,
   "id": "beautiful-relative",
   "metadata": {},
   "outputs": [],
   "source": [
    "#joined2019"
   ]
  },
  {
   "cell_type": "code",
   "execution_count": 39,
   "id": "developed-commerce",
   "metadata": {},
   "outputs": [
    {
     "name": "stdout",
     "output_type": "stream",
     "text": [
      "41\n",
      "15\n",
      "42\n",
      "21\n",
      "39\n"
     ]
    }
   ],
   "source": [
    "print(dfCDI.columns.get_loc(\"affrentbin\"))\n",
    "print(dfCDI.columns.get_loc(\"OWNERSHP\"))\n",
    "print(dfCDI.columns.get_loc(\"EDUCbin\"))\n",
    "print(dfCDI.columns.get_loc(\"CIHISPEED\"))\n",
    "print(dfCDI.columns.get_loc(\"TRANTIME\"))\n",
    "#print(joined2019.columns.get_loc(\"DrinkingWater\"))\n",
    "#print(joined2019.columns.get_loc(\"AirQuality\"))\n",
    "#print(joined2019.columns.get_loc(\"EarlyEd\"))\n",
    "#print(joined2019.columns.get_loc(\"ProspNeigh\"))"
   ]
  },
  {
   "cell_type": "code",
   "execution_count": 40,
   "id": "surprising-orbit",
   "metadata": {},
   "outputs": [],
   "source": [
    "X = dfCDI.iloc[:, [41,15,42,21,39]]"
   ]
  },
  {
   "cell_type": "code",
   "execution_count": 69,
   "id": "advanced-rapid",
   "metadata": {},
   "outputs": [
    {
     "data": {
      "text/plain": [
       "(1807672, 5)"
      ]
     },
     "execution_count": 69,
     "metadata": {},
     "output_type": "execute_result"
    }
   ],
   "source": [
    "X.shape"
   ]
  },
  {
   "cell_type": "code",
   "execution_count": 70,
   "id": "familiar-collectible",
   "metadata": {},
   "outputs": [],
   "source": [
    "scaler=StandardScaler()\n",
    "scalerNum = scaler.fit(X)\n",
    "Xstd = scalerNum.transform(X)"
   ]
  },
  {
   "cell_type": "code",
   "execution_count": 38,
   "id": "agreed-merit",
   "metadata": {},
   "outputs": [],
   "source": [
    "#print('Aff. Rent:',X['affrentbin'].max(), X['affrentbin'].min())\n",
    "#print('Home Ownership:',X['OWNERSHP'].max(), X['OWNERSHP'].min())\n",
    "#print('Education:',X['EDUCbin'].max(), X['EDUCbin'].min())\n",
    "#print('Broadband:',X['CIHISPEED'].max(), X['CIHISPEED'].min())\n",
    "#print('Commute Time:',X['TRANTIME'].max(), X['TRANTIME'].min())\n",
    "#print('Drinking Water:',X['DrinkingWater'].max(), X['DrinkingWater'].min())\n",
    "#print('Air Quality:',X['AirQuality'].max(), X['AirQuality'].min())\n",
    "#print('Early Ed.:',X['EarlyEd'].max(), X['EarlyEd'].min())\n",
    "#print('Prosp. Neighb:',X['ProspNeigh'].max(), X['ProspNeigh'].min())\n",
    "#X.loc[:,'affrentbin'] = (X['affrentbin'] - X['affrentbin'].max())/(X['affrentbin'].min() - X['affrentbin'].max()) # reversed\n",
    "#X.loc[:,'OWNERSHP'] = (X['OWNERSHP'] - X['OWNERSHP'].max())/(X['OWNERSHP'].min() - X['OWNERSHP'].max()) # reversed + normalized\n",
    "#X.loc[:,'CIHISPEED'] = X['CIHISPEED']/20\n",
    "#X.loc[:,'TRANTIME'] = (X['TRANTIME'] - X['TRANTIME'].max())/(X['TRANTIME'].min() - X['TRANTIME'].max()) # reversed\n",
    "#X.loc[:,'DrinkingWater'] = (X['DrinkingWater'] - X['DrinkingWater'].min())/(X['DrinkingWater'].max() - X['DrinkingWater'].min())\n",
    "#X.loc[:,'AirQuality'] = (X['AirQuality'] - X['AirQuality'].max())/(X['AirQuality'].min() - X['AirQuality'].max()) # reversed + normalized\n",
    "#X.loc[:,'EarlyEd'] = (X['EarlyEd'] - X['EarlyEd'].min())/(X['EarlyEd'].max() - X['EarlyEd'].min())\n",
    "#X.loc[:,'ProspNeigh'] = (X['ProspNeigh'] - X['ProspNeigh'].min())/(X['ProspNeigh'].max() - X['ProspNeigh'].min())"
   ]
  },
  {
   "cell_type": "code",
   "execution_count": 71,
   "id": "responsible-corporation",
   "metadata": {},
   "outputs": [
    {
     "data": {
      "text/html": [
       "<div>\n",
       "<style scoped>\n",
       "    .dataframe tbody tr th:only-of-type {\n",
       "        vertical-align: middle;\n",
       "    }\n",
       "\n",
       "    .dataframe tbody tr th {\n",
       "        vertical-align: top;\n",
       "    }\n",
       "\n",
       "    .dataframe thead th {\n",
       "        text-align: right;\n",
       "    }\n",
       "</style>\n",
       "<table border=\"1\" class=\"dataframe\">\n",
       "  <thead>\n",
       "    <tr style=\"text-align: right;\">\n",
       "      <th></th>\n",
       "      <th>affrentbin</th>\n",
       "      <th>OWNERSHP</th>\n",
       "      <th>EDUCbin</th>\n",
       "      <th>CIHISPEED</th>\n",
       "      <th>TRANTIME</th>\n",
       "    </tr>\n",
       "  </thead>\n",
       "  <tbody>\n",
       "    <tr>\n",
       "      <th>count</th>\n",
       "      <td>1.807672e+06</td>\n",
       "      <td>1.807672e+06</td>\n",
       "      <td>1.807672e+06</td>\n",
       "      <td>1.807672e+06</td>\n",
       "      <td>1.807672e+06</td>\n",
       "    </tr>\n",
       "    <tr>\n",
       "      <th>mean</th>\n",
       "      <td>9.181106e-14</td>\n",
       "      <td>1.451496e-13</td>\n",
       "      <td>6.368109e-13</td>\n",
       "      <td>1.723131e-12</td>\n",
       "      <td>-1.670772e-13</td>\n",
       "    </tr>\n",
       "    <tr>\n",
       "      <th>std</th>\n",
       "      <td>1.000000e+00</td>\n",
       "      <td>1.000000e+00</td>\n",
       "      <td>1.000000e+00</td>\n",
       "      <td>1.000000e+00</td>\n",
       "      <td>1.000000e+00</td>\n",
       "    </tr>\n",
       "    <tr>\n",
       "      <th>min</th>\n",
       "      <td>-7.039084e+00</td>\n",
       "      <td>-7.935849e-01</td>\n",
       "      <td>-7.026480e-01</td>\n",
       "      <td>-2.199599e+00</td>\n",
       "      <td>-6.012084e-01</td>\n",
       "    </tr>\n",
       "    <tr>\n",
       "      <th>25%</th>\n",
       "      <td>1.420639e-01</td>\n",
       "      <td>-7.935849e-01</td>\n",
       "      <td>-7.026480e-01</td>\n",
       "      <td>-8.253031e-02</td>\n",
       "      <td>-6.012084e-01</td>\n",
       "    </tr>\n",
       "    <tr>\n",
       "      <th>50%</th>\n",
       "      <td>1.420639e-01</td>\n",
       "      <td>-7.935849e-01</td>\n",
       "      <td>-7.026480e-01</td>\n",
       "      <td>-8.253031e-02</td>\n",
       "      <td>-6.012084e-01</td>\n",
       "    </tr>\n",
       "    <tr>\n",
       "      <th>75%</th>\n",
       "      <td>1.420639e-01</td>\n",
       "      <td>1.260105e+00</td>\n",
       "      <td>1.423188e+00</td>\n",
       "      <td>-8.253031e-02</td>\n",
       "      <td>3.041858e-01</td>\n",
       "    </tr>\n",
       "    <tr>\n",
       "      <th>max</th>\n",
       "      <td>1.420639e-01</td>\n",
       "      <td>1.260105e+00</td>\n",
       "      <td>1.423188e+00</td>\n",
       "      <td>2.034539e+00</td>\n",
       "      <td>5.827091e+00</td>\n",
       "    </tr>\n",
       "  </tbody>\n",
       "</table>\n",
       "</div>"
      ],
      "text/plain": [
       "         affrentbin      OWNERSHP       EDUCbin     CIHISPEED      TRANTIME\n",
       "count  1.807672e+06  1.807672e+06  1.807672e+06  1.807672e+06  1.807672e+06\n",
       "mean   9.181106e-14  1.451496e-13  6.368109e-13  1.723131e-12 -1.670772e-13\n",
       "std    1.000000e+00  1.000000e+00  1.000000e+00  1.000000e+00  1.000000e+00\n",
       "min   -7.039084e+00 -7.935849e-01 -7.026480e-01 -2.199599e+00 -6.012084e-01\n",
       "25%    1.420639e-01 -7.935849e-01 -7.026480e-01 -8.253031e-02 -6.012084e-01\n",
       "50%    1.420639e-01 -7.935849e-01 -7.026480e-01 -8.253031e-02 -6.012084e-01\n",
       "75%    1.420639e-01  1.260105e+00  1.423188e+00 -8.253031e-02  3.041858e-01\n",
       "max    1.420639e-01  1.260105e+00  1.423188e+00  2.034539e+00  5.827091e+00"
      ]
     },
     "execution_count": 71,
     "metadata": {},
     "output_type": "execute_result"
    }
   ],
   "source": [
    "dfX = pd.DataFrame(Xstd, columns=['affrentbin','OWNERSHP','EDUCbin','CIHISPEED','TRANTIME'])\n",
    "dfX.describe()"
   ]
  },
  {
   "cell_type": "code",
   "execution_count": 59,
   "id": "amber-matrix",
   "metadata": {},
   "outputs": [],
   "source": [
    "wcss = []\n",
    "for i in range(1,9):\n",
    "    kmeans = KMeans(n_clusters = i, init = 'k-means++', random_state = 42)\n",
    "    kmeans.fit(dfX)\n",
    "    # inertia method returns wcss for that model\n",
    "    wcss.append(kmeans.inertia_)\n",
    "    #cluster_labels = kmeans.fit_predict(dfX)\n",
    "    #silhouette_avg = silhouette_score(dfX, cluster_labels)\n",
    "    #print(\"For n_clusters = {},\".format(i)+\" the average silhouette_score is :{}\".format(silhouette_avg))"
   ]
  },
  {
   "cell_type": "code",
   "execution_count": 60,
   "id": "iraqi-florist",
   "metadata": {},
   "outputs": [
    {
     "name": "stderr",
     "output_type": "stream",
     "text": [
      "C:\\Users\\mcarp\\anaconda3\\lib\\site-packages\\seaborn\\_decorators.py:43: FutureWarning: Pass the following variables as keyword args: x, y. From version 0.12, the only valid positional argument will be `data`, and passing other arguments without an explicit keyword will result in an error or misinterpretation.\n",
      "  FutureWarning\n"
     ]
    },
    {
     "data": {
      "image/png": "[encoded data removed]",
      "text/plain": [
       "<Figure size 720x360 with 1 Axes>"
      ]
     },
     "metadata": {
      "needs_background": "light"
     },
     "output_type": "display_data"
    }
   ],
   "source": [
    "plt.figure(figsize=(10,5))\n",
    "sns.lineplot(range(1,9), wcss,marker='o',color='red')\n",
    "plt.title('The Elbow Method')\n",
    "plt.xlabel('Number of clusters')\n",
    "plt.ylabel('WCSS')\n",
    "plt.show()"
   ]
  },
  {
   "cell_type": "code",
   "execution_count": 72,
   "id": "dramatic-threshold",
   "metadata": {},
   "outputs": [
    {
     "name": "stdout",
     "output_type": "stream",
     "text": [
      "[3 0 3 ... 1 3 3]\n"
     ]
    }
   ],
   "source": [
    "kmeans = KMeans(n_clusters = 6, init = 'k-means++', random_state = 42)\n",
    "kmeans.fit(dfX)\n",
    "print(kmeans.labels_)"
   ]
  },
  {
   "cell_type": "code",
   "execution_count": 74,
   "id": "facial-moderator",
   "metadata": {},
   "outputs": [
    {
     "data": {
      "text/plain": [
       "array([[ 1.,  2.,  1., 10., 10.],\n",
       "       [ 1.,  2.,  0., 10.,  0.],\n",
       "       [ 1.,  1.,  1., 10.,  0.],\n",
       "       ...,\n",
       "       [ 1.,  1.,  0., 10.,  0.],\n",
       "       [ 1.,  1.,  1., 10., 10.],\n",
       "       [ 1.,  1.,  1., 10., 10.]])"
      ]
     },
     "execution_count": 74,
     "metadata": {},
     "output_type": "execute_result"
    }
   ],
   "source": [
    "Xfin = scaler.inverse_transform(dfX)\n",
    "Xfin"
   ]
  },
  {
   "cell_type": "code",
   "execution_count": 76,
   "id": "institutional-porcelain",
   "metadata": {},
   "outputs": [
    {
     "data": {
      "text/html": [
       "<div>\n",
       "<style scoped>\n",
       "    .dataframe tbody tr th:only-of-type {\n",
       "        vertical-align: middle;\n",
       "    }\n",
       "\n",
       "    .dataframe tbody tr th {\n",
       "        vertical-align: top;\n",
       "    }\n",
       "\n",
       "    .dataframe thead th {\n",
       "        text-align: right;\n",
       "    }\n",
       "</style>\n",
       "<table border=\"1\" class=\"dataframe\">\n",
       "  <thead>\n",
       "    <tr style=\"text-align: right;\">\n",
       "      <th></th>\n",
       "      <th>affrentbin</th>\n",
       "      <th>OWNERSHP</th>\n",
       "      <th>EDUCbin</th>\n",
       "      <th>CIHISPEED</th>\n",
       "      <th>TRANTIME</th>\n",
       "    </tr>\n",
       "  </thead>\n",
       "  <tbody>\n",
       "    <tr>\n",
       "      <th>count</th>\n",
       "      <td>1.807672e+06</td>\n",
       "      <td>1.807672e+06</td>\n",
       "      <td>1.807672e+06</td>\n",
       "      <td>1.807672e+06</td>\n",
       "      <td>1.807672e+06</td>\n",
       "    </tr>\n",
       "    <tr>\n",
       "      <th>mean</th>\n",
       "      <td>9.802171e-01</td>\n",
       "      <td>1.386419e+00</td>\n",
       "      <td>3.305279e-01</td>\n",
       "      <td>1.038983e+01</td>\n",
       "      <td>1.328059e+01</td>\n",
       "    </tr>\n",
       "    <tr>\n",
       "      <th>std</th>\n",
       "      <td>1.392535e-01</td>\n",
       "      <td>4.869287e-01</td>\n",
       "      <td>4.704034e-01</td>\n",
       "      <td>4.723513e+00</td>\n",
       "      <td>2.208983e+01</td>\n",
       "    </tr>\n",
       "    <tr>\n",
       "      <th>min</th>\n",
       "      <td>0.000000e+00</td>\n",
       "      <td>1.000000e+00</td>\n",
       "      <td>0.000000e+00</td>\n",
       "      <td>0.000000e+00</td>\n",
       "      <td>0.000000e+00</td>\n",
       "    </tr>\n",
       "    <tr>\n",
       "      <th>25%</th>\n",
       "      <td>1.000000e+00</td>\n",
       "      <td>1.000000e+00</td>\n",
       "      <td>0.000000e+00</td>\n",
       "      <td>1.000000e+01</td>\n",
       "      <td>0.000000e+00</td>\n",
       "    </tr>\n",
       "    <tr>\n",
       "      <th>50%</th>\n",
       "      <td>1.000000e+00</td>\n",
       "      <td>1.000000e+00</td>\n",
       "      <td>0.000000e+00</td>\n",
       "      <td>1.000000e+01</td>\n",
       "      <td>0.000000e+00</td>\n",
       "    </tr>\n",
       "    <tr>\n",
       "      <th>75%</th>\n",
       "      <td>1.000000e+00</td>\n",
       "      <td>2.000000e+00</td>\n",
       "      <td>1.000000e+00</td>\n",
       "      <td>1.000000e+01</td>\n",
       "      <td>2.000000e+01</td>\n",
       "    </tr>\n",
       "    <tr>\n",
       "      <th>max</th>\n",
       "      <td>1.000000e+00</td>\n",
       "      <td>2.000000e+00</td>\n",
       "      <td>1.000000e+00</td>\n",
       "      <td>2.000000e+01</td>\n",
       "      <td>1.420000e+02</td>\n",
       "    </tr>\n",
       "  </tbody>\n",
       "</table>\n",
       "</div>"
      ],
      "text/plain": [
       "         affrentbin      OWNERSHP       EDUCbin     CIHISPEED      TRANTIME\n",
       "count  1.807672e+06  1.807672e+06  1.807672e+06  1.807672e+06  1.807672e+06\n",
       "mean   9.802171e-01  1.386419e+00  3.305279e-01  1.038983e+01  1.328059e+01\n",
       "std    1.392535e-01  4.869287e-01  4.704034e-01  4.723513e+00  2.208983e+01\n",
       "min    0.000000e+00  1.000000e+00  0.000000e+00  0.000000e+00  0.000000e+00\n",
       "25%    1.000000e+00  1.000000e+00  0.000000e+00  1.000000e+01  0.000000e+00\n",
       "50%    1.000000e+00  1.000000e+00  0.000000e+00  1.000000e+01  0.000000e+00\n",
       "75%    1.000000e+00  2.000000e+00  1.000000e+00  1.000000e+01  2.000000e+01\n",
       "max    1.000000e+00  2.000000e+00  1.000000e+00  2.000000e+01  1.420000e+02"
      ]
     },
     "execution_count": 76,
     "metadata": {},
     "output_type": "execute_result"
    }
   ],
   "source": [
    "dfXfin = pd.DataFrame(Xfin, columns=['affrentbin','OWNERSHP','EDUCbin','CIHISPEED','TRANTIME'])\n",
    "dfXfin.describe()"
   ]
  },
  {
   "cell_type": "code",
   "execution_count": 77,
   "id": "primary-volleyball",
   "metadata": {},
   "outputs": [
    {
     "data": {
      "text/html": [
       "<div>\n",
       "<style scoped>\n",
       "    .dataframe tbody tr th:only-of-type {\n",
       "        vertical-align: middle;\n",
       "    }\n",
       "\n",
       "    .dataframe tbody tr th {\n",
       "        vertical-align: top;\n",
       "    }\n",
       "\n",
       "    .dataframe thead th {\n",
       "        text-align: right;\n",
       "    }\n",
       "</style>\n",
       "<table border=\"1\" class=\"dataframe\">\n",
       "  <thead>\n",
       "    <tr style=\"text-align: right;\">\n",
       "      <th></th>\n",
       "      <th>affrentbin</th>\n",
       "      <th>OWNERSHP</th>\n",
       "      <th>EDUCbin</th>\n",
       "      <th>CIHISPEED</th>\n",
       "      <th>TRANTIME</th>\n",
       "    </tr>\n",
       "    <tr>\n",
       "      <th>labels</th>\n",
       "      <th></th>\n",
       "      <th></th>\n",
       "      <th></th>\n",
       "      <th></th>\n",
       "      <th></th>\n",
       "    </tr>\n",
       "  </thead>\n",
       "  <tbody>\n",
       "    <tr>\n",
       "      <th>0</th>\n",
       "      <td>1.0</td>\n",
       "      <td>2.000000</td>\n",
       "      <td>0.000000</td>\n",
       "      <td>8.071762</td>\n",
       "      <td>7.592091</td>\n",
       "    </tr>\n",
       "    <tr>\n",
       "      <th>1</th>\n",
       "      <td>1.0</td>\n",
       "      <td>1.000000</td>\n",
       "      <td>0.000000</td>\n",
       "      <td>9.025541</td>\n",
       "      <td>6.383416</td>\n",
       "    </tr>\n",
       "    <tr>\n",
       "      <th>2</th>\n",
       "      <td>0.0</td>\n",
       "      <td>2.000000</td>\n",
       "      <td>0.206314</td>\n",
       "      <td>9.710579</td>\n",
       "      <td>5.372445</td>\n",
       "    </tr>\n",
       "    <tr>\n",
       "      <th>3</th>\n",
       "      <td>1.0</td>\n",
       "      <td>1.293745</td>\n",
       "      <td>1.000000</td>\n",
       "      <td>9.492928</td>\n",
       "      <td>13.405084</td>\n",
       "    </tr>\n",
       "    <tr>\n",
       "      <th>4</th>\n",
       "      <td>1.0</td>\n",
       "      <td>1.337105</td>\n",
       "      <td>0.542434</td>\n",
       "      <td>10.175144</td>\n",
       "      <td>76.413925</td>\n",
       "    </tr>\n",
       "    <tr>\n",
       "      <th>5</th>\n",
       "      <td>1.0</td>\n",
       "      <td>1.445757</td>\n",
       "      <td>0.229667</td>\n",
       "      <td>20.000000</td>\n",
       "      <td>9.673193</td>\n",
       "    </tr>\n",
       "  </tbody>\n",
       "</table>\n",
       "</div>"
      ],
      "text/plain": [
       "        affrentbin  OWNERSHP   EDUCbin  CIHISPEED   TRANTIME\n",
       "labels                                                      \n",
       "0              1.0  2.000000  0.000000   8.071762   7.592091\n",
       "1              1.0  1.000000  0.000000   9.025541   6.383416\n",
       "2              0.0  2.000000  0.206314   9.710579   5.372445\n",
       "3              1.0  1.293745  1.000000   9.492928  13.405084\n",
       "4              1.0  1.337105  0.542434  10.175144  76.413925\n",
       "5              1.0  1.445757  0.229667  20.000000   9.673193"
      ]
     },
     "execution_count": 77,
     "metadata": {},
     "output_type": "execute_result"
    }
   ],
   "source": [
    "dfXfin['labels'] = kmeans.labels_\n",
    "cluster_sum = dfXfin.groupby(by = 'labels').mean()\n",
    "cluster_sum.head(6)"
   ]
  },
  {
   "cell_type": "code",
   "execution_count": 89,
   "id": "pending-companion",
   "metadata": {},
   "outputs": [
    {
     "data": {
      "text/plain": [
       "Text(0.5, 1.0, 'Broadband vs. Commute Time')"
      ]
     },
     "execution_count": 89,
     "metadata": {},
     "output_type": "execute_result"
    },
    {
     "data": {
      "image/png": "[encoded data removed]",
      "text/plain": [
       "<Figure size 576x864 with 1 Axes>"
      ]
     },
     "metadata": {
      "needs_background": "light"
     },
     "output_type": "display_data"
    }
   ],
   "source": [
    "fig, ax = plt.subplots(figsize=(8,12))\n",
    "scatter = ax.scatter(dfXfin['CIHISPEED'], dfXfin['TRANTIME'], c=dfXfin['labels'], cmap=plt.cm.cool)\n",
    "ax.set_xlabel('Broadband Score')\n",
    "ax.set_ylabel('Commute Time (mins)')\n",
    "legend1=ax.legend(*scatter.legend_elements(),loc=\"lower left\", title=\"Cluster\")\n",
    "plt.gca().add_artist(legend1)\n",
    "ax.set_title('Broadband vs. Commute Time')"
   ]
  },
  {
   "cell_type": "code",
   "execution_count": 79,
   "id": "challenging-patrick",
   "metadata": {},
   "outputs": [
    {
     "data": {
      "text/html": [
       "<div>\n",
       "<style scoped>\n",
       "    .dataframe tbody tr th:only-of-type {\n",
       "        vertical-align: middle;\n",
       "    }\n",
       "\n",
       "    .dataframe tbody tr th {\n",
       "        vertical-align: top;\n",
       "    }\n",
       "\n",
       "    .dataframe thead th {\n",
       "        text-align: right;\n",
       "    }\n",
       "</style>\n",
       "<table border=\"1\" class=\"dataframe\">\n",
       "  <thead>\n",
       "    <tr style=\"text-align: right;\">\n",
       "      <th></th>\n",
       "      <th>affrentbin</th>\n",
       "      <th>OWNERSHP</th>\n",
       "      <th>EDUCbin</th>\n",
       "      <th>CIHISPEED</th>\n",
       "      <th>TRANTIME</th>\n",
       "    </tr>\n",
       "  </thead>\n",
       "  <tbody>\n",
       "    <tr>\n",
       "      <th>0</th>\n",
       "      <td>1.0</td>\n",
       "      <td>2.0</td>\n",
       "      <td>1.0</td>\n",
       "      <td>10.0</td>\n",
       "      <td>10.0</td>\n",
       "    </tr>\n",
       "    <tr>\n",
       "      <th>1</th>\n",
       "      <td>1.0</td>\n",
       "      <td>2.0</td>\n",
       "      <td>0.0</td>\n",
       "      <td>10.0</td>\n",
       "      <td>0.0</td>\n",
       "    </tr>\n",
       "    <tr>\n",
       "      <th>2</th>\n",
       "      <td>1.0</td>\n",
       "      <td>1.0</td>\n",
       "      <td>1.0</td>\n",
       "      <td>10.0</td>\n",
       "      <td>0.0</td>\n",
       "    </tr>\n",
       "    <tr>\n",
       "      <th>3</th>\n",
       "      <td>1.0</td>\n",
       "      <td>1.0</td>\n",
       "      <td>1.0</td>\n",
       "      <td>10.0</td>\n",
       "      <td>25.0</td>\n",
       "    </tr>\n",
       "    <tr>\n",
       "      <th>4</th>\n",
       "      <td>1.0</td>\n",
       "      <td>1.0</td>\n",
       "      <td>0.0</td>\n",
       "      <td>10.0</td>\n",
       "      <td>0.0</td>\n",
       "    </tr>\n",
       "  </tbody>\n",
       "</table>\n",
       "</div>"
      ],
      "text/plain": [
       "   affrentbin  OWNERSHP  EDUCbin  CIHISPEED  TRANTIME\n",
       "0         1.0       2.0      1.0       10.0      10.0\n",
       "1         1.0       2.0      0.0       10.0       0.0\n",
       "2         1.0       1.0      1.0       10.0       0.0\n",
       "3         1.0       1.0      1.0       10.0      25.0\n",
       "4         1.0       1.0      0.0       10.0       0.0"
      ]
     },
     "execution_count": 79,
     "metadata": {},
     "output_type": "execute_result"
    }
   ],
   "source": [
    "Xcorr=dfXfin.iloc[:, [0,1,2,3,4]]\n",
    "Xcorr.head()"
   ]
  },
  {
   "cell_type": "code",
   "execution_count": 80,
   "id": "stunning-failure",
   "metadata": {},
   "outputs": [
    {
     "data": {
      "text/plain": [
       "<AxesSubplot:>"
      ]
     },
     "execution_count": 80,
     "metadata": {},
     "output_type": "execute_result"
    },
    {
     "data": {
      "image/png": "[encoded data removed]",
      "text/plain": [
       "<Figure size 1080x720 with 2 Axes>"
      ]
     },
     "metadata": {
      "needs_background": "light"
     },
     "output_type": "display_data"
    }
   ],
   "source": [
    "plt.subplots(figsize=(15,10))\n",
    "sns.heatmap(Xcorr.corr(), annot = True)"
   ]
  },
  {
   "cell_type": "code",
   "execution_count": null,
   "id": "equipped-earthquake",
   "metadata": {},
   "outputs": [],
   "source": []
  }
 ],
 "metadata": {
  "kernelspec": {
   "display_name": "Python 3",
   "language": "python",
   "name": "python3"
  },
  "language_info": {
   "codemirror_mode": {
    "name": "ipython",
    "version": 3
   },
   "file_extension": ".py",
   "mimetype": "text/x-python",
   "name": "python",
   "nbconvert_exporter": "python",
   "pygments_lexer": "ipython3",
   "version": "3.7.6"
  }
 },
 "nbformat": 4,
 "nbformat_minor": 5
}
