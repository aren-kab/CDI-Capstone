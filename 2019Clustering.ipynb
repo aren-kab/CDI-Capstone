{
 "cells": [
  {
   "cell_type": "code",
   "execution_count": 1,
   "id": "effective-february",
   "metadata": {},
   "outputs": [],
   "source": [
    "import pandas as pd\n",
    "import numpy as np\n",
    "import datetime as dt\n",
    "import matplotlib\n",
    "import matplotlib.pyplot as plt\n",
    "import scipy.cluster.hierarchy as shc\n",
    "from sklearn.cluster import AgglomerativeClustering\n",
    "import os\n",
    "import seaborn as sns"
   ]
  },
  {
   "cell_type": "code",
   "execution_count": 2,
   "id": "administrative-partner",
   "metadata": {},
   "outputs": [],
   "source": [
    "from sklearn.cluster import KMeans\n",
    "from scipy.spatial.distance import cdist, pdist\n",
    "from sklearn.datasets import make_classification\n",
    "from sklearn.datasets import make_blobs\n",
    "from sklearn.metrics import silhouette_samples, silhouette_score\n",
    "import matplotlib.cm as cm\n",
    "from sklearn.mixture import GaussianMixture\n",
    "from sklearn.cluster import DBSCAN\n",
    "from sklearn import preprocessing\n",
    "from sklearn.preprocessing import StandardScaler"
   ]
  },
  {
   "cell_type": "code",
   "execution_count": 3,
   "id": "partial-diesel",
   "metadata": {},
   "outputs": [],
   "source": [
    "fileName = 'C:/Users/mcarp/Downloads/usa_00007.csv/usa_00007.csv'\n",
    "file = pd.read_csv(fileName)\n",
    "dfCDI = pd.DataFrame(file)"
   ]
  },
  {
   "cell_type": "code",
   "execution_count": 4,
   "id": "improved-liabilities",
   "metadata": {},
   "outputs": [],
   "source": [
    "fileName2 = 'C:/Users/mcarp/Downloads/county_merged_vals - Sheet1.csv'\n",
    "file2 = pd.read_csv(fileName2)\n",
    "dfCty = pd.DataFrame(file2)"
   ]
  },
  {
   "cell_type": "code",
   "execution_count": 5,
   "id": "veterinary-supplier",
   "metadata": {},
   "outputs": [
    {
     "name": "stdout",
     "output_type": "stream",
     "text": [
      "<class 'pandas.core.frame.DataFrame'>\n",
      "RangeIndex: 1887461 entries, 0 to 1887460\n",
      "Data columns (total 40 columns):\n",
      " #   Column      Dtype  \n",
      "---  ------      -----  \n",
      " 0   YEAR        int64  \n",
      " 1   MULTYEAR    int64  \n",
      " 2   SAMPLE      int64  \n",
      " 3   SERIAL      int64  \n",
      " 4   CBSERIAL    int64  \n",
      " 5   HHWT        float64\n",
      " 6   CLUSTER     int64  \n",
      " 7   CPI99       float64\n",
      " 8   STATEFIP    int64  \n",
      " 9   COUNTYFIP   int64  \n",
      " 10  DENSITY     float64\n",
      " 11  CITY        int64  \n",
      " 12  PUMA        int64  \n",
      " 13  STRATA      int64  \n",
      " 14  GQ          int64  \n",
      " 15  OWNERSHP    int64  \n",
      " 16  OWNERSHPD   int64  \n",
      " 17  OWNCOST     int64  \n",
      " 18  RENTGRS     int64  \n",
      " 19  HHINCOME    int64  \n",
      " 20  CILAPTOP    int64  \n",
      " 21  CIHISPEED   int64  \n",
      " 22  PERNUM      int64  \n",
      " 23  PERWT       float64\n",
      " 24  FAMSIZE     int64  \n",
      " 25  AGE         int64  \n",
      " 26  RACE        int64  \n",
      " 27  RACED       int64  \n",
      " 28  HISPAN      int64  \n",
      " 29  HISPAND     int64  \n",
      " 30  EDUC        int64  \n",
      " 31  EDUCD       int64  \n",
      " 32  OCCSOC      object \n",
      " 33  INDNAICS    object \n",
      " 34  INCTOT      int64  \n",
      " 35  FTOTINC     int64  \n",
      " 36  INCWAGE     int64  \n",
      " 37  MIGCOUNTY1  int64  \n",
      " 38  MOVEDIN     int64  \n",
      " 39  TRANTIME    int64  \n",
      "dtypes: float64(4), int64(34), object(2)\n",
      "memory usage: 576.0+ MB\n"
     ]
    }
   ],
   "source": [
    "dfCDI.info()"
   ]
  },
  {
   "cell_type": "code",
   "execution_count": 6,
   "id": "fatal-darkness",
   "metadata": {},
   "outputs": [
    {
     "data": {
      "text/plain": [
       "(1887461, 40)"
      ]
     },
     "execution_count": 6,
     "metadata": {},
     "output_type": "execute_result"
    }
   ],
   "source": [
    "dfCDI.shape"
   ]
  },
  {
   "cell_type": "code",
   "execution_count": 7,
   "id": "alert-washington",
   "metadata": {},
   "outputs": [
    {
     "data": {
      "text/plain": [
       "(1417874, 40)"
      ]
     },
     "execution_count": 7,
     "metadata": {},
     "output_type": "execute_result"
    }
   ],
   "source": [
    "dfCDI = dfCDI[dfCDI['AGE']>=21]\n",
    "dfCDI.shape"
   ]
  },
  {
   "cell_type": "code",
   "execution_count": 8,
   "id": "incorporated-future",
   "metadata": {},
   "outputs": [
    {
     "data": {
      "text/plain": [
       "0       941339\n",
       "1252      1640\n",
       "1460      1534\n",
       "1619      1222\n",
       "1079      1172\n",
       "         ...  \n",
       "4263         1\n",
       "332          1\n",
       "3996         1\n",
       "57           1\n",
       "197          1\n",
       "Name: RENTGRS, Length: 4547, dtype: int64"
      ]
     },
     "execution_count": 8,
     "metadata": {},
     "output_type": "execute_result"
    }
   ],
   "source": [
    "dfCDI.RENTGRS.value_counts()"
   ]
  },
  {
   "cell_type": "code",
   "execution_count": 9,
   "id": "falling-leisure",
   "metadata": {},
   "outputs": [
    {
     "data": {
      "text/plain": [
       "count    863826.0\n",
       "mean          0.0\n",
       "std           0.0\n",
       "min           0.0\n",
       "25%           0.0\n",
       "50%           0.0\n",
       "75%           0.0\n",
       "max           0.0\n",
       "Name: RENTGRS, dtype: float64"
      ]
     },
     "execution_count": 9,
     "metadata": {},
     "output_type": "execute_result"
    }
   ],
   "source": [
    "dfHomeOwn=dfCDI[dfCDI['OWNERSHP']==1]\n",
    "dfHomeOwn.RENTGRS.describe()"
   ]
  },
  {
   "cell_type": "markdown",
   "id": "right-exemption",
   "metadata": {},
   "source": [
    "This reveals that home owning rows all have 0 values for cost of rent."
   ]
  },
  {
   "cell_type": "code",
   "execution_count": 10,
   "id": "liked-ladder",
   "metadata": {},
   "outputs": [
    {
     "data": {
      "text/plain": [
       "1    863826\n",
       "2    494178\n",
       "0     59870\n",
       "Name: OWNERSHP, dtype: int64"
      ]
     },
     "execution_count": 10,
     "metadata": {},
     "output_type": "execute_result"
    }
   ],
   "source": [
    "dfCDI['OWNERSHP'].value_counts()"
   ]
  },
  {
   "cell_type": "code",
   "execution_count": 11,
   "id": "upper-affect",
   "metadata": {},
   "outputs": [
    {
     "data": {
      "text/plain": [
       "(1358004, 40)"
      ]
     },
     "execution_count": 11,
     "metadata": {},
     "output_type": "execute_result"
    }
   ],
   "source": [
    "dfCDI = dfCDI[dfCDI['OWNERSHP']!=0]\n",
    "dfCDI.shape"
   ]
  },
  {
   "cell_type": "markdown",
   "id": "asian-seating",
   "metadata": {},
   "source": [
    "Removes N/As (~50k rows)"
   ]
  },
  {
   "cell_type": "code",
   "execution_count": 12,
   "id": "failing-shade",
   "metadata": {},
   "outputs": [
    {
     "data": {
      "text/plain": [
       "0       881469\n",
       "1252      1640\n",
       "1460      1534\n",
       "1619      1222\n",
       "1079      1172\n",
       "         ...  \n",
       "4263         1\n",
       "332          1\n",
       "3996         1\n",
       "57           1\n",
       "197          1\n",
       "Name: RENTGRS, Length: 4547, dtype: int64"
      ]
     },
     "execution_count": 12,
     "metadata": {},
     "output_type": "execute_result"
    }
   ],
   "source": [
    "dfCDI['RENTGRS'].value_counts()"
   ]
  },
  {
   "cell_type": "code",
   "execution_count": 13,
   "id": "headed-columbus",
   "metadata": {},
   "outputs": [],
   "source": [
    "dfCDI['affrentdec'] = dfCDI['RENTGRS']*12/dfCDI['HHINCOME']"
   ]
  },
  {
   "cell_type": "code",
   "execution_count": 14,
   "id": "partial-correspondence",
   "metadata": {},
   "outputs": [],
   "source": [
    "def housingFunc(own, affrentdec):\n",
    "    if own==1:\n",
    "        housingCat=2\n",
    "    elif own==2 and affrentdec<.3:\n",
    "        housingCat=1\n",
    "    else:\n",
    "        housingCat=0\n",
    "    return housingCat"
   ]
  },
  {
   "cell_type": "code",
   "execution_count": 15,
   "id": "herbal-pilot",
   "metadata": {},
   "outputs": [
    {
     "data": {
      "text/plain": [
       "2    863826\n",
       "1    261051\n",
       "0    233127\n",
       "Name: HousingCat, dtype: int64"
      ]
     },
     "execution_count": 15,
     "metadata": {},
     "output_type": "execute_result"
    }
   ],
   "source": [
    "dfCDI['HousingCat'] = dfCDI.apply(lambda x: housingFunc(x['OWNERSHP'], x['affrentdec']), axis=1)\n",
    "dfCDI['HousingCat'].value_counts()"
   ]
  },
  {
   "cell_type": "markdown",
   "id": "fewer-circus",
   "metadata": {},
   "source": [
    "COMBINING aff. rent and home ownership into 1 indicator: 0, 1, 2 scores (0: rent>=30% income, 1: rent<30% income, 2: owner)"
   ]
  },
  {
   "cell_type": "code",
   "execution_count": 16,
   "id": "russian-belize",
   "metadata": {},
   "outputs": [
    {
     "data": {
      "text/plain": [
       "0    761987\n",
       "1    596017\n",
       "Name: EDUCbin, dtype: int64"
      ]
     },
     "execution_count": 16,
     "metadata": {},
     "output_type": "execute_result"
    }
   ],
   "source": [
    "dfCDI['EDUCbin'] = [1 if x >=8 else 0 for x in dfCDI['EDUC']]\n",
    "dfCDI['EDUCbin'].value_counts()"
   ]
  },
  {
   "cell_type": "code",
   "execution_count": 17,
   "id": "drawn-enemy",
   "metadata": {},
   "outputs": [
    {
     "data": {
      "text/plain": [
       "10    1047257\n",
       "20     176856\n",
       "0      133891\n",
       "Name: CIHISPEED, dtype: int64"
      ]
     },
     "execution_count": 17,
     "metadata": {},
     "output_type": "execute_result"
    }
   ],
   "source": [
    "dfCDI['CIHISPEED'].value_counts()"
   ]
  },
  {
   "cell_type": "code",
   "execution_count": 18,
   "id": "personal-designer",
   "metadata": {},
   "outputs": [],
   "source": [
    "dfCDI = dfCDI[dfCDI['CIHISPEED']!=0]"
   ]
  },
  {
   "cell_type": "code",
   "execution_count": 19,
   "id": "interesting-chapter",
   "metadata": {},
   "outputs": [
    {
     "data": {
      "text/plain": [
       "0      510201\n",
       "30     105754\n",
       "15      96661\n",
       "20      96467\n",
       "10      73306\n",
       "        ...  \n",
       "104         1\n",
       "117         1\n",
       "116         1\n",
       "103         1\n",
       "113         1\n",
       "Name: TRANTIME, Length: 120, dtype: int64"
      ]
     },
     "execution_count": 19,
     "metadata": {},
     "output_type": "execute_result"
    }
   ],
   "source": [
    "dfCDI['TRANTIME'].value_counts()"
   ]
  },
  {
   "cell_type": "code",
   "execution_count": 20,
   "id": "intellectual-luther",
   "metadata": {},
   "outputs": [
    {
     "data": {
      "text/plain": [
       "(1224113, 43)"
      ]
     },
     "execution_count": 20,
     "metadata": {},
     "output_type": "execute_result"
    }
   ],
   "source": [
    "dfCDI.shape"
   ]
  },
  {
   "cell_type": "code",
   "execution_count": 21,
   "id": "engaging-burning",
   "metadata": {},
   "outputs": [
    {
     "data": {
      "text/plain": [
       "(1180785, 60)"
      ]
     },
     "execution_count": 21,
     "metadata": {},
     "output_type": "execute_result"
    }
   ],
   "source": [
    "joined2019_2 = dfCDI.merge(dfCty, on='COUNTYFIP')\n",
    "joined2019_2.shape"
   ]
  },
  {
   "cell_type": "code",
   "execution_count": 22,
   "id": "manufactured-walter",
   "metadata": {},
   "outputs": [
    {
     "name": "stdout",
     "output_type": "stream",
     "text": [
      "41\n",
      "42\n",
      "21\n",
      "39\n",
      "56\n",
      "58\n",
      "57\n",
      "59\n"
     ]
    }
   ],
   "source": [
    "print(joined2019_2.columns.get_loc(\"HousingCat\"))\n",
    "print(joined2019_2.columns.get_loc(\"EDUCbin\"))\n",
    "print(joined2019_2.columns.get_loc(\"CIHISPEED\"))\n",
    "print(joined2019_2.columns.get_loc(\"TRANTIME\"))\n",
    "print(joined2019_2.columns.get_loc(\"DrinkingWater\"))\n",
    "print(joined2019_2.columns.get_loc(\"AirQuality\"))\n",
    "print(joined2019_2.columns.get_loc(\"EarlyEd\"))\n",
    "print(joined2019_2.columns.get_loc(\"ProspNeigh\"))"
   ]
  },
  {
   "cell_type": "code",
   "execution_count": 23,
   "id": "accredited-chancellor",
   "metadata": {},
   "outputs": [],
   "source": [
    "X = joined2019_2.iloc[:, [41,42,21,39,56,58,57,59]]"
   ]
  },
  {
   "cell_type": "code",
   "execution_count": 24,
   "id": "blocked-status",
   "metadata": {},
   "outputs": [
    {
     "data": {
      "text/html": [
       "<div>\n",
       "<style scoped>\n",
       "    .dataframe tbody tr th:only-of-type {\n",
       "        vertical-align: middle;\n",
       "    }\n",
       "\n",
       "    .dataframe tbody tr th {\n",
       "        vertical-align: top;\n",
       "    }\n",
       "\n",
       "    .dataframe thead th {\n",
       "        text-align: right;\n",
       "    }\n",
       "</style>\n",
       "<table border=\"1\" class=\"dataframe\">\n",
       "  <thead>\n",
       "    <tr style=\"text-align: right;\">\n",
       "      <th></th>\n",
       "      <th>HousingCat</th>\n",
       "      <th>EDUCbin</th>\n",
       "      <th>CIHISPEED</th>\n",
       "      <th>TRANTIME</th>\n",
       "      <th>DrinkingWater</th>\n",
       "      <th>AirQuality</th>\n",
       "      <th>EarlyEd</th>\n",
       "      <th>ProspNeigh</th>\n",
       "    </tr>\n",
       "  </thead>\n",
       "  <tbody>\n",
       "    <tr>\n",
       "      <th>count</th>\n",
       "      <td>1.180785e+06</td>\n",
       "      <td>1.180785e+06</td>\n",
       "      <td>1.180785e+06</td>\n",
       "      <td>1.180785e+06</td>\n",
       "      <td>1.180785e+06</td>\n",
       "      <td>1.180785e+06</td>\n",
       "      <td>1.180785e+06</td>\n",
       "      <td>1.180785e+06</td>\n",
       "    </tr>\n",
       "    <tr>\n",
       "      <th>mean</th>\n",
       "      <td>1.495227e+00</td>\n",
       "      <td>4.688491e-01</td>\n",
       "      <td>1.139179e+01</td>\n",
       "      <td>1.802718e+01</td>\n",
       "      <td>9.943121e-01</td>\n",
       "      <td>3.523099e+01</td>\n",
       "      <td>5.149841e-01</td>\n",
       "      <td>8.171870e-01</td>\n",
       "    </tr>\n",
       "    <tr>\n",
       "      <th>std</th>\n",
       "      <td>7.505296e-01</td>\n",
       "      <td>4.990289e-01</td>\n",
       "      <td>3.461329e+00</td>\n",
       "      <td>2.410094e+01</td>\n",
       "      <td>1.992936e-02</td>\n",
       "      <td>6.126561e+00</td>\n",
       "      <td>8.383225e-02</td>\n",
       "      <td>1.154902e-01</td>\n",
       "    </tr>\n",
       "    <tr>\n",
       "      <th>min</th>\n",
       "      <td>0.000000e+00</td>\n",
       "      <td>0.000000e+00</td>\n",
       "      <td>1.000000e+01</td>\n",
       "      <td>0.000000e+00</td>\n",
       "      <td>8.888183e-01</td>\n",
       "      <td>1.700000e+01</td>\n",
       "      <td>3.260000e-01</td>\n",
       "      <td>3.646189e-01</td>\n",
       "    </tr>\n",
       "    <tr>\n",
       "      <th>25%</th>\n",
       "      <td>1.000000e+00</td>\n",
       "      <td>0.000000e+00</td>\n",
       "      <td>1.000000e+01</td>\n",
       "      <td>0.000000e+00</td>\n",
       "      <td>9.996217e-01</td>\n",
       "      <td>3.000000e+01</td>\n",
       "      <td>4.570000e-01</td>\n",
       "      <td>7.592451e-01</td>\n",
       "    </tr>\n",
       "    <tr>\n",
       "      <th>50%</th>\n",
       "      <td>2.000000e+00</td>\n",
       "      <td>0.000000e+00</td>\n",
       "      <td>1.000000e+01</td>\n",
       "      <td>1.000000e+01</td>\n",
       "      <td>9.999295e-01</td>\n",
       "      <td>3.700000e+01</td>\n",
       "      <td>5.450000e-01</td>\n",
       "      <td>8.183911e-01</td>\n",
       "    </tr>\n",
       "    <tr>\n",
       "      <th>75%</th>\n",
       "      <td>2.000000e+00</td>\n",
       "      <td>1.000000e+00</td>\n",
       "      <td>1.000000e+01</td>\n",
       "      <td>3.000000e+01</td>\n",
       "      <td>1.000000e+00</td>\n",
       "      <td>4.000000e+01</td>\n",
       "      <td>5.540000e-01</td>\n",
       "      <td>8.968348e-01</td>\n",
       "    </tr>\n",
       "    <tr>\n",
       "      <th>max</th>\n",
       "      <td>2.000000e+00</td>\n",
       "      <td>1.000000e+00</td>\n",
       "      <td>2.000000e+01</td>\n",
       "      <td>1.420000e+02</td>\n",
       "      <td>1.000000e+00</td>\n",
       "      <td>4.300000e+01</td>\n",
       "      <td>7.440000e-01</td>\n",
       "      <td>9.960382e-01</td>\n",
       "    </tr>\n",
       "  </tbody>\n",
       "</table>\n",
       "</div>"
      ],
      "text/plain": [
       "         HousingCat       EDUCbin     CIHISPEED      TRANTIME  DrinkingWater  \\\n",
       "count  1.180785e+06  1.180785e+06  1.180785e+06  1.180785e+06   1.180785e+06   \n",
       "mean   1.495227e+00  4.688491e-01  1.139179e+01  1.802718e+01   9.943121e-01   \n",
       "std    7.505296e-01  4.990289e-01  3.461329e+00  2.410094e+01   1.992936e-02   \n",
       "min    0.000000e+00  0.000000e+00  1.000000e+01  0.000000e+00   8.888183e-01   \n",
       "25%    1.000000e+00  0.000000e+00  1.000000e+01  0.000000e+00   9.996217e-01   \n",
       "50%    2.000000e+00  0.000000e+00  1.000000e+01  1.000000e+01   9.999295e-01   \n",
       "75%    2.000000e+00  1.000000e+00  1.000000e+01  3.000000e+01   1.000000e+00   \n",
       "max    2.000000e+00  1.000000e+00  2.000000e+01  1.420000e+02   1.000000e+00   \n",
       "\n",
       "         AirQuality       EarlyEd    ProspNeigh  \n",
       "count  1.180785e+06  1.180785e+06  1.180785e+06  \n",
       "mean   3.523099e+01  5.149841e-01  8.171870e-01  \n",
       "std    6.126561e+00  8.383225e-02  1.154902e-01  \n",
       "min    1.700000e+01  3.260000e-01  3.646189e-01  \n",
       "25%    3.000000e+01  4.570000e-01  7.592451e-01  \n",
       "50%    3.700000e+01  5.450000e-01  8.183911e-01  \n",
       "75%    4.000000e+01  5.540000e-01  8.968348e-01  \n",
       "max    4.300000e+01  7.440000e-01  9.960382e-01  "
      ]
     },
     "execution_count": 24,
     "metadata": {},
     "output_type": "execute_result"
    }
   ],
   "source": [
    "X.describe()"
   ]
  },
  {
   "cell_type": "code",
   "execution_count": 25,
   "id": "decreased-emperor",
   "metadata": {},
   "outputs": [],
   "source": [
    "scaler=StandardScaler()\n",
    "scalerNum = scaler.fit(X)\n",
    "Xstd = scalerNum.transform(X)"
   ]
  },
  {
   "cell_type": "code",
   "execution_count": 26,
   "id": "caring-arrest",
   "metadata": {},
   "outputs": [
    {
     "data": {
      "text/html": [
       "<div>\n",
       "<style scoped>\n",
       "    .dataframe tbody tr th:only-of-type {\n",
       "        vertical-align: middle;\n",
       "    }\n",
       "\n",
       "    .dataframe tbody tr th {\n",
       "        vertical-align: top;\n",
       "    }\n",
       "\n",
       "    .dataframe thead th {\n",
       "        text-align: right;\n",
       "    }\n",
       "</style>\n",
       "<table border=\"1\" class=\"dataframe\">\n",
       "  <thead>\n",
       "    <tr style=\"text-align: right;\">\n",
       "      <th></th>\n",
       "      <th>HousingCat</th>\n",
       "      <th>EDUCbin</th>\n",
       "      <th>CIHISPEED</th>\n",
       "      <th>TRANTIME</th>\n",
       "      <th>DrinkingWater</th>\n",
       "      <th>AirQuality</th>\n",
       "      <th>EarlyEd</th>\n",
       "      <th>ProspNeigh</th>\n",
       "    </tr>\n",
       "  </thead>\n",
       "  <tbody>\n",
       "    <tr>\n",
       "      <th>count</th>\n",
       "      <td>1.180785e+06</td>\n",
       "      <td>1.180785e+06</td>\n",
       "      <td>1.180785e+06</td>\n",
       "      <td>1.180785e+06</td>\n",
       "      <td>1.180785e+06</td>\n",
       "      <td>1.180785e+06</td>\n",
       "      <td>1.180785e+06</td>\n",
       "      <td>1.180785e+06</td>\n",
       "    </tr>\n",
       "    <tr>\n",
       "      <th>mean</th>\n",
       "      <td>7.065428e-13</td>\n",
       "      <td>-4.973875e-14</td>\n",
       "      <td>8.830854e-14</td>\n",
       "      <td>-4.389707e-13</td>\n",
       "      <td>-2.740658e-13</td>\n",
       "      <td>1.435436e-12</td>\n",
       "      <td>-3.516910e-12</td>\n",
       "      <td>5.989656e-13</td>\n",
       "    </tr>\n",
       "    <tr>\n",
       "      <th>std</th>\n",
       "      <td>1.000000e+00</td>\n",
       "      <td>1.000000e+00</td>\n",
       "      <td>1.000000e+00</td>\n",
       "      <td>1.000000e+00</td>\n",
       "      <td>1.000000e+00</td>\n",
       "      <td>1.000000e+00</td>\n",
       "      <td>1.000000e+00</td>\n",
       "      <td>1.000000e+00</td>\n",
       "    </tr>\n",
       "    <tr>\n",
       "      <th>min</th>\n",
       "      <td>-1.992230e+00</td>\n",
       "      <td>-9.395234e-01</td>\n",
       "      <td>-4.020960e-01</td>\n",
       "      <td>-7.479869e-01</td>\n",
       "      <td>-5.293388e+00</td>\n",
       "      <td>-2.975731e+00</td>\n",
       "      <td>-2.254314e+00</td>\n",
       "      <td>-3.918673e+00</td>\n",
       "    </tr>\n",
       "    <tr>\n",
       "      <th>25%</th>\n",
       "      <td>-6.598374e-01</td>\n",
       "      <td>-9.395234e-01</td>\n",
       "      <td>-4.020960e-01</td>\n",
       "      <td>-7.479869e-01</td>\n",
       "      <td>2.664198e-01</td>\n",
       "      <td>-8.538214e-01</td>\n",
       "      <td>-6.916685e-01</td>\n",
       "      <td>-5.017038e-01</td>\n",
       "    </tr>\n",
       "    <tr>\n",
       "      <th>50%</th>\n",
       "      <td>6.725556e-01</td>\n",
       "      <td>-9.395234e-01</td>\n",
       "      <td>-4.020960e-01</td>\n",
       "      <td>-3.330653e-01</td>\n",
       "      <td>2.818670e-01</td>\n",
       "      <td>2.887450e-01</td>\n",
       "      <td>3.580473e-01</td>\n",
       "      <td>1.042612e-02</td>\n",
       "    </tr>\n",
       "    <tr>\n",
       "      <th>75%</th>\n",
       "      <td>6.725556e-01</td>\n",
       "      <td>1.064369e+00</td>\n",
       "      <td>-4.020960e-01</td>\n",
       "      <td>4.967781e-01</td>\n",
       "      <td>2.854028e-01</td>\n",
       "      <td>7.784163e-01</td>\n",
       "      <td>4.654046e-01</td>\n",
       "      <td>6.896505e-01</td>\n",
       "    </tr>\n",
       "    <tr>\n",
       "      <th>max</th>\n",
       "      <td>6.725556e-01</td>\n",
       "      <td>1.064369e+00</td>\n",
       "      <td>2.486969e+00</td>\n",
       "      <td>5.143901e+00</td>\n",
       "      <td>2.854028e-01</td>\n",
       "      <td>1.268088e+00</td>\n",
       "      <td>2.731836e+00</td>\n",
       "      <td>1.548628e+00</td>\n",
       "    </tr>\n",
       "  </tbody>\n",
       "</table>\n",
       "</div>"
      ],
      "text/plain": [
       "         HousingCat       EDUCbin     CIHISPEED      TRANTIME  DrinkingWater  \\\n",
       "count  1.180785e+06  1.180785e+06  1.180785e+06  1.180785e+06   1.180785e+06   \n",
       "mean   7.065428e-13 -4.973875e-14  8.830854e-14 -4.389707e-13  -2.740658e-13   \n",
       "std    1.000000e+00  1.000000e+00  1.000000e+00  1.000000e+00   1.000000e+00   \n",
       "min   -1.992230e+00 -9.395234e-01 -4.020960e-01 -7.479869e-01  -5.293388e+00   \n",
       "25%   -6.598374e-01 -9.395234e-01 -4.020960e-01 -7.479869e-01   2.664198e-01   \n",
       "50%    6.725556e-01 -9.395234e-01 -4.020960e-01 -3.330653e-01   2.818670e-01   \n",
       "75%    6.725556e-01  1.064369e+00 -4.020960e-01  4.967781e-01   2.854028e-01   \n",
       "max    6.725556e-01  1.064369e+00  2.486969e+00  5.143901e+00   2.854028e-01   \n",
       "\n",
       "         AirQuality       EarlyEd    ProspNeigh  \n",
       "count  1.180785e+06  1.180785e+06  1.180785e+06  \n",
       "mean   1.435436e-12 -3.516910e-12  5.989656e-13  \n",
       "std    1.000000e+00  1.000000e+00  1.000000e+00  \n",
       "min   -2.975731e+00 -2.254314e+00 -3.918673e+00  \n",
       "25%   -8.538214e-01 -6.916685e-01 -5.017038e-01  \n",
       "50%    2.887450e-01  3.580473e-01  1.042612e-02  \n",
       "75%    7.784163e-01  4.654046e-01  6.896505e-01  \n",
       "max    1.268088e+00  2.731836e+00  1.548628e+00  "
      ]
     },
     "execution_count": 26,
     "metadata": {},
     "output_type": "execute_result"
    }
   ],
   "source": [
    "dfX = pd.DataFrame(Xstd, columns=['HousingCat','EDUCbin','CIHISPEED','TRANTIME','DrinkingWater','AirQuality','EarlyEd','ProspNeigh'])\n",
    "dfX.describe()"
   ]
  },
  {
   "cell_type": "markdown",
   "id": "least-simpson",
   "metadata": {},
   "source": [
    "elbow method:"
   ]
  },
  {
   "cell_type": "code",
   "execution_count": 114,
   "id": "still-invalid",
   "metadata": {},
   "outputs": [],
   "source": [
    "wcss = []\n",
    "for i in range(1,10):\n",
    "    kmeans = KMeans(n_clusters = i, init = 'k-means++', random_state = 42)\n",
    "    kmeans.fit(dfX)\n",
    "    wcss.append(kmeans.inertia_)"
   ]
  },
  {
   "cell_type": "code",
   "execution_count": 115,
   "id": "formed-exposure",
   "metadata": {},
   "outputs": [
    {
     "name": "stderr",
     "output_type": "stream",
     "text": [
      "C:\\Users\\mcarp\\anaconda3\\lib\\site-packages\\seaborn\\_decorators.py:43: FutureWarning: Pass the following variables as keyword args: x, y. From version 0.12, the only valid positional argument will be `data`, and passing other arguments without an explicit keyword will result in an error or misinterpretation.\n",
      "  FutureWarning\n"
     ]
    },
    {
     "data": {
      "image/png": "[encoded data removed]",
      "text/plain": [
       "<Figure size 720x360 with 1 Axes>"
      ]
     },
     "metadata": {
      "needs_background": "light"
     },
     "output_type": "display_data"
    }
   ],
   "source": [
    "plt.figure(figsize=(10,5))\n",
    "sns.lineplot(range(1,10), wcss,marker='o',color='red')\n",
    "plt.title('The Elbow Method')\n",
    "plt.xlabel('Number of clusters')\n",
    "plt.ylabel('WCSS')\n",
    "plt.show()"
   ]
  },
  {
   "cell_type": "markdown",
   "id": "departmental-letters",
   "metadata": {},
   "source": [
    "silhouette score:"
   ]
  },
  {
   "cell_type": "code",
   "execution_count": 120,
   "id": "contrary-yorkshire",
   "metadata": {},
   "outputs": [],
   "source": [
    "for i in range(3,8):\n",
    "    km = KMeans(n_clusters = i, init = 'k-means++', random_state = 42)\n",
    "    cluster_labels = km.fit_predict(dfX)\n",
    "    silhouette_avg = silhouette_score(dfX, cluster_labels)\n",
    "    print('For n_clusters = {} the average silhouette_score is: {}'.format(i, silhouette_avg))\n",
    "    sample_silhouette_values = silhouette_samples(dfX, cluster_labels)"
   ]
  },
  {
   "cell_type": "code",
   "execution_count": 27,
   "id": "twenty-allergy",
   "metadata": {},
   "outputs": [
    {
     "name": "stdout",
     "output_type": "stream",
     "text": [
      "[3 0 3 ... 1 1 1]\n"
     ]
    }
   ],
   "source": [
    "kmeans = KMeans(n_clusters = 5, init = 'k-means++', random_state = 42)\n",
    "kmeans.fit(dfX)\n",
    "print(kmeans.labels_)"
   ]
  },
  {
   "cell_type": "code",
   "execution_count": 28,
   "id": "neural-heating",
   "metadata": {},
   "outputs": [
    {
     "data": {
      "text/plain": [
       "array([[ 1.        ,  1.        , 10.        , ..., 37.        ,\n",
       "         0.554     ,  0.89683482],\n",
       "       [ 1.        ,  0.        , 10.        , ..., 37.        ,\n",
       "         0.554     ,  0.89683482],\n",
       "       [ 2.        ,  1.        , 10.        , ..., 37.        ,\n",
       "         0.554     ,  0.89683482],\n",
       "       ...,\n",
       "       [ 2.        ,  1.        , 10.        , ..., 40.        ,\n",
       "         0.326     ,  0.40503748],\n",
       "       [ 2.        ,  1.        , 10.        , ..., 40.        ,\n",
       "         0.326     ,  0.40503748],\n",
       "       [ 2.        ,  1.        , 10.        , ..., 40.        ,\n",
       "         0.326     ,  0.40503748]])"
      ]
     },
     "execution_count": 28,
     "metadata": {},
     "output_type": "execute_result"
    }
   ],
   "source": [
    "Xfin = scaler.inverse_transform(dfX)\n",
    "Xfin"
   ]
  },
  {
   "cell_type": "code",
   "execution_count": 29,
   "id": "happy-participation",
   "metadata": {},
   "outputs": [
    {
     "data": {
      "text/html": [
       "<div>\n",
       "<style scoped>\n",
       "    .dataframe tbody tr th:only-of-type {\n",
       "        vertical-align: middle;\n",
       "    }\n",
       "\n",
       "    .dataframe tbody tr th {\n",
       "        vertical-align: top;\n",
       "    }\n",
       "\n",
       "    .dataframe thead th {\n",
       "        text-align: right;\n",
       "    }\n",
       "</style>\n",
       "<table border=\"1\" class=\"dataframe\">\n",
       "  <thead>\n",
       "    <tr style=\"text-align: right;\">\n",
       "      <th></th>\n",
       "      <th>HousingCat</th>\n",
       "      <th>EDUCbin</th>\n",
       "      <th>CIHISPEED</th>\n",
       "      <th>TRANTIME</th>\n",
       "      <th>DrinkingWater</th>\n",
       "      <th>AirQuality</th>\n",
       "      <th>EarlyEd</th>\n",
       "      <th>ProspNeigh</th>\n",
       "    </tr>\n",
       "  </thead>\n",
       "  <tbody>\n",
       "    <tr>\n",
       "      <th>count</th>\n",
       "      <td>1.180785e+06</td>\n",
       "      <td>1.180785e+06</td>\n",
       "      <td>1.180785e+06</td>\n",
       "      <td>1.180785e+06</td>\n",
       "      <td>1.180785e+06</td>\n",
       "      <td>1.180785e+06</td>\n",
       "      <td>1.180785e+06</td>\n",
       "      <td>1.180785e+06</td>\n",
       "    </tr>\n",
       "    <tr>\n",
       "      <th>mean</th>\n",
       "      <td>1.495227e+00</td>\n",
       "      <td>4.688491e-01</td>\n",
       "      <td>1.139179e+01</td>\n",
       "      <td>1.802718e+01</td>\n",
       "      <td>9.943121e-01</td>\n",
       "      <td>3.523099e+01</td>\n",
       "      <td>5.149841e-01</td>\n",
       "      <td>8.171870e-01</td>\n",
       "    </tr>\n",
       "    <tr>\n",
       "      <th>std</th>\n",
       "      <td>7.505296e-01</td>\n",
       "      <td>4.990289e-01</td>\n",
       "      <td>3.461329e+00</td>\n",
       "      <td>2.410094e+01</td>\n",
       "      <td>1.992936e-02</td>\n",
       "      <td>6.126561e+00</td>\n",
       "      <td>8.383225e-02</td>\n",
       "      <td>1.154902e-01</td>\n",
       "    </tr>\n",
       "    <tr>\n",
       "      <th>min</th>\n",
       "      <td>0.000000e+00</td>\n",
       "      <td>0.000000e+00</td>\n",
       "      <td>1.000000e+01</td>\n",
       "      <td>0.000000e+00</td>\n",
       "      <td>8.888183e-01</td>\n",
       "      <td>1.700000e+01</td>\n",
       "      <td>3.260000e-01</td>\n",
       "      <td>3.646189e-01</td>\n",
       "    </tr>\n",
       "    <tr>\n",
       "      <th>25%</th>\n",
       "      <td>1.000000e+00</td>\n",
       "      <td>0.000000e+00</td>\n",
       "      <td>1.000000e+01</td>\n",
       "      <td>0.000000e+00</td>\n",
       "      <td>9.996217e-01</td>\n",
       "      <td>3.000000e+01</td>\n",
       "      <td>4.570000e-01</td>\n",
       "      <td>7.592451e-01</td>\n",
       "    </tr>\n",
       "    <tr>\n",
       "      <th>50%</th>\n",
       "      <td>2.000000e+00</td>\n",
       "      <td>0.000000e+00</td>\n",
       "      <td>1.000000e+01</td>\n",
       "      <td>1.000000e+01</td>\n",
       "      <td>9.999295e-01</td>\n",
       "      <td>3.700000e+01</td>\n",
       "      <td>5.450000e-01</td>\n",
       "      <td>8.183911e-01</td>\n",
       "    </tr>\n",
       "    <tr>\n",
       "      <th>75%</th>\n",
       "      <td>2.000000e+00</td>\n",
       "      <td>1.000000e+00</td>\n",
       "      <td>1.000000e+01</td>\n",
       "      <td>3.000000e+01</td>\n",
       "      <td>1.000000e+00</td>\n",
       "      <td>4.000000e+01</td>\n",
       "      <td>5.540000e-01</td>\n",
       "      <td>8.968348e-01</td>\n",
       "    </tr>\n",
       "    <tr>\n",
       "      <th>max</th>\n",
       "      <td>2.000000e+00</td>\n",
       "      <td>1.000000e+00</td>\n",
       "      <td>2.000000e+01</td>\n",
       "      <td>1.420000e+02</td>\n",
       "      <td>1.000000e+00</td>\n",
       "      <td>4.300000e+01</td>\n",
       "      <td>7.440000e-01</td>\n",
       "      <td>9.960382e-01</td>\n",
       "    </tr>\n",
       "  </tbody>\n",
       "</table>\n",
       "</div>"
      ],
      "text/plain": [
       "         HousingCat       EDUCbin     CIHISPEED      TRANTIME  DrinkingWater  \\\n",
       "count  1.180785e+06  1.180785e+06  1.180785e+06  1.180785e+06   1.180785e+06   \n",
       "mean   1.495227e+00  4.688491e-01  1.139179e+01  1.802718e+01   9.943121e-01   \n",
       "std    7.505296e-01  4.990289e-01  3.461329e+00  2.410094e+01   1.992936e-02   \n",
       "min    0.000000e+00  0.000000e+00  1.000000e+01  0.000000e+00   8.888183e-01   \n",
       "25%    1.000000e+00  0.000000e+00  1.000000e+01  0.000000e+00   9.996217e-01   \n",
       "50%    2.000000e+00  0.000000e+00  1.000000e+01  1.000000e+01   9.999295e-01   \n",
       "75%    2.000000e+00  1.000000e+00  1.000000e+01  3.000000e+01   1.000000e+00   \n",
       "max    2.000000e+00  1.000000e+00  2.000000e+01  1.420000e+02   1.000000e+00   \n",
       "\n",
       "         AirQuality       EarlyEd    ProspNeigh  \n",
       "count  1.180785e+06  1.180785e+06  1.180785e+06  \n",
       "mean   3.523099e+01  5.149841e-01  8.171870e-01  \n",
       "std    6.126561e+00  8.383225e-02  1.154902e-01  \n",
       "min    1.700000e+01  3.260000e-01  3.646189e-01  \n",
       "25%    3.000000e+01  4.570000e-01  7.592451e-01  \n",
       "50%    3.700000e+01  5.450000e-01  8.183911e-01  \n",
       "75%    4.000000e+01  5.540000e-01  8.968348e-01  \n",
       "max    4.300000e+01  7.440000e-01  9.960382e-01  "
      ]
     },
     "execution_count": 29,
     "metadata": {},
     "output_type": "execute_result"
    }
   ],
   "source": [
    "dfXfin = pd.DataFrame(Xfin, columns=['HousingCat','EDUCbin','CIHISPEED','TRANTIME','DrinkingWater','AirQuality','EarlyEd','ProspNeigh'])\n",
    "dfXfin.describe()"
   ]
  },
  {
   "cell_type": "code",
   "execution_count": 30,
   "id": "alleged-wiring",
   "metadata": {},
   "outputs": [
    {
     "data": {
      "text/html": [
       "<div>\n",
       "<style scoped>\n",
       "    .dataframe tbody tr th:only-of-type {\n",
       "        vertical-align: middle;\n",
       "    }\n",
       "\n",
       "    .dataframe tbody tr th {\n",
       "        vertical-align: top;\n",
       "    }\n",
       "\n",
       "    .dataframe thead th {\n",
       "        text-align: right;\n",
       "    }\n",
       "</style>\n",
       "<table border=\"1\" class=\"dataframe\">\n",
       "  <thead>\n",
       "    <tr style=\"text-align: right;\">\n",
       "      <th></th>\n",
       "      <th>HousingCat</th>\n",
       "      <th>EDUCbin</th>\n",
       "      <th>CIHISPEED</th>\n",
       "      <th>TRANTIME</th>\n",
       "      <th>DrinkingWater</th>\n",
       "      <th>AirQuality</th>\n",
       "      <th>EarlyEd</th>\n",
       "      <th>ProspNeigh</th>\n",
       "    </tr>\n",
       "    <tr>\n",
       "      <th>labels</th>\n",
       "      <th></th>\n",
       "      <th></th>\n",
       "      <th></th>\n",
       "      <th></th>\n",
       "      <th></th>\n",
       "      <th></th>\n",
       "      <th></th>\n",
       "      <th></th>\n",
       "    </tr>\n",
       "  </thead>\n",
       "  <tbody>\n",
       "    <tr>\n",
       "      <th>0</th>\n",
       "      <td>1.422269</td>\n",
       "      <td>0.000000</td>\n",
       "      <td>10.000000</td>\n",
       "      <td>16.362325</td>\n",
       "      <td>0.998360</td>\n",
       "      <td>37.912302</td>\n",
       "      <td>0.495210</td>\n",
       "      <td>0.790532</td>\n",
       "    </tr>\n",
       "    <tr>\n",
       "      <th>1</th>\n",
       "      <td>1.537159</td>\n",
       "      <td>0.307743</td>\n",
       "      <td>12.447006</td>\n",
       "      <td>14.108426</td>\n",
       "      <td>0.914040</td>\n",
       "      <td>36.808718</td>\n",
       "      <td>0.380446</td>\n",
       "      <td>0.628615</td>\n",
       "    </tr>\n",
       "    <tr>\n",
       "      <th>2</th>\n",
       "      <td>1.568603</td>\n",
       "      <td>0.655091</td>\n",
       "      <td>10.138673</td>\n",
       "      <td>20.180126</td>\n",
       "      <td>0.999951</td>\n",
       "      <td>27.013902</td>\n",
       "      <td>0.588588</td>\n",
       "      <td>0.935869</td>\n",
       "    </tr>\n",
       "    <tr>\n",
       "      <th>3</th>\n",
       "      <td>1.588748</td>\n",
       "      <td>1.000000</td>\n",
       "      <td>10.000000</td>\n",
       "      <td>19.656906</td>\n",
       "      <td>0.998869</td>\n",
       "      <td>37.966914</td>\n",
       "      <td>0.508506</td>\n",
       "      <td>0.795337</td>\n",
       "    </tr>\n",
       "    <tr>\n",
       "      <th>4</th>\n",
       "      <td>1.338291</td>\n",
       "      <td>0.313637</td>\n",
       "      <td>20.000000</td>\n",
       "      <td>16.827951</td>\n",
       "      <td>0.998404</td>\n",
       "      <td>36.015603</td>\n",
       "      <td>0.509707</td>\n",
       "      <td>0.807049</td>\n",
       "    </tr>\n",
       "  </tbody>\n",
       "</table>\n",
       "</div>"
      ],
      "text/plain": [
       "        HousingCat   EDUCbin  CIHISPEED   TRANTIME  DrinkingWater  AirQuality  \\\n",
       "labels                                                                          \n",
       "0         1.422269  0.000000  10.000000  16.362325       0.998360   37.912302   \n",
       "1         1.537159  0.307743  12.447006  14.108426       0.914040   36.808718   \n",
       "2         1.568603  0.655091  10.138673  20.180126       0.999951   27.013902   \n",
       "3         1.588748  1.000000  10.000000  19.656906       0.998869   37.966914   \n",
       "4         1.338291  0.313637  20.000000  16.827951       0.998404   36.015603   \n",
       "\n",
       "         EarlyEd  ProspNeigh  \n",
       "labels                        \n",
       "0       0.495210    0.790532  \n",
       "1       0.380446    0.628615  \n",
       "2       0.588588    0.935869  \n",
       "3       0.508506    0.795337  \n",
       "4       0.509707    0.807049  "
      ]
     },
     "execution_count": 30,
     "metadata": {},
     "output_type": "execute_result"
    }
   ],
   "source": [
    "dfXfin['labels'] = kmeans.labels_\n",
    "cluster_sum = dfXfin.groupby(by = 'labels').mean()\n",
    "cluster_sum.head()"
   ]
  },
  {
   "cell_type": "code",
   "execution_count": 31,
   "id": "trained-tsunami",
   "metadata": {},
   "outputs": [],
   "source": [
    "clust0 = dfXfin[dfXfin['labels']==0]\n",
    "clust1 = dfXfin[dfXfin['labels']==1]\n",
    "clust2 = dfXfin[dfXfin['labels']==2]\n",
    "clust3 = dfXfin[dfXfin['labels']==3]\n",
    "clust4 = dfXfin[dfXfin['labels']==4]\n",
    "#clust5 = dfXfin[dfXfin['labels']==5]\n",
    "#clust6 = dfXfin[dfXfin['labels']==6]"
   ]
  },
  {
   "cell_type": "markdown",
   "id": "sharing-naples",
   "metadata": {},
   "source": [
    "## Housing Category"
   ]
  },
  {
   "cell_type": "code",
   "execution_count": 32,
   "id": "remarkable-responsibility",
   "metadata": {},
   "outputs": [
    {
     "data": {
      "text/plain": [
       "2.0    243192\n",
       "0.0     76944\n",
       "1.0     73566\n",
       "Name: HousingCat, dtype: int64"
      ]
     },
     "execution_count": 32,
     "metadata": {},
     "output_type": "execute_result"
    }
   ],
   "source": [
    "clust0['HousingCat'].value_counts()"
   ]
  },
  {
   "cell_type": "code",
   "execution_count": 33,
   "id": "funky-wells",
   "metadata": {},
   "outputs": [
    {
     "data": {
      "text/plain": [
       "2.0    42759\n",
       "1.0    12233\n",
       "0.0     8600\n",
       "Name: HousingCat, dtype: int64"
      ]
     },
     "execution_count": 33,
     "metadata": {},
     "output_type": "execute_result"
    }
   ],
   "source": [
    "clust1['HousingCat'].value_counts()"
   ]
  },
  {
   "cell_type": "code",
   "execution_count": 34,
   "id": "changing-necklace",
   "metadata": {},
   "outputs": [
    {
     "data": {
      "text/plain": [
       "2.0    177279\n",
       "1.0     53900\n",
       "0.0     29217\n",
       "Name: HousingCat, dtype: int64"
      ]
     },
     "execution_count": 34,
     "metadata": {},
     "output_type": "execute_result"
    }
   ],
   "source": [
    "clust2['HousingCat'].value_counts()"
   ]
  },
  {
   "cell_type": "code",
   "execution_count": 35,
   "id": "central-difficulty",
   "metadata": {},
   "outputs": [
    {
     "data": {
      "text/plain": [
       "2.0    223949\n",
       "1.0     57208\n",
       "0.0     36770\n",
       "Name: HousingCat, dtype: int64"
      ]
     },
     "execution_count": 35,
     "metadata": {},
     "output_type": "execute_result"
    }
   ],
   "source": [
    "clust3['HousingCat'].value_counts()"
   ]
  },
  {
   "cell_type": "code",
   "execution_count": 36,
   "id": "broken-accident",
   "metadata": {},
   "outputs": [
    {
     "data": {
      "text/plain": [
       "2.0    82558\n",
       "0.0    33449\n",
       "1.0    29161\n",
       "Name: HousingCat, dtype: int64"
      ]
     },
     "execution_count": 36,
     "metadata": {},
     "output_type": "execute_result"
    }
   ],
   "source": [
    "clust4['HousingCat'].value_counts()"
   ]
  },
  {
   "cell_type": "code",
   "execution_count": null,
   "id": "fluid-deputy",
   "metadata": {},
   "outputs": [],
   "source": [
    "# TABLE"
   ]
  },
  {
   "cell_type": "markdown",
   "id": "catholic-terror",
   "metadata": {},
   "source": [
    "## Education (binary)"
   ]
  },
  {
   "cell_type": "code",
   "execution_count": 38,
   "id": "approximate-percentage",
   "metadata": {},
   "outputs": [
    {
     "data": {
      "text/plain": [
       "0.0    393702\n",
       "Name: EDUCbin, dtype: int64"
      ]
     },
     "execution_count": 38,
     "metadata": {},
     "output_type": "execute_result"
    }
   ],
   "source": [
    "clust0['EDUCbin'].value_counts()"
   ]
  },
  {
   "cell_type": "code",
   "execution_count": 37,
   "id": "classified-external",
   "metadata": {},
   "outputs": [
    {
     "data": {
      "text/plain": [
       "0.0    44022\n",
       "1.0    19570\n",
       "Name: EDUCbin, dtype: int64"
      ]
     },
     "execution_count": 37,
     "metadata": {},
     "output_type": "execute_result"
    }
   ],
   "source": [
    "clust1['EDUCbin'].value_counts()"
   ]
  },
  {
   "cell_type": "code",
   "execution_count": 39,
   "id": "identified-paint",
   "metadata": {},
   "outputs": [
    {
     "data": {
      "text/plain": [
       "1.0    170583\n",
       "0.0     89813\n",
       "Name: EDUCbin, dtype: int64"
      ]
     },
     "execution_count": 39,
     "metadata": {},
     "output_type": "execute_result"
    }
   ],
   "source": [
    "clust2['EDUCbin'].value_counts()"
   ]
  },
  {
   "cell_type": "code",
   "execution_count": 40,
   "id": "dying-phrase",
   "metadata": {},
   "outputs": [
    {
     "data": {
      "text/plain": [
       "1.0    317927\n",
       "Name: EDUCbin, dtype: int64"
      ]
     },
     "execution_count": 40,
     "metadata": {},
     "output_type": "execute_result"
    }
   ],
   "source": [
    "clust3['EDUCbin'].value_counts()"
   ]
  },
  {
   "cell_type": "code",
   "execution_count": 41,
   "id": "sporting-crystal",
   "metadata": {},
   "outputs": [
    {
     "data": {
      "text/plain": [
       "0.0    99638\n",
       "1.0    45530\n",
       "Name: EDUCbin, dtype: int64"
      ]
     },
     "execution_count": 41,
     "metadata": {},
     "output_type": "execute_result"
    }
   ],
   "source": [
    "clust4['EDUCbin'].value_counts()"
   ]
  },
  {
   "cell_type": "code",
   "execution_count": null,
   "id": "intensive-plant",
   "metadata": {},
   "outputs": [],
   "source": [
    "#TABLE\n"
   ]
  },
  {
   "cell_type": "markdown",
   "id": "measured-backing",
   "metadata": {},
   "source": [
    "## Broadband Availability"
   ]
  },
  {
   "cell_type": "code",
   "execution_count": 42,
   "id": "twelve-edinburgh",
   "metadata": {},
   "outputs": [
    {
     "data": {
      "text/plain": [
       "10.0    393702\n",
       "Name: CIHISPEED, dtype: int64"
      ]
     },
     "execution_count": 42,
     "metadata": {},
     "output_type": "execute_result"
    }
   ],
   "source": [
    "clust0['CIHISPEED'].value_counts()"
   ]
  },
  {
   "cell_type": "code",
   "execution_count": 43,
   "id": "opposed-consortium",
   "metadata": {},
   "outputs": [
    {
     "data": {
      "text/plain": [
       "10.0    48031\n",
       "20.0    15561\n",
       "Name: CIHISPEED, dtype: int64"
      ]
     },
     "execution_count": 43,
     "metadata": {},
     "output_type": "execute_result"
    }
   ],
   "source": [
    "clust1['CIHISPEED'].value_counts()"
   ]
  },
  {
   "cell_type": "code",
   "execution_count": 44,
   "id": "smoking-instruction",
   "metadata": {},
   "outputs": [
    {
     "data": {
      "text/plain": [
       "10.0    256785\n",
       "20.0      3611\n",
       "Name: CIHISPEED, dtype: int64"
      ]
     },
     "execution_count": 44,
     "metadata": {},
     "output_type": "execute_result"
    }
   ],
   "source": [
    "clust2['CIHISPEED'].value_counts()"
   ]
  },
  {
   "cell_type": "code",
   "execution_count": 45,
   "id": "august-franklin",
   "metadata": {},
   "outputs": [
    {
     "data": {
      "text/plain": [
       "10.0    317927\n",
       "Name: CIHISPEED, dtype: int64"
      ]
     },
     "execution_count": 45,
     "metadata": {},
     "output_type": "execute_result"
    }
   ],
   "source": [
    "clust3['CIHISPEED'].value_counts()"
   ]
  },
  {
   "cell_type": "code",
   "execution_count": 46,
   "id": "invisible-hampshire",
   "metadata": {},
   "outputs": [
    {
     "data": {
      "text/plain": [
       "20.0    145168\n",
       "Name: CIHISPEED, dtype: int64"
      ]
     },
     "execution_count": 46,
     "metadata": {},
     "output_type": "execute_result"
    }
   ],
   "source": [
    "clust4['CIHISPEED'].value_counts()"
   ]
  },
  {
   "cell_type": "code",
   "execution_count": null,
   "id": "oriented-coral",
   "metadata": {},
   "outputs": [],
   "source": [
    "#TABLE\n"
   ]
  },
  {
   "cell_type": "markdown",
   "id": "liquid-aruba",
   "metadata": {},
   "source": [
    "## Commute Time"
   ]
  },
  {
   "cell_type": "code",
   "execution_count": 47,
   "id": "soviet-footage",
   "metadata": {},
   "outputs": [
    {
     "data": {
      "text/plain": [
       "(array([2.22252e+05, 7.62100e+04, 4.92940e+04, 1.87860e+04, 1.55690e+04,\n",
       "        2.29400e+03, 4.68000e+03, 6.32000e+02, 5.00000e+01, 3.93500e+03]),\n",
       " array([  0. ,  14.2,  28.4,  42.6,  56.8,  71. ,  85.2,  99.4, 113.6,\n",
       "        127.8, 142. ]),\n",
       " <BarContainer object of 10 artists>)"
      ]
     },
     "execution_count": 47,
     "metadata": {},
     "output_type": "execute_result"
    },
    {
     "data": {
      "image/png": "[encoded data removed]",
      "text/plain": [
       "<Figure size 432x288 with 1 Axes>"
      ]
     },
     "metadata": {
      "needs_background": "light"
     },
     "output_type": "display_data"
    }
   ],
   "source": [
    "matplotlib.pyplot.hist(clust0['TRANTIME'])"
   ]
  },
  {
   "cell_type": "code",
   "execution_count": 48,
   "id": "international-holly",
   "metadata": {},
   "outputs": [
    {
     "data": {
      "text/plain": [
       "(array([3.9949e+04, 1.2782e+04, 5.4740e+03, 2.1220e+03, 1.3700e+03,\n",
       "        3.1000e+02, 5.6400e+02, 1.3500e+02, 8.0000e+00, 8.7800e+02]),\n",
       " array([  0. ,  14.2,  28.4,  42.6,  56.8,  71. ,  85.2,  99.4, 113.6,\n",
       "        127.8, 142. ]),\n",
       " <BarContainer object of 10 artists>)"
      ]
     },
     "execution_count": 48,
     "metadata": {},
     "output_type": "execute_result"
    },
    {
     "data": {
      "image/png": "[encoded data removed]",
      "text/plain": [
       "<Figure size 432x288 with 1 Axes>"
      ]
     },
     "metadata": {
      "needs_background": "light"
     },
     "output_type": "display_data"
    }
   ],
   "source": [
    "matplotlib.pyplot.hist(clust1['TRANTIME'])"
   ]
  },
  {
   "cell_type": "code",
   "execution_count": 49,
   "id": "embedded-regular",
   "metadata": {},
   "outputs": [
    {
     "data": {
      "text/plain": [
       "(array([1.28094e+05, 5.11980e+04, 3.70740e+04, 1.88300e+04, 1.44740e+04,\n",
       "        3.15400e+03, 4.29000e+03, 7.66000e+02, 2.40000e+01, 2.49200e+03]),\n",
       " array([  0. ,  14.2,  28.4,  42.6,  56.8,  71. ,  85.2,  99.4, 113.6,\n",
       "        127.8, 142. ]),\n",
       " <BarContainer object of 10 artists>)"
      ]
     },
     "execution_count": 49,
     "metadata": {},
     "output_type": "execute_result"
    },
    {
     "data": {
      "image/png": "[encoded data removed]",
      "text/plain": [
       "<Figure size 432x288 with 1 Axes>"
      ]
     },
     "metadata": {
      "needs_background": "light"
     },
     "output_type": "display_data"
    }
   ],
   "source": [
    "matplotlib.pyplot.hist(clust2['TRANTIME'])"
   ]
  },
  {
   "cell_type": "code",
   "execution_count": 50,
   "id": "lucky-darkness",
   "metadata": {},
   "outputs": [
    {
     "data": {
      "text/plain": [
       "(array([1.53068e+05, 7.00320e+04, 4.71920e+04, 2.12930e+04, 1.51330e+04,\n",
       "        2.99000e+03, 4.32200e+03, 7.07000e+02, 3.50000e+01, 3.15500e+03]),\n",
       " array([  0. ,  14.2,  28.4,  42.6,  56.8,  71. ,  85.2,  99.4, 113.6,\n",
       "        127.8, 142. ]),\n",
       " <BarContainer object of 10 artists>)"
      ]
     },
     "execution_count": 50,
     "metadata": {},
     "output_type": "execute_result"
    },
    {
     "data": {
      "image/png": "[encoded data removed]",
      "text/plain": [
       "<Figure size 432x288 with 1 Axes>"
      ]
     },
     "metadata": {
      "needs_background": "light"
     },
     "output_type": "display_data"
    }
   ],
   "source": [
    "matplotlib.pyplot.hist(clust3['TRANTIME'])"
   ]
  },
  {
   "cell_type": "code",
   "execution_count": 51,
   "id": "genetic-bundle",
   "metadata": {},
   "outputs": [
    {
     "data": {
      "text/plain": [
       "(array([8.1606e+04, 2.6740e+04, 1.8743e+04, 7.2230e+03, 6.3030e+03,\n",
       "        8.7100e+02, 1.7670e+03, 2.5600e+02, 9.0000e+00, 1.6500e+03]),\n",
       " array([  0. ,  14.2,  28.4,  42.6,  56.8,  71. ,  85.2,  99.4, 113.6,\n",
       "        127.8, 142. ]),\n",
       " <BarContainer object of 10 artists>)"
      ]
     },
     "execution_count": 51,
     "metadata": {},
     "output_type": "execute_result"
    },
    {
     "data": {
      "image/png": "[encoded data removed]",
      "text/plain": [
       "<Figure size 432x288 with 1 Axes>"
      ]
     },
     "metadata": {
      "needs_background": "light"
     },
     "output_type": "display_data"
    }
   ],
   "source": [
    "matplotlib.pyplot.hist(clust4['TRANTIME'])"
   ]
  },
  {
   "cell_type": "markdown",
   "id": "aggregate-crawford",
   "metadata": {},
   "source": [
    "## Clean Drinking Water"
   ]
  },
  {
   "cell_type": "code",
   "execution_count": 53,
   "id": "extensive-portal",
   "metadata": {},
   "outputs": [
    {
     "data": {
      "text/plain": [
       "(array([ 10940.,      0.,      0.,      0.,      0.,      0.,      0.,\n",
       "         12184.,      0., 370578.]),\n",
       " array([0.96423441, 0.96781097, 0.97138753, 0.97496409, 0.97854065,\n",
       "        0.98211721, 0.98569377, 0.98927032, 0.99284688, 0.99642344,\n",
       "        1.        ]),\n",
       " <BarContainer object of 10 artists>)"
      ]
     },
     "execution_count": 53,
     "metadata": {},
     "output_type": "execute_result"
    },
    {
     "data": {
      "image/png": "[encoded data removed]",
      "text/plain": [
       "<Figure size 432x288 with 1 Axes>"
      ]
     },
     "metadata": {
      "needs_background": "light"
     },
     "output_type": "display_data"
    }
   ],
   "source": [
    "matplotlib.pyplot.hist(clust0['DrinkingWater'])"
   ]
  },
  {
   "cell_type": "code",
   "execution_count": 54,
   "id": "several-journalist",
   "metadata": {},
   "outputs": [
    {
     "data": {
      "text/plain": [
       "(array([10968.,     0.,     0.,     0.,     0.,     0.,     0., 25426.,\n",
       "        12914., 14284.]),\n",
       " array([0.88881831, 0.89241896, 0.89601961, 0.89962026, 0.90322091,\n",
       "        0.90682156, 0.91042221, 0.91402286, 0.91762351, 0.92122416,\n",
       "        0.92482482]),\n",
       " <BarContainer object of 10 artists>)"
      ]
     },
     "execution_count": 54,
     "metadata": {},
     "output_type": "execute_result"
    },
    {
     "data": {
      "image/png": "[encoded data removed]",
      "text/plain": [
       "<Figure size 432x288 with 1 Axes>"
      ]
     },
     "metadata": {
      "needs_background": "light"
     },
     "output_type": "display_data"
    }
   ],
   "source": [
    "matplotlib.pyplot.hist(clust1['DrinkingWater'])"
   ]
  },
  {
   "cell_type": "code",
   "execution_count": 55,
   "id": "statewide-import",
   "metadata": {},
   "outputs": [
    {
     "data": {
      "text/plain": [
       "(array([  4129.,      0.,      0.,      0.,      0.,      0.,      0.,\n",
       "         11006.,  15505., 229756.]),\n",
       " array([0.9985828 , 0.99872452, 0.99886624, 0.99900796, 0.99914968,\n",
       "        0.9992914 , 0.99943312, 0.99957484, 0.99971656, 0.99985828,\n",
       "        1.        ]),\n",
       " <BarContainer object of 10 artists>)"
      ]
     },
     "execution_count": 55,
     "metadata": {},
     "output_type": "execute_result"
    },
    {
     "data": {
      "image/png": "[encoded data removed]",
      "text/plain": [
       "<Figure size 432x288 with 1 Axes>"
      ]
     },
     "metadata": {
      "needs_background": "light"
     },
     "output_type": "display_data"
    }
   ],
   "source": [
    "matplotlib.pyplot.hist(clust2['DrinkingWater'])"
   ]
  },
  {
   "cell_type": "code",
   "execution_count": 56,
   "id": "structural-parks",
   "metadata": {},
   "outputs": [
    {
     "data": {
      "text/plain": [
       "(array([  5555.,      0.,      0.,      0.,      0.,      0.,      0.,\n",
       "          7640.,      0., 304732.]),\n",
       " array([0.96423441, 0.96781097, 0.97138753, 0.97496409, 0.97854065,\n",
       "        0.98211721, 0.98569377, 0.98927032, 0.99284688, 0.99642344,\n",
       "        1.        ]),\n",
       " <BarContainer object of 10 artists>)"
      ]
     },
     "execution_count": 56,
     "metadata": {},
     "output_type": "execute_result"
    },
    {
     "data": {
      "image/png": "[encoded data removed]",
      "text/plain": [
       "<Figure size 432x288 with 1 Axes>"
      ]
     },
     "metadata": {
      "needs_background": "light"
     },
     "output_type": "display_data"
    }
   ],
   "source": [
    "matplotlib.pyplot.hist(clust3['DrinkingWater'])"
   ]
  },
  {
   "cell_type": "code",
   "execution_count": 57,
   "id": "greenhouse-shore",
   "metadata": {},
   "outputs": [
    {
     "data": {
      "text/plain": [
       "(array([  3947.,      0.,      0.,      0.,      0.,      0.,      0.,\n",
       "          5306.,      0., 135915.]),\n",
       " array([0.96423441, 0.96781097, 0.97138753, 0.97496409, 0.97854065,\n",
       "        0.98211721, 0.98569377, 0.98927032, 0.99284688, 0.99642344,\n",
       "        1.        ]),\n",
       " <BarContainer object of 10 artists>)"
      ]
     },
     "execution_count": 57,
     "metadata": {},
     "output_type": "execute_result"
    },
    {
     "data": {
      "image/png": "[encoded data removed]",
      "text/plain": [
       "<Figure size 432x288 with 1 Axes>"
      ]
     },
     "metadata": {
      "needs_background": "light"
     },
     "output_type": "display_data"
    }
   ],
   "source": [
    "matplotlib.pyplot.hist(clust4['DrinkingWater'])"
   ]
  },
  {
   "cell_type": "markdown",
   "id": "invalid-committee",
   "metadata": {},
   "source": [
    "## Air Quality"
   ]
  },
  {
   "cell_type": "code",
   "execution_count": 58,
   "id": "divine-protein",
   "metadata": {},
   "outputs": [
    {
     "data": {
      "text/plain": [
       "(array([  8861.,  33891.,      0.,  10940.,   4973.,  45621.,  69719.,\n",
       "             0., 150561.,  69136.]),\n",
       " array([26. , 27.7, 29.4, 31.1, 32.8, 34.5, 36.2, 37.9, 39.6, 41.3, 43. ]),\n",
       " <BarContainer object of 10 artists>)"
      ]
     },
     "execution_count": 58,
     "metadata": {},
     "output_type": "execute_result"
    },
    {
     "data": {
      "image/png": "[encoded data removed]",
      "text/plain": [
       "<Figure size 432x288 with 1 Axes>"
      ]
     },
     "metadata": {
      "needs_background": "light"
     },
     "output_type": "display_data"
    }
   ],
   "source": [
    "matplotlib.pyplot.hist(clust0['AirQuality'])"
   ]
  },
  {
   "cell_type": "code",
   "execution_count": 59,
   "id": "corresponding-toilet",
   "metadata": {},
   "outputs": [
    {
     "data": {
      "text/plain": [
       "(array([ 5950.,     0.,     0.,     0.,     0.,  3473., 20930.,     0.,\n",
       "         3491., 29748.]),\n",
       " array([25. , 26.6, 28.2, 29.8, 31.4, 33. , 34.6, 36.2, 37.8, 39.4, 41. ]),\n",
       " <BarContainer object of 10 artists>)"
      ]
     },
     "execution_count": 59,
     "metadata": {},
     "output_type": "execute_result"
    },
    {
     "data": {
      "image/png": "[encoded data removed]",
      "text/plain": [
       "<Figure size 432x288 with 1 Axes>"
      ]
     },
     "metadata": {
      "needs_background": "light"
     },
     "output_type": "display_data"
    }
   ],
   "source": [
    "matplotlib.pyplot.hist(clust1['AirQuality'])"
   ]
  },
  {
   "cell_type": "code",
   "execution_count": 60,
   "id": "supposed-pipeline",
   "metadata": {},
   "outputs": [
    {
     "data": {
      "text/plain": [
       "(array([15505.,     0.,     0.,     0., 39306., 71251., 57276., 65644.,\n",
       "         4679.,  6735.]),\n",
       " array([17. , 18.7, 20.4, 22.1, 23.8, 25.5, 27.2, 28.9, 30.6, 32.3, 34. ]),\n",
       " <BarContainer object of 10 artists>)"
      ]
     },
     "execution_count": 60,
     "metadata": {},
     "output_type": "execute_result"
    },
    {
     "data": {
      "image/png": "[encoded data removed]",
      "text/plain": [
       "<Figure size 432x288 with 1 Axes>"
      ]
     },
     "metadata": {
      "needs_background": "light"
     },
     "output_type": "display_data"
    }
   ],
   "source": [
    "matplotlib.pyplot.hist(clust2['AirQuality'])"
   ]
  },
  {
   "cell_type": "code",
   "execution_count": 61,
   "id": "bottom-wholesale",
   "metadata": {},
   "outputs": [
    {
     "data": {
      "text/plain": [
       "(array([  1705.,  25026.,      0.,   5555.,      0.,  47637.,  68717.,\n",
       "             0., 130602.,  38685.]),\n",
       " array([26. , 27.7, 29.4, 31.1, 32.8, 34.5, 36.2, 37.9, 39.6, 41.3, 43. ]),\n",
       " <BarContainer object of 10 artists>)"
      ]
     },
     "execution_count": 61,
     "metadata": {},
     "output_type": "execute_result"
    },
    {
     "data": {
      "image/png": "[encoded data removed]",
      "text/plain": [
       "<Figure size 432x288 with 1 Axes>"
      ]
     },
     "metadata": {
      "needs_background": "light"
     },
     "output_type": "display_data"
    }
   ],
   "source": [
    "matplotlib.pyplot.hist(clust3['AirQuality'])"
   ]
  },
  {
   "cell_type": "code",
   "execution_count": 62,
   "id": "changing-hawaiian",
   "metadata": {},
   "outputs": [
    {
     "data": {
      "text/plain": [
       "(array([ 1414.,     0.,  3930.,  8040., 16731., 11425.,  3414., 32633.,\n",
       "        48833., 18748.]),\n",
       " array([17. , 19.6, 22.2, 24.8, 27.4, 30. , 32.6, 35.2, 37.8, 40.4, 43. ]),\n",
       " <BarContainer object of 10 artists>)"
      ]
     },
     "execution_count": 62,
     "metadata": {},
     "output_type": "execute_result"
    },
    {
     "data": {
      "image/png": "[encoded data removed]",
      "text/plain": [
       "<Figure size 432x288 with 1 Axes>"
      ]
     },
     "metadata": {
      "needs_background": "light"
     },
     "output_type": "display_data"
    }
   ],
   "source": [
    "matplotlib.pyplot.hist(clust4['AirQuality'])"
   ]
  },
  {
   "cell_type": "markdown",
   "id": "editorial-blink",
   "metadata": {},
   "source": [
    "## Early Education"
   ]
  },
  {
   "cell_type": "code",
   "execution_count": 63,
   "id": "atlantic-provision",
   "metadata": {},
   "outputs": [
    {
     "data": {
      "text/plain": [
       "(array([ 41126.,  29761.,  12184.,   1431.,  16557.,  25841.,   3047.,\n",
       "         48395.,  18052., 197308.]),\n",
       " array([0.351 , 0.3717, 0.3924, 0.4131, 0.4338, 0.4545, 0.4752, 0.4959,\n",
       "        0.5166, 0.5373, 0.558 ]),\n",
       " <BarContainer object of 10 artists>)"
      ]
     },
     "execution_count": 63,
     "metadata": {},
     "output_type": "execute_result"
    },
    {
     "data": {
      "image/png": "[encoded data removed]",
      "text/plain": [
       "<Figure size 432x288 with 1 Axes>"
      ]
     },
     "metadata": {
      "needs_background": "light"
     },
     "output_type": "display_data"
    }
   ],
   "source": [
    "matplotlib.pyplot.hist(clust0['EarlyEd'])"
   ]
  },
  {
   "cell_type": "code",
   "execution_count": 64,
   "id": "raising-client",
   "metadata": {},
   "outputs": [
    {
     "data": {
      "text/plain": [
       "(array([33239.,     0.,     0.,     0., 14284.,  5950.,     0.,     0.,\n",
       "         6646.,  3473.]),\n",
       " array([0.326, 0.344, 0.362, 0.38 , 0.398, 0.416, 0.434, 0.452, 0.47 ,\n",
       "        0.488, 0.506]),\n",
       " <BarContainer object of 10 artists>)"
      ]
     },
     "execution_count": 64,
     "metadata": {},
     "output_type": "execute_result"
    },
    {
     "data": {
      "image/png": "[encoded data removed]",
      "text/plain": [
       "<Figure size 432x288 with 1 Axes>"
      ]
     },
     "metadata": {
      "needs_background": "light"
     },
     "output_type": "display_data"
    }
   ],
   "source": [
    "matplotlib.pyplot.hist(clust1['EarlyEd'])"
   ]
  },
  {
   "cell_type": "code",
   "execution_count": 66,
   "id": "simplified-presentation",
   "metadata": {},
   "outputs": [
    {
     "data": {
      "text/plain": [
       "(array([11006.,  5921., 23879., 38052., 57710., 61515., 25978.,     0.,\n",
       "         7989., 28346.]),\n",
       " array([0.415 , 0.4479, 0.4808, 0.5137, 0.5466, 0.5795, 0.6124, 0.6453,\n",
       "        0.6782, 0.7111, 0.744 ]),\n",
       " <BarContainer object of 10 artists>)"
      ]
     },
     "execution_count": 66,
     "metadata": {},
     "output_type": "execute_result"
    },
    {
     "data": {
      "image/png": "[encoded data removed]",
      "text/plain": [
       "<Figure size 432x288 with 1 Axes>"
      ]
     },
     "metadata": {
      "needs_background": "light"
     },
     "output_type": "display_data"
    }
   ],
   "source": [
    "matplotlib.pyplot.hist(clust2['EarlyEd'])"
   ]
  },
  {
   "cell_type": "code",
   "execution_count": 67,
   "id": "subsequent-narrow",
   "metadata": {},
   "outputs": [
    {
     "data": {
      "text/plain": [
       "(array([ 23670.,  15763.,   7640.,      0.,   5555.,  21865.,      0.,\n",
       "         47637.,  12233., 183564.]),\n",
       " array([0.351 , 0.3717, 0.3924, 0.4131, 0.4338, 0.4545, 0.4752, 0.4959,\n",
       "        0.5166, 0.5373, 0.558 ]),\n",
       " <BarContainer object of 10 artists>)"
      ]
     },
     "execution_count": 67,
     "metadata": {},
     "output_type": "execute_result"
    },
    {
     "data": {
      "image/png": "[encoded data removed]",
      "text/plain": [
       "<Figure size 432x288 with 1 Axes>"
      ]
     },
     "metadata": {
      "needs_background": "light"
     },
     "output_type": "display_data"
    }
   ],
   "source": [
    "matplotlib.pyplot.hist(clust3['EarlyEd'])"
   ]
  },
  {
   "cell_type": "code",
   "execution_count": 68,
   "id": "eligible-aquarium",
   "metadata": {},
   "outputs": [
    {
     "data": {
      "text/plain": [
       "(array([19593.,  7252., 13816.,  5342., 68638., 21015.,  6118.,  1457.,\n",
       "          365.,  1572.]),\n",
       " array([0.351 , 0.3903, 0.4296, 0.4689, 0.5082, 0.5475, 0.5868, 0.6261,\n",
       "        0.6654, 0.7047, 0.744 ]),\n",
       " <BarContainer object of 10 artists>)"
      ]
     },
     "execution_count": 68,
     "metadata": {},
     "output_type": "execute_result"
    },
    {
     "data": {
      "image/png": "[encoded data removed]",
      "text/plain": [
       "<Figure size 432x288 with 1 Axes>"
      ]
     },
     "metadata": {
      "needs_background": "light"
     },
     "output_type": "display_data"
    }
   ],
   "source": [
    "matplotlib.pyplot.hist(clust4['EarlyEd'])"
   ]
  },
  {
   "cell_type": "markdown",
   "id": "mental-moore",
   "metadata": {},
   "source": [
    "## Prosperous Neighborhoods"
   ]
  },
  {
   "cell_type": "code",
   "execution_count": 70,
   "id": "spare-chart",
   "metadata": {},
   "outputs": [
    {
     "data": {
      "text/plain": [
       "(array([ 12184.,      0.,   4042.,   1751.,  55816., 164731.,  39375.,\n",
       "         50841.,  45479.,  19483.]),\n",
       " array([0.50609516, 0.55299   , 0.59988485, 0.64677969, 0.69367453,\n",
       "        0.74056937, 0.78746421, 0.83435905, 0.88125389, 0.92814874,\n",
       "        0.97504358]),\n",
       " <BarContainer object of 10 artists>)"
      ]
     },
     "execution_count": 70,
     "metadata": {},
     "output_type": "execute_result"
    },
    {
     "data": {
      "image/png": "[encoded data removed]",
      "text/plain": [
       "<Figure size 432x288 with 1 Axes>"
      ]
     },
     "metadata": {
      "needs_background": "light"
     },
     "output_type": "display_data"
    }
   ],
   "source": [
    "matplotlib.pyplot.hist(clust0['ProspNeigh'])"
   ]
  },
  {
   "cell_type": "code",
   "execution_count": 71,
   "id": "literary-alfred",
   "metadata": {},
   "outputs": [
    {
     "data": {
      "text/plain": [
       "(array([14441.,     0., 18780.,  6646.,     0.,  3491.,     0., 14284.,\n",
       "            0.,  5950.]),\n",
       " array([0.3646189 , 0.42761484, 0.49061077, 0.55360671, 0.61660264,\n",
       "        0.67959858, 0.74259451, 0.80559045, 0.86858639, 0.93158232,\n",
       "        0.99457826]),\n",
       " <BarContainer object of 10 artists>)"
      ]
     },
     "execution_count": 71,
     "metadata": {},
     "output_type": "execute_result"
    },
    {
     "data": {
      "image/png": "[encoded data removed]",
      "text/plain": [
       "<Figure size 432x288 with 1 Axes>"
      ]
     },
     "metadata": {
      "needs_background": "light"
     },
     "output_type": "display_data"
    }
   ],
   "source": [
    "matplotlib.pyplot.hist(clust1['ProspNeigh'])"
   ]
  },
  {
   "cell_type": "code",
   "execution_count": 72,
   "id": "median-senior",
   "metadata": {},
   "outputs": [
    {
     "data": {
      "text/plain": [
       "(array([ 4245.,  5921., 53031., 32475.,     0., 31317., 11006.,  4679.,\n",
       "        76239., 41483.]),\n",
       " array([0.84008366, 0.85567911, 0.87127457, 0.88687002, 0.90246547,\n",
       "        0.91806093, 0.93365638, 0.94925183, 0.96484729, 0.98044274,\n",
       "        0.99603819]),\n",
       " <BarContainer object of 10 artists>)"
      ]
     },
     "execution_count": 72,
     "metadata": {},
     "output_type": "execute_result"
    },
    {
     "data": {
      "image/png": "[encoded data removed]",
      "text/plain": [
       "<Figure size 432x288 with 1 Axes>"
      ]
     },
     "metadata": {
      "needs_background": "light"
     },
     "output_type": "display_data"
    }
   ],
   "source": [
    "matplotlib.pyplot.hist(clust2['ProspNeigh'])"
   ]
  },
  {
   "cell_type": "code",
   "execution_count": 73,
   "id": "completed-aircraft",
   "metadata": {},
   "outputs": [
    {
     "data": {
      "text/plain": [
       "(array([  7640.,      0.,   4866.,    748.,  18144., 150354.,   7668.,\n",
       "         22922.,  45256.,  60329.]),\n",
       " array([0.50609516, 0.54931925, 0.59254334, 0.63576743, 0.67899152,\n",
       "        0.72221561, 0.7654397 , 0.80866379, 0.85188787, 0.89511196,\n",
       "        0.93833605]),\n",
       " <BarContainer object of 10 artists>)"
      ]
     },
     "execution_count": 73,
     "metadata": {},
     "output_type": "execute_result"
    },
    {
     "data": {
      "image/png": "[encoded data removed]",
      "text/plain": [
       "<Figure size 432x288 with 1 Axes>"
      ]
     },
     "metadata": {
      "needs_background": "light"
     },
     "output_type": "display_data"
    }
   ],
   "source": [
    "matplotlib.pyplot.hist(clust3['ProspNeigh'])"
   ]
  },
  {
   "cell_type": "code",
   "execution_count": 74,
   "id": "administrative-sodium",
   "metadata": {},
   "outputs": [
    {
     "data": {
      "text/plain": [
       "(array([ 5306.,     0.,  2023.,   845., 16327., 54322., 11269., 32460.,\n",
       "         9991., 12625.]),\n",
       " array([0.50609516, 0.55508947, 0.60408377, 0.65307807, 0.70207237,\n",
       "        0.75106668, 0.80006098, 0.84905528, 0.89804959, 0.94704389,\n",
       "        0.99603819]),\n",
       " <BarContainer object of 10 artists>)"
      ]
     },
     "execution_count": 74,
     "metadata": {},
     "output_type": "execute_result"
    },
    {
     "data": {
      "image/png": "[encoded data removed]",
      "text/plain": [
       "<Figure size 432x288 with 1 Axes>"
      ]
     },
     "metadata": {
      "needs_background": "light"
     },
     "output_type": "display_data"
    }
   ],
   "source": [
    "matplotlib.pyplot.hist(clust4['ProspNeigh'])"
   ]
  },
  {
   "cell_type": "markdown",
   "id": "consolidated-mercy",
   "metadata": {},
   "source": [
    "## Feature Correlations"
   ]
  },
  {
   "cell_type": "code",
   "execution_count": null,
   "id": "eastern-metropolitan",
   "metadata": {},
   "outputs": [],
   "source": [
    "Xcorr=dfXfin.iloc[:, [0,1,2,3,4,5,6,7]]\n",
    "Xcorr.head()"
   ]
  },
  {
   "cell_type": "code",
   "execution_count": 127,
   "id": "sapphire-puppy",
   "metadata": {},
   "outputs": [
    {
     "data": {
      "text/plain": [
       "<AxesSubplot:>"
      ]
     },
     "execution_count": 127,
     "metadata": {},
     "output_type": "execute_result"
    },
    {
     "data": {
      "image/png": "[encoded data removed]",
      "text/plain": [
       "<Figure size 864x576 with 2 Axes>"
      ]
     },
     "metadata": {
      "needs_background": "light"
     },
     "output_type": "display_data"
    }
   ],
   "source": [
    "plt.subplots(figsize=(15,8))\n",
    "sns.heatmap(Xcorr.corr(), annot = True)"
   ]
  }
 ],
 "metadata": {
  "kernelspec": {
   "display_name": "Python 3",
   "language": "python",
   "name": "python3"
  },
  "language_info": {
   "codemirror_mode": {
    "name": "ipython",
    "version": 3
   },
   "file_extension": ".py",
   "mimetype": "text/x-python",
   "name": "python",
   "nbconvert_exporter": "python",
   "pygments_lexer": "ipython3",
   "version": "3.7.6"
  }
 },
 "nbformat": 4,
 "nbformat_minor": 5
}
