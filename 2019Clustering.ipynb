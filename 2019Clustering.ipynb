{
 "cells": [
  {
   "cell_type": "code",
   "execution_count": 76,
   "id": "increased-contents",
   "metadata": {},
   "outputs": [],
   "source": [
    "import pandas as pd\n",
    "import numpy as np\n",
    "import datetime as dt\n",
    "import matplotlib\n",
    "import matplotlib.pyplot as plt\n",
    "import scipy.cluster.hierarchy as shc\n",
    "from sklearn.cluster import AgglomerativeClustering\n",
    "import os\n",
    "import seaborn as sns"
   ]
  },
  {
   "cell_type": "code",
   "execution_count": 77,
   "id": "decimal-melbourne",
   "metadata": {},
   "outputs": [],
   "source": [
    "from sklearn.cluster import KMeans\n",
    "from scipy.spatial.distance import cdist, pdist\n",
    "from sklearn.datasets import make_classification\n",
    "from sklearn.datasets import make_blobs\n",
    "from sklearn.metrics import silhouette_samples, silhouette_score\n",
    "import matplotlib.cm as cm\n",
    "from sklearn.mixture import GaussianMixture\n",
    "from sklearn.cluster import DBSCAN\n",
    "from sklearn import preprocessing\n",
    "from sklearn.preprocessing import StandardScaler"
   ]
  },
  {
   "cell_type": "code",
   "execution_count": 78,
   "id": "celtic-enemy",
   "metadata": {},
   "outputs": [],
   "source": [
    "fileName = 'C:/Users/mcarp/Downloads/usa_00007.csv/usa_00007.csv'\n",
    "file = pd.read_csv(fileName)\n",
    "dfCDI = pd.DataFrame(file)"
   ]
  },
  {
   "cell_type": "code",
   "execution_count": 79,
   "id": "answering-horizon",
   "metadata": {},
   "outputs": [],
   "source": [
    "fileName2 = 'C:/Users/mcarp/Downloads/county_merged_vals - Sheet1.csv'\n",
    "file2 = pd.read_csv(fileName2)\n",
    "dfCty = pd.DataFrame(file2)"
   ]
  },
  {
   "cell_type": "code",
   "execution_count": 80,
   "id": "thorough-utility",
   "metadata": {},
   "outputs": [
    {
     "name": "stdout",
     "output_type": "stream",
     "text": [
      "<class 'pandas.core.frame.DataFrame'>\n",
      "RangeIndex: 1887461 entries, 0 to 1887460\n",
      "Data columns (total 40 columns):\n",
      " #   Column      Dtype  \n",
      "---  ------      -----  \n",
      " 0   YEAR        int64  \n",
      " 1   MULTYEAR    int64  \n",
      " 2   SAMPLE      int64  \n",
      " 3   SERIAL      int64  \n",
      " 4   CBSERIAL    int64  \n",
      " 5   HHWT        float64\n",
      " 6   CLUSTER     int64  \n",
      " 7   CPI99       float64\n",
      " 8   STATEFIP    int64  \n",
      " 9   COUNTYFIP   int64  \n",
      " 10  DENSITY     float64\n",
      " 11  CITY        int64  \n",
      " 12  PUMA        int64  \n",
      " 13  STRATA      int64  \n",
      " 14  GQ          int64  \n",
      " 15  OWNERSHP    int64  \n",
      " 16  OWNERSHPD   int64  \n",
      " 17  OWNCOST     int64  \n",
      " 18  RENTGRS     int64  \n",
      " 19  HHINCOME    int64  \n",
      " 20  CILAPTOP    int64  \n",
      " 21  CIHISPEED   int64  \n",
      " 22  PERNUM      int64  \n",
      " 23  PERWT       float64\n",
      " 24  FAMSIZE     int64  \n",
      " 25  AGE         int64  \n",
      " 26  RACE        int64  \n",
      " 27  RACED       int64  \n",
      " 28  HISPAN      int64  \n",
      " 29  HISPAND     int64  \n",
      " 30  EDUC        int64  \n",
      " 31  EDUCD       int64  \n",
      " 32  OCCSOC      object \n",
      " 33  INDNAICS    object \n",
      " 34  INCTOT      int64  \n",
      " 35  FTOTINC     int64  \n",
      " 36  INCWAGE     int64  \n",
      " 37  MIGCOUNTY1  int64  \n",
      " 38  MOVEDIN     int64  \n",
      " 39  TRANTIME    int64  \n",
      "dtypes: float64(4), int64(34), object(2)\n",
      "memory usage: 576.0+ MB\n"
     ]
    }
   ],
   "source": [
    "dfCDI.info()"
   ]
  },
  {
   "cell_type": "code",
   "execution_count": 81,
   "id": "encouraging-reset",
   "metadata": {},
   "outputs": [
    {
     "data": {
      "text/plain": [
       "(1887461, 40)"
      ]
     },
     "execution_count": 81,
     "metadata": {},
     "output_type": "execute_result"
    }
   ],
   "source": [
    "dfCDI.shape"
   ]
  },
  {
   "cell_type": "code",
   "execution_count": 82,
   "id": "friendly-surface",
   "metadata": {},
   "outputs": [
    {
     "data": {
      "text/plain": [
       "(1417874, 40)"
      ]
     },
     "execution_count": 82,
     "metadata": {},
     "output_type": "execute_result"
    }
   ],
   "source": [
    "dfCDI = dfCDI[dfCDI['AGE']>=21]\n",
    "dfCDI.shape"
   ]
  },
  {
   "cell_type": "code",
   "execution_count": 83,
   "id": "nearby-flavor",
   "metadata": {},
   "outputs": [
    {
     "data": {
      "text/plain": [
       "0       941339\n",
       "1252      1640\n",
       "1460      1534\n",
       "1619      1222\n",
       "1079      1172\n",
       "         ...  \n",
       "4263         1\n",
       "332          1\n",
       "3996         1\n",
       "57           1\n",
       "197          1\n",
       "Name: RENTGRS, Length: 4547, dtype: int64"
      ]
     },
     "execution_count": 83,
     "metadata": {},
     "output_type": "execute_result"
    }
   ],
   "source": [
    "dfCDI.RENTGRS.value_counts()"
   ]
  },
  {
   "cell_type": "code",
   "execution_count": 84,
   "id": "catholic-country",
   "metadata": {},
   "outputs": [
    {
     "data": {
      "text/plain": [
       "count    863826.0\n",
       "mean          0.0\n",
       "std           0.0\n",
       "min           0.0\n",
       "25%           0.0\n",
       "50%           0.0\n",
       "75%           0.0\n",
       "max           0.0\n",
       "Name: RENTGRS, dtype: float64"
      ]
     },
     "execution_count": 84,
     "metadata": {},
     "output_type": "execute_result"
    }
   ],
   "source": [
    "dfHomeOwn=dfCDI[dfCDI['OWNERSHP']==1]\n",
    "dfHomeOwn.RENTGRS.describe()"
   ]
  },
  {
   "cell_type": "markdown",
   "id": "annual-duncan",
   "metadata": {},
   "source": [
    "This reveals that home owning rows all have 0 values for cost of rent."
   ]
  },
  {
   "cell_type": "code",
   "execution_count": 85,
   "id": "affiliated-affiliation",
   "metadata": {},
   "outputs": [
    {
     "data": {
      "text/plain": [
       "1    863826\n",
       "2    494178\n",
       "0     59870\n",
       "Name: OWNERSHP, dtype: int64"
      ]
     },
     "execution_count": 85,
     "metadata": {},
     "output_type": "execute_result"
    }
   ],
   "source": [
    "dfCDI['OWNERSHP'].value_counts()"
   ]
  },
  {
   "cell_type": "code",
   "execution_count": 86,
   "id": "quarterly-relation",
   "metadata": {},
   "outputs": [
    {
     "data": {
      "text/plain": [
       "(1358004, 40)"
      ]
     },
     "execution_count": 86,
     "metadata": {},
     "output_type": "execute_result"
    }
   ],
   "source": [
    "dfCDI = dfCDI[dfCDI['OWNERSHP']!=0]\n",
    "dfCDI.shape"
   ]
  },
  {
   "cell_type": "markdown",
   "id": "upper-abortion",
   "metadata": {},
   "source": [
    "Removes N/As (~50k rows)"
   ]
  },
  {
   "cell_type": "code",
   "execution_count": 87,
   "id": "demographic-medicine",
   "metadata": {},
   "outputs": [
    {
     "data": {
      "text/plain": [
       "0       881469\n",
       "1252      1640\n",
       "1460      1534\n",
       "1619      1222\n",
       "1079      1172\n",
       "         ...  \n",
       "4263         1\n",
       "332          1\n",
       "3996         1\n",
       "57           1\n",
       "197          1\n",
       "Name: RENTGRS, Length: 4547, dtype: int64"
      ]
     },
     "execution_count": 87,
     "metadata": {},
     "output_type": "execute_result"
    }
   ],
   "source": [
    "dfCDI['RENTGRS'].value_counts()"
   ]
  },
  {
   "cell_type": "code",
   "execution_count": 88,
   "id": "anticipated-jersey",
   "metadata": {},
   "outputs": [],
   "source": [
    "dfCDI['affrentdec'] = dfCDI['RENTGRS']*12/dfCDI['HHINCOME']"
   ]
  },
  {
   "cell_type": "code",
   "execution_count": 89,
   "id": "bigger-yorkshire",
   "metadata": {},
   "outputs": [],
   "source": [
    "def housingFunc(own, affrentdec):\n",
    "    if own==1:\n",
    "        housingCat=2\n",
    "    elif own==2 and affrentdec<.3:\n",
    "        housingCat=1\n",
    "    else:\n",
    "        housingCat=0\n",
    "    return housingCat"
   ]
  },
  {
   "cell_type": "code",
   "execution_count": 90,
   "id": "ready-diana",
   "metadata": {},
   "outputs": [
    {
     "data": {
      "text/plain": [
       "2    863826\n",
       "1    261051\n",
       "0    233127\n",
       "Name: HousingCat, dtype: int64"
      ]
     },
     "execution_count": 90,
     "metadata": {},
     "output_type": "execute_result"
    }
   ],
   "source": [
    "dfCDI['HousingCat'] = dfCDI.apply(lambda x: housingFunc(x['OWNERSHP'], x['affrentdec']), axis=1)\n",
    "dfCDI['HousingCat'].value_counts()"
   ]
  },
  {
   "cell_type": "markdown",
   "id": "freelance-weekend",
   "metadata": {},
   "source": [
    "COMBINING aff. rent and home ownership into 1 indicator: 0, 1, 2 scores (0: rent>=30% income, 1: rent<30% income, 2: owner)"
   ]
  },
  {
   "cell_type": "code",
   "execution_count": 91,
   "id": "adolescent-quality",
   "metadata": {},
   "outputs": [
    {
     "data": {
      "text/plain": [
       "0    761987\n",
       "1    596017\n",
       "Name: EDUCbin, dtype: int64"
      ]
     },
     "execution_count": 91,
     "metadata": {},
     "output_type": "execute_result"
    }
   ],
   "source": [
    "dfCDI['EDUCbin'] = [1 if x >=8 else 0 for x in dfCDI['EDUC']]\n",
    "dfCDI['EDUCbin'].value_counts()"
   ]
  },
  {
   "cell_type": "code",
   "execution_count": 92,
   "id": "auburn-humidity",
   "metadata": {},
   "outputs": [
    {
     "data": {
      "text/plain": [
       "10    1047257\n",
       "20     176856\n",
       "0      133891\n",
       "Name: CIHISPEED, dtype: int64"
      ]
     },
     "execution_count": 92,
     "metadata": {},
     "output_type": "execute_result"
    }
   ],
   "source": [
    "dfCDI['CIHISPEED'].value_counts()"
   ]
  },
  {
   "cell_type": "code",
   "execution_count": 93,
   "id": "harmful-implement",
   "metadata": {},
   "outputs": [],
   "source": [
    "dfCDI = dfCDI[dfCDI['CIHISPEED']!=0]"
   ]
  },
  {
   "cell_type": "code",
   "execution_count": 94,
   "id": "adequate-lying",
   "metadata": {},
   "outputs": [
    {
     "data": {
      "text/plain": [
       "0      510201\n",
       "30     105754\n",
       "15      96661\n",
       "20      96467\n",
       "10      73306\n",
       "        ...  \n",
       "104         1\n",
       "117         1\n",
       "116         1\n",
       "103         1\n",
       "113         1\n",
       "Name: TRANTIME, Length: 120, dtype: int64"
      ]
     },
     "execution_count": 94,
     "metadata": {},
     "output_type": "execute_result"
    }
   ],
   "source": [
    "dfCDI['TRANTIME'].value_counts()"
   ]
  },
  {
   "cell_type": "code",
   "execution_count": 95,
   "id": "grateful-wiring",
   "metadata": {},
   "outputs": [
    {
     "data": {
      "text/plain": [
       "(1224113, 43)"
      ]
     },
     "execution_count": 95,
     "metadata": {},
     "output_type": "execute_result"
    }
   ],
   "source": [
    "dfCDI.shape"
   ]
  },
  {
   "cell_type": "markdown",
   "id": "amino-procurement",
   "metadata": {},
   "source": [
    "## County-level merge"
   ]
  },
  {
   "cell_type": "code",
   "execution_count": 96,
   "id": "integrated-mount",
   "metadata": {},
   "outputs": [
    {
     "data": {
      "text/plain": [
       "(1180785, 60)"
      ]
     },
     "execution_count": 96,
     "metadata": {},
     "output_type": "execute_result"
    }
   ],
   "source": [
    "joined2019_2 = dfCDI.merge(dfCty, on='COUNTYFIP')\n",
    "joined2019_2.shape"
   ]
  },
  {
   "cell_type": "code",
   "execution_count": 188,
   "id": "honest-slovak",
   "metadata": {},
   "outputs": [
    {
     "name": "stdout",
     "output_type": "stream",
     "text": [
      "41\n",
      "42\n",
      "21\n",
      "39\n",
      "56\n",
      "58\n",
      "57\n",
      "59\n",
      "5\n",
      "19\n",
      "26\n",
      "25\n",
      "28\n"
     ]
    }
   ],
   "source": [
    "print(joined2019_2.columns.get_loc(\"HousingCat\"))\n",
    "print(joined2019_2.columns.get_loc(\"EDUCbin\"))\n",
    "print(joined2019_2.columns.get_loc(\"CIHISPEED\"))\n",
    "print(joined2019_2.columns.get_loc(\"TRANTIME\"))\n",
    "print(joined2019_2.columns.get_loc(\"DrinkingWater\"))\n",
    "print(joined2019_2.columns.get_loc(\"AirQuality\"))\n",
    "print(joined2019_2.columns.get_loc(\"EarlyEd\"))\n",
    "print(joined2019_2.columns.get_loc(\"ProspNeigh\"))\n",
    "print(joined2019_2.columns.get_loc(\"HHWT\"))\n",
    "print(joined2019_2.columns.get_loc(\"HHINCOME\"))\n",
    "print(joined2019_2.columns.get_loc(\"RACE\"))\n",
    "print(joined2019_2.columns.get_loc(\"AGE\"))\n",
    "print(joined2019_2.columns.get_loc(\"HISPAN\"))"
   ]
  },
  {
   "cell_type": "code",
   "execution_count": 189,
   "id": "animated-degree",
   "metadata": {},
   "outputs": [],
   "source": [
    "X = joined2019_2.iloc[:, [41,42,21,39,56,58,57,59,5,19,26,25,28]]"
   ]
  },
  {
   "cell_type": "code",
   "execution_count": 190,
   "id": "baking-elevation",
   "metadata": {},
   "outputs": [
    {
     "data": {
      "text/html": [
       "<div>\n",
       "<style scoped>\n",
       "    .dataframe tbody tr th:only-of-type {\n",
       "        vertical-align: middle;\n",
       "    }\n",
       "\n",
       "    .dataframe tbody tr th {\n",
       "        vertical-align: top;\n",
       "    }\n",
       "\n",
       "    .dataframe thead th {\n",
       "        text-align: right;\n",
       "    }\n",
       "</style>\n",
       "<table border=\"1\" class=\"dataframe\">\n",
       "  <thead>\n",
       "    <tr style=\"text-align: right;\">\n",
       "      <th></th>\n",
       "      <th>HousingCat</th>\n",
       "      <th>EDUCbin</th>\n",
       "      <th>CIHISPEED</th>\n",
       "      <th>TRANTIME</th>\n",
       "      <th>DrinkingWater</th>\n",
       "      <th>AirQuality</th>\n",
       "      <th>EarlyEd</th>\n",
       "      <th>ProspNeigh</th>\n",
       "      <th>HHWT</th>\n",
       "      <th>HHINCOME</th>\n",
       "      <th>RACE</th>\n",
       "      <th>AGE</th>\n",
       "      <th>HISPAN</th>\n",
       "    </tr>\n",
       "  </thead>\n",
       "  <tbody>\n",
       "    <tr>\n",
       "      <th>count</th>\n",
       "      <td>1.180785e+06</td>\n",
       "      <td>1.180785e+06</td>\n",
       "      <td>1.180785e+06</td>\n",
       "      <td>1.180785e+06</td>\n",
       "      <td>1.180785e+06</td>\n",
       "      <td>1.180785e+06</td>\n",
       "      <td>1.180785e+06</td>\n",
       "      <td>1.180785e+06</td>\n",
       "      <td>1.180785e+06</td>\n",
       "      <td>1.180785e+06</td>\n",
       "      <td>1.180785e+06</td>\n",
       "      <td>1.180785e+06</td>\n",
       "      <td>1.180785e+06</td>\n",
       "    </tr>\n",
       "    <tr>\n",
       "      <th>mean</th>\n",
       "      <td>1.495227e+00</td>\n",
       "      <td>4.688491e-01</td>\n",
       "      <td>1.139179e+01</td>\n",
       "      <td>1.802718e+01</td>\n",
       "      <td>9.943121e-01</td>\n",
       "      <td>3.523099e+01</td>\n",
       "      <td>5.149841e-01</td>\n",
       "      <td>8.171870e-01</td>\n",
       "      <td>1.920797e+01</td>\n",
       "      <td>1.304553e+05</td>\n",
       "      <td>2.707418e+00</td>\n",
       "      <td>4.894611e+01</td>\n",
       "      <td>4.579064e-01</td>\n",
       "    </tr>\n",
       "    <tr>\n",
       "      <th>std</th>\n",
       "      <td>7.505296e-01</td>\n",
       "      <td>4.990289e-01</td>\n",
       "      <td>3.461329e+00</td>\n",
       "      <td>2.410094e+01</td>\n",
       "      <td>1.992936e-02</td>\n",
       "      <td>6.126561e+00</td>\n",
       "      <td>8.383225e-02</td>\n",
       "      <td>1.154902e-01</td>\n",
       "      <td>1.332511e+01</td>\n",
       "      <td>1.262577e+05</td>\n",
       "      <td>2.489673e+00</td>\n",
       "      <td>1.712028e+01</td>\n",
       "      <td>9.457240e-01</td>\n",
       "    </tr>\n",
       "    <tr>\n",
       "      <th>min</th>\n",
       "      <td>0.000000e+00</td>\n",
       "      <td>0.000000e+00</td>\n",
       "      <td>1.000000e+01</td>\n",
       "      <td>0.000000e+00</td>\n",
       "      <td>8.888183e-01</td>\n",
       "      <td>1.700000e+01</td>\n",
       "      <td>3.260000e-01</td>\n",
       "      <td>3.646189e-01</td>\n",
       "      <td>1.000000e+00</td>\n",
       "      <td>-1.575500e+04</td>\n",
       "      <td>1.000000e+00</td>\n",
       "      <td>2.100000e+01</td>\n",
       "      <td>0.000000e+00</td>\n",
       "    </tr>\n",
       "    <tr>\n",
       "      <th>25%</th>\n",
       "      <td>1.000000e+00</td>\n",
       "      <td>0.000000e+00</td>\n",
       "      <td>1.000000e+01</td>\n",
       "      <td>0.000000e+00</td>\n",
       "      <td>9.996217e-01</td>\n",
       "      <td>3.000000e+01</td>\n",
       "      <td>4.570000e-01</td>\n",
       "      <td>7.592451e-01</td>\n",
       "      <td>1.200000e+01</td>\n",
       "      <td>5.400000e+04</td>\n",
       "      <td>1.000000e+00</td>\n",
       "      <td>3.400000e+01</td>\n",
       "      <td>0.000000e+00</td>\n",
       "    </tr>\n",
       "    <tr>\n",
       "      <th>50%</th>\n",
       "      <td>2.000000e+00</td>\n",
       "      <td>0.000000e+00</td>\n",
       "      <td>1.000000e+01</td>\n",
       "      <td>1.000000e+01</td>\n",
       "      <td>9.999295e-01</td>\n",
       "      <td>3.700000e+01</td>\n",
       "      <td>5.450000e-01</td>\n",
       "      <td>8.183911e-01</td>\n",
       "      <td>1.500000e+01</td>\n",
       "      <td>9.800000e+04</td>\n",
       "      <td>1.000000e+00</td>\n",
       "      <td>4.800000e+01</td>\n",
       "      <td>0.000000e+00</td>\n",
       "    </tr>\n",
       "    <tr>\n",
       "      <th>75%</th>\n",
       "      <td>2.000000e+00</td>\n",
       "      <td>1.000000e+00</td>\n",
       "      <td>1.000000e+01</td>\n",
       "      <td>3.000000e+01</td>\n",
       "      <td>1.000000e+00</td>\n",
       "      <td>4.000000e+01</td>\n",
       "      <td>5.540000e-01</td>\n",
       "      <td>8.968348e-01</td>\n",
       "      <td>2.300000e+01</td>\n",
       "      <td>1.628990e+05</td>\n",
       "      <td>6.000000e+00</td>\n",
       "      <td>6.200000e+01</td>\n",
       "      <td>1.000000e+00</td>\n",
       "    </tr>\n",
       "    <tr>\n",
       "      <th>max</th>\n",
       "      <td>2.000000e+00</td>\n",
       "      <td>1.000000e+00</td>\n",
       "      <td>2.000000e+01</td>\n",
       "      <td>1.420000e+02</td>\n",
       "      <td>1.000000e+00</td>\n",
       "      <td>4.300000e+01</td>\n",
       "      <td>7.440000e-01</td>\n",
       "      <td>9.960382e-01</td>\n",
       "      <td>2.670000e+02</td>\n",
       "      <td>2.626744e+06</td>\n",
       "      <td>9.000000e+00</td>\n",
       "      <td>9.400000e+01</td>\n",
       "      <td>4.000000e+00</td>\n",
       "    </tr>\n",
       "  </tbody>\n",
       "</table>\n",
       "</div>"
      ],
      "text/plain": [
       "         HousingCat       EDUCbin     CIHISPEED      TRANTIME  DrinkingWater  \\\n",
       "count  1.180785e+06  1.180785e+06  1.180785e+06  1.180785e+06   1.180785e+06   \n",
       "mean   1.495227e+00  4.688491e-01  1.139179e+01  1.802718e+01   9.943121e-01   \n",
       "std    7.505296e-01  4.990289e-01  3.461329e+00  2.410094e+01   1.992936e-02   \n",
       "min    0.000000e+00  0.000000e+00  1.000000e+01  0.000000e+00   8.888183e-01   \n",
       "25%    1.000000e+00  0.000000e+00  1.000000e+01  0.000000e+00   9.996217e-01   \n",
       "50%    2.000000e+00  0.000000e+00  1.000000e+01  1.000000e+01   9.999295e-01   \n",
       "75%    2.000000e+00  1.000000e+00  1.000000e+01  3.000000e+01   1.000000e+00   \n",
       "max    2.000000e+00  1.000000e+00  2.000000e+01  1.420000e+02   1.000000e+00   \n",
       "\n",
       "         AirQuality       EarlyEd    ProspNeigh          HHWT      HHINCOME  \\\n",
       "count  1.180785e+06  1.180785e+06  1.180785e+06  1.180785e+06  1.180785e+06   \n",
       "mean   3.523099e+01  5.149841e-01  8.171870e-01  1.920797e+01  1.304553e+05   \n",
       "std    6.126561e+00  8.383225e-02  1.154902e-01  1.332511e+01  1.262577e+05   \n",
       "min    1.700000e+01  3.260000e-01  3.646189e-01  1.000000e+00 -1.575500e+04   \n",
       "25%    3.000000e+01  4.570000e-01  7.592451e-01  1.200000e+01  5.400000e+04   \n",
       "50%    3.700000e+01  5.450000e-01  8.183911e-01  1.500000e+01  9.800000e+04   \n",
       "75%    4.000000e+01  5.540000e-01  8.968348e-01  2.300000e+01  1.628990e+05   \n",
       "max    4.300000e+01  7.440000e-01  9.960382e-01  2.670000e+02  2.626744e+06   \n",
       "\n",
       "               RACE           AGE        HISPAN  \n",
       "count  1.180785e+06  1.180785e+06  1.180785e+06  \n",
       "mean   2.707418e+00  4.894611e+01  4.579064e-01  \n",
       "std    2.489673e+00  1.712028e+01  9.457240e-01  \n",
       "min    1.000000e+00  2.100000e+01  0.000000e+00  \n",
       "25%    1.000000e+00  3.400000e+01  0.000000e+00  \n",
       "50%    1.000000e+00  4.800000e+01  0.000000e+00  \n",
       "75%    6.000000e+00  6.200000e+01  1.000000e+00  \n",
       "max    9.000000e+00  9.400000e+01  4.000000e+00  "
      ]
     },
     "execution_count": 190,
     "metadata": {},
     "output_type": "execute_result"
    }
   ],
   "source": [
    "X.describe()"
   ]
  },
  {
   "cell_type": "markdown",
   "id": "aggregate-mortgage",
   "metadata": {},
   "source": [
    "## Standardization:"
   ]
  },
  {
   "cell_type": "code",
   "execution_count": 191,
   "id": "based-bahamas",
   "metadata": {},
   "outputs": [],
   "source": [
    "scaler=StandardScaler()\n",
    "scalerNum = scaler.fit(X)\n",
    "Xstd = scalerNum.transform(X)"
   ]
  },
  {
   "cell_type": "code",
   "execution_count": 193,
   "id": "medium-sunset",
   "metadata": {},
   "outputs": [
    {
     "data": {
      "text/html": [
       "<div>\n",
       "<style scoped>\n",
       "    .dataframe tbody tr th:only-of-type {\n",
       "        vertical-align: middle;\n",
       "    }\n",
       "\n",
       "    .dataframe tbody tr th {\n",
       "        vertical-align: top;\n",
       "    }\n",
       "\n",
       "    .dataframe thead th {\n",
       "        text-align: right;\n",
       "    }\n",
       "</style>\n",
       "<table border=\"1\" class=\"dataframe\">\n",
       "  <thead>\n",
       "    <tr style=\"text-align: right;\">\n",
       "      <th></th>\n",
       "      <th>HousingCat</th>\n",
       "      <th>EDUCbin</th>\n",
       "      <th>CIHISPEED</th>\n",
       "      <th>TRANTIME</th>\n",
       "      <th>DrinkingWater</th>\n",
       "      <th>AirQuality</th>\n",
       "      <th>EarlyEd</th>\n",
       "      <th>ProspNeigh</th>\n",
       "      <th>HHWT</th>\n",
       "      <th>HHINCOME</th>\n",
       "      <th>RACE</th>\n",
       "      <th>AGE</th>\n",
       "      <th>HISPAN</th>\n",
       "    </tr>\n",
       "  </thead>\n",
       "  <tbody>\n",
       "    <tr>\n",
       "      <th>count</th>\n",
       "      <td>1.180785e+06</td>\n",
       "      <td>1.180785e+06</td>\n",
       "      <td>1.180785e+06</td>\n",
       "      <td>1.180785e+06</td>\n",
       "      <td>1.180785e+06</td>\n",
       "      <td>1.180785e+06</td>\n",
       "      <td>1.180785e+06</td>\n",
       "      <td>1.180785e+06</td>\n",
       "      <td>1.180785e+06</td>\n",
       "      <td>1.180785e+06</td>\n",
       "      <td>1.180785e+06</td>\n",
       "      <td>1.180785e+06</td>\n",
       "      <td>1.180785e+06</td>\n",
       "    </tr>\n",
       "    <tr>\n",
       "      <th>mean</th>\n",
       "      <td>7.065428e-13</td>\n",
       "      <td>-4.973875e-14</td>\n",
       "      <td>8.830854e-14</td>\n",
       "      <td>-4.389707e-13</td>\n",
       "      <td>-2.740658e-13</td>\n",
       "      <td>1.435436e-12</td>\n",
       "      <td>-3.516910e-12</td>\n",
       "      <td>5.989656e-13</td>\n",
       "      <td>-3.423819e-14</td>\n",
       "      <td>1.485636e-15</td>\n",
       "      <td>5.424345e-13</td>\n",
       "      <td>-8.973570e-15</td>\n",
       "      <td>3.176876e-13</td>\n",
       "    </tr>\n",
       "    <tr>\n",
       "      <th>std</th>\n",
       "      <td>1.000000e+00</td>\n",
       "      <td>1.000000e+00</td>\n",
       "      <td>1.000000e+00</td>\n",
       "      <td>1.000000e+00</td>\n",
       "      <td>1.000000e+00</td>\n",
       "      <td>1.000000e+00</td>\n",
       "      <td>1.000000e+00</td>\n",
       "      <td>1.000000e+00</td>\n",
       "      <td>1.000000e+00</td>\n",
       "      <td>1.000000e+00</td>\n",
       "      <td>1.000000e+00</td>\n",
       "      <td>1.000000e+00</td>\n",
       "      <td>1.000000e+00</td>\n",
       "    </tr>\n",
       "    <tr>\n",
       "      <th>min</th>\n",
       "      <td>-1.992230e+00</td>\n",
       "      <td>-9.395234e-01</td>\n",
       "      <td>-4.020960e-01</td>\n",
       "      <td>-7.479869e-01</td>\n",
       "      <td>-5.293388e+00</td>\n",
       "      <td>-2.975731e+00</td>\n",
       "      <td>-2.254314e+00</td>\n",
       "      <td>-3.918673e+00</td>\n",
       "      <td>-1.366441e+00</td>\n",
       "      <td>-1.158032e+00</td>\n",
       "      <td>-6.858003e-01</td>\n",
       "      <td>-1.632340e+00</td>\n",
       "      <td>-4.841863e-01</td>\n",
       "    </tr>\n",
       "    <tr>\n",
       "      <th>25%</th>\n",
       "      <td>-6.598374e-01</td>\n",
       "      <td>-9.395234e-01</td>\n",
       "      <td>-4.020960e-01</td>\n",
       "      <td>-7.479869e-01</td>\n",
       "      <td>2.664198e-01</td>\n",
       "      <td>-8.538214e-01</td>\n",
       "      <td>-6.916685e-01</td>\n",
       "      <td>-5.017038e-01</td>\n",
       "      <td>-5.409315e-01</td>\n",
       "      <td>-6.055501e-01</td>\n",
       "      <td>-6.858003e-01</td>\n",
       "      <td>-8.730066e-01</td>\n",
       "      <td>-4.841863e-01</td>\n",
       "    </tr>\n",
       "    <tr>\n",
       "      <th>50%</th>\n",
       "      <td>6.725556e-01</td>\n",
       "      <td>-9.395234e-01</td>\n",
       "      <td>-4.020960e-01</td>\n",
       "      <td>-3.330653e-01</td>\n",
       "      <td>2.818670e-01</td>\n",
       "      <td>2.887450e-01</td>\n",
       "      <td>3.580473e-01</td>\n",
       "      <td>1.042612e-02</td>\n",
       "      <td>-3.157925e-01</td>\n",
       "      <td>-2.570564e-01</td>\n",
       "      <td>-6.858003e-01</td>\n",
       "      <td>-5.526249e-02</td>\n",
       "      <td>-4.841863e-01</td>\n",
       "    </tr>\n",
       "    <tr>\n",
       "      <th>75%</th>\n",
       "      <td>6.725556e-01</td>\n",
       "      <td>1.064369e+00</td>\n",
       "      <td>-4.020960e-01</td>\n",
       "      <td>4.967781e-01</td>\n",
       "      <td>2.854028e-01</td>\n",
       "      <td>7.784163e-01</td>\n",
       "      <td>4.654046e-01</td>\n",
       "      <td>6.896505e-01</td>\n",
       "      <td>2.845780e-01</td>\n",
       "      <td>2.569640e-01</td>\n",
       "      <td>1.322497e+00</td>\n",
       "      <td>7.624816e-01</td>\n",
       "      <td>5.732051e-01</td>\n",
       "    </tr>\n",
       "    <tr>\n",
       "      <th>max</th>\n",
       "      <td>6.725556e-01</td>\n",
       "      <td>1.064369e+00</td>\n",
       "      <td>2.486969e+00</td>\n",
       "      <td>5.143901e+00</td>\n",
       "      <td>2.854028e-01</td>\n",
       "      <td>1.268088e+00</td>\n",
       "      <td>2.731836e+00</td>\n",
       "      <td>1.548628e+00</td>\n",
       "      <td>1.859588e+01</td>\n",
       "      <td>1.977139e+01</td>\n",
       "      <td>2.527475e+00</td>\n",
       "      <td>2.631611e+00</td>\n",
       "      <td>3.745379e+00</td>\n",
       "    </tr>\n",
       "  </tbody>\n",
       "</table>\n",
       "</div>"
      ],
      "text/plain": [
       "         HousingCat       EDUCbin     CIHISPEED      TRANTIME  DrinkingWater  \\\n",
       "count  1.180785e+06  1.180785e+06  1.180785e+06  1.180785e+06   1.180785e+06   \n",
       "mean   7.065428e-13 -4.973875e-14  8.830854e-14 -4.389707e-13  -2.740658e-13   \n",
       "std    1.000000e+00  1.000000e+00  1.000000e+00  1.000000e+00   1.000000e+00   \n",
       "min   -1.992230e+00 -9.395234e-01 -4.020960e-01 -7.479869e-01  -5.293388e+00   \n",
       "25%   -6.598374e-01 -9.395234e-01 -4.020960e-01 -7.479869e-01   2.664198e-01   \n",
       "50%    6.725556e-01 -9.395234e-01 -4.020960e-01 -3.330653e-01   2.818670e-01   \n",
       "75%    6.725556e-01  1.064369e+00 -4.020960e-01  4.967781e-01   2.854028e-01   \n",
       "max    6.725556e-01  1.064369e+00  2.486969e+00  5.143901e+00   2.854028e-01   \n",
       "\n",
       "         AirQuality       EarlyEd    ProspNeigh          HHWT      HHINCOME  \\\n",
       "count  1.180785e+06  1.180785e+06  1.180785e+06  1.180785e+06  1.180785e+06   \n",
       "mean   1.435436e-12 -3.516910e-12  5.989656e-13 -3.423819e-14  1.485636e-15   \n",
       "std    1.000000e+00  1.000000e+00  1.000000e+00  1.000000e+00  1.000000e+00   \n",
       "min   -2.975731e+00 -2.254314e+00 -3.918673e+00 -1.366441e+00 -1.158032e+00   \n",
       "25%   -8.538214e-01 -6.916685e-01 -5.017038e-01 -5.409315e-01 -6.055501e-01   \n",
       "50%    2.887450e-01  3.580473e-01  1.042612e-02 -3.157925e-01 -2.570564e-01   \n",
       "75%    7.784163e-01  4.654046e-01  6.896505e-01  2.845780e-01  2.569640e-01   \n",
       "max    1.268088e+00  2.731836e+00  1.548628e+00  1.859588e+01  1.977139e+01   \n",
       "\n",
       "               RACE           AGE        HISPAN  \n",
       "count  1.180785e+06  1.180785e+06  1.180785e+06  \n",
       "mean   5.424345e-13 -8.973570e-15  3.176876e-13  \n",
       "std    1.000000e+00  1.000000e+00  1.000000e+00  \n",
       "min   -6.858003e-01 -1.632340e+00 -4.841863e-01  \n",
       "25%   -6.858003e-01 -8.730066e-01 -4.841863e-01  \n",
       "50%   -6.858003e-01 -5.526249e-02 -4.841863e-01  \n",
       "75%    1.322497e+00  7.624816e-01  5.732051e-01  \n",
       "max    2.527475e+00  2.631611e+00  3.745379e+00  "
      ]
     },
     "execution_count": 193,
     "metadata": {},
     "output_type": "execute_result"
    }
   ],
   "source": [
    "dfX = pd.DataFrame(Xstd, columns=['HousingCat','EDUCbin','CIHISPEED','TRANTIME','DrinkingWater','AirQuality','EarlyEd','ProspNeigh','HHWT','HHINCOME','RACE','AGE','HISPAN'])\n",
    "dfX.describe()"
   ]
  },
  {
   "cell_type": "code",
   "execution_count": 194,
   "id": "essential-airplane",
   "metadata": {},
   "outputs": [
    {
     "data": {
      "text/html": [
       "<div>\n",
       "<style scoped>\n",
       "    .dataframe tbody tr th:only-of-type {\n",
       "        vertical-align: middle;\n",
       "    }\n",
       "\n",
       "    .dataframe tbody tr th {\n",
       "        vertical-align: top;\n",
       "    }\n",
       "\n",
       "    .dataframe thead th {\n",
       "        text-align: right;\n",
       "    }\n",
       "</style>\n",
       "<table border=\"1\" class=\"dataframe\">\n",
       "  <thead>\n",
       "    <tr style=\"text-align: right;\">\n",
       "      <th></th>\n",
       "      <th>HousingCat</th>\n",
       "      <th>EDUCbin</th>\n",
       "      <th>CIHISPEED</th>\n",
       "      <th>TRANTIME</th>\n",
       "      <th>DrinkingWater</th>\n",
       "      <th>AirQuality</th>\n",
       "      <th>EarlyEd</th>\n",
       "      <th>ProspNeigh</th>\n",
       "    </tr>\n",
       "  </thead>\n",
       "  <tbody>\n",
       "    <tr>\n",
       "      <th>0</th>\n",
       "      <td>-0.659837</td>\n",
       "      <td>1.064369</td>\n",
       "      <td>-0.402096</td>\n",
       "      <td>-0.333065</td>\n",
       "      <td>0.285403</td>\n",
       "      <td>0.288745</td>\n",
       "      <td>0.465405</td>\n",
       "      <td>0.689651</td>\n",
       "    </tr>\n",
       "    <tr>\n",
       "      <th>1</th>\n",
       "      <td>-0.659837</td>\n",
       "      <td>-0.939523</td>\n",
       "      <td>-0.402096</td>\n",
       "      <td>-0.747987</td>\n",
       "      <td>0.285403</td>\n",
       "      <td>0.288745</td>\n",
       "      <td>0.465405</td>\n",
       "      <td>0.689651</td>\n",
       "    </tr>\n",
       "    <tr>\n",
       "      <th>2</th>\n",
       "      <td>0.672556</td>\n",
       "      <td>1.064369</td>\n",
       "      <td>-0.402096</td>\n",
       "      <td>0.081856</td>\n",
       "      <td>0.285403</td>\n",
       "      <td>0.288745</td>\n",
       "      <td>0.465405</td>\n",
       "      <td>0.689651</td>\n",
       "    </tr>\n",
       "    <tr>\n",
       "      <th>3</th>\n",
       "      <td>0.672556</td>\n",
       "      <td>-0.939523</td>\n",
       "      <td>-0.402096</td>\n",
       "      <td>0.289317</td>\n",
       "      <td>0.285403</td>\n",
       "      <td>0.288745</td>\n",
       "      <td>0.465405</td>\n",
       "      <td>0.689651</td>\n",
       "    </tr>\n",
       "    <tr>\n",
       "      <th>4</th>\n",
       "      <td>0.672556</td>\n",
       "      <td>-0.939523</td>\n",
       "      <td>-0.402096</td>\n",
       "      <td>-0.747987</td>\n",
       "      <td>0.285403</td>\n",
       "      <td>0.288745</td>\n",
       "      <td>0.465405</td>\n",
       "      <td>0.689651</td>\n",
       "    </tr>\n",
       "    <tr>\n",
       "      <th>...</th>\n",
       "      <td>...</td>\n",
       "      <td>...</td>\n",
       "      <td>...</td>\n",
       "      <td>...</td>\n",
       "      <td>...</td>\n",
       "      <td>...</td>\n",
       "      <td>...</td>\n",
       "      <td>...</td>\n",
       "    </tr>\n",
       "    <tr>\n",
       "      <th>1180780</th>\n",
       "      <td>0.672556</td>\n",
       "      <td>-0.939523</td>\n",
       "      <td>2.486969</td>\n",
       "      <td>-0.747987</td>\n",
       "      <td>-5.293388</td>\n",
       "      <td>0.778416</td>\n",
       "      <td>-2.254314</td>\n",
       "      <td>-3.568699</td>\n",
       "    </tr>\n",
       "    <tr>\n",
       "      <th>1180781</th>\n",
       "      <td>0.672556</td>\n",
       "      <td>1.064369</td>\n",
       "      <td>-0.402096</td>\n",
       "      <td>0.081856</td>\n",
       "      <td>-5.293388</td>\n",
       "      <td>0.778416</td>\n",
       "      <td>-2.254314</td>\n",
       "      <td>-3.568699</td>\n",
       "    </tr>\n",
       "    <tr>\n",
       "      <th>1180782</th>\n",
       "      <td>0.672556</td>\n",
       "      <td>1.064369</td>\n",
       "      <td>-0.402096</td>\n",
       "      <td>0.289317</td>\n",
       "      <td>-5.293388</td>\n",
       "      <td>0.778416</td>\n",
       "      <td>-2.254314</td>\n",
       "      <td>-3.568699</td>\n",
       "    </tr>\n",
       "    <tr>\n",
       "      <th>1180783</th>\n",
       "      <td>0.672556</td>\n",
       "      <td>1.064369</td>\n",
       "      <td>-0.402096</td>\n",
       "      <td>-0.333065</td>\n",
       "      <td>-5.293388</td>\n",
       "      <td>0.778416</td>\n",
       "      <td>-2.254314</td>\n",
       "      <td>-3.568699</td>\n",
       "    </tr>\n",
       "    <tr>\n",
       "      <th>1180784</th>\n",
       "      <td>0.672556</td>\n",
       "      <td>1.064369</td>\n",
       "      <td>-0.402096</td>\n",
       "      <td>-0.333065</td>\n",
       "      <td>-5.293388</td>\n",
       "      <td>0.778416</td>\n",
       "      <td>-2.254314</td>\n",
       "      <td>-3.568699</td>\n",
       "    </tr>\n",
       "  </tbody>\n",
       "</table>\n",
       "<p>1180785 rows × 8 columns</p>\n",
       "</div>"
      ],
      "text/plain": [
       "         HousingCat   EDUCbin  CIHISPEED  TRANTIME  DrinkingWater  AirQuality  \\\n",
       "0         -0.659837  1.064369  -0.402096 -0.333065       0.285403    0.288745   \n",
       "1         -0.659837 -0.939523  -0.402096 -0.747987       0.285403    0.288745   \n",
       "2          0.672556  1.064369  -0.402096  0.081856       0.285403    0.288745   \n",
       "3          0.672556 -0.939523  -0.402096  0.289317       0.285403    0.288745   \n",
       "4          0.672556 -0.939523  -0.402096 -0.747987       0.285403    0.288745   \n",
       "...             ...       ...        ...       ...            ...         ...   \n",
       "1180780    0.672556 -0.939523   2.486969 -0.747987      -5.293388    0.778416   \n",
       "1180781    0.672556  1.064369  -0.402096  0.081856      -5.293388    0.778416   \n",
       "1180782    0.672556  1.064369  -0.402096  0.289317      -5.293388    0.778416   \n",
       "1180783    0.672556  1.064369  -0.402096 -0.333065      -5.293388    0.778416   \n",
       "1180784    0.672556  1.064369  -0.402096 -0.333065      -5.293388    0.778416   \n",
       "\n",
       "          EarlyEd  ProspNeigh  \n",
       "0        0.465405    0.689651  \n",
       "1        0.465405    0.689651  \n",
       "2        0.465405    0.689651  \n",
       "3        0.465405    0.689651  \n",
       "4        0.465405    0.689651  \n",
       "...           ...         ...  \n",
       "1180780 -2.254314   -3.568699  \n",
       "1180781 -2.254314   -3.568699  \n",
       "1180782 -2.254314   -3.568699  \n",
       "1180783 -2.254314   -3.568699  \n",
       "1180784 -2.254314   -3.568699  \n",
       "\n",
       "[1180785 rows x 8 columns]"
      ]
     },
     "execution_count": 194,
     "metadata": {},
     "output_type": "execute_result"
    }
   ],
   "source": [
    "dfX.iloc[:,0:8]"
   ]
  },
  {
   "cell_type": "markdown",
   "id": "banned-grove",
   "metadata": {},
   "source": [
    "## Silhouette score:"
   ]
  },
  {
   "cell_type": "code",
   "execution_count": 196,
   "id": "applied-packet",
   "metadata": {},
   "outputs": [
    {
     "name": "stdout",
     "output_type": "stream",
     "text": [
      "For n_clusters = 3 the average silhouette_score is: 0.19086627340326667\n",
      "For n_clusters = 4 the average silhouette_score is: 0.19668476976051866\n",
      "For n_clusters = 5 the average silhouette_score is: 0.22690343364792667\n",
      "For n_clusters = 6 the average silhouette_score is: 0.2355950393206809\n",
      "For n_clusters = 7 the average silhouette_score is: 0.24386730110138796\n",
      "For n_clusters = 8 the average silhouette_score is: 0.2401658427877059\n",
      "For n_clusters = 9 the average silhouette_score is: 0.24923395129182332\n"
     ]
    }
   ],
   "source": [
    "for i in range(3,10):\n",
    "    km = KMeans(n_clusters = i, init = 'k-means++', random_state = 42)\n",
    "    cluster_labels = km.fit_predict(dfX.iloc[:,0:8])\n",
    "    silhouette_avg = silhouette_score(dfX.iloc[:,0:8], cluster_labels, metric='euclidean',sample_size = 10000, random_state=None)\n",
    "    print('For n_clusters = {} the average silhouette_score is: {}'.format(i, silhouette_avg))"
   ]
  },
  {
   "cell_type": "markdown",
   "id": "bridal-matrix",
   "metadata": {},
   "source": [
    "## Clustering"
   ]
  },
  {
   "cell_type": "code",
   "execution_count": 197,
   "id": "liable-underground",
   "metadata": {},
   "outputs": [
    {
     "name": "stdout",
     "output_type": "stream",
     "text": [
      "[5 3 5 ... 4 4 4]\n"
     ]
    }
   ],
   "source": [
    "kmeans = KMeans(n_clusters = 7, init = 'k-means++', random_state = 42)\n",
    "kmeans.fit(dfX.iloc[:,0:8])\n",
    "print(kmeans.labels_)"
   ]
  },
  {
   "cell_type": "code",
   "execution_count": 198,
   "id": "twenty-establishment",
   "metadata": {},
   "outputs": [
    {
     "data": {
      "text/plain": [
       "array([[ 1.,  1., 10., ...,  1., 41.,  1.],\n",
       "       [ 1.,  0., 10., ...,  1., 32.,  1.],\n",
       "       [ 2.,  1., 10., ...,  1., 45.,  0.],\n",
       "       ...,\n",
       "       [ 2.,  1., 10., ...,  1., 25.,  0.],\n",
       "       [ 2.,  1., 10., ...,  8., 25.,  0.],\n",
       "       [ 2.,  1., 10., ...,  1., 30.,  0.]])"
      ]
     },
     "execution_count": 198,
     "metadata": {},
     "output_type": "execute_result"
    }
   ],
   "source": [
    "Xfin = scaler.inverse_transform(dfX)\n",
    "Xfin"
   ]
  },
  {
   "cell_type": "code",
   "execution_count": 199,
   "id": "worst-press",
   "metadata": {},
   "outputs": [
    {
     "data": {
      "text/html": [
       "<div>\n",
       "<style scoped>\n",
       "    .dataframe tbody tr th:only-of-type {\n",
       "        vertical-align: middle;\n",
       "    }\n",
       "\n",
       "    .dataframe tbody tr th {\n",
       "        vertical-align: top;\n",
       "    }\n",
       "\n",
       "    .dataframe thead th {\n",
       "        text-align: right;\n",
       "    }\n",
       "</style>\n",
       "<table border=\"1\" class=\"dataframe\">\n",
       "  <thead>\n",
       "    <tr style=\"text-align: right;\">\n",
       "      <th></th>\n",
       "      <th>HousingCat</th>\n",
       "      <th>EDUCbin</th>\n",
       "      <th>CIHISPEED</th>\n",
       "      <th>TRANTIME</th>\n",
       "      <th>DrinkingWater</th>\n",
       "      <th>AirQuality</th>\n",
       "      <th>EarlyEd</th>\n",
       "      <th>ProspNeigh</th>\n",
       "      <th>HHWT</th>\n",
       "      <th>HHINCOME</th>\n",
       "      <th>RACE</th>\n",
       "      <th>AGE</th>\n",
       "      <th>HISPAN</th>\n",
       "    </tr>\n",
       "  </thead>\n",
       "  <tbody>\n",
       "    <tr>\n",
       "      <th>count</th>\n",
       "      <td>1.180785e+06</td>\n",
       "      <td>1.180785e+06</td>\n",
       "      <td>1.180785e+06</td>\n",
       "      <td>1.180785e+06</td>\n",
       "      <td>1.180785e+06</td>\n",
       "      <td>1.180785e+06</td>\n",
       "      <td>1.180785e+06</td>\n",
       "      <td>1.180785e+06</td>\n",
       "      <td>1.180785e+06</td>\n",
       "      <td>1.180785e+06</td>\n",
       "      <td>1.180785e+06</td>\n",
       "      <td>1.180785e+06</td>\n",
       "      <td>1.180785e+06</td>\n",
       "    </tr>\n",
       "    <tr>\n",
       "      <th>mean</th>\n",
       "      <td>1.495227e+00</td>\n",
       "      <td>4.688491e-01</td>\n",
       "      <td>1.139179e+01</td>\n",
       "      <td>1.802718e+01</td>\n",
       "      <td>9.943121e-01</td>\n",
       "      <td>3.523099e+01</td>\n",
       "      <td>5.149841e-01</td>\n",
       "      <td>8.171870e-01</td>\n",
       "      <td>1.920797e+01</td>\n",
       "      <td>1.304553e+05</td>\n",
       "      <td>2.707418e+00</td>\n",
       "      <td>4.894611e+01</td>\n",
       "      <td>4.579064e-01</td>\n",
       "    </tr>\n",
       "    <tr>\n",
       "      <th>std</th>\n",
       "      <td>7.505296e-01</td>\n",
       "      <td>4.990289e-01</td>\n",
       "      <td>3.461329e+00</td>\n",
       "      <td>2.410094e+01</td>\n",
       "      <td>1.992936e-02</td>\n",
       "      <td>6.126561e+00</td>\n",
       "      <td>8.383225e-02</td>\n",
       "      <td>1.154902e-01</td>\n",
       "      <td>1.332511e+01</td>\n",
       "      <td>1.262577e+05</td>\n",
       "      <td>2.489673e+00</td>\n",
       "      <td>1.712028e+01</td>\n",
       "      <td>9.457240e-01</td>\n",
       "    </tr>\n",
       "    <tr>\n",
       "      <th>min</th>\n",
       "      <td>0.000000e+00</td>\n",
       "      <td>0.000000e+00</td>\n",
       "      <td>1.000000e+01</td>\n",
       "      <td>0.000000e+00</td>\n",
       "      <td>8.888183e-01</td>\n",
       "      <td>1.700000e+01</td>\n",
       "      <td>3.260000e-01</td>\n",
       "      <td>3.646189e-01</td>\n",
       "      <td>1.000000e+00</td>\n",
       "      <td>-1.575500e+04</td>\n",
       "      <td>1.000000e+00</td>\n",
       "      <td>2.100000e+01</td>\n",
       "      <td>0.000000e+00</td>\n",
       "    </tr>\n",
       "    <tr>\n",
       "      <th>25%</th>\n",
       "      <td>1.000000e+00</td>\n",
       "      <td>0.000000e+00</td>\n",
       "      <td>1.000000e+01</td>\n",
       "      <td>0.000000e+00</td>\n",
       "      <td>9.996217e-01</td>\n",
       "      <td>3.000000e+01</td>\n",
       "      <td>4.570000e-01</td>\n",
       "      <td>7.592451e-01</td>\n",
       "      <td>1.200000e+01</td>\n",
       "      <td>5.400000e+04</td>\n",
       "      <td>1.000000e+00</td>\n",
       "      <td>3.400000e+01</td>\n",
       "      <td>0.000000e+00</td>\n",
       "    </tr>\n",
       "    <tr>\n",
       "      <th>50%</th>\n",
       "      <td>2.000000e+00</td>\n",
       "      <td>0.000000e+00</td>\n",
       "      <td>1.000000e+01</td>\n",
       "      <td>1.000000e+01</td>\n",
       "      <td>9.999295e-01</td>\n",
       "      <td>3.700000e+01</td>\n",
       "      <td>5.450000e-01</td>\n",
       "      <td>8.183911e-01</td>\n",
       "      <td>1.500000e+01</td>\n",
       "      <td>9.800000e+04</td>\n",
       "      <td>1.000000e+00</td>\n",
       "      <td>4.800000e+01</td>\n",
       "      <td>0.000000e+00</td>\n",
       "    </tr>\n",
       "    <tr>\n",
       "      <th>75%</th>\n",
       "      <td>2.000000e+00</td>\n",
       "      <td>1.000000e+00</td>\n",
       "      <td>1.000000e+01</td>\n",
       "      <td>3.000000e+01</td>\n",
       "      <td>1.000000e+00</td>\n",
       "      <td>4.000000e+01</td>\n",
       "      <td>5.540000e-01</td>\n",
       "      <td>8.968348e-01</td>\n",
       "      <td>2.300000e+01</td>\n",
       "      <td>1.628990e+05</td>\n",
       "      <td>6.000000e+00</td>\n",
       "      <td>6.200000e+01</td>\n",
       "      <td>1.000000e+00</td>\n",
       "    </tr>\n",
       "    <tr>\n",
       "      <th>max</th>\n",
       "      <td>2.000000e+00</td>\n",
       "      <td>1.000000e+00</td>\n",
       "      <td>2.000000e+01</td>\n",
       "      <td>1.420000e+02</td>\n",
       "      <td>1.000000e+00</td>\n",
       "      <td>4.300000e+01</td>\n",
       "      <td>7.440000e-01</td>\n",
       "      <td>9.960382e-01</td>\n",
       "      <td>2.670000e+02</td>\n",
       "      <td>2.626744e+06</td>\n",
       "      <td>9.000000e+00</td>\n",
       "      <td>9.400000e+01</td>\n",
       "      <td>4.000000e+00</td>\n",
       "    </tr>\n",
       "  </tbody>\n",
       "</table>\n",
       "</div>"
      ],
      "text/plain": [
       "         HousingCat       EDUCbin     CIHISPEED      TRANTIME  DrinkingWater  \\\n",
       "count  1.180785e+06  1.180785e+06  1.180785e+06  1.180785e+06   1.180785e+06   \n",
       "mean   1.495227e+00  4.688491e-01  1.139179e+01  1.802718e+01   9.943121e-01   \n",
       "std    7.505296e-01  4.990289e-01  3.461329e+00  2.410094e+01   1.992936e-02   \n",
       "min    0.000000e+00  0.000000e+00  1.000000e+01  0.000000e+00   8.888183e-01   \n",
       "25%    1.000000e+00  0.000000e+00  1.000000e+01  0.000000e+00   9.996217e-01   \n",
       "50%    2.000000e+00  0.000000e+00  1.000000e+01  1.000000e+01   9.999295e-01   \n",
       "75%    2.000000e+00  1.000000e+00  1.000000e+01  3.000000e+01   1.000000e+00   \n",
       "max    2.000000e+00  1.000000e+00  2.000000e+01  1.420000e+02   1.000000e+00   \n",
       "\n",
       "         AirQuality       EarlyEd    ProspNeigh          HHWT      HHINCOME  \\\n",
       "count  1.180785e+06  1.180785e+06  1.180785e+06  1.180785e+06  1.180785e+06   \n",
       "mean   3.523099e+01  5.149841e-01  8.171870e-01  1.920797e+01  1.304553e+05   \n",
       "std    6.126561e+00  8.383225e-02  1.154902e-01  1.332511e+01  1.262577e+05   \n",
       "min    1.700000e+01  3.260000e-01  3.646189e-01  1.000000e+00 -1.575500e+04   \n",
       "25%    3.000000e+01  4.570000e-01  7.592451e-01  1.200000e+01  5.400000e+04   \n",
       "50%    3.700000e+01  5.450000e-01  8.183911e-01  1.500000e+01  9.800000e+04   \n",
       "75%    4.000000e+01  5.540000e-01  8.968348e-01  2.300000e+01  1.628990e+05   \n",
       "max    4.300000e+01  7.440000e-01  9.960382e-01  2.670000e+02  2.626744e+06   \n",
       "\n",
       "               RACE           AGE        HISPAN  \n",
       "count  1.180785e+06  1.180785e+06  1.180785e+06  \n",
       "mean   2.707418e+00  4.894611e+01  4.579064e-01  \n",
       "std    2.489673e+00  1.712028e+01  9.457240e-01  \n",
       "min    1.000000e+00  2.100000e+01  0.000000e+00  \n",
       "25%    1.000000e+00  3.400000e+01  0.000000e+00  \n",
       "50%    1.000000e+00  4.800000e+01  0.000000e+00  \n",
       "75%    6.000000e+00  6.200000e+01  1.000000e+00  \n",
       "max    9.000000e+00  9.400000e+01  4.000000e+00  "
      ]
     },
     "execution_count": 199,
     "metadata": {},
     "output_type": "execute_result"
    }
   ],
   "source": [
    "dfXfin = pd.DataFrame(Xfin, columns=['HousingCat','EDUCbin','CIHISPEED','TRANTIME','DrinkingWater','AirQuality','EarlyEd','ProspNeigh','HHWT','HHINCOME','RACE','AGE','HISPAN'])\n",
    "dfXfin.describe()"
   ]
  },
  {
   "cell_type": "code",
   "execution_count": 200,
   "id": "advised-evening",
   "metadata": {},
   "outputs": [
    {
     "data": {
      "text/html": [
       "<div>\n",
       "<style scoped>\n",
       "    .dataframe tbody tr th:only-of-type {\n",
       "        vertical-align: middle;\n",
       "    }\n",
       "\n",
       "    .dataframe tbody tr th {\n",
       "        vertical-align: top;\n",
       "    }\n",
       "\n",
       "    .dataframe thead th {\n",
       "        text-align: right;\n",
       "    }\n",
       "</style>\n",
       "<table border=\"1\" class=\"dataframe\">\n",
       "  <thead>\n",
       "    <tr style=\"text-align: right;\">\n",
       "      <th></th>\n",
       "      <th>HousingCat</th>\n",
       "      <th>EDUCbin</th>\n",
       "      <th>CIHISPEED</th>\n",
       "      <th>TRANTIME</th>\n",
       "      <th>DrinkingWater</th>\n",
       "      <th>AirQuality</th>\n",
       "      <th>EarlyEd</th>\n",
       "      <th>ProspNeigh</th>\n",
       "      <th>HHWT</th>\n",
       "      <th>HHINCOME</th>\n",
       "      <th>RACE</th>\n",
       "      <th>AGE</th>\n",
       "      <th>HISPAN</th>\n",
       "    </tr>\n",
       "    <tr>\n",
       "      <th>labels</th>\n",
       "      <th></th>\n",
       "      <th></th>\n",
       "      <th></th>\n",
       "      <th></th>\n",
       "      <th></th>\n",
       "      <th></th>\n",
       "      <th></th>\n",
       "      <th></th>\n",
       "      <th></th>\n",
       "      <th></th>\n",
       "      <th></th>\n",
       "      <th></th>\n",
       "      <th></th>\n",
       "    </tr>\n",
       "  </thead>\n",
       "  <tbody>\n",
       "    <tr>\n",
       "      <th>0</th>\n",
       "      <td>1.335146</td>\n",
       "      <td>0.312078</td>\n",
       "      <td>20.000000</td>\n",
       "      <td>14.168001</td>\n",
       "      <td>0.998420</td>\n",
       "      <td>35.990576</td>\n",
       "      <td>0.509800</td>\n",
       "      <td>0.807171</td>\n",
       "      <td>19.479492</td>\n",
       "      <td>93838.966758</td>\n",
       "      <td>2.862472</td>\n",
       "      <td>50.541352</td>\n",
       "      <td>0.622599</td>\n",
       "    </tr>\n",
       "    <tr>\n",
       "      <th>1</th>\n",
       "      <td>0.000000</td>\n",
       "      <td>0.327705</td>\n",
       "      <td>10.000000</td>\n",
       "      <td>13.590036</td>\n",
       "      <td>0.998949</td>\n",
       "      <td>36.728475</td>\n",
       "      <td>0.515279</td>\n",
       "      <td>0.807001</td>\n",
       "      <td>22.410544</td>\n",
       "      <td>43304.250911</td>\n",
       "      <td>2.989104</td>\n",
       "      <td>42.609792</td>\n",
       "      <td>0.614850</td>\n",
       "    </tr>\n",
       "    <tr>\n",
       "      <th>2</th>\n",
       "      <td>1.644981</td>\n",
       "      <td>0.523316</td>\n",
       "      <td>10.613623</td>\n",
       "      <td>84.505099</td>\n",
       "      <td>0.997525</td>\n",
       "      <td>36.648086</td>\n",
       "      <td>0.506324</td>\n",
       "      <td>0.813083</td>\n",
       "      <td>19.067101</td>\n",
       "      <td>153613.361479</td>\n",
       "      <td>2.886149</td>\n",
       "      <td>44.340127</td>\n",
       "      <td>0.538017</td>\n",
       "    </tr>\n",
       "    <tr>\n",
       "      <th>3</th>\n",
       "      <td>1.773247</td>\n",
       "      <td>0.000000</td>\n",
       "      <td>10.000000</td>\n",
       "      <td>11.703027</td>\n",
       "      <td>0.998370</td>\n",
       "      <td>37.659320</td>\n",
       "      <td>0.492169</td>\n",
       "      <td>0.793149</td>\n",
       "      <td>18.701277</td>\n",
       "      <td>112202.688141</td>\n",
       "      <td>2.711595</td>\n",
       "      <td>50.576031</td>\n",
       "      <td>0.607098</td>\n",
       "    </tr>\n",
       "    <tr>\n",
       "      <th>4</th>\n",
       "      <td>1.536120</td>\n",
       "      <td>0.306702</td>\n",
       "      <td>12.456830</td>\n",
       "      <td>12.724906</td>\n",
       "      <td>0.913946</td>\n",
       "      <td>36.858959</td>\n",
       "      <td>0.379997</td>\n",
       "      <td>0.626347</td>\n",
       "      <td>21.140929</td>\n",
       "      <td>95667.493610</td>\n",
       "      <td>2.270479</td>\n",
       "      <td>48.537504</td>\n",
       "      <td>0.498798</td>\n",
       "    </tr>\n",
       "    <tr>\n",
       "      <th>5</th>\n",
       "      <td>1.803420</td>\n",
       "      <td>1.000000</td>\n",
       "      <td>10.000000</td>\n",
       "      <td>14.054010</td>\n",
       "      <td>0.998923</td>\n",
       "      <td>37.400179</td>\n",
       "      <td>0.506441</td>\n",
       "      <td>0.801554</td>\n",
       "      <td>17.866892</td>\n",
       "      <td>166618.212767</td>\n",
       "      <td>2.420989</td>\n",
       "      <td>50.105405</td>\n",
       "      <td>0.263557</td>\n",
       "    </tr>\n",
       "    <tr>\n",
       "      <th>6</th>\n",
       "      <td>1.642037</td>\n",
       "      <td>0.668558</td>\n",
       "      <td>10.163844</td>\n",
       "      <td>17.484867</td>\n",
       "      <td>0.999969</td>\n",
       "      <td>26.761025</td>\n",
       "      <td>0.603543</td>\n",
       "      <td>0.940831</td>\n",
       "      <td>19.028495</td>\n",
       "      <td>188576.072549</td>\n",
       "      <td>2.868255</td>\n",
       "      <td>49.457310</td>\n",
       "      <td>0.256620</td>\n",
       "    </tr>\n",
       "  </tbody>\n",
       "</table>\n",
       "</div>"
      ],
      "text/plain": [
       "        HousingCat   EDUCbin  CIHISPEED   TRANTIME  DrinkingWater  AirQuality  \\\n",
       "labels                                                                          \n",
       "0         1.335146  0.312078  20.000000  14.168001       0.998420   35.990576   \n",
       "1         0.000000  0.327705  10.000000  13.590036       0.998949   36.728475   \n",
       "2         1.644981  0.523316  10.613623  84.505099       0.997525   36.648086   \n",
       "3         1.773247  0.000000  10.000000  11.703027       0.998370   37.659320   \n",
       "4         1.536120  0.306702  12.456830  12.724906       0.913946   36.858959   \n",
       "5         1.803420  1.000000  10.000000  14.054010       0.998923   37.400179   \n",
       "6         1.642037  0.668558  10.163844  17.484867       0.999969   26.761025   \n",
       "\n",
       "         EarlyEd  ProspNeigh       HHWT       HHINCOME      RACE        AGE  \\\n",
       "labels                                                                        \n",
       "0       0.509800    0.807171  19.479492   93838.966758  2.862472  50.541352   \n",
       "1       0.515279    0.807001  22.410544   43304.250911  2.989104  42.609792   \n",
       "2       0.506324    0.813083  19.067101  153613.361479  2.886149  44.340127   \n",
       "3       0.492169    0.793149  18.701277  112202.688141  2.711595  50.576031   \n",
       "4       0.379997    0.626347  21.140929   95667.493610  2.270479  48.537504   \n",
       "5       0.506441    0.801554  17.866892  166618.212767  2.420989  50.105405   \n",
       "6       0.603543    0.940831  19.028495  188576.072549  2.868255  49.457310   \n",
       "\n",
       "          HISPAN  \n",
       "labels            \n",
       "0       0.622599  \n",
       "1       0.614850  \n",
       "2       0.538017  \n",
       "3       0.607098  \n",
       "4       0.498798  \n",
       "5       0.263557  \n",
       "6       0.256620  "
      ]
     },
     "execution_count": 200,
     "metadata": {},
     "output_type": "execute_result"
    }
   ],
   "source": [
    "dfXfin['labels'] = kmeans.labels_\n",
    "cluster_sum = dfXfin.groupby(by = 'labels').mean()\n",
    "cluster_sum.head(7)"
   ]
  },
  {
   "cell_type": "code",
   "execution_count": 201,
   "id": "comprehensive-investing",
   "metadata": {},
   "outputs": [],
   "source": [
    "clust0 = dfXfin[dfXfin['labels']==0]\n",
    "clust1 = dfXfin[dfXfin['labels']==1]\n",
    "clust2 = dfXfin[dfXfin['labels']==2]\n",
    "clust3 = dfXfin[dfXfin['labels']==3]\n",
    "clust4 = dfXfin[dfXfin['labels']==4]\n",
    "clust5 = dfXfin[dfXfin['labels']==5]\n",
    "clust6 = dfXfin[dfXfin['labels']==6]"
   ]
  },
  {
   "cell_type": "markdown",
   "id": "former-liability",
   "metadata": {},
   "source": [
    "## Housing Category"
   ]
  },
  {
   "cell_type": "code",
   "execution_count": 202,
   "id": "accessory-bowling",
   "metadata": {},
   "outputs": [
    {
     "data": {
      "text/html": [
       "<div>\n",
       "<style scoped>\n",
       "    .dataframe tbody tr th:only-of-type {\n",
       "        vertical-align: middle;\n",
       "    }\n",
       "\n",
       "    .dataframe tbody tr th {\n",
       "        vertical-align: top;\n",
       "    }\n",
       "\n",
       "    .dataframe thead th {\n",
       "        text-align: right;\n",
       "    }\n",
       "</style>\n",
       "<table border=\"1\" class=\"dataframe\">\n",
       "  <thead>\n",
       "    <tr style=\"text-align: right;\">\n",
       "      <th></th>\n",
       "      <th>&gt;=30% Income on Rent</th>\n",
       "      <th>&lt;30% Income on Rent</th>\n",
       "      <th>Owner</th>\n",
       "    </tr>\n",
       "  </thead>\n",
       "  <tbody>\n",
       "    <tr>\n",
       "      <th>Cluster 0</th>\n",
       "      <td>23.242493</td>\n",
       "      <td>20.000425</td>\n",
       "      <td>56.757082</td>\n",
       "    </tr>\n",
       "    <tr>\n",
       "      <th>Cluster 1</th>\n",
       "      <td>100.000000</td>\n",
       "      <td>0.000000</td>\n",
       "      <td>0.000000</td>\n",
       "    </tr>\n",
       "    <tr>\n",
       "      <th>Cluster 2</th>\n",
       "      <td>6.451138</td>\n",
       "      <td>22.599585</td>\n",
       "      <td>70.949277</td>\n",
       "    </tr>\n",
       "    <tr>\n",
       "      <th>Cluster 3</th>\n",
       "      <td>0.000000</td>\n",
       "      <td>22.675323</td>\n",
       "      <td>77.324677</td>\n",
       "    </tr>\n",
       "    <tr>\n",
       "      <th>Cluster 4</th>\n",
       "      <td>13.586809</td>\n",
       "      <td>19.214426</td>\n",
       "      <td>67.198765</td>\n",
       "    </tr>\n",
       "    <tr>\n",
       "      <th>Cluster 5</th>\n",
       "      <td>0.000000</td>\n",
       "      <td>19.658028</td>\n",
       "      <td>80.341972</td>\n",
       "    </tr>\n",
       "    <tr>\n",
       "      <th>Cluster 6</th>\n",
       "      <td>6.324107</td>\n",
       "      <td>23.148087</td>\n",
       "      <td>70.527806</td>\n",
       "    </tr>\n",
       "  </tbody>\n",
       "</table>\n",
       "</div>"
      ],
      "text/plain": [
       "           >=30% Income on Rent  <30% Income on Rent      Owner\n",
       "Cluster 0             23.242493            20.000425  56.757082\n",
       "Cluster 1            100.000000             0.000000   0.000000\n",
       "Cluster 2              6.451138            22.599585  70.949277\n",
       "Cluster 3              0.000000            22.675323  77.324677\n",
       "Cluster 4             13.586809            19.214426  67.198765\n",
       "Cluster 5              0.000000            19.658028  80.341972\n",
       "Cluster 6              6.324107            23.148087  70.527806"
      ]
     },
     "execution_count": 202,
     "metadata": {},
     "output_type": "execute_result"
    }
   ],
   "source": [
    "clustNames= ['Cluster 0', 'Cluster 1', 'Cluster 2','Cluster 3','Cluster 4', 'Cluster 5', 'Cluster 6']\n",
    "dfH = pd.DataFrame(index=clustNames, data=np.array([[clust0['HousingCat'].value_counts()[0]*100/clust0.shape[0],\n",
    "                                                     clust0['HousingCat'].value_counts()[1]*100/clust0.shape[0],\n",
    "                                                     clust0['HousingCat'].value_counts()[2]*100/clust0.shape[0]], \n",
    "                                                    [clust1['HousingCat'].value_counts()[0]*100/clust1.shape[0],\n",
    "                                                     0,\n",
    "                                                     0],\n",
    "                                                    [clust2['HousingCat'].value_counts()[0]*100/clust2.shape[0],\n",
    "                                                     clust2['HousingCat'].value_counts()[1]*100/clust2.shape[0],\n",
    "                                                     clust2['HousingCat'].value_counts()[2]*100/clust2.shape[0]],\n",
    "                                                    [0,\n",
    "                                                     clust3['HousingCat'].value_counts()[1]*100/clust3.shape[0],\n",
    "                                                     clust3['HousingCat'].value_counts()[2]*100/clust3.shape[0]],\n",
    "                                                    [clust4['HousingCat'].value_counts()[0]*100/clust4.shape[0],\n",
    "                                                     clust4['HousingCat'].value_counts()[1]*100/clust4.shape[0],\n",
    "                                                     clust4['HousingCat'].value_counts()[2]*100/clust4.shape[0]],\n",
    "                                                    [0,\n",
    "                                                     clust5['HousingCat'].value_counts()[1]*100/clust5.shape[0],\n",
    "                                                     clust5['HousingCat'].value_counts()[2]*100/clust5.shape[0]],\n",
    "                                                    [clust6['HousingCat'].value_counts()[0]*100/clust6.shape[0],\n",
    "                                                     clust6['HousingCat'].value_counts()[1]*100/clust6.shape[0],\n",
    "                                                     clust6['HousingCat'].value_counts()[2]*100/clust6.shape[0]]]),\n",
    "                   columns=['>=30% Income on Rent', '<30% Income on Rent', 'Owner'])\n",
    "dfH"
   ]
  },
  {
   "cell_type": "markdown",
   "id": "worth-spirit",
   "metadata": {},
   "source": [
    "## Education (binary)"
   ]
  },
  {
   "cell_type": "code",
   "execution_count": 203,
   "id": "buried-terror",
   "metadata": {},
   "outputs": [
    {
     "data": {
      "text/html": [
       "<div>\n",
       "<style scoped>\n",
       "    .dataframe tbody tr th:only-of-type {\n",
       "        vertical-align: middle;\n",
       "    }\n",
       "\n",
       "    .dataframe tbody tr th {\n",
       "        vertical-align: top;\n",
       "    }\n",
       "\n",
       "    .dataframe thead th {\n",
       "        text-align: right;\n",
       "    }\n",
       "</style>\n",
       "<table border=\"1\" class=\"dataframe\">\n",
       "  <thead>\n",
       "    <tr style=\"text-align: right;\">\n",
       "      <th></th>\n",
       "      <th>&lt;2 yr. College</th>\n",
       "      <th>&gt;2 yr. College</th>\n",
       "    </tr>\n",
       "  </thead>\n",
       "  <tbody>\n",
       "    <tr>\n",
       "      <th>Cluster 0</th>\n",
       "      <td>68.792172</td>\n",
       "      <td>31.207828</td>\n",
       "    </tr>\n",
       "    <tr>\n",
       "      <th>Cluster 1</th>\n",
       "      <td>67.229477</td>\n",
       "      <td>32.770523</td>\n",
       "    </tr>\n",
       "    <tr>\n",
       "      <th>Cluster 2</th>\n",
       "      <td>47.668379</td>\n",
       "      <td>52.331621</td>\n",
       "    </tr>\n",
       "    <tr>\n",
       "      <th>Cluster 3</th>\n",
       "      <td>100.000000</td>\n",
       "      <td>0.000000</td>\n",
       "    </tr>\n",
       "    <tr>\n",
       "      <th>Cluster 4</th>\n",
       "      <td>69.329811</td>\n",
       "      <td>30.670189</td>\n",
       "    </tr>\n",
       "    <tr>\n",
       "      <th>Cluster 5</th>\n",
       "      <td>0.000000</td>\n",
       "      <td>100.000000</td>\n",
       "    </tr>\n",
       "    <tr>\n",
       "      <th>Cluster 6</th>\n",
       "      <td>33.144151</td>\n",
       "      <td>66.855849</td>\n",
       "    </tr>\n",
       "  </tbody>\n",
       "</table>\n",
       "</div>"
      ],
      "text/plain": [
       "           <2 yr. College  >2 yr. College\n",
       "Cluster 0       68.792172       31.207828\n",
       "Cluster 1       67.229477       32.770523\n",
       "Cluster 2       47.668379       52.331621\n",
       "Cluster 3      100.000000        0.000000\n",
       "Cluster 4       69.329811       30.670189\n",
       "Cluster 5        0.000000      100.000000\n",
       "Cluster 6       33.144151       66.855849"
      ]
     },
     "execution_count": 203,
     "metadata": {},
     "output_type": "execute_result"
    }
   ],
   "source": [
    "#TABLE\n",
    "clustNames= ['Cluster 0', 'Cluster 1', 'Cluster 2','Cluster 3','Cluster 4', 'Cluster 5', 'Cluster 6']\n",
    "column='EDUCbin'\n",
    "dfEd = pd.DataFrame(index=clustNames, data=np.array([[clust0['{}'.format(column)].value_counts()[0]*100/clust0.shape[0],\n",
    "                                                      clust0['{}'.format(column)].value_counts()[1]*100/clust0.shape[0]], \n",
    "                                                    [clust1['{}'.format(column)].value_counts()[0]*100/clust1.shape[0],\n",
    "                                                     clust1['{}'.format(column)].value_counts()[1]*100/clust1.shape[0]],\n",
    "                                                    [clust2['{}'.format(column)].value_counts()[0]*100/clust2.shape[0],\n",
    "                                                     clust2['{}'.format(column)].value_counts()[1]*100/clust2.shape[0]],\n",
    "                                                    [clust3['{}'.format(column)].value_counts()[0]*100/clust3.shape[0],\n",
    "                                                    0],\n",
    "                                                    [clust4['{}'.format(column)].value_counts()[0]*100/clust4.shape[0],\n",
    "                                                     clust4['{}'.format(column)].value_counts()[1]*100/clust4.shape[0]],\n",
    "                                                    [0,\n",
    "                                                     clust5['{}'.format(column)].value_counts()[1]*100/clust5.shape[0]],\n",
    "                                                    [clust6['{}'.format(column)].value_counts()[0]*100/clust6.shape[0],\n",
    "                                                     clust6['{}'.format(column)].value_counts()[1]*100/clust6.shape[0]]]),\n",
    "                   columns=['<2 yr. College', '>2 yr. College'])\n",
    "dfEd"
   ]
  },
  {
   "cell_type": "markdown",
   "id": "rubber-buyer",
   "metadata": {},
   "source": [
    "## Broadband Availability"
   ]
  },
  {
   "cell_type": "code",
   "execution_count": 204,
   "id": "bored-theology",
   "metadata": {},
   "outputs": [
    {
     "data": {
      "text/html": [
       "<div>\n",
       "<style scoped>\n",
       "    .dataframe tbody tr th:only-of-type {\n",
       "        vertical-align: middle;\n",
       "    }\n",
       "\n",
       "    .dataframe tbody tr th {\n",
       "        vertical-align: top;\n",
       "    }\n",
       "\n",
       "    .dataframe thead th {\n",
       "        text-align: right;\n",
       "    }\n",
       "</style>\n",
       "<table border=\"1\" class=\"dataframe\">\n",
       "  <thead>\n",
       "    <tr style=\"text-align: right;\">\n",
       "      <th></th>\n",
       "      <th>Broadband-Serviced</th>\n",
       "      <th>No Service</th>\n",
       "    </tr>\n",
       "  </thead>\n",
       "  <tbody>\n",
       "    <tr>\n",
       "      <th>Cluster 0</th>\n",
       "      <td>0.000000</td>\n",
       "      <td>100.000000</td>\n",
       "    </tr>\n",
       "    <tr>\n",
       "      <th>Cluster 1</th>\n",
       "      <td>100.000000</td>\n",
       "      <td>0.000000</td>\n",
       "    </tr>\n",
       "    <tr>\n",
       "      <th>Cluster 2</th>\n",
       "      <td>93.863767</td>\n",
       "      <td>6.136233</td>\n",
       "    </tr>\n",
       "    <tr>\n",
       "      <th>Cluster 3</th>\n",
       "      <td>100.000000</td>\n",
       "      <td>0.000000</td>\n",
       "    </tr>\n",
       "    <tr>\n",
       "      <th>Cluster 4</th>\n",
       "      <td>75.431700</td>\n",
       "      <td>24.568300</td>\n",
       "    </tr>\n",
       "    <tr>\n",
       "      <th>Cluster 5</th>\n",
       "      <td>100.000000</td>\n",
       "      <td>0.000000</td>\n",
       "    </tr>\n",
       "    <tr>\n",
       "      <th>Cluster 6</th>\n",
       "      <td>98.361562</td>\n",
       "      <td>1.638438</td>\n",
       "    </tr>\n",
       "  </tbody>\n",
       "</table>\n",
       "</div>"
      ],
      "text/plain": [
       "           Broadband-Serviced  No Service\n",
       "Cluster 0            0.000000  100.000000\n",
       "Cluster 1          100.000000    0.000000\n",
       "Cluster 2           93.863767    6.136233\n",
       "Cluster 3          100.000000    0.000000\n",
       "Cluster 4           75.431700   24.568300\n",
       "Cluster 5          100.000000    0.000000\n",
       "Cluster 6           98.361562    1.638438"
      ]
     },
     "execution_count": 204,
     "metadata": {},
     "output_type": "execute_result"
    }
   ],
   "source": [
    "#TABLE\n",
    "clustNames= ['Cluster 0', 'Cluster 1', 'Cluster 2','Cluster 3','Cluster 4', 'Cluster 5', 'Cluster 6']\n",
    "column='CIHISPEED'\n",
    "dfBb = pd.DataFrame(index=clustNames, data=np.array([[0,\n",
    "                                                      clust0['{}'.format(column)].value_counts()[20]*100/clust0.shape[0]], \n",
    "                                                    [clust1['{}'.format(column)].value_counts()[10]*100/clust1.shape[0],\n",
    "                                                     0],\n",
    "                                                    [clust2['{}'.format(column)].value_counts()[10]*100/clust2.shape[0],\n",
    "                                                     clust2['{}'.format(column)].value_counts()[20]*100/clust2.shape[0]],\n",
    "                                                    [clust3['{}'.format(column)].value_counts()[10]*100/clust3.shape[0],\n",
    "                                                    0],\n",
    "                                                    [clust4['{}'.format(column)].value_counts()[10]*100/clust4.shape[0],\n",
    "                                                     clust4['{}'.format(column)].value_counts()[20]*100/clust4.shape[0]],\n",
    "                                                    [clust5['{}'.format(column)].value_counts()[10]*100/clust5.shape[0],\n",
    "                                                    0],\n",
    "                                                    [clust6['{}'.format(column)].value_counts()[10]*100/clust6.shape[0],\n",
    "                                                     clust6['{}'.format(column)].value_counts()[20]*100/clust6.shape[0]]]),\n",
    "                   columns=['Broadband-Serviced', 'No Service'])\n",
    "dfBb"
   ]
  },
  {
   "cell_type": "markdown",
   "id": "antique-arrival",
   "metadata": {},
   "source": [
    "## Commute Time"
   ]
  },
  {
   "cell_type": "code",
   "execution_count": 205,
   "id": "decent-iraqi",
   "metadata": {},
   "outputs": [
    {
     "data": {
      "image/png": "[encoded data removed]",
      "text/plain": [
       "<Figure size 1440x720 with 8 Axes>"
      ]
     },
     "metadata": {
      "needs_background": "light"
     },
     "output_type": "display_data"
    }
   ],
   "source": [
    "fig, axs = plt.subplots(2, 4, sharey=True, figsize=(20,10))\n",
    "fig.suptitle(\"Cluster Commute Time Distributions\")\n",
    "\n",
    "axs[0, 0].hist(clust0['TRANTIME'])\n",
    "axs[0, 0].set_title('Cluster 0')\n",
    "axs[0, 1].hist(clust1['TRANTIME'])\n",
    "axs[0, 1].set_title('Cluster 1')\n",
    "axs[0, 2].hist(clust2['TRANTIME'])\n",
    "axs[0, 2].set_title('Cluster 2')\n",
    "axs[0, 3].hist(clust3['TRANTIME'])\n",
    "axs[0, 3].set_title('Cluster 3')\n",
    "axs[1, 0].hist(clust4['TRANTIME'])\n",
    "axs[1, 0].set_title('Cluster 4')\n",
    "axs[1, 1].hist(clust5['TRANTIME'])\n",
    "axs[1, 1].set_title('Cluster 5')\n",
    "axs[1, 2].hist(clust6['TRANTIME'])\n",
    "axs[1, 2].set_title('Cluster 6')\n",
    "\n",
    "for ax in axs.flat:\n",
    "    ax.set(xlabel='Commute Time (Minutes)')"
   ]
  },
  {
   "cell_type": "markdown",
   "id": "understood-family",
   "metadata": {},
   "source": [
    "## Drinking Water"
   ]
  },
  {
   "cell_type": "code",
   "execution_count": 206,
   "id": "pregnant-presentation",
   "metadata": {},
   "outputs": [
    {
     "data": {
      "image/png": "[encoded data removed]",
      "text/plain": [
       "<Figure size 1440x720 with 8 Axes>"
      ]
     },
     "metadata": {
      "needs_background": "light"
     },
     "output_type": "display_data"
    }
   ],
   "source": [
    "fig, axs = plt.subplots(2, 4, sharey=True, figsize=(20,10))\n",
    "fig.suptitle(\"Cluster Drinking Water Distributions\")\n",
    "\n",
    "axs[0, 0].hist(clust0['DrinkingWater'])\n",
    "axs[0, 0].set_title('Cluster 0')\n",
    "axs[0, 1].hist(clust1['DrinkingWater'])\n",
    "axs[0, 1].set_title('Cluster 1')\n",
    "axs[0, 2].hist(clust2['DrinkingWater'])\n",
    "axs[0, 2].set_title('Cluster 2')\n",
    "axs[0, 3].hist(clust3['DrinkingWater'])\n",
    "axs[0, 3].set_title('Cluster 3')\n",
    "axs[1, 0].hist(clust4['DrinkingWater'])\n",
    "axs[1, 0].set_title('Cluster 4')\n",
    "axs[1, 1].hist(clust5['DrinkingWater'])\n",
    "axs[1, 1].set_title('Cluster 5')\n",
    "axs[1, 2].hist(clust6['DrinkingWater'])\n",
    "axs[1, 2].set_title('Cluster 6')\n",
    "\n",
    "for ax in axs.flat[4:]:\n",
    "    ax.set(xlabel='Clean Drinking Water')"
   ]
  },
  {
   "cell_type": "markdown",
   "id": "stuck-storm",
   "metadata": {},
   "source": [
    "## Early Education"
   ]
  },
  {
   "cell_type": "code",
   "execution_count": 207,
   "id": "metallic-bunch",
   "metadata": {},
   "outputs": [
    {
     "data": {
      "image/png": "[encoded data removed]",
      "text/plain": [
       "<Figure size 1440x720 with 8 Axes>"
      ]
     },
     "metadata": {
      "needs_background": "light"
     },
     "output_type": "display_data"
    }
   ],
   "source": [
    "fig, axs = plt.subplots(2, 4, sharey=True, figsize=(20,10))\n",
    "fig.suptitle(\"Cluster Early Education Distributions\")\n",
    "\n",
    "axs[0, 0].hist(clust0['EarlyEd'])\n",
    "axs[0, 0].set_title('Cluster 0')\n",
    "axs[0, 1].hist(clust1['EarlyEd'])\n",
    "axs[0, 1].set_title('Cluster 1')\n",
    "axs[0, 2].hist(clust2['EarlyEd'])\n",
    "axs[0, 2].set_title('Cluster 2')\n",
    "axs[0, 3].hist(clust3['EarlyEd'])\n",
    "axs[0, 3].set_title('Cluster 3')\n",
    "axs[1, 0].hist(clust4['EarlyEd'])\n",
    "axs[1, 0].set_title('Cluster 4')\n",
    "axs[1, 1].hist(clust5['EarlyEd'])\n",
    "axs[1, 1].set_title('Cluster 5')\n",
    "axs[1, 2].hist(clust6['EarlyEd'])\n",
    "axs[1, 2].set_title('Cluster 6')\n",
    "\n",
    "for ax in axs.flat[4:]:\n",
    "    ax.set(xlabel='Early Education')"
   ]
  },
  {
   "cell_type": "markdown",
   "id": "asian-services",
   "metadata": {},
   "source": [
    "## Prosperous Neighborhoods"
   ]
  },
  {
   "cell_type": "code",
   "execution_count": 208,
   "id": "polyphonic-strengthening",
   "metadata": {},
   "outputs": [
    {
     "data": {
      "image/png": "[encoded data removed]",
      "text/plain": [
       "<Figure size 1440x720 with 8 Axes>"
      ]
     },
     "metadata": {
      "needs_background": "light"
     },
     "output_type": "display_data"
    }
   ],
   "source": [
    "fig, axs = plt.subplots(2, 4, sharey=True, figsize=(20,10))\n",
    "fig.suptitle(\"Cluster Prosperous Neighborhoods Distributions\")\n",
    "\n",
    "axs[0, 0].hist(clust0['ProspNeigh'])\n",
    "axs[0, 0].set_title('Cluster 0')\n",
    "axs[0, 1].hist(clust1['ProspNeigh'])\n",
    "axs[0, 1].set_title('Cluster 1')\n",
    "axs[0, 2].hist(clust2['ProspNeigh'])\n",
    "axs[0, 2].set_title('Cluster 2')\n",
    "axs[0, 3].hist(clust3['ProspNeigh'])\n",
    "axs[0, 3].set_title('Cluster 3')\n",
    "axs[1, 0].hist(clust4['ProspNeigh'])\n",
    "axs[1, 0].set_title('Cluster 4')\n",
    "axs[1, 1].hist(clust5['ProspNeigh'])\n",
    "axs[1, 1].set_title('Cluster 5')\n",
    "axs[1, 2].hist(clust6['ProspNeigh'])\n",
    "axs[1, 2].set_title('Cluster 6')\n",
    "\n",
    "for ax in axs.flat[4:]:\n",
    "    ax.set(xlabel='Prosperous Neighborhoods')"
   ]
  },
  {
   "cell_type": "markdown",
   "id": "relative-pharmacy",
   "metadata": {},
   "source": [
    "## CLUSTER DEMOGRAPHICS"
   ]
  },
  {
   "cell_type": "markdown",
   "id": "trained-notification",
   "metadata": {},
   "source": [
    "## Age"
   ]
  },
  {
   "cell_type": "code",
   "execution_count": 213,
   "id": "loving-american",
   "metadata": {},
   "outputs": [
    {
     "data": {
      "image/png": "[encoded data removed]",
      "text/plain": [
       "<Figure size 1440x720 with 8 Axes>"
      ]
     },
     "metadata": {
      "needs_background": "light"
     },
     "output_type": "display_data"
    }
   ],
   "source": [
    "fig, axs = plt.subplots(2, 4, sharey=True, figsize=(20,10))\n",
    "fig.suptitle(\"AGE\")\n",
    "\n",
    "axs[0, 0].hist(clust0['AGE'])\n",
    "axs[0, 0].set_title('Cluster 0')\n",
    "axs[0, 1].hist(clust1['AGE'])\n",
    "axs[0, 1].set_title('Cluster 1')\n",
    "axs[0, 2].hist(clust2['AGE'])\n",
    "axs[0, 2].set_title('Cluster 2')\n",
    "axs[0, 3].hist(clust3['AGE'])\n",
    "axs[0, 3].set_title('Cluster 3')\n",
    "axs[1, 0].hist(clust4['AGE'])\n",
    "axs[1, 0].set_title('Cluster 4')\n",
    "axs[1, 1].hist(clust5['AGE'])\n",
    "axs[1, 1].set_title('Cluster 5')\n",
    "axs[1, 2].hist(clust6['AGE'])\n",
    "axs[1, 2].set_title('Cluster 6')\n",
    "\n",
    "\n",
    "for ax in axs.flat[4:]:\n",
    "    ax.set(xlabel='AGE')"
   ]
  },
  {
   "cell_type": "markdown",
   "id": "molecular-isolation",
   "metadata": {},
   "source": [
    "## Race"
   ]
  },
  {
   "cell_type": "code",
   "execution_count": 214,
   "id": "sitting-shipping",
   "metadata": {},
   "outputs": [
    {
     "data": {
      "image/png": "[encoded data removed]",
      "text/plain": [
       "<Figure size 1440x720 with 8 Axes>"
      ]
     },
     "metadata": {
      "needs_background": "light"
     },
     "output_type": "display_data"
    }
   ],
   "source": [
    "fig, axs = plt.subplots(2, 4, sharey=True, figsize=(20,10))\n",
    "fig.suptitle(\"RACE\")\n",
    "\n",
    "axs[0, 0].hist(clust0['RACE'])\n",
    "axs[0, 0].set_title('Cluster 0')\n",
    "axs[0, 1].hist(clust1['RACE'])\n",
    "axs[0, 1].set_title('Cluster 1')\n",
    "axs[0, 2].hist(clust2['RACE'])\n",
    "axs[0, 2].set_title('Cluster 2')\n",
    "axs[0, 3].hist(clust3['RACE'])\n",
    "axs[0, 3].set_title('Cluster 3')\n",
    "axs[1, 0].hist(clust4['RACE'])\n",
    "axs[1, 0].set_title('Cluster 4')\n",
    "axs[1, 1].hist(clust5['RACE'])\n",
    "axs[1, 1].set_title('Cluster 5')\n",
    "axs[1, 2].hist(clust6['RACE'])\n",
    "axs[1, 2].set_title('Cluster 6')\n",
    "\n",
    "\n",
    "for ax in axs.flat[4:]:\n",
    "    ax.set(xlabel='RACE')"
   ]
  },
  {
   "cell_type": "markdown",
   "id": "competitive-somerset",
   "metadata": {},
   "source": [
    "## Income"
   ]
  },
  {
   "cell_type": "code",
   "execution_count": 218,
   "id": "hydraulic-vertex",
   "metadata": {},
   "outputs": [
    {
     "data": {
      "image/png": "[encoded data removed]",
      "text/plain": [
       "<Figure size 1440x720 with 8 Axes>"
      ]
     },
     "metadata": {
      "needs_background": "light"
     },
     "output_type": "display_data"
    }
   ],
   "source": [
    "fig, axs = plt.subplots(2, 4, sharey=True, figsize=(20,10))\n",
    "fig.suptitle(\"Income\")\n",
    "\n",
    "axs[0, 0].hist(clust0['HHINCOME'])\n",
    "axs[0, 0].set_title('Cluster 0')\n",
    "axs[0, 1].hist(clust1['HHINCOME'])\n",
    "axs[0, 1].set_title('Cluster 1')\n",
    "axs[0, 2].hist(clust2['HHINCOME'])\n",
    "axs[0, 2].set_title('Cluster 2')\n",
    "axs[0, 3].hist(clust3['HHINCOME'])\n",
    "axs[0, 3].set_title('Cluster 3')\n",
    "axs[1, 0].hist(clust4['HHINCOME'])\n",
    "axs[1, 0].set_title('Cluster 4')\n",
    "axs[1, 1].hist(clust5['HHINCOME'])\n",
    "axs[1, 1].set_title('Cluster 5')\n",
    "axs[1, 2].hist(clust6['HHINCOME'])\n",
    "axs[1, 2].set_title('Cluster 6')\n",
    "\n",
    "\n",
    "for ax in axs.flat[4:]:\n",
    "    ax.set(xlabel='Income')"
   ]
  },
  {
   "cell_type": "markdown",
   "id": "honest-edwards",
   "metadata": {},
   "source": [
    "## Feature Correlations"
   ]
  },
  {
   "cell_type": "code",
   "execution_count": null,
   "id": "ranking-oriental",
   "metadata": {},
   "outputs": [],
   "source": [
    "Xcorr=dfXfin.iloc[:, [0,1,2,3,4,5,6,7]]\n",
    "Xcorr.head()"
   ]
  },
  {
   "cell_type": "code",
   "execution_count": 127,
   "id": "smoking-invitation",
   "metadata": {},
   "outputs": [
    {
     "data": {
      "text/plain": [
       "<AxesSubplot:>"
      ]
     },
     "execution_count": 127,
     "metadata": {},
     "output_type": "execute_result"
    },
    {
     "data": {
      "image/png": "[encoded data removed]",
      "text/plain": [
       "<Figure size 864x576 with 2 Axes>"
      ]
     },
     "metadata": {
      "needs_background": "light"
     },
     "output_type": "display_data"
    }
   ],
   "source": [
    "plt.subplots(figsize=(15,8))\n",
    "sns.heatmap(Xcorr.corr(), annot = True)"
   ]
  },
  {
   "cell_type": "code",
   "execution_count": 212,
   "id": "rural-warner",
   "metadata": {},
   "outputs": [],
   "source": [
    "Xcorr=dfXfin.iloc[:, [0,1,2,3,4,5,6,7,8,9,10,11,12]]"
   ]
  },
  {
   "cell_type": "code",
   "execution_count": 211,
   "id": "sudden-affairs",
   "metadata": {},
   "outputs": [
    {
     "data": {
      "text/plain": [
       "<AxesSubplot:>"
      ]
     },
     "execution_count": 211,
     "metadata": {},
     "output_type": "execute_result"
    },
    {
     "data": {
      "image/png": "[encoded data removed]",
      "text/plain": [
       "<Figure size 864x576 with 2 Axes>"
      ]
     },
     "metadata": {
      "needs_background": "light"
     },
     "output_type": "display_data"
    }
   ],
   "source": [
    "plt.subplots(figsize=(12,8))\n",
    "sns.heatmap(Xcorr.corr(), annot = True)"
   ]
  }
 ],
 "metadata": {
  "kernelspec": {
   "display_name": "Python 3",
   "language": "python",
   "name": "python3"
  },
  "language_info": {
   "codemirror_mode": {
    "name": "ipython",
    "version": 3
   },
   "file_extension": ".py",
   "mimetype": "text/x-python",
   "name": "python",
   "nbconvert_exporter": "python",
   "pygments_lexer": "ipython3",
   "version": "3.7.6"
  }
 },
 "nbformat": 4,
 "nbformat_minor": 5
}
