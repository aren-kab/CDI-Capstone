{
 "cells": [
  {
   "cell_type": "code",
   "execution_count": 1,
   "id": "threaded-chocolate",
   "metadata": {},
   "outputs": [],
   "source": [
    "import pandas as pd\n",
    "import numpy as np\n",
    "import datetime as dt\n",
    "import matplotlib\n",
    "import matplotlib.pyplot as plt\n",
    "import scipy.cluster.hierarchy as shc\n",
    "from sklearn.cluster import AgglomerativeClustering\n",
    "import os\n",
    "import seaborn as sns\n",
    "from sklearn.cluster import KMeans\n",
    "from scipy.spatial.distance import cdist, pdist\n",
    "from sklearn.datasets import make_classification\n",
    "from sklearn.datasets import make_blobs\n",
    "from sklearn.metrics import silhouette_samples, silhouette_score\n",
    "import matplotlib.cm as cm\n",
    "from sklearn.mixture import GaussianMixture\n",
    "from sklearn.cluster import DBSCAN\n",
    "from sklearn import preprocessing\n",
    "from sklearn.preprocessing import StandardScaler"
   ]
  },
  {
   "cell_type": "code",
   "execution_count": 2,
   "id": "technical-knight",
   "metadata": {},
   "outputs": [
    {
     "name": "stderr",
     "output_type": "stream",
     "text": [
      "C:\\Users\\akaba\\anaconda3\\lib\\site-packages\\IPython\\core\\interactiveshell.py:3165: DtypeWarning: Columns (32,33) have mixed types.Specify dtype option on import or set low_memory=False.\n",
      "  has_raised = await self.run_ast_nodes(code_ast.body, cell_name,\n"
     ]
    }
   ],
   "source": [
    "fileName = 'C:/Users/akaba/Downloads/usa_00012.csv'\n",
    "file = pd.read_csv(fileName)\n",
    "dfCDI = pd.DataFrame(file)"
   ]
  },
  {
   "cell_type": "code",
   "execution_count": 3,
   "id": "known-donor",
   "metadata": {},
   "outputs": [
    {
     "data": {
      "text/plain": [
       "(6787855, 40)"
      ]
     },
     "execution_count": 3,
     "metadata": {},
     "output_type": "execute_result"
    }
   ],
   "source": [
    "dfCDI.shape"
   ]
  },
  {
   "cell_type": "code",
   "execution_count": 4,
   "id": "df145db4",
   "metadata": {},
   "outputs": [
    {
     "data": {
      "text/plain": [
       "Index(['YEAR', 'MULTYEAR', 'SAMPLE', 'SERIAL', 'CBSERIAL', 'HHWT', 'CLUSTER',\n",
       "       'CPI99', 'STATEFIP', 'COUNTYFIP', 'DENSITY', 'CITY', 'PUMA', 'STRATA',\n",
       "       'GQ', 'OWNERSHP', 'OWNERSHPD', 'OWNCOST', 'RENTGRS', 'HHINCOME',\n",
       "       'CIHISPEED', 'PERNUM', 'PERWT', 'FAMSIZE', 'SEX', 'AGE', 'RACE',\n",
       "       'RACED', 'HISPAN', 'HISPAND', 'EDUC', 'EDUCD', 'OCCSOC', 'INDNAICS',\n",
       "       'INCTOT', 'FTOTINC', 'INCWAGE', 'MIGCOUNTY1', 'MOVEDIN', 'TRANTIME'],\n",
       "      dtype='object')"
      ]
     },
     "execution_count": 4,
     "metadata": {},
     "output_type": "execute_result"
    }
   ],
   "source": [
    "dfCDI.columns"
   ]
  },
  {
   "cell_type": "code",
   "execution_count": 5,
   "id": "proprietary-coral",
   "metadata": {},
   "outputs": [
    {
     "data": {
      "text/plain": [
       "(4823667, 40)"
      ]
     },
     "execution_count": 5,
     "metadata": {},
     "output_type": "execute_result"
    }
   ],
   "source": [
    "dfCDI = dfCDI[dfCDI['AGE']>=21]\n",
    "dfCDI.shape"
   ]
  },
  {
   "cell_type": "code",
   "execution_count": 6,
   "id": "similar-scope",
   "metadata": {},
   "outputs": [
    {
     "data": {
      "text/plain": [
       "count    2964818.0\n",
       "mean           0.0\n",
       "std            0.0\n",
       "min            0.0\n",
       "25%            0.0\n",
       "50%            0.0\n",
       "75%            0.0\n",
       "max            0.0\n",
       "Name: RENTGRS, dtype: float64"
      ]
     },
     "execution_count": 6,
     "metadata": {},
     "output_type": "execute_result"
    }
   ],
   "source": [
    "dfHomeOwn=dfCDI[dfCDI['OWNERSHP']==1]\n",
    "dfHomeOwn.RENTGRS.describe()"
   ]
  },
  {
   "cell_type": "code",
   "execution_count": 7,
   "id": "approximate-incidence",
   "metadata": {},
   "outputs": [
    {
     "data": {
      "text/plain": [
       "(4677699, 40)"
      ]
     },
     "execution_count": 7,
     "metadata": {},
     "output_type": "execute_result"
    }
   ],
   "source": [
    "dfCDI = dfCDI[dfCDI['OWNERSHP']!=0]\n",
    "dfCDI.shape"
   ]
  },
  {
   "cell_type": "code",
   "execution_count": 8,
   "id": "regulated-export",
   "metadata": {},
   "outputs": [],
   "source": [
    "dfCDI['affrentdec'] = dfCDI['RENTGRS']*12/dfCDI['HHINCOME']"
   ]
  },
  {
   "cell_type": "code",
   "execution_count": 9,
   "id": "homeless-surrey",
   "metadata": {},
   "outputs": [],
   "source": [
    "def housingFunc(own, affrentdec):\n",
    "    if own==1:\n",
    "        housingCat=2\n",
    "    elif own==2 and affrentdec<.3:\n",
    "        housingCat=1\n",
    "    else:\n",
    "        housingCat=0\n",
    "    return housingCat"
   ]
  },
  {
   "cell_type": "code",
   "execution_count": 10,
   "id": "spatial-wagner",
   "metadata": {},
   "outputs": [
    {
     "data": {
      "text/plain": [
       "2    2964818\n",
       "1     968222\n",
       "0     744659\n",
       "Name: HousingCat, dtype: int64"
      ]
     },
     "execution_count": 10,
     "metadata": {},
     "output_type": "execute_result"
    }
   ],
   "source": [
    "dfCDI['HousingCat'] = dfCDI.apply(lambda x: housingFunc(x['OWNERSHP'], x['affrentdec']), axis=1)\n",
    "dfCDI['HousingCat'].value_counts()"
   ]
  },
  {
   "cell_type": "code",
   "execution_count": 11,
   "id": "continuous-taylor",
   "metadata": {},
   "outputs": [
    {
     "data": {
      "text/plain": [
       "0    2937721\n",
       "1    1739978\n",
       "Name: EDUCbin, dtype: int64"
      ]
     },
     "execution_count": 11,
     "metadata": {},
     "output_type": "execute_result"
    }
   ],
   "source": [
    "dfCDI['EDUCbin'] = [1 if x >=8 else 0 for x in dfCDI['EDUC']]\n",
    "dfCDI['EDUCbin'].value_counts()"
   ]
  },
  {
   "cell_type": "code",
   "execution_count": 12,
   "id": "lightweight-sustainability",
   "metadata": {},
   "outputs": [
    {
     "data": {
      "text/plain": [
       "0      1988964\n",
       "30      394673\n",
       "15      393749\n",
       "20      378805\n",
       "10      319484\n",
       "        ...   \n",
       "119          3\n",
       "118          3\n",
       "123          3\n",
       "117          3\n",
       "126          1\n",
       "Name: TRANTIME, Length: 133, dtype: int64"
      ]
     },
     "execution_count": 12,
     "metadata": {},
     "output_type": "execute_result"
    }
   ],
   "source": [
    "dfCDI['TRANTIME'].value_counts()"
   ]
  },
  {
   "cell_type": "markdown",
   "id": "greenhouse-north",
   "metadata": {},
   "source": [
    "## Split by year"
   ]
  },
  {
   "cell_type": "code",
   "execution_count": 13,
   "id": "differential-australian",
   "metadata": {},
   "outputs": [
    {
     "data": {
      "text/plain": [
       "2019    1358004\n",
       "2010    1219545\n",
       "2000    1119919\n",
       "1990     980231\n",
       "Name: YEAR, dtype: int64"
      ]
     },
     "execution_count": 13,
     "metadata": {},
     "output_type": "execute_result"
    }
   ],
   "source": [
    "dfCDI['YEAR'].value_counts()"
   ]
  },
  {
   "cell_type": "code",
   "execution_count": 14,
   "id": "amber-trigger",
   "metadata": {},
   "outputs": [],
   "source": [
    "df19=dfCDI[dfCDI['YEAR']==2019]\n",
    "df10=dfCDI[dfCDI['YEAR']==2010]\n",
    "df00=dfCDI[dfCDI['YEAR']==2000]\n",
    "df90=dfCDI[dfCDI['YEAR']==1990]"
   ]
  },
  {
   "cell_type": "code",
   "execution_count": 15,
   "id": "offensive-grove",
   "metadata": {},
   "outputs": [
    {
     "name": "stdout",
     "output_type": "stream",
     "text": [
      "41\n",
      "42\n",
      "39\n",
      "5\n",
      "19\n",
      "26\n",
      "25\n",
      "24\n",
      "9\n",
      "28\n"
     ]
    }
   ],
   "source": [
    "print(dfCDI.columns.get_loc(\"HousingCat\"))\n",
    "print(dfCDI.columns.get_loc(\"EDUCbin\"))\n",
    "print(dfCDI.columns.get_loc(\"TRANTIME\"))\n",
    "print(dfCDI.columns.get_loc(\"HHWT\"))\n",
    "print(dfCDI.columns.get_loc(\"HHINCOME\"))\n",
    "print(dfCDI.columns.get_loc(\"RACE\"))\n",
    "print(dfCDI.columns.get_loc(\"AGE\"))\n",
    "print(dfCDI.columns.get_loc(\"SEX\"))\n",
    "print(dfCDI.columns.get_loc(\"COUNTYFIP\"))\n",
    "print(dfCDI.columns.get_loc(\"HISPAN\"))"
   ]
  },
  {
   "cell_type": "code",
   "execution_count": 16,
   "id": "23bf4222",
   "metadata": {},
   "outputs": [],
   "source": [
    "x19 = df19.iloc[:, [41,42,39,5,19,26,25,24,9,28]]\n",
    "x10 = df10.iloc[:, [41,42,39,5,19,26,25,24,9,28]]\n",
    "x00 = df00.iloc[:, [41,42,39,5,19,26,25,24,9,28]]\n",
    "x90 = df90.iloc[:, [41,42,39,5,19,26,25,24,9,28]]"
   ]
  },
  {
   "cell_type": "markdown",
   "id": "56a71472",
   "metadata": {},
   "source": [
    "## Scaling Values"
   ]
  },
  {
   "cell_type": "code",
   "execution_count": 17,
   "id": "03d2494f",
   "metadata": {},
   "outputs": [],
   "source": [
    "\n",
    "scaler = StandardScaler()\n",
    "scalerNum = scaler.fit(x19)\n",
    "scalerNum1 = scaler.fit(x10)\n",
    "scalerNum2 = scaler.fit(x00)\n",
    "scalerNum3 = scaler.fit(x90)\n",
    "xstd19 = scalerNum.transform(x19)\n",
    "xstd10 = scalerNum1.transform(x10)\n",
    "xstd00 = scalerNum2.transform(x00)\n",
    "xstd90 = scalerNum3.transform(x90)"
   ]
  },
  {
   "cell_type": "code",
   "execution_count": 18,
   "id": "0cbd6130",
   "metadata": {},
   "outputs": [],
   "source": [
    "dfX19 = pd.DataFrame(xstd19, columns=['HousingCat','EDUCbin','TRANTIME','HHWT','HHINCOME','RACE','AGE','SEX','COUNTYFIP','HISPAN'])\n",
    "dfX10 = pd.DataFrame(xstd10, columns=['HousingCat','EDUCbin','TRANTIME','HHWT','HHINCOME','RACE','AGE','SEX','COUNTYFIP','HISPAN'])\n",
    "dfX00 = pd.DataFrame(xstd00, columns=['HousingCat','EDUCbin','TRANTIME','HHWT','HHINCOME','RACE','AGE','SEX','COUNTYFIP','HISPAN'])\n",
    "dfX90 = pd.DataFrame(xstd90, columns=['HousingCat','EDUCbin','TRANTIME','HHWT','HHINCOME','RACE','AGE','SEX','COUNTYFIP','HISPAN'])"
   ]
  },
  {
   "cell_type": "markdown",
   "id": "2ab36a1f",
   "metadata": {},
   "source": [
    "## Sillouette Score "
   ]
  },
  {
   "cell_type": "code",
   "execution_count": 19,
   "id": "d536c8e2",
   "metadata": {},
   "outputs": [
    {
     "name": "stdout",
     "output_type": "stream",
     "text": [
      "For n_clusters = 2 the average silhouette_score is: 0.4035909835020299\n",
      "For n_clusters = 3 the average silhouette_score is: 0.4442452132686769\n",
      "For n_clusters = 4 the average silhouette_score is: 0.49978291232487454\n",
      "For n_clusters = 5 the average silhouette_score is: 0.5323499116354198\n",
      "For n_clusters = 6 the average silhouette_score is: 0.5457660568403607\n",
      "For n_clusters = 7 the average silhouette_score is: 0.5711858544158551\n"
     ]
    }
   ],
   "source": [
    "#2019\n",
    "for i in range(2,8):\n",
    "    km = KMeans(n_clusters = i, init = 'k-means++', random_state = 42)\n",
    "    cluster_labels = km.fit_predict(dfX19.iloc[:,0:3])\n",
    "    silhouette_avg = silhouette_score(dfX19.iloc[:,0:3], cluster_labels, metric='euclidean',sample_size = 10000, random_state=None)\n",
    "    print('For n_clusters = {} the average silhouette_score is: {}'.format(i, silhouette_avg))"
   ]
  },
  {
   "cell_type": "code",
   "execution_count": 20,
   "id": "d43defb4",
   "metadata": {},
   "outputs": [
    {
     "name": "stdout",
     "output_type": "stream",
     "text": [
      "For n_clusters = 2 the average silhouette_score is: 0.43147861154689143\n",
      "For n_clusters = 3 the average silhouette_score is: 0.48873568058840666\n",
      "For n_clusters = 4 the average silhouette_score is: 0.5323050196476307\n",
      "For n_clusters = 5 the average silhouette_score is: 0.568057876881537\n",
      "For n_clusters = 6 the average silhouette_score is: 0.553087563969649\n",
      "For n_clusters = 7 the average silhouette_score is: 0.5846700441152457\n"
     ]
    }
   ],
   "source": [
    "#2010 \n",
    "for i in range(2,8):\n",
    "    km = KMeans(n_clusters = i, init = 'k-means++', random_state = 42)\n",
    "    cluster_labels = km.fit_predict(dfX10.iloc[:,0:3])\n",
    "    silhouette_avg = silhouette_score(dfX10.iloc[:,0:3], cluster_labels, metric='euclidean', sample_size = 10000, random_state=None)\n",
    "    print('For n_clusters = {} the average silhouette_score is: {}'.format(i, silhouette_avg))"
   ]
  },
  {
   "cell_type": "code",
   "execution_count": 21,
   "id": "68ec7b59",
   "metadata": {},
   "outputs": [
    {
     "name": "stdout",
     "output_type": "stream",
     "text": [
      "For n_clusters = 2 the average silhouette_score is: 0.434658356659892\n",
      "For n_clusters = 3 the average silhouette_score is: 0.46018108120040924\n",
      "For n_clusters = 4 the average silhouette_score is: 0.5105896063831049\n",
      "For n_clusters = 5 the average silhouette_score is: 0.511154994009078\n",
      "For n_clusters = 6 the average silhouette_score is: 0.5509203580770522\n",
      "For n_clusters = 7 the average silhouette_score is: 0.5602816340696165\n"
     ]
    }
   ],
   "source": [
    "#2000 \n",
    "for i in range(2,8):\n",
    "    km = KMeans(n_clusters = i, init = 'k-means++', random_state = 42)\n",
    "    cluster_labels = km.fit_predict(dfX00.iloc[:,0:3])\n",
    "    silhouette_avg = silhouette_score(dfX00.iloc[:,0:3], cluster_labels, metric='euclidean',sample_size = 10000, random_state=None)\n",
    "    print('For n_clusters = {} the average silhouette_score is: {}'.format(i, silhouette_avg))"
   ]
  },
  {
   "cell_type": "code",
   "execution_count": 22,
   "id": "d1ca3c50",
   "metadata": {},
   "outputs": [
    {
     "name": "stdout",
     "output_type": "stream",
     "text": [
      "For n_clusters = 2 the average silhouette_score is: 0.43444534187149714\n",
      "For n_clusters = 3 the average silhouette_score is: 0.48376961216998\n",
      "For n_clusters = 4 the average silhouette_score is: 0.5204556720415574\n",
      "For n_clusters = 5 the average silhouette_score is: 0.5463016915908083\n",
      "For n_clusters = 6 the average silhouette_score is: 0.5581242253336549\n",
      "For n_clusters = 7 the average silhouette_score is: 0.5798639063981739\n"
     ]
    }
   ],
   "source": [
    "#1990 \n",
    "for i in range(2,8):\n",
    "    km = KMeans(n_clusters = i, init = 'k-means++', random_state = 42)\n",
    "    cluster_labels = km.fit_predict(dfX90.iloc[:,0:3])\n",
    "    silhouette_avg = silhouette_score(dfX90.iloc[:,0:3], cluster_labels, metric='euclidean',sample_size = 10000, random_state=None)\n",
    "    print('For n_clusters = {} the average silhouette_score is: {}'.format(i, silhouette_avg))"
   ]
  },
  {
   "cell_type": "markdown",
   "id": "83d8d587",
   "metadata": {},
   "source": [
    "## Clustering"
   ]
  },
  {
   "cell_type": "code",
   "execution_count": 23,
   "id": "d6163d77",
   "metadata": {},
   "outputs": [
    {
     "data": {
      "text/html": [
       "<div>\n",
       "<style scoped>\n",
       "    .dataframe tbody tr th:only-of-type {\n",
       "        vertical-align: middle;\n",
       "    }\n",
       "\n",
       "    .dataframe tbody tr th {\n",
       "        vertical-align: top;\n",
       "    }\n",
       "\n",
       "    .dataframe thead th {\n",
       "        text-align: right;\n",
       "    }\n",
       "</style>\n",
       "<table border=\"1\" class=\"dataframe\">\n",
       "  <thead>\n",
       "    <tr style=\"text-align: right;\">\n",
       "      <th></th>\n",
       "      <th>HousingCat</th>\n",
       "      <th>EDUCbin</th>\n",
       "      <th>TRANTIME</th>\n",
       "      <th>HHWT</th>\n",
       "      <th>HHINCOME</th>\n",
       "      <th>RACE</th>\n",
       "      <th>AGE</th>\n",
       "      <th>SEX</th>\n",
       "      <th>COUNTYFIP</th>\n",
       "      <th>HISPAN</th>\n",
       "    </tr>\n",
       "    <tr>\n",
       "      <th>labels</th>\n",
       "      <th></th>\n",
       "      <th></th>\n",
       "      <th></th>\n",
       "      <th></th>\n",
       "      <th></th>\n",
       "      <th></th>\n",
       "      <th></th>\n",
       "      <th></th>\n",
       "      <th></th>\n",
       "      <th></th>\n",
       "    </tr>\n",
       "  </thead>\n",
       "  <tbody>\n",
       "    <tr>\n",
       "      <th>0</th>\n",
       "      <td>1.799385</td>\n",
       "      <td>1.000000</td>\n",
       "      <td>12.916467</td>\n",
       "      <td>17.956563</td>\n",
       "      <td>173946.110232</td>\n",
       "      <td>2.457863</td>\n",
       "      <td>50.998305</td>\n",
       "      <td>1.532594</td>\n",
       "      <td>54.820877</td>\n",
       "      <td>0.235385</td>\n",
       "    </tr>\n",
       "    <tr>\n",
       "      <th>1</th>\n",
       "      <td>0.000000</td>\n",
       "      <td>0.287396</td>\n",
       "      <td>10.451930</td>\n",
       "      <td>23.018457</td>\n",
       "      <td>38730.930909</td>\n",
       "      <td>2.967576</td>\n",
       "      <td>45.252069</td>\n",
       "      <td>1.561326</td>\n",
       "      <td>52.060037</td>\n",
       "      <td>0.650695</td>\n",
       "    </tr>\n",
       "    <tr>\n",
       "      <th>2</th>\n",
       "      <td>1.524420</td>\n",
       "      <td>0.469698</td>\n",
       "      <td>69.495130</td>\n",
       "      <td>19.508688</td>\n",
       "      <td>148009.041538</td>\n",
       "      <td>2.909480</td>\n",
       "      <td>43.849215</td>\n",
       "      <td>1.400276</td>\n",
       "      <td>50.465479</td>\n",
       "      <td>0.560591</td>\n",
       "    </tr>\n",
       "    <tr>\n",
       "      <th>3</th>\n",
       "      <td>1.757582</td>\n",
       "      <td>0.000000</td>\n",
       "      <td>9.116488</td>\n",
       "      <td>19.048280</td>\n",
       "      <td>104816.696227</td>\n",
       "      <td>2.703187</td>\n",
       "      <td>52.624218</td>\n",
       "      <td>1.528055</td>\n",
       "      <td>53.225065</td>\n",
       "      <td>0.584194</td>\n",
       "    </tr>\n",
       "  </tbody>\n",
       "</table>\n",
       "</div>"
      ],
      "text/plain": [
       "        HousingCat   EDUCbin   TRANTIME       HHWT       HHINCOME      RACE  \\\n",
       "labels                                                                        \n",
       "0         1.799385  1.000000  12.916467  17.956563  173946.110232  2.457863   \n",
       "1         0.000000  0.287396  10.451930  23.018457   38730.930909  2.967576   \n",
       "2         1.524420  0.469698  69.495130  19.508688  148009.041538  2.909480   \n",
       "3         1.757582  0.000000   9.116488  19.048280  104816.696227  2.703187   \n",
       "\n",
       "              AGE       SEX  COUNTYFIP    HISPAN  \n",
       "labels                                            \n",
       "0       50.998305  1.532594  54.820877  0.235385  \n",
       "1       45.252069  1.561326  52.060037  0.650695  \n",
       "2       43.849215  1.400276  50.465479  0.560591  \n",
       "3       52.624218  1.528055  53.225065  0.584194  "
      ]
     },
     "execution_count": 23,
     "metadata": {},
     "output_type": "execute_result"
    }
   ],
   "source": [
    "kmeans = KMeans(n_clusters = 4, init = 'k-means++', random_state = 42)\n",
    "kmeans.fit(dfX19.iloc[:,0:3])\n",
    "X19fin = scaler.inverse_transform(dfX19)\n",
    "dfX19fin = pd.DataFrame(X19fin, columns=['HousingCat','EDUCbin','TRANTIME','HHWT','HHINCOME','RACE','AGE','SEX','COUNTYFIP','HISPAN'])\n",
    "dfX19fin['labels'] = kmeans.labels_\n",
    "cluster_sum19 = dfX19fin.groupby(by = 'labels').mean()\n",
    "cluster_sum19.head(4)\n"
   ]
  },
  {
   "cell_type": "code",
   "execution_count": 24,
   "id": "80dadd93",
   "metadata": {},
   "outputs": [
    {
     "data": {
      "text/html": [
       "<div>\n",
       "<style scoped>\n",
       "    .dataframe tbody tr th:only-of-type {\n",
       "        vertical-align: middle;\n",
       "    }\n",
       "\n",
       "    .dataframe tbody tr th {\n",
       "        vertical-align: top;\n",
       "    }\n",
       "\n",
       "    .dataframe thead th {\n",
       "        text-align: right;\n",
       "    }\n",
       "</style>\n",
       "<table border=\"1\" class=\"dataframe\">\n",
       "  <thead>\n",
       "    <tr style=\"text-align: right;\">\n",
       "      <th></th>\n",
       "      <th>HousingCat</th>\n",
       "      <th>EDUCbin</th>\n",
       "      <th>TRANTIME</th>\n",
       "      <th>HHWT</th>\n",
       "      <th>HHINCOME</th>\n",
       "      <th>RACE</th>\n",
       "      <th>AGE</th>\n",
       "      <th>SEX</th>\n",
       "      <th>COUNTYFIP</th>\n",
       "      <th>HISPAN</th>\n",
       "    </tr>\n",
       "    <tr>\n",
       "      <th>labels</th>\n",
       "      <th></th>\n",
       "      <th></th>\n",
       "      <th></th>\n",
       "      <th></th>\n",
       "      <th></th>\n",
       "      <th></th>\n",
       "      <th></th>\n",
       "      <th></th>\n",
       "      <th></th>\n",
       "      <th></th>\n",
       "    </tr>\n",
       "  </thead>\n",
       "  <tbody>\n",
       "    <tr>\n",
       "      <th>0</th>\n",
       "      <td>2.000000</td>\n",
       "      <td>0.000000</td>\n",
       "      <td>8.311891</td>\n",
       "      <td>18.186226</td>\n",
       "      <td>86534.360075</td>\n",
       "      <td>2.448684</td>\n",
       "      <td>53.102443</td>\n",
       "      <td>1.548827</td>\n",
       "      <td>53.831618</td>\n",
       "      <td>0.470251</td>\n",
       "    </tr>\n",
       "    <tr>\n",
       "      <th>1</th>\n",
       "      <td>1.816378</td>\n",
       "      <td>1.000000</td>\n",
       "      <td>11.849024</td>\n",
       "      <td>18.170878</td>\n",
       "      <td>136511.353001</td>\n",
       "      <td>2.262138</td>\n",
       "      <td>49.380391</td>\n",
       "      <td>1.524656</td>\n",
       "      <td>55.140022</td>\n",
       "      <td>0.193769</td>\n",
       "    </tr>\n",
       "    <tr>\n",
       "      <th>2</th>\n",
       "      <td>0.391211</td>\n",
       "      <td>0.145278</td>\n",
       "      <td>10.025884</td>\n",
       "      <td>22.861778</td>\n",
       "      <td>46992.433084</td>\n",
       "      <td>2.895852</td>\n",
       "      <td>43.351310</td>\n",
       "      <td>1.539566</td>\n",
       "      <td>52.248687</td>\n",
       "      <td>0.628307</td>\n",
       "    </tr>\n",
       "    <tr>\n",
       "      <th>3</th>\n",
       "      <td>1.616042</td>\n",
       "      <td>0.485011</td>\n",
       "      <td>64.852713</td>\n",
       "      <td>20.161208</td>\n",
       "      <td>116646.961642</td>\n",
       "      <td>2.698102</td>\n",
       "      <td>43.321468</td>\n",
       "      <td>1.388535</td>\n",
       "      <td>51.684387</td>\n",
       "      <td>0.478809</td>\n",
       "    </tr>\n",
       "  </tbody>\n",
       "</table>\n",
       "</div>"
      ],
      "text/plain": [
       "        HousingCat   EDUCbin   TRANTIME       HHWT       HHINCOME      RACE  \\\n",
       "labels                                                                        \n",
       "0         2.000000  0.000000   8.311891  18.186226   86534.360075  2.448684   \n",
       "1         1.816378  1.000000  11.849024  18.170878  136511.353001  2.262138   \n",
       "2         0.391211  0.145278  10.025884  22.861778   46992.433084  2.895852   \n",
       "3         1.616042  0.485011  64.852713  20.161208  116646.961642  2.698102   \n",
       "\n",
       "              AGE       SEX  COUNTYFIP    HISPAN  \n",
       "labels                                            \n",
       "0       53.102443  1.548827  53.831618  0.470251  \n",
       "1       49.380391  1.524656  55.140022  0.193769  \n",
       "2       43.351310  1.539566  52.248687  0.628307  \n",
       "3       43.321468  1.388535  51.684387  0.478809  "
      ]
     },
     "execution_count": 24,
     "metadata": {},
     "output_type": "execute_result"
    }
   ],
   "source": [
    "kmeans = KMeans(n_clusters = 4, init = 'k-means++', random_state = 42)\n",
    "kmeans.fit(dfX10.iloc[:,0:3])\n",
    "X10fin = scaler.inverse_transform(dfX10)\n",
    "dfX10fin = pd.DataFrame(X10fin, columns=['HousingCat','EDUCbin','TRANTIME','HHWT','HHINCOME','RACE','AGE','SEX','COUNTYFIP','HISPAN'])\n",
    "dfX10fin['labels'] = kmeans.labels_\n",
    "cluster_sum10 = dfX10fin.groupby(by = 'labels').mean()\n",
    "cluster_sum10.head(5)\n"
   ]
  },
  {
   "cell_type": "code",
   "execution_count": 149,
   "id": "c5aeefd3",
   "metadata": {},
   "outputs": [
    {
     "data": {
      "text/plain": [
       "<mpl_toolkits.mplot3d.art3d.Path3DCollection at 0x192f3d5a5e0>"
      ]
     },
     "execution_count": 149,
     "metadata": {},
     "output_type": "execute_result"
    },
    {
     "data": {
      "image/png": "[encoded data removed]",
      "text/plain": [
       "<Figure size 1872x432 with 1 Axes>"
      ]
     },
     "metadata": {
      "needs_background": "light"
     },
     "output_type": "display_data"
    }
   ],
   "source": [
    "from mpl_toolkits.mplot3d import Axes3D\n",
    "fig=plt.figure(figsize=(26,6))\n",
    "ax = fig.add_subplot(131,projection='3d')\n",
    "ax.scatter(dfX10fin.HousingCat,dfX10fin.EDUCbin,dfX10fin.TRANTIME,c=dfX10fin.labels,s=50)"
   ]
  },
  {
   "cell_type": "code",
   "execution_count": 25,
   "id": "ffa11e94",
   "metadata": {},
   "outputs": [
    {
     "data": {
      "text/plain": [
       "<AxesSubplot:>"
      ]
     },
     "execution_count": 25,
     "metadata": {},
     "output_type": "execute_result"
    },
    {
     "data": {
      "image/png": "[encoded data removed]",
      "text/plain": [
       "<Figure size 1080x576 with 2 Axes>"
      ]
     },
     "metadata": {
      "needs_background": "light"
     },
     "output_type": "display_data"
    }
   ],
   "source": [
    "Xcorr10=dfX10fin.iloc[:, [0,1,2,3,4,5,6,7,8,9]]\n",
    "plt.subplots(figsize=(15,8))\n",
    "sns.heatmap(Xcorr10.corr(), annot = True)\n"
   ]
  },
  {
   "cell_type": "code",
   "execution_count": 26,
   "id": "1c81e483",
   "metadata": {},
   "outputs": [
    {
     "data": {
      "text/html": [
       "<div>\n",
       "<style scoped>\n",
       "    .dataframe tbody tr th:only-of-type {\n",
       "        vertical-align: middle;\n",
       "    }\n",
       "\n",
       "    .dataframe tbody tr th {\n",
       "        vertical-align: top;\n",
       "    }\n",
       "\n",
       "    .dataframe thead th {\n",
       "        text-align: right;\n",
       "    }\n",
       "</style>\n",
       "<table border=\"1\" class=\"dataframe\">\n",
       "  <thead>\n",
       "    <tr style=\"text-align: right;\">\n",
       "      <th></th>\n",
       "      <th>HousingCat</th>\n",
       "      <th>EDUCbin</th>\n",
       "      <th>TRANTIME</th>\n",
       "      <th>HHWT</th>\n",
       "      <th>HHINCOME</th>\n",
       "      <th>RACE</th>\n",
       "      <th>AGE</th>\n",
       "      <th>SEX</th>\n",
       "      <th>COUNTYFIP</th>\n",
       "      <th>HISPAN</th>\n",
       "    </tr>\n",
       "    <tr>\n",
       "      <th>labels</th>\n",
       "      <th></th>\n",
       "      <th></th>\n",
       "      <th></th>\n",
       "      <th></th>\n",
       "      <th></th>\n",
       "      <th></th>\n",
       "      <th></th>\n",
       "      <th></th>\n",
       "      <th></th>\n",
       "      <th></th>\n",
       "    </tr>\n",
       "  </thead>\n",
       "  <tbody>\n",
       "    <tr>\n",
       "      <th>0</th>\n",
       "      <td>2.000000</td>\n",
       "      <td>0.000000</td>\n",
       "      <td>9.552195</td>\n",
       "      <td>19.452120</td>\n",
       "      <td>72501.662914</td>\n",
       "      <td>2.645157</td>\n",
       "      <td>50.562585</td>\n",
       "      <td>1.548115</td>\n",
       "      <td>52.861837</td>\n",
       "      <td>0.461594</td>\n",
       "    </tr>\n",
       "    <tr>\n",
       "      <th>1</th>\n",
       "      <td>1.766062</td>\n",
       "      <td>1.000000</td>\n",
       "      <td>15.008891</td>\n",
       "      <td>20.049809</td>\n",
       "      <td>110868.113690</td>\n",
       "      <td>2.202240</td>\n",
       "      <td>46.303897</td>\n",
       "      <td>1.501485</td>\n",
       "      <td>54.308015</td>\n",
       "      <td>0.171414</td>\n",
       "    </tr>\n",
       "    <tr>\n",
       "      <th>2</th>\n",
       "      <td>0.532048</td>\n",
       "      <td>0.095235</td>\n",
       "      <td>10.468938</td>\n",
       "      <td>20.373155</td>\n",
       "      <td>49265.692795</td>\n",
       "      <td>3.343399</td>\n",
       "      <td>40.657700</td>\n",
       "      <td>1.525789</td>\n",
       "      <td>51.699441</td>\n",
       "      <td>0.696424</td>\n",
       "    </tr>\n",
       "    <tr>\n",
       "      <th>3</th>\n",
       "      <td>1.549440</td>\n",
       "      <td>0.375000</td>\n",
       "      <td>80.903810</td>\n",
       "      <td>20.257028</td>\n",
       "      <td>89374.402053</td>\n",
       "      <td>2.733913</td>\n",
       "      <td>40.906761</td>\n",
       "      <td>1.370745</td>\n",
       "      <td>50.977984</td>\n",
       "      <td>0.471149</td>\n",
       "    </tr>\n",
       "  </tbody>\n",
       "</table>\n",
       "</div>"
      ],
      "text/plain": [
       "        HousingCat   EDUCbin   TRANTIME       HHWT       HHINCOME      RACE  \\\n",
       "labels                                                                        \n",
       "0         2.000000  0.000000   9.552195  19.452120   72501.662914  2.645157   \n",
       "1         1.766062  1.000000  15.008891  20.049809  110868.113690  2.202240   \n",
       "2         0.532048  0.095235  10.468938  20.373155   49265.692795  3.343399   \n",
       "3         1.549440  0.375000  80.903810  20.257028   89374.402053  2.733913   \n",
       "\n",
       "              AGE       SEX  COUNTYFIP    HISPAN  \n",
       "labels                                            \n",
       "0       50.562585  1.548115  52.861837  0.461594  \n",
       "1       46.303897  1.501485  54.308015  0.171414  \n",
       "2       40.657700  1.525789  51.699441  0.696424  \n",
       "3       40.906761  1.370745  50.977984  0.471149  "
      ]
     },
     "execution_count": 26,
     "metadata": {},
     "output_type": "execute_result"
    }
   ],
   "source": [
    "kmeans = KMeans(n_clusters = 4, init = 'k-means++', random_state = 42)\n",
    "kmeans.fit(dfX00.iloc[:,0:3])\n",
    "X00fin = scaler.inverse_transform(dfX00)\n",
    "dfX00fin = pd.DataFrame(X00fin, columns=['HousingCat','EDUCbin','TRANTIME','HHWT','HHINCOME','RACE','AGE','SEX','COUNTYFIP','HISPAN'])\n",
    "dfX00fin['labels'] = kmeans.labels_\n",
    "cluster_sum00 = dfX00fin.groupby(by = 'labels').mean()\n",
    "cluster_sum00.head(5)\n"
   ]
  },
  {
   "cell_type": "code",
   "execution_count": 27,
   "id": "d9450ebf",
   "metadata": {},
   "outputs": [
    {
     "data": {
      "text/plain": [
       "<AxesSubplot:>"
      ]
     },
     "execution_count": 27,
     "metadata": {},
     "output_type": "execute_result"
    },
    {
     "data": {
      "image/png": "[encoded data removed]",
      "text/plain": [
       "<Figure size 1080x576 with 2 Axes>"
      ]
     },
     "metadata": {
      "needs_background": "light"
     },
     "output_type": "display_data"
    }
   ],
   "source": [
    "Xcorr00=dfX00fin.iloc[:, [0,1,2,3,4,5,6,7,8,9]]\n",
    "plt.subplots(figsize=(15,8))\n",
    "sns.heatmap(Xcorr00.corr(), annot = True)\n"
   ]
  },
  {
   "cell_type": "code",
   "execution_count": 28,
   "id": "6f27abef",
   "metadata": {},
   "outputs": [
    {
     "data": {
      "text/html": [
       "<div>\n",
       "<style scoped>\n",
       "    .dataframe tbody tr th:only-of-type {\n",
       "        vertical-align: middle;\n",
       "    }\n",
       "\n",
       "    .dataframe tbody tr th {\n",
       "        vertical-align: top;\n",
       "    }\n",
       "\n",
       "    .dataframe thead th {\n",
       "        text-align: right;\n",
       "    }\n",
       "</style>\n",
       "<table border=\"1\" class=\"dataframe\">\n",
       "  <thead>\n",
       "    <tr style=\"text-align: right;\">\n",
       "      <th></th>\n",
       "      <th>HousingCat</th>\n",
       "      <th>EDUCbin</th>\n",
       "      <th>TRANTIME</th>\n",
       "      <th>HHWT</th>\n",
       "      <th>HHINCOME</th>\n",
       "      <th>RACE</th>\n",
       "      <th>AGE</th>\n",
       "      <th>SEX</th>\n",
       "      <th>COUNTYFIP</th>\n",
       "      <th>HISPAN</th>\n",
       "    </tr>\n",
       "    <tr>\n",
       "      <th>labels</th>\n",
       "      <th></th>\n",
       "      <th></th>\n",
       "      <th></th>\n",
       "      <th></th>\n",
       "      <th></th>\n",
       "      <th></th>\n",
       "      <th></th>\n",
       "      <th></th>\n",
       "      <th></th>\n",
       "      <th></th>\n",
       "    </tr>\n",
       "  </thead>\n",
       "  <tbody>\n",
       "    <tr>\n",
       "      <th>0</th>\n",
       "      <td>2.000000</td>\n",
       "      <td>0.000000</td>\n",
       "      <td>8.200154</td>\n",
       "      <td>19.382852</td>\n",
       "      <td>50344.338479</td>\n",
       "      <td>1.968691</td>\n",
       "      <td>50.362844</td>\n",
       "      <td>1.569326</td>\n",
       "      <td>52.958754</td>\n",
       "      <td>0.295185</td>\n",
       "    </tr>\n",
       "    <tr>\n",
       "      <th>1</th>\n",
       "      <td>1.770943</td>\n",
       "      <td>1.000000</td>\n",
       "      <td>15.426928</td>\n",
       "      <td>19.976285</td>\n",
       "      <td>71433.732782</td>\n",
       "      <td>1.765125</td>\n",
       "      <td>43.500383</td>\n",
       "      <td>1.478019</td>\n",
       "      <td>53.937945</td>\n",
       "      <td>0.146629</td>\n",
       "    </tr>\n",
       "    <tr>\n",
       "      <th>2</th>\n",
       "      <td>0.500794</td>\n",
       "      <td>0.093987</td>\n",
       "      <td>10.423392</td>\n",
       "      <td>21.640624</td>\n",
       "      <td>29715.600988</td>\n",
       "      <td>2.640184</td>\n",
       "      <td>39.138719</td>\n",
       "      <td>1.533481</td>\n",
       "      <td>52.118339</td>\n",
       "      <td>0.538956</td>\n",
       "    </tr>\n",
       "    <tr>\n",
       "      <th>3</th>\n",
       "      <td>1.602153</td>\n",
       "      <td>0.271089</td>\n",
       "      <td>59.800477</td>\n",
       "      <td>20.401737</td>\n",
       "      <td>59819.405186</td>\n",
       "      <td>2.189663</td>\n",
       "      <td>39.122303</td>\n",
       "      <td>1.352164</td>\n",
       "      <td>51.615530</td>\n",
       "      <td>0.392465</td>\n",
       "    </tr>\n",
       "  </tbody>\n",
       "</table>\n",
       "</div>"
      ],
      "text/plain": [
       "        HousingCat   EDUCbin   TRANTIME       HHWT      HHINCOME      RACE  \\\n",
       "labels                                                                       \n",
       "0         2.000000  0.000000   8.200154  19.382852  50344.338479  1.968691   \n",
       "1         1.770943  1.000000  15.426928  19.976285  71433.732782  1.765125   \n",
       "2         0.500794  0.093987  10.423392  21.640624  29715.600988  2.640184   \n",
       "3         1.602153  0.271089  59.800477  20.401737  59819.405186  2.189663   \n",
       "\n",
       "              AGE       SEX  COUNTYFIP    HISPAN  \n",
       "labels                                            \n",
       "0       50.362844  1.569326  52.958754  0.295185  \n",
       "1       43.500383  1.478019  53.937945  0.146629  \n",
       "2       39.138719  1.533481  52.118339  0.538956  \n",
       "3       39.122303  1.352164  51.615530  0.392465  "
      ]
     },
     "execution_count": 28,
     "metadata": {},
     "output_type": "execute_result"
    }
   ],
   "source": [
    "kmeans = KMeans(n_clusters = 4, init = 'k-means++', random_state = 42)\n",
    "kmeans.fit(dfX90.iloc[:,0:3])\n",
    "X90fin = scaler.inverse_transform(dfX90)\n",
    "dfX90fin = pd.DataFrame(X90fin, columns=['HousingCat','EDUCbin','TRANTIME','HHWT','HHINCOME','RACE','AGE','SEX','COUNTYFIP','HISPAN'])\n",
    "dfX90fin['labels'] = kmeans.labels_\n",
    "cluster_sum90 = dfX90fin.groupby(by = 'labels').mean()\n",
    "cluster_sum90.head(5)\n"
   ]
  },
  {
   "cell_type": "code",
   "execution_count": 29,
   "id": "a1979f71",
   "metadata": {
    "scrolled": true
   },
   "outputs": [
    {
     "data": {
      "text/plain": [
       "<AxesSubplot:>"
      ]
     },
     "execution_count": 29,
     "metadata": {},
     "output_type": "execute_result"
    },
    {
     "data": {
      "image/png": "[encoded data removed]",
      "text/plain": [
       "<Figure size 1080x576 with 2 Axes>"
      ]
     },
     "metadata": {
      "needs_background": "light"
     },
     "output_type": "display_data"
    }
   ],
   "source": [
    "Xcorr90=dfX90fin.iloc[:, [0,1,2,3,4,5,6,7,8,9]]\n",
    "plt.subplots(figsize=(15,8))\n",
    "sns.heatmap(Xcorr90.corr(), annot = True)\n"
   ]
  },
  {
   "cell_type": "markdown",
   "id": "ce02d353",
   "metadata": {},
   "source": [
    "## Geographic Grouping"
   ]
  },
  {
   "cell_type": "code",
   "execution_count": 32,
   "id": "d511c215",
   "metadata": {},
   "outputs": [
    {
     "data": {
      "text/html": [
       "<div>\n",
       "<style scoped>\n",
       "    .dataframe tbody tr th:only-of-type {\n",
       "        vertical-align: middle;\n",
       "    }\n",
       "\n",
       "    .dataframe tbody tr th {\n",
       "        vertical-align: top;\n",
       "    }\n",
       "\n",
       "    .dataframe thead th {\n",
       "        text-align: right;\n",
       "    }\n",
       "</style>\n",
       "<table border=\"1\" class=\"dataframe\">\n",
       "  <thead>\n",
       "    <tr style=\"text-align: right;\">\n",
       "      <th></th>\n",
       "      <th>HousingCat</th>\n",
       "      <th>EDUCbin</th>\n",
       "      <th>TRANTIME</th>\n",
       "      <th>HHWT</th>\n",
       "      <th>HHINCOME</th>\n",
       "      <th>RACE</th>\n",
       "      <th>AGE</th>\n",
       "      <th>SEX</th>\n",
       "      <th>COUNTYFIP</th>\n",
       "      <th>HISPAN</th>\n",
       "      <th>labels</th>\n",
       "    </tr>\n",
       "  </thead>\n",
       "  <tbody>\n",
       "    <tr>\n",
       "      <th>0</th>\n",
       "      <td>2.0</td>\n",
       "      <td>0.0</td>\n",
       "      <td>1.776357e-15</td>\n",
       "      <td>18.0</td>\n",
       "      <td>49430.0</td>\n",
       "      <td>1.0</td>\n",
       "      <td>67.0</td>\n",
       "      <td>1.0</td>\n",
       "      <td>85.0</td>\n",
       "      <td>1.0</td>\n",
       "      <td>0</td>\n",
       "    </tr>\n",
       "    <tr>\n",
       "      <th>1</th>\n",
       "      <td>2.0</td>\n",
       "      <td>0.0</td>\n",
       "      <td>1.776357e-15</td>\n",
       "      <td>18.0</td>\n",
       "      <td>49430.0</td>\n",
       "      <td>1.0</td>\n",
       "      <td>64.0</td>\n",
       "      <td>2.0</td>\n",
       "      <td>85.0</td>\n",
       "      <td>1.0</td>\n",
       "      <td>0</td>\n",
       "    </tr>\n",
       "    <tr>\n",
       "      <th>2</th>\n",
       "      <td>0.0</td>\n",
       "      <td>0.0</td>\n",
       "      <td>8.000000e+00</td>\n",
       "      <td>4.0</td>\n",
       "      <td>25829.0</td>\n",
       "      <td>1.0</td>\n",
       "      <td>37.0</td>\n",
       "      <td>2.0</td>\n",
       "      <td>37.0</td>\n",
       "      <td>1.0</td>\n",
       "      <td>2</td>\n",
       "    </tr>\n",
       "    <tr>\n",
       "      <th>3</th>\n",
       "      <td>0.0</td>\n",
       "      <td>0.0</td>\n",
       "      <td>1.776357e-15</td>\n",
       "      <td>4.0</td>\n",
       "      <td>25829.0</td>\n",
       "      <td>1.0</td>\n",
       "      <td>36.0</td>\n",
       "      <td>1.0</td>\n",
       "      <td>37.0</td>\n",
       "      <td>0.0</td>\n",
       "      <td>2</td>\n",
       "    </tr>\n",
       "    <tr>\n",
       "      <th>4</th>\n",
       "      <td>2.0</td>\n",
       "      <td>1.0</td>\n",
       "      <td>1.776357e-15</td>\n",
       "      <td>12.0</td>\n",
       "      <td>232009.0</td>\n",
       "      <td>1.0</td>\n",
       "      <td>49.0</td>\n",
       "      <td>2.0</td>\n",
       "      <td>73.0</td>\n",
       "      <td>0.0</td>\n",
       "      <td>1</td>\n",
       "    </tr>\n",
       "  </tbody>\n",
       "</table>\n",
       "</div>"
      ],
      "text/plain": [
       "   HousingCat  EDUCbin      TRANTIME  HHWT  HHINCOME  RACE   AGE  SEX  \\\n",
       "0         2.0      0.0  1.776357e-15  18.0   49430.0   1.0  67.0  1.0   \n",
       "1         2.0      0.0  1.776357e-15  18.0   49430.0   1.0  64.0  2.0   \n",
       "2         0.0      0.0  8.000000e+00   4.0   25829.0   1.0  37.0  2.0   \n",
       "3         0.0      0.0  1.776357e-15   4.0   25829.0   1.0  36.0  1.0   \n",
       "4         2.0      1.0  1.776357e-15  12.0  232009.0   1.0  49.0  2.0   \n",
       "\n",
       "   COUNTYFIP  HISPAN  labels  \n",
       "0       85.0     1.0       0  \n",
       "1       85.0     1.0       0  \n",
       "2       37.0     1.0       2  \n",
       "3       37.0     0.0       2  \n",
       "4       73.0     0.0       1  "
      ]
     },
     "execution_count": 32,
     "metadata": {},
     "output_type": "execute_result"
    }
   ],
   "source": [
    "dfX10fin.head(5)"
   ]
  },
  {
   "cell_type": "code",
   "execution_count": 100,
   "id": "69b8bbd1",
   "metadata": {},
   "outputs": [
    {
     "data": {
      "text/html": [
       "<div>\n",
       "<style scoped>\n",
       "    .dataframe tbody tr th:only-of-type {\n",
       "        vertical-align: middle;\n",
       "    }\n",
       "\n",
       "    .dataframe tbody tr th {\n",
       "        vertical-align: top;\n",
       "    }\n",
       "\n",
       "    .dataframe thead th {\n",
       "        text-align: right;\n",
       "    }\n",
       "</style>\n",
       "<table border=\"1\" class=\"dataframe\">\n",
       "  <thead>\n",
       "    <tr style=\"text-align: right;\">\n",
       "      <th></th>\n",
       "      <th>HousingCat</th>\n",
       "      <th>EDUCbin</th>\n",
       "      <th>TRANTIME</th>\n",
       "      <th>HHWT</th>\n",
       "      <th>HHINCOME</th>\n",
       "      <th>RACE</th>\n",
       "      <th>AGE</th>\n",
       "      <th>SEX</th>\n",
       "      <th>COUNTYFIP</th>\n",
       "      <th>HISPAN</th>\n",
       "      <th>labels</th>\n",
       "    </tr>\n",
       "  </thead>\n",
       "  <tbody>\n",
       "    <tr>\n",
       "      <th>0</th>\n",
       "      <td>1.0</td>\n",
       "      <td>1.0</td>\n",
       "      <td>1.000000e+01</td>\n",
       "      <td>20.0</td>\n",
       "      <td>56113.0</td>\n",
       "      <td>1.0</td>\n",
       "      <td>41.0</td>\n",
       "      <td>1.0</td>\n",
       "      <td>59.0</td>\n",
       "      <td>1.0</td>\n",
       "      <td>0</td>\n",
       "    </tr>\n",
       "    <tr>\n",
       "      <th>2</th>\n",
       "      <td>2.0</td>\n",
       "      <td>1.0</td>\n",
       "      <td>1.776357e-15</td>\n",
       "      <td>15.0</td>\n",
       "      <td>250353.0</td>\n",
       "      <td>1.0</td>\n",
       "      <td>34.0</td>\n",
       "      <td>2.0</td>\n",
       "      <td>81.0</td>\n",
       "      <td>0.0</td>\n",
       "      <td>0</td>\n",
       "    </tr>\n",
       "    <tr>\n",
       "      <th>3</th>\n",
       "      <td>2.0</td>\n",
       "      <td>1.0</td>\n",
       "      <td>2.500000e+01</td>\n",
       "      <td>15.0</td>\n",
       "      <td>250353.0</td>\n",
       "      <td>1.0</td>\n",
       "      <td>34.0</td>\n",
       "      <td>1.0</td>\n",
       "      <td>81.0</td>\n",
       "      <td>0.0</td>\n",
       "      <td>0</td>\n",
       "    </tr>\n",
       "    <tr>\n",
       "      <th>4</th>\n",
       "      <td>2.0</td>\n",
       "      <td>1.0</td>\n",
       "      <td>1.776357e-15</td>\n",
       "      <td>14.0</td>\n",
       "      <td>117407.0</td>\n",
       "      <td>1.0</td>\n",
       "      <td>55.0</td>\n",
       "      <td>2.0</td>\n",
       "      <td>37.0</td>\n",
       "      <td>0.0</td>\n",
       "      <td>0</td>\n",
       "    </tr>\n",
       "    <tr>\n",
       "      <th>5</th>\n",
       "      <td>2.0</td>\n",
       "      <td>1.0</td>\n",
       "      <td>2.100000e+01</td>\n",
       "      <td>14.0</td>\n",
       "      <td>117407.0</td>\n",
       "      <td>1.0</td>\n",
       "      <td>25.0</td>\n",
       "      <td>2.0</td>\n",
       "      <td>37.0</td>\n",
       "      <td>0.0</td>\n",
       "      <td>0</td>\n",
       "    </tr>\n",
       "    <tr>\n",
       "      <th>...</th>\n",
       "      <td>...</td>\n",
       "      <td>...</td>\n",
       "      <td>...</td>\n",
       "      <td>...</td>\n",
       "      <td>...</td>\n",
       "      <td>...</td>\n",
       "      <td>...</td>\n",
       "      <td>...</td>\n",
       "      <td>...</td>\n",
       "      <td>...</td>\n",
       "      <td>...</td>\n",
       "    </tr>\n",
       "    <tr>\n",
       "      <th>1357988</th>\n",
       "      <td>2.0</td>\n",
       "      <td>1.0</td>\n",
       "      <td>1.776357e-15</td>\n",
       "      <td>72.0</td>\n",
       "      <td>133000.0</td>\n",
       "      <td>1.0</td>\n",
       "      <td>46.0</td>\n",
       "      <td>1.0</td>\n",
       "      <td>97.0</td>\n",
       "      <td>0.0</td>\n",
       "      <td>0</td>\n",
       "    </tr>\n",
       "    <tr>\n",
       "      <th>1357990</th>\n",
       "      <td>2.0</td>\n",
       "      <td>1.0</td>\n",
       "      <td>1.776357e-15</td>\n",
       "      <td>12.0</td>\n",
       "      <td>60000.0</td>\n",
       "      <td>9.0</td>\n",
       "      <td>68.0</td>\n",
       "      <td>2.0</td>\n",
       "      <td>37.0</td>\n",
       "      <td>0.0</td>\n",
       "      <td>0</td>\n",
       "    </tr>\n",
       "    <tr>\n",
       "      <th>1357996</th>\n",
       "      <td>1.0</td>\n",
       "      <td>1.0</td>\n",
       "      <td>3.000000e+01</td>\n",
       "      <td>13.0</td>\n",
       "      <td>59000.0</td>\n",
       "      <td>6.0</td>\n",
       "      <td>24.0</td>\n",
       "      <td>1.0</td>\n",
       "      <td>85.0</td>\n",
       "      <td>0.0</td>\n",
       "      <td>0</td>\n",
       "    </tr>\n",
       "    <tr>\n",
       "      <th>1358002</th>\n",
       "      <td>2.0</td>\n",
       "      <td>1.0</td>\n",
       "      <td>1.000000e+01</td>\n",
       "      <td>14.0</td>\n",
       "      <td>158000.0</td>\n",
       "      <td>8.0</td>\n",
       "      <td>25.0</td>\n",
       "      <td>2.0</td>\n",
       "      <td>107.0</td>\n",
       "      <td>0.0</td>\n",
       "      <td>0</td>\n",
       "    </tr>\n",
       "    <tr>\n",
       "      <th>1358003</th>\n",
       "      <td>2.0</td>\n",
       "      <td>1.0</td>\n",
       "      <td>1.000000e+01</td>\n",
       "      <td>14.0</td>\n",
       "      <td>158000.0</td>\n",
       "      <td>1.0</td>\n",
       "      <td>30.0</td>\n",
       "      <td>1.0</td>\n",
       "      <td>107.0</td>\n",
       "      <td>0.0</td>\n",
       "      <td>0</td>\n",
       "    </tr>\n",
       "  </tbody>\n",
       "</table>\n",
       "<p>464213 rows × 11 columns</p>\n",
       "</div>"
      ],
      "text/plain": [
       "         HousingCat  EDUCbin      TRANTIME  HHWT  HHINCOME  RACE   AGE  SEX  \\\n",
       "0               1.0      1.0  1.000000e+01  20.0   56113.0   1.0  41.0  1.0   \n",
       "2               2.0      1.0  1.776357e-15  15.0  250353.0   1.0  34.0  2.0   \n",
       "3               2.0      1.0  2.500000e+01  15.0  250353.0   1.0  34.0  1.0   \n",
       "4               2.0      1.0  1.776357e-15  14.0  117407.0   1.0  55.0  2.0   \n",
       "5               2.0      1.0  2.100000e+01  14.0  117407.0   1.0  25.0  2.0   \n",
       "...             ...      ...           ...   ...       ...   ...   ...  ...   \n",
       "1357988         2.0      1.0  1.776357e-15  72.0  133000.0   1.0  46.0  1.0   \n",
       "1357990         2.0      1.0  1.776357e-15  12.0   60000.0   9.0  68.0  2.0   \n",
       "1357996         1.0      1.0  3.000000e+01  13.0   59000.0   6.0  24.0  1.0   \n",
       "1358002         2.0      1.0  1.000000e+01  14.0  158000.0   8.0  25.0  2.0   \n",
       "1358003         2.0      1.0  1.000000e+01  14.0  158000.0   1.0  30.0  1.0   \n",
       "\n",
       "         COUNTYFIP  HISPAN  labels  \n",
       "0             59.0     1.0       0  \n",
       "2             81.0     0.0       0  \n",
       "3             81.0     0.0       0  \n",
       "4             37.0     0.0       0  \n",
       "5             37.0     0.0       0  \n",
       "...            ...     ...     ...  \n",
       "1357988       97.0     0.0       0  \n",
       "1357990       37.0     0.0       0  \n",
       "1357996       85.0     0.0       0  \n",
       "1358002      107.0     0.0       0  \n",
       "1358003      107.0     0.0       0  \n",
       "\n",
       "[464213 rows x 11 columns]"
      ]
     },
     "execution_count": 100,
     "metadata": {},
     "output_type": "execute_result"
    }
   ],
   "source": [
    "clust2019_0 = dfX19fin[dfX19fin['labels']==0]\n",
    "clust2019_1 = dfX19fin[dfX19fin['labels']==1]\n",
    "clust2019_2 = dfX19fin[dfX19fin['labels']==2]\n",
    "clust2019_3 = dfX19fin[dfX19fin['labels']==3]"
   ]
  },
  {
   "cell_type": "code",
   "execution_count": 77,
   "id": "62f7fe1b",
   "metadata": {},
   "outputs": [],
   "source": [
    "def GEOIDfunc(geoid):\n",
    "    if len(geoid)==1:\n",
    "        geoid='0600'+geoid\n",
    "    elif len(geoid)==2:\n",
    "        geoid='060'+geoid\n",
    "    elif len(geoid)==3:\n",
    "        geoid='06'+geoid\n",
    "    else:\n",
    "        pass\n",
    "    return geoid"
   ]
  },
  {
   "cell_type": "code",
   "execution_count": 78,
   "id": "1be5c013",
   "metadata": {},
   "outputs": [],
   "source": [
    "COUNTYcsv = 'C:/Users/akaba/Downloads/CA_counties.csv'\n",
    "counties = pd.read_csv(COUNTYcsv)\n",
    "countiesdf = pd.DataFrame(counties)\n",
    "countiesdf['FIPS']= countiesdf['FIPS'].astype(str)\n",
    "countiesdf['FIPS']='0'+countiesdf['FIPS']"
   ]
  },
  {
   "cell_type": "code",
   "execution_count": 117,
   "id": "7d4e8bf2",
   "metadata": {},
   "outputs": [],
   "source": [
    "def geo(df,year,cluster):\n",
    "    df = df[['COUNTYFIP','EDUCbin','HHWT','labels']].groupby(['labels','COUNTYFIP']).agg({'EDUCbin' : ['count'], 'HHWT' : ['sum']}).copy()\n",
    "    df = (df['HHWT']/df['HHWT'].sum())*df['EDUCbin'].values\n",
    "    df.columns = ['Weighted_pop']\n",
    "    df.reset_index(inplace=True)\n",
    "    df['COUNTYFIP'] = pd.Series(df['COUNTYFIP'], dtype=\"int\")\n",
    "    df['COUNTYFIP'] = pd.Series(df['COUNTYFIP'], dtype=\"string\")\n",
    "    df['Weighted_pop'] = pd.Series(df['Weighted_pop'], dtype=\"int\")\n",
    "    df['GEOID'] = df.apply(lambda x: GEOIDfunc(x['COUNTYFIP']), axis=1)\n",
    "    df = df.merge(countiesdf,how='inner',left_on='GEOID',right_on='FIPS')\n",
    "    df = df[['labels','GEOID','COUNTY','Weighted_pop']]\n",
    "    df.to_csv('C:/Users/akaba/Downloads/'+str(year)+'_'+str(cluster)+'.csv')"
   ]
  },
  {
   "cell_type": "code",
   "execution_count": 118,
   "id": "be31fc9e",
   "metadata": {
    "scrolled": true
   },
   "outputs": [],
   "source": [
    "geo(dfX10fin,2019,1)"
   ]
  },
  {
   "cell_type": "code",
   "execution_count": 120,
   "id": "8ff65d65",
   "metadata": {},
   "outputs": [
    {
     "data": {
      "text/html": [
       "<div>\n",
       "<style scoped>\n",
       "    .dataframe tbody tr th:only-of-type {\n",
       "        vertical-align: middle;\n",
       "    }\n",
       "\n",
       "    .dataframe tbody tr th {\n",
       "        vertical-align: top;\n",
       "    }\n",
       "\n",
       "    .dataframe thead th {\n",
       "        text-align: right;\n",
       "    }\n",
       "</style>\n",
       "<table border=\"1\" class=\"dataframe\">\n",
       "  <thead>\n",
       "    <tr style=\"text-align: right;\">\n",
       "      <th></th>\n",
       "      <th>Unnamed: 0</th>\n",
       "      <th>labels</th>\n",
       "      <th>GEOID</th>\n",
       "      <th>COUNTY</th>\n",
       "      <th>Weighted_pop</th>\n",
       "    </tr>\n",
       "  </thead>\n",
       "  <tbody>\n",
       "    <tr>\n",
       "      <th>0</th>\n",
       "      <td>0</td>\n",
       "      <td>0</td>\n",
       "      <td>6001</td>\n",
       "      <td>Alameda</td>\n",
       "      <td>149</td>\n",
       "    </tr>\n",
       "    <tr>\n",
       "      <th>1</th>\n",
       "      <td>1</td>\n",
       "      <td>1</td>\n",
       "      <td>6001</td>\n",
       "      <td>Alameda</td>\n",
       "      <td>274</td>\n",
       "    </tr>\n",
       "    <tr>\n",
       "      <th>2</th>\n",
       "      <td>2</td>\n",
       "      <td>2</td>\n",
       "      <td>6001</td>\n",
       "      <td>Alameda</td>\n",
       "      <td>133</td>\n",
       "    </tr>\n",
       "    <tr>\n",
       "      <th>3</th>\n",
       "      <td>3</td>\n",
       "      <td>3</td>\n",
       "      <td>6001</td>\n",
       "      <td>Alameda</td>\n",
       "      <td>31</td>\n",
       "    </tr>\n",
       "    <tr>\n",
       "      <th>4</th>\n",
       "      <td>4</td>\n",
       "      <td>0</td>\n",
       "      <td>6007</td>\n",
       "      <td>Butte</td>\n",
       "      <td>8</td>\n",
       "    </tr>\n",
       "    <tr>\n",
       "      <th>...</th>\n",
       "      <td>...</td>\n",
       "      <td>...</td>\n",
       "      <td>...</td>\n",
       "      <td>...</td>\n",
       "      <td>...</td>\n",
       "    </tr>\n",
       "    <tr>\n",
       "      <th>131</th>\n",
       "      <td>131</td>\n",
       "      <td>3</td>\n",
       "      <td>6111</td>\n",
       "      <td>Ventura</td>\n",
       "      <td>5</td>\n",
       "    </tr>\n",
       "    <tr>\n",
       "      <th>132</th>\n",
       "      <td>132</td>\n",
       "      <td>0</td>\n",
       "      <td>6113</td>\n",
       "      <td>Yolo</td>\n",
       "      <td>2</td>\n",
       "    </tr>\n",
       "    <tr>\n",
       "      <th>133</th>\n",
       "      <td>133</td>\n",
       "      <td>1</td>\n",
       "      <td>6113</td>\n",
       "      <td>Yolo</td>\n",
       "      <td>4</td>\n",
       "    </tr>\n",
       "    <tr>\n",
       "      <th>134</th>\n",
       "      <td>134</td>\n",
       "      <td>2</td>\n",
       "      <td>6113</td>\n",
       "      <td>Yolo</td>\n",
       "      <td>3</td>\n",
       "    </tr>\n",
       "    <tr>\n",
       "      <th>135</th>\n",
       "      <td>135</td>\n",
       "      <td>3</td>\n",
       "      <td>6113</td>\n",
       "      <td>Yolo</td>\n",
       "      <td>0</td>\n",
       "    </tr>\n",
       "  </tbody>\n",
       "</table>\n",
       "<p>136 rows × 5 columns</p>\n",
       "</div>"
      ],
      "text/plain": [
       "     Unnamed: 0  labels  GEOID    COUNTY  Weighted_pop\n",
       "0             0       0   6001  Alameda            149\n",
       "1             1       1   6001  Alameda            274\n",
       "2             2       2   6001  Alameda            133\n",
       "3             3       3   6001  Alameda             31\n",
       "4             4       0   6007    Butte              8\n",
       "..          ...     ...    ...       ...           ...\n",
       "131         131       3   6111  Ventura              5\n",
       "132         132       0   6113     Yolo              2\n",
       "133         133       1   6113     Yolo              4\n",
       "134         134       2   6113     Yolo              3\n",
       "135         135       3   6113     Yolo              0\n",
       "\n",
       "[136 rows x 5 columns]"
      ]
     },
     "execution_count": 120,
     "metadata": {},
     "output_type": "execute_result"
    }
   ],
   "source": [
    "pd.read_csv('C:/Users/akaba/Downloads/2019_1.csv')"
   ]
  },
  {
   "cell_type": "code",
   "execution_count": 126,
   "id": "263b1ecb",
   "metadata": {},
   "outputs": [],
   "source": [
    "df10geo = dfX10fin[['COUNTYFIP','EDUCbin','HHWT','labels']].groupby(['labels','COUNTYFIP']).agg({'EDUCbin' : ['count'], 'HHWT' : ['sum']}).copy()\n"
   ]
  },
  {
   "cell_type": "code",
   "execution_count": 125,
   "id": "b3a3f885",
   "metadata": {
    "scrolled": true
   },
   "outputs": [
    {
     "ename": "KeyError",
     "evalue": "\"['labels' 'COUNTYFIP'] not in index\"",
     "output_type": "error",
     "traceback": [
      "\u001b[1;31m---------------------------------------------------------------------------\u001b[0m",
      "\u001b[1;31mKeyError\u001b[0m                                  Traceback (most recent call last)",
      "\u001b[1;32m<ipython-input-125-dbf8788327a0>\u001b[0m in \u001b[0;36m<module>\u001b[1;34m\u001b[0m\n\u001b[1;32m----> 1\u001b[1;33m \u001b[0mdf10geo\u001b[0m \u001b[1;33m=\u001b[0m \u001b[0mdf10geo\u001b[0m\u001b[1;33m[\u001b[0m\u001b[1;33m[\u001b[0m\u001b[1;34m'labels'\u001b[0m\u001b[1;33m,\u001b[0m\u001b[1;34m'COUNTYFIP'\u001b[0m\u001b[1;33m,\u001b[0m\u001b[1;34m'EDUCbin'\u001b[0m\u001b[1;33m,\u001b[0m\u001b[1;34m'HHWT'\u001b[0m\u001b[1;33m]\u001b[0m\u001b[1;33m]\u001b[0m\u001b[1;33m.\u001b[0m\u001b[0mgroupby\u001b[0m\u001b[1;33m(\u001b[0m\u001b[1;33m[\u001b[0m\u001b[1;34m'labels'\u001b[0m\u001b[1;33m,\u001b[0m\u001b[1;34m'COUNTYFIP'\u001b[0m\u001b[1;33m]\u001b[0m\u001b[1;33m)\u001b[0m\u001b[1;33m.\u001b[0m\u001b[0magg\u001b[0m\u001b[1;33m(\u001b[0m\u001b[1;33m{\u001b[0m\u001b[1;34m'EDUCbin'\u001b[0m \u001b[1;33m:\u001b[0m \u001b[1;33m[\u001b[0m\u001b[1;34m'count'\u001b[0m\u001b[1;33m]\u001b[0m\u001b[1;33m,\u001b[0m \u001b[1;34m'HHWT'\u001b[0m \u001b[1;33m:\u001b[0m \u001b[1;33m[\u001b[0m\u001b[1;34m'sum'\u001b[0m\u001b[1;33m]\u001b[0m\u001b[1;33m}\u001b[0m\u001b[1;33m)\u001b[0m\u001b[1;33m.\u001b[0m\u001b[0mcopy\u001b[0m\u001b[1;33m(\u001b[0m\u001b[1;33m)\u001b[0m\u001b[1;33m\u001b[0m\u001b[1;33m\u001b[0m\u001b[0m\n\u001b[0m",
      "\u001b[1;32m~\\anaconda3\\lib\\site-packages\\pandas\\core\\frame.py\u001b[0m in \u001b[0;36m__getitem__\u001b[1;34m(self, key)\u001b[0m\n\u001b[0;32m   3028\u001b[0m             \u001b[1;32mif\u001b[0m \u001b[0mis_iterator\u001b[0m\u001b[1;33m(\u001b[0m\u001b[0mkey\u001b[0m\u001b[1;33m)\u001b[0m\u001b[1;33m:\u001b[0m\u001b[1;33m\u001b[0m\u001b[1;33m\u001b[0m\u001b[0m\n\u001b[0;32m   3029\u001b[0m                 \u001b[0mkey\u001b[0m \u001b[1;33m=\u001b[0m \u001b[0mlist\u001b[0m\u001b[1;33m(\u001b[0m\u001b[0mkey\u001b[0m\u001b[1;33m)\u001b[0m\u001b[1;33m\u001b[0m\u001b[1;33m\u001b[0m\u001b[0m\n\u001b[1;32m-> 3030\u001b[1;33m             \u001b[0mindexer\u001b[0m \u001b[1;33m=\u001b[0m \u001b[0mself\u001b[0m\u001b[1;33m.\u001b[0m\u001b[0mloc\u001b[0m\u001b[1;33m.\u001b[0m\u001b[0m_get_listlike_indexer\u001b[0m\u001b[1;33m(\u001b[0m\u001b[0mkey\u001b[0m\u001b[1;33m,\u001b[0m \u001b[0maxis\u001b[0m\u001b[1;33m=\u001b[0m\u001b[1;36m1\u001b[0m\u001b[1;33m,\u001b[0m \u001b[0mraise_missing\u001b[0m\u001b[1;33m=\u001b[0m\u001b[1;32mTrue\u001b[0m\u001b[1;33m)\u001b[0m\u001b[1;33m[\u001b[0m\u001b[1;36m1\u001b[0m\u001b[1;33m]\u001b[0m\u001b[1;33m\u001b[0m\u001b[1;33m\u001b[0m\u001b[0m\n\u001b[0m\u001b[0;32m   3031\u001b[0m \u001b[1;33m\u001b[0m\u001b[0m\n\u001b[0;32m   3032\u001b[0m         \u001b[1;31m# take() does not accept boolean indexers\u001b[0m\u001b[1;33m\u001b[0m\u001b[1;33m\u001b[0m\u001b[1;33m\u001b[0m\u001b[0m\n",
      "\u001b[1;32m~\\anaconda3\\lib\\site-packages\\pandas\\core\\indexing.py\u001b[0m in \u001b[0;36m_get_listlike_indexer\u001b[1;34m(self, key, axis, raise_missing)\u001b[0m\n\u001b[0;32m   1252\u001b[0m         \u001b[1;31m# Have the index compute an indexer or return None\u001b[0m\u001b[1;33m\u001b[0m\u001b[1;33m\u001b[0m\u001b[1;33m\u001b[0m\u001b[0m\n\u001b[0;32m   1253\u001b[0m         \u001b[1;31m# if it cannot handle:\u001b[0m\u001b[1;33m\u001b[0m\u001b[1;33m\u001b[0m\u001b[1;33m\u001b[0m\u001b[0m\n\u001b[1;32m-> 1254\u001b[1;33m         \u001b[0mindexer\u001b[0m\u001b[1;33m,\u001b[0m \u001b[0mkeyarr\u001b[0m \u001b[1;33m=\u001b[0m \u001b[0max\u001b[0m\u001b[1;33m.\u001b[0m\u001b[0m_convert_listlike_indexer\u001b[0m\u001b[1;33m(\u001b[0m\u001b[0mkey\u001b[0m\u001b[1;33m)\u001b[0m\u001b[1;33m\u001b[0m\u001b[1;33m\u001b[0m\u001b[0m\n\u001b[0m\u001b[0;32m   1255\u001b[0m         \u001b[1;31m# We only act on all found values:\u001b[0m\u001b[1;33m\u001b[0m\u001b[1;33m\u001b[0m\u001b[1;33m\u001b[0m\u001b[0m\n\u001b[0;32m   1256\u001b[0m         \u001b[1;32mif\u001b[0m \u001b[0mindexer\u001b[0m \u001b[1;32mis\u001b[0m \u001b[1;32mnot\u001b[0m \u001b[1;32mNone\u001b[0m \u001b[1;32mand\u001b[0m \u001b[1;33m(\u001b[0m\u001b[0mindexer\u001b[0m \u001b[1;33m!=\u001b[0m \u001b[1;33m-\u001b[0m\u001b[1;36m1\u001b[0m\u001b[1;33m)\u001b[0m\u001b[1;33m.\u001b[0m\u001b[0mall\u001b[0m\u001b[1;33m(\u001b[0m\u001b[1;33m)\u001b[0m\u001b[1;33m:\u001b[0m\u001b[1;33m\u001b[0m\u001b[1;33m\u001b[0m\u001b[0m\n",
      "\u001b[1;32m~\\anaconda3\\lib\\site-packages\\pandas\\core\\indexes\\multi.py\u001b[0m in \u001b[0;36m_convert_listlike_indexer\u001b[1;34m(self, keyarr)\u001b[0m\n\u001b[0;32m   2566\u001b[0m             \u001b[0mmask\u001b[0m \u001b[1;33m=\u001b[0m \u001b[0mcheck\u001b[0m \u001b[1;33m==\u001b[0m \u001b[1;33m-\u001b[0m\u001b[1;36m1\u001b[0m\u001b[1;33m\u001b[0m\u001b[1;33m\u001b[0m\u001b[0m\n\u001b[0;32m   2567\u001b[0m             \u001b[1;32mif\u001b[0m \u001b[0mmask\u001b[0m\u001b[1;33m.\u001b[0m\u001b[0many\u001b[0m\u001b[1;33m(\u001b[0m\u001b[1;33m)\u001b[0m\u001b[1;33m:\u001b[0m\u001b[1;33m\u001b[0m\u001b[1;33m\u001b[0m\u001b[0m\n\u001b[1;32m-> 2568\u001b[1;33m                 \u001b[1;32mraise\u001b[0m \u001b[0mKeyError\u001b[0m\u001b[1;33m(\u001b[0m\u001b[1;34mf\"{keyarr[mask]} not in index\"\u001b[0m\u001b[1;33m)\u001b[0m\u001b[1;33m\u001b[0m\u001b[1;33m\u001b[0m\u001b[0m\n\u001b[0m\u001b[0;32m   2569\u001b[0m \u001b[1;33m\u001b[0m\u001b[0m\n\u001b[0;32m   2570\u001b[0m         \u001b[1;32mreturn\u001b[0m \u001b[0mindexer\u001b[0m\u001b[1;33m,\u001b[0m \u001b[0mkeyarr\u001b[0m\u001b[1;33m\u001b[0m\u001b[1;33m\u001b[0m\u001b[0m\n",
      "\u001b[1;31mKeyError\u001b[0m: \"['labels' 'COUNTYFIP'] not in index\""
     ]
    }
   ],
   "source": []
  },
  {
   "cell_type": "code",
   "execution_count": 127,
   "id": "a05dae2e",
   "metadata": {},
   "outputs": [],
   "source": [
    "df10geo = (df10geo['HHWT']/df10geo['HHWT'].sum())*df10geo['EDUCbin'].values"
   ]
  },
  {
   "cell_type": "code",
   "execution_count": 128,
   "id": "e1629639",
   "metadata": {
    "scrolled": true
   },
   "outputs": [],
   "source": [
    "df10geo.columns = ['Weighted_pop']"
   ]
  },
  {
   "cell_type": "code",
   "execution_count": 129,
   "id": "cc23419f",
   "metadata": {},
   "outputs": [],
   "source": [
    "df10geo.reset_index(inplace=True)"
   ]
  },
  {
   "cell_type": "code",
   "execution_count": 130,
   "id": "12f8156b",
   "metadata": {},
   "outputs": [],
   "source": [
    "\n",
    "df10geo['COUNTYFIP'] = pd.Series(df10geo['COUNTYFIP'], dtype=\"int\")\n",
    "df10geo['COUNTYFIP'] = pd.Series(df10geo['COUNTYFIP'], dtype=\"string\")\n",
    "df10geo['Weighted_pop'] = pd.Series(df10geo['Weighted_pop'], dtype=\"int\")\n"
   ]
  },
  {
   "cell_type": "code",
   "execution_count": 131,
   "id": "9ca0464c",
   "metadata": {},
   "outputs": [
    {
     "data": {
      "text/plain": [
       "labels           int64\n",
       "COUNTYFIP       string\n",
       "Weighted_pop     int32\n",
       "dtype: object"
      ]
     },
     "execution_count": 131,
     "metadata": {},
     "output_type": "execute_result"
    }
   ],
   "source": [
    "df10geo.dtypes"
   ]
  },
  {
   "cell_type": "code",
   "execution_count": 132,
   "id": "5d06e6f9",
   "metadata": {},
   "outputs": [],
   "source": [
    "def GEOIDfunc(geoid):\n",
    "    if len(geoid)==1:\n",
    "        geoid='0600'+geoid\n",
    "    elif len(geoid)==2:\n",
    "        geoid='060'+geoid\n",
    "    elif len(geoid)==3:\n",
    "        geoid='06'+geoid\n",
    "    else:\n",
    "        pass\n",
    "    return geoid"
   ]
  },
  {
   "cell_type": "code",
   "execution_count": 133,
   "id": "f98d3def",
   "metadata": {},
   "outputs": [],
   "source": [
    "df10geo['GEOID'] = df10geo.apply(lambda x: GEOIDfunc(x['COUNTYFIP']), axis=1)"
   ]
  },
  {
   "cell_type": "code",
   "execution_count": 134,
   "id": "2e7edbd5",
   "metadata": {},
   "outputs": [],
   "source": [
    "COUNTYcsv = 'C:/Users/akaba/Downloads/CA_counties.csv'\n",
    "counties = pd.read_csv(COUNTYcsv)\n",
    "countiesdf = pd.DataFrame(counties)\n",
    "countiesdf['FIPS']= countiesdf['FIPS'].astype(str)\n",
    "countiesdf['FIPS']='0'+countiesdf['FIPS']"
   ]
  },
  {
   "cell_type": "code",
   "execution_count": 135,
   "id": "0d282642",
   "metadata": {},
   "outputs": [
    {
     "data": {
      "text/html": [
       "<div>\n",
       "<style scoped>\n",
       "    .dataframe tbody tr th:only-of-type {\n",
       "        vertical-align: middle;\n",
       "    }\n",
       "\n",
       "    .dataframe tbody tr th {\n",
       "        vertical-align: top;\n",
       "    }\n",
       "\n",
       "    .dataframe thead th {\n",
       "        text-align: right;\n",
       "    }\n",
       "</style>\n",
       "<table border=\"1\" class=\"dataframe\">\n",
       "  <thead>\n",
       "    <tr style=\"text-align: right;\">\n",
       "      <th></th>\n",
       "      <th>GEOID</th>\n",
       "      <th>labels</th>\n",
       "      <th>COUNTY</th>\n",
       "      <th>Weighted_pop</th>\n",
       "    </tr>\n",
       "  </thead>\n",
       "  <tbody>\n",
       "    <tr>\n",
       "      <th>0</th>\n",
       "      <td>06001</td>\n",
       "      <td>0</td>\n",
       "      <td>Alameda</td>\n",
       "      <td>149</td>\n",
       "    </tr>\n",
       "    <tr>\n",
       "      <th>1</th>\n",
       "      <td>06001</td>\n",
       "      <td>1</td>\n",
       "      <td>Alameda</td>\n",
       "      <td>274</td>\n",
       "    </tr>\n",
       "    <tr>\n",
       "      <th>2</th>\n",
       "      <td>06001</td>\n",
       "      <td>2</td>\n",
       "      <td>Alameda</td>\n",
       "      <td>133</td>\n",
       "    </tr>\n",
       "    <tr>\n",
       "      <th>3</th>\n",
       "      <td>06001</td>\n",
       "      <td>3</td>\n",
       "      <td>Alameda</td>\n",
       "      <td>31</td>\n",
       "    </tr>\n",
       "    <tr>\n",
       "      <th>4</th>\n",
       "      <td>06007</td>\n",
       "      <td>0</td>\n",
       "      <td>Butte</td>\n",
       "      <td>8</td>\n",
       "    </tr>\n",
       "    <tr>\n",
       "      <th>...</th>\n",
       "      <td>...</td>\n",
       "      <td>...</td>\n",
       "      <td>...</td>\n",
       "      <td>...</td>\n",
       "    </tr>\n",
       "    <tr>\n",
       "      <th>131</th>\n",
       "      <td>06111</td>\n",
       "      <td>3</td>\n",
       "      <td>Ventura</td>\n",
       "      <td>5</td>\n",
       "    </tr>\n",
       "    <tr>\n",
       "      <th>132</th>\n",
       "      <td>06113</td>\n",
       "      <td>0</td>\n",
       "      <td>Yolo</td>\n",
       "      <td>2</td>\n",
       "    </tr>\n",
       "    <tr>\n",
       "      <th>133</th>\n",
       "      <td>06113</td>\n",
       "      <td>1</td>\n",
       "      <td>Yolo</td>\n",
       "      <td>4</td>\n",
       "    </tr>\n",
       "    <tr>\n",
       "      <th>134</th>\n",
       "      <td>06113</td>\n",
       "      <td>2</td>\n",
       "      <td>Yolo</td>\n",
       "      <td>3</td>\n",
       "    </tr>\n",
       "    <tr>\n",
       "      <th>135</th>\n",
       "      <td>06113</td>\n",
       "      <td>3</td>\n",
       "      <td>Yolo</td>\n",
       "      <td>0</td>\n",
       "    </tr>\n",
       "  </tbody>\n",
       "</table>\n",
       "<p>136 rows × 4 columns</p>\n",
       "</div>"
      ],
      "text/plain": [
       "     GEOID  labels    COUNTY  Weighted_pop\n",
       "0    06001       0  Alameda            149\n",
       "1    06001       1  Alameda            274\n",
       "2    06001       2  Alameda            133\n",
       "3    06001       3  Alameda             31\n",
       "4    06007       0    Butte              8\n",
       "..     ...     ...       ...           ...\n",
       "131  06111       3  Ventura              5\n",
       "132  06113       0     Yolo              2\n",
       "133  06113       1     Yolo              4\n",
       "134  06113       2     Yolo              3\n",
       "135  06113       3     Yolo              0\n",
       "\n",
       "[136 rows x 4 columns]"
      ]
     },
     "execution_count": 135,
     "metadata": {},
     "output_type": "execute_result"
    }
   ],
   "source": [
    "df10geomerged = df10geo.merge(countiesdf,how='inner',left_on='GEOID',right_on='FIPS')\n",
    "df10geomerged = df10geomerged[['GEOID','labels','COUNTY','Weighted_pop']]\n",
    "df10geomerged"
   ]
  },
  {
   "cell_type": "code",
   "execution_count": 150,
   "id": "fb5a69a4",
   "metadata": {},
   "outputs": [],
   "source": [
    "df10geomerged.to_csv('C:/Users/akaba/Downloads/df10geo.csv')"
   ]
  },
  {
   "cell_type": "code",
   "execution_count": null,
   "id": "653f71d8",
   "metadata": {},
   "outputs": [],
   "source": []
  }
 ],
 "metadata": {
  "kernelspec": {
   "display_name": "Python 3",
   "language": "python",
   "name": "python3"
  },
  "language_info": {
   "codemirror_mode": {
    "name": "ipython",
    "version": 3
   },
   "file_extension": ".py",
   "mimetype": "text/x-python",
   "name": "python",
   "nbconvert_exporter": "python",
   "pygments_lexer": "ipython3",
   "version": "3.8.8"
  }
 },
 "nbformat": 4,
 "nbformat_minor": 5
}
