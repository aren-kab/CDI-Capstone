{
 "cells": [
  {
   "cell_type": "code",
   "execution_count": 1,
   "id": "threaded-chocolate",
   "metadata": {},
   "outputs": [],
   "source": [
    "import pandas as pd\n",
    "import numpy as np\n",
    "import datetime as dt\n",
    "import matplotlib\n",
    "import matplotlib.pyplot as plt\n",
    "import scipy.cluster.hierarchy as shc\n",
    "from sklearn.cluster import AgglomerativeClustering\n",
    "import os\n",
    "import seaborn as sns\n",
    "from sklearn.cluster import KMeans\n",
    "from scipy.spatial.distance import cdist, pdist\n",
    "from sklearn.datasets import make_classification\n",
    "from sklearn.datasets import make_blobs\n",
    "from sklearn.metrics import silhouette_samples, silhouette_score\n",
    "import matplotlib.cm as cm\n",
    "from sklearn.mixture import GaussianMixture\n",
    "from sklearn.cluster import DBSCAN\n",
    "from sklearn import preprocessing\n",
    "from sklearn.preprocessing import StandardScaler"
   ]
  },
  {
   "cell_type": "code",
   "execution_count": 2,
   "id": "technical-knight",
   "metadata": {},
   "outputs": [
    {
     "name": "stderr",
     "output_type": "stream",
     "text": [
      "C:\\Users\\akaba\\anaconda3\\lib\\site-packages\\IPython\\core\\interactiveshell.py:3165: DtypeWarning: Columns (30,31) have mixed types.Specify dtype option on import or set low_memory=False.\n",
      "  has_raised = await self.run_ast_nodes(code_ast.body, cell_name,\n"
     ]
    }
   ],
   "source": [
    "fileName = 'C:/Users/akaba/Downloads/usa_00009.csv'\n",
    "file = pd.read_csv(fileName)\n",
    "dfCDI = pd.DataFrame(file)"
   ]
  },
  {
   "cell_type": "code",
   "execution_count": 3,
   "id": "known-donor",
   "metadata": {},
   "outputs": [
    {
     "data": {
      "text/plain": [
       "(6086626, 38)"
      ]
     },
     "execution_count": 3,
     "metadata": {},
     "output_type": "execute_result"
    }
   ],
   "source": [
    "dfCDI.shape"
   ]
  },
  {
   "cell_type": "code",
   "execution_count": 4,
   "id": "proprietary-coral",
   "metadata": {},
   "outputs": [
    {
     "data": {
      "text/plain": [
       "(4199977, 38)"
      ]
     },
     "execution_count": 4,
     "metadata": {},
     "output_type": "execute_result"
    }
   ],
   "source": [
    "dfCDI = dfCDI[dfCDI['AGE']>=21]\n",
    "dfCDI.shape"
   ]
  },
  {
   "cell_type": "code",
   "execution_count": 5,
   "id": "similar-scope",
   "metadata": {},
   "outputs": [
    {
     "data": {
      "text/plain": [
       "count    2580898.0\n",
       "mean           0.0\n",
       "std            0.0\n",
       "min            0.0\n",
       "25%            0.0\n",
       "50%            0.0\n",
       "75%            0.0\n",
       "max            0.0\n",
       "Name: RENTGRS, dtype: float64"
      ]
     },
     "execution_count": 5,
     "metadata": {},
     "output_type": "execute_result"
    }
   ],
   "source": [
    "dfHomeOwn=dfCDI[dfCDI['OWNERSHP']==1]\n",
    "dfHomeOwn.RENTGRS.describe()"
   ]
  },
  {
   "cell_type": "code",
   "execution_count": 6,
   "id": "approximate-incidence",
   "metadata": {},
   "outputs": [
    {
     "data": {
      "text/plain": [
       "(4093964, 38)"
      ]
     },
     "execution_count": 6,
     "metadata": {},
     "output_type": "execute_result"
    }
   ],
   "source": [
    "dfCDI = dfCDI[dfCDI['OWNERSHP']!=0]\n",
    "dfCDI.shape"
   ]
  },
  {
   "cell_type": "code",
   "execution_count": 7,
   "id": "regulated-export",
   "metadata": {},
   "outputs": [],
   "source": [
    "dfCDI['affrentdec'] = dfCDI['RENTGRS']*12/dfCDI['HHINCOME']"
   ]
  },
  {
   "cell_type": "code",
   "execution_count": 8,
   "id": "homeless-surrey",
   "metadata": {},
   "outputs": [],
   "source": [
    "def housingFunc(own, affrentdec):\n",
    "    if own==1:\n",
    "        housingCat=2\n",
    "    elif own==2 and affrentdec<.3:\n",
    "        housingCat=1\n",
    "    else:\n",
    "        housingCat=0\n",
    "    return housingCat"
   ]
  },
  {
   "cell_type": "code",
   "execution_count": 9,
   "id": "spatial-wagner",
   "metadata": {},
   "outputs": [
    {
     "data": {
      "text/plain": [
       "2    2580898\n",
       "1     896373\n",
       "0     616693\n",
       "Name: HousingCat, dtype: int64"
      ]
     },
     "execution_count": 9,
     "metadata": {},
     "output_type": "execute_result"
    }
   ],
   "source": [
    "dfCDI['HousingCat'] = dfCDI.apply(lambda x: housingFunc(x['OWNERSHP'], x['affrentdec']), axis=1)\n",
    "dfCDI['HousingCat'].value_counts()"
   ]
  },
  {
   "cell_type": "code",
   "execution_count": 10,
   "id": "continuous-taylor",
   "metadata": {},
   "outputs": [
    {
     "data": {
      "text/plain": [
       "0    2687862\n",
       "1    1406102\n",
       "Name: EDUCbin, dtype: int64"
      ]
     },
     "execution_count": 10,
     "metadata": {},
     "output_type": "execute_result"
    }
   ],
   "source": [
    "dfCDI['EDUCbin'] = [1 if x >=8 else 0 for x in dfCDI['EDUC']]\n",
    "dfCDI['EDUCbin'].value_counts()"
   ]
  },
  {
   "cell_type": "code",
   "execution_count": 11,
   "id": "lightweight-sustainability",
   "metadata": {},
   "outputs": [
    {
     "data": {
      "text/plain": [
       "0      1938226\n",
       "15      328333\n",
       "30      311230\n",
       "20      310880\n",
       "10      273784\n",
       "        ...   \n",
       "117          2\n",
       "114          2\n",
       "126          1\n",
       "119          1\n",
       "118          1\n",
       "Name: TRANTIME, Length: 132, dtype: int64"
      ]
     },
     "execution_count": 11,
     "metadata": {},
     "output_type": "execute_result"
    }
   ],
   "source": [
    "dfCDI['TRANTIME'].value_counts()"
   ]
  },
  {
   "cell_type": "markdown",
   "id": "greenhouse-north",
   "metadata": {},
   "source": [
    "## Split by year"
   ]
  },
  {
   "cell_type": "code",
   "execution_count": 12,
   "id": "differential-australian",
   "metadata": {},
   "outputs": [
    {
     "data": {
      "text/plain": [
       "2010    1219545\n",
       "2000    1119919\n",
       "1990     980231\n",
       "1980     774269\n",
       "Name: YEAR, dtype: int64"
      ]
     },
     "execution_count": 12,
     "metadata": {},
     "output_type": "execute_result"
    }
   ],
   "source": [
    "dfCDI['YEAR'].value_counts()"
   ]
  },
  {
   "cell_type": "code",
   "execution_count": 13,
   "id": "amber-trigger",
   "metadata": {},
   "outputs": [],
   "source": [
    "df10=dfCDI[dfCDI['YEAR']==2010]\n",
    "df00=dfCDI[dfCDI['YEAR']==2000]\n",
    "df90=dfCDI[dfCDI['YEAR']==1990]\n",
    "df80=dfCDI[dfCDI['YEAR']==1980]"
   ]
  },
  {
   "cell_type": "code",
   "execution_count": 14,
   "id": "offensive-grove",
   "metadata": {},
   "outputs": [
    {
     "name": "stdout",
     "output_type": "stream",
     "text": [
      "39\n",
      "40\n",
      "37\n",
      "5\n",
      "19\n",
      "24\n",
      "23\n",
      "26\n"
     ]
    }
   ],
   "source": [
    "print(dfCDI.columns.get_loc(\"HousingCat\"))\n",
    "print(dfCDI.columns.get_loc(\"EDUCbin\"))\n",
    "print(dfCDI.columns.get_loc(\"TRANTIME\"))\n",
    "print(dfCDI.columns.get_loc(\"HHWT\"))\n",
    "print(dfCDI.columns.get_loc(\"HHINCOME\"))\n",
    "print(dfCDI.columns.get_loc(\"RACE\"))\n",
    "print(dfCDI.columns.get_loc(\"AGE\"))\n",
    "print(dfCDI.columns.get_loc(\"HISPAN\"))"
   ]
  },
  {
   "cell_type": "code",
   "execution_count": 15,
   "id": "23bf4222",
   "metadata": {},
   "outputs": [],
   "source": [
    "x10 = df10.iloc[:, [39,40,37,5,19,24,23,26]]\n",
    "x00 = df00.iloc[:, [39,40,37,5,19,24,23,26]]\n",
    "x90 = df90.iloc[:, [39,40,37,5,19,24,23,26]]\n",
    "x80 = df80.iloc[:, [39,40,37,5,19,24,23,26]]\n"
   ]
  },
  {
   "cell_type": "markdown",
   "id": "56a71472",
   "metadata": {},
   "source": [
    "## Scaling Values"
   ]
  },
  {
   "cell_type": "code",
   "execution_count": 16,
   "id": "03d2494f",
   "metadata": {},
   "outputs": [],
   "source": [
    "combined = [x10, x00,x90,x80]\n",
    "scaler=StandardScaler()\n",
    "scalerNum = scaler.fit(x10)\n",
    "scalerNum1 = scaler.fit(x00)\n",
    "scalerNum2 = scaler.fit(x90)\n",
    "scalerNum3 = scaler.fit(x80)\n",
    "\n",
    "xstd10 = scalerNum.transform(x10)\n",
    "xstd00 = scalerNum1.transform(x00)\n",
    "xstd90 = scalerNum2.transform(x90)\n",
    "xstd80 = scalerNum3.transform(x80)\n",
    "\n"
   ]
  },
  {
   "cell_type": "code",
   "execution_count": 17,
   "id": "0cbd6130",
   "metadata": {},
   "outputs": [],
   "source": [
    "dfX10 = pd.DataFrame(xstd10, columns=['HousingCat','EDUCbin','TRANTIME','HHWT','HHINCOME','RACE','AGE','HISPAN'])\n",
    "dfX00 = pd.DataFrame(xstd00, columns=['HousingCat','EDUCbin','TRANTIME','HHWT','HHINCOME','RACE','AGE','HISPAN'])\n",
    "dfX90 = pd.DataFrame(xstd90, columns=['HousingCat','EDUCbin','TRANTIME','HHWT','HHINCOME','RACE','AGE','HISPAN'])\n",
    "dfX80 = pd.DataFrame(xstd80, columns=['HousingCat','EDUCbin','TRANTIME','HHWT','HHINCOME','RACE','AGE','HISPAN'])"
   ]
  },
  {
   "cell_type": "code",
   "execution_count": 18,
   "id": "b17aaca0",
   "metadata": {},
   "outputs": [
    {
     "data": {
      "text/html": [
       "<div>\n",
       "<style scoped>\n",
       "    .dataframe tbody tr th:only-of-type {\n",
       "        vertical-align: middle;\n",
       "    }\n",
       "\n",
       "    .dataframe tbody tr th {\n",
       "        vertical-align: top;\n",
       "    }\n",
       "\n",
       "    .dataframe thead th {\n",
       "        text-align: right;\n",
       "    }\n",
       "</style>\n",
       "<table border=\"1\" class=\"dataframe\">\n",
       "  <thead>\n",
       "    <tr style=\"text-align: right;\">\n",
       "      <th></th>\n",
       "      <th>HousingCat</th>\n",
       "      <th>EDUCbin</th>\n",
       "      <th>TRANTIME</th>\n",
       "      <th>HHWT</th>\n",
       "      <th>HHINCOME</th>\n",
       "      <th>RACE</th>\n",
       "      <th>AGE</th>\n",
       "      <th>HISPAN</th>\n",
       "    </tr>\n",
       "  </thead>\n",
       "  <tbody>\n",
       "    <tr>\n",
       "      <th>count</th>\n",
       "      <td>1.219545e+06</td>\n",
       "      <td>1.219545e+06</td>\n",
       "      <td>1.219545e+06</td>\n",
       "      <td>1.219545e+06</td>\n",
       "      <td>1.219545e+06</td>\n",
       "      <td>1.219545e+06</td>\n",
       "      <td>1.219545e+06</td>\n",
       "      <td>1.219545e+06</td>\n",
       "    </tr>\n",
       "    <tr>\n",
       "      <th>mean</th>\n",
       "      <td>2.698073e-02</td>\n",
       "      <td>1.184473e-01</td>\n",
       "      <td>6.086986e-01</td>\n",
       "      <td>-4.556158e-01</td>\n",
       "      <td>4.254888e+00</td>\n",
       "      <td>1.018671e+00</td>\n",
       "      <td>2.701595e-01</td>\n",
       "      <td>2.251015e-01</td>\n",
       "    </tr>\n",
       "    <tr>\n",
       "      <th>std</th>\n",
       "      <td>1.047217e+00</td>\n",
       "      <td>1.032853e+00</td>\n",
       "      <td>1.544790e+00</td>\n",
       "      <td>1.247884e+01</td>\n",
       "      <td>5.497525e+00</td>\n",
       "      <td>2.116758e+00</td>\n",
       "      <td>1.005013e+00</td>\n",
       "      <td>1.196506e+00</td>\n",
       "    </tr>\n",
       "    <tr>\n",
       "      <th>min</th>\n",
       "      <td>-2.055204e+00</td>\n",
       "      <td>-7.154482e-01</td>\n",
       "      <td>-4.876382e-01</td>\n",
       "      <td>-1.900000e+01</td>\n",
       "      <td>-3.886748e+00</td>\n",
       "      <td>-3.232548e-01</td>\n",
       "      <td>-1.352563e+00</td>\n",
       "      <td>-3.346936e-01</td>\n",
       "    </tr>\n",
       "    <tr>\n",
       "      <th>25%</th>\n",
       "      <td>-6.702941e-01</td>\n",
       "      <td>-7.154482e-01</td>\n",
       "      <td>-4.876382e-01</td>\n",
       "      <td>-8.000000e+00</td>\n",
       "      <td>8.792385e-01</td>\n",
       "      <td>-3.232548e-01</td>\n",
       "      <td>-5.277294e-01</td>\n",
       "      <td>-3.346936e-01</td>\n",
       "    </tr>\n",
       "    <tr>\n",
       "      <th>50%</th>\n",
       "      <td>7.146155e-01</td>\n",
       "      <td>-7.154482e-01</td>\n",
       "      <td>2.215917e-01</td>\n",
       "      <td>-4.000000e+00</td>\n",
       "      <td>2.892476e+00</td>\n",
       "      <td>-3.232548e-01</td>\n",
       "      <td>1.792709e-01</td>\n",
       "      <td>-3.346936e-01</td>\n",
       "    </tr>\n",
       "    <tr>\n",
       "      <th>75%</th>\n",
       "      <td>7.146155e-01</td>\n",
       "      <td>1.397725e+00</td>\n",
       "      <td>1.285437e+00</td>\n",
       "      <td>3.000000e+00</td>\n",
       "      <td>5.802513e+00</td>\n",
       "      <td>2.312807e+00</td>\n",
       "      <td>9.451878e-01</td>\n",
       "      <td>9.831339e-01</td>\n",
       "    </tr>\n",
       "    <tr>\n",
       "      <th>max</th>\n",
       "      <td>7.146155e-01</td>\n",
       "      <td>1.397725e+00</td>\n",
       "      <td>1.213665e+01</td>\n",
       "      <td>1.970000e+02</td>\n",
       "      <td>1.228776e+02</td>\n",
       "      <td>6.706243e+00</td>\n",
       "      <td>2.889438e+00</td>\n",
       "      <td>4.936616e+00</td>\n",
       "    </tr>\n",
       "  </tbody>\n",
       "</table>\n",
       "</div>"
      ],
      "text/plain": [
       "         HousingCat       EDUCbin      TRANTIME          HHWT      HHINCOME  \\\n",
       "count  1.219545e+06  1.219545e+06  1.219545e+06  1.219545e+06  1.219545e+06   \n",
       "mean   2.698073e-02  1.184473e-01  6.086986e-01 -4.556158e-01  4.254888e+00   \n",
       "std    1.047217e+00  1.032853e+00  1.544790e+00  1.247884e+01  5.497525e+00   \n",
       "min   -2.055204e+00 -7.154482e-01 -4.876382e-01 -1.900000e+01 -3.886748e+00   \n",
       "25%   -6.702941e-01 -7.154482e-01 -4.876382e-01 -8.000000e+00  8.792385e-01   \n",
       "50%    7.146155e-01 -7.154482e-01  2.215917e-01 -4.000000e+00  2.892476e+00   \n",
       "75%    7.146155e-01  1.397725e+00  1.285437e+00  3.000000e+00  5.802513e+00   \n",
       "max    7.146155e-01  1.397725e+00  1.213665e+01  1.970000e+02  1.228776e+02   \n",
       "\n",
       "               RACE           AGE        HISPAN  \n",
       "count  1.219545e+06  1.219545e+06  1.219545e+06  \n",
       "mean   1.018671e+00  2.701595e-01  2.251015e-01  \n",
       "std    2.116758e+00  1.005013e+00  1.196506e+00  \n",
       "min   -3.232548e-01 -1.352563e+00 -3.346936e-01  \n",
       "25%   -3.232548e-01 -5.277294e-01 -3.346936e-01  \n",
       "50%   -3.232548e-01  1.792709e-01 -3.346936e-01  \n",
       "75%    2.312807e+00  9.451878e-01  9.831339e-01  \n",
       "max    6.706243e+00  2.889438e+00  4.936616e+00  "
      ]
     },
     "execution_count": 18,
     "metadata": {},
     "output_type": "execute_result"
    }
   ],
   "source": [
    "dfX10.describe()"
   ]
  },
  {
   "cell_type": "markdown",
   "id": "2ab36a1f",
   "metadata": {},
   "source": [
    "## Sillouette Score "
   ]
  },
  {
   "cell_type": "code",
   "execution_count": 19,
   "id": "d43defb4",
   "metadata": {},
   "outputs": [
    {
     "name": "stdout",
     "output_type": "stream",
     "text": [
      "For n_clusters = 2 the average silhouette_score is: 0.379972104671848\n",
      "For n_clusters = 3 the average silhouette_score is: 0.42522552812303527\n",
      "For n_clusters = 4 the average silhouette_score is: 0.4956516906960179\n",
      "For n_clusters = 5 the average silhouette_score is: 0.4964026673270734\n",
      "For n_clusters = 6 the average silhouette_score is: 0.5190494776707477\n",
      "For n_clusters = 7 the average silhouette_score is: 0.5589244595009485\n"
     ]
    }
   ],
   "source": [
    "#2010 \n",
    "for i in range(2,8):\n",
    "    km = KMeans(n_clusters = i, init = 'k-means++', random_state = 42)\n",
    "    cluster_labels = km.fit_predict(dfX10.iloc[:,0:3])\n",
    "    silhouette_avg = silhouette_score(dfX10.iloc[:,0:3], cluster_labels, metric='euclidean', sample_size = 10000, random_state=None)\n",
    "    print('For n_clusters = {} the average silhouette_score is: {}'.format(i, silhouette_avg))"
   ]
  },
  {
   "cell_type": "code",
   "execution_count": 20,
   "id": "68ec7b59",
   "metadata": {},
   "outputs": [
    {
     "name": "stdout",
     "output_type": "stream",
     "text": [
      "For n_clusters = 2 the average silhouette_score is: 0.4683660910335745\n",
      "For n_clusters = 3 the average silhouette_score is: 0.41914632739458657\n",
      "For n_clusters = 4 the average silhouette_score is: 0.46989731074359725\n",
      "For n_clusters = 5 the average silhouette_score is: 0.4844296534729795\n",
      "For n_clusters = 6 the average silhouette_score is: 0.5029266009679898\n",
      "For n_clusters = 7 the average silhouette_score is: 0.5244554266618882\n"
     ]
    }
   ],
   "source": [
    "#2000 \n",
    "for i in range(2,8):\n",
    "    km = KMeans(n_clusters = i, init = 'k-means++', random_state = 42)\n",
    "    cluster_labels = km.fit_predict(dfX00.iloc[:,0:3])\n",
    "    silhouette_avg = silhouette_score(dfX00.iloc[:,0:3], cluster_labels, metric='euclidean',sample_size = 10000, random_state=None)\n",
    "    print('For n_clusters = {} the average silhouette_score is: {}'.format(i, silhouette_avg))"
   ]
  },
  {
   "cell_type": "code",
   "execution_count": 21,
   "id": "d1ca3c50",
   "metadata": {},
   "outputs": [
    {
     "name": "stdout",
     "output_type": "stream",
     "text": [
      "For n_clusters = 2 the average silhouette_score is: 0.38192956745318163\n",
      "For n_clusters = 3 the average silhouette_score is: 0.3826124894246457\n",
      "For n_clusters = 4 the average silhouette_score is: 0.48327873620129275\n",
      "For n_clusters = 5 the average silhouette_score is: 0.4676416791278603\n",
      "For n_clusters = 6 the average silhouette_score is: 0.49089564438568395\n",
      "For n_clusters = 7 the average silhouette_score is: 0.5287299067919937\n"
     ]
    }
   ],
   "source": [
    "#1990 \n",
    "for i in range(2,8):\n",
    "    km = KMeans(n_clusters = i, init = 'k-means++', random_state = 42)\n",
    "    cluster_labels = km.fit_predict(dfX90.iloc[:,0:3])\n",
    "    silhouette_avg = silhouette_score(dfX90.iloc[:,0:3], cluster_labels, metric='euclidean',sample_size = 10000, random_state=None)\n",
    "    print('For n_clusters = {} the average silhouette_score is: {}'.format(i, silhouette_avg))"
   ]
  },
  {
   "cell_type": "code",
   "execution_count": 22,
   "id": "b9d30f35",
   "metadata": {},
   "outputs": [
    {
     "name": "stdout",
     "output_type": "stream",
     "text": [
      "For n_clusters = 2 the average silhouette_score is: 0.46601744117573246\n",
      "For n_clusters = 3 the average silhouette_score is: 0.534645786530011\n",
      "For n_clusters = 4 the average silhouette_score is: 0.5906270915964266\n",
      "For n_clusters = 5 the average silhouette_score is: 0.649522002182834\n",
      "For n_clusters = 6 the average silhouette_score is: 0.6877529227472043\n",
      "For n_clusters = 7 the average silhouette_score is: 0.7133677599674543\n"
     ]
    }
   ],
   "source": [
    "#1980 \n",
    "for i in range(2,8):\n",
    "    km = KMeans(n_clusters = i, init = 'k-means++', random_state = 42)\n",
    "    cluster_labels = km.fit_predict(dfX80.iloc[:,0:3])\n",
    "    silhouette_avg = silhouette_score(dfX80.iloc[:,0:3], cluster_labels, metric='euclidean',sample_size = 10000, random_state=None)\n",
    "    print('For n_clusters = {} the average silhouette_score is: {}'.format(i, silhouette_avg))"
   ]
  },
  {
   "cell_type": "markdown",
   "id": "83d8d587",
   "metadata": {},
   "source": [
    "## Clustering"
   ]
  },
  {
   "cell_type": "code",
   "execution_count": 23,
   "id": "80dadd93",
   "metadata": {},
   "outputs": [
    {
     "data": {
      "text/html": [
       "<div>\n",
       "<style scoped>\n",
       "    .dataframe tbody tr th:only-of-type {\n",
       "        vertical-align: middle;\n",
       "    }\n",
       "\n",
       "    .dataframe tbody tr th {\n",
       "        vertical-align: top;\n",
       "    }\n",
       "\n",
       "    .dataframe thead th {\n",
       "        text-align: right;\n",
       "    }\n",
       "</style>\n",
       "<table border=\"1\" class=\"dataframe\">\n",
       "  <thead>\n",
       "    <tr style=\"text-align: right;\">\n",
       "      <th></th>\n",
       "      <th>HousingCat</th>\n",
       "      <th>EDUCbin</th>\n",
       "      <th>TRANTIME</th>\n",
       "      <th>HHWT</th>\n",
       "      <th>HHINCOME</th>\n",
       "      <th>RACE</th>\n",
       "      <th>AGE</th>\n",
       "      <th>HISPAN</th>\n",
       "    </tr>\n",
       "    <tr>\n",
       "      <th>labels</th>\n",
       "      <th></th>\n",
       "      <th></th>\n",
       "      <th></th>\n",
       "      <th></th>\n",
       "      <th></th>\n",
       "      <th></th>\n",
       "      <th></th>\n",
       "      <th></th>\n",
       "    </tr>\n",
       "  </thead>\n",
       "  <tbody>\n",
       "    <tr>\n",
       "      <th>0</th>\n",
       "      <td>1.817284</td>\n",
       "      <td>1.000000</td>\n",
       "      <td>10.187277</td>\n",
       "      <td>18.153388</td>\n",
       "      <td>135327.480528</td>\n",
       "      <td>2.250903</td>\n",
       "      <td>49.693988</td>\n",
       "      <td>0.191892</td>\n",
       "    </tr>\n",
       "    <tr>\n",
       "      <th>1</th>\n",
       "      <td>2.000000</td>\n",
       "      <td>0.000000</td>\n",
       "      <td>5.256116</td>\n",
       "      <td>18.070190</td>\n",
       "      <td>84525.164762</td>\n",
       "      <td>2.404984</td>\n",
       "      <td>54.212776</td>\n",
       "      <td>0.454207</td>\n",
       "    </tr>\n",
       "    <tr>\n",
       "      <th>2</th>\n",
       "      <td>1.630236</td>\n",
       "      <td>0.376647</td>\n",
       "      <td>43.602320</td>\n",
       "      <td>20.131527</td>\n",
       "      <td>112677.657170</td>\n",
       "      <td>2.765354</td>\n",
       "      <td>43.002342</td>\n",
       "      <td>0.520042</td>\n",
       "    </tr>\n",
       "    <tr>\n",
       "      <th>3</th>\n",
       "      <td>1.586365</td>\n",
       "      <td>0.435933</td>\n",
       "      <td>104.843202</td>\n",
       "      <td>20.183933</td>\n",
       "      <td>110243.729933</td>\n",
       "      <td>2.605285</td>\n",
       "      <td>43.813685</td>\n",
       "      <td>0.496213</td>\n",
       "    </tr>\n",
       "    <tr>\n",
       "      <th>4</th>\n",
       "      <td>0.358800</td>\n",
       "      <td>0.153869</td>\n",
       "      <td>7.875345</td>\n",
       "      <td>22.795543</td>\n",
       "      <td>45031.443177</td>\n",
       "      <td>2.872322</td>\n",
       "      <td>43.778362</td>\n",
       "      <td>0.610990</td>\n",
       "    </tr>\n",
       "  </tbody>\n",
       "</table>\n",
       "</div>"
      ],
      "text/plain": [
       "        HousingCat   EDUCbin    TRANTIME       HHWT       HHINCOME      RACE  \\\n",
       "labels                                                                         \n",
       "0         1.817284  1.000000   10.187277  18.153388  135327.480528  2.250903   \n",
       "1         2.000000  0.000000    5.256116  18.070190   84525.164762  2.404984   \n",
       "2         1.630236  0.376647   43.602320  20.131527  112677.657170  2.765354   \n",
       "3         1.586365  0.435933  104.843202  20.183933  110243.729933  2.605285   \n",
       "4         0.358800  0.153869    7.875345  22.795543   45031.443177  2.872322   \n",
       "\n",
       "              AGE    HISPAN  \n",
       "labels                       \n",
       "0       49.693988  0.191892  \n",
       "1       54.212776  0.454207  \n",
       "2       43.002342  0.520042  \n",
       "3       43.813685  0.496213  \n",
       "4       43.778362  0.610990  "
      ]
     },
     "execution_count": 23,
     "metadata": {},
     "output_type": "execute_result"
    }
   ],
   "source": [
    "kmeans = KMeans(n_clusters = 5, init = 'k-means++', random_state = 42)\n",
    "kmeans.fit(dfX10.iloc[:,0:3])\n",
    "X10fin = scaler.inverse_transform(dfX10)\n",
    "dfX10fin = pd.DataFrame(X10fin, columns=['HousingCat','EDUCbin','TRANTIME','HHWT','HHINCOME','RACE','AGE','HISPAN'])\n",
    "dfX10fin['labels'] = kmeans.labels_\n",
    "cluster_sum10 = dfX10fin.groupby(by = 'labels').mean()\n",
    "cluster_sum10.head(5)\n"
   ]
  },
  {
   "cell_type": "code",
   "execution_count": 24,
   "id": "ffa11e94",
   "metadata": {},
   "outputs": [
    {
     "data": {
      "text/plain": [
       "<AxesSubplot:>"
      ]
     },
     "execution_count": 24,
     "metadata": {},
     "output_type": "execute_result"
    },
    {
     "data": {
      "image/png": "[encoded data removed]",
      "text/plain": [
       "<Figure size 1080x576 with 2 Axes>"
      ]
     },
     "metadata": {
      "needs_background": "light"
     },
     "output_type": "display_data"
    }
   ],
   "source": [
    "Xcorr10=dfX10fin.iloc[:, [0,1,2,3,4,5,6,7]]\n",
    "plt.subplots(figsize=(15,8))\n",
    "sns.heatmap(Xcorr10.corr(), annot = True)\n"
   ]
  },
  {
   "cell_type": "code",
   "execution_count": 25,
   "id": "1c81e483",
   "metadata": {},
   "outputs": [
    {
     "data": {
      "text/html": [
       "<div>\n",
       "<style scoped>\n",
       "    .dataframe tbody tr th:only-of-type {\n",
       "        vertical-align: middle;\n",
       "    }\n",
       "\n",
       "    .dataframe tbody tr th {\n",
       "        vertical-align: top;\n",
       "    }\n",
       "\n",
       "    .dataframe thead th {\n",
       "        text-align: right;\n",
       "    }\n",
       "</style>\n",
       "<table border=\"1\" class=\"dataframe\">\n",
       "  <thead>\n",
       "    <tr style=\"text-align: right;\">\n",
       "      <th></th>\n",
       "      <th>HousingCat</th>\n",
       "      <th>EDUCbin</th>\n",
       "      <th>TRANTIME</th>\n",
       "      <th>HHWT</th>\n",
       "      <th>HHINCOME</th>\n",
       "      <th>RACE</th>\n",
       "      <th>AGE</th>\n",
       "      <th>HISPAN</th>\n",
       "    </tr>\n",
       "    <tr>\n",
       "      <th>labels</th>\n",
       "      <th></th>\n",
       "      <th></th>\n",
       "      <th></th>\n",
       "      <th></th>\n",
       "      <th></th>\n",
       "      <th></th>\n",
       "      <th></th>\n",
       "      <th></th>\n",
       "    </tr>\n",
       "  </thead>\n",
       "  <tbody>\n",
       "    <tr>\n",
       "      <th>0</th>\n",
       "      <td>2.000000</td>\n",
       "      <td>0.000000</td>\n",
       "      <td>5.254506</td>\n",
       "      <td>19.414515</td>\n",
       "      <td>70220.220164</td>\n",
       "      <td>2.605164</td>\n",
       "      <td>51.984926</td>\n",
       "      <td>0.450892</td>\n",
       "    </tr>\n",
       "    <tr>\n",
       "      <th>1</th>\n",
       "      <td>1.771384</td>\n",
       "      <td>1.000000</td>\n",
       "      <td>11.474760</td>\n",
       "      <td>20.018845</td>\n",
       "      <td>109942.843099</td>\n",
       "      <td>2.185257</td>\n",
       "      <td>46.861450</td>\n",
       "      <td>0.169286</td>\n",
       "    </tr>\n",
       "    <tr>\n",
       "      <th>2</th>\n",
       "      <td>0.496251</td>\n",
       "      <td>0.098901</td>\n",
       "      <td>6.877630</td>\n",
       "      <td>20.356180</td>\n",
       "      <td>46808.401912</td>\n",
       "      <td>3.331018</td>\n",
       "      <td>41.258173</td>\n",
       "      <td>0.687184</td>\n",
       "    </tr>\n",
       "    <tr>\n",
       "      <th>3</th>\n",
       "      <td>1.507873</td>\n",
       "      <td>0.323089</td>\n",
       "      <td>146.915367</td>\n",
       "      <td>20.091673</td>\n",
       "      <td>85338.924754</td>\n",
       "      <td>2.818471</td>\n",
       "      <td>41.733611</td>\n",
       "      <td>0.543755</td>\n",
       "    </tr>\n",
       "    <tr>\n",
       "      <th>4</th>\n",
       "      <td>1.559551</td>\n",
       "      <td>0.310711</td>\n",
       "      <td>46.694928</td>\n",
       "      <td>20.151610</td>\n",
       "      <td>89114.032935</td>\n",
       "      <td>2.851822</td>\n",
       "      <td>40.370807</td>\n",
       "      <td>0.494625</td>\n",
       "    </tr>\n",
       "  </tbody>\n",
       "</table>\n",
       "</div>"
      ],
      "text/plain": [
       "        HousingCat   EDUCbin    TRANTIME       HHWT       HHINCOME      RACE  \\\n",
       "labels                                                                         \n",
       "0         2.000000  0.000000    5.254506  19.414515   70220.220164  2.605164   \n",
       "1         1.771384  1.000000   11.474760  20.018845  109942.843099  2.185257   \n",
       "2         0.496251  0.098901    6.877630  20.356180   46808.401912  3.331018   \n",
       "3         1.507873  0.323089  146.915367  20.091673   85338.924754  2.818471   \n",
       "4         1.559551  0.310711   46.694928  20.151610   89114.032935  2.851822   \n",
       "\n",
       "              AGE    HISPAN  \n",
       "labels                       \n",
       "0       51.984926  0.450892  \n",
       "1       46.861450  0.169286  \n",
       "2       41.258173  0.687184  \n",
       "3       41.733611  0.543755  \n",
       "4       40.370807  0.494625  "
      ]
     },
     "execution_count": 25,
     "metadata": {},
     "output_type": "execute_result"
    }
   ],
   "source": [
    "kmeans = KMeans(n_clusters = 5, init = 'k-means++', random_state = 42)\n",
    "kmeans.fit(dfX00.iloc[:,0:3])\n",
    "X00fin = scaler.inverse_transform(dfX00)\n",
    "dfX00fin = pd.DataFrame(X00fin, columns=['HousingCat','EDUCbin','TRANTIME','HHWT','HHINCOME','RACE','AGE','HISPAN'])\n",
    "dfX00fin['labels'] = kmeans.labels_\n",
    "cluster_sum00 = dfX00fin.groupby(by = 'labels').mean()\n",
    "cluster_sum00.head(5)\n"
   ]
  },
  {
   "cell_type": "code",
   "execution_count": 26,
   "id": "d9450ebf",
   "metadata": {},
   "outputs": [
    {
     "data": {
      "text/plain": [
       "<AxesSubplot:>"
      ]
     },
     "execution_count": 26,
     "metadata": {},
     "output_type": "execute_result"
    },
    {
     "data": {
      "image/png": "[encoded data removed]",
      "text/plain": [
       "<Figure size 1080x576 with 2 Axes>"
      ]
     },
     "metadata": {
      "needs_background": "light"
     },
     "output_type": "display_data"
    }
   ],
   "source": [
    "Xcorr00=dfX00fin.iloc[:, [0,1,2,3,4,5,6,7]]\n",
    "plt.subplots(figsize=(15,8))\n",
    "sns.heatmap(Xcorr00.corr(), annot = True)\n"
   ]
  },
  {
   "cell_type": "code",
   "execution_count": 27,
   "id": "6f27abef",
   "metadata": {},
   "outputs": [
    {
     "data": {
      "text/html": [
       "<div>\n",
       "<style scoped>\n",
       "    .dataframe tbody tr th:only-of-type {\n",
       "        vertical-align: middle;\n",
       "    }\n",
       "\n",
       "    .dataframe tbody tr th {\n",
       "        vertical-align: top;\n",
       "    }\n",
       "\n",
       "    .dataframe thead th {\n",
       "        text-align: right;\n",
       "    }\n",
       "</style>\n",
       "<table border=\"1\" class=\"dataframe\">\n",
       "  <thead>\n",
       "    <tr style=\"text-align: right;\">\n",
       "      <th></th>\n",
       "      <th>HousingCat</th>\n",
       "      <th>EDUCbin</th>\n",
       "      <th>TRANTIME</th>\n",
       "      <th>HHWT</th>\n",
       "      <th>HHINCOME</th>\n",
       "      <th>RACE</th>\n",
       "      <th>AGE</th>\n",
       "      <th>HISPAN</th>\n",
       "    </tr>\n",
       "    <tr>\n",
       "      <th>labels</th>\n",
       "      <th></th>\n",
       "      <th></th>\n",
       "      <th></th>\n",
       "      <th></th>\n",
       "      <th></th>\n",
       "      <th></th>\n",
       "      <th></th>\n",
       "      <th></th>\n",
       "    </tr>\n",
       "  </thead>\n",
       "  <tbody>\n",
       "    <tr>\n",
       "      <th>0</th>\n",
       "      <td>1.606807</td>\n",
       "      <td>0.462237</td>\n",
       "      <td>58.042470</td>\n",
       "      <td>20.400071</td>\n",
       "      <td>63001.077618</td>\n",
       "      <td>2.124509</td>\n",
       "      <td>39.212192</td>\n",
       "      <td>0.341546</td>\n",
       "    </tr>\n",
       "    <tr>\n",
       "      <th>1</th>\n",
       "      <td>1.640521</td>\n",
       "      <td>0.000000</td>\n",
       "      <td>23.308855</td>\n",
       "      <td>20.141234</td>\n",
       "      <td>54674.255810</td>\n",
       "      <td>2.384744</td>\n",
       "      <td>38.971023</td>\n",
       "      <td>0.445180</td>\n",
       "    </tr>\n",
       "    <tr>\n",
       "      <th>2</th>\n",
       "      <td>1.770163</td>\n",
       "      <td>1.000000</td>\n",
       "      <td>12.734500</td>\n",
       "      <td>19.961829</td>\n",
       "      <td>70935.422356</td>\n",
       "      <td>1.750533</td>\n",
       "      <td>43.856764</td>\n",
       "      <td>0.145314</td>\n",
       "    </tr>\n",
       "    <tr>\n",
       "      <th>3</th>\n",
       "      <td>1.746856</td>\n",
       "      <td>0.000000</td>\n",
       "      <td>2.019100</td>\n",
       "      <td>19.804447</td>\n",
       "      <td>44541.738522</td>\n",
       "      <td>2.068933</td>\n",
       "      <td>50.941637</td>\n",
       "      <td>0.333469</td>\n",
       "    </tr>\n",
       "    <tr>\n",
       "      <th>4</th>\n",
       "      <td>0.000000</td>\n",
       "      <td>0.183178</td>\n",
       "      <td>9.379891</td>\n",
       "      <td>22.045561</td>\n",
       "      <td>17151.566308</td>\n",
       "      <td>2.585498</td>\n",
       "      <td>40.231366</td>\n",
       "      <td>0.516268</td>\n",
       "    </tr>\n",
       "  </tbody>\n",
       "</table>\n",
       "</div>"
      ],
      "text/plain": [
       "        HousingCat   EDUCbin   TRANTIME       HHWT      HHINCOME      RACE  \\\n",
       "labels                                                                       \n",
       "0         1.606807  0.462237  58.042470  20.400071  63001.077618  2.124509   \n",
       "1         1.640521  0.000000  23.308855  20.141234  54674.255810  2.384744   \n",
       "2         1.770163  1.000000  12.734500  19.961829  70935.422356  1.750533   \n",
       "3         1.746856  0.000000   2.019100  19.804447  44541.738522  2.068933   \n",
       "4         0.000000  0.183178   9.379891  22.045561  17151.566308  2.585498   \n",
       "\n",
       "              AGE    HISPAN  \n",
       "labels                       \n",
       "0       39.212192  0.341546  \n",
       "1       38.971023  0.445180  \n",
       "2       43.856764  0.145314  \n",
       "3       50.941637  0.333469  \n",
       "4       40.231366  0.516268  "
      ]
     },
     "execution_count": 27,
     "metadata": {},
     "output_type": "execute_result"
    }
   ],
   "source": [
    "kmeans = KMeans(n_clusters = 5, init = 'k-means++', random_state = 42)\n",
    "kmeans.fit(dfX90.iloc[:,0:3])\n",
    "X90fin = scaler.inverse_transform(dfX90)\n",
    "dfX90fin = pd.DataFrame(X90fin, columns=['HousingCat','EDUCbin','TRANTIME','HHWT','HHINCOME','RACE','AGE','HISPAN'])\n",
    "dfX90fin['labels'] = kmeans.labels_\n",
    "cluster_sum90 = dfX90fin.groupby(by = 'labels').mean()\n",
    "cluster_sum90.head(5)\n"
   ]
  },
  {
   "cell_type": "code",
   "execution_count": 28,
   "id": "a1979f71",
   "metadata": {
    "scrolled": true
   },
   "outputs": [
    {
     "data": {
      "text/plain": [
       "<AxesSubplot:>"
      ]
     },
     "execution_count": 28,
     "metadata": {},
     "output_type": "execute_result"
    },
    {
     "data": {
      "image/png": "[encoded data removed]",
      "text/plain": [
       "<Figure size 1080x576 with 2 Axes>"
      ]
     },
     "metadata": {
      "needs_background": "light"
     },
     "output_type": "display_data"
    }
   ],
   "source": [
    "Xcorr90=dfX90fin.iloc[:, [0,1,2,3,4,5,6,7]]\n",
    "plt.subplots(figsize=(15,8))\n",
    "sns.heatmap(Xcorr90.corr(), annot = True)\n"
   ]
  },
  {
   "cell_type": "code",
   "execution_count": 29,
   "id": "ce37740e",
   "metadata": {},
   "outputs": [
    {
     "data": {
      "text/html": [
       "<div>\n",
       "<style scoped>\n",
       "    .dataframe tbody tr th:only-of-type {\n",
       "        vertical-align: middle;\n",
       "    }\n",
       "\n",
       "    .dataframe tbody tr th {\n",
       "        vertical-align: top;\n",
       "    }\n",
       "\n",
       "    .dataframe thead th {\n",
       "        text-align: right;\n",
       "    }\n",
       "</style>\n",
       "<table border=\"1\" class=\"dataframe\">\n",
       "  <thead>\n",
       "    <tr style=\"text-align: right;\">\n",
       "      <th></th>\n",
       "      <th>HousingCat</th>\n",
       "      <th>EDUCbin</th>\n",
       "      <th>TRANTIME</th>\n",
       "      <th>HHWT</th>\n",
       "      <th>HHINCOME</th>\n",
       "      <th>RACE</th>\n",
       "      <th>AGE</th>\n",
       "      <th>HISPAN</th>\n",
       "    </tr>\n",
       "    <tr>\n",
       "      <th>labels</th>\n",
       "      <th></th>\n",
       "      <th></th>\n",
       "      <th></th>\n",
       "      <th></th>\n",
       "      <th></th>\n",
       "      <th></th>\n",
       "      <th></th>\n",
       "      <th></th>\n",
       "    </tr>\n",
       "  </thead>\n",
       "  <tbody>\n",
       "    <tr>\n",
       "      <th>0</th>\n",
       "      <td>2.000000</td>\n",
       "      <td>0.000000</td>\n",
       "      <td>2.633039</td>\n",
       "      <td>20.0</td>\n",
       "      <td>25060.807258</td>\n",
       "      <td>1.292833</td>\n",
       "      <td>49.676606</td>\n",
       "      <td>0.237832</td>\n",
       "    </tr>\n",
       "    <tr>\n",
       "      <th>1</th>\n",
       "      <td>2.000000</td>\n",
       "      <td>1.000000</td>\n",
       "      <td>3.748936</td>\n",
       "      <td>20.0</td>\n",
       "      <td>34109.453680</td>\n",
       "      <td>1.369774</td>\n",
       "      <td>43.745420</td>\n",
       "      <td>0.122260</td>\n",
       "    </tr>\n",
       "    <tr>\n",
       "      <th>2</th>\n",
       "      <td>0.615654</td>\n",
       "      <td>0.000000</td>\n",
       "      <td>3.296933</td>\n",
       "      <td>20.0</td>\n",
       "      <td>15412.601806</td>\n",
       "      <td>1.411451</td>\n",
       "      <td>40.914704</td>\n",
       "      <td>0.406046</td>\n",
       "    </tr>\n",
       "    <tr>\n",
       "      <th>3</th>\n",
       "      <td>1.624630</td>\n",
       "      <td>0.437045</td>\n",
       "      <td>43.264693</td>\n",
       "      <td>20.0</td>\n",
       "      <td>29523.650504</td>\n",
       "      <td>1.440235</td>\n",
       "      <td>39.368605</td>\n",
       "      <td>0.276650</td>\n",
       "    </tr>\n",
       "    <tr>\n",
       "      <th>4</th>\n",
       "      <td>0.650566</td>\n",
       "      <td>1.000000</td>\n",
       "      <td>4.479624</td>\n",
       "      <td>20.0</td>\n",
       "      <td>19385.336633</td>\n",
       "      <td>1.460412</td>\n",
       "      <td>35.560739</td>\n",
       "      <td>0.176117</td>\n",
       "    </tr>\n",
       "  </tbody>\n",
       "</table>\n",
       "</div>"
      ],
      "text/plain": [
       "        HousingCat   EDUCbin   TRANTIME  HHWT      HHINCOME      RACE  \\\n",
       "labels                                                                  \n",
       "0         2.000000  0.000000   2.633039  20.0  25060.807258  1.292833   \n",
       "1         2.000000  1.000000   3.748936  20.0  34109.453680  1.369774   \n",
       "2         0.615654  0.000000   3.296933  20.0  15412.601806  1.411451   \n",
       "3         1.624630  0.437045  43.264693  20.0  29523.650504  1.440235   \n",
       "4         0.650566  1.000000   4.479624  20.0  19385.336633  1.460412   \n",
       "\n",
       "              AGE    HISPAN  \n",
       "labels                       \n",
       "0       49.676606  0.237832  \n",
       "1       43.745420  0.122260  \n",
       "2       40.914704  0.406046  \n",
       "3       39.368605  0.276650  \n",
       "4       35.560739  0.176117  "
      ]
     },
     "execution_count": 29,
     "metadata": {},
     "output_type": "execute_result"
    }
   ],
   "source": [
    "kmeans = KMeans(n_clusters = 5, init = 'k-means++', random_state = 42)\n",
    "kmeans.fit(dfX80.iloc[:,0:3])\n",
    "X80fin = scaler.inverse_transform(dfX80)\n",
    "dfX80fin = pd.DataFrame(X80fin, columns=['HousingCat','EDUCbin','TRANTIME','HHWT','HHINCOME','RACE','AGE','HISPAN'])\n",
    "dfX80fin['labels'] = kmeans.labels_\n",
    "cluster_sum80 = dfX80fin.groupby(by = 'labels').mean()\n",
    "cluster_sum80.head(5)\n"
   ]
  },
  {
   "cell_type": "code",
   "execution_count": 30,
   "id": "c3a6dbff",
   "metadata": {},
   "outputs": [
    {
     "data": {
      "text/plain": [
       "<AxesSubplot:>"
      ]
     },
     "execution_count": 30,
     "metadata": {},
     "output_type": "execute_result"
    },
    {
     "data": {
      "image/png": "[encoded data removed]",
      "text/plain": [
       "<Figure size 1080x576 with 2 Axes>"
      ]
     },
     "metadata": {
      "needs_background": "light"
     },
     "output_type": "display_data"
    }
   ],
   "source": [
    "Xcorr80=dfX80fin.iloc[:, [0,1,2,3,4,5,6,7]]\n",
    "plt.subplots(figsize=(15,8))\n",
    "sns.heatmap(Xcorr80.corr(), annot = True)\n"
   ]
  }
 ],
 "metadata": {
  "kernelspec": {
   "display_name": "Python 3",
   "language": "python",
   "name": "python3"
  },
  "language_info": {
   "codemirror_mode": {
    "name": "ipython",
    "version": 3
   },
   "file_extension": ".py",
   "mimetype": "text/x-python",
   "name": "python",
   "nbconvert_exporter": "python",
   "pygments_lexer": "ipython3",
   "version": "3.8.8"
  }
 },
 "nbformat": 4,
 "nbformat_minor": 5
}
