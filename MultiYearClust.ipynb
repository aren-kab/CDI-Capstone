{
 "cells": [
  {
   "cell_type": "code",
   "execution_count": 1,
   "id": "threaded-chocolate",
   "metadata": {},
   "outputs": [],
   "source": [
    "import pandas as pd\n",
    "import numpy as np\n",
    "import datetime as dt\n",
    "import matplotlib\n",
    "import matplotlib.pyplot as plt\n",
    "import scipy.cluster.hierarchy as shc\n",
    "from sklearn.cluster import AgglomerativeClustering\n",
    "import os\n",
    "import seaborn as sns\n",
    "from sklearn.cluster import KMeans\n",
    "from scipy.spatial.distance import cdist, pdist\n",
    "from sklearn.datasets import make_classification\n",
    "from sklearn.datasets import make_blobs\n",
    "from sklearn.metrics import silhouette_samples, silhouette_score\n",
    "import matplotlib.cm as cm\n",
    "from sklearn.mixture import GaussianMixture\n",
    "from sklearn.cluster import DBSCAN\n",
    "from sklearn import preprocessing\n",
    "from sklearn.preprocessing import StandardScaler"
   ]
  },
  {
   "cell_type": "code",
   "execution_count": 2,
   "id": "technical-knight",
   "metadata": {},
   "outputs": [
    {
     "name": "stderr",
     "output_type": "stream",
     "text": [
      "C:\\Users\\akaba\\anaconda3\\lib\\site-packages\\IPython\\core\\interactiveshell.py:3165: DtypeWarning: Columns (30,31) have mixed types.Specify dtype option on import or set low_memory=False.\n",
      "  has_raised = await self.run_ast_nodes(code_ast.body, cell_name,\n"
     ]
    }
   ],
   "source": [
    "fileName = 'C:/Users/akaba/Downloads/usa_00009.csv'\n",
    "file = pd.read_csv(fileName)\n",
    "dfCDI = pd.DataFrame(file)"
   ]
  },
  {
   "cell_type": "code",
   "execution_count": 3,
   "id": "known-donor",
   "metadata": {},
   "outputs": [
    {
     "data": {
      "text/plain": [
       "(6086626, 38)"
      ]
     },
     "execution_count": 3,
     "metadata": {},
     "output_type": "execute_result"
    }
   ],
   "source": [
    "dfCDI.shape"
   ]
  },
  {
   "cell_type": "code",
   "execution_count": 4,
   "id": "proprietary-coral",
   "metadata": {},
   "outputs": [
    {
     "data": {
      "text/plain": [
       "(4199977, 38)"
      ]
     },
     "execution_count": 4,
     "metadata": {},
     "output_type": "execute_result"
    }
   ],
   "source": [
    "dfCDI = dfCDI[dfCDI['AGE']>=21]\n",
    "dfCDI.shape"
   ]
  },
  {
   "cell_type": "code",
   "execution_count": 5,
   "id": "similar-scope",
   "metadata": {},
   "outputs": [
    {
     "data": {
      "text/plain": [
       "count    2580898.0\n",
       "mean           0.0\n",
       "std            0.0\n",
       "min            0.0\n",
       "25%            0.0\n",
       "50%            0.0\n",
       "75%            0.0\n",
       "max            0.0\n",
       "Name: RENTGRS, dtype: float64"
      ]
     },
     "execution_count": 5,
     "metadata": {},
     "output_type": "execute_result"
    }
   ],
   "source": [
    "dfHomeOwn=dfCDI[dfCDI['OWNERSHP']==1]\n",
    "dfHomeOwn.RENTGRS.describe()"
   ]
  },
  {
   "cell_type": "code",
   "execution_count": 6,
   "id": "approximate-incidence",
   "metadata": {},
   "outputs": [
    {
     "data": {
      "text/plain": [
       "(4093964, 38)"
      ]
     },
     "execution_count": 6,
     "metadata": {},
     "output_type": "execute_result"
    }
   ],
   "source": [
    "dfCDI = dfCDI[dfCDI['OWNERSHP']!=0]\n",
    "dfCDI.shape"
   ]
  },
  {
   "cell_type": "code",
   "execution_count": 7,
   "id": "regulated-export",
   "metadata": {},
   "outputs": [],
   "source": [
    "dfCDI['affrentdec'] = dfCDI['RENTGRS']*12/dfCDI['HHINCOME']"
   ]
  },
  {
   "cell_type": "code",
   "execution_count": 8,
   "id": "homeless-surrey",
   "metadata": {},
   "outputs": [],
   "source": [
    "def housingFunc(own, affrentdec):\n",
    "    if own==1:\n",
    "        housingCat=2\n",
    "    elif own==2 and affrentdec<.3:\n",
    "        housingCat=1\n",
    "    else:\n",
    "        housingCat=0\n",
    "    return housingCat"
   ]
  },
  {
   "cell_type": "code",
   "execution_count": 9,
   "id": "spatial-wagner",
   "metadata": {},
   "outputs": [
    {
     "data": {
      "text/plain": [
       "2    2580898\n",
       "1     896373\n",
       "0     616693\n",
       "Name: HousingCat, dtype: int64"
      ]
     },
     "execution_count": 9,
     "metadata": {},
     "output_type": "execute_result"
    }
   ],
   "source": [
    "dfCDI['HousingCat'] = dfCDI.apply(lambda x: housingFunc(x['OWNERSHP'], x['affrentdec']), axis=1)\n",
    "dfCDI['HousingCat'].value_counts()"
   ]
  },
  {
   "cell_type": "code",
   "execution_count": 10,
   "id": "continuous-taylor",
   "metadata": {},
   "outputs": [
    {
     "data": {
      "text/plain": [
       "0    2687862\n",
       "1    1406102\n",
       "Name: EDUCbin, dtype: int64"
      ]
     },
     "execution_count": 10,
     "metadata": {},
     "output_type": "execute_result"
    }
   ],
   "source": [
    "dfCDI['EDUCbin'] = [1 if x >=8 else 0 for x in dfCDI['EDUC']]\n",
    "dfCDI['EDUCbin'].value_counts()"
   ]
  },
  {
   "cell_type": "code",
   "execution_count": 11,
   "id": "lightweight-sustainability",
   "metadata": {},
   "outputs": [
    {
     "data": {
      "text/plain": [
       "0      1938226\n",
       "15      328333\n",
       "30      311230\n",
       "20      310880\n",
       "10      273784\n",
       "        ...   \n",
       "117          2\n",
       "114          2\n",
       "126          1\n",
       "119          1\n",
       "118          1\n",
       "Name: TRANTIME, Length: 132, dtype: int64"
      ]
     },
     "execution_count": 11,
     "metadata": {},
     "output_type": "execute_result"
    }
   ],
   "source": [
    "dfCDI['TRANTIME'].value_counts()"
   ]
  },
  {
   "cell_type": "markdown",
   "id": "greenhouse-north",
   "metadata": {},
   "source": [
    "## Split by year"
   ]
  },
  {
   "cell_type": "code",
   "execution_count": 12,
   "id": "differential-australian",
   "metadata": {},
   "outputs": [
    {
     "data": {
      "text/plain": [
       "2010    1219545\n",
       "2000    1119919\n",
       "1990     980231\n",
       "1980     774269\n",
       "Name: YEAR, dtype: int64"
      ]
     },
     "execution_count": 12,
     "metadata": {},
     "output_type": "execute_result"
    }
   ],
   "source": [
    "dfCDI['YEAR'].value_counts()"
   ]
  },
  {
   "cell_type": "code",
   "execution_count": 13,
   "id": "amber-trigger",
   "metadata": {},
   "outputs": [],
   "source": [
    "df10=dfCDI[dfCDI['YEAR']==2010]\n",
    "df00=dfCDI[dfCDI['YEAR']==2000]\n",
    "df90=dfCDI[dfCDI['YEAR']==1990]\n",
    "df80=dfCDI[dfCDI['YEAR']==1980]"
   ]
  },
  {
   "cell_type": "code",
   "execution_count": 14,
   "id": "offensive-grove",
   "metadata": {},
   "outputs": [
    {
     "name": "stdout",
     "output_type": "stream",
     "text": [
      "39\n",
      "40\n",
      "37\n",
      "5\n",
      "19\n",
      "24\n",
      "23\n",
      "26\n"
     ]
    }
   ],
   "source": [
    "print(dfCDI.columns.get_loc(\"HousingCat\"))\n",
    "print(dfCDI.columns.get_loc(\"EDUCbin\"))\n",
    "print(dfCDI.columns.get_loc(\"TRANTIME\"))\n",
    "print(dfCDI.columns.get_loc(\"HHWT\"))\n",
    "print(dfCDI.columns.get_loc(\"HHINCOME\"))\n",
    "print(dfCDI.columns.get_loc(\"RACE\"))\n",
    "print(dfCDI.columns.get_loc(\"AGE\"))\n",
    "print(dfCDI.columns.get_loc(\"HISPAN\"))"
   ]
  },
  {
   "cell_type": "code",
   "execution_count": 15,
   "id": "92bfbc35",
   "metadata": {},
   "outputs": [],
   "source": [
    "x10 = df10.iloc[:, [39,40,37,5,19,24,23,26]]\n",
    "x00 = df00.iloc[:, [39,40,37,5,19,24,23,26]]\n",
    "x90 = df90.iloc[:, [39,40,37,5,19,24,23,26]]\n",
    "x80 = df80.iloc[:, [39,40,37,5,19,24,23,26]]\n"
   ]
  },
  {
   "cell_type": "code",
   "execution_count": 16,
   "id": "541c9f2c",
   "metadata": {},
   "outputs": [],
   "source": [
    "combined = [x10, x00,x90,x80]\n",
    "scaler=StandardScaler()\n",
    "scalerNum = scaler.fit(x10)\n",
    "scalerNum1 = scaler.fit(x00)\n",
    "scalerNum2 = scaler.fit(x90)\n",
    "scalerNum3 = scaler.fit(x80)\n",
    "\n",
    "xstd10 = scalerNum.transform(x10)\n",
    "xstd00 = scalerNum1.transform(x00)\n",
    "xstd90 = scalerNum2.transform(x90)\n",
    "xstd80 = scalerNum3.transform(x80)\n",
    "\n"
   ]
  },
  {
   "cell_type": "code",
   "execution_count": 17,
   "id": "2b86b471",
   "metadata": {},
   "outputs": [],
   "source": [
    "dfX10 = pd.DataFrame(xstd10, columns=['HousingCat','EDUCbin','TRANTIME','HHWT','HHINCOME','RACE','AGE','HISPAN'])\n",
    "dfX00 = pd.DataFrame(xstd00, columns=['HousingCat','EDUCbin','TRANTIME','HHWT','HHINCOME','RACE','AGE','HISPAN'])\n",
    "dfX90 = pd.DataFrame(xstd90, columns=['HousingCat','EDUCbin','TRANTIME','HHWT','HHINCOME','RACE','AGE','HISPAN'])\n",
    "dfX80 = pd.DataFrame(xstd80, columns=['HousingCat','EDUCbin','TRANTIME','HHWT','HHINCOME','RACE','AGE','HISPAN'])"
   ]
  },
  {
   "cell_type": "code",
   "execution_count": 18,
   "id": "363b9757",
   "metadata": {},
   "outputs": [
    {
     "data": {
      "text/html": [
       "<div>\n",
       "<style scoped>\n",
       "    .dataframe tbody tr th:only-of-type {\n",
       "        vertical-align: middle;\n",
       "    }\n",
       "\n",
       "    .dataframe tbody tr th {\n",
       "        vertical-align: top;\n",
       "    }\n",
       "\n",
       "    .dataframe thead th {\n",
       "        text-align: right;\n",
       "    }\n",
       "</style>\n",
       "<table border=\"1\" class=\"dataframe\">\n",
       "  <thead>\n",
       "    <tr style=\"text-align: right;\">\n",
       "      <th></th>\n",
       "      <th>HousingCat</th>\n",
       "      <th>EDUCbin</th>\n",
       "      <th>TRANTIME</th>\n",
       "      <th>HHWT</th>\n",
       "      <th>HHINCOME</th>\n",
       "      <th>RACE</th>\n",
       "      <th>AGE</th>\n",
       "      <th>HISPAN</th>\n",
       "    </tr>\n",
       "  </thead>\n",
       "  <tbody>\n",
       "    <tr>\n",
       "      <th>count</th>\n",
       "      <td>1.219545e+06</td>\n",
       "      <td>1.219545e+06</td>\n",
       "      <td>1.219545e+06</td>\n",
       "      <td>1.219545e+06</td>\n",
       "      <td>1.219545e+06</td>\n",
       "      <td>1.219545e+06</td>\n",
       "      <td>1.219545e+06</td>\n",
       "      <td>1.219545e+06</td>\n",
       "    </tr>\n",
       "    <tr>\n",
       "      <th>mean</th>\n",
       "      <td>2.698073e-02</td>\n",
       "      <td>1.184473e-01</td>\n",
       "      <td>6.086986e-01</td>\n",
       "      <td>-4.556158e-01</td>\n",
       "      <td>4.254888e+00</td>\n",
       "      <td>1.018671e+00</td>\n",
       "      <td>2.701595e-01</td>\n",
       "      <td>2.251015e-01</td>\n",
       "    </tr>\n",
       "    <tr>\n",
       "      <th>std</th>\n",
       "      <td>1.047217e+00</td>\n",
       "      <td>1.032853e+00</td>\n",
       "      <td>1.544790e+00</td>\n",
       "      <td>1.247884e+01</td>\n",
       "      <td>5.497525e+00</td>\n",
       "      <td>2.116758e+00</td>\n",
       "      <td>1.005013e+00</td>\n",
       "      <td>1.196506e+00</td>\n",
       "    </tr>\n",
       "    <tr>\n",
       "      <th>min</th>\n",
       "      <td>-2.055204e+00</td>\n",
       "      <td>-7.154482e-01</td>\n",
       "      <td>-4.876382e-01</td>\n",
       "      <td>-1.900000e+01</td>\n",
       "      <td>-3.886748e+00</td>\n",
       "      <td>-3.232548e-01</td>\n",
       "      <td>-1.352563e+00</td>\n",
       "      <td>-3.346936e-01</td>\n",
       "    </tr>\n",
       "    <tr>\n",
       "      <th>25%</th>\n",
       "      <td>-6.702941e-01</td>\n",
       "      <td>-7.154482e-01</td>\n",
       "      <td>-4.876382e-01</td>\n",
       "      <td>-8.000000e+00</td>\n",
       "      <td>8.792385e-01</td>\n",
       "      <td>-3.232548e-01</td>\n",
       "      <td>-5.277294e-01</td>\n",
       "      <td>-3.346936e-01</td>\n",
       "    </tr>\n",
       "    <tr>\n",
       "      <th>50%</th>\n",
       "      <td>7.146155e-01</td>\n",
       "      <td>-7.154482e-01</td>\n",
       "      <td>2.215917e-01</td>\n",
       "      <td>-4.000000e+00</td>\n",
       "      <td>2.892476e+00</td>\n",
       "      <td>-3.232548e-01</td>\n",
       "      <td>1.792709e-01</td>\n",
       "      <td>-3.346936e-01</td>\n",
       "    </tr>\n",
       "    <tr>\n",
       "      <th>75%</th>\n",
       "      <td>7.146155e-01</td>\n",
       "      <td>1.397725e+00</td>\n",
       "      <td>1.285437e+00</td>\n",
       "      <td>3.000000e+00</td>\n",
       "      <td>5.802513e+00</td>\n",
       "      <td>2.312807e+00</td>\n",
       "      <td>9.451878e-01</td>\n",
       "      <td>9.831339e-01</td>\n",
       "    </tr>\n",
       "    <tr>\n",
       "      <th>max</th>\n",
       "      <td>7.146155e-01</td>\n",
       "      <td>1.397725e+00</td>\n",
       "      <td>1.213665e+01</td>\n",
       "      <td>1.970000e+02</td>\n",
       "      <td>1.228776e+02</td>\n",
       "      <td>6.706243e+00</td>\n",
       "      <td>2.889438e+00</td>\n",
       "      <td>4.936616e+00</td>\n",
       "    </tr>\n",
       "  </tbody>\n",
       "</table>\n",
       "</div>"
      ],
      "text/plain": [
       "         HousingCat       EDUCbin      TRANTIME          HHWT      HHINCOME  \\\n",
       "count  1.219545e+06  1.219545e+06  1.219545e+06  1.219545e+06  1.219545e+06   \n",
       "mean   2.698073e-02  1.184473e-01  6.086986e-01 -4.556158e-01  4.254888e+00   \n",
       "std    1.047217e+00  1.032853e+00  1.544790e+00  1.247884e+01  5.497525e+00   \n",
       "min   -2.055204e+00 -7.154482e-01 -4.876382e-01 -1.900000e+01 -3.886748e+00   \n",
       "25%   -6.702941e-01 -7.154482e-01 -4.876382e-01 -8.000000e+00  8.792385e-01   \n",
       "50%    7.146155e-01 -7.154482e-01  2.215917e-01 -4.000000e+00  2.892476e+00   \n",
       "75%    7.146155e-01  1.397725e+00  1.285437e+00  3.000000e+00  5.802513e+00   \n",
       "max    7.146155e-01  1.397725e+00  1.213665e+01  1.970000e+02  1.228776e+02   \n",
       "\n",
       "               RACE           AGE        HISPAN  \n",
       "count  1.219545e+06  1.219545e+06  1.219545e+06  \n",
       "mean   1.018671e+00  2.701595e-01  2.251015e-01  \n",
       "std    2.116758e+00  1.005013e+00  1.196506e+00  \n",
       "min   -3.232548e-01 -1.352563e+00 -3.346936e-01  \n",
       "25%   -3.232548e-01 -5.277294e-01 -3.346936e-01  \n",
       "50%   -3.232548e-01  1.792709e-01 -3.346936e-01  \n",
       "75%    2.312807e+00  9.451878e-01  9.831339e-01  \n",
       "max    6.706243e+00  2.889438e+00  4.936616e+00  "
      ]
     },
     "execution_count": 18,
     "metadata": {},
     "output_type": "execute_result"
    }
   ],
   "source": [
    "dfX10.describe()"
   ]
  },
  {
   "cell_type": "code",
   "execution_count": 19,
   "id": "8eca1d5d",
   "metadata": {},
   "outputs": [],
   "source": [
    "# #7 clusters for now\n",
    "# for i in range(3,10):\n",
    "#     km = KMeans(n_clusters = i, init = 'k-means++', random_state = 42)\n",
    "#     cluster_labels = km.fit_predict(dfX.iloc[:,0:8])\n",
    "#     silhouette_avg = silhouette_score(dfX.iloc[:,0:8], cluster_labels, metric='euclidean',sample_size = 10000, random_state=None)\n",
    "#     print('For n_clusters = {} the average silhouette_score is: {}'.format(i, silhouette_avg))"
   ]
  },
  {
   "cell_type": "code",
   "execution_count": 20,
   "id": "f6991e06",
   "metadata": {},
   "outputs": [
    {
     "data": {
      "text/html": [
       "<div>\n",
       "<style scoped>\n",
       "    .dataframe tbody tr th:only-of-type {\n",
       "        vertical-align: middle;\n",
       "    }\n",
       "\n",
       "    .dataframe tbody tr th {\n",
       "        vertical-align: top;\n",
       "    }\n",
       "\n",
       "    .dataframe thead th {\n",
       "        text-align: right;\n",
       "    }\n",
       "</style>\n",
       "<table border=\"1\" class=\"dataframe\">\n",
       "  <thead>\n",
       "    <tr style=\"text-align: right;\">\n",
       "      <th></th>\n",
       "      <th>HousingCat</th>\n",
       "      <th>EDUCbin</th>\n",
       "      <th>TRANTIME</th>\n",
       "      <th>HHWT</th>\n",
       "      <th>HHINCOME</th>\n",
       "      <th>RACE</th>\n",
       "      <th>AGE</th>\n",
       "      <th>HISPAN</th>\n",
       "    </tr>\n",
       "    <tr>\n",
       "      <th>labels</th>\n",
       "      <th></th>\n",
       "      <th></th>\n",
       "      <th></th>\n",
       "      <th></th>\n",
       "      <th></th>\n",
       "      <th></th>\n",
       "      <th></th>\n",
       "      <th></th>\n",
       "    </tr>\n",
       "  </thead>\n",
       "  <tbody>\n",
       "    <tr>\n",
       "      <th>0</th>\n",
       "      <td>1.584885</td>\n",
       "      <td>0.000000</td>\n",
       "      <td>39.112249</td>\n",
       "      <td>20.772176</td>\n",
       "      <td>91776.175001</td>\n",
       "      <td>2.890375</td>\n",
       "      <td>42.510348</td>\n",
       "      <td>0.684975</td>\n",
       "    </tr>\n",
       "    <tr>\n",
       "      <th>1</th>\n",
       "      <td>2.000000</td>\n",
       "      <td>0.000000</td>\n",
       "      <td>4.534854</td>\n",
       "      <td>18.038779</td>\n",
       "      <td>83888.948144</td>\n",
       "      <td>2.393543</td>\n",
       "      <td>54.551295</td>\n",
       "      <td>0.450084</td>\n",
       "    </tr>\n",
       "    <tr>\n",
       "      <th>2</th>\n",
       "      <td>1.835803</td>\n",
       "      <td>1.000000</td>\n",
       "      <td>35.199632</td>\n",
       "      <td>18.506852</td>\n",
       "      <td>152234.151763</td>\n",
       "      <td>2.499125</td>\n",
       "      <td>44.800647</td>\n",
       "      <td>0.225673</td>\n",
       "    </tr>\n",
       "    <tr>\n",
       "      <th>3</th>\n",
       "      <td>0.551149</td>\n",
       "      <td>1.000000</td>\n",
       "      <td>10.080361</td>\n",
       "      <td>21.390583</td>\n",
       "      <td>76692.550884</td>\n",
       "      <td>2.554073</td>\n",
       "      <td>41.746564</td>\n",
       "      <td>0.256409</td>\n",
       "    </tr>\n",
       "    <tr>\n",
       "      <th>4</th>\n",
       "      <td>0.416891</td>\n",
       "      <td>0.000000</td>\n",
       "      <td>7.009557</td>\n",
       "      <td>22.995821</td>\n",
       "      <td>46030.139842</td>\n",
       "      <td>2.934847</td>\n",
       "      <td>44.125558</td>\n",
       "      <td>0.668390</td>\n",
       "    </tr>\n",
       "    <tr>\n",
       "      <th>5</th>\n",
       "      <td>2.000000</td>\n",
       "      <td>1.000000</td>\n",
       "      <td>4.122929</td>\n",
       "      <td>17.327627</td>\n",
       "      <td>134809.310267</td>\n",
       "      <td>2.074267</td>\n",
       "      <td>53.731095</td>\n",
       "      <td>0.167835</td>\n",
       "    </tr>\n",
       "    <tr>\n",
       "      <th>6</th>\n",
       "      <td>1.581883</td>\n",
       "      <td>0.437511</td>\n",
       "      <td>104.737919</td>\n",
       "      <td>20.186740</td>\n",
       "      <td>110057.834072</td>\n",
       "      <td>2.605566</td>\n",
       "      <td>43.797589</td>\n",
       "      <td>0.495834</td>\n",
       "    </tr>\n",
       "  </tbody>\n",
       "</table>\n",
       "</div>"
      ],
      "text/plain": [
       "        HousingCat   EDUCbin    TRANTIME       HHWT       HHINCOME      RACE  \\\n",
       "labels                                                                         \n",
       "0         1.584885  0.000000   39.112249  20.772176   91776.175001  2.890375   \n",
       "1         2.000000  0.000000    4.534854  18.038779   83888.948144  2.393543   \n",
       "2         1.835803  1.000000   35.199632  18.506852  152234.151763  2.499125   \n",
       "3         0.551149  1.000000   10.080361  21.390583   76692.550884  2.554073   \n",
       "4         0.416891  0.000000    7.009557  22.995821   46030.139842  2.934847   \n",
       "5         2.000000  1.000000    4.122929  17.327627  134809.310267  2.074267   \n",
       "6         1.581883  0.437511  104.737919  20.186740  110057.834072  2.605566   \n",
       "\n",
       "              AGE    HISPAN  \n",
       "labels                       \n",
       "0       42.510348  0.684975  \n",
       "1       54.551295  0.450084  \n",
       "2       44.800647  0.225673  \n",
       "3       41.746564  0.256409  \n",
       "4       44.125558  0.668390  \n",
       "5       53.731095  0.167835  \n",
       "6       43.797589  0.495834  "
      ]
     },
     "execution_count": 20,
     "metadata": {},
     "output_type": "execute_result"
    }
   ],
   "source": [
    "kmeans = KMeans(n_clusters = 7, init = 'k-means++', random_state = 42)\n",
    "kmeans.fit(dfX10.iloc[:,0:3])\n",
    "X10fin = scaler.inverse_transform(dfX10)\n",
    "dfX10fin = pd.DataFrame(X10fin, columns=['HousingCat','EDUCbin','TRANTIME','HHWT','HHINCOME','RACE','AGE','HISPAN'])\n",
    "dfX10fin['labels'] = kmeans.labels_\n",
    "cluster_sum10 = dfX10fin.groupby(by = 'labels').mean()\n",
    "cluster_sum10.head(7)\n"
   ]
  },
  {
   "cell_type": "code",
   "execution_count": 21,
   "id": "c4f7bcc0",
   "metadata": {},
   "outputs": [
    {
     "data": {
      "text/plain": [
       "<AxesSubplot:>"
      ]
     },
     "execution_count": 21,
     "metadata": {},
     "output_type": "execute_result"
    },
    {
     "data": {
      "image/png": "[encoded data removed]",
      "text/plain": [
       "<Figure size 1080x576 with 2 Axes>"
      ]
     },
     "metadata": {
      "needs_background": "light"
     },
     "output_type": "display_data"
    }
   ],
   "source": [
    "Xcorr10=dfX10fin.iloc[:, [0,1,2,3,4,5,6,7]]\n",
    "plt.subplots(figsize=(15,8))\n",
    "sns.heatmap(Xcorr10.corr(), annot = True)\n"
   ]
  },
  {
   "cell_type": "code",
   "execution_count": 22,
   "id": "6e51493a",
   "metadata": {},
   "outputs": [
    {
     "data": {
      "text/html": [
       "<div>\n",
       "<style scoped>\n",
       "    .dataframe tbody tr th:only-of-type {\n",
       "        vertical-align: middle;\n",
       "    }\n",
       "\n",
       "    .dataframe tbody tr th {\n",
       "        vertical-align: top;\n",
       "    }\n",
       "\n",
       "    .dataframe thead th {\n",
       "        text-align: right;\n",
       "    }\n",
       "</style>\n",
       "<table border=\"1\" class=\"dataframe\">\n",
       "  <thead>\n",
       "    <tr style=\"text-align: right;\">\n",
       "      <th></th>\n",
       "      <th>HousingCat</th>\n",
       "      <th>EDUCbin</th>\n",
       "      <th>TRANTIME</th>\n",
       "      <th>HHWT</th>\n",
       "      <th>HHINCOME</th>\n",
       "      <th>RACE</th>\n",
       "      <th>AGE</th>\n",
       "      <th>HISPAN</th>\n",
       "    </tr>\n",
       "    <tr>\n",
       "      <th>labels</th>\n",
       "      <th></th>\n",
       "      <th></th>\n",
       "      <th></th>\n",
       "      <th></th>\n",
       "      <th></th>\n",
       "      <th></th>\n",
       "      <th></th>\n",
       "      <th></th>\n",
       "    </tr>\n",
       "  </thead>\n",
       "  <tbody>\n",
       "    <tr>\n",
       "      <th>0</th>\n",
       "      <td>0.488981</td>\n",
       "      <td>0.000000</td>\n",
       "      <td>3.243122</td>\n",
       "      <td>20.253031</td>\n",
       "      <td>45010.489918</td>\n",
       "      <td>3.397404</td>\n",
       "      <td>42.581117</td>\n",
       "      <td>0.735861</td>\n",
       "    </tr>\n",
       "    <tr>\n",
       "      <th>1</th>\n",
       "      <td>1.279854</td>\n",
       "      <td>0.000000</td>\n",
       "      <td>28.894549</td>\n",
       "      <td>20.114916</td>\n",
       "      <td>74600.923102</td>\n",
       "      <td>3.239739</td>\n",
       "      <td>38.521377</td>\n",
       "      <td>0.669677</td>\n",
       "    </tr>\n",
       "    <tr>\n",
       "      <th>2</th>\n",
       "      <td>0.669508</td>\n",
       "      <td>1.000000</td>\n",
       "      <td>12.559914</td>\n",
       "      <td>21.118879</td>\n",
       "      <td>68628.939074</td>\n",
       "      <td>2.578234</td>\n",
       "      <td>39.303514</td>\n",
       "      <td>0.232865</td>\n",
       "    </tr>\n",
       "    <tr>\n",
       "      <th>3</th>\n",
       "      <td>1.499471</td>\n",
       "      <td>0.312467</td>\n",
       "      <td>154.488186</td>\n",
       "      <td>20.081732</td>\n",
       "      <td>84589.202698</td>\n",
       "      <td>2.811673</td>\n",
       "      <td>41.796685</td>\n",
       "      <td>0.547346</td>\n",
       "    </tr>\n",
       "    <tr>\n",
       "      <th>4</th>\n",
       "      <td>2.000000</td>\n",
       "      <td>0.000000</td>\n",
       "      <td>4.535311</td>\n",
       "      <td>19.406568</td>\n",
       "      <td>69768.234665</td>\n",
       "      <td>2.598878</td>\n",
       "      <td>52.322061</td>\n",
       "      <td>0.449786</td>\n",
       "    </tr>\n",
       "    <tr>\n",
       "      <th>5</th>\n",
       "      <td>1.679307</td>\n",
       "      <td>0.529246</td>\n",
       "      <td>57.671369</td>\n",
       "      <td>20.202498</td>\n",
       "      <td>98874.888457</td>\n",
       "      <td>2.604589</td>\n",
       "      <td>41.355843</td>\n",
       "      <td>0.380036</td>\n",
       "    </tr>\n",
       "    <tr>\n",
       "      <th>6</th>\n",
       "      <td>2.000000</td>\n",
       "      <td>1.000000</td>\n",
       "      <td>11.179552</td>\n",
       "      <td>19.692524</td>\n",
       "      <td>115916.671350</td>\n",
       "      <td>2.077103</td>\n",
       "      <td>49.210272</td>\n",
       "      <td>0.150946</td>\n",
       "    </tr>\n",
       "  </tbody>\n",
       "</table>\n",
       "</div>"
      ],
      "text/plain": [
       "        HousingCat   EDUCbin    TRANTIME       HHWT       HHINCOME      RACE  \\\n",
       "labels                                                                         \n",
       "0         0.488981  0.000000    3.243122  20.253031   45010.489918  3.397404   \n",
       "1         1.279854  0.000000   28.894549  20.114916   74600.923102  3.239739   \n",
       "2         0.669508  1.000000   12.559914  21.118879   68628.939074  2.578234   \n",
       "3         1.499471  0.312467  154.488186  20.081732   84589.202698  2.811673   \n",
       "4         2.000000  0.000000    4.535311  19.406568   69768.234665  2.598878   \n",
       "5         1.679307  0.529246   57.671369  20.202498   98874.888457  2.604589   \n",
       "6         2.000000  1.000000   11.179552  19.692524  115916.671350  2.077103   \n",
       "\n",
       "              AGE    HISPAN  \n",
       "labels                       \n",
       "0       42.581117  0.735861  \n",
       "1       38.521377  0.669677  \n",
       "2       39.303514  0.232865  \n",
       "3       41.796685  0.547346  \n",
       "4       52.322061  0.449786  \n",
       "5       41.355843  0.380036  \n",
       "6       49.210272  0.150946  "
      ]
     },
     "execution_count": 22,
     "metadata": {},
     "output_type": "execute_result"
    }
   ],
   "source": [
    "kmeans = KMeans(n_clusters = 7, init = 'k-means++', random_state = 42)\n",
    "kmeans.fit(dfX00.iloc[:,0:3])\n",
    "X00fin = scaler.inverse_transform(dfX00)\n",
    "dfX00fin = pd.DataFrame(X00fin, columns=['HousingCat','EDUCbin','TRANTIME','HHWT','HHINCOME','RACE','AGE','HISPAN'])\n",
    "dfX00fin['labels'] = kmeans.labels_\n",
    "cluster_sum00 = dfX00fin.groupby(by = 'labels').mean()\n",
    "cluster_sum00.head(7)\n"
   ]
  },
  {
   "cell_type": "code",
   "execution_count": 23,
   "id": "dfa362f2",
   "metadata": {},
   "outputs": [
    {
     "data": {
      "text/plain": [
       "<AxesSubplot:>"
      ]
     },
     "execution_count": 23,
     "metadata": {},
     "output_type": "execute_result"
    },
    {
     "data": {
      "image/png": "[encoded data removed]",
      "text/plain": [
       "<Figure size 1080x576 with 2 Axes>"
      ]
     },
     "metadata": {
      "needs_background": "light"
     },
     "output_type": "display_data"
    }
   ],
   "source": [
    "Xcorr00=dfX10fin.iloc[:, [0,1,2,3,4,5,6,7]]\n",
    "plt.subplots(figsize=(15,8))\n",
    "sns.heatmap(Xcorr00.corr(), annot = True)\n"
   ]
  },
  {
   "cell_type": "code",
   "execution_count": 24,
   "id": "5a984943",
   "metadata": {},
   "outputs": [
    {
     "data": {
      "text/html": [
       "<div>\n",
       "<style scoped>\n",
       "    .dataframe tbody tr th:only-of-type {\n",
       "        vertical-align: middle;\n",
       "    }\n",
       "\n",
       "    .dataframe tbody tr th {\n",
       "        vertical-align: top;\n",
       "    }\n",
       "\n",
       "    .dataframe thead th {\n",
       "        text-align: right;\n",
       "    }\n",
       "</style>\n",
       "<table border=\"1\" class=\"dataframe\">\n",
       "  <thead>\n",
       "    <tr style=\"text-align: right;\">\n",
       "      <th></th>\n",
       "      <th>HousingCat</th>\n",
       "      <th>EDUCbin</th>\n",
       "      <th>TRANTIME</th>\n",
       "      <th>HHWT</th>\n",
       "      <th>HHINCOME</th>\n",
       "      <th>RACE</th>\n",
       "      <th>AGE</th>\n",
       "      <th>HISPAN</th>\n",
       "    </tr>\n",
       "    <tr>\n",
       "      <th>labels</th>\n",
       "      <th></th>\n",
       "      <th></th>\n",
       "      <th></th>\n",
       "      <th></th>\n",
       "      <th></th>\n",
       "      <th></th>\n",
       "      <th></th>\n",
       "      <th></th>\n",
       "    </tr>\n",
       "  </thead>\n",
       "  <tbody>\n",
       "    <tr>\n",
       "      <th>0</th>\n",
       "      <td>0.512050</td>\n",
       "      <td>0.00000</td>\n",
       "      <td>7.537002</td>\n",
       "      <td>21.532872</td>\n",
       "      <td>29141.784831</td>\n",
       "      <td>2.681319</td>\n",
       "      <td>39.891515</td>\n",
       "      <td>0.554522</td>\n",
       "    </tr>\n",
       "    <tr>\n",
       "      <th>1</th>\n",
       "      <td>1.691727</td>\n",
       "      <td>0.00000</td>\n",
       "      <td>31.095980</td>\n",
       "      <td>20.021389</td>\n",
       "      <td>55783.682905</td>\n",
       "      <td>2.360296</td>\n",
       "      <td>39.346529</td>\n",
       "      <td>0.447218</td>\n",
       "    </tr>\n",
       "    <tr>\n",
       "      <th>2</th>\n",
       "      <td>2.000000</td>\n",
       "      <td>0.00000</td>\n",
       "      <td>3.393288</td>\n",
       "      <td>19.393938</td>\n",
       "      <td>47746.327449</td>\n",
       "      <td>1.901961</td>\n",
       "      <td>52.859562</td>\n",
       "      <td>0.277679</td>\n",
       "    </tr>\n",
       "    <tr>\n",
       "      <th>3</th>\n",
       "      <td>2.000000</td>\n",
       "      <td>1.00000</td>\n",
       "      <td>5.586190</td>\n",
       "      <td>19.348924</td>\n",
       "      <td>73200.134748</td>\n",
       "      <td>1.614445</td>\n",
       "      <td>48.039040</td>\n",
       "      <td>0.118242</td>\n",
       "    </tr>\n",
       "    <tr>\n",
       "      <th>4</th>\n",
       "      <td>1.852587</td>\n",
       "      <td>1.00000</td>\n",
       "      <td>33.937811</td>\n",
       "      <td>19.812491</td>\n",
       "      <td>77753.019532</td>\n",
       "      <td>1.892396</td>\n",
       "      <td>40.597511</td>\n",
       "      <td>0.151948</td>\n",
       "    </tr>\n",
       "    <tr>\n",
       "      <th>5</th>\n",
       "      <td>1.437834</td>\n",
       "      <td>0.25538</td>\n",
       "      <td>72.917562</td>\n",
       "      <td>20.774276</td>\n",
       "      <td>54957.426223</td>\n",
       "      <td>2.216632</td>\n",
       "      <td>38.668361</td>\n",
       "      <td>0.438323</td>\n",
       "    </tr>\n",
       "    <tr>\n",
       "      <th>6</th>\n",
       "      <td>0.610665</td>\n",
       "      <td>1.00000</td>\n",
       "      <td>11.402876</td>\n",
       "      <td>22.210921</td>\n",
       "      <td>41188.111776</td>\n",
       "      <td>1.969215</td>\n",
       "      <td>37.481931</td>\n",
       "      <td>0.219935</td>\n",
       "    </tr>\n",
       "  </tbody>\n",
       "</table>\n",
       "</div>"
      ],
      "text/plain": [
       "        HousingCat  EDUCbin   TRANTIME       HHWT      HHINCOME      RACE  \\\n",
       "labels                                                                      \n",
       "0         0.512050  0.00000   7.537002  21.532872  29141.784831  2.681319   \n",
       "1         1.691727  0.00000  31.095980  20.021389  55783.682905  2.360296   \n",
       "2         2.000000  0.00000   3.393288  19.393938  47746.327449  1.901961   \n",
       "3         2.000000  1.00000   5.586190  19.348924  73200.134748  1.614445   \n",
       "4         1.852587  1.00000  33.937811  19.812491  77753.019532  1.892396   \n",
       "5         1.437834  0.25538  72.917562  20.774276  54957.426223  2.216632   \n",
       "6         0.610665  1.00000  11.402876  22.210921  41188.111776  1.969215   \n",
       "\n",
       "              AGE    HISPAN  \n",
       "labels                       \n",
       "0       39.891515  0.554522  \n",
       "1       39.346529  0.447218  \n",
       "2       52.859562  0.277679  \n",
       "3       48.039040  0.118242  \n",
       "4       40.597511  0.151948  \n",
       "5       38.668361  0.438323  \n",
       "6       37.481931  0.219935  "
      ]
     },
     "execution_count": 24,
     "metadata": {},
     "output_type": "execute_result"
    }
   ],
   "source": [
    "kmeans = KMeans(n_clusters = 7, init = 'k-means++', random_state = 42)\n",
    "kmeans.fit(dfX90.iloc[:,0:3])\n",
    "X90fin = scaler.inverse_transform(dfX90)\n",
    "dfX90fin = pd.DataFrame(X90fin, columns=['HousingCat','EDUCbin','TRANTIME','HHWT','HHINCOME','RACE','AGE','HISPAN'])\n",
    "dfX90fin['labels'] = kmeans.labels_\n",
    "cluster_sum90 = dfX90fin.groupby(by = 'labels').mean()\n",
    "cluster_sum90.head(7)\n"
   ]
  },
  {
   "cell_type": "code",
   "execution_count": 25,
   "id": "82cdc9f1",
   "metadata": {},
   "outputs": [
    {
     "data": {
      "text/plain": [
       "<AxesSubplot:>"
      ]
     },
     "execution_count": 25,
     "metadata": {},
     "output_type": "execute_result"
    },
    {
     "data": {
      "image/png": "[encoded data removed]",
      "text/plain": [
       "<Figure size 1080x576 with 2 Axes>"
      ]
     },
     "metadata": {
      "needs_background": "light"
     },
     "output_type": "display_data"
    }
   ],
   "source": [
    "Xcorr90=dfX10fin.iloc[:, [0,1,2,3,4,5,6,7]]\n",
    "plt.subplots(figsize=(15,8))\n",
    "sns.heatmap(Xcorr90.corr(), annot = True)\n"
   ]
  },
  {
   "cell_type": "code",
   "execution_count": 26,
   "id": "2748f986",
   "metadata": {},
   "outputs": [
    {
     "data": {
      "text/html": [
       "<div>\n",
       "<style scoped>\n",
       "    .dataframe tbody tr th:only-of-type {\n",
       "        vertical-align: middle;\n",
       "    }\n",
       "\n",
       "    .dataframe tbody tr th {\n",
       "        vertical-align: top;\n",
       "    }\n",
       "\n",
       "    .dataframe thead th {\n",
       "        text-align: right;\n",
       "    }\n",
       "</style>\n",
       "<table border=\"1\" class=\"dataframe\">\n",
       "  <thead>\n",
       "    <tr style=\"text-align: right;\">\n",
       "      <th></th>\n",
       "      <th>HousingCat</th>\n",
       "      <th>EDUCbin</th>\n",
       "      <th>TRANTIME</th>\n",
       "      <th>HHWT</th>\n",
       "      <th>HHINCOME</th>\n",
       "      <th>RACE</th>\n",
       "      <th>AGE</th>\n",
       "      <th>HISPAN</th>\n",
       "    </tr>\n",
       "    <tr>\n",
       "      <th>labels</th>\n",
       "      <th></th>\n",
       "      <th></th>\n",
       "      <th></th>\n",
       "      <th></th>\n",
       "      <th></th>\n",
       "      <th></th>\n",
       "      <th></th>\n",
       "      <th></th>\n",
       "    </tr>\n",
       "  </thead>\n",
       "  <tbody>\n",
       "    <tr>\n",
       "      <th>0</th>\n",
       "      <td>1.000000</td>\n",
       "      <td>0.00000</td>\n",
       "      <td>2.938729</td>\n",
       "      <td>20.0</td>\n",
       "      <td>20355.172934</td>\n",
       "      <td>1.395699</td>\n",
       "      <td>39.792306</td>\n",
       "      <td>0.423446</td>\n",
       "    </tr>\n",
       "    <tr>\n",
       "      <th>1</th>\n",
       "      <td>2.000000</td>\n",
       "      <td>1.00000</td>\n",
       "      <td>5.061197</td>\n",
       "      <td>20.0</td>\n",
       "      <td>34217.164684</td>\n",
       "      <td>1.377073</td>\n",
       "      <td>43.567464</td>\n",
       "      <td>0.123767</td>\n",
       "    </tr>\n",
       "    <tr>\n",
       "      <th>2</th>\n",
       "      <td>2.000000</td>\n",
       "      <td>0.00000</td>\n",
       "      <td>1.425863</td>\n",
       "      <td>20.0</td>\n",
       "      <td>24791.428704</td>\n",
       "      <td>1.288055</td>\n",
       "      <td>50.154878</td>\n",
       "      <td>0.234940</td>\n",
       "    </tr>\n",
       "    <tr>\n",
       "      <th>3</th>\n",
       "      <td>1.602791</td>\n",
       "      <td>0.69778</td>\n",
       "      <td>57.026904</td>\n",
       "      <td>20.0</td>\n",
       "      <td>30967.390142</td>\n",
       "      <td>1.446103</td>\n",
       "      <td>39.170355</td>\n",
       "      <td>0.227786</td>\n",
       "    </tr>\n",
       "    <tr>\n",
       "      <th>4</th>\n",
       "      <td>0.000000</td>\n",
       "      <td>0.00000</td>\n",
       "      <td>3.172732</td>\n",
       "      <td>20.0</td>\n",
       "      <td>7426.315479</td>\n",
       "      <td>1.436059</td>\n",
       "      <td>42.870936</td>\n",
       "      <td>0.378124</td>\n",
       "    </tr>\n",
       "    <tr>\n",
       "      <th>5</th>\n",
       "      <td>0.663703</td>\n",
       "      <td>1.00000</td>\n",
       "      <td>5.439289</td>\n",
       "      <td>20.0</td>\n",
       "      <td>19614.508259</td>\n",
       "      <td>1.465298</td>\n",
       "      <td>35.501630</td>\n",
       "      <td>0.176931</td>\n",
       "    </tr>\n",
       "    <tr>\n",
       "      <th>6</th>\n",
       "      <td>1.714300</td>\n",
       "      <td>0.00000</td>\n",
       "      <td>30.268659</td>\n",
       "      <td>20.0</td>\n",
       "      <td>27482.051341</td>\n",
       "      <td>1.389613</td>\n",
       "      <td>40.457716</td>\n",
       "      <td>0.337200</td>\n",
       "    </tr>\n",
       "  </tbody>\n",
       "</table>\n",
       "</div>"
      ],
      "text/plain": [
       "        HousingCat  EDUCbin   TRANTIME  HHWT      HHINCOME      RACE  \\\n",
       "labels                                                                 \n",
       "0         1.000000  0.00000   2.938729  20.0  20355.172934  1.395699   \n",
       "1         2.000000  1.00000   5.061197  20.0  34217.164684  1.377073   \n",
       "2         2.000000  0.00000   1.425863  20.0  24791.428704  1.288055   \n",
       "3         1.602791  0.69778  57.026904  20.0  30967.390142  1.446103   \n",
       "4         0.000000  0.00000   3.172732  20.0   7426.315479  1.436059   \n",
       "5         0.663703  1.00000   5.439289  20.0  19614.508259  1.465298   \n",
       "6         1.714300  0.00000  30.268659  20.0  27482.051341  1.389613   \n",
       "\n",
       "              AGE    HISPAN  \n",
       "labels                       \n",
       "0       39.792306  0.423446  \n",
       "1       43.567464  0.123767  \n",
       "2       50.154878  0.234940  \n",
       "3       39.170355  0.227786  \n",
       "4       42.870936  0.378124  \n",
       "5       35.501630  0.176931  \n",
       "6       40.457716  0.337200  "
      ]
     },
     "execution_count": 26,
     "metadata": {},
     "output_type": "execute_result"
    }
   ],
   "source": [
    "kmeans = KMeans(n_clusters = 7, init = 'k-means++', random_state = 42)\n",
    "kmeans.fit(dfX80.iloc[:,0:3])\n",
    "X80fin = scaler.inverse_transform(dfX80)\n",
    "dfX80fin = pd.DataFrame(X80fin, columns=['HousingCat','EDUCbin','TRANTIME','HHWT','HHINCOME','RACE','AGE','HISPAN'])\n",
    "dfX80fin['labels'] = kmeans.labels_\n",
    "cluster_sum80 = dfX80fin.groupby(by = 'labels').mean()\n",
    "cluster_sum80.head(7)\n"
   ]
  },
  {
   "cell_type": "code",
   "execution_count": 27,
   "id": "d3ca16f2",
   "metadata": {},
   "outputs": [
    {
     "data": {
      "text/plain": [
       "<AxesSubplot:>"
      ]
     },
     "execution_count": 27,
     "metadata": {},
     "output_type": "execute_result"
    },
    {
     "data": {
      "image/png": "[encoded data removed]",
      "text/plain": [
       "<Figure size 1080x576 with 2 Axes>"
      ]
     },
     "metadata": {
      "needs_background": "light"
     },
     "output_type": "display_data"
    }
   ],
   "source": [
    "Xcorr80=dfX10fin.iloc[:, [0,1,2,3,4,5,6,7]]\n",
    "plt.subplots(figsize=(15,8))\n",
    "sns.heatmap(Xcorr80.corr(), annot = True)\n"
   ]
  },
  {
   "cell_type": "code",
   "execution_count": null,
   "id": "0bd12075",
   "metadata": {},
   "outputs": [],
   "source": []
  }
 ],
 "metadata": {
  "kernelspec": {
   "display_name": "Python 3",
   "language": "python",
   "name": "python3"
  },
  "language_info": {
   "codemirror_mode": {
    "name": "ipython",
    "version": 3
   },
   "file_extension": ".py",
   "mimetype": "text/x-python",
   "name": "python",
   "nbconvert_exporter": "python",
   "pygments_lexer": "ipython3",
   "version": "3.8.8"
  }
 },
 "nbformat": 4,
 "nbformat_minor": 5
}
