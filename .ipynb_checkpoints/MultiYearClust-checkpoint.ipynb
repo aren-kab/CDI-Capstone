{
 "cells": [
  {
   "cell_type": "code",
   "execution_count": 5,
   "id": "juvenile-wholesale",
   "metadata": {},
   "outputs": [],
   "source": [
    "import pandas as pd\n",
    "import numpy as np\n",
    "import datetime as dt\n",
    "import matplotlib\n",
    "import matplotlib.pyplot as plt\n",
    "import scipy.cluster.hierarchy as shc\n",
    "# from sklearn.cluster import AgglomerativeClustering\n",
    "import os\n",
    "# import seaborn as sns\n",
    "from sklearn.cluster import KMeans\n",
    "from scipy.spatial.distance import cdist, pdist\n",
    "from sklearn.datasets import make_classification\n",
    "from sklearn.datasets import make_blobs\n",
    "from sklearn.metrics import silhouette_samples, silhouette_score\n",
    "import matplotlib.cm as cm\n",
    "from sklearn.mixture import GaussianMixture\n",
    "from sklearn.cluster import DBSCAN\n",
    "from sklearn import preprocessing\n",
    "from sklearn.preprocessing import StandardScaler"
   ]
  },
  {
   "cell_type": "code",
   "execution_count": 6,
   "id": "neural-oliver",
   "metadata": {},
   "outputs": [
    {
     "name": "stderr",
     "output_type": "stream",
     "text": [
      "C:\\Users\\Aren Kabarajian\\anaconda3\\envs\\geopandas_env\\lib\\site-packages\\IPython\\core\\interactiveshell.py:3165: DtypeWarning: Columns (32,33) have mixed types.Specify dtype option on import or set low_memory=False.\n",
      "  has_raised = await self.run_ast_nodes(code_ast.body, cell_name,\n"
     ]
    }
   ],
   "source": [
    "fileName = \"C:/Users/Aren Kabarajian/Downloads/usa_00012.csv\"\n",
    "file = pd.read_csv(fileName)\n",
    "dfCDI = pd.DataFrame(file)"
   ]
  },
  {
   "cell_type": "code",
   "execution_count": 7,
   "id": "chief-warning",
   "metadata": {
    "scrolled": true
   },
   "outputs": [
    {
     "data": {
      "text/plain": [
       "(6787855, 40)"
      ]
     },
     "execution_count": 7,
     "metadata": {},
     "output_type": "execute_result"
    }
   ],
   "source": [
    "dfCDI.shape"
   ]
  },
  {
   "cell_type": "code",
   "execution_count": 8,
   "id": "manufactured-setting",
   "metadata": {},
   "outputs": [
    {
     "data": {
      "text/plain": [
       "Index(['YEAR', 'MULTYEAR', 'SAMPLE', 'SERIAL', 'CBSERIAL', 'HHWT', 'CLUSTER',\n",
       "       'CPI99', 'STATEFIP', 'COUNTYFIP', 'DENSITY', 'CITY', 'PUMA', 'STRATA',\n",
       "       'GQ', 'OWNERSHP', 'OWNERSHPD', 'OWNCOST', 'RENTGRS', 'HHINCOME',\n",
       "       'CIHISPEED', 'PERNUM', 'PERWT', 'FAMSIZE', 'SEX', 'AGE', 'RACE',\n",
       "       'RACED', 'HISPAN', 'HISPAND', 'EDUC', 'EDUCD', 'OCCSOC', 'INDNAICS',\n",
       "       'INCTOT', 'FTOTINC', 'INCWAGE', 'MIGCOUNTY1', 'MOVEDIN', 'TRANTIME'],\n",
       "      dtype='object')"
      ]
     },
     "execution_count": 8,
     "metadata": {},
     "output_type": "execute_result"
    }
   ],
   "source": [
    "dfCDI.columns"
   ]
  },
  {
   "cell_type": "code",
   "execution_count": 9,
   "id": "laden-division",
   "metadata": {},
   "outputs": [
    {
     "data": {
      "text/plain": [
       "(4823667, 40)"
      ]
     },
     "execution_count": 9,
     "metadata": {},
     "output_type": "execute_result"
    }
   ],
   "source": [
    "dfCDI = dfCDI[dfCDI['AGE']>=21]\n",
    "dfCDI.shape"
   ]
  },
  {
   "cell_type": "code",
   "execution_count": 10,
   "id": "accessory-handle",
   "metadata": {},
   "outputs": [
    {
     "data": {
      "text/plain": [
       "count    2964818.0\n",
       "mean           0.0\n",
       "std            0.0\n",
       "min            0.0\n",
       "25%            0.0\n",
       "50%            0.0\n",
       "75%            0.0\n",
       "max            0.0\n",
       "Name: RENTGRS, dtype: float64"
      ]
     },
     "execution_count": 10,
     "metadata": {},
     "output_type": "execute_result"
    }
   ],
   "source": [
    "dfHomeOwn=dfCDI[dfCDI['OWNERSHP']==1]\n",
    "dfHomeOwn.RENTGRS.describe()"
   ]
  },
  {
   "cell_type": "code",
   "execution_count": 11,
   "id": "partial-benchmark",
   "metadata": {},
   "outputs": [
    {
     "data": {
      "text/plain": [
       "(4677699, 40)"
      ]
     },
     "execution_count": 11,
     "metadata": {},
     "output_type": "execute_result"
    }
   ],
   "source": [
    "dfCDI = dfCDI[dfCDI['OWNERSHP']!=0]\n",
    "dfCDI.shape"
   ]
  },
  {
   "cell_type": "code",
   "execution_count": 12,
   "id": "arbitrary-sending",
   "metadata": {},
   "outputs": [],
   "source": [
    "dfCDI['affrentdec'] = dfCDI['RENTGRS']*12/dfCDI['HHINCOME']"
   ]
  },
  {
   "cell_type": "code",
   "execution_count": 13,
   "id": "streaming-lending",
   "metadata": {},
   "outputs": [],
   "source": [
    "def housingFunc(own, affrentdec):\n",
    "    if own==1:\n",
    "        housingCat=2\n",
    "    elif own==2 and affrentdec<.3:\n",
    "        housingCat=1\n",
    "    else:\n",
    "        housingCat=0\n",
    "    return housingCat"
   ]
  },
  {
   "cell_type": "code",
   "execution_count": null,
   "id": "attractive-medline",
   "metadata": {},
   "outputs": [],
   "source": [
    "dfCDI['HousingCat'] = dfCDI.apply(lambda x: housingFunc(x['OWNERSHP'], x['affrentdec']), axis=1)\n",
    "dfCDI['HousingCat'].value_counts()"
   ]
  },
  {
   "cell_type": "code",
   "execution_count": null,
   "id": "constitutional-showcase",
   "metadata": {},
   "outputs": [],
   "source": [
    "dfCDI['EDUCbin'] = [1 if x >=8 else 0 for x in dfCDI['EDUC']]\n",
    "dfCDI['EDUCbin'].value_counts()"
   ]
  },
  {
   "cell_type": "code",
   "execution_count": null,
   "id": "mathematical-breakdown",
   "metadata": {},
   "outputs": [],
   "source": [
    "dfCDI['TRANTIME'].value_counts()"
   ]
  },
  {
   "cell_type": "markdown",
   "id": "convenient-composer",
   "metadata": {},
   "source": [
    "## Split by year"
   ]
  },
  {
   "cell_type": "code",
   "execution_count": null,
   "id": "delayed-relief",
   "metadata": {},
   "outputs": [],
   "source": [
    "dfCDI['YEAR'].value_counts()"
   ]
  },
  {
   "cell_type": "code",
   "execution_count": null,
   "id": "toxic-anthropology",
   "metadata": {},
   "outputs": [],
   "source": [
    "df19=dfCDI[dfCDI['YEAR']==2019]\n",
    "df10=dfCDI[dfCDI['YEAR']==2010]\n",
    "df00=dfCDI[dfCDI['YEAR']==2000]\n",
    "df90=dfCDI[dfCDI['YEAR']==1990]"
   ]
  },
  {
   "cell_type": "code",
   "execution_count": null,
   "id": "secure-manitoba",
   "metadata": {},
   "outputs": [],
   "source": [
    "print(dfCDI.columns.get_loc(\"HousingCat\"))\n",
    "print(dfCDI.columns.get_loc(\"EDUCbin\"))\n",
    "print(dfCDI.columns.get_loc(\"TRANTIME\"))\n",
    "print(dfCDI.columns.get_loc(\"HHWT\"))\n",
    "print(dfCDI.columns.get_loc(\"HHINCOME\"))\n",
    "print(dfCDI.columns.get_loc(\"RACE\"))\n",
    "print(dfCDI.columns.get_loc(\"AGE\"))\n",
    "print(dfCDI.columns.get_loc(\"SEX\"))\n",
    "print(dfCDI.columns.get_loc(\"COUNTYFIP\"))\n",
    "print(dfCDI.columns.get_loc(\"HISPAN\"))"
   ]
  },
  {
   "cell_type": "code",
   "execution_count": null,
   "id": "incorrect-disco",
   "metadata": {},
   "outputs": [],
   "source": [
    "x19 = df19.iloc[:, [41,42,39,5,19,26,25,24,9,28]]\n",
    "x10 = df10.iloc[:, [41,42,39,5,19,26,25,24,9,28]]\n",
    "x00 = df00.iloc[:, [41,42,39,5,19,26,25,24,9,28]]\n",
    "x90 = df90.iloc[:, [41,42,39,5,19,26,25,24,9,28]]"
   ]
  },
  {
   "cell_type": "markdown",
   "id": "collected-baghdad",
   "metadata": {},
   "source": [
    "## Scaling Values"
   ]
  },
  {
   "cell_type": "code",
   "execution_count": null,
   "id": "occupied-merchant",
   "metadata": {},
   "outputs": [],
   "source": [
    "\n",
    "scaler = StandardScaler()\n",
    "scalerNum = scaler.fit(x19)\n",
    "scalerNum1 = scaler.fit(x10)\n",
    "scalerNum2 = scaler.fit(x00)\n",
    "scalerNum3 = scaler.fit(x90)\n",
    "xstd19 = scalerNum.transform(x19)\n",
    "xstd10 = scalerNum1.transform(x10)\n",
    "xstd00 = scalerNum2.transform(x00)\n",
    "xstd90 = scalerNum3.transform(x90)"
   ]
  },
  {
   "cell_type": "code",
   "execution_count": null,
   "id": "virgin-helena",
   "metadata": {},
   "outputs": [],
   "source": [
    "dfX19 = pd.DataFrame(xstd19, columns=['HousingCat','EDUCbin','TRANTIME','HHWT','HHINCOME','RACE','AGE','SEX','COUNTYFIP','HISPAN'])\n",
    "dfX10 = pd.DataFrame(xstd10, columns=['HousingCat','EDUCbin','TRANTIME','HHWT','HHINCOME','RACE','AGE','SEX','COUNTYFIP','HISPAN'])\n",
    "dfX00 = pd.DataFrame(xstd00, columns=['HousingCat','EDUCbin','TRANTIME','HHWT','HHINCOME','RACE','AGE','SEX','COUNTYFIP','HISPAN'])\n",
    "dfX90 = pd.DataFrame(xstd90, columns=['HousingCat','EDUCbin','TRANTIME','HHWT','HHINCOME','RACE','AGE','SEX','COUNTYFIP','HISPAN'])"
   ]
  },
  {
   "cell_type": "markdown",
   "id": "dynamic-aluminum",
   "metadata": {},
   "source": [
    "## Sillouette Score "
   ]
  },
  {
   "cell_type": "code",
   "execution_count": null,
   "id": "professional-spelling",
   "metadata": {},
   "outputs": [],
   "source": [
    "#2019\n",
    "for i in range(2,8):\n",
    "    km = KMeans(n_clusters = i, init = 'k-means++', random_state = 42)\n",
    "    cluster_labels = km.fit_predict(dfX19.iloc[:,0:3])\n",
    "    silhouette_avg = silhouette_score(dfX19.iloc[:,0:3], cluster_labels, metric='euclidean',sample_size = 10000, random_state=None)\n",
    "    print('For n_clusters = {} the average silhouette_score is: {}'.format(i, silhouette_avg))"
   ]
  },
  {
   "cell_type": "code",
   "execution_count": null,
   "id": "accessory-aspect",
   "metadata": {},
   "outputs": [],
   "source": [
    "#2010 \n",
    "for i in range(2,8):\n",
    "    km = KMeans(n_clusters = i, init = 'k-means++', random_state = 42)\n",
    "    cluster_labels = km.fit_predict(dfX10.iloc[:,0:3])\n",
    "    silhouette_avg = silhouette_score(dfX10.iloc[:,0:3], cluster_labels, metric='euclidean', sample_size = 10000, random_state=None)\n",
    "    print('For n_clusters = {} the average silhouette_score is: {}'.format(i, silhouette_avg))"
   ]
  },
  {
   "cell_type": "code",
   "execution_count": null,
   "id": "loaded-better",
   "metadata": {},
   "outputs": [],
   "source": [
    "#2000 \n",
    "for i in range(2,8):\n",
    "    km = KMeans(n_clusters = i, init = 'k-means++', random_state = 42)\n",
    "    cluster_labels = km.fit_predict(dfX00.iloc[:,0:3])\n",
    "    silhouette_avg = silhouette_score(dfX00.iloc[:,0:3], cluster_labels, metric='euclidean',sample_size = 10000, random_state=None)\n",
    "    print('For n_clusters = {} the average silhouette_score is: {}'.format(i, silhouette_avg))"
   ]
  },
  {
   "cell_type": "code",
   "execution_count": null,
   "id": "binding-mentor",
   "metadata": {},
   "outputs": [],
   "source": [
    "#1990 \n",
    "for i in range(2,8):\n",
    "    km = KMeans(n_clusters = i, init = 'k-means++', random_state = 42)\n",
    "    cluster_labels = km.fit_predict(dfX90.iloc[:,0:3])\n",
    "    silhouette_avg = silhouette_score(dfX90.iloc[:,0:3], cluster_labels, metric='euclidean',sample_size = 10000, random_state=None)\n",
    "    print('For n_clusters = {} the average silhouette_score is: {}'.format(i, silhouette_avg))"
   ]
  },
  {
   "cell_type": "markdown",
   "id": "complicated-freeze",
   "metadata": {},
   "source": [
    "## Clustering"
   ]
  },
  {
   "cell_type": "code",
   "execution_count": null,
   "id": "material-switzerland",
   "metadata": {},
   "outputs": [],
   "source": [
    "kmeans = KMeans(n_clusters = 4, init = 'k-means++', random_state = 42)\n",
    "kmeans.fit(dfX19.iloc[:,0:3])\n",
    "X19fin = scaler.inverse_transform(dfX19)\n",
    "dfX19fin = pd.DataFrame(X19fin, columns=['HousingCat','EDUCbin','TRANTIME','HHWT','HHINCOME','RACE','AGE','SEX','COUNTYFIP','HISPAN'])\n",
    "dfX19fin['labels'] = kmeans.labels_\n",
    "cluster_sum19 = dfX19fin.groupby(by = 'labels').mean()\n",
    "cluster_sum19.head(4)\n"
   ]
  },
  {
   "cell_type": "code",
   "execution_count": null,
   "id": "emotional-london",
   "metadata": {},
   "outputs": [],
   "source": [
    "kmeans = KMeans(n_clusters = 4, init = 'k-means++', random_state = 42)\n",
    "kmeans.fit(dfX10.iloc[:,0:3])\n",
    "X10fin = scaler.inverse_transform(dfX10)\n",
    "dfX10fin = pd.DataFrame(X10fin, columns=['HousingCat','EDUCbin','TRANTIME','HHWT','HHINCOME','RACE','AGE','SEX','COUNTYFIP','HISPAN'])\n",
    "dfX10fin['labels'] = kmeans.labels_\n",
    "cluster_sum10 = dfX10fin.groupby(by = 'labels').mean()\n",
    "cluster_sum10.head(5)\n"
   ]
  },
  {
   "cell_type": "code",
   "execution_count": null,
   "id": "comfortable-implementation",
   "metadata": {},
   "outputs": [],
   "source": [
    "from mpl_toolkits.mplot3d import Axes3D\n",
    "fig=plt.figure(figsize=(26,6))\n",
    "ax = fig.add_subplot(131,projection='3d')\n",
    "ax.scatter(dfX10fin.HousingCat,dfX10fin.EDUCbin,dfX10fin.TRANTIME,c=dfX10fin.labels,s=50)"
   ]
  },
  {
   "cell_type": "code",
   "execution_count": null,
   "id": "everyday-staff",
   "metadata": {},
   "outputs": [],
   "source": [
    "Xcorr10=dfX10fin.iloc[:, [0,1,2,3,4,5,6,7,8,9]]\n",
    "plt.subplots(figsize=(15,8))\n",
    "sns.heatmap(Xcorr10.corr(), annot = True)\n"
   ]
  },
  {
   "cell_type": "code",
   "execution_count": null,
   "id": "human-interest",
   "metadata": {},
   "outputs": [],
   "source": [
    "kmeans = KMeans(n_clusters = 4, init = 'k-means++', random_state = 42)\n",
    "kmeans.fit(dfX00.iloc[:,0:3])\n",
    "X00fin = scaler.inverse_transform(dfX00)\n",
    "dfX00fin = pd.DataFrame(X00fin, columns=['HousingCat','EDUCbin','TRANTIME','HHWT','HHINCOME','RACE','AGE','SEX','COUNTYFIP','HISPAN'])\n",
    "dfX00fin['labels'] = kmeans.labels_\n",
    "cluster_sum00 = dfX00fin.groupby(by = 'labels').mean()\n",
    "cluster_sum00.head(5)\n"
   ]
  },
  {
   "cell_type": "code",
   "execution_count": null,
   "id": "photographic-potter",
   "metadata": {},
   "outputs": [],
   "source": [
    "Xcorr00=dfX00fin.iloc[:, [0,1,2,3,4,5,6,7,8,9]]\n",
    "plt.subplots(figsize=(15,8))\n",
    "sns.heatmap(Xcorr00.corr(), annot = True)\n"
   ]
  },
  {
   "cell_type": "code",
   "execution_count": null,
   "id": "operational-nelson",
   "metadata": {},
   "outputs": [],
   "source": [
    "kmeans = KMeans(n_clusters = 4, init = 'k-means++', random_state = 42)\n",
    "kmeans.fit(dfX90.iloc[:,0:3])\n",
    "X90fin = scaler.inverse_transform(dfX90)\n",
    "dfX90fin = pd.DataFrame(X90fin, columns=['HousingCat','EDUCbin','TRANTIME','HHWT','HHINCOME','RACE','AGE','SEX','COUNTYFIP','HISPAN'])\n",
    "dfX90fin['labels'] = kmeans.labels_\n",
    "cluster_sum90 = dfX90fin.groupby(by = 'labels').mean()\n",
    "cluster_sum90.head(5)\n"
   ]
  },
  {
   "cell_type": "code",
   "execution_count": null,
   "id": "cubic-argument",
   "metadata": {
    "scrolled": true
   },
   "outputs": [],
   "source": [
    "Xcorr90=dfX90fin.iloc[:, [0,1,2,3,4,5,6,7,8,9]]\n",
    "plt.subplots(figsize=(15,8))\n",
    "sns.heatmap(Xcorr90.corr(), annot = True)\n"
   ]
  },
  {
   "cell_type": "markdown",
   "id": "mental-blogger",
   "metadata": {},
   "source": [
    "## Geographic Grouping"
   ]
  },
  {
   "cell_type": "code",
   "execution_count": null,
   "id": "spare-wrist",
   "metadata": {},
   "outputs": [],
   "source": [
    "dfX10fin.head(5)"
   ]
  },
  {
   "cell_type": "code",
   "execution_count": 100,
   "id": "minimal-proof",
   "metadata": {},
   "outputs": [
    {
     "data": {
      "text/html": [
       "<div>\n",
       "<style scoped>\n",
       "    .dataframe tbody tr th:only-of-type {\n",
       "        vertical-align: middle;\n",
       "    }\n",
       "\n",
       "    .dataframe tbody tr th {\n",
       "        vertical-align: top;\n",
       "    }\n",
       "\n",
       "    .dataframe thead th {\n",
       "        text-align: right;\n",
       "    }\n",
       "</style>\n",
       "<table border=\"1\" class=\"dataframe\">\n",
       "  <thead>\n",
       "    <tr style=\"text-align: right;\">\n",
       "      <th></th>\n",
       "      <th>HousingCat</th>\n",
       "      <th>EDUCbin</th>\n",
       "      <th>TRANTIME</th>\n",
       "      <th>HHWT</th>\n",
       "      <th>HHINCOME</th>\n",
       "      <th>RACE</th>\n",
       "      <th>AGE</th>\n",
       "      <th>SEX</th>\n",
       "      <th>COUNTYFIP</th>\n",
       "      <th>HISPAN</th>\n",
       "      <th>labels</th>\n",
       "    </tr>\n",
       "  </thead>\n",
       "  <tbody>\n",
       "    <tr>\n",
       "      <th>0</th>\n",
       "      <td>1.0</td>\n",
       "      <td>1.0</td>\n",
       "      <td>1.000000e+01</td>\n",
       "      <td>20.0</td>\n",
       "      <td>56113.0</td>\n",
       "      <td>1.0</td>\n",
       "      <td>41.0</td>\n",
       "      <td>1.0</td>\n",
       "      <td>59.0</td>\n",
       "      <td>1.0</td>\n",
       "      <td>0</td>\n",
       "    </tr>\n",
       "    <tr>\n",
       "      <th>2</th>\n",
       "      <td>2.0</td>\n",
       "      <td>1.0</td>\n",
       "      <td>1.776357e-15</td>\n",
       "      <td>15.0</td>\n",
       "      <td>250353.0</td>\n",
       "      <td>1.0</td>\n",
       "      <td>34.0</td>\n",
       "      <td>2.0</td>\n",
       "      <td>81.0</td>\n",
       "      <td>0.0</td>\n",
       "      <td>0</td>\n",
       "    </tr>\n",
       "    <tr>\n",
       "      <th>3</th>\n",
       "      <td>2.0</td>\n",
       "      <td>1.0</td>\n",
       "      <td>2.500000e+01</td>\n",
       "      <td>15.0</td>\n",
       "      <td>250353.0</td>\n",
       "      <td>1.0</td>\n",
       "      <td>34.0</td>\n",
       "      <td>1.0</td>\n",
       "      <td>81.0</td>\n",
       "      <td>0.0</td>\n",
       "      <td>0</td>\n",
       "    </tr>\n",
       "    <tr>\n",
       "      <th>4</th>\n",
       "      <td>2.0</td>\n",
       "      <td>1.0</td>\n",
       "      <td>1.776357e-15</td>\n",
       "      <td>14.0</td>\n",
       "      <td>117407.0</td>\n",
       "      <td>1.0</td>\n",
       "      <td>55.0</td>\n",
       "      <td>2.0</td>\n",
       "      <td>37.0</td>\n",
       "      <td>0.0</td>\n",
       "      <td>0</td>\n",
       "    </tr>\n",
       "    <tr>\n",
       "      <th>5</th>\n",
       "      <td>2.0</td>\n",
       "      <td>1.0</td>\n",
       "      <td>2.100000e+01</td>\n",
       "      <td>14.0</td>\n",
       "      <td>117407.0</td>\n",
       "      <td>1.0</td>\n",
       "      <td>25.0</td>\n",
       "      <td>2.0</td>\n",
       "      <td>37.0</td>\n",
       "      <td>0.0</td>\n",
       "      <td>0</td>\n",
       "    </tr>\n",
       "    <tr>\n",
       "      <th>...</th>\n",
       "      <td>...</td>\n",
       "      <td>...</td>\n",
       "      <td>...</td>\n",
       "      <td>...</td>\n",
       "      <td>...</td>\n",
       "      <td>...</td>\n",
       "      <td>...</td>\n",
       "      <td>...</td>\n",
       "      <td>...</td>\n",
       "      <td>...</td>\n",
       "      <td>...</td>\n",
       "    </tr>\n",
       "    <tr>\n",
       "      <th>1357988</th>\n",
       "      <td>2.0</td>\n",
       "      <td>1.0</td>\n",
       "      <td>1.776357e-15</td>\n",
       "      <td>72.0</td>\n",
       "      <td>133000.0</td>\n",
       "      <td>1.0</td>\n",
       "      <td>46.0</td>\n",
       "      <td>1.0</td>\n",
       "      <td>97.0</td>\n",
       "      <td>0.0</td>\n",
       "      <td>0</td>\n",
       "    </tr>\n",
       "    <tr>\n",
       "      <th>1357990</th>\n",
       "      <td>2.0</td>\n",
       "      <td>1.0</td>\n",
       "      <td>1.776357e-15</td>\n",
       "      <td>12.0</td>\n",
       "      <td>60000.0</td>\n",
       "      <td>9.0</td>\n",
       "      <td>68.0</td>\n",
       "      <td>2.0</td>\n",
       "      <td>37.0</td>\n",
       "      <td>0.0</td>\n",
       "      <td>0</td>\n",
       "    </tr>\n",
       "    <tr>\n",
       "      <th>1357996</th>\n",
       "      <td>1.0</td>\n",
       "      <td>1.0</td>\n",
       "      <td>3.000000e+01</td>\n",
       "      <td>13.0</td>\n",
       "      <td>59000.0</td>\n",
       "      <td>6.0</td>\n",
       "      <td>24.0</td>\n",
       "      <td>1.0</td>\n",
       "      <td>85.0</td>\n",
       "      <td>0.0</td>\n",
       "      <td>0</td>\n",
       "    </tr>\n",
       "    <tr>\n",
       "      <th>1358002</th>\n",
       "      <td>2.0</td>\n",
       "      <td>1.0</td>\n",
       "      <td>1.000000e+01</td>\n",
       "      <td>14.0</td>\n",
       "      <td>158000.0</td>\n",
       "      <td>8.0</td>\n",
       "      <td>25.0</td>\n",
       "      <td>2.0</td>\n",
       "      <td>107.0</td>\n",
       "      <td>0.0</td>\n",
       "      <td>0</td>\n",
       "    </tr>\n",
       "    <tr>\n",
       "      <th>1358003</th>\n",
       "      <td>2.0</td>\n",
       "      <td>1.0</td>\n",
       "      <td>1.000000e+01</td>\n",
       "      <td>14.0</td>\n",
       "      <td>158000.0</td>\n",
       "      <td>1.0</td>\n",
       "      <td>30.0</td>\n",
       "      <td>1.0</td>\n",
       "      <td>107.0</td>\n",
       "      <td>0.0</td>\n",
       "      <td>0</td>\n",
       "    </tr>\n",
       "  </tbody>\n",
       "</table>\n",
       "<p>464213 rows × 11 columns</p>\n",
       "</div>"
      ],
      "text/plain": [
       "         HousingCat  EDUCbin      TRANTIME  HHWT  HHINCOME  RACE   AGE  SEX  \\\n",
       "0               1.0      1.0  1.000000e+01  20.0   56113.0   1.0  41.0  1.0   \n",
       "2               2.0      1.0  1.776357e-15  15.0  250353.0   1.0  34.0  2.0   \n",
       "3               2.0      1.0  2.500000e+01  15.0  250353.0   1.0  34.0  1.0   \n",
       "4               2.0      1.0  1.776357e-15  14.0  117407.0   1.0  55.0  2.0   \n",
       "5               2.0      1.0  2.100000e+01  14.0  117407.0   1.0  25.0  2.0   \n",
       "...             ...      ...           ...   ...       ...   ...   ...  ...   \n",
       "1357988         2.0      1.0  1.776357e-15  72.0  133000.0   1.0  46.0  1.0   \n",
       "1357990         2.0      1.0  1.776357e-15  12.0   60000.0   9.0  68.0  2.0   \n",
       "1357996         1.0      1.0  3.000000e+01  13.0   59000.0   6.0  24.0  1.0   \n",
       "1358002         2.0      1.0  1.000000e+01  14.0  158000.0   8.0  25.0  2.0   \n",
       "1358003         2.0      1.0  1.000000e+01  14.0  158000.0   1.0  30.0  1.0   \n",
       "\n",
       "         COUNTYFIP  HISPAN  labels  \n",
       "0             59.0     1.0       0  \n",
       "2             81.0     0.0       0  \n",
       "3             81.0     0.0       0  \n",
       "4             37.0     0.0       0  \n",
       "5             37.0     0.0       0  \n",
       "...            ...     ...     ...  \n",
       "1357988       97.0     0.0       0  \n",
       "1357990       37.0     0.0       0  \n",
       "1357996       85.0     0.0       0  \n",
       "1358002      107.0     0.0       0  \n",
       "1358003      107.0     0.0       0  \n",
       "\n",
       "[464213 rows x 11 columns]"
      ]
     },
     "execution_count": 100,
     "metadata": {},
     "output_type": "execute_result"
    }
   ],
   "source": [
    "clust2019_0 = dfX19fin[dfX19fin['labels']==0]\n",
    "clust2019_1 = dfX19fin[dfX19fin['labels']==1]\n",
    "clust2019_2 = dfX19fin[dfX19fin['labels']==2]\n",
    "clust2019_3 = dfX19fin[dfX19fin['labels']==3]"
   ]
  },
  {
   "cell_type": "code",
   "execution_count": 77,
   "id": "eleven-abuse",
   "metadata": {},
   "outputs": [],
   "source": [
    "def GEOIDfunc(geoid):\n",
    "    if len(geoid)==1:\n",
    "        geoid='0600'+geoid\n",
    "    elif len(geoid)==2:\n",
    "        geoid='060'+geoid\n",
    "    elif len(geoid)==3:\n",
    "        geoid='06'+geoid\n",
    "    else:\n",
    "        pass\n",
    "    return geoid"
   ]
  },
  {
   "cell_type": "code",
   "execution_count": 78,
   "id": "forty-protocol",
   "metadata": {},
   "outputs": [],
   "source": [
    "COUNTYcsv = 'C:/Users/akaba/Downloads/CA_counties.csv'\n",
    "counties = pd.read_csv(COUNTYcsv)\n",
    "countiesdf = pd.DataFrame(counties)\n",
    "countiesdf['FIPS']= countiesdf['FIPS'].astype(str)\n",
    "countiesdf['FIPS']='0'+countiesdf['FIPS']"
   ]
  },
  {
   "cell_type": "code",
   "execution_count": 117,
   "id": "falling-destruction",
   "metadata": {},
   "outputs": [],
   "source": [
    "def geo(df,year,cluster):\n",
    "    df = df[['COUNTYFIP','EDUCbin','HHWT','labels']].groupby(['labels','COUNTYFIP']).agg({'EDUCbin' : ['count'], 'HHWT' : ['sum']}).copy()\n",
    "    df = (df['HHWT']/df['HHWT'].sum())*df['EDUCbin'].values\n",
    "    df.columns = ['Weighted_pop']\n",
    "    df.reset_index(inplace=True)\n",
    "    df['COUNTYFIP'] = pd.Series(df['COUNTYFIP'], dtype=\"int\")\n",
    "    df['COUNTYFIP'] = pd.Series(df['COUNTYFIP'], dtype=\"string\")\n",
    "    df['Weighted_pop'] = pd.Series(df['Weighted_pop'], dtype=\"int\")\n",
    "    df['GEOID'] = df.apply(lambda x: GEOIDfunc(x['COUNTYFIP']), axis=1)\n",
    "    df = df.merge(countiesdf,how='inner',left_on='GEOID',right_on='FIPS')\n",
    "    df = df[['labels','GEOID','COUNTY','Weighted_pop']]\n",
    "    df.to_csv('C:/Users/akaba/Downloads/'+str(year)+'_'+str(cluster)+'.csv')"
   ]
  },
  {
   "cell_type": "code",
   "execution_count": 118,
   "id": "fifteen-bernard",
   "metadata": {
    "scrolled": true
   },
   "outputs": [],
   "source": [
    "geo(dfX10fin,2019,1)"
   ]
  },
  {
   "cell_type": "code",
   "execution_count": 120,
   "id": "printable-problem",
   "metadata": {},
   "outputs": [
    {
     "data": {
      "text/html": [
       "<div>\n",
       "<style scoped>\n",
       "    .dataframe tbody tr th:only-of-type {\n",
       "        vertical-align: middle;\n",
       "    }\n",
       "\n",
       "    .dataframe tbody tr th {\n",
       "        vertical-align: top;\n",
       "    }\n",
       "\n",
       "    .dataframe thead th {\n",
       "        text-align: right;\n",
       "    }\n",
       "</style>\n",
       "<table border=\"1\" class=\"dataframe\">\n",
       "  <thead>\n",
       "    <tr style=\"text-align: right;\">\n",
       "      <th></th>\n",
       "      <th>Unnamed: 0</th>\n",
       "      <th>labels</th>\n",
       "      <th>GEOID</th>\n",
       "      <th>COUNTY</th>\n",
       "      <th>Weighted_pop</th>\n",
       "    </tr>\n",
       "  </thead>\n",
       "  <tbody>\n",
       "    <tr>\n",
       "      <th>0</th>\n",
       "      <td>0</td>\n",
       "      <td>0</td>\n",
       "      <td>6001</td>\n",
       "      <td>Alameda</td>\n",
       "      <td>149</td>\n",
       "    </tr>\n",
       "    <tr>\n",
       "      <th>1</th>\n",
       "      <td>1</td>\n",
       "      <td>1</td>\n",
       "      <td>6001</td>\n",
       "      <td>Alameda</td>\n",
       "      <td>274</td>\n",
       "    </tr>\n",
       "    <tr>\n",
       "      <th>2</th>\n",
       "      <td>2</td>\n",
       "      <td>2</td>\n",
       "      <td>6001</td>\n",
       "      <td>Alameda</td>\n",
       "      <td>133</td>\n",
       "    </tr>\n",
       "    <tr>\n",
       "      <th>3</th>\n",
       "      <td>3</td>\n",
       "      <td>3</td>\n",
       "      <td>6001</td>\n",
       "      <td>Alameda</td>\n",
       "      <td>31</td>\n",
       "    </tr>\n",
       "    <tr>\n",
       "      <th>4</th>\n",
       "      <td>4</td>\n",
       "      <td>0</td>\n",
       "      <td>6007</td>\n",
       "      <td>Butte</td>\n",
       "      <td>8</td>\n",
       "    </tr>\n",
       "    <tr>\n",
       "      <th>...</th>\n",
       "      <td>...</td>\n",
       "      <td>...</td>\n",
       "      <td>...</td>\n",
       "      <td>...</td>\n",
       "      <td>...</td>\n",
       "    </tr>\n",
       "    <tr>\n",
       "      <th>131</th>\n",
       "      <td>131</td>\n",
       "      <td>3</td>\n",
       "      <td>6111</td>\n",
       "      <td>Ventura</td>\n",
       "      <td>5</td>\n",
       "    </tr>\n",
       "    <tr>\n",
       "      <th>132</th>\n",
       "      <td>132</td>\n",
       "      <td>0</td>\n",
       "      <td>6113</td>\n",
       "      <td>Yolo</td>\n",
       "      <td>2</td>\n",
       "    </tr>\n",
       "    <tr>\n",
       "      <th>133</th>\n",
       "      <td>133</td>\n",
       "      <td>1</td>\n",
       "      <td>6113</td>\n",
       "      <td>Yolo</td>\n",
       "      <td>4</td>\n",
       "    </tr>\n",
       "    <tr>\n",
       "      <th>134</th>\n",
       "      <td>134</td>\n",
       "      <td>2</td>\n",
       "      <td>6113</td>\n",
       "      <td>Yolo</td>\n",
       "      <td>3</td>\n",
       "    </tr>\n",
       "    <tr>\n",
       "      <th>135</th>\n",
       "      <td>135</td>\n",
       "      <td>3</td>\n",
       "      <td>6113</td>\n",
       "      <td>Yolo</td>\n",
       "      <td>0</td>\n",
       "    </tr>\n",
       "  </tbody>\n",
       "</table>\n",
       "<p>136 rows × 5 columns</p>\n",
       "</div>"
      ],
      "text/plain": [
       "     Unnamed: 0  labels  GEOID    COUNTY  Weighted_pop\n",
       "0             0       0   6001  Alameda            149\n",
       "1             1       1   6001  Alameda            274\n",
       "2             2       2   6001  Alameda            133\n",
       "3             3       3   6001  Alameda             31\n",
       "4             4       0   6007    Butte              8\n",
       "..          ...     ...    ...       ...           ...\n",
       "131         131       3   6111  Ventura              5\n",
       "132         132       0   6113     Yolo              2\n",
       "133         133       1   6113     Yolo              4\n",
       "134         134       2   6113     Yolo              3\n",
       "135         135       3   6113     Yolo              0\n",
       "\n",
       "[136 rows x 5 columns]"
      ]
     },
     "execution_count": 120,
     "metadata": {},
     "output_type": "execute_result"
    }
   ],
   "source": [
    "pd.read_csv('C:/Users/akaba/Downloads/2019_1.csv')"
   ]
  },
  {
   "cell_type": "code",
   "execution_count": 126,
   "id": "sensitive-scratch",
   "metadata": {},
   "outputs": [],
   "source": [
    "df10geo = dfX10fin[['COUNTYFIP','EDUCbin','HHWT','labels']].groupby(['labels','COUNTYFIP']).agg({'EDUCbin' : ['count'], 'HHWT' : ['sum']}).copy()\n"
   ]
  },
  {
   "cell_type": "code",
   "execution_count": 125,
   "id": "impressive-tournament",
   "metadata": {
    "scrolled": true
   },
   "outputs": [
    {
     "ename": "KeyError",
     "evalue": "\"['labels' 'COUNTYFIP'] not in index\"",
     "output_type": "error",
     "traceback": [
      "\u001b[1;31m---------------------------------------------------------------------------\u001b[0m",
      "\u001b[1;31mKeyError\u001b[0m                                  Traceback (most recent call last)",
      "\u001b[1;32m<ipython-input-125-dbf8788327a0>\u001b[0m in \u001b[0;36m<module>\u001b[1;34m\u001b[0m\n\u001b[1;32m----> 1\u001b[1;33m \u001b[0mdf10geo\u001b[0m \u001b[1;33m=\u001b[0m \u001b[0mdf10geo\u001b[0m\u001b[1;33m[\u001b[0m\u001b[1;33m[\u001b[0m\u001b[1;34m'labels'\u001b[0m\u001b[1;33m,\u001b[0m\u001b[1;34m'COUNTYFIP'\u001b[0m\u001b[1;33m,\u001b[0m\u001b[1;34m'EDUCbin'\u001b[0m\u001b[1;33m,\u001b[0m\u001b[1;34m'HHWT'\u001b[0m\u001b[1;33m]\u001b[0m\u001b[1;33m]\u001b[0m\u001b[1;33m.\u001b[0m\u001b[0mgroupby\u001b[0m\u001b[1;33m(\u001b[0m\u001b[1;33m[\u001b[0m\u001b[1;34m'labels'\u001b[0m\u001b[1;33m,\u001b[0m\u001b[1;34m'COUNTYFIP'\u001b[0m\u001b[1;33m]\u001b[0m\u001b[1;33m)\u001b[0m\u001b[1;33m.\u001b[0m\u001b[0magg\u001b[0m\u001b[1;33m(\u001b[0m\u001b[1;33m{\u001b[0m\u001b[1;34m'EDUCbin'\u001b[0m \u001b[1;33m:\u001b[0m \u001b[1;33m[\u001b[0m\u001b[1;34m'count'\u001b[0m\u001b[1;33m]\u001b[0m\u001b[1;33m,\u001b[0m \u001b[1;34m'HHWT'\u001b[0m \u001b[1;33m:\u001b[0m \u001b[1;33m[\u001b[0m\u001b[1;34m'sum'\u001b[0m\u001b[1;33m]\u001b[0m\u001b[1;33m}\u001b[0m\u001b[1;33m)\u001b[0m\u001b[1;33m.\u001b[0m\u001b[0mcopy\u001b[0m\u001b[1;33m(\u001b[0m\u001b[1;33m)\u001b[0m\u001b[1;33m\u001b[0m\u001b[1;33m\u001b[0m\u001b[0m\n\u001b[0m",
      "\u001b[1;32m~\\anaconda3\\lib\\site-packages\\pandas\\core\\frame.py\u001b[0m in \u001b[0;36m__getitem__\u001b[1;34m(self, key)\u001b[0m\n\u001b[0;32m   3028\u001b[0m             \u001b[1;32mif\u001b[0m \u001b[0mis_iterator\u001b[0m\u001b[1;33m(\u001b[0m\u001b[0mkey\u001b[0m\u001b[1;33m)\u001b[0m\u001b[1;33m:\u001b[0m\u001b[1;33m\u001b[0m\u001b[1;33m\u001b[0m\u001b[0m\n\u001b[0;32m   3029\u001b[0m                 \u001b[0mkey\u001b[0m \u001b[1;33m=\u001b[0m \u001b[0mlist\u001b[0m\u001b[1;33m(\u001b[0m\u001b[0mkey\u001b[0m\u001b[1;33m)\u001b[0m\u001b[1;33m\u001b[0m\u001b[1;33m\u001b[0m\u001b[0m\n\u001b[1;32m-> 3030\u001b[1;33m             \u001b[0mindexer\u001b[0m \u001b[1;33m=\u001b[0m \u001b[0mself\u001b[0m\u001b[1;33m.\u001b[0m\u001b[0mloc\u001b[0m\u001b[1;33m.\u001b[0m\u001b[0m_get_listlike_indexer\u001b[0m\u001b[1;33m(\u001b[0m\u001b[0mkey\u001b[0m\u001b[1;33m,\u001b[0m \u001b[0maxis\u001b[0m\u001b[1;33m=\u001b[0m\u001b[1;36m1\u001b[0m\u001b[1;33m,\u001b[0m \u001b[0mraise_missing\u001b[0m\u001b[1;33m=\u001b[0m\u001b[1;32mTrue\u001b[0m\u001b[1;33m)\u001b[0m\u001b[1;33m[\u001b[0m\u001b[1;36m1\u001b[0m\u001b[1;33m]\u001b[0m\u001b[1;33m\u001b[0m\u001b[1;33m\u001b[0m\u001b[0m\n\u001b[0m\u001b[0;32m   3031\u001b[0m \u001b[1;33m\u001b[0m\u001b[0m\n\u001b[0;32m   3032\u001b[0m         \u001b[1;31m# take() does not accept boolean indexers\u001b[0m\u001b[1;33m\u001b[0m\u001b[1;33m\u001b[0m\u001b[1;33m\u001b[0m\u001b[0m\n",
      "\u001b[1;32m~\\anaconda3\\lib\\site-packages\\pandas\\core\\indexing.py\u001b[0m in \u001b[0;36m_get_listlike_indexer\u001b[1;34m(self, key, axis, raise_missing)\u001b[0m\n\u001b[0;32m   1252\u001b[0m         \u001b[1;31m# Have the index compute an indexer or return None\u001b[0m\u001b[1;33m\u001b[0m\u001b[1;33m\u001b[0m\u001b[1;33m\u001b[0m\u001b[0m\n\u001b[0;32m   1253\u001b[0m         \u001b[1;31m# if it cannot handle:\u001b[0m\u001b[1;33m\u001b[0m\u001b[1;33m\u001b[0m\u001b[1;33m\u001b[0m\u001b[0m\n\u001b[1;32m-> 1254\u001b[1;33m         \u001b[0mindexer\u001b[0m\u001b[1;33m,\u001b[0m \u001b[0mkeyarr\u001b[0m \u001b[1;33m=\u001b[0m \u001b[0max\u001b[0m\u001b[1;33m.\u001b[0m\u001b[0m_convert_listlike_indexer\u001b[0m\u001b[1;33m(\u001b[0m\u001b[0mkey\u001b[0m\u001b[1;33m)\u001b[0m\u001b[1;33m\u001b[0m\u001b[1;33m\u001b[0m\u001b[0m\n\u001b[0m\u001b[0;32m   1255\u001b[0m         \u001b[1;31m# We only act on all found values:\u001b[0m\u001b[1;33m\u001b[0m\u001b[1;33m\u001b[0m\u001b[1;33m\u001b[0m\u001b[0m\n\u001b[0;32m   1256\u001b[0m         \u001b[1;32mif\u001b[0m \u001b[0mindexer\u001b[0m \u001b[1;32mis\u001b[0m \u001b[1;32mnot\u001b[0m \u001b[1;32mNone\u001b[0m \u001b[1;32mand\u001b[0m \u001b[1;33m(\u001b[0m\u001b[0mindexer\u001b[0m \u001b[1;33m!=\u001b[0m \u001b[1;33m-\u001b[0m\u001b[1;36m1\u001b[0m\u001b[1;33m)\u001b[0m\u001b[1;33m.\u001b[0m\u001b[0mall\u001b[0m\u001b[1;33m(\u001b[0m\u001b[1;33m)\u001b[0m\u001b[1;33m:\u001b[0m\u001b[1;33m\u001b[0m\u001b[1;33m\u001b[0m\u001b[0m\n",
      "\u001b[1;32m~\\anaconda3\\lib\\site-packages\\pandas\\core\\indexes\\multi.py\u001b[0m in \u001b[0;36m_convert_listlike_indexer\u001b[1;34m(self, keyarr)\u001b[0m\n\u001b[0;32m   2566\u001b[0m             \u001b[0mmask\u001b[0m \u001b[1;33m=\u001b[0m \u001b[0mcheck\u001b[0m \u001b[1;33m==\u001b[0m \u001b[1;33m-\u001b[0m\u001b[1;36m1\u001b[0m\u001b[1;33m\u001b[0m\u001b[1;33m\u001b[0m\u001b[0m\n\u001b[0;32m   2567\u001b[0m             \u001b[1;32mif\u001b[0m \u001b[0mmask\u001b[0m\u001b[1;33m.\u001b[0m\u001b[0many\u001b[0m\u001b[1;33m(\u001b[0m\u001b[1;33m)\u001b[0m\u001b[1;33m:\u001b[0m\u001b[1;33m\u001b[0m\u001b[1;33m\u001b[0m\u001b[0m\n\u001b[1;32m-> 2568\u001b[1;33m                 \u001b[1;32mraise\u001b[0m \u001b[0mKeyError\u001b[0m\u001b[1;33m(\u001b[0m\u001b[1;34mf\"{keyarr[mask]} not in index\"\u001b[0m\u001b[1;33m)\u001b[0m\u001b[1;33m\u001b[0m\u001b[1;33m\u001b[0m\u001b[0m\n\u001b[0m\u001b[0;32m   2569\u001b[0m \u001b[1;33m\u001b[0m\u001b[0m\n\u001b[0;32m   2570\u001b[0m         \u001b[1;32mreturn\u001b[0m \u001b[0mindexer\u001b[0m\u001b[1;33m,\u001b[0m \u001b[0mkeyarr\u001b[0m\u001b[1;33m\u001b[0m\u001b[1;33m\u001b[0m\u001b[0m\n",
      "\u001b[1;31mKeyError\u001b[0m: \"['labels' 'COUNTYFIP'] not in index\""
     ]
    }
   ],
   "source": []
  },
  {
   "cell_type": "code",
   "execution_count": 127,
   "id": "biological-tourism",
   "metadata": {},
   "outputs": [],
   "source": [
    "df10geo = (df10geo['HHWT']/df10geo['HHWT'].sum())*df10geo['EDUCbin'].values"
   ]
  },
  {
   "cell_type": "code",
   "execution_count": 128,
   "id": "opening-found",
   "metadata": {
    "scrolled": true
   },
   "outputs": [],
   "source": [
    "df10geo.columns = ['Weighted_pop']"
   ]
  },
  {
   "cell_type": "code",
   "execution_count": 129,
   "id": "noticed-flesh",
   "metadata": {},
   "outputs": [],
   "source": [
    "df10geo.reset_index(inplace=True)"
   ]
  },
  {
   "cell_type": "code",
   "execution_count": 130,
   "id": "entire-possession",
   "metadata": {},
   "outputs": [],
   "source": [
    "\n",
    "df10geo['COUNTYFIP'] = pd.Series(df10geo['COUNTYFIP'], dtype=\"int\")\n",
    "df10geo['COUNTYFIP'] = pd.Series(df10geo['COUNTYFIP'], dtype=\"string\")\n",
    "df10geo['Weighted_pop'] = pd.Series(df10geo['Weighted_pop'], dtype=\"int\")\n"
   ]
  },
  {
   "cell_type": "code",
   "execution_count": 131,
   "id": "resistant-snowboard",
   "metadata": {},
   "outputs": [
    {
     "data": {
      "text/plain": [
       "labels           int64\n",
       "COUNTYFIP       string\n",
       "Weighted_pop     int32\n",
       "dtype: object"
      ]
     },
     "execution_count": 131,
     "metadata": {},
     "output_type": "execute_result"
    }
   ],
   "source": [
    "df10geo.dtypes"
   ]
  },
  {
   "cell_type": "code",
   "execution_count": 132,
   "id": "expanded-official",
   "metadata": {},
   "outputs": [],
   "source": [
    "def GEOIDfunc(geoid):\n",
    "    if len(geoid)==1:\n",
    "        geoid='0600'+geoid\n",
    "    elif len(geoid)==2:\n",
    "        geoid='060'+geoid\n",
    "    elif len(geoid)==3:\n",
    "        geoid='06'+geoid\n",
    "    else:\n",
    "        pass\n",
    "    return geoid"
   ]
  },
  {
   "cell_type": "code",
   "execution_count": 133,
   "id": "possible-search",
   "metadata": {},
   "outputs": [],
   "source": [
    "df10geo['GEOID'] = df10geo.apply(lambda x: GEOIDfunc(x['COUNTYFIP']), axis=1)"
   ]
  },
  {
   "cell_type": "code",
   "execution_count": 134,
   "id": "committed-semester",
   "metadata": {},
   "outputs": [],
   "source": [
    "COUNTYcsv = 'C:/Users/akaba/Downloads/CA_counties.csv'\n",
    "counties = pd.read_csv(COUNTYcsv)\n",
    "countiesdf = pd.DataFrame(counties)\n",
    "countiesdf['FIPS']= countiesdf['FIPS'].astype(str)\n",
    "countiesdf['FIPS']='0'+countiesdf['FIPS']"
   ]
  },
  {
   "cell_type": "code",
   "execution_count": 135,
   "id": "outside-indonesia",
   "metadata": {},
   "outputs": [
    {
     "data": {
      "text/html": [
       "<div>\n",
       "<style scoped>\n",
       "    .dataframe tbody tr th:only-of-type {\n",
       "        vertical-align: middle;\n",
       "    }\n",
       "\n",
       "    .dataframe tbody tr th {\n",
       "        vertical-align: top;\n",
       "    }\n",
       "\n",
       "    .dataframe thead th {\n",
       "        text-align: right;\n",
       "    }\n",
       "</style>\n",
       "<table border=\"1\" class=\"dataframe\">\n",
       "  <thead>\n",
       "    <tr style=\"text-align: right;\">\n",
       "      <th></th>\n",
       "      <th>GEOID</th>\n",
       "      <th>labels</th>\n",
       "      <th>COUNTY</th>\n",
       "      <th>Weighted_pop</th>\n",
       "    </tr>\n",
       "  </thead>\n",
       "  <tbody>\n",
       "    <tr>\n",
       "      <th>0</th>\n",
       "      <td>06001</td>\n",
       "      <td>0</td>\n",
       "      <td>Alameda</td>\n",
       "      <td>149</td>\n",
       "    </tr>\n",
       "    <tr>\n",
       "      <th>1</th>\n",
       "      <td>06001</td>\n",
       "      <td>1</td>\n",
       "      <td>Alameda</td>\n",
       "      <td>274</td>\n",
       "    </tr>\n",
       "    <tr>\n",
       "      <th>2</th>\n",
       "      <td>06001</td>\n",
       "      <td>2</td>\n",
       "      <td>Alameda</td>\n",
       "      <td>133</td>\n",
       "    </tr>\n",
       "    <tr>\n",
       "      <th>3</th>\n",
       "      <td>06001</td>\n",
       "      <td>3</td>\n",
       "      <td>Alameda</td>\n",
       "      <td>31</td>\n",
       "    </tr>\n",
       "    <tr>\n",
       "      <th>4</th>\n",
       "      <td>06007</td>\n",
       "      <td>0</td>\n",
       "      <td>Butte</td>\n",
       "      <td>8</td>\n",
       "    </tr>\n",
       "    <tr>\n",
       "      <th>...</th>\n",
       "      <td>...</td>\n",
       "      <td>...</td>\n",
       "      <td>...</td>\n",
       "      <td>...</td>\n",
       "    </tr>\n",
       "    <tr>\n",
       "      <th>131</th>\n",
       "      <td>06111</td>\n",
       "      <td>3</td>\n",
       "      <td>Ventura</td>\n",
       "      <td>5</td>\n",
       "    </tr>\n",
       "    <tr>\n",
       "      <th>132</th>\n",
       "      <td>06113</td>\n",
       "      <td>0</td>\n",
       "      <td>Yolo</td>\n",
       "      <td>2</td>\n",
       "    </tr>\n",
       "    <tr>\n",
       "      <th>133</th>\n",
       "      <td>06113</td>\n",
       "      <td>1</td>\n",
       "      <td>Yolo</td>\n",
       "      <td>4</td>\n",
       "    </tr>\n",
       "    <tr>\n",
       "      <th>134</th>\n",
       "      <td>06113</td>\n",
       "      <td>2</td>\n",
       "      <td>Yolo</td>\n",
       "      <td>3</td>\n",
       "    </tr>\n",
       "    <tr>\n",
       "      <th>135</th>\n",
       "      <td>06113</td>\n",
       "      <td>3</td>\n",
       "      <td>Yolo</td>\n",
       "      <td>0</td>\n",
       "    </tr>\n",
       "  </tbody>\n",
       "</table>\n",
       "<p>136 rows × 4 columns</p>\n",
       "</div>"
      ],
      "text/plain": [
       "     GEOID  labels    COUNTY  Weighted_pop\n",
       "0    06001       0  Alameda            149\n",
       "1    06001       1  Alameda            274\n",
       "2    06001       2  Alameda            133\n",
       "3    06001       3  Alameda             31\n",
       "4    06007       0    Butte              8\n",
       "..     ...     ...       ...           ...\n",
       "131  06111       3  Ventura              5\n",
       "132  06113       0     Yolo              2\n",
       "133  06113       1     Yolo              4\n",
       "134  06113       2     Yolo              3\n",
       "135  06113       3     Yolo              0\n",
       "\n",
       "[136 rows x 4 columns]"
      ]
     },
     "execution_count": 135,
     "metadata": {},
     "output_type": "execute_result"
    }
   ],
   "source": [
    "df10geomerged = df10geo.merge(countiesdf,how='inner',left_on='GEOID',right_on='FIPS')\n",
    "df10geomerged = df10geomerged[['GEOID','labels','COUNTY','Weighted_pop']]\n",
    "df10geomerged"
   ]
  },
  {
   "cell_type": "code",
   "execution_count": 150,
   "id": "contemporary-challenge",
   "metadata": {},
   "outputs": [],
   "source": [
    "df10geomerged.to_csv('C:/Users/akaba/Downloads/df10geo.csv')"
   ]
  },
  {
   "cell_type": "code",
   "execution_count": null,
   "id": "after-tennessee",
   "metadata": {},
   "outputs": [],
   "source": []
  }
 ],
 "metadata": {
  "kernelspec": {
   "display_name": "Python 3",
   "language": "python",
   "name": "python3"
  },
  "language_info": {
   "codemirror_mode": {
    "name": "ipython",
    "version": 3
   },
   "file_extension": ".py",
   "mimetype": "text/x-python",
   "name": "python",
   "nbconvert_exporter": "python",
   "pygments_lexer": "ipython3",
   "version": "3.8.5"
  }
 },
 "nbformat": 4,
 "nbformat_minor": 5
}
