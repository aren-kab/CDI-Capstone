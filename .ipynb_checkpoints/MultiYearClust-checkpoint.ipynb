{
 "cells": [
  {
   "cell_type": "code",
   "execution_count": 1,
   "id": "ccfed720",
   "metadata": {},
   "outputs": [],
   "source": [
    "import pandas as pd\n",
    "import numpy as np\n",
    "import datetime as dt\n",
    "import matplotlib\n",
    "import matplotlib.pyplot as plt\n",
    "import scipy.cluster.hierarchy as shc\n",
    "from sklearn.cluster import AgglomerativeClustering\n",
    "import os\n",
    "import seaborn as sns\n",
    "from sklearn.cluster import KMeans\n",
    "from scipy.spatial.distance import cdist, pdist\n",
    "from sklearn.datasets import make_classification\n",
    "from sklearn.datasets import make_blobs\n",
    "from sklearn.metrics import silhouette_samples, silhouette_score\n",
    "import matplotlib.cm as cm\n",
    "from sklearn.mixture import GaussianMixture\n",
    "from sklearn.cluster import DBSCAN\n",
    "from sklearn import preprocessing\n",
    "from sklearn.preprocessing import StandardScaler"
   ]
  },
  {
   "cell_type": "code",
   "execution_count": 2,
   "id": "3a4d9498",
   "metadata": {},
   "outputs": [
    {
     "name": "stderr",
     "output_type": "stream",
     "text": [
      "C:\\Users\\akaba\\anaconda3\\lib\\site-packages\\IPython\\core\\interactiveshell.py:3165: DtypeWarning: Columns (32,33) have mixed types.Specify dtype option on import or set low_memory=False.\n",
      "  has_raised = await self.run_ast_nodes(code_ast.body, cell_name,\n"
     ]
    }
   ],
   "source": [
    "# fileName = \"C:/Users/Aren Kabarajian/Downloads/usa_00012.csv\"\n",
    "fileName = \"C:/Users/akaba/Downloads/usa_00012.csv\"\n",
    "file = pd.read_csv(fileName)\n",
    "dfCDI = pd.DataFrame(file)"
   ]
  },
  {
   "cell_type": "code",
   "execution_count": 3,
   "id": "05d659ef",
   "metadata": {
    "scrolled": true
   },
   "outputs": [
    {
     "data": {
      "text/plain": [
       "(6787855, 40)"
      ]
     },
     "execution_count": 3,
     "metadata": {},
     "output_type": "execute_result"
    }
   ],
   "source": [
    "dfCDI.shape"
   ]
  },
  {
   "cell_type": "code",
   "execution_count": 4,
   "id": "97283d2c",
   "metadata": {},
   "outputs": [
    {
     "data": {
      "text/plain": [
       "Index(['YEAR', 'MULTYEAR', 'SAMPLE', 'SERIAL', 'CBSERIAL', 'HHWT', 'CLUSTER',\n",
       "       'CPI99', 'STATEFIP', 'COUNTYFIP', 'DENSITY', 'CITY', 'PUMA', 'STRATA',\n",
       "       'GQ', 'OWNERSHP', 'OWNERSHPD', 'OWNCOST', 'RENTGRS', 'HHINCOME',\n",
       "       'CIHISPEED', 'PERNUM', 'PERWT', 'FAMSIZE', 'SEX', 'AGE', 'RACE',\n",
       "       'RACED', 'HISPAN', 'HISPAND', 'EDUC', 'EDUCD', 'OCCSOC', 'INDNAICS',\n",
       "       'INCTOT', 'FTOTINC', 'INCWAGE', 'MIGCOUNTY1', 'MOVEDIN', 'TRANTIME'],\n",
       "      dtype='object')"
      ]
     },
     "execution_count": 4,
     "metadata": {},
     "output_type": "execute_result"
    }
   ],
   "source": [
    "dfCDI.columns"
   ]
  },
  {
   "cell_type": "code",
   "execution_count": 5,
   "id": "c6a5c12d",
   "metadata": {},
   "outputs": [
    {
     "data": {
      "text/plain": [
       "(4823667, 40)"
      ]
     },
     "execution_count": 5,
     "metadata": {},
     "output_type": "execute_result"
    }
   ],
   "source": [
    "dfCDI = dfCDI[dfCDI['AGE']>=21]\n",
    "dfCDI.shape"
   ]
  },
  {
   "cell_type": "code",
   "execution_count": 6,
   "id": "04eac718",
   "metadata": {},
   "outputs": [
    {
     "data": {
      "text/plain": [
       "count    2964818.0\n",
       "mean           0.0\n",
       "std            0.0\n",
       "min            0.0\n",
       "25%            0.0\n",
       "50%            0.0\n",
       "75%            0.0\n",
       "max            0.0\n",
       "Name: RENTGRS, dtype: float64"
      ]
     },
     "execution_count": 6,
     "metadata": {},
     "output_type": "execute_result"
    }
   ],
   "source": [
    "dfHomeOwn=dfCDI[dfCDI['OWNERSHP']==1]\n",
    "dfHomeOwn.RENTGRS.describe()"
   ]
  },
  {
   "cell_type": "code",
   "execution_count": 7,
   "id": "68ee548c",
   "metadata": {},
   "outputs": [
    {
     "data": {
      "text/plain": [
       "(4677699, 40)"
      ]
     },
     "execution_count": 7,
     "metadata": {},
     "output_type": "execute_result"
    }
   ],
   "source": [
    "dfCDI = dfCDI[dfCDI['OWNERSHP']!=0]\n",
    "dfCDI.shape"
   ]
  },
  {
   "cell_type": "code",
   "execution_count": 8,
   "id": "324cdcf5",
   "metadata": {},
   "outputs": [],
   "source": [
    "dfCDI['affrentdec'] = dfCDI['RENTGRS']*12/dfCDI['HHINCOME']"
   ]
  },
  {
   "cell_type": "code",
   "execution_count": 9,
   "id": "5a5c7180",
   "metadata": {},
   "outputs": [],
   "source": [
    "def housingFunc(own, affrentdec):\n",
    "    if own==1:\n",
    "        housingCat=2\n",
    "    elif own==2 and affrentdec<.3:\n",
    "        housingCat=1\n",
    "    else:\n",
    "        housingCat=0\n",
    "    return housingCat"
   ]
  },
  {
   "cell_type": "code",
   "execution_count": 10,
   "id": "12675b32",
   "metadata": {},
   "outputs": [
    {
     "data": {
      "text/plain": [
       "2    2964818\n",
       "1     968222\n",
       "0     744659\n",
       "Name: HousingCat, dtype: int64"
      ]
     },
     "execution_count": 10,
     "metadata": {},
     "output_type": "execute_result"
    }
   ],
   "source": [
    "dfCDI['HousingCat'] = dfCDI.apply(lambda x: housingFunc(x['OWNERSHP'], x['affrentdec']), axis=1)\n",
    "dfCDI['HousingCat'].value_counts()"
   ]
  },
  {
   "cell_type": "code",
   "execution_count": 11,
   "id": "b1cec940",
   "metadata": {},
   "outputs": [
    {
     "data": {
      "text/plain": [
       "0    2937721\n",
       "1    1739978\n",
       "Name: EDUCbin, dtype: int64"
      ]
     },
     "execution_count": 11,
     "metadata": {},
     "output_type": "execute_result"
    }
   ],
   "source": [
    "dfCDI['EDUCbin'] = [1 if x >=8 else 0 for x in dfCDI['EDUC']]\n",
    "dfCDI['EDUCbin'].value_counts()"
   ]
  },
  {
   "cell_type": "code",
   "execution_count": 12,
   "id": "fac593f6",
   "metadata": {},
   "outputs": [
    {
     "data": {
      "text/plain": [
       "0      1988964\n",
       "30      394673\n",
       "15      393749\n",
       "20      378805\n",
       "10      319484\n",
       "        ...   \n",
       "119          3\n",
       "118          3\n",
       "123          3\n",
       "117          3\n",
       "126          1\n",
       "Name: TRANTIME, Length: 133, dtype: int64"
      ]
     },
     "execution_count": 12,
     "metadata": {},
     "output_type": "execute_result"
    }
   ],
   "source": [
    "dfCDI['TRANTIME'].value_counts()"
   ]
  },
  {
   "cell_type": "markdown",
   "id": "7e1b6c3b",
   "metadata": {},
   "source": [
    "## Split by year"
   ]
  },
  {
   "cell_type": "code",
   "execution_count": 13,
   "id": "d65114b5",
   "metadata": {},
   "outputs": [
    {
     "data": {
      "text/plain": [
       "2019    1358004\n",
       "2010    1219545\n",
       "2000    1119919\n",
       "1990     980231\n",
       "Name: YEAR, dtype: int64"
      ]
     },
     "execution_count": 13,
     "metadata": {},
     "output_type": "execute_result"
    }
   ],
   "source": [
    "dfCDI['YEAR'].value_counts()"
   ]
  },
  {
   "cell_type": "code",
   "execution_count": 14,
   "id": "fbc16542",
   "metadata": {},
   "outputs": [],
   "source": [
    "df19=dfCDI[dfCDI['YEAR']==2019]\n",
    "df10=dfCDI[dfCDI['YEAR']==2010]\n",
    "df00=dfCDI[dfCDI['YEAR']==2000]\n",
    "df90=dfCDI[dfCDI['YEAR']==1990]"
   ]
  },
  {
   "cell_type": "code",
   "execution_count": 15,
   "id": "c3d2b611",
   "metadata": {},
   "outputs": [
    {
     "name": "stdout",
     "output_type": "stream",
     "text": [
      "41\n",
      "42\n",
      "39\n",
      "5\n",
      "19\n",
      "26\n",
      "25\n",
      "24\n",
      "9\n",
      "28\n"
     ]
    }
   ],
   "source": [
    "print(dfCDI.columns.get_loc(\"HousingCat\"))\n",
    "print(dfCDI.columns.get_loc(\"EDUCbin\"))\n",
    "print(dfCDI.columns.get_loc(\"TRANTIME\"))\n",
    "print(dfCDI.columns.get_loc(\"HHWT\"))\n",
    "print(dfCDI.columns.get_loc(\"HHINCOME\"))\n",
    "print(dfCDI.columns.get_loc(\"RACE\"))\n",
    "print(dfCDI.columns.get_loc(\"AGE\"))\n",
    "print(dfCDI.columns.get_loc(\"SEX\"))\n",
    "print(dfCDI.columns.get_loc(\"COUNTYFIP\"))\n",
    "print(dfCDI.columns.get_loc(\"HISPAN\"))"
   ]
  },
  {
   "cell_type": "code",
   "execution_count": 16,
   "id": "5eb57f73",
   "metadata": {},
   "outputs": [],
   "source": [
    "x19 = df19.iloc[:, [41,42,39,5,19,26,25,24,9,28]]\n",
    "x10 = df10.iloc[:, [41,42,39,5,19,26,25,24,9,28]]\n",
    "x00 = df00.iloc[:, [41,42,39,5,19,26,25,24,9,28]]\n",
    "x90 = df90.iloc[:, [41,42,39,5,19,26,25,24,9,28]]"
   ]
  },
  {
   "cell_type": "markdown",
   "id": "5cce360e",
   "metadata": {},
   "source": [
    "## Scaling Values"
   ]
  },
  {
   "cell_type": "code",
   "execution_count": 17,
   "id": "06ef2227",
   "metadata": {},
   "outputs": [],
   "source": [
    "\n",
    "scaler = StandardScaler()\n",
    "scalerNum = scaler.fit(x19)\n",
    "scalerNum1 = scaler.fit(x10)\n",
    "scalerNum2 = scaler.fit(x00)\n",
    "scalerNum3 = scaler.fit(x90)\n",
    "xstd19 = scalerNum.transform(x19)\n",
    "xstd10 = scalerNum1.transform(x10)\n",
    "xstd00 = scalerNum2.transform(x00)\n",
    "xstd90 = scalerNum3.transform(x90)"
   ]
  },
  {
   "cell_type": "code",
   "execution_count": 18,
   "id": "e8f8c72c",
   "metadata": {},
   "outputs": [],
   "source": [
    "dfX19 = pd.DataFrame(xstd19, columns=['HousingCat','EDUCbin','TRANTIME','HHWT','HHINCOME','RACE','AGE','SEX','COUNTYFIP','HISPAN'])\n",
    "dfX10 = pd.DataFrame(xstd10, columns=['HousingCat','EDUCbin','TRANTIME','HHWT','HHINCOME','RACE','AGE','SEX','COUNTYFIP','HISPAN'])\n",
    "dfX00 = pd.DataFrame(xstd00, columns=['HousingCat','EDUCbin','TRANTIME','HHWT','HHINCOME','RACE','AGE','SEX','COUNTYFIP','HISPAN'])\n",
    "dfX90 = pd.DataFrame(xstd90, columns=['HousingCat','EDUCbin','TRANTIME','HHWT','HHINCOME','RACE','AGE','SEX','COUNTYFIP','HISPAN'])"
   ]
  },
  {
   "cell_type": "markdown",
   "id": "5fd0eb63",
   "metadata": {},
   "source": [
    "## Sillouette Score "
   ]
  },
  {
   "cell_type": "code",
   "execution_count": 19,
   "id": "7be8be15",
   "metadata": {},
   "outputs": [
    {
     "name": "stdout",
     "output_type": "stream",
     "text": [
      "For n_clusters = 2 the average silhouette_score is: 0.40793777473141024\n",
      "For n_clusters = 3 the average silhouette_score is: 0.44059970122046804\n",
      "For n_clusters = 4 the average silhouette_score is: 0.5058111351119873\n",
      "For n_clusters = 5 the average silhouette_score is: 0.5342346778737816\n",
      "For n_clusters = 6 the average silhouette_score is: 0.5570484527188055\n",
      "For n_clusters = 7 the average silhouette_score is: 0.5704347299956448\n"
     ]
    }
   ],
   "source": [
    "#2019\n",
    "for i in range(2,8):\n",
    "    km = KMeans(n_clusters = i, init = 'k-means++', random_state = 42)\n",
    "    cluster_labels = km.fit_predict(dfX19.iloc[:,0:3])\n",
    "    silhouette_avg = silhouette_score(dfX19.iloc[:,0:3], cluster_labels, metric='euclidean',sample_size = 10000, random_state=None)\n",
    "    print('For n_clusters = {} the average silhouette_score is: {}'.format(i, silhouette_avg))"
   ]
  },
  {
   "cell_type": "code",
   "execution_count": 20,
   "id": "6d8b535a",
   "metadata": {},
   "outputs": [
    {
     "name": "stdout",
     "output_type": "stream",
     "text": [
      "For n_clusters = 2 the average silhouette_score is: 0.43655056864123387\n",
      "For n_clusters = 3 the average silhouette_score is: 0.4858529176977651\n",
      "For n_clusters = 4 the average silhouette_score is: 0.5335803440937609\n",
      "For n_clusters = 5 the average silhouette_score is: 0.5658549186591724\n",
      "For n_clusters = 6 the average silhouette_score is: 0.5587142062416064\n",
      "For n_clusters = 7 the average silhouette_score is: 0.5847498841493565\n"
     ]
    }
   ],
   "source": [
    "#2010 \n",
    "for i in range(2,8):\n",
    "    km = KMeans(n_clusters = i, init = 'k-means++', random_state = 42)\n",
    "    cluster_labels = km.fit_predict(dfX10.iloc[:,0:3])\n",
    "    silhouette_avg = silhouette_score(dfX10.iloc[:,0:3], cluster_labels, metric='euclidean', sample_size = 10000, random_state=None)\n",
    "    print('For n_clusters = {} the average silhouette_score is: {}'.format(i, silhouette_avg))"
   ]
  },
  {
   "cell_type": "code",
   "execution_count": 21,
   "id": "ec184d42",
   "metadata": {},
   "outputs": [
    {
     "name": "stdout",
     "output_type": "stream",
     "text": [
      "For n_clusters = 2 the average silhouette_score is: 0.4342633655713736\n",
      "For n_clusters = 3 the average silhouette_score is: 0.4658299353316119\n",
      "For n_clusters = 4 the average silhouette_score is: 0.508824623184852\n",
      "For n_clusters = 5 the average silhouette_score is: 0.516796251351133\n",
      "For n_clusters = 6 the average silhouette_score is: 0.5499777661961595\n",
      "For n_clusters = 7 the average silhouette_score is: 0.560624983662376\n"
     ]
    }
   ],
   "source": [
    "#2000 \n",
    "for i in range(2,8):\n",
    "    km = KMeans(n_clusters = i, init = 'k-means++', random_state = 42)\n",
    "    cluster_labels = km.fit_predict(dfX00.iloc[:,0:3])\n",
    "    silhouette_avg = silhouette_score(dfX00.iloc[:,0:3], cluster_labels, metric='euclidean',sample_size = 10000, random_state=None)\n",
    "    print('For n_clusters = {} the average silhouette_score is: {}'.format(i, silhouette_avg))"
   ]
  },
  {
   "cell_type": "code",
   "execution_count": 22,
   "id": "abecd716",
   "metadata": {},
   "outputs": [
    {
     "name": "stdout",
     "output_type": "stream",
     "text": [
      "For n_clusters = 2 the average silhouette_score is: 0.43474109484492435\n",
      "For n_clusters = 3 the average silhouette_score is: 0.4827994407372954\n",
      "For n_clusters = 4 the average silhouette_score is: 0.5240984386440428\n",
      "For n_clusters = 5 the average silhouette_score is: 0.5523183799506891\n",
      "For n_clusters = 6 the average silhouette_score is: 0.5604490780348192\n",
      "For n_clusters = 7 the average silhouette_score is: 0.5817335408269381\n"
     ]
    }
   ],
   "source": [
    "#1990 \n",
    "for i in range(2,8):\n",
    "    km = KMeans(n_clusters = i, init = 'k-means++', random_state = 42)\n",
    "    cluster_labels = km.fit_predict(dfX90.iloc[:,0:3])\n",
    "    silhouette_avg = silhouette_score(dfX90.iloc[:,0:3], cluster_labels, metric='euclidean',sample_size = 10000, random_state=None)\n",
    "    print('For n_clusters = {} the average silhouette_score is: {}'.format(i, silhouette_avg))"
   ]
  },
  {
   "cell_type": "markdown",
   "id": "981c40c8",
   "metadata": {},
   "source": [
    "## Clustering"
   ]
  },
  {
   "cell_type": "markdown",
   "id": "7d1bb671",
   "metadata": {},
   "source": [
    "### 2019"
   ]
  },
  {
   "cell_type": "code",
   "execution_count": 23,
   "id": "81b64139",
   "metadata": {},
   "outputs": [
    {
     "data": {
      "text/html": [
       "<div>\n",
       "<style scoped>\n",
       "    .dataframe tbody tr th:only-of-type {\n",
       "        vertical-align: middle;\n",
       "    }\n",
       "\n",
       "    .dataframe tbody tr th {\n",
       "        vertical-align: top;\n",
       "    }\n",
       "\n",
       "    .dataframe thead th {\n",
       "        text-align: right;\n",
       "    }\n",
       "</style>\n",
       "<table border=\"1\" class=\"dataframe\">\n",
       "  <thead>\n",
       "    <tr style=\"text-align: right;\">\n",
       "      <th></th>\n",
       "      <th>HousingCat</th>\n",
       "      <th>EDUCbin</th>\n",
       "      <th>TRANTIME</th>\n",
       "      <th>HHWT</th>\n",
       "      <th>HHINCOME</th>\n",
       "      <th>RACE</th>\n",
       "      <th>AGE</th>\n",
       "      <th>SEX</th>\n",
       "      <th>COUNTYFIP</th>\n",
       "      <th>HISPAN</th>\n",
       "    </tr>\n",
       "    <tr>\n",
       "      <th>labels</th>\n",
       "      <th></th>\n",
       "      <th></th>\n",
       "      <th></th>\n",
       "      <th></th>\n",
       "      <th></th>\n",
       "      <th></th>\n",
       "      <th></th>\n",
       "      <th></th>\n",
       "      <th></th>\n",
       "      <th></th>\n",
       "    </tr>\n",
       "  </thead>\n",
       "  <tbody>\n",
       "    <tr>\n",
       "      <th>0</th>\n",
       "      <td>1.799385</td>\n",
       "      <td>1.000000</td>\n",
       "      <td>12.916467</td>\n",
       "      <td>17.956563</td>\n",
       "      <td>173946.110232</td>\n",
       "      <td>2.457863</td>\n",
       "      <td>50.998305</td>\n",
       "      <td>1.532594</td>\n",
       "      <td>54.820877</td>\n",
       "      <td>0.235385</td>\n",
       "    </tr>\n",
       "    <tr>\n",
       "      <th>1</th>\n",
       "      <td>0.000000</td>\n",
       "      <td>0.287396</td>\n",
       "      <td>10.451930</td>\n",
       "      <td>23.018457</td>\n",
       "      <td>38730.930909</td>\n",
       "      <td>2.967576</td>\n",
       "      <td>45.252069</td>\n",
       "      <td>1.561326</td>\n",
       "      <td>52.060037</td>\n",
       "      <td>0.650695</td>\n",
       "    </tr>\n",
       "    <tr>\n",
       "      <th>2</th>\n",
       "      <td>1.524420</td>\n",
       "      <td>0.469698</td>\n",
       "      <td>69.495130</td>\n",
       "      <td>19.508688</td>\n",
       "      <td>148009.041538</td>\n",
       "      <td>2.909480</td>\n",
       "      <td>43.849215</td>\n",
       "      <td>1.400276</td>\n",
       "      <td>50.465479</td>\n",
       "      <td>0.560591</td>\n",
       "    </tr>\n",
       "    <tr>\n",
       "      <th>3</th>\n",
       "      <td>1.757582</td>\n",
       "      <td>0.000000</td>\n",
       "      <td>9.116488</td>\n",
       "      <td>19.048280</td>\n",
       "      <td>104816.696227</td>\n",
       "      <td>2.703187</td>\n",
       "      <td>52.624218</td>\n",
       "      <td>1.528055</td>\n",
       "      <td>53.225065</td>\n",
       "      <td>0.584194</td>\n",
       "    </tr>\n",
       "  </tbody>\n",
       "</table>\n",
       "</div>"
      ],
      "text/plain": [
       "        HousingCat   EDUCbin   TRANTIME       HHWT       HHINCOME      RACE  \\\n",
       "labels                                                                        \n",
       "0         1.799385  1.000000  12.916467  17.956563  173946.110232  2.457863   \n",
       "1         0.000000  0.287396  10.451930  23.018457   38730.930909  2.967576   \n",
       "2         1.524420  0.469698  69.495130  19.508688  148009.041538  2.909480   \n",
       "3         1.757582  0.000000   9.116488  19.048280  104816.696227  2.703187   \n",
       "\n",
       "              AGE       SEX  COUNTYFIP    HISPAN  \n",
       "labels                                            \n",
       "0       50.998305  1.532594  54.820877  0.235385  \n",
       "1       45.252069  1.561326  52.060037  0.650695  \n",
       "2       43.849215  1.400276  50.465479  0.560591  \n",
       "3       52.624218  1.528055  53.225065  0.584194  "
      ]
     },
     "execution_count": 23,
     "metadata": {},
     "output_type": "execute_result"
    }
   ],
   "source": [
    "#clustering and means table \n",
    "kmeans = KMeans(n_clusters = 4, init = 'k-means++', random_state = 42)\n",
    "kmeans.fit(dfX19.iloc[:,0:3])\n",
    "X19fin = scaler.inverse_transform(dfX19)\n",
    "dfX19fin = pd.DataFrame(X19fin, columns=['HousingCat','EDUCbin','TRANTIME','HHWT','HHINCOME','RACE','AGE','SEX','COUNTYFIP','HISPAN'])\n",
    "dfX19fin['labels'] = kmeans.labels_\n",
    "cluster_sum19 = dfX19fin.groupby(by = 'labels').mean()\n",
    "cluster_sum19.head(4)\n"
   ]
  },
  {
   "cell_type": "code",
   "execution_count": 24,
   "id": "c860cea0",
   "metadata": {},
   "outputs": [
    {
     "data": {
      "text/html": [
       "<div>\n",
       "<style scoped>\n",
       "    .dataframe tbody tr th:only-of-type {\n",
       "        vertical-align: middle;\n",
       "    }\n",
       "\n",
       "    .dataframe tbody tr th {\n",
       "        vertical-align: top;\n",
       "    }\n",
       "\n",
       "    .dataframe thead th {\n",
       "        text-align: right;\n",
       "    }\n",
       "</style>\n",
       "<table border=\"1\" class=\"dataframe\">\n",
       "  <thead>\n",
       "    <tr style=\"text-align: right;\">\n",
       "      <th></th>\n",
       "      <th>HousingCat</th>\n",
       "      <th>EDUCbin</th>\n",
       "      <th>TRANTIME</th>\n",
       "      <th>HHWT</th>\n",
       "      <th>HHINCOME</th>\n",
       "      <th>RACE</th>\n",
       "      <th>AGE</th>\n",
       "      <th>SEX</th>\n",
       "      <th>COUNTYFIP</th>\n",
       "      <th>HISPAN</th>\n",
       "    </tr>\n",
       "    <tr>\n",
       "      <th>labels</th>\n",
       "      <th></th>\n",
       "      <th></th>\n",
       "      <th></th>\n",
       "      <th></th>\n",
       "      <th></th>\n",
       "      <th></th>\n",
       "      <th></th>\n",
       "      <th></th>\n",
       "      <th></th>\n",
       "      <th></th>\n",
       "    </tr>\n",
       "  </thead>\n",
       "  <tbody>\n",
       "    <tr>\n",
       "      <th>0</th>\n",
       "      <td>2.0</td>\n",
       "      <td>1.0</td>\n",
       "      <td>10.0</td>\n",
       "      <td>14.0</td>\n",
       "      <td>134539.0</td>\n",
       "      <td>1.0</td>\n",
       "      <td>51.0</td>\n",
       "      <td>2.0</td>\n",
       "      <td>59.0</td>\n",
       "      <td>0.0</td>\n",
       "    </tr>\n",
       "    <tr>\n",
       "      <th>1</th>\n",
       "      <td>0.0</td>\n",
       "      <td>0.0</td>\n",
       "      <td>0.0</td>\n",
       "      <td>18.0</td>\n",
       "      <td>33374.0</td>\n",
       "      <td>1.0</td>\n",
       "      <td>42.0</td>\n",
       "      <td>2.0</td>\n",
       "      <td>41.0</td>\n",
       "      <td>0.0</td>\n",
       "    </tr>\n",
       "    <tr>\n",
       "      <th>2</th>\n",
       "      <td>2.0</td>\n",
       "      <td>0.0</td>\n",
       "      <td>60.0</td>\n",
       "      <td>15.0</td>\n",
       "      <td>118102.0</td>\n",
       "      <td>1.0</td>\n",
       "      <td>43.0</td>\n",
       "      <td>1.0</td>\n",
       "      <td>37.0</td>\n",
       "      <td>0.0</td>\n",
       "    </tr>\n",
       "    <tr>\n",
       "      <th>3</th>\n",
       "      <td>2.0</td>\n",
       "      <td>0.0</td>\n",
       "      <td>0.0</td>\n",
       "      <td>14.0</td>\n",
       "      <td>84000.0</td>\n",
       "      <td>1.0</td>\n",
       "      <td>54.0</td>\n",
       "      <td>2.0</td>\n",
       "      <td>59.0</td>\n",
       "      <td>0.0</td>\n",
       "    </tr>\n",
       "  </tbody>\n",
       "</table>\n",
       "</div>"
      ],
      "text/plain": [
       "        HousingCat  EDUCbin  TRANTIME  HHWT  HHINCOME  RACE   AGE  SEX  \\\n",
       "labels                                                                   \n",
       "0              2.0      1.0      10.0  14.0  134539.0   1.0  51.0  2.0   \n",
       "1              0.0      0.0       0.0  18.0   33374.0   1.0  42.0  2.0   \n",
       "2              2.0      0.0      60.0  15.0  118102.0   1.0  43.0  1.0   \n",
       "3              2.0      0.0       0.0  14.0   84000.0   1.0  54.0  2.0   \n",
       "\n",
       "        COUNTYFIP  HISPAN  \n",
       "labels                     \n",
       "0            59.0     0.0  \n",
       "1            41.0     0.0  \n",
       "2            37.0     0.0  \n",
       "3            59.0     0.0  "
      ]
     },
     "execution_count": 24,
     "metadata": {},
     "output_type": "execute_result"
    }
   ],
   "source": [
    "#median table\n",
    "round(dfX19fin.groupby(by = 'labels').median(),2)"
   ]
  },
  {
   "cell_type": "code",
   "execution_count": 25,
   "id": "03d8ee19",
   "metadata": {},
   "outputs": [],
   "source": [
    "#seperate Clusters\n",
    "clust2019_0 = dfX19fin[dfX19fin['labels']==0]\n",
    "clust2019_1 = dfX19fin[dfX19fin['labels']==1]\n",
    "clust2019_2 = dfX19fin[dfX19fin['labels']==2]\n",
    "clust2019_3 = dfX19fin[dfX19fin['labels']==3]"
   ]
  },
  {
   "cell_type": "code",
   "execution_count": 26,
   "id": "7fd64b32",
   "metadata": {},
   "outputs": [],
   "source": [
    "hhTotal0_2019=clust2019_0['HHWT'].sum()\n",
    "hhTotal1_2019=clust2019_1['HHWT'].sum()\n",
    "hhTotal2_2019=clust2019_2['HHWT'].sum()\n",
    "hhTotal3_2019=clust2019_3['HHWT'].sum()"
   ]
  },
  {
   "cell_type": "code",
   "execution_count": 27,
   "id": "6b2a2229",
   "metadata": {},
   "outputs": [
    {
     "name": "stderr",
     "output_type": "stream",
     "text": [
      "<ipython-input-27-6d6538c7cde2>:1: SettingWithCopyWarning: \n",
      "A value is trying to be set on a copy of a slice from a DataFrame.\n",
      "Try using .loc[row_indexer,col_indexer] = value instead\n",
      "\n",
      "See the caveats in the documentation: https://pandas.pydata.org/pandas-docs/stable/user_guide/indexing.html#returning-a-view-versus-a-copy\n",
      "  clust2019_0['RowWt'] = clust2019_0['HHWT']/hhTotal0_2019\n",
      "<ipython-input-27-6d6538c7cde2>:2: SettingWithCopyWarning: \n",
      "A value is trying to be set on a copy of a slice from a DataFrame.\n",
      "Try using .loc[row_indexer,col_indexer] = value instead\n",
      "\n",
      "See the caveats in the documentation: https://pandas.pydata.org/pandas-docs/stable/user_guide/indexing.html#returning-a-view-versus-a-copy\n",
      "  clust2019_1['RowWt'] = clust2019_1['HHWT']/hhTotal1_2019\n",
      "<ipython-input-27-6d6538c7cde2>:3: SettingWithCopyWarning: \n",
      "A value is trying to be set on a copy of a slice from a DataFrame.\n",
      "Try using .loc[row_indexer,col_indexer] = value instead\n",
      "\n",
      "See the caveats in the documentation: https://pandas.pydata.org/pandas-docs/stable/user_guide/indexing.html#returning-a-view-versus-a-copy\n",
      "  clust2019_2['RowWt'] = clust2019_2['HHWT']/hhTotal2_2019\n",
      "<ipython-input-27-6d6538c7cde2>:4: SettingWithCopyWarning: \n",
      "A value is trying to be set on a copy of a slice from a DataFrame.\n",
      "Try using .loc[row_indexer,col_indexer] = value instead\n",
      "\n",
      "See the caveats in the documentation: https://pandas.pydata.org/pandas-docs/stable/user_guide/indexing.html#returning-a-view-versus-a-copy\n",
      "  clust2019_3['RowWt'] = clust2019_3['HHWT']/hhTotal3_2019\n"
     ]
    }
   ],
   "source": [
    "clust2019_0['RowWt'] = clust2019_0['HHWT']/hhTotal0_2019\n",
    "clust2019_1['RowWt'] = clust2019_1['HHWT']/hhTotal1_2019\n",
    "clust2019_2['RowWt'] = clust2019_2['HHWT']/hhTotal2_2019\n",
    "clust2019_3['RowWt'] = clust2019_3['HHWT']/hhTotal3_2019"
   ]
  },
  {
   "cell_type": "markdown",
   "id": "799ccbdf",
   "metadata": {},
   "source": [
    "## Housing Category"
   ]
  },
  {
   "cell_type": "code",
   "execution_count": 28,
   "id": "304f7dd2",
   "metadata": {},
   "outputs": [
    {
     "data": {
      "text/html": [
       "<div>\n",
       "<style scoped>\n",
       "    .dataframe tbody tr th:only-of-type {\n",
       "        vertical-align: middle;\n",
       "    }\n",
       "\n",
       "    .dataframe tbody tr th {\n",
       "        vertical-align: top;\n",
       "    }\n",
       "\n",
       "    .dataframe thead th {\n",
       "        text-align: right;\n",
       "    }\n",
       "</style>\n",
       "<table border=\"1\" class=\"dataframe\">\n",
       "  <thead>\n",
       "    <tr style=\"text-align: right;\">\n",
       "      <th></th>\n",
       "      <th>&gt;=30% Income on Rent</th>\n",
       "      <th>&lt;30% Income on Rent</th>\n",
       "      <th>Owner</th>\n",
       "    </tr>\n",
       "  </thead>\n",
       "  <tbody>\n",
       "    <tr>\n",
       "      <th>Cluster 0</th>\n",
       "      <td>0.000000</td>\n",
       "      <td>0.235665</td>\n",
       "      <td>0.764335</td>\n",
       "    </tr>\n",
       "    <tr>\n",
       "      <th>Cluster 1</th>\n",
       "      <td>1.000000</td>\n",
       "      <td>0.000000</td>\n",
       "      <td>0.000000</td>\n",
       "    </tr>\n",
       "    <tr>\n",
       "      <th>Cluster 2</th>\n",
       "      <td>0.119719</td>\n",
       "      <td>0.299405</td>\n",
       "      <td>0.580876</td>\n",
       "    </tr>\n",
       "    <tr>\n",
       "      <th>Cluster 3</th>\n",
       "      <td>0.000000</td>\n",
       "      <td>0.287694</td>\n",
       "      <td>0.712306</td>\n",
       "    </tr>\n",
       "  </tbody>\n",
       "</table>\n",
       "</div>"
      ],
      "text/plain": [
       "           >=30% Income on Rent  <30% Income on Rent     Owner\n",
       "Cluster 0              0.000000             0.235665  0.764335\n",
       "Cluster 1              1.000000             0.000000  0.000000\n",
       "Cluster 2              0.119719             0.299405  0.580876\n",
       "Cluster 3              0.000000             0.287694  0.712306"
      ]
     },
     "execution_count": 28,
     "metadata": {},
     "output_type": "execute_result"
    }
   ],
   "source": [
    "clustNames= ['Cluster 0', 'Cluster 1', 'Cluster 2','Cluster 3',]\n",
    "dfHousing_2019 = pd.DataFrame(index=clustNames, data=np.array([[clust2019_0.loc[clust2019_0['HousingCat']==0].RowWt.sum(),\n",
    "                                                     clust2019_0.loc[clust2019_0['HousingCat']==1].RowWt.sum(),\n",
    "                                                     clust2019_0.loc[clust2019_0['HousingCat']==2].RowWt.sum()], \n",
    "                                                    [clust2019_1.loc[clust2019_1['HousingCat']==0].RowWt.sum(),\n",
    "                                                     clust2019_1.loc[clust2019_1['HousingCat']==1].RowWt.sum(),\n",
    "                                                     clust2019_1.loc[clust2019_1['HousingCat']==2].RowWt.sum()],\n",
    "                                                    [clust2019_2.loc[clust2019_2['HousingCat']==0].RowWt.sum(),\n",
    "                                                     clust2019_2.loc[clust2019_2['HousingCat']==1].RowWt.sum(),\n",
    "                                                     clust2019_2.loc[clust2019_2['HousingCat']==2].RowWt.sum()],\n",
    "                                                    [clust2019_3.loc[clust2019_3['HousingCat']==0].RowWt.sum(),\n",
    "                                                     clust2019_3.loc[clust2019_3['HousingCat']==1].RowWt.sum(),\n",
    "                                                     clust2019_3.loc[clust2019_3['HousingCat']==2].RowWt.sum()],\n",
    "                                                    ]),\n",
    "                   columns=['>=30% Income on Rent', '<30% Income on Rent', 'Owner'])\n",
    "dfHousing_2019"
   ]
  },
  {
   "cell_type": "markdown",
   "id": "6dc18c9f",
   "metadata": {},
   "source": [
    "## Education (binary)"
   ]
  },
  {
   "cell_type": "code",
   "execution_count": 29,
   "id": "6e8234a3",
   "metadata": {},
   "outputs": [
    {
     "data": {
      "text/html": [
       "<div>\n",
       "<style scoped>\n",
       "    .dataframe tbody tr th:only-of-type {\n",
       "        vertical-align: middle;\n",
       "    }\n",
       "\n",
       "    .dataframe tbody tr th {\n",
       "        vertical-align: top;\n",
       "    }\n",
       "\n",
       "    .dataframe thead th {\n",
       "        text-align: right;\n",
       "    }\n",
       "</style>\n",
       "<table border=\"1\" class=\"dataframe\">\n",
       "  <thead>\n",
       "    <tr style=\"text-align: right;\">\n",
       "      <th></th>\n",
       "      <th>&lt;2 yr. College</th>\n",
       "      <th>&gt;2 yr. College</th>\n",
       "    </tr>\n",
       "  </thead>\n",
       "  <tbody>\n",
       "    <tr>\n",
       "      <th>Cluster 0</th>\n",
       "      <td>0.000000</td>\n",
       "      <td>1.000000</td>\n",
       "    </tr>\n",
       "    <tr>\n",
       "      <th>Cluster 1</th>\n",
       "      <td>0.732596</td>\n",
       "      <td>0.267404</td>\n",
       "    </tr>\n",
       "    <tr>\n",
       "      <th>Cluster 2</th>\n",
       "      <td>0.550536</td>\n",
       "      <td>0.449464</td>\n",
       "    </tr>\n",
       "    <tr>\n",
       "      <th>Cluster 3</th>\n",
       "      <td>1.000000</td>\n",
       "      <td>0.000000</td>\n",
       "    </tr>\n",
       "  </tbody>\n",
       "</table>\n",
       "</div>"
      ],
      "text/plain": [
       "           <2 yr. College  >2 yr. College\n",
       "Cluster 0        0.000000        1.000000\n",
       "Cluster 1        0.732596        0.267404\n",
       "Cluster 2        0.550536        0.449464\n",
       "Cluster 3        1.000000        0.000000"
      ]
     },
     "execution_count": 29,
     "metadata": {},
     "output_type": "execute_result"
    }
   ],
   "source": [
    "#Education Binary Table \n",
    "clustNames= ['Cluster 0', 'Cluster 1', 'Cluster 2','Cluster 3',]\n",
    "dfEDU_2019 = pd.DataFrame(index=clustNames, data=np.array([[clust2019_0.loc[clust2019_0['EDUCbin']==0].RowWt.sum(),\n",
    "                                                     clust2019_0.loc[clust2019_0['EDUCbin']==1].RowWt.sum()], \n",
    "                                                    [clust2019_1.loc[clust2019_1['EDUCbin']==0].RowWt.sum(),\n",
    "                                                     clust2019_1.loc[clust2019_1['EDUCbin']==1].RowWt.sum()],\n",
    "                                                    [clust2019_2.loc[clust2019_2['EDUCbin']==0].RowWt.sum(),\n",
    "                                                     clust2019_2.loc[clust2019_2['EDUCbin']==1].RowWt.sum()],\n",
    "                                                    [clust2019_3.loc[clust2019_3['EDUCbin']==0].RowWt.sum(),\n",
    "                                                     clust2019_3.loc[clust2019_3['EDUCbin']==1].RowWt.sum(),\n",
    "                                                    ]]),\n",
    "                   columns=['<2 yr. College', '>2 yr. College'])\n",
    "dfEDU_2019"
   ]
  },
  {
   "cell_type": "markdown",
   "id": "9e772217",
   "metadata": {},
   "source": [
    "## Commute Time"
   ]
  },
  {
   "cell_type": "code",
   "execution_count": 30,
   "id": "8e73636d",
   "metadata": {},
   "outputs": [
    {
     "data": {
      "image/png": "[encoded data removed]",
      "text/plain": [
       "<Figure size 1080x504 with 4 Axes>"
      ]
     },
     "metadata": {
      "needs_background": "light"
     },
     "output_type": "display_data"
    }
   ],
   "source": [
    "fig, axs = plt.subplots(2, 2, sharex=True, figsize=(15,7))\n",
    "fig.suptitle(\"Cluster Commute Time Distributions\")\n",
    "\n",
    "axs[0, 0].hist(clust2019_0['TRANTIME'])\n",
    "axs[0, 0].set_title('Cluster 0')\n",
    "axs[0, 1].hist(clust2019_1['TRANTIME'])\n",
    "axs[0, 1].set_title('Cluster 1')\n",
    "axs[1, 0].hist(clust2019_2['TRANTIME'])\n",
    "axs[1, 0].set_title('Cluster 2')\n",
    "axs[1, 1].hist(clust2019_3['TRANTIME'])\n",
    "axs[1, 1].set_title('Cluster 3')\n",
    "\n",
    "for ax in axs[2:]:\n",
    "    ax.set(xlabel='Commute Time (Minutes)')"
   ]
  },
  {
   "cell_type": "markdown",
   "id": "10b4bf83",
   "metadata": {},
   "source": [
    "# Demographics"
   ]
  },
  {
   "cell_type": "markdown",
   "id": "233db3a3",
   "metadata": {},
   "source": [
    "## Race"
   ]
  },
  {
   "cell_type": "code",
   "execution_count": 31,
   "id": "9b1289e4",
   "metadata": {},
   "outputs": [
    {
     "data": {
      "text/html": [
       "<div>\n",
       "<style scoped>\n",
       "    .dataframe tbody tr th:only-of-type {\n",
       "        vertical-align: middle;\n",
       "    }\n",
       "\n",
       "    .dataframe tbody tr th {\n",
       "        vertical-align: top;\n",
       "    }\n",
       "\n",
       "    .dataframe thead th {\n",
       "        text-align: right;\n",
       "    }\n",
       "</style>\n",
       "<table border=\"1\" class=\"dataframe\">\n",
       "  <thead>\n",
       "    <tr style=\"text-align: right;\">\n",
       "      <th></th>\n",
       "      <th>White</th>\n",
       "      <th>Black</th>\n",
       "      <th>Native American/Alaskan</th>\n",
       "      <th>Chinese</th>\n",
       "      <th>Japanese</th>\n",
       "      <th>Other Asian/Pac. Islander</th>\n",
       "      <th>Other Race</th>\n",
       "      <th>Two Major Races</th>\n",
       "      <th>Three +</th>\n",
       "    </tr>\n",
       "  </thead>\n",
       "  <tbody>\n",
       "    <tr>\n",
       "      <th>Cluster 0</th>\n",
       "      <td>0.653787</td>\n",
       "      <td>0.040305</td>\n",
       "      <td>0.004148</td>\n",
       "      <td>0.069021</td>\n",
       "      <td>0.014027</td>\n",
       "      <td>0.143828</td>\n",
       "      <td>0.041435</td>\n",
       "      <td>0.029207</td>\n",
       "      <td>0.004242</td>\n",
       "    </tr>\n",
       "    <tr>\n",
       "      <th>Cluster 1</th>\n",
       "      <td>0.562744</td>\n",
       "      <td>0.088241</td>\n",
       "      <td>0.008380</td>\n",
       "      <td>0.033496</td>\n",
       "      <td>0.005731</td>\n",
       "      <td>0.090724</td>\n",
       "      <td>0.173949</td>\n",
       "      <td>0.032505</td>\n",
       "      <td>0.004231</td>\n",
       "    </tr>\n",
       "    <tr>\n",
       "      <th>Cluster 2</th>\n",
       "      <td>0.577317</td>\n",
       "      <td>0.062610</td>\n",
       "      <td>0.007071</td>\n",
       "      <td>0.048897</td>\n",
       "      <td>0.007038</td>\n",
       "      <td>0.118195</td>\n",
       "      <td>0.140074</td>\n",
       "      <td>0.033835</td>\n",
       "      <td>0.004963</td>\n",
       "    </tr>\n",
       "    <tr>\n",
       "      <th>Cluster 3</th>\n",
       "      <td>0.630308</td>\n",
       "      <td>0.047311</td>\n",
       "      <td>0.009680</td>\n",
       "      <td>0.030260</td>\n",
       "      <td>0.006004</td>\n",
       "      <td>0.079932</td>\n",
       "      <td>0.164489</td>\n",
       "      <td>0.028413</td>\n",
       "      <td>0.003603</td>\n",
       "    </tr>\n",
       "  </tbody>\n",
       "</table>\n",
       "</div>"
      ],
      "text/plain": [
       "              White     Black  Native American/Alaskan   Chinese  Japanese  \\\n",
       "Cluster 0  0.653787  0.040305                 0.004148  0.069021  0.014027   \n",
       "Cluster 1  0.562744  0.088241                 0.008380  0.033496  0.005731   \n",
       "Cluster 2  0.577317  0.062610                 0.007071  0.048897  0.007038   \n",
       "Cluster 3  0.630308  0.047311                 0.009680  0.030260  0.006004   \n",
       "\n",
       "           Other Asian/Pac. Islander  Other Race  Two Major Races   Three +  \n",
       "Cluster 0                   0.143828    0.041435         0.029207  0.004242  \n",
       "Cluster 1                   0.090724    0.173949         0.032505  0.004231  \n",
       "Cluster 2                   0.118195    0.140074         0.033835  0.004963  \n",
       "Cluster 3                   0.079932    0.164489         0.028413  0.003603  "
      ]
     },
     "execution_count": 31,
     "metadata": {},
     "output_type": "execute_result"
    }
   ],
   "source": [
    "clustNames= ['Cluster 0', 'Cluster 1', 'Cluster 2','Cluster 3']\n",
    "dfR19 = pd.DataFrame(index=clustNames, data=np.array([[clust2019_0.loc[clust2019_0['RACE']==1].RowWt.sum(),clust2019_0.loc[clust2019_0['RACE']==2].RowWt.sum(),clust2019_0.loc[clust2019_0['RACE']==3].RowWt.sum(),\n",
    "                                                    clust2019_0.loc[clust2019_0['RACE']==4].RowWt.sum(),clust2019_0.loc[clust2019_0['RACE']==5].RowWt.sum(),clust2019_0.loc[clust2019_0['RACE']==6].RowWt.sum(),\n",
    "                                                    clust2019_0.loc[clust2019_0['RACE']==7].RowWt.sum(),clust2019_0.loc[clust2019_0['RACE']==8].RowWt.sum(),clust2019_0.loc[clust2019_0['RACE']==9].RowWt.sum()], \n",
    "                                                    [clust2019_1.loc[clust2019_1['RACE']==1].RowWt.sum(),clust2019_1.loc[clust2019_1['RACE']==2].RowWt.sum(),clust2019_1.loc[clust2019_1['RACE']==3].RowWt.sum(),\n",
    "                                                    clust2019_1.loc[clust2019_1['RACE']==4].RowWt.sum(),clust2019_1.loc[clust2019_1['RACE']==5].RowWt.sum(),clust2019_1.loc[clust2019_1['RACE']==6].RowWt.sum(),\n",
    "                                                    clust2019_1.loc[clust2019_1['RACE']==7].RowWt.sum(),clust2019_1.loc[clust2019_1['RACE']==8].RowWt.sum(),clust2019_1.loc[clust2019_1['RACE']==9].RowWt.sum()],\n",
    "                                                    [clust2019_2.loc[clust2019_2['RACE']==1].RowWt.sum(),clust2019_2.loc[clust2019_2['RACE']==2].RowWt.sum(),clust2019_2.loc[clust2019_2['RACE']==3].RowWt.sum(),\n",
    "                                                    clust2019_2.loc[clust2019_2['RACE']==4].RowWt.sum(),clust2019_2.loc[clust2019_2['RACE']==5].RowWt.sum(),clust2019_2.loc[clust2019_2['RACE']==6].RowWt.sum(),\n",
    "                                                    clust2019_2.loc[clust2019_2['RACE']==7].RowWt.sum(),clust2019_2.loc[clust2019_2['RACE']==8].RowWt.sum(),clust2019_2.loc[clust2019_2['RACE']==9].RowWt.sum()],\n",
    "                                                    [clust2019_3.loc[clust2019_3['RACE']==1].RowWt.sum(),clust2019_3.loc[clust2019_3['RACE']==2].RowWt.sum(),clust2019_3.loc[clust2019_3['RACE']==3].RowWt.sum(),\n",
    "                                                    clust2019_3.loc[clust2019_3['RACE']==4].RowWt.sum(),clust2019_3.loc[clust2019_3['RACE']==5].RowWt.sum(),clust2019_3.loc[clust2019_3['RACE']==6].RowWt.sum(),\n",
    "                                                    clust2019_3.loc[clust2019_3['RACE']==7].RowWt.sum(),clust2019_3.loc[clust2019_3['RACE']==8].RowWt.sum(),clust2019_3.loc[clust2019_3['RACE']==9].RowWt.sum()]]),\n",
    "    columns=['White','Black','Native American/Alaskan','Chinese','Japanese','Other Asian/Pac. Islander','Other Race','Two Major Races','Three +'])\n",
    "dfR19                   "
   ]
  },
  {
   "cell_type": "markdown",
   "id": "da4db09f",
   "metadata": {},
   "source": [
    "## Income"
   ]
  },
  {
   "cell_type": "code",
   "execution_count": 32,
   "id": "b093fb38",
   "metadata": {},
   "outputs": [
    {
     "data": {
      "image/png": "[encoded data removed]",
      "text/plain": [
       "<Figure size 1080x504 with 4 Axes>"
      ]
     },
     "metadata": {
      "needs_background": "light"
     },
     "output_type": "display_data"
    }
   ],
   "source": [
    "#Com\n",
    "fig, axs = plt.subplots(2, 2, sharex=True,sharey=True, figsize=(15,7))\n",
    "fig.suptitle(\"Income\")\n",
    "\n",
    "axs[0, 0].hist(clust2019_0['HHINCOME'],bins=15,edgecolor = \"black\")\n",
    "axs[0, 0].set_title('Cluster 0')\n",
    "axs[0, 0].set_xlim([0, 500000])\n",
    "axs[0, 1].hist(clust2019_1['HHINCOME'],bins=15,edgecolor = \"black\")\n",
    "axs[0, 1].set_title('Cluster 1')\n",
    "axs[0, 1].set_xlim([0, 500000])\n",
    "axs[1, 0].hist(clust2019_2['HHINCOME'],bins=15,edgecolor = \"black\")\n",
    "axs[1, 0].set_title('Cluster 2')\n",
    "axs[1, 0].set_xlim([0, 500000])\n",
    "axs[1, 1].hist(clust2019_3['HHINCOME'],bins=15,edgecolor = \"black\")\n",
    "axs[1, 1].set_title('Cluster 3')\n",
    "axs[1, 1].set_xlim([0, 500000])\n",
    "\n",
    "for ax in axs[2:]:\n",
    "    ax.set(xlabel='Income')"
   ]
  },
  {
   "cell_type": "code",
   "execution_count": 33,
   "id": "87809ac3",
   "metadata": {},
   "outputs": [
    {
     "data": {
      "text/plain": [
       "<AxesSubplot:>"
      ]
     },
     "execution_count": 33,
     "metadata": {},
     "output_type": "execute_result"
    },
    {
     "data": {
      "image/png": "[encoded data removed]",
      "text/plain": [
       "<Figure size 1080x576 with 2 Axes>"
      ]
     },
     "metadata": {
      "needs_background": "light"
     },
     "output_type": "display_data"
    }
   ],
   "source": [
    "Xcorr19=dfX19fin.iloc[:, [0,1,2,3,4,5,6,7,8,9]]\n",
    "plt.subplots(figsize=(15,8))\n",
    "sns.heatmap(Xcorr19.corr(), annot = True)\n"
   ]
  },
  {
   "cell_type": "markdown",
   "id": "aa106e69",
   "metadata": {},
   "source": [
    "### 2010"
   ]
  },
  {
   "cell_type": "code",
   "execution_count": 34,
   "id": "e5bf7667",
   "metadata": {},
   "outputs": [
    {
     "data": {
      "text/html": [
       "<div>\n",
       "<style scoped>\n",
       "    .dataframe tbody tr th:only-of-type {\n",
       "        vertical-align: middle;\n",
       "    }\n",
       "\n",
       "    .dataframe tbody tr th {\n",
       "        vertical-align: top;\n",
       "    }\n",
       "\n",
       "    .dataframe thead th {\n",
       "        text-align: right;\n",
       "    }\n",
       "</style>\n",
       "<table border=\"1\" class=\"dataframe\">\n",
       "  <thead>\n",
       "    <tr style=\"text-align: right;\">\n",
       "      <th></th>\n",
       "      <th>HousingCat</th>\n",
       "      <th>EDUCbin</th>\n",
       "      <th>TRANTIME</th>\n",
       "      <th>HHWT</th>\n",
       "      <th>HHINCOME</th>\n",
       "      <th>RACE</th>\n",
       "      <th>AGE</th>\n",
       "      <th>SEX</th>\n",
       "      <th>COUNTYFIP</th>\n",
       "      <th>HISPAN</th>\n",
       "    </tr>\n",
       "    <tr>\n",
       "      <th>labels</th>\n",
       "      <th></th>\n",
       "      <th></th>\n",
       "      <th></th>\n",
       "      <th></th>\n",
       "      <th></th>\n",
       "      <th></th>\n",
       "      <th></th>\n",
       "      <th></th>\n",
       "      <th></th>\n",
       "      <th></th>\n",
       "    </tr>\n",
       "  </thead>\n",
       "  <tbody>\n",
       "    <tr>\n",
       "      <th>0</th>\n",
       "      <td>2.000000</td>\n",
       "      <td>0.000000</td>\n",
       "      <td>8.311891</td>\n",
       "      <td>18.186226</td>\n",
       "      <td>86534.360075</td>\n",
       "      <td>2.448684</td>\n",
       "      <td>53.102443</td>\n",
       "      <td>1.548827</td>\n",
       "      <td>53.831618</td>\n",
       "      <td>0.470251</td>\n",
       "    </tr>\n",
       "    <tr>\n",
       "      <th>1</th>\n",
       "      <td>1.816378</td>\n",
       "      <td>1.000000</td>\n",
       "      <td>11.849024</td>\n",
       "      <td>18.170878</td>\n",
       "      <td>136511.353001</td>\n",
       "      <td>2.262138</td>\n",
       "      <td>49.380391</td>\n",
       "      <td>1.524656</td>\n",
       "      <td>55.140022</td>\n",
       "      <td>0.193769</td>\n",
       "    </tr>\n",
       "    <tr>\n",
       "      <th>2</th>\n",
       "      <td>0.391211</td>\n",
       "      <td>0.145278</td>\n",
       "      <td>10.025884</td>\n",
       "      <td>22.861778</td>\n",
       "      <td>46992.433084</td>\n",
       "      <td>2.895852</td>\n",
       "      <td>43.351310</td>\n",
       "      <td>1.539566</td>\n",
       "      <td>52.248687</td>\n",
       "      <td>0.628307</td>\n",
       "    </tr>\n",
       "    <tr>\n",
       "      <th>3</th>\n",
       "      <td>1.616042</td>\n",
       "      <td>0.485011</td>\n",
       "      <td>64.852713</td>\n",
       "      <td>20.161208</td>\n",
       "      <td>116646.961642</td>\n",
       "      <td>2.698102</td>\n",
       "      <td>43.321468</td>\n",
       "      <td>1.388535</td>\n",
       "      <td>51.684387</td>\n",
       "      <td>0.478809</td>\n",
       "    </tr>\n",
       "  </tbody>\n",
       "</table>\n",
       "</div>"
      ],
      "text/plain": [
       "        HousingCat   EDUCbin   TRANTIME       HHWT       HHINCOME      RACE  \\\n",
       "labels                                                                        \n",
       "0         2.000000  0.000000   8.311891  18.186226   86534.360075  2.448684   \n",
       "1         1.816378  1.000000  11.849024  18.170878  136511.353001  2.262138   \n",
       "2         0.391211  0.145278  10.025884  22.861778   46992.433084  2.895852   \n",
       "3         1.616042  0.485011  64.852713  20.161208  116646.961642  2.698102   \n",
       "\n",
       "              AGE       SEX  COUNTYFIP    HISPAN  \n",
       "labels                                            \n",
       "0       53.102443  1.548827  53.831618  0.470251  \n",
       "1       49.380391  1.524656  55.140022  0.193769  \n",
       "2       43.351310  1.539566  52.248687  0.628307  \n",
       "3       43.321468  1.388535  51.684387  0.478809  "
      ]
     },
     "execution_count": 34,
     "metadata": {},
     "output_type": "execute_result"
    }
   ],
   "source": [
    "kmeans = KMeans(n_clusters = 4, init = 'k-means++', random_state = 42)\n",
    "kmeans.fit(dfX10.iloc[:,0:3])\n",
    "X10fin = scaler.inverse_transform(dfX10)\n",
    "dfX10fin = pd.DataFrame(X10fin, columns=['HousingCat','EDUCbin','TRANTIME','HHWT','HHINCOME','RACE','AGE','SEX','COUNTYFIP','HISPAN'])\n",
    "dfX10fin['labels'] = kmeans.labels_\n",
    "cluster_sum10 = dfX10fin.groupby(by = 'labels').mean()\n",
    "cluster_sum10.head(5)\n"
   ]
  },
  {
   "cell_type": "code",
   "execution_count": 35,
   "id": "ac35d3bb",
   "metadata": {},
   "outputs": [
    {
     "data": {
      "text/html": [
       "<div>\n",
       "<style scoped>\n",
       "    .dataframe tbody tr th:only-of-type {\n",
       "        vertical-align: middle;\n",
       "    }\n",
       "\n",
       "    .dataframe tbody tr th {\n",
       "        vertical-align: top;\n",
       "    }\n",
       "\n",
       "    .dataframe thead th {\n",
       "        text-align: right;\n",
       "    }\n",
       "</style>\n",
       "<table border=\"1\" class=\"dataframe\">\n",
       "  <thead>\n",
       "    <tr style=\"text-align: right;\">\n",
       "      <th></th>\n",
       "      <th>HousingCat</th>\n",
       "      <th>EDUCbin</th>\n",
       "      <th>TRANTIME</th>\n",
       "      <th>HHWT</th>\n",
       "      <th>HHINCOME</th>\n",
       "      <th>RACE</th>\n",
       "      <th>AGE</th>\n",
       "      <th>SEX</th>\n",
       "      <th>COUNTYFIP</th>\n",
       "      <th>HISPAN</th>\n",
       "    </tr>\n",
       "    <tr>\n",
       "      <th>labels</th>\n",
       "      <th></th>\n",
       "      <th></th>\n",
       "      <th></th>\n",
       "      <th></th>\n",
       "      <th></th>\n",
       "      <th></th>\n",
       "      <th></th>\n",
       "      <th></th>\n",
       "      <th></th>\n",
       "      <th></th>\n",
       "    </tr>\n",
       "  </thead>\n",
       "  <tbody>\n",
       "    <tr>\n",
       "      <th>0</th>\n",
       "      <td>2.0</td>\n",
       "      <td>0.0</td>\n",
       "      <td>0.0</td>\n",
       "      <td>15.0</td>\n",
       "      <td>69600.0</td>\n",
       "      <td>1.0</td>\n",
       "      <td>53.0</td>\n",
       "      <td>2.0</td>\n",
       "      <td>59.0</td>\n",
       "      <td>0.0</td>\n",
       "    </tr>\n",
       "    <tr>\n",
       "      <th>1</th>\n",
       "      <td>2.0</td>\n",
       "      <td>1.0</td>\n",
       "      <td>10.0</td>\n",
       "      <td>15.0</td>\n",
       "      <td>108163.0</td>\n",
       "      <td>1.0</td>\n",
       "      <td>49.0</td>\n",
       "      <td>2.0</td>\n",
       "      <td>59.0</td>\n",
       "      <td>0.0</td>\n",
       "    </tr>\n",
       "    <tr>\n",
       "      <th>2</th>\n",
       "      <td>0.0</td>\n",
       "      <td>0.0</td>\n",
       "      <td>3.0</td>\n",
       "      <td>18.0</td>\n",
       "      <td>37473.0</td>\n",
       "      <td>1.0</td>\n",
       "      <td>40.0</td>\n",
       "      <td>2.0</td>\n",
       "      <td>47.0</td>\n",
       "      <td>0.0</td>\n",
       "    </tr>\n",
       "    <tr>\n",
       "      <th>3</th>\n",
       "      <td>2.0</td>\n",
       "      <td>0.0</td>\n",
       "      <td>60.0</td>\n",
       "      <td>16.0</td>\n",
       "      <td>96519.0</td>\n",
       "      <td>1.0</td>\n",
       "      <td>43.0</td>\n",
       "      <td>1.0</td>\n",
       "      <td>59.0</td>\n",
       "      <td>0.0</td>\n",
       "    </tr>\n",
       "  </tbody>\n",
       "</table>\n",
       "</div>"
      ],
      "text/plain": [
       "        HousingCat  EDUCbin  TRANTIME  HHWT  HHINCOME  RACE   AGE  SEX  \\\n",
       "labels                                                                   \n",
       "0              2.0      0.0       0.0  15.0   69600.0   1.0  53.0  2.0   \n",
       "1              2.0      1.0      10.0  15.0  108163.0   1.0  49.0  2.0   \n",
       "2              0.0      0.0       3.0  18.0   37473.0   1.0  40.0  2.0   \n",
       "3              2.0      0.0      60.0  16.0   96519.0   1.0  43.0  1.0   \n",
       "\n",
       "        COUNTYFIP  HISPAN  \n",
       "labels                     \n",
       "0            59.0     0.0  \n",
       "1            59.0     0.0  \n",
       "2            47.0     0.0  \n",
       "3            59.0     0.0  "
      ]
     },
     "execution_count": 35,
     "metadata": {},
     "output_type": "execute_result"
    }
   ],
   "source": [
    "#median table\n",
    "round(dfX10fin.groupby(by = 'labels').median(),2)"
   ]
  },
  {
   "cell_type": "code",
   "execution_count": 36,
   "id": "fc76fd8f",
   "metadata": {},
   "outputs": [],
   "source": [
    "#seperate Clusters\n",
    "clust2010_0 = dfX10fin[dfX10fin['labels']==0]\n",
    "clust2010_1 = dfX10fin[dfX10fin['labels']==1]\n",
    "clust2010_2 = dfX10fin[dfX10fin['labels']==2]\n",
    "clust2010_3 = dfX10fin[dfX10fin['labels']==3]"
   ]
  },
  {
   "cell_type": "code",
   "execution_count": 37,
   "id": "dd26a8bf",
   "metadata": {},
   "outputs": [],
   "source": [
    "hhTotal0_2010=clust2010_0['HHWT'].sum()\n",
    "hhTotal1_2010=clust2010_1['HHWT'].sum()\n",
    "hhTotal2_2010=clust2010_2['HHWT'].sum()\n",
    "hhTotal3_2010=clust2010_3['HHWT'].sum()"
   ]
  },
  {
   "cell_type": "code",
   "execution_count": 38,
   "id": "a8f05cdb",
   "metadata": {},
   "outputs": [
    {
     "name": "stderr",
     "output_type": "stream",
     "text": [
      "<ipython-input-38-b3d0d5378372>:1: SettingWithCopyWarning: \n",
      "A value is trying to be set on a copy of a slice from a DataFrame.\n",
      "Try using .loc[row_indexer,col_indexer] = value instead\n",
      "\n",
      "See the caveats in the documentation: https://pandas.pydata.org/pandas-docs/stable/user_guide/indexing.html#returning-a-view-versus-a-copy\n",
      "  clust2010_0['RowWt'] = clust2010_0['HHWT']/hhTotal0_2010\n",
      "<ipython-input-38-b3d0d5378372>:2: SettingWithCopyWarning: \n",
      "A value is trying to be set on a copy of a slice from a DataFrame.\n",
      "Try using .loc[row_indexer,col_indexer] = value instead\n",
      "\n",
      "See the caveats in the documentation: https://pandas.pydata.org/pandas-docs/stable/user_guide/indexing.html#returning-a-view-versus-a-copy\n",
      "  clust2010_1['RowWt'] = clust2010_1['HHWT']/hhTotal1_2010\n",
      "<ipython-input-38-b3d0d5378372>:3: SettingWithCopyWarning: \n",
      "A value is trying to be set on a copy of a slice from a DataFrame.\n",
      "Try using .loc[row_indexer,col_indexer] = value instead\n",
      "\n",
      "See the caveats in the documentation: https://pandas.pydata.org/pandas-docs/stable/user_guide/indexing.html#returning-a-view-versus-a-copy\n",
      "  clust2010_2['RowWt'] = clust2010_2['HHWT']/hhTotal2_2010\n",
      "<ipython-input-38-b3d0d5378372>:4: SettingWithCopyWarning: \n",
      "A value is trying to be set on a copy of a slice from a DataFrame.\n",
      "Try using .loc[row_indexer,col_indexer] = value instead\n",
      "\n",
      "See the caveats in the documentation: https://pandas.pydata.org/pandas-docs/stable/user_guide/indexing.html#returning-a-view-versus-a-copy\n",
      "  clust2010_3['RowWt'] = clust2010_3['HHWT']/hhTotal3_2010\n"
     ]
    }
   ],
   "source": [
    "clust2010_0['RowWt'] = clust2010_0['HHWT']/hhTotal0_2010\n",
    "clust2010_1['RowWt'] = clust2010_1['HHWT']/hhTotal1_2010\n",
    "clust2010_2['RowWt'] = clust2010_2['HHWT']/hhTotal2_2010\n",
    "clust2010_3['RowWt'] = clust2010_3['HHWT']/hhTotal3_2010"
   ]
  },
  {
   "cell_type": "markdown",
   "id": "55c49c39",
   "metadata": {},
   "source": [
    "## Housing Category\n"
   ]
  },
  {
   "cell_type": "code",
   "execution_count": 39,
   "id": "8027a27a",
   "metadata": {},
   "outputs": [
    {
     "data": {
      "text/html": [
       "<div>\n",
       "<style scoped>\n",
       "    .dataframe tbody tr th:only-of-type {\n",
       "        vertical-align: middle;\n",
       "    }\n",
       "\n",
       "    .dataframe tbody tr th {\n",
       "        vertical-align: top;\n",
       "    }\n",
       "\n",
       "    .dataframe thead th {\n",
       "        text-align: right;\n",
       "    }\n",
       "</style>\n",
       "<table border=\"1\" class=\"dataframe\">\n",
       "  <thead>\n",
       "    <tr style=\"text-align: right;\">\n",
       "      <th></th>\n",
       "      <th>&gt;=30% Income on Rent</th>\n",
       "      <th>&lt;30% Income on Rent</th>\n",
       "      <th>Owner</th>\n",
       "    </tr>\n",
       "  </thead>\n",
       "  <tbody>\n",
       "    <tr>\n",
       "      <th>Cluster 0</th>\n",
       "      <td>0.000000</td>\n",
       "      <td>0.000000</td>\n",
       "      <td>1.000000</td>\n",
       "    </tr>\n",
       "    <tr>\n",
       "      <th>Cluster 1</th>\n",
       "      <td>0.000000</td>\n",
       "      <td>0.214550</td>\n",
       "      <td>0.785450</td>\n",
       "    </tr>\n",
       "    <tr>\n",
       "      <th>Cluster 2</th>\n",
       "      <td>0.613687</td>\n",
       "      <td>0.386313</td>\n",
       "      <td>0.000000</td>\n",
       "    </tr>\n",
       "    <tr>\n",
       "      <th>Cluster 3</th>\n",
       "      <td>0.105653</td>\n",
       "      <td>0.230412</td>\n",
       "      <td>0.663935</td>\n",
       "    </tr>\n",
       "  </tbody>\n",
       "</table>\n",
       "</div>"
      ],
      "text/plain": [
       "           >=30% Income on Rent  <30% Income on Rent     Owner\n",
       "Cluster 0              0.000000             0.000000  1.000000\n",
       "Cluster 1              0.000000             0.214550  0.785450\n",
       "Cluster 2              0.613687             0.386313  0.000000\n",
       "Cluster 3              0.105653             0.230412  0.663935"
      ]
     },
     "execution_count": 39,
     "metadata": {},
     "output_type": "execute_result"
    }
   ],
   "source": [
    "clustNames= ['Cluster 0', 'Cluster 1', 'Cluster 2','Cluster 3',]\n",
    "dfHousing_2010 = pd.DataFrame(index=clustNames, data=np.array([[clust2010_0.loc[clust2010_0['HousingCat']==0].RowWt.sum(),\n",
    "                                                     clust2010_0.loc[clust2010_0['HousingCat']==1].RowWt.sum(),\n",
    "                                                     clust2010_0.loc[clust2010_0['HousingCat']==2].RowWt.sum()], \n",
    "                                                    [clust2010_1.loc[clust2010_1['HousingCat']==0].RowWt.sum(),\n",
    "                                                     clust2010_1.loc[clust2010_1['HousingCat']==1].RowWt.sum(),\n",
    "                                                     clust2010_1.loc[clust2010_1['HousingCat']==2].RowWt.sum()],\n",
    "                                                    [clust2010_2.loc[clust2010_2['HousingCat']==0].RowWt.sum(),\n",
    "                                                     clust2010_2.loc[clust2010_2['HousingCat']==1].RowWt.sum(),\n",
    "                                                     clust2010_2.loc[clust2010_2['HousingCat']==2].RowWt.sum()],\n",
    "                                                    [clust2010_3.loc[clust2010_3['HousingCat']==0].RowWt.sum(),\n",
    "                                                     clust2010_3.loc[clust2010_3['HousingCat']==1].RowWt.sum(),\n",
    "                                                     clust2010_3.loc[clust2010_3['HousingCat']==2].RowWt.sum()],\n",
    "                                                    ]),\n",
    "                   columns=['>=30% Income on Rent', '<30% Income on Rent', 'Owner'])\n",
    "dfHousing_2010\n"
   ]
  },
  {
   "cell_type": "markdown",
   "id": "d464496d",
   "metadata": {},
   "source": [
    "## Education (binary)"
   ]
  },
  {
   "cell_type": "code",
   "execution_count": 40,
   "id": "d5e32cc2",
   "metadata": {},
   "outputs": [
    {
     "data": {
      "text/html": [
       "<div>\n",
       "<style scoped>\n",
       "    .dataframe tbody tr th:only-of-type {\n",
       "        vertical-align: middle;\n",
       "    }\n",
       "\n",
       "    .dataframe tbody tr th {\n",
       "        vertical-align: top;\n",
       "    }\n",
       "\n",
       "    .dataframe thead th {\n",
       "        text-align: right;\n",
       "    }\n",
       "</style>\n",
       "<table border=\"1\" class=\"dataframe\">\n",
       "  <thead>\n",
       "    <tr style=\"text-align: right;\">\n",
       "      <th></th>\n",
       "      <th>&lt;2 yr. College</th>\n",
       "      <th>&gt;2 yr. College</th>\n",
       "    </tr>\n",
       "  </thead>\n",
       "  <tbody>\n",
       "    <tr>\n",
       "      <th>Cluster 0</th>\n",
       "      <td>1.000000</td>\n",
       "      <td>0.000000</td>\n",
       "    </tr>\n",
       "    <tr>\n",
       "      <th>Cluster 1</th>\n",
       "      <td>0.000000</td>\n",
       "      <td>1.000000</td>\n",
       "    </tr>\n",
       "    <tr>\n",
       "      <th>Cluster 2</th>\n",
       "      <td>0.862528</td>\n",
       "      <td>0.137472</td>\n",
       "    </tr>\n",
       "    <tr>\n",
       "      <th>Cluster 3</th>\n",
       "      <td>0.538875</td>\n",
       "      <td>0.461125</td>\n",
       "    </tr>\n",
       "  </tbody>\n",
       "</table>\n",
       "</div>"
      ],
      "text/plain": [
       "           <2 yr. College  >2 yr. College\n",
       "Cluster 0        1.000000        0.000000\n",
       "Cluster 1        0.000000        1.000000\n",
       "Cluster 2        0.862528        0.137472\n",
       "Cluster 3        0.538875        0.461125"
      ]
     },
     "execution_count": 40,
     "metadata": {},
     "output_type": "execute_result"
    }
   ],
   "source": [
    "#Education Binary Table \n",
    "clustNames= ['Cluster 0', 'Cluster 1', 'Cluster 2','Cluster 3',]\n",
    "dfEDU_2010 = pd.DataFrame(index=clustNames, data=np.array([[clust2010_0.loc[clust2010_0['EDUCbin']==0].RowWt.sum(),\n",
    "                                                     clust2010_0.loc[clust2010_0['EDUCbin']==1].RowWt.sum()], \n",
    "                                                    [clust2010_1.loc[clust2010_1['EDUCbin']==0].RowWt.sum(),\n",
    "                                                     clust2010_1.loc[clust2010_1['EDUCbin']==1].RowWt.sum()],\n",
    "                                                    [clust2010_2.loc[clust2010_2['EDUCbin']==0].RowWt.sum(),\n",
    "                                                     clust2010_2.loc[clust2010_2['EDUCbin']==1].RowWt.sum()],\n",
    "                                                    [clust2010_3.loc[clust2010_3['EDUCbin']==0].RowWt.sum(),\n",
    "                                                     clust2010_3.loc[clust2010_3['EDUCbin']==1].RowWt.sum(),\n",
    "                                                    ]]),\n",
    "                   columns=['<2 yr. College', '>2 yr. College'])\n",
    "dfEDU_2010\n"
   ]
  },
  {
   "cell_type": "markdown",
   "id": "cc33e08a",
   "metadata": {},
   "source": [
    "## Commute Time"
   ]
  },
  {
   "cell_type": "code",
   "execution_count": 41,
   "id": "eb1e55eb",
   "metadata": {},
   "outputs": [
    {
     "data": {
      "image/png": "[encoded data removed]",
      "text/plain": [
       "<Figure size 1080x504 with 4 Axes>"
      ]
     },
     "metadata": {
      "needs_background": "light"
     },
     "output_type": "display_data"
    }
   ],
   "source": [
    "fig, axs = plt.subplots(2, 2, sharex=True, figsize=(15,7))\n",
    "fig.suptitle(\"Cluster Commute Time Distributions\")\n",
    "\n",
    "axs[0, 0].hist(clust2010_0['TRANTIME'])\n",
    "axs[0, 0].set_title('Cluster 0')\n",
    "axs[0, 1].hist(clust2010_1['TRANTIME'])\n",
    "axs[0, 1].set_title('Cluster 1')\n",
    "axs[1, 0].hist(clust2010_2['TRANTIME'])\n",
    "axs[1, 0].set_title('Cluster 2')\n",
    "axs[1,0].set_xlabel('Commute Time')\n",
    "axs[1, 1].hist(clust2010_3['TRANTIME'])\n",
    "axs[1, 1].set_title('Cluster 3')\n",
    "axs[1,1].set_xlabel('Commute Time')\n",
    "\n",
    "\n",
    "for ax in axs[2:]:\n",
    "    axs.set(xlabel='Commute Time (Minutes)')"
   ]
  },
  {
   "cell_type": "markdown",
   "id": "112be7be",
   "metadata": {},
   "source": [
    "# Demographics"
   ]
  },
  {
   "cell_type": "markdown",
   "id": "fbfbf45d",
   "metadata": {},
   "source": [
    "## Race"
   ]
  },
  {
   "cell_type": "code",
   "execution_count": 42,
   "id": "771be7f1",
   "metadata": {},
   "outputs": [
    {
     "data": {
      "text/html": [
       "<div>\n",
       "<style scoped>\n",
       "    .dataframe tbody tr th:only-of-type {\n",
       "        vertical-align: middle;\n",
       "    }\n",
       "\n",
       "    .dataframe tbody tr th {\n",
       "        vertical-align: top;\n",
       "    }\n",
       "\n",
       "    .dataframe thead th {\n",
       "        text-align: right;\n",
       "    }\n",
       "</style>\n",
       "<table border=\"1\" class=\"dataframe\">\n",
       "  <thead>\n",
       "    <tr style=\"text-align: right;\">\n",
       "      <th></th>\n",
       "      <th>White</th>\n",
       "      <th>Black</th>\n",
       "      <th>Native American/Alaskan</th>\n",
       "      <th>Chinese</th>\n",
       "      <th>Japanese</th>\n",
       "      <th>Other Asian/Pac. Islander</th>\n",
       "      <th>Other Race</th>\n",
       "      <th>Two Major Races</th>\n",
       "      <th>Three +</th>\n",
       "    </tr>\n",
       "  </thead>\n",
       "  <tbody>\n",
       "    <tr>\n",
       "      <th>Cluster 0</th>\n",
       "      <td>0.675387</td>\n",
       "      <td>0.042154</td>\n",
       "      <td>0.008799</td>\n",
       "      <td>0.027285</td>\n",
       "      <td>0.008411</td>\n",
       "      <td>0.070262</td>\n",
       "      <td>0.143244</td>\n",
       "      <td>0.023106</td>\n",
       "      <td>0.001352</td>\n",
       "    </tr>\n",
       "    <tr>\n",
       "      <th>Cluster 1</th>\n",
       "      <td>0.686441</td>\n",
       "      <td>0.042325</td>\n",
       "      <td>0.004017</td>\n",
       "      <td>0.058889</td>\n",
       "      <td>0.015610</td>\n",
       "      <td>0.129369</td>\n",
       "      <td>0.041307</td>\n",
       "      <td>0.020416</td>\n",
       "      <td>0.001625</td>\n",
       "    </tr>\n",
       "    <tr>\n",
       "      <th>Cluster 2</th>\n",
       "      <td>0.571698</td>\n",
       "      <td>0.083075</td>\n",
       "      <td>0.009980</td>\n",
       "      <td>0.026022</td>\n",
       "      <td>0.006233</td>\n",
       "      <td>0.085050</td>\n",
       "      <td>0.192192</td>\n",
       "      <td>0.023864</td>\n",
       "      <td>0.001886</td>\n",
       "    </tr>\n",
       "    <tr>\n",
       "      <th>Cluster 3</th>\n",
       "      <td>0.602878</td>\n",
       "      <td>0.067185</td>\n",
       "      <td>0.006775</td>\n",
       "      <td>0.042237</td>\n",
       "      <td>0.009467</td>\n",
       "      <td>0.105235</td>\n",
       "      <td>0.138893</td>\n",
       "      <td>0.025768</td>\n",
       "      <td>0.001562</td>\n",
       "    </tr>\n",
       "  </tbody>\n",
       "</table>\n",
       "</div>"
      ],
      "text/plain": [
       "              White     Black  Native American/Alaskan   Chinese  Japanese  \\\n",
       "Cluster 0  0.675387  0.042154                 0.008799  0.027285  0.008411   \n",
       "Cluster 1  0.686441  0.042325                 0.004017  0.058889  0.015610   \n",
       "Cluster 2  0.571698  0.083075                 0.009980  0.026022  0.006233   \n",
       "Cluster 3  0.602878  0.067185                 0.006775  0.042237  0.009467   \n",
       "\n",
       "           Other Asian/Pac. Islander  Other Race  Two Major Races   Three +  \n",
       "Cluster 0                   0.070262    0.143244         0.023106  0.001352  \n",
       "Cluster 1                   0.129369    0.041307         0.020416  0.001625  \n",
       "Cluster 2                   0.085050    0.192192         0.023864  0.001886  \n",
       "Cluster 3                   0.105235    0.138893         0.025768  0.001562  "
      ]
     },
     "execution_count": 42,
     "metadata": {},
     "output_type": "execute_result"
    }
   ],
   "source": [
    "clustNames= ['Cluster 0', 'Cluster 1', 'Cluster 2','Cluster 3']\n",
    "dfR10 = pd.DataFrame(index=clustNames, data=np.array([[clust2010_0.loc[clust2010_0['RACE']==1].RowWt.sum(),clust2010_0.loc[clust2010_0['RACE']==2].RowWt.sum(),clust2010_0.loc[clust2010_0['RACE']==3].RowWt.sum(),\n",
    "                                                    clust2010_0.loc[clust2010_0['RACE']==4].RowWt.sum(),clust2010_0.loc[clust2010_0['RACE']==5].RowWt.sum(),clust2010_0.loc[clust2010_0['RACE']==6].RowWt.sum(),\n",
    "                                                    clust2010_0.loc[clust2010_0['RACE']==7].RowWt.sum(),clust2010_0.loc[clust2010_0['RACE']==8].RowWt.sum(),clust2010_0.loc[clust2010_0['RACE']==9].RowWt.sum()], \n",
    "                                                    [clust2010_1.loc[clust2010_1['RACE']==1].RowWt.sum(),clust2010_1.loc[clust2010_1['RACE']==2].RowWt.sum(),clust2010_1.loc[clust2010_1['RACE']==3].RowWt.sum(),\n",
    "                                                    clust2010_1.loc[clust2010_1['RACE']==4].RowWt.sum(),clust2010_1.loc[clust2010_1['RACE']==5].RowWt.sum(),clust2010_1.loc[clust2010_1['RACE']==6].RowWt.sum(),\n",
    "                                                    clust2010_1.loc[clust2010_1['RACE']==7].RowWt.sum(),clust2010_1.loc[clust2010_1['RACE']==8].RowWt.sum(),clust2010_1.loc[clust2010_1['RACE']==9].RowWt.sum()],\n",
    "                                                    [clust2010_2.loc[clust2010_2['RACE']==1].RowWt.sum(),clust2010_2.loc[clust2010_2['RACE']==2].RowWt.sum(),clust2010_2.loc[clust2010_2['RACE']==3].RowWt.sum(),\n",
    "                                                    clust2010_2.loc[clust2010_2['RACE']==4].RowWt.sum(),clust2010_2.loc[clust2010_2['RACE']==5].RowWt.sum(),clust2010_2.loc[clust2010_2['RACE']==6].RowWt.sum(),\n",
    "                                                    clust2010_2.loc[clust2010_2['RACE']==7].RowWt.sum(),clust2010_2.loc[clust2010_2['RACE']==8].RowWt.sum(),clust2010_2.loc[clust2010_2['RACE']==9].RowWt.sum()],\n",
    "                                                    [clust2010_3.loc[clust2010_3['RACE']==1].RowWt.sum(),clust2010_3.loc[clust2010_3['RACE']==2].RowWt.sum(),clust2010_3.loc[clust2010_3['RACE']==3].RowWt.sum(),\n",
    "                                                    clust2010_3.loc[clust2010_3['RACE']==4].RowWt.sum(),clust2010_3.loc[clust2010_3['RACE']==5].RowWt.sum(),clust2010_3.loc[clust2010_3['RACE']==6].RowWt.sum(),\n",
    "                                                    clust2010_3.loc[clust2010_3['RACE']==7].RowWt.sum(),clust2010_3.loc[clust2010_3['RACE']==8].RowWt.sum(),clust2010_3.loc[clust2010_3['RACE']==9].RowWt.sum()]]),\n",
    "    columns=['White','Black','Native American/Alaskan','Chinese','Japanese','Other Asian/Pac. Islander','Other Race','Two Major Races','Three +'])\n",
    "dfR10                 "
   ]
  },
  {
   "cell_type": "markdown",
   "id": "7dfd6475",
   "metadata": {},
   "source": [
    "## Income"
   ]
  },
  {
   "cell_type": "code",
   "execution_count": 43,
   "id": "6c659fa5",
   "metadata": {},
   "outputs": [
    {
     "data": {
      "image/png": "[encoded data removed]",
      "text/plain": [
       "<Figure size 1080x504 with 4 Axes>"
      ]
     },
     "metadata": {
      "needs_background": "light"
     },
     "output_type": "display_data"
    }
   ],
   "source": [
    "#Com\n",
    "fig, axs = plt.subplots(2, 2, sharex=True,sharey=True, figsize=(15,7))\n",
    "fig.suptitle(\"Income\")\n",
    "\n",
    "axs[0, 0].hist(clust2010_0['HHINCOME'],bins=15,edgecolor = \"black\")\n",
    "axs[0, 0].set_title('Cluster 0')\n",
    "axs[0, 0].set_xlim([0, 500000])\n",
    "axs[0, 1].hist(clust2010_1['HHINCOME'],bins=15,edgecolor = \"black\")\n",
    "axs[0, 1].set_title('Cluster 1')\n",
    "axs[0, 1].set_xlim([0, 500000])\n",
    "axs[1, 0].hist(clust2010_2['HHINCOME'],bins=15,edgecolor = \"black\")\n",
    "axs[1, 0].set_title('Cluster 2')\n",
    "axs[1, 0].set_xlim([0, 500000])\n",
    "axs[1,0].set_xlabel('Income')\n",
    "axs[1, 1].hist(clust2010_3['HHINCOME'],bins=15,edgecolor = \"black\")\n",
    "axs[1, 1].set_title('Cluster 3')\n",
    "axs[1, 1].set_xlim([0, 500000])\n",
    "axs[1,1].set_xlabel('Income')\n",
    "\n",
    "for ax in axs[2:]:\n",
    "    ax.set(xlabel='Income')"
   ]
  },
  {
   "cell_type": "code",
   "execution_count": 44,
   "id": "b8d68537",
   "metadata": {},
   "outputs": [
    {
     "data": {
      "text/plain": [
       "<AxesSubplot:>"
      ]
     },
     "execution_count": 44,
     "metadata": {},
     "output_type": "execute_result"
    },
    {
     "data": {
      "image/png": "[encoded data removed]",
      "text/plain": [
       "<Figure size 1080x576 with 2 Axes>"
      ]
     },
     "metadata": {
      "needs_background": "light"
     },
     "output_type": "display_data"
    }
   ],
   "source": [
    "Xcorr10=dfX10fin.iloc[:, [0,1,2,3,4,5,6,7,8,9]]\n",
    "plt.subplots(figsize=(15,8))\n",
    "sns.heatmap(Xcorr10.corr(), annot = True)\n"
   ]
  },
  {
   "cell_type": "markdown",
   "id": "b7dd2569",
   "metadata": {},
   "source": [
    "# 2000"
   ]
  },
  {
   "cell_type": "code",
   "execution_count": 45,
   "id": "9c4a4f4f",
   "metadata": {},
   "outputs": [
    {
     "data": {
      "text/html": [
       "<div>\n",
       "<style scoped>\n",
       "    .dataframe tbody tr th:only-of-type {\n",
       "        vertical-align: middle;\n",
       "    }\n",
       "\n",
       "    .dataframe tbody tr th {\n",
       "        vertical-align: top;\n",
       "    }\n",
       "\n",
       "    .dataframe thead th {\n",
       "        text-align: right;\n",
       "    }\n",
       "</style>\n",
       "<table border=\"1\" class=\"dataframe\">\n",
       "  <thead>\n",
       "    <tr style=\"text-align: right;\">\n",
       "      <th></th>\n",
       "      <th>HousingCat</th>\n",
       "      <th>EDUCbin</th>\n",
       "      <th>TRANTIME</th>\n",
       "      <th>HHWT</th>\n",
       "      <th>HHINCOME</th>\n",
       "      <th>RACE</th>\n",
       "      <th>AGE</th>\n",
       "      <th>SEX</th>\n",
       "      <th>COUNTYFIP</th>\n",
       "      <th>HISPAN</th>\n",
       "    </tr>\n",
       "    <tr>\n",
       "      <th>labels</th>\n",
       "      <th></th>\n",
       "      <th></th>\n",
       "      <th></th>\n",
       "      <th></th>\n",
       "      <th></th>\n",
       "      <th></th>\n",
       "      <th></th>\n",
       "      <th></th>\n",
       "      <th></th>\n",
       "      <th></th>\n",
       "    </tr>\n",
       "  </thead>\n",
       "  <tbody>\n",
       "    <tr>\n",
       "      <th>0</th>\n",
       "      <td>2.000000</td>\n",
       "      <td>0.000000</td>\n",
       "      <td>9.552195</td>\n",
       "      <td>19.452120</td>\n",
       "      <td>72501.662914</td>\n",
       "      <td>2.645157</td>\n",
       "      <td>50.562585</td>\n",
       "      <td>1.548115</td>\n",
       "      <td>52.861837</td>\n",
       "      <td>0.461594</td>\n",
       "    </tr>\n",
       "    <tr>\n",
       "      <th>1</th>\n",
       "      <td>1.766062</td>\n",
       "      <td>1.000000</td>\n",
       "      <td>15.008891</td>\n",
       "      <td>20.049809</td>\n",
       "      <td>110868.113690</td>\n",
       "      <td>2.202240</td>\n",
       "      <td>46.303897</td>\n",
       "      <td>1.501485</td>\n",
       "      <td>54.308015</td>\n",
       "      <td>0.171414</td>\n",
       "    </tr>\n",
       "    <tr>\n",
       "      <th>2</th>\n",
       "      <td>0.532048</td>\n",
       "      <td>0.095235</td>\n",
       "      <td>10.468938</td>\n",
       "      <td>20.373155</td>\n",
       "      <td>49265.692795</td>\n",
       "      <td>3.343399</td>\n",
       "      <td>40.657700</td>\n",
       "      <td>1.525789</td>\n",
       "      <td>51.699441</td>\n",
       "      <td>0.696424</td>\n",
       "    </tr>\n",
       "    <tr>\n",
       "      <th>3</th>\n",
       "      <td>1.549440</td>\n",
       "      <td>0.375000</td>\n",
       "      <td>80.903810</td>\n",
       "      <td>20.257028</td>\n",
       "      <td>89374.402053</td>\n",
       "      <td>2.733913</td>\n",
       "      <td>40.906761</td>\n",
       "      <td>1.370745</td>\n",
       "      <td>50.977984</td>\n",
       "      <td>0.471149</td>\n",
       "    </tr>\n",
       "  </tbody>\n",
       "</table>\n",
       "</div>"
      ],
      "text/plain": [
       "        HousingCat   EDUCbin   TRANTIME       HHWT       HHINCOME      RACE  \\\n",
       "labels                                                                        \n",
       "0         2.000000  0.000000   9.552195  19.452120   72501.662914  2.645157   \n",
       "1         1.766062  1.000000  15.008891  20.049809  110868.113690  2.202240   \n",
       "2         0.532048  0.095235  10.468938  20.373155   49265.692795  3.343399   \n",
       "3         1.549440  0.375000  80.903810  20.257028   89374.402053  2.733913   \n",
       "\n",
       "              AGE       SEX  COUNTYFIP    HISPAN  \n",
       "labels                                            \n",
       "0       50.562585  1.548115  52.861837  0.461594  \n",
       "1       46.303897  1.501485  54.308015  0.171414  \n",
       "2       40.657700  1.525789  51.699441  0.696424  \n",
       "3       40.906761  1.370745  50.977984  0.471149  "
      ]
     },
     "execution_count": 45,
     "metadata": {},
     "output_type": "execute_result"
    }
   ],
   "source": [
    "kmeans = KMeans(n_clusters = 4, init = 'k-means++', random_state = 42)\n",
    "kmeans.fit(dfX00.iloc[:,0:3])\n",
    "X00fin = scaler.inverse_transform(dfX00)\n",
    "dfX00fin = pd.DataFrame(X00fin, columns=['HousingCat','EDUCbin','TRANTIME','HHWT','HHINCOME','RACE','AGE','SEX','COUNTYFIP','HISPAN'])\n",
    "dfX00fin['labels'] = kmeans.labels_\n",
    "cluster_sum00 = dfX00fin.groupby(by = 'labels').mean()\n",
    "cluster_sum00.head(5)\n"
   ]
  },
  {
   "cell_type": "code",
   "execution_count": 46,
   "id": "30aa282a",
   "metadata": {},
   "outputs": [
    {
     "data": {
      "text/html": [
       "<div>\n",
       "<style scoped>\n",
       "    .dataframe tbody tr th:only-of-type {\n",
       "        vertical-align: middle;\n",
       "    }\n",
       "\n",
       "    .dataframe tbody tr th {\n",
       "        vertical-align: top;\n",
       "    }\n",
       "\n",
       "    .dataframe thead th {\n",
       "        text-align: right;\n",
       "    }\n",
       "</style>\n",
       "<table border=\"1\" class=\"dataframe\">\n",
       "  <thead>\n",
       "    <tr style=\"text-align: right;\">\n",
       "      <th></th>\n",
       "      <th>HousingCat</th>\n",
       "      <th>EDUCbin</th>\n",
       "      <th>TRANTIME</th>\n",
       "      <th>HHWT</th>\n",
       "      <th>HHINCOME</th>\n",
       "      <th>RACE</th>\n",
       "      <th>AGE</th>\n",
       "      <th>SEX</th>\n",
       "      <th>COUNTYFIP</th>\n",
       "      <th>HISPAN</th>\n",
       "    </tr>\n",
       "    <tr>\n",
       "      <th>labels</th>\n",
       "      <th></th>\n",
       "      <th></th>\n",
       "      <th></th>\n",
       "      <th></th>\n",
       "      <th></th>\n",
       "      <th></th>\n",
       "      <th></th>\n",
       "      <th></th>\n",
       "      <th></th>\n",
       "      <th></th>\n",
       "    </tr>\n",
       "  </thead>\n",
       "  <tbody>\n",
       "    <tr>\n",
       "      <th>0</th>\n",
       "      <td>2.0</td>\n",
       "      <td>0.0</td>\n",
       "      <td>0.0</td>\n",
       "      <td>19.0</td>\n",
       "      <td>56200.0</td>\n",
       "      <td>1.0</td>\n",
       "      <td>49.0</td>\n",
       "      <td>2.0</td>\n",
       "      <td>59.0</td>\n",
       "      <td>0.0</td>\n",
       "    </tr>\n",
       "    <tr>\n",
       "      <th>1</th>\n",
       "      <td>2.0</td>\n",
       "      <td>1.0</td>\n",
       "      <td>15.0</td>\n",
       "      <td>19.0</td>\n",
       "      <td>84000.0</td>\n",
       "      <td>1.0</td>\n",
       "      <td>45.0</td>\n",
       "      <td>2.0</td>\n",
       "      <td>59.0</td>\n",
       "      <td>0.0</td>\n",
       "    </tr>\n",
       "    <tr>\n",
       "      <th>2</th>\n",
       "      <td>1.0</td>\n",
       "      <td>0.0</td>\n",
       "      <td>2.0</td>\n",
       "      <td>21.0</td>\n",
       "      <td>31000.0</td>\n",
       "      <td>1.0</td>\n",
       "      <td>37.0</td>\n",
       "      <td>2.0</td>\n",
       "      <td>37.0</td>\n",
       "      <td>0.0</td>\n",
       "    </tr>\n",
       "    <tr>\n",
       "      <th>3</th>\n",
       "      <td>2.0</td>\n",
       "      <td>0.0</td>\n",
       "      <td>60.0</td>\n",
       "      <td>21.0</td>\n",
       "      <td>69600.0</td>\n",
       "      <td>1.0</td>\n",
       "      <td>40.0</td>\n",
       "      <td>1.0</td>\n",
       "      <td>47.0</td>\n",
       "      <td>0.0</td>\n",
       "    </tr>\n",
       "  </tbody>\n",
       "</table>\n",
       "</div>"
      ],
      "text/plain": [
       "        HousingCat  EDUCbin  TRANTIME  HHWT  HHINCOME  RACE   AGE  SEX  \\\n",
       "labels                                                                   \n",
       "0              2.0      0.0       0.0  19.0   56200.0   1.0  49.0  2.0   \n",
       "1              2.0      1.0      15.0  19.0   84000.0   1.0  45.0  2.0   \n",
       "2              1.0      0.0       2.0  21.0   31000.0   1.0  37.0  2.0   \n",
       "3              2.0      0.0      60.0  21.0   69600.0   1.0  40.0  1.0   \n",
       "\n",
       "        COUNTYFIP  HISPAN  \n",
       "labels                     \n",
       "0            59.0     0.0  \n",
       "1            59.0     0.0  \n",
       "2            37.0     0.0  \n",
       "3            47.0     0.0  "
      ]
     },
     "execution_count": 46,
     "metadata": {},
     "output_type": "execute_result"
    }
   ],
   "source": [
    "#median table\n",
    "round(dfX00fin.groupby(by = 'labels').median(),2)"
   ]
  },
  {
   "cell_type": "code",
   "execution_count": 47,
   "id": "90c65e2c",
   "metadata": {},
   "outputs": [],
   "source": [
    "#seperate Clusters\n",
    "clust2000_0 = dfX00fin[dfX00fin['labels']==0]\n",
    "clust2000_1 = dfX00fin[dfX00fin['labels']==1]\n",
    "clust2000_2 = dfX00fin[dfX00fin['labels']==2]\n",
    "clust2000_3 = dfX00fin[dfX00fin['labels']==3]"
   ]
  },
  {
   "cell_type": "code",
   "execution_count": 48,
   "id": "dc54d780",
   "metadata": {},
   "outputs": [],
   "source": [
    "hhTotal0_2000=clust2000_0['HHWT'].sum()\n",
    "hhTotal1_2000=clust2000_1['HHWT'].sum()\n",
    "hhTotal2_2000=clust2000_2['HHWT'].sum()\n",
    "hhTotal3_2000=clust2000_3['HHWT'].sum()"
   ]
  },
  {
   "cell_type": "code",
   "execution_count": 49,
   "id": "9e79004f",
   "metadata": {},
   "outputs": [
    {
     "name": "stderr",
     "output_type": "stream",
     "text": [
      "<ipython-input-49-3b9a63a65a09>:1: SettingWithCopyWarning: \n",
      "A value is trying to be set on a copy of a slice from a DataFrame.\n",
      "Try using .loc[row_indexer,col_indexer] = value instead\n",
      "\n",
      "See the caveats in the documentation: https://pandas.pydata.org/pandas-docs/stable/user_guide/indexing.html#returning-a-view-versus-a-copy\n",
      "  clust2000_0['RowWt'] = clust2000_0['HHWT']/hhTotal0_2000\n",
      "<ipython-input-49-3b9a63a65a09>:2: SettingWithCopyWarning: \n",
      "A value is trying to be set on a copy of a slice from a DataFrame.\n",
      "Try using .loc[row_indexer,col_indexer] = value instead\n",
      "\n",
      "See the caveats in the documentation: https://pandas.pydata.org/pandas-docs/stable/user_guide/indexing.html#returning-a-view-versus-a-copy\n",
      "  clust2000_1['RowWt'] = clust2000_1['HHWT']/hhTotal1_2000\n",
      "<ipython-input-49-3b9a63a65a09>:3: SettingWithCopyWarning: \n",
      "A value is trying to be set on a copy of a slice from a DataFrame.\n",
      "Try using .loc[row_indexer,col_indexer] = value instead\n",
      "\n",
      "See the caveats in the documentation: https://pandas.pydata.org/pandas-docs/stable/user_guide/indexing.html#returning-a-view-versus-a-copy\n",
      "  clust2000_2['RowWt'] = clust2000_2['HHWT']/hhTotal2_2000\n",
      "<ipython-input-49-3b9a63a65a09>:4: SettingWithCopyWarning: \n",
      "A value is trying to be set on a copy of a slice from a DataFrame.\n",
      "Try using .loc[row_indexer,col_indexer] = value instead\n",
      "\n",
      "See the caveats in the documentation: https://pandas.pydata.org/pandas-docs/stable/user_guide/indexing.html#returning-a-view-versus-a-copy\n",
      "  clust2000_3['RowWt'] = clust2000_3['HHWT']/hhTotal3_2000\n"
     ]
    }
   ],
   "source": [
    "clust2000_0['RowWt'] = clust2000_0['HHWT']/hhTotal0_2000\n",
    "clust2000_1['RowWt'] = clust2000_1['HHWT']/hhTotal1_2000\n",
    "clust2000_2['RowWt'] = clust2000_2['HHWT']/hhTotal2_2000\n",
    "clust2000_3['RowWt'] = clust2000_3['HHWT']/hhTotal3_2000"
   ]
  },
  {
   "cell_type": "markdown",
   "id": "42c2e7d1",
   "metadata": {},
   "source": [
    "## Housing Category\n"
   ]
  },
  {
   "cell_type": "code",
   "execution_count": 50,
   "id": "75492822",
   "metadata": {},
   "outputs": [
    {
     "data": {
      "text/html": [
       "<div>\n",
       "<style scoped>\n",
       "    .dataframe tbody tr th:only-of-type {\n",
       "        vertical-align: middle;\n",
       "    }\n",
       "\n",
       "    .dataframe tbody tr th {\n",
       "        vertical-align: top;\n",
       "    }\n",
       "\n",
       "    .dataframe thead th {\n",
       "        text-align: right;\n",
       "    }\n",
       "</style>\n",
       "<table border=\"1\" class=\"dataframe\">\n",
       "  <thead>\n",
       "    <tr style=\"text-align: right;\">\n",
       "      <th></th>\n",
       "      <th>&gt;=30% Income on Rent</th>\n",
       "      <th>&lt;30% Income on Rent</th>\n",
       "      <th>Owner</th>\n",
       "    </tr>\n",
       "  </thead>\n",
       "  <tbody>\n",
       "    <tr>\n",
       "      <th>Cluster 0</th>\n",
       "      <td>0.00000</td>\n",
       "      <td>0.000000</td>\n",
       "      <td>1.000000</td>\n",
       "    </tr>\n",
       "    <tr>\n",
       "      <th>Cluster 1</th>\n",
       "      <td>0.00000</td>\n",
       "      <td>0.246728</td>\n",
       "      <td>0.753272</td>\n",
       "    </tr>\n",
       "    <tr>\n",
       "      <th>Cluster 2</th>\n",
       "      <td>0.47300</td>\n",
       "      <td>0.527000</td>\n",
       "      <td>0.000000</td>\n",
       "    </tr>\n",
       "    <tr>\n",
       "      <th>Cluster 3</th>\n",
       "      <td>0.09829</td>\n",
       "      <td>0.262966</td>\n",
       "      <td>0.638743</td>\n",
       "    </tr>\n",
       "  </tbody>\n",
       "</table>\n",
       "</div>"
      ],
      "text/plain": [
       "           >=30% Income on Rent  <30% Income on Rent     Owner\n",
       "Cluster 0               0.00000             0.000000  1.000000\n",
       "Cluster 1               0.00000             0.246728  0.753272\n",
       "Cluster 2               0.47300             0.527000  0.000000\n",
       "Cluster 3               0.09829             0.262966  0.638743"
      ]
     },
     "execution_count": 50,
     "metadata": {},
     "output_type": "execute_result"
    }
   ],
   "source": [
    "clustNames= ['Cluster 0', 'Cluster 1', 'Cluster 2','Cluster 3',]\n",
    "dfHousing_2000 = pd.DataFrame(index=clustNames, data=np.array([[clust2000_0.loc[clust2000_0['HousingCat']==0].RowWt.sum(),\n",
    "                                                     clust2000_0.loc[clust2000_0['HousingCat']==1].RowWt.sum(),\n",
    "                                                     clust2000_0.loc[clust2000_0['HousingCat']==2].RowWt.sum()], \n",
    "                                                    [clust2000_1.loc[clust2000_1['HousingCat']==0].RowWt.sum(),\n",
    "                                                     clust2000_1.loc[clust2000_1['HousingCat']==1].RowWt.sum(),\n",
    "                                                     clust2000_1.loc[clust2000_1['HousingCat']==2].RowWt.sum()],\n",
    "                                                    [clust2000_2.loc[clust2000_2['HousingCat']==0].RowWt.sum(),\n",
    "                                                     clust2000_2.loc[clust2000_2['HousingCat']==1].RowWt.sum(),\n",
    "                                                     clust2000_2.loc[clust2000_2['HousingCat']==2].RowWt.sum()],\n",
    "                                                    [clust2000_3.loc[clust2000_3['HousingCat']==0].RowWt.sum(),\n",
    "                                                     clust2000_3.loc[clust2000_3['HousingCat']==1].RowWt.sum(),\n",
    "                                                     clust2000_3.loc[clust2000_3['HousingCat']==2].RowWt.sum()],\n",
    "                                                    ]),\n",
    "                   columns=['>=30% Income on Rent', '<30% Income on Rent', 'Owner'])\n",
    "dfHousing_2000\n"
   ]
  },
  {
   "cell_type": "markdown",
   "id": "67a77efc",
   "metadata": {},
   "source": [
    "## Education (binary)\n"
   ]
  },
  {
   "cell_type": "code",
   "execution_count": 51,
   "id": "131c59fb",
   "metadata": {},
   "outputs": [
    {
     "data": {
      "text/html": [
       "<div>\n",
       "<style scoped>\n",
       "    .dataframe tbody tr th:only-of-type {\n",
       "        vertical-align: middle;\n",
       "    }\n",
       "\n",
       "    .dataframe tbody tr th {\n",
       "        vertical-align: top;\n",
       "    }\n",
       "\n",
       "    .dataframe thead th {\n",
       "        text-align: right;\n",
       "    }\n",
       "</style>\n",
       "<table border=\"1\" class=\"dataframe\">\n",
       "  <thead>\n",
       "    <tr style=\"text-align: right;\">\n",
       "      <th></th>\n",
       "      <th>&lt;2 yr. College</th>\n",
       "      <th>&gt;2 yr. College</th>\n",
       "    </tr>\n",
       "  </thead>\n",
       "  <tbody>\n",
       "    <tr>\n",
       "      <th>Cluster 0</th>\n",
       "      <td>1.000000</td>\n",
       "      <td>0.000000</td>\n",
       "    </tr>\n",
       "    <tr>\n",
       "      <th>Cluster 1</th>\n",
       "      <td>0.000000</td>\n",
       "      <td>1.000000</td>\n",
       "    </tr>\n",
       "    <tr>\n",
       "      <th>Cluster 2</th>\n",
       "      <td>0.901389</td>\n",
       "      <td>0.098611</td>\n",
       "    </tr>\n",
       "    <tr>\n",
       "      <th>Cluster 3</th>\n",
       "      <td>0.622322</td>\n",
       "      <td>0.377678</td>\n",
       "    </tr>\n",
       "  </tbody>\n",
       "</table>\n",
       "</div>"
      ],
      "text/plain": [
       "           <2 yr. College  >2 yr. College\n",
       "Cluster 0        1.000000        0.000000\n",
       "Cluster 1        0.000000        1.000000\n",
       "Cluster 2        0.901389        0.098611\n",
       "Cluster 3        0.622322        0.377678"
      ]
     },
     "execution_count": 51,
     "metadata": {},
     "output_type": "execute_result"
    }
   ],
   "source": [
    "#Education Binary Table \n",
    "clustNames= ['Cluster 0', 'Cluster 1', 'Cluster 2','Cluster 3',]\n",
    "dfEDU_2000 = pd.DataFrame(index=clustNames, data=np.array([[clust2000_0.loc[clust2000_0['EDUCbin']==0].RowWt.sum(),\n",
    "                                                     clust2000_0.loc[clust2000_0['EDUCbin']==1].RowWt.sum()], \n",
    "                                                    [clust2000_1.loc[clust2000_1['EDUCbin']==0].RowWt.sum(),\n",
    "                                                     clust2000_1.loc[clust2000_1['EDUCbin']==1].RowWt.sum()],\n",
    "                                                    [clust2000_2.loc[clust2000_2['EDUCbin']==0].RowWt.sum(),\n",
    "                                                     clust2000_2.loc[clust2000_2['EDUCbin']==1].RowWt.sum()],\n",
    "                                                    [clust2000_3.loc[clust2000_3['EDUCbin']==0].RowWt.sum(),\n",
    "                                                     clust2000_3.loc[clust2000_3['EDUCbin']==1].RowWt.sum(),\n",
    "                                                    ]]),\n",
    "                   columns=['<2 yr. College', '>2 yr. College'])\n",
    "dfEDU_2000\n"
   ]
  },
  {
   "cell_type": "markdown",
   "id": "d913e31d",
   "metadata": {},
   "source": [
    "## Commute Time \n"
   ]
  },
  {
   "cell_type": "code",
   "execution_count": 52,
   "id": "c8c895b7",
   "metadata": {},
   "outputs": [
    {
     "data": {
      "image/png": "[encoded data removed]",
      "text/plain": [
       "<Figure size 1080x504 with 4 Axes>"
      ]
     },
     "metadata": {
      "needs_background": "light"
     },
     "output_type": "display_data"
    }
   ],
   "source": [
    "fig, axs = plt.subplots(2, 2, sharex=True, figsize=(15,7))\n",
    "fig.suptitle(\"Cluster Commute Time Distributions\")\n",
    "\n",
    "axs[0, 0].hist(clust2000_0['TRANTIME'])\n",
    "axs[0, 0].set_title('Cluster 0')\n",
    "axs[0, 1].hist(clust2000_1['TRANTIME'])\n",
    "axs[0, 1].set_title('Cluster 1')\n",
    "axs[1, 0].hist(clust2000_2['TRANTIME'])\n",
    "axs[1, 0].set_title('Cluster 2')\n",
    "axs[1,0].set_xlabel('Commute Time')\n",
    "axs[1, 1].hist(clust2000_3['TRANTIME'])\n",
    "axs[1, 1].set_title('Cluster 3')\n",
    "axs[1,1].set_xlabel('Commute Time')\n",
    "\n",
    "\n",
    "for ax in axs[2:]:\n",
    "    axs.set(xlabel='Commute Time (Minutes)')"
   ]
  },
  {
   "cell_type": "markdown",
   "id": "0a2b3523",
   "metadata": {},
   "source": [
    "# Demographics\n"
   ]
  },
  {
   "cell_type": "markdown",
   "id": "b601b3db",
   "metadata": {},
   "source": [
    "## Race\n"
   ]
  },
  {
   "cell_type": "code",
   "execution_count": 53,
   "id": "2bc8df46",
   "metadata": {},
   "outputs": [
    {
     "data": {
      "text/html": [
       "<div>\n",
       "<style scoped>\n",
       "    .dataframe tbody tr th:only-of-type {\n",
       "        vertical-align: middle;\n",
       "    }\n",
       "\n",
       "    .dataframe tbody tr th {\n",
       "        vertical-align: top;\n",
       "    }\n",
       "\n",
       "    .dataframe thead th {\n",
       "        text-align: right;\n",
       "    }\n",
       "</style>\n",
       "<table border=\"1\" class=\"dataframe\">\n",
       "  <thead>\n",
       "    <tr style=\"text-align: right;\">\n",
       "      <th></th>\n",
       "      <th>White</th>\n",
       "      <th>Black</th>\n",
       "      <th>Native American/Alaskan</th>\n",
       "      <th>Chinese</th>\n",
       "      <th>Japanese</th>\n",
       "      <th>Other Asian/Pac. Islander</th>\n",
       "      <th>Other Race</th>\n",
       "      <th>Two Major Races</th>\n",
       "      <th>Three +</th>\n",
       "    </tr>\n",
       "  </thead>\n",
       "  <tbody>\n",
       "    <tr>\n",
       "      <th>Cluster 0</th>\n",
       "      <td>0.662947</td>\n",
       "      <td>0.046749</td>\n",
       "      <td>0.009234</td>\n",
       "      <td>0.026528</td>\n",
       "      <td>0.009869</td>\n",
       "      <td>0.056866</td>\n",
       "      <td>0.150265</td>\n",
       "      <td>0.035964</td>\n",
       "      <td>0.001578</td>\n",
       "    </tr>\n",
       "    <tr>\n",
       "      <th>Cluster 1</th>\n",
       "      <td>0.716103</td>\n",
       "      <td>0.042631</td>\n",
       "      <td>0.004436</td>\n",
       "      <td>0.051389</td>\n",
       "      <td>0.017287</td>\n",
       "      <td>0.101703</td>\n",
       "      <td>0.037024</td>\n",
       "      <td>0.027462</td>\n",
       "      <td>0.001966</td>\n",
       "    </tr>\n",
       "    <tr>\n",
       "      <th>Cluster 2</th>\n",
       "      <td>0.521092</td>\n",
       "      <td>0.084403</td>\n",
       "      <td>0.011829</td>\n",
       "      <td>0.022318</td>\n",
       "      <td>0.006714</td>\n",
       "      <td>0.076870</td>\n",
       "      <td>0.224449</td>\n",
       "      <td>0.049991</td>\n",
       "      <td>0.002334</td>\n",
       "    </tr>\n",
       "    <tr>\n",
       "      <th>Cluster 3</th>\n",
       "      <td>0.621828</td>\n",
       "      <td>0.073211</td>\n",
       "      <td>0.008986</td>\n",
       "      <td>0.034597</td>\n",
       "      <td>0.009657</td>\n",
       "      <td>0.071215</td>\n",
       "      <td>0.138916</td>\n",
       "      <td>0.039283</td>\n",
       "      <td>0.002306</td>\n",
       "    </tr>\n",
       "  </tbody>\n",
       "</table>\n",
       "</div>"
      ],
      "text/plain": [
       "              White     Black  Native American/Alaskan   Chinese  Japanese  \\\n",
       "Cluster 0  0.662947  0.046749                 0.009234  0.026528  0.009869   \n",
       "Cluster 1  0.716103  0.042631                 0.004436  0.051389  0.017287   \n",
       "Cluster 2  0.521092  0.084403                 0.011829  0.022318  0.006714   \n",
       "Cluster 3  0.621828  0.073211                 0.008986  0.034597  0.009657   \n",
       "\n",
       "           Other Asian/Pac. Islander  Other Race  Two Major Races   Three +  \n",
       "Cluster 0                   0.056866    0.150265         0.035964  0.001578  \n",
       "Cluster 1                   0.101703    0.037024         0.027462  0.001966  \n",
       "Cluster 2                   0.076870    0.224449         0.049991  0.002334  \n",
       "Cluster 3                   0.071215    0.138916         0.039283  0.002306  "
      ]
     },
     "execution_count": 53,
     "metadata": {},
     "output_type": "execute_result"
    }
   ],
   "source": [
    "clustNames= ['Cluster 0', 'Cluster 1', 'Cluster 2','Cluster 3']\n",
    "dfR00 = pd.DataFrame(index=clustNames, data=np.array([[clust2000_0.loc[clust2000_0['RACE']==1].RowWt.sum(),clust2000_0.loc[clust2000_0['RACE']==2].RowWt.sum(),clust2000_0.loc[clust2000_0['RACE']==3].RowWt.sum(),\n",
    "                                                    clust2000_0.loc[clust2000_0['RACE']==4].RowWt.sum(),clust2000_0.loc[clust2000_0['RACE']==5].RowWt.sum(),clust2000_0.loc[clust2000_0['RACE']==6].RowWt.sum(),\n",
    "                                                    clust2000_0.loc[clust2000_0['RACE']==7].RowWt.sum(),clust2000_0.loc[clust2000_0['RACE']==8].RowWt.sum(),clust2000_0.loc[clust2000_0['RACE']==9].RowWt.sum()], \n",
    "                                                    [clust2000_1.loc[clust2000_1['RACE']==1].RowWt.sum(),clust2000_1.loc[clust2000_1['RACE']==2].RowWt.sum(),clust2000_1.loc[clust2000_1['RACE']==3].RowWt.sum(),\n",
    "                                                    clust2000_1.loc[clust2000_1['RACE']==4].RowWt.sum(),clust2000_1.loc[clust2000_1['RACE']==5].RowWt.sum(),clust2000_1.loc[clust2000_1['RACE']==6].RowWt.sum(),\n",
    "                                                    clust2000_1.loc[clust2000_1['RACE']==7].RowWt.sum(),clust2000_1.loc[clust2000_1['RACE']==8].RowWt.sum(),clust2000_1.loc[clust2000_1['RACE']==9].RowWt.sum()],\n",
    "                                                    [clust2000_2.loc[clust2000_2['RACE']==1].RowWt.sum(),clust2000_2.loc[clust2000_2['RACE']==2].RowWt.sum(),clust2000_2.loc[clust2000_2['RACE']==3].RowWt.sum(),\n",
    "                                                    clust2000_2.loc[clust2000_2['RACE']==4].RowWt.sum(),clust2000_2.loc[clust2000_2['RACE']==5].RowWt.sum(),clust2000_2.loc[clust2000_2['RACE']==6].RowWt.sum(),\n",
    "                                                    clust2000_2.loc[clust2000_2['RACE']==7].RowWt.sum(),clust2000_2.loc[clust2000_2['RACE']==8].RowWt.sum(),clust2000_2.loc[clust2000_2['RACE']==9].RowWt.sum()],\n",
    "                                                    [clust2000_3.loc[clust2000_3['RACE']==1].RowWt.sum(),clust2000_3.loc[clust2000_3['RACE']==2].RowWt.sum(),clust2000_3.loc[clust2000_3['RACE']==3].RowWt.sum(),\n",
    "                                                    clust2000_3.loc[clust2000_3['RACE']==4].RowWt.sum(),clust2000_3.loc[clust2000_3['RACE']==5].RowWt.sum(),clust2000_3.loc[clust2000_3['RACE']==6].RowWt.sum(),\n",
    "                                                    clust2000_3.loc[clust2000_3['RACE']==7].RowWt.sum(),clust2000_3.loc[clust2000_3['RACE']==8].RowWt.sum(),clust2000_3.loc[clust2000_3['RACE']==9].RowWt.sum()]]),\n",
    "    columns=['White','Black','Native American/Alaskan','Chinese','Japanese','Other Asian/Pac. Islander','Other Race','Two Major Races','Three +'])\n",
    "dfR00                 "
   ]
  },
  {
   "cell_type": "markdown",
   "id": "6e2b450f",
   "metadata": {},
   "source": [
    "## Income"
   ]
  },
  {
   "cell_type": "code",
   "execution_count": 54,
   "id": "8abccf77",
   "metadata": {},
   "outputs": [
    {
     "data": {
      "image/png": "[encoded data removed]",
      "text/plain": [
       "<Figure size 1080x504 with 4 Axes>"
      ]
     },
     "metadata": {
      "needs_background": "light"
     },
     "output_type": "display_data"
    }
   ],
   "source": [
    "#Income\n",
    "fig, axs = plt.subplots(2, 2, sharex=True,sharey=True, figsize=(15,7))\n",
    "fig.suptitle(\"Income\")\n",
    "\n",
    "axs[0, 0].hist(clust2000_0['HHINCOME'],bins=100,edgecolor = \"black\")\n",
    "axs[0, 0].set_title('Cluster 0')\n",
    "axs[0, 0].set_xlim([0, 400000])\n",
    "axs[0, 1].hist(clust2000_1['HHINCOME'],bins=100,edgecolor = \"black\")\n",
    "axs[0, 1].set_title('Cluster 1')\n",
    "axs[0, 1].set_xlim([0, 40000])\n",
    "axs[1, 0].hist(clust2000_2['HHINCOME'],bins=100,edgecolor = \"black\")\n",
    "axs[1, 0].set_title('Cluster 2')\n",
    "axs[1, 0].set_xlim([0, 400000])\n",
    "axs[1,0].set_xlabel('Income')\n",
    "axs[1, 1].hist(clust2000_3['HHINCOME'],bins=100,edgecolor = \"black\")\n",
    "axs[1, 1].set_title('Cluster 3')\n",
    "axs[1, 1].set_xlim([0, 400000])\n",
    "axs[1,1].set_xlabel('Income')\n",
    "\n",
    "for ax in axs[2:]:\n",
    "    ax.set(xlabel='Income')"
   ]
  },
  {
   "cell_type": "code",
   "execution_count": 55,
   "id": "7d5f1d88",
   "metadata": {},
   "outputs": [
    {
     "data": {
      "text/plain": [
       "<AxesSubplot:>"
      ]
     },
     "execution_count": 55,
     "metadata": {},
     "output_type": "execute_result"
    },
    {
     "data": {
      "image/png": "[encoded data removed]",
      "text/plain": [
       "<Figure size 1080x576 with 2 Axes>"
      ]
     },
     "metadata": {
      "needs_background": "light"
     },
     "output_type": "display_data"
    }
   ],
   "source": [
    "Xcorr00=dfX00fin.iloc[:, [0,1,2,3,4,5,6,7,8,9]]\n",
    "plt.subplots(figsize=(15,8))\n",
    "sns.heatmap(Xcorr00.corr(), annot = True)\n"
   ]
  },
  {
   "cell_type": "markdown",
   "id": "b2556df1",
   "metadata": {},
   "source": [
    "### 1990"
   ]
  },
  {
   "cell_type": "code",
   "execution_count": 56,
   "id": "82117d9e",
   "metadata": {},
   "outputs": [
    {
     "data": {
      "text/html": [
       "<div>\n",
       "<style scoped>\n",
       "    .dataframe tbody tr th:only-of-type {\n",
       "        vertical-align: middle;\n",
       "    }\n",
       "\n",
       "    .dataframe tbody tr th {\n",
       "        vertical-align: top;\n",
       "    }\n",
       "\n",
       "    .dataframe thead th {\n",
       "        text-align: right;\n",
       "    }\n",
       "</style>\n",
       "<table border=\"1\" class=\"dataframe\">\n",
       "  <thead>\n",
       "    <tr style=\"text-align: right;\">\n",
       "      <th></th>\n",
       "      <th>HousingCat</th>\n",
       "      <th>EDUCbin</th>\n",
       "      <th>TRANTIME</th>\n",
       "      <th>HHWT</th>\n",
       "      <th>HHINCOME</th>\n",
       "      <th>RACE</th>\n",
       "      <th>AGE</th>\n",
       "      <th>SEX</th>\n",
       "      <th>COUNTYFIP</th>\n",
       "      <th>HISPAN</th>\n",
       "    </tr>\n",
       "    <tr>\n",
       "      <th>labels</th>\n",
       "      <th></th>\n",
       "      <th></th>\n",
       "      <th></th>\n",
       "      <th></th>\n",
       "      <th></th>\n",
       "      <th></th>\n",
       "      <th></th>\n",
       "      <th></th>\n",
       "      <th></th>\n",
       "      <th></th>\n",
       "    </tr>\n",
       "  </thead>\n",
       "  <tbody>\n",
       "    <tr>\n",
       "      <th>0</th>\n",
       "      <td>2.000000</td>\n",
       "      <td>0.000000</td>\n",
       "      <td>8.200154</td>\n",
       "      <td>19.382852</td>\n",
       "      <td>50344.338479</td>\n",
       "      <td>1.968691</td>\n",
       "      <td>50.362844</td>\n",
       "      <td>1.569326</td>\n",
       "      <td>52.958754</td>\n",
       "      <td>0.295185</td>\n",
       "    </tr>\n",
       "    <tr>\n",
       "      <th>1</th>\n",
       "      <td>1.770943</td>\n",
       "      <td>1.000000</td>\n",
       "      <td>15.426928</td>\n",
       "      <td>19.976285</td>\n",
       "      <td>71433.732782</td>\n",
       "      <td>1.765125</td>\n",
       "      <td>43.500383</td>\n",
       "      <td>1.478019</td>\n",
       "      <td>53.937945</td>\n",
       "      <td>0.146629</td>\n",
       "    </tr>\n",
       "    <tr>\n",
       "      <th>2</th>\n",
       "      <td>0.500794</td>\n",
       "      <td>0.093987</td>\n",
       "      <td>10.423392</td>\n",
       "      <td>21.640624</td>\n",
       "      <td>29715.600988</td>\n",
       "      <td>2.640184</td>\n",
       "      <td>39.138719</td>\n",
       "      <td>1.533481</td>\n",
       "      <td>52.118339</td>\n",
       "      <td>0.538956</td>\n",
       "    </tr>\n",
       "    <tr>\n",
       "      <th>3</th>\n",
       "      <td>1.602153</td>\n",
       "      <td>0.271089</td>\n",
       "      <td>59.800477</td>\n",
       "      <td>20.401737</td>\n",
       "      <td>59819.405186</td>\n",
       "      <td>2.189663</td>\n",
       "      <td>39.122303</td>\n",
       "      <td>1.352164</td>\n",
       "      <td>51.615530</td>\n",
       "      <td>0.392465</td>\n",
       "    </tr>\n",
       "  </tbody>\n",
       "</table>\n",
       "</div>"
      ],
      "text/plain": [
       "        HousingCat   EDUCbin   TRANTIME       HHWT      HHINCOME      RACE  \\\n",
       "labels                                                                       \n",
       "0         2.000000  0.000000   8.200154  19.382852  50344.338479  1.968691   \n",
       "1         1.770943  1.000000  15.426928  19.976285  71433.732782  1.765125   \n",
       "2         0.500794  0.093987  10.423392  21.640624  29715.600988  2.640184   \n",
       "3         1.602153  0.271089  59.800477  20.401737  59819.405186  2.189663   \n",
       "\n",
       "              AGE       SEX  COUNTYFIP    HISPAN  \n",
       "labels                                            \n",
       "0       50.362844  1.569326  52.958754  0.295185  \n",
       "1       43.500383  1.478019  53.937945  0.146629  \n",
       "2       39.138719  1.533481  52.118339  0.538956  \n",
       "3       39.122303  1.352164  51.615530  0.392465  "
      ]
     },
     "execution_count": 56,
     "metadata": {},
     "output_type": "execute_result"
    }
   ],
   "source": [
    "kmeans = KMeans(n_clusters = 4, init = 'k-means++', random_state = 42)\n",
    "kmeans.fit(dfX90.iloc[:,0:3])\n",
    "X90fin = scaler.inverse_transform(dfX90)\n",
    "dfX90fin = pd.DataFrame(X90fin, columns=['HousingCat','EDUCbin','TRANTIME','HHWT','HHINCOME','RACE','AGE','SEX','COUNTYFIP','HISPAN'])\n",
    "dfX90fin['labels'] = kmeans.labels_\n",
    "cluster_sum90 = dfX90fin.groupby(by = 'labels').mean()\n",
    "cluster_sum90.head(5)\n"
   ]
  },
  {
   "cell_type": "code",
   "execution_count": 57,
   "id": "f03a99b0",
   "metadata": {},
   "outputs": [
    {
     "data": {
      "text/html": [
       "<div>\n",
       "<style scoped>\n",
       "    .dataframe tbody tr th:only-of-type {\n",
       "        vertical-align: middle;\n",
       "    }\n",
       "\n",
       "    .dataframe tbody tr th {\n",
       "        vertical-align: top;\n",
       "    }\n",
       "\n",
       "    .dataframe thead th {\n",
       "        text-align: right;\n",
       "    }\n",
       "</style>\n",
       "<table border=\"1\" class=\"dataframe\">\n",
       "  <thead>\n",
       "    <tr style=\"text-align: right;\">\n",
       "      <th></th>\n",
       "      <th>HousingCat</th>\n",
       "      <th>EDUCbin</th>\n",
       "      <th>TRANTIME</th>\n",
       "      <th>HHWT</th>\n",
       "      <th>HHINCOME</th>\n",
       "      <th>RACE</th>\n",
       "      <th>AGE</th>\n",
       "      <th>SEX</th>\n",
       "      <th>COUNTYFIP</th>\n",
       "      <th>HISPAN</th>\n",
       "    </tr>\n",
       "    <tr>\n",
       "      <th>labels</th>\n",
       "      <th></th>\n",
       "      <th></th>\n",
       "      <th></th>\n",
       "      <th></th>\n",
       "      <th></th>\n",
       "      <th></th>\n",
       "      <th></th>\n",
       "      <th></th>\n",
       "      <th></th>\n",
       "      <th></th>\n",
       "    </tr>\n",
       "  </thead>\n",
       "  <tbody>\n",
       "    <tr>\n",
       "      <th>0</th>\n",
       "      <td>2.0</td>\n",
       "      <td>0.0</td>\n",
       "      <td>0.0</td>\n",
       "      <td>18.0</td>\n",
       "      <td>42854.0</td>\n",
       "      <td>1.0</td>\n",
       "      <td>50.0</td>\n",
       "      <td>2.0</td>\n",
       "      <td>59.0</td>\n",
       "      <td>0.0</td>\n",
       "    </tr>\n",
       "    <tr>\n",
       "      <th>1</th>\n",
       "      <td>2.0</td>\n",
       "      <td>1.0</td>\n",
       "      <td>15.0</td>\n",
       "      <td>18.0</td>\n",
       "      <td>60000.0</td>\n",
       "      <td>1.0</td>\n",
       "      <td>41.0</td>\n",
       "      <td>1.0</td>\n",
       "      <td>59.0</td>\n",
       "      <td>0.0</td>\n",
       "    </tr>\n",
       "    <tr>\n",
       "      <th>2</th>\n",
       "      <td>1.0</td>\n",
       "      <td>0.0</td>\n",
       "      <td>5.0</td>\n",
       "      <td>21.0</td>\n",
       "      <td>25000.0</td>\n",
       "      <td>1.0</td>\n",
       "      <td>34.0</td>\n",
       "      <td>2.0</td>\n",
       "      <td>41.0</td>\n",
       "      <td>0.0</td>\n",
       "    </tr>\n",
       "    <tr>\n",
       "      <th>3</th>\n",
       "      <td>2.0</td>\n",
       "      <td>0.0</td>\n",
       "      <td>60.0</td>\n",
       "      <td>19.0</td>\n",
       "      <td>52000.0</td>\n",
       "      <td>1.0</td>\n",
       "      <td>37.0</td>\n",
       "      <td>1.0</td>\n",
       "      <td>41.0</td>\n",
       "      <td>0.0</td>\n",
       "    </tr>\n",
       "  </tbody>\n",
       "</table>\n",
       "</div>"
      ],
      "text/plain": [
       "        HousingCat  EDUCbin  TRANTIME  HHWT  HHINCOME  RACE   AGE  SEX  \\\n",
       "labels                                                                   \n",
       "0              2.0      0.0       0.0  18.0   42854.0   1.0  50.0  2.0   \n",
       "1              2.0      1.0      15.0  18.0   60000.0   1.0  41.0  1.0   \n",
       "2              1.0      0.0       5.0  21.0   25000.0   1.0  34.0  2.0   \n",
       "3              2.0      0.0      60.0  19.0   52000.0   1.0  37.0  1.0   \n",
       "\n",
       "        COUNTYFIP  HISPAN  \n",
       "labels                     \n",
       "0            59.0     0.0  \n",
       "1            59.0     0.0  \n",
       "2            41.0     0.0  \n",
       "3            41.0     0.0  "
      ]
     },
     "execution_count": 57,
     "metadata": {},
     "output_type": "execute_result"
    }
   ],
   "source": [
    "#median table\n",
    "round(dfX90fin.groupby(by = 'labels').median(),2)"
   ]
  },
  {
   "cell_type": "code",
   "execution_count": 58,
   "id": "0497dc7e",
   "metadata": {},
   "outputs": [],
   "source": [
    "#seperate Clusters\n",
    "clust1990_0 = dfX90fin[dfX90fin['labels']==0]\n",
    "clust1990_1 = dfX90fin[dfX90fin['labels']==1]\n",
    "clust1990_2 = dfX90fin[dfX90fin['labels']==2]\n",
    "clust1990_3 = dfX90fin[dfX90fin['labels']==3]"
   ]
  },
  {
   "cell_type": "code",
   "execution_count": 59,
   "id": "998030f9",
   "metadata": {},
   "outputs": [],
   "source": [
    "hhTotal0_1990=clust1990_0['HHWT'].sum()\n",
    "hhTotal1_1990=clust1990_1['HHWT'].sum()\n",
    "hhTotal2_1990=clust1990_2['HHWT'].sum()\n",
    "hhTotal3_1990=clust1990_3['HHWT'].sum()"
   ]
  },
  {
   "cell_type": "code",
   "execution_count": 60,
   "id": "a0eb9cdf",
   "metadata": {},
   "outputs": [
    {
     "name": "stderr",
     "output_type": "stream",
     "text": [
      "<ipython-input-60-c8619904d48b>:1: SettingWithCopyWarning: \n",
      "A value is trying to be set on a copy of a slice from a DataFrame.\n",
      "Try using .loc[row_indexer,col_indexer] = value instead\n",
      "\n",
      "See the caveats in the documentation: https://pandas.pydata.org/pandas-docs/stable/user_guide/indexing.html#returning-a-view-versus-a-copy\n",
      "  clust1990_0['RowWt'] = clust1990_0['HHWT']/hhTotal0_2000\n",
      "<ipython-input-60-c8619904d48b>:2: SettingWithCopyWarning: \n",
      "A value is trying to be set on a copy of a slice from a DataFrame.\n",
      "Try using .loc[row_indexer,col_indexer] = value instead\n",
      "\n",
      "See the caveats in the documentation: https://pandas.pydata.org/pandas-docs/stable/user_guide/indexing.html#returning-a-view-versus-a-copy\n",
      "  clust1990_1['RowWt'] = clust1990_1['HHWT']/hhTotal1_2000\n",
      "<ipython-input-60-c8619904d48b>:3: SettingWithCopyWarning: \n",
      "A value is trying to be set on a copy of a slice from a DataFrame.\n",
      "Try using .loc[row_indexer,col_indexer] = value instead\n",
      "\n",
      "See the caveats in the documentation: https://pandas.pydata.org/pandas-docs/stable/user_guide/indexing.html#returning-a-view-versus-a-copy\n",
      "  clust1990_2['RowWt'] = clust1990_2['HHWT']/hhTotal2_2000\n",
      "<ipython-input-60-c8619904d48b>:4: SettingWithCopyWarning: \n",
      "A value is trying to be set on a copy of a slice from a DataFrame.\n",
      "Try using .loc[row_indexer,col_indexer] = value instead\n",
      "\n",
      "See the caveats in the documentation: https://pandas.pydata.org/pandas-docs/stable/user_guide/indexing.html#returning-a-view-versus-a-copy\n",
      "  clust1990_3['RowWt'] = clust1990_3['HHWT']/hhTotal3_2000\n"
     ]
    }
   ],
   "source": [
    "clust1990_0['RowWt'] = clust1990_0['HHWT']/hhTotal0_2000\n",
    "clust1990_1['RowWt'] = clust1990_1['HHWT']/hhTotal1_2000\n",
    "clust1990_2['RowWt'] = clust1990_2['HHWT']/hhTotal2_2000\n",
    "clust1990_3['RowWt'] = clust1990_3['HHWT']/hhTotal3_2000"
   ]
  },
  {
   "cell_type": "markdown",
   "id": "ffc9fbb8",
   "metadata": {},
   "source": [
    "## Housing Category\n"
   ]
  },
  {
   "cell_type": "code",
   "execution_count": 61,
   "id": "239b4176",
   "metadata": {},
   "outputs": [
    {
     "data": {
      "text/html": [
       "<div>\n",
       "<style scoped>\n",
       "    .dataframe tbody tr th:only-of-type {\n",
       "        vertical-align: middle;\n",
       "    }\n",
       "\n",
       "    .dataframe tbody tr th {\n",
       "        vertical-align: top;\n",
       "    }\n",
       "\n",
       "    .dataframe thead th {\n",
       "        text-align: right;\n",
       "    }\n",
       "</style>\n",
       "<table border=\"1\" class=\"dataframe\">\n",
       "  <thead>\n",
       "    <tr style=\"text-align: right;\">\n",
       "      <th></th>\n",
       "      <th>&gt;=30% Income on Rent</th>\n",
       "      <th>&lt;30% Income on Rent</th>\n",
       "      <th>Owner</th>\n",
       "    </tr>\n",
       "  </thead>\n",
       "  <tbody>\n",
       "    <tr>\n",
       "      <th>Cluster 0</th>\n",
       "      <td>0.000000</td>\n",
       "      <td>0.000000</td>\n",
       "      <td>0.874503</td>\n",
       "    </tr>\n",
       "    <tr>\n",
       "      <th>Cluster 1</th>\n",
       "      <td>0.000000</td>\n",
       "      <td>0.202053</td>\n",
       "      <td>0.596399</td>\n",
       "    </tr>\n",
       "    <tr>\n",
       "      <th>Cluster 2</th>\n",
       "      <td>0.468109</td>\n",
       "      <td>0.452186</td>\n",
       "      <td>0.000000</td>\n",
       "    </tr>\n",
       "    <tr>\n",
       "      <th>Cluster 3</th>\n",
       "      <td>0.090240</td>\n",
       "      <td>0.342786</td>\n",
       "      <td>0.789491</td>\n",
       "    </tr>\n",
       "  </tbody>\n",
       "</table>\n",
       "</div>"
      ],
      "text/plain": [
       "           >=30% Income on Rent  <30% Income on Rent     Owner\n",
       "Cluster 0              0.000000             0.000000  0.874503\n",
       "Cluster 1              0.000000             0.202053  0.596399\n",
       "Cluster 2              0.468109             0.452186  0.000000\n",
       "Cluster 3              0.090240             0.342786  0.789491"
      ]
     },
     "execution_count": 61,
     "metadata": {},
     "output_type": "execute_result"
    }
   ],
   "source": [
    "clustNames= ['Cluster 0', 'Cluster 1', 'Cluster 2','Cluster 3',]\n",
    "dfHousing_1990 = pd.DataFrame(index=clustNames, data=np.array([[clust1990_0.loc[clust1990_0['HousingCat']==0].RowWt.sum(),\n",
    "                                                     clust1990_0.loc[clust1990_0['HousingCat']==1].RowWt.sum(),\n",
    "                                                     clust1990_0.loc[clust1990_0['HousingCat']==2].RowWt.sum()], \n",
    "                                                    [clust1990_1.loc[clust1990_1['HousingCat']==0].RowWt.sum(),\n",
    "                                                     clust1990_1.loc[clust1990_1['HousingCat']==1].RowWt.sum(),\n",
    "                                                     clust1990_1.loc[clust1990_1['HousingCat']==2].RowWt.sum()],\n",
    "                                                    [clust1990_2.loc[clust1990_2['HousingCat']==0].RowWt.sum(),\n",
    "                                                     clust1990_2.loc[clust1990_2['HousingCat']==1].RowWt.sum(),\n",
    "                                                     clust1990_2.loc[clust1990_2['HousingCat']==2].RowWt.sum()],\n",
    "                                                    [clust1990_3.loc[clust1990_3['HousingCat']==0].RowWt.sum(),\n",
    "                                                     clust1990_3.loc[clust1990_3['HousingCat']==1].RowWt.sum(),\n",
    "                                                     clust1990_3.loc[clust1990_3['HousingCat']==2].RowWt.sum()],\n",
    "                                                    ]),\n",
    "                   columns=['>=30% Income on Rent', '<30% Income on Rent', 'Owner'])\n",
    "dfHousing_1990\n"
   ]
  },
  {
   "cell_type": "markdown",
   "id": "27732c7c",
   "metadata": {},
   "source": [
    "## Education (binary)\n"
   ]
  },
  {
   "cell_type": "code",
   "execution_count": 62,
   "id": "37b794cf",
   "metadata": {},
   "outputs": [
    {
     "data": {
      "text/html": [
       "<div>\n",
       "<style scoped>\n",
       "    .dataframe tbody tr th:only-of-type {\n",
       "        vertical-align: middle;\n",
       "    }\n",
       "\n",
       "    .dataframe tbody tr th {\n",
       "        vertical-align: top;\n",
       "    }\n",
       "\n",
       "    .dataframe thead th {\n",
       "        text-align: right;\n",
       "    }\n",
       "</style>\n",
       "<table border=\"1\" class=\"dataframe\">\n",
       "  <thead>\n",
       "    <tr style=\"text-align: right;\">\n",
       "      <th></th>\n",
       "      <th>&lt;2 yr. College</th>\n",
       "      <th>&gt;2 yr. College</th>\n",
       "    </tr>\n",
       "  </thead>\n",
       "  <tbody>\n",
       "    <tr>\n",
       "      <th>Cluster 0</th>\n",
       "      <td>0.874503</td>\n",
       "      <td>0.000000</td>\n",
       "    </tr>\n",
       "    <tr>\n",
       "      <th>Cluster 1</th>\n",
       "      <td>0.000000</td>\n",
       "      <td>0.798452</td>\n",
       "    </tr>\n",
       "    <tr>\n",
       "      <th>Cluster 2</th>\n",
       "      <td>0.830102</td>\n",
       "      <td>0.090192</td>\n",
       "    </tr>\n",
       "    <tr>\n",
       "      <th>Cluster 3</th>\n",
       "      <td>0.892629</td>\n",
       "      <td>0.329889</td>\n",
       "    </tr>\n",
       "  </tbody>\n",
       "</table>\n",
       "</div>"
      ],
      "text/plain": [
       "           <2 yr. College  >2 yr. College\n",
       "Cluster 0        0.874503        0.000000\n",
       "Cluster 1        0.000000        0.798452\n",
       "Cluster 2        0.830102        0.090192\n",
       "Cluster 3        0.892629        0.329889"
      ]
     },
     "execution_count": 62,
     "metadata": {},
     "output_type": "execute_result"
    }
   ],
   "source": [
    "#Education Binary Table \n",
    "clustNames= ['Cluster 0', 'Cluster 1', 'Cluster 2','Cluster 3',]\n",
    "dfEDU_1990 = pd.DataFrame(index=clustNames, data=np.array([[clust1990_0.loc[clust1990_0['EDUCbin']==0].RowWt.sum(),\n",
    "                                                     clust1990_0.loc[clust1990_0['EDUCbin']==1].RowWt.sum()], \n",
    "                                                    [clust1990_1.loc[clust1990_1['EDUCbin']==0].RowWt.sum(),\n",
    "                                                     clust1990_1.loc[clust1990_1['EDUCbin']==1].RowWt.sum()],\n",
    "                                                    [clust1990_2.loc[clust1990_2['EDUCbin']==0].RowWt.sum(),\n",
    "                                                     clust1990_2.loc[clust1990_2['EDUCbin']==1].RowWt.sum()],\n",
    "                                                    [clust1990_3.loc[clust1990_3['EDUCbin']==0].RowWt.sum(),\n",
    "                                                     clust1990_3.loc[clust1990_3['EDUCbin']==1].RowWt.sum(),\n",
    "                                                    ]]),\n",
    "                   columns=['<2 yr. College', '>2 yr. College'])\n",
    "dfEDU_1990\n"
   ]
  },
  {
   "cell_type": "markdown",
   "id": "7aeb6ce0",
   "metadata": {},
   "source": [
    "## Commute Time \n"
   ]
  },
  {
   "cell_type": "code",
   "execution_count": 63,
   "id": "bd6ceef2",
   "metadata": {},
   "outputs": [
    {
     "data": {
      "image/png": "[encoded data removed]",
      "text/plain": [
       "<Figure size 1080x504 with 4 Axes>"
      ]
     },
     "metadata": {
      "needs_background": "light"
     },
     "output_type": "display_data"
    }
   ],
   "source": [
    "fig, axs = plt.subplots(2, 2, sharex=True, figsize=(15,7))\n",
    "fig.suptitle(\"Cluster Commute Time Distributions\")\n",
    "\n",
    "axs[0, 0].hist(clust1990_0['TRANTIME'])\n",
    "axs[0, 0].set_title('Cluster 0')\n",
    "axs[0, 1].hist(clust1990_1['TRANTIME'])\n",
    "axs[0, 1].set_title('Cluster 1')\n",
    "axs[1, 0].hist(clust1990_2['TRANTIME'])\n",
    "axs[1, 0].set_title('Cluster 2')\n",
    "axs[1,0].set_xlabel('Commute Time')\n",
    "axs[1, 1].hist(clust1990_3['TRANTIME'])\n",
    "axs[1, 1].set_title('Cluster 3')\n",
    "axs[1,1].set_xlabel('Commute Time')\n",
    "\n",
    "\n",
    "for ax in axs[2:]:\n",
    "    axs.set(xlabel='Commute Time (Minutes)')"
   ]
  },
  {
   "cell_type": "markdown",
   "id": "4cf08cad",
   "metadata": {},
   "source": [
    "# Demographics\n"
   ]
  },
  {
   "cell_type": "markdown",
   "id": "7a4ba968",
   "metadata": {},
   "source": [
    "## Race\n"
   ]
  },
  {
   "cell_type": "code",
   "execution_count": 64,
   "id": "894ea59d",
   "metadata": {},
   "outputs": [
    {
     "data": {
      "text/html": [
       "<div>\n",
       "<style scoped>\n",
       "    .dataframe tbody tr th:only-of-type {\n",
       "        vertical-align: middle;\n",
       "    }\n",
       "\n",
       "    .dataframe tbody tr th {\n",
       "        vertical-align: top;\n",
       "    }\n",
       "\n",
       "    .dataframe thead th {\n",
       "        text-align: right;\n",
       "    }\n",
       "</style>\n",
       "<table border=\"1\" class=\"dataframe\">\n",
       "  <thead>\n",
       "    <tr style=\"text-align: right;\">\n",
       "      <th></th>\n",
       "      <th>White</th>\n",
       "      <th>Black</th>\n",
       "      <th>Native American/Alaskan</th>\n",
       "      <th>Chinese</th>\n",
       "      <th>Japanese</th>\n",
       "      <th>Other Asian/Pac. Islander</th>\n",
       "      <th>Other Race</th>\n",
       "      <th>Two Major Races</th>\n",
       "      <th>Three +</th>\n",
       "    </tr>\n",
       "  </thead>\n",
       "  <tbody>\n",
       "    <tr>\n",
       "      <th>Cluster 0</th>\n",
       "      <td>0.674393</td>\n",
       "      <td>0.045452</td>\n",
       "      <td>0.006962</td>\n",
       "      <td>0.018398</td>\n",
       "      <td>0.010614</td>\n",
       "      <td>0.035506</td>\n",
       "      <td>0.083178</td>\n",
       "      <td>0.0</td>\n",
       "      <td>0.0</td>\n",
       "    </tr>\n",
       "    <tr>\n",
       "      <th>Cluster 1</th>\n",
       "      <td>0.634762</td>\n",
       "      <td>0.036722</td>\n",
       "      <td>0.003745</td>\n",
       "      <td>0.028997</td>\n",
       "      <td>0.014944</td>\n",
       "      <td>0.055625</td>\n",
       "      <td>0.023657</td>\n",
       "      <td>0.0</td>\n",
       "      <td>0.0</td>\n",
       "    </tr>\n",
       "    <tr>\n",
       "      <th>Cluster 2</th>\n",
       "      <td>0.578226</td>\n",
       "      <td>0.085822</td>\n",
       "      <td>0.009612</td>\n",
       "      <td>0.017565</td>\n",
       "      <td>0.007091</td>\n",
       "      <td>0.057380</td>\n",
       "      <td>0.164599</td>\n",
       "      <td>0.0</td>\n",
       "      <td>0.0</td>\n",
       "    </tr>\n",
       "    <tr>\n",
       "      <th>Cluster 3</th>\n",
       "      <td>0.872554</td>\n",
       "      <td>0.085306</td>\n",
       "      <td>0.009916</td>\n",
       "      <td>0.032488</td>\n",
       "      <td>0.013822</td>\n",
       "      <td>0.068838</td>\n",
       "      <td>0.139594</td>\n",
       "      <td>0.0</td>\n",
       "      <td>0.0</td>\n",
       "    </tr>\n",
       "  </tbody>\n",
       "</table>\n",
       "</div>"
      ],
      "text/plain": [
       "              White     Black  Native American/Alaskan   Chinese  Japanese  \\\n",
       "Cluster 0  0.674393  0.045452                 0.006962  0.018398  0.010614   \n",
       "Cluster 1  0.634762  0.036722                 0.003745  0.028997  0.014944   \n",
       "Cluster 2  0.578226  0.085822                 0.009612  0.017565  0.007091   \n",
       "Cluster 3  0.872554  0.085306                 0.009916  0.032488  0.013822   \n",
       "\n",
       "           Other Asian/Pac. Islander  Other Race  Two Major Races  Three +  \n",
       "Cluster 0                   0.035506    0.083178              0.0      0.0  \n",
       "Cluster 1                   0.055625    0.023657              0.0      0.0  \n",
       "Cluster 2                   0.057380    0.164599              0.0      0.0  \n",
       "Cluster 3                   0.068838    0.139594              0.0      0.0  "
      ]
     },
     "execution_count": 64,
     "metadata": {},
     "output_type": "execute_result"
    }
   ],
   "source": [
    "clustNames= ['Cluster 0', 'Cluster 1', 'Cluster 2','Cluster 3']\n",
    "dfR90 = pd.DataFrame(index=clustNames, data=np.array([[clust1990_0.loc[clust1990_0['RACE']==1].RowWt.sum(),clust1990_0.loc[clust1990_0['RACE']==2].RowWt.sum(),clust1990_0.loc[clust1990_0['RACE']==3].RowWt.sum(),\n",
    "                                                    clust1990_0.loc[clust1990_0['RACE']==4].RowWt.sum(),clust1990_0.loc[clust1990_0['RACE']==5].RowWt.sum(),clust1990_0.loc[clust1990_0['RACE']==6].RowWt.sum(),\n",
    "                                                    clust1990_0.loc[clust1990_0['RACE']==7].RowWt.sum(),clust1990_0.loc[clust1990_0['RACE']==8].RowWt.sum(),clust1990_0.loc[clust1990_0['RACE']==9].RowWt.sum()], \n",
    "                                                    [clust1990_1.loc[clust1990_1['RACE']==1].RowWt.sum(),clust1990_1.loc[clust1990_1['RACE']==2].RowWt.sum(),clust1990_1.loc[clust1990_1['RACE']==3].RowWt.sum(),\n",
    "                                                    clust1990_1.loc[clust1990_1['RACE']==4].RowWt.sum(),clust1990_1.loc[clust1990_1['RACE']==5].RowWt.sum(),clust1990_1.loc[clust1990_1['RACE']==6].RowWt.sum(),\n",
    "                                                    clust1990_1.loc[clust1990_1['RACE']==7].RowWt.sum(),clust1990_1.loc[clust1990_1['RACE']==8].RowWt.sum(),clust1990_1.loc[clust1990_1['RACE']==9].RowWt.sum()],\n",
    "                                                    [clust1990_2.loc[clust1990_2['RACE']==1].RowWt.sum(),clust1990_2.loc[clust1990_2['RACE']==2].RowWt.sum(),clust1990_2.loc[clust1990_2['RACE']==3].RowWt.sum(),\n",
    "                                                    clust1990_2.loc[clust1990_2['RACE']==4].RowWt.sum(),clust1990_2.loc[clust1990_2['RACE']==5].RowWt.sum(),clust1990_2.loc[clust1990_2['RACE']==6].RowWt.sum(),\n",
    "                                                    clust1990_2.loc[clust1990_2['RACE']==7].RowWt.sum(),clust1990_2.loc[clust1990_2['RACE']==8].RowWt.sum(),clust1990_2.loc[clust1990_2['RACE']==9].RowWt.sum()],\n",
    "                                                    [clust1990_3.loc[clust1990_3['RACE']==1].RowWt.sum(),clust1990_3.loc[clust1990_3['RACE']==2].RowWt.sum(),clust1990_3.loc[clust1990_3['RACE']==3].RowWt.sum(),\n",
    "                                                    clust1990_3.loc[clust1990_3['RACE']==4].RowWt.sum(),clust1990_3.loc[clust1990_3['RACE']==5].RowWt.sum(),clust1990_3.loc[clust1990_3['RACE']==6].RowWt.sum(),\n",
    "                                                    clust1990_3.loc[clust1990_3['RACE']==7].RowWt.sum(),clust1990_3.loc[clust1990_3['RACE']==8].RowWt.sum(),clust1990_3.loc[clust1990_3['RACE']==9].RowWt.sum()]]),\n",
    "    columns=['White','Black','Native American/Alaskan','Chinese','Japanese','Other Asian/Pac. Islander','Other Race','Two Major Races','Three +'])\n",
    "dfR90                 "
   ]
  },
  {
   "cell_type": "markdown",
   "id": "c0df0480",
   "metadata": {},
   "source": [
    "## Income"
   ]
  },
  {
   "cell_type": "code",
   "execution_count": 65,
   "id": "06d5ea14",
   "metadata": {},
   "outputs": [
    {
     "data": {
      "image/png": "[encoded data removed]",
      "text/plain": [
       "<Figure size 1080x504 with 4 Axes>"
      ]
     },
     "metadata": {
      "needs_background": "light"
     },
     "output_type": "display_data"
    }
   ],
   "source": [
    "#Income\n",
    "fig, axs = plt.subplots(2, 2, sharex=True,sharey=True, figsize=(15,7))\n",
    "fig.suptitle(\"Income\")\n",
    "\n",
    "axs[0, 0].hist(clust1990_0['HHINCOME'],bins=15,edgecolor = \"black\")\n",
    "axs[0, 0].set_title('Cluster 0')\n",
    "axs[0, 0].set_xlim([0, 300000])\n",
    "axs[0, 1].hist(clust1990_1['HHINCOME'],bins=15,edgecolor = \"black\")\n",
    "axs[0, 1].set_title('Cluster 1')\n",
    "axs[0, 1].set_xlim([0, 300000])\n",
    "axs[1, 0].hist(clust1990_2['HHINCOME'],bins=15,edgecolor = \"black\")\n",
    "axs[1, 0].set_title('Cluster 2')\n",
    "axs[1, 0].set_xlim([0, 300000])\n",
    "axs[1,0].set_xlabel('Income')\n",
    "axs[1, 1].hist(clust1990_3['HHINCOME'],bins=15,edgecolor = \"black\")\n",
    "axs[1, 1].set_title('Cluster 3')\n",
    "axs[1, 1].set_xlim([0, 300000])\n",
    "axs[1,1].set_xlabel('Income')\n",
    "\n",
    "for ax in axs[2:]:\n",
    "    ax.set(xlabel='Income')"
   ]
  },
  {
   "cell_type": "code",
   "execution_count": 66,
   "id": "81782780",
   "metadata": {
    "scrolled": true
   },
   "outputs": [
    {
     "data": {
      "text/plain": [
       "<AxesSubplot:>"
      ]
     },
     "execution_count": 66,
     "metadata": {},
     "output_type": "execute_result"
    },
    {
     "data": {
      "image/png": "[encoded data removed]",
      "text/plain": [
       "<Figure size 1080x576 with 2 Axes>"
      ]
     },
     "metadata": {
      "needs_background": "light"
     },
     "output_type": "display_data"
    }
   ],
   "source": [
    "Xcorr90=dfX90fin.iloc[:, [0,1,2,3,4,5,6,7,8,9]]\n",
    "plt.subplots(figsize=(15,8))\n",
    "sns.heatmap(Xcorr90.corr(), annot = True)\n"
   ]
  },
  {
   "cell_type": "markdown",
   "id": "a2df512c",
   "metadata": {},
   "source": [
    "## Geographic Grouping"
   ]
  },
  {
   "cell_type": "code",
   "execution_count": 67,
   "id": "a6efb41a",
   "metadata": {},
   "outputs": [
    {
     "ename": "ModuleNotFoundError",
     "evalue": "No module named 'geopandas'",
     "output_type": "error",
     "traceback": [
      "\u001b[1;31m---------------------------------------------------------------------------\u001b[0m",
      "\u001b[1;31mModuleNotFoundError\u001b[0m                       Traceback (most recent call last)",
      "\u001b[1;32m<ipython-input-67-fedc46787db8>\u001b[0m in \u001b[0;36m<module>\u001b[1;34m\u001b[0m\n\u001b[0;32m      1\u001b[0m \u001b[1;31m#import County Geographies\u001b[0m\u001b[1;33m\u001b[0m\u001b[1;33m\u001b[0m\u001b[1;33m\u001b[0m\u001b[0m\n\u001b[1;32m----> 2\u001b[1;33m \u001b[1;32mimport\u001b[0m \u001b[0mgeopandas\u001b[0m \u001b[1;32mas\u001b[0m \u001b[0mgpd\u001b[0m\u001b[1;33m\u001b[0m\u001b[1;33m\u001b[0m\u001b[0m\n\u001b[0m\u001b[0;32m      3\u001b[0m \u001b[0mcountygeo\u001b[0m\u001b[1;33m=\u001b[0m\u001b[0mgpd\u001b[0m\u001b[1;33m.\u001b[0m\u001b[0mread_file\u001b[0m\u001b[1;33m(\u001b[0m\u001b[1;34m\"C:/Users/Aren Kabarajian/Documents/NYU_CUSP/Capstone/ca-county-boundaries/CA_Counties/CA_Counties_TIGER2016.shp\"\u001b[0m\u001b[1;33m)\u001b[0m\u001b[1;33m\u001b[0m\u001b[1;33m\u001b[0m\u001b[0m\n\u001b[0;32m      4\u001b[0m \u001b[0mcountygeo\u001b[0m\u001b[1;33m.\u001b[0m\u001b[0mhead\u001b[0m\u001b[1;33m(\u001b[0m\u001b[1;33m)\u001b[0m\u001b[1;33m\u001b[0m\u001b[1;33m\u001b[0m\u001b[0m\n",
      "\u001b[1;31mModuleNotFoundError\u001b[0m: No module named 'geopandas'"
     ]
    }
   ],
   "source": [
    "#import County Geographies\n",
    "import geopandas as gpd\n",
    "countygeo=gpd.read_file(\"C:/Users/Aren Kabarajian/Documents/NYU_CUSP/Capstone/ca-county-boundaries/CA_Counties/CA_Counties_TIGER2016.shp\")\n",
    "countygeo.head()"
   ]
  },
  {
   "cell_type": "code",
   "execution_count": null,
   "id": "6f349404",
   "metadata": {},
   "outputs": [],
   "source": [
    "def GEOIDfunc(geoid):\n",
    "    if len(geoid)==1:\n",
    "        geoid='0600'+geoid\n",
    "    elif len(geoid)==2:\n",
    "        geoid='060'+geoid\n",
    "    elif len(geoid)==3:\n",
    "        geoid='06'+geoid\n",
    "    else:\n",
    "        pass\n",
    "    return geoid"
   ]
  },
  {
   "cell_type": "code",
   "execution_count": null,
   "id": "9fcb5311",
   "metadata": {},
   "outputs": [],
   "source": [
    "#Prepare for geographies - aggregate by cluster and FIP Code - count of persons, sum of weight\n",
    "df10geo = dfX10fin[['COUNTYFIP','EDUCbin','HHWT','labels']].groupby(['COUNTYFIP','labels']).agg({'EDUCbin' : ['count'], 'HHWT' : ['sum']}).copy()\n"
   ]
  },
  {
   "cell_type": "code",
   "execution_count": null,
   "id": "d34ef5a5",
   "metadata": {},
   "outputs": [],
   "source": [
    "#Multiply by Household weight \n",
    "df10geo = (df10geo['HHWT']/df10geo['HHWT'].sum())*df10geo['EDUCbin'].values"
   ]
  },
  {
   "cell_type": "code",
   "execution_count": null,
   "id": "97b3e2d4",
   "metadata": {
    "scrolled": true
   },
   "outputs": [],
   "source": [
    "#Label pop accordingly\n",
    "df10geo.columns = ['Weighted_pop']"
   ]
  },
  {
   "cell_type": "code",
   "execution_count": null,
   "id": "4f2e18c0",
   "metadata": {},
   "outputs": [],
   "source": [
    "#reindex\n",
    "df10geo.reset_index(inplace=True)"
   ]
  },
  {
   "cell_type": "code",
   "execution_count": null,
   "id": "c0cbc8da",
   "metadata": {},
   "outputs": [],
   "source": [
    "#format for merging\n",
    "df10geo['COUNTYFIP'] = pd.Series(df10geo['COUNTYFIP'], dtype=\"int\")\n",
    "df10geo['COUNTYFIP'] = pd.Series(df10geo['COUNTYFIP'], dtype=\"string\")\n",
    "df10geo['Weighted_pop'] = pd.Series(df10geo['Weighted_pop'], dtype=\"int\")\n"
   ]
  },
  {
   "cell_type": "code",
   "execution_count": null,
   "id": "2c8f438c",
   "metadata": {},
   "outputs": [],
   "source": [
    "df10geo.dtypes"
   ]
  },
  {
   "cell_type": "code",
   "execution_count": null,
   "id": "c0de05d6",
   "metadata": {},
   "outputs": [],
   "source": [
    "#add geocode formatting\n",
    "df10geo['GEOID'] = df10geo.apply(lambda x: GEOIDfunc(x['COUNTYFIP']), axis=1)"
   ]
  },
  {
   "cell_type": "code",
   "execution_count": null,
   "id": "f84366e5",
   "metadata": {},
   "outputs": [],
   "source": [
    "#sort, get total pop by county, create percent variable \n",
    "df10geo = df10geo.sort_values('GEOID')\n",
    "df10sum = df10geo[['Weighted_pop','GEOID']].groupby('GEOID').sum()\n",
    "df10sum.columns = ['County_pop']\n",
    "df10sum = df10sum.reset_index()\n",
    "df10geo = df10geo.merge(df10sum,how='right')\n",
    "df10geo['perc_pop'] = round(df10geo['Weighted_pop']/df10geo['County_pop'],2)\n",
    "df10geo"
   ]
  },
  {
   "cell_type": "code",
   "execution_count": null,
   "id": "ef3565d9",
   "metadata": {},
   "outputs": [],
   "source": [
    "#create dataframes for each cluster\n",
    "cluster0_2010 = df10geo[(df10geo['labels'] == 0)]\n",
    "cluster1_2010 = df10geo[(df10geo['labels'] == 1)]\n",
    "cluster2_2010 = df10geo[(df10geo['labels'] == 2)]\n",
    "cluster3_2010 = df10geo[(df10geo['labels'] == 3)]\n"
   ]
  },
  {
   "cell_type": "code",
   "execution_count": null,
   "id": "a0a61287",
   "metadata": {},
   "outputs": [],
   "source": [
    "#merge in county geography for plotting \n",
    "cluster0_2010_geo=countygeo.merge(cluster0_2010,left_index=True, right_index=True, how='left', suffixes=['','_norm'])\n",
    "cluster1_2010_geo=countygeo.merge(cluster1_2010,left_index=True, right_index=True, how='left', suffixes=['','_norm'])\n",
    "cluster2_2010_geo=countygeo.merge(cluster2_2010,left_index=True, right_index=True, how='left', suffixes=['','_norm'])\n",
    "cluster3_2010_geo=countygeo.merge(cluster3_2010,left_index=True, right_index=True, how='left', suffixes=['','_norm'])\n"
   ]
  },
  {
   "cell_type": "code",
   "execution_count": null,
   "id": "b200b810",
   "metadata": {},
   "outputs": [],
   "source": [
    "#plot maps - make regions with 0 % grey\n",
    "fig = plt.figure(figsize=(15,15))\n",
    "ax1 = fig.add_subplot(2,2,1)\n",
    "ax1 = cluster0_2010_geo.plot(axes=ax1,column=\"perc_pop\",legend=True,missing_kwds={'color': 'lightgrey'},vmin=0,vmax=1)\n",
    "plt.title('2010 Cluster 0 share of population')\n",
    "ax2 = fig.add_subplot(2,2,2)\n",
    "ax2 = cluster1_2010_geo.plot(axes=ax2,column=\"perc_pop\",legend=True, missing_kwds={'color': 'lightgrey'},vmin=0,vmax=1)\n",
    "plt.title('2010 Cluster 1 share of population')\n",
    "ax3 = fig.add_subplot(2,2,3)\n",
    "ax3 = cluster2_2010_geo.plot(axes=ax3,column=\"perc_pop\",legend=True, missing_kwds={'color': 'lightgrey'},vmin=0,vmax=1)\n",
    "plt.title('2010 Cluster 2 share of population')\n",
    "ax4 = fig.add_subplot(2,2,4)\n",
    "ax4 = cluster3_2010_geo.plot(axes=ax4,column=\"perc_pop\",legend=True, missing_kwds={'color': 'lightgrey'},vmin=0,vmax=1)\n",
    "plt.title('2010 Cluster 3 share of population')\n",
    "plt.show()\n"
   ]
  },
  {
   "cell_type": "code",
   "execution_count": null,
   "id": "e130bc98",
   "metadata": {},
   "outputs": [],
   "source": [
    "#Prepare for geographies - aggregate by cluster and FIP Code - count of persons, sum of weight\n",
    "df19geo = dfX19fin[['COUNTYFIP','EDUCbin','HHWT','labels']].groupby(['COUNTYFIP','labels']).agg({'EDUCbin' : ['count'], 'HHWT' : ['sum']}).copy()\n",
    "#Multiply by Household weight \n",
    "df19geo = (df19geo['HHWT']/df19geo['HHWT'].sum())*df19geo['EDUCbin'].values\n",
    "#Label pop accordingly\n",
    "df19geo.columns = ['Weighted_pop']\n",
    "#reindex\n",
    "df19geo.reset_index(inplace=True)\n",
    "#format for merging\n",
    "df19geo['COUNTYFIP'] = pd.Series(df19geo['COUNTYFIP'], dtype=\"int\")\n",
    "df19geo['COUNTYFIP'] = pd.Series(df19geo['COUNTYFIP'], dtype=\"string\")\n",
    "df19geo['Weighted_pop'] = pd.Series(df19geo['Weighted_pop'], dtype=\"int\")\n",
    "#add geocode formatting\n",
    "df19geo['GEOID'] = df19geo.apply(lambda x: GEOIDfunc(x['COUNTYFIP']), axis=1)\n",
    "#sort, get total pop by county, create percent variable \n",
    "df19geo = df19geo.sort_values('GEOID')\n",
    "df19sum = df19geo[['Weighted_pop','GEOID']].groupby('GEOID').sum()\n",
    "df19sum.columns = ['County_pop']\n",
    "df19sum = df19sum.reset_index()\n",
    "df19geo = df19geo.merge(df19sum,how='right')\n",
    "df19geo['perc_pop'] = round(df19geo['Weighted_pop']/df10geo['County_pop'],2)\n",
    "df19geo"
   ]
  },
  {
   "cell_type": "code",
   "execution_count": null,
   "id": "2c409c01",
   "metadata": {},
   "outputs": [],
   "source": [
    "#create dataframes for each cluster\n",
    "cluster0_2019 = df19geo[(df19geo['labels'] == 0)]\n",
    "cluster1_2019 = df19geo[(df19geo['labels'] == 1)]\n",
    "cluster2_2019 = df19geo[(df19geo['labels'] == 2)]\n",
    "cluster3_2019 = df19geo[(df19geo['labels'] == 3)]\n"
   ]
  },
  {
   "cell_type": "code",
   "execution_count": null,
   "id": "9a4bae2a",
   "metadata": {},
   "outputs": [],
   "source": [
    "#merge in county geography for plotting \n",
    "cluster0_2019_geo=countygeo.merge(cluster0_2019,left_index=True, right_index=True, how='left', suffixes=['','_norm'])\n",
    "cluster1_2019_geo=countygeo.merge(cluster1_2019,left_index=True, right_index=True, how='left', suffixes=['','_norm'])\n",
    "cluster2_2019_geo=countygeo.merge(cluster2_2019,left_index=True, right_index=True, how='left', suffixes=['','_norm'])\n",
    "cluster3_2019_geo=countygeo.merge(cluster3_2019,left_index=True, right_index=True, how='left', suffixes=['','_norm'])\n"
   ]
  },
  {
   "cell_type": "code",
   "execution_count": null,
   "id": "c157f8d9",
   "metadata": {},
   "outputs": [],
   "source": [
    "#plot maps - make regions with 0 % grey\n",
    "fig = plt.figure(figsize=(15,15))\n",
    "ax1 = fig.add_subplot(2,2,1)\n",
    "ax1 = cluster0_2019_geo.plot(axes=ax1,column=\"perc_pop\",legend=True,missing_kwds={'color': 'lightgrey'},vmin=0,vmax=1)\n",
    "plt.title('2019 Cluster 0 share of population')\n",
    "ax2 = fig.add_subplot(2,2,2)\n",
    "ax2 = cluster1_2019_geo.plot(axes=ax2,column=\"perc_pop\",legend=True, missing_kwds={'color': 'lightgrey'},vmin=0,vmax=1)\n",
    "plt.title('2019 Cluster 1 share of population')\n",
    "ax3 = fig.add_subplot(2,2,3)\n",
    "ax3 = cluster2_2019_geo.plot(axes=ax3,column=\"perc_pop\",legend=True, missing_kwds={'color': 'lightgrey'},vmin=0,vmax=1)\n",
    "plt.title('2019 Cluster 2 share of population')\n",
    "ax4 = fig.add_subplot(2,2,4)\n",
    "ax4 = cluster3_2019_geo.plot(axes=ax4,column=\"perc_pop\",legend=True, missing_kwds={'color': 'lightgrey'},vmin=0,vmax=1)\n",
    "plt.title('2019 Cluster 3 share of population')\n",
    "plt.show()\n"
   ]
  },
  {
   "cell_type": "code",
   "execution_count": null,
   "id": "4162409a",
   "metadata": {},
   "outputs": [],
   "source": [
    "#Prepare for geographies - aggregate by cluster and FIP Code - count of persons, sum of weight\n",
    "df00geo = dfX00fin[['COUNTYFIP','EDUCbin','HHWT','labels']].groupby(['COUNTYFIP','labels']).agg({'EDUCbin' : ['count'], 'HHWT' : ['sum']}).copy()\n",
    "#Multiply by Household weight \n",
    "df00geo = (df00geo['HHWT']/df00geo['HHWT'].sum())*df00geo['EDUCbin'].values\n",
    "#Label pop accordingly\n",
    "df00geo.columns = ['Weighted_pop']\n",
    "#reindex\n",
    "df00geo.reset_index(inplace=True)\n",
    "#format for merging\n",
    "df00geo['COUNTYFIP'] = pd.Series(df00geo['COUNTYFIP'], dtype=\"int\")\n",
    "df00geo['COUNTYFIP'] = pd.Series(df00geo['COUNTYFIP'], dtype=\"string\")\n",
    "df00geo['Weighted_pop'] = pd.Series(df00geo['Weighted_pop'], dtype=\"int\")\n",
    "#add geocode formatting\n",
    "df00geo['GEOID'] = df00geo.apply(lambda x: GEOIDfunc(x['COUNTYFIP']), axis=1)\n",
    "#sort, get total pop by county, create percent variable \n",
    "df00geo = df00geo.sort_values('GEOID')\n",
    "df00sum = df00geo[['Weighted_pop','GEOID']].groupby('GEOID').sum()\n",
    "df00sum.columns = ['County_pop']\n",
    "df00sum = df00sum.reset_index()\n",
    "df00geo = df00geo.merge(df00sum,how='right')\n",
    "df00geo['perc_pop'] = round(df00geo['Weighted_pop']/df10geo['County_pop'],2)\n",
    "df00geo\n"
   ]
  },
  {
   "cell_type": "code",
   "execution_count": null,
   "id": "d10162c3",
   "metadata": {},
   "outputs": [],
   "source": [
    "#create dataframes for each cluster\n",
    "cluster0_2000 = df00geo[(df00geo['labels'] == 0)]\n",
    "cluster1_2000 = df00geo[(df00geo['labels'] == 1)]\n",
    "cluster2_2000 = df00geo[(df00geo['labels'] == 2)]\n",
    "cluster3_2000 = df00geo[(df00geo['labels'] == 3)]\n"
   ]
  },
  {
   "cell_type": "code",
   "execution_count": null,
   "id": "de126475",
   "metadata": {},
   "outputs": [],
   "source": [
    "#merge in county geography for plotting \n",
    "cluster0_2000_geo=countygeo.merge(cluster0_2000,left_index=True, right_index=True, how='left', suffixes=['','_norm'])\n",
    "cluster1_2000_geo=countygeo.merge(cluster1_2000,left_index=True, right_index=True, how='left', suffixes=['','_norm'])\n",
    "cluster2_2000_geo=countygeo.merge(cluster2_2000,left_index=True, right_index=True, how='left', suffixes=['','_norm'])\n",
    "cluster3_2000_geo=countygeo.merge(cluster3_2000,left_index=True, right_index=True, how='left', suffixes=['','_norm'])\n"
   ]
  },
  {
   "cell_type": "code",
   "execution_count": null,
   "id": "648e8593",
   "metadata": {
    "scrolled": true
   },
   "outputs": [],
   "source": [
    "#plot maps - make regions with 0 % grey\n",
    "fig = plt.figure(figsize=(15,15))\n",
    "ax1 = fig.add_subplot(2,2,1)\n",
    "ax1 = cluster0_2000_geo.plot(axes=ax1,column=\"perc_pop\",legend=True,missing_kwds={'color': 'lightgrey'},vmin=0,vmax=1)\n",
    "plt.title('2000 Cluster 0 share of population')\n",
    "ax2 = fig.add_subplot(2,2,2)\n",
    "ax2 = cluster1_2000_geo.plot(axes=ax2,column=\"perc_pop\",legend=True, missing_kwds={'color': 'lightgrey'},vmin=0,vmax=1)\n",
    "plt.title('2000 Cluster 1 share of population')\n",
    "ax3 = fig.add_subplot(2,2,3)\n",
    "ax3 = cluster2_2000_geo.plot(axes=ax3,column=\"perc_pop\",legend=True, missing_kwds={'color': 'lightgrey'},vmin=0,vmax=1)\n",
    "plt.title('2000 Cluster 2 share of population')\n",
    "ax4 = fig.add_subplot(2,2,4)\n",
    "ax4 = cluster3_2000_geo.plot(axes=ax4,column=\"perc_pop\",legend=True, missing_kwds={'color': 'lightgrey'},vmin=0,vmax=1)\n",
    "plt.title('2000 Cluster 3 share of population')\n",
    "plt.show()\n"
   ]
  },
  {
   "cell_type": "code",
   "execution_count": null,
   "id": "66fd58a5",
   "metadata": {},
   "outputs": [],
   "source": [
    "#Prepare for geographies - aggregate by cluster and FIP Code - count of persons, sum of weight\n",
    "df90geo = dfX90fin[['COUNTYFIP','EDUCbin','HHWT','labels']].groupby(['COUNTYFIP','labels']).agg({'EDUCbin' : ['count'], 'HHWT' : ['sum']}).copy()\n",
    "#Multiply by Household weight \n",
    "df90geo = (df90geo['HHWT']/df90geo['HHWT'].sum())*df90geo['EDUCbin'].values\n",
    "#Label pop accordingly\n",
    "df90geo.columns = ['Weighted_pop']\n",
    "#reindex\n",
    "df90geo.reset_index(inplace=True)\n",
    "#format for merging\n",
    "df90geo['COUNTYFIP'] = pd.Series(df90geo['COUNTYFIP'], dtype=\"int\")\n",
    "df90geo['COUNTYFIP'] = pd.Series(df90geo['COUNTYFIP'], dtype=\"string\")\n",
    "df90geo['Weighted_pop'] = pd.Series(df90geo['Weighted_pop'], dtype=\"int\")\n",
    "#add geocode formatting\n",
    "df90geo['GEOID'] = df90geo.apply(lambda x: GEOIDfunc(x['COUNTYFIP']), axis=1)\n",
    "#sort, get total pop by county, create percent variable \n",
    "df90geo = df90geo.sort_values('GEOID')\n",
    "df90sum = df90geo[['Weighted_pop','GEOID']].groupby('GEOID').sum()\n",
    "df90sum.columns = ['County_pop']\n",
    "df90sum = df90sum.reset_index()\n",
    "df90geo = df90geo.merge(df90sum,how='right')\n",
    "df90geo['perc_pop'] = round(df90geo['Weighted_pop']/df10geo['County_pop'],2)\n",
    "df90geo\n"
   ]
  },
  {
   "cell_type": "code",
   "execution_count": null,
   "id": "43f3270b",
   "metadata": {},
   "outputs": [],
   "source": [
    "#create dataframes for each cluster\n",
    "cluster0_1990 = df90geo[(df90geo['labels'] == 0)]\n",
    "cluster1_1990 = df90geo[(df90geo['labels'] == 1)]\n",
    "cluster2_1990 = df90geo[(df90geo['labels'] == 2)]\n",
    "cluster3_1990 = df90geo[(df90geo['labels'] == 3)]\n"
   ]
  },
  {
   "cell_type": "code",
   "execution_count": null,
   "id": "092f5a02",
   "metadata": {},
   "outputs": [],
   "source": [
    "#merge in county geography for plotting \n",
    "cluster0_1990_geo=countygeo.merge(cluster0_1990,left_index=True, right_index=True, how='left', suffixes=['','_norm'])\n",
    "cluster1_1990_geo=countygeo.merge(cluster1_1990,left_index=True, right_index=True, how='left', suffixes=['','_norm'])\n",
    "cluster2_1990_geo=countygeo.merge(cluster2_1990,left_index=True, right_index=True, how='left', suffixes=['','_norm'])\n",
    "cluster3_1990_geo=countygeo.merge(cluster3_1990,left_index=True, right_index=True, how='left', suffixes=['','_norm'])\n"
   ]
  },
  {
   "cell_type": "code",
   "execution_count": null,
   "id": "54256ce8",
   "metadata": {},
   "outputs": [],
   "source": [
    "#plot maps - make regions with 0 % grey\n",
    "fig = plt.figure(figsize=(15,15))\n",
    "ax1 = fig.add_subplot(2,2,1)\n",
    "ax1 = cluster0_1990_geo.plot(axes=ax1,column=\"perc_pop\",legend=True,missing_kwds={'color': 'lightgrey'},vmin=0,vmax=1)\n",
    "plt.title('1990 Cluster 0 share of population')\n",
    "ax2 = fig.add_subplot(2,2,2)\n",
    "ax2 = cluster1_1990_geo.plot(axes=ax2,column=\"perc_pop\",legend=True, missing_kwds={'color': 'lightgrey'},vmin=0,vmax=1)\n",
    "plt.title('1990 Cluster 1 share of population')\n",
    "ax3 = fig.add_subplot(2,2,3)\n",
    "ax3 = cluster2_1990_geo.plot(axes=ax3,column=\"perc_pop\",legend=True, missing_kwds={'color': 'lightgrey'},vmin=0,vmax=1)\n",
    "plt.title('1990 Cluster 2 share of population')\n",
    "ax4 = fig.add_subplot(2,2,4)\n",
    "ax4 = cluster3_1990_geo.plot(axes=ax4,column=\"perc_pop\",legend=True, missing_kwds={'color': 'lightgrey'},vmin=0,vmax=1)\n",
    "plt.title('1990 Cluster 3 share of population')\n",
    "plt.show()\n"
   ]
  },
  {
   "cell_type": "code",
   "execution_count": null,
   "id": "7a1ea3c5",
   "metadata": {},
   "outputs": [],
   "source": [
    "#plot maps - make regions with 0 % grey\n",
    "fig = plt.figure(figsize=(55,55))\n",
    "ax1 = fig.add_subplot(4,4,1)\n",
    "ax1 = cluster0_2019_geo.plot(axes=ax1,column=\"perc_pop\",legend=True,missing_kwds={'color': 'lightgrey'},vmin=0,vmax=1)\n",
    "plt.title('2019 Cluster 0 share of population')\n",
    "ax2 = fig.add_subplot(4,4,2)\n",
    "ax2 = cluster1_2019_geo.plot(axes=ax2,column=\"perc_pop\",legend=True, missing_kwds={'color': 'lightgrey'},vmin=0,vmax=1)\n",
    "plt.title('2019 Cluster 1 share of population')\n",
    "ax3 = fig.add_subplot(4,4,3)\n",
    "ax3 = cluster2_2019_geo.plot(axes=ax3,column=\"perc_pop\",legend=True, missing_kwds={'color': 'lightgrey'},vmin=0,vmax=1)\n",
    "plt.title('2019 Cluster 2 share of population')\n",
    "ax4 = fig.add_subplot(4,4,4)\n",
    "ax4 = cluster3_2019_geo.plot(axes=ax4,column=\"perc_pop\",legend=True, missing_kwds={'color': 'lightgrey'},vmin=0,vmax=1)\n",
    "plt.title('2019 Cluster 3 share of population')\n",
    "#plot maps - make regions with 0 % grey\n",
    "#plot maps - make regions with 0 % grey\n",
    "ax5 = fig.add_subplot(4,4,5)\n",
    "ax5 = cluster0_2010_geo.plot(axes=ax5,column=\"perc_pop\",legend=True,missing_kwds={'color': 'lightgrey'},vmin=0,vmax=1)\n",
    "plt.title('2010 Cluster 0 share of population')\n",
    "ax6 = fig.add_subplot(4,4,6)\n",
    "ax6 = cluster1_2010_geo.plot(axes=ax6,column=\"perc_pop\",legend=True, missing_kwds={'color': 'lightgrey'},vmin=0,vmax=1)\n",
    "plt.title('2010 Cluster 1 share of population')\n",
    "ax7 = fig.add_subplot(4,4,7)\n",
    "ax7 = cluster2_2010_geo.plot(axes=ax7,column=\"perc_pop\",legend=True, missing_kwds={'color': 'lightgrey'},vmin=0,vmax=1)\n",
    "plt.title('2010 Cluster 2 share of population')\n",
    "ax8 = fig.add_subplot(4,4,8)\n",
    "ax8 = cluster3_2010_geo.plot(axes=ax8,column=\"perc_pop\",legend=True, missing_kwds={'color': 'lightgrey'},vmin=0,vmax=1)\n",
    "plt.title('2010 Cluster 3 share of population')\n",
    "#plot maps - make regions with 0 % grey\n",
    "ax9 = fig.add_subplot(4,4,9)\n",
    "ax9 = cluster0_2000_geo.plot(axes=ax9,column=\"perc_pop\",legend=True,missing_kwds={'color': 'lightgrey'},vmin=0,vmax=1)\n",
    "plt.title('2000 Cluster 0 share of population')\n",
    "ax10 = fig.add_subplot(4,4,10)\n",
    "ax10 = cluster1_2000_geo.plot(axes=ax10,column=\"perc_pop\",legend=True, missing_kwds={'color': 'lightgrey'},vmin=0,vmax=1)\n",
    "plt.title('2000 Cluster 1 share of population')\n",
    "ax11 = fig.add_subplot(4,4,11)\n",
    "ax11 = cluster2_2000_geo.plot(axes=ax11,column=\"perc_pop\",legend=True, missing_kwds={'color': 'lightgrey'},vmin=0,vmax=1)\n",
    "plt.title('2000 Cluster 2 share of population')\n",
    "ax12 = fig.add_subplot(4,4,12)\n",
    "ax12 = cluster3_2000_geo.plot(axes=ax12,column=\"perc_pop\",legend=True, missing_kwds={'color': 'lightgrey'},vmin=0,vmax=1)\n",
    "plt.title('2000 Cluster 3 share of population')\n",
    "#plot maps - make regions with 0 % grey\n",
    "ax13 = fig.add_subplot(4,4,13)\n",
    "ax13 = cluster0_1990_geo.plot(axes=ax13,column=\"perc_pop\",legend=True,missing_kwds={'color': 'lightgrey'},vmin=0,vmax=1)\n",
    "plt.title('1990 Cluster 0 share of population')\n",
    "ax14 = fig.add_subplot(4,4,14)\n",
    "ax14 = cluster1_1990_geo.plot(axes=ax14,column=\"perc_pop\",legend=True, missing_kwds={'color': 'lightgrey'},vmin=0,vmax=1)\n",
    "plt.title('1990 Cluster 1 share of population')\n",
    "ax15 = fig.add_subplot(4,4,15)\n",
    "ax15 = cluster2_1990_geo.plot(axes=ax15,column=\"perc_pop\",legend=True, missing_kwds={'color': 'lightgrey'},vmin=0,vmax=1)\n",
    "plt.title('1990 Cluster 2 share of population')\n",
    "ax16 = fig.add_subplot(4,4,16)\n",
    "ax16 = cluster3_1990_geo.plot(axes=ax16,column=\"perc_pop\",legend=True, missing_kwds={'color': 'lightgrey'},vmin=0,vmax=1)\n",
    "plt.title('1990 Cluster 3 share of population')\n",
    "plt.show()\n"
   ]
  },
  {
   "cell_type": "code",
   "execution_count": null,
   "id": "238d2ce9",
   "metadata": {},
   "outputs": [],
   "source": []
  }
 ],
 "metadata": {
  "kernelspec": {
   "display_name": "Python 3",
   "language": "python",
   "name": "python3"
  },
  "language_info": {
   "codemirror_mode": {
    "name": "ipython",
    "version": 3
   },
   "file_extension": ".py",
   "mimetype": "text/x-python",
   "name": "python",
   "nbconvert_exporter": "python",
   "pygments_lexer": "ipython3",
   "version": "3.8.8"
  }
 },
 "nbformat": 4,
 "nbformat_minor": 5
}
