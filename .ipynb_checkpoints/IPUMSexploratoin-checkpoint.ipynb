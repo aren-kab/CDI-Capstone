{
 "cells": [
  {
   "cell_type": "code",
   "execution_count": 1,
   "metadata": {},
   "outputs": [],
   "source": [
    "import pandas as pd\n",
    "import numpy as np\n",
    "import datetime as dt\n",
    "import matplotlib\n",
    "import matplotlib.pyplot as plt\n",
    "import scipy.cluster.hierarchy as shc\n",
    "from sklearn.cluster import AgglomerativeClustering\n",
    "import os\n",
    "import seaborn as sns"
   ]
  },
  {
   "cell_type": "code",
   "execution_count": 2,
   "metadata": {},
   "outputs": [],
   "source": [
    "from sklearn.cluster import KMeans\n",
    "from scipy.spatial.distance import cdist, pdist\n",
    "from sklearn.datasets import make_classification\n",
    "from sklearn.datasets import make_blobs\n",
    "from sklearn.metrics import silhouette_samples, silhouette_score\n",
    "import matplotlib.cm as cm\n",
    "from sklearn.mixture import GaussianMixture\n",
    "from sklearn.cluster import DBSCAN\n",
    "from sklearn import preprocessing\n",
    "from sklearn.preprocessing import StandardScaler"
   ]
  },
  {
   "cell_type": "code",
   "execution_count": 3,
   "metadata": {},
   "outputs": [
    {
     "ename": "FileNotFoundError",
     "evalue": "[Errno 2] No such file or directory: 'C:/Users/mcarp/Downloads/usa_00007.csv/usa_00007.csv'",
     "output_type": "error",
     "traceback": [
      "\u001b[1;31m---------------------------------------------------------------------------\u001b[0m",
      "\u001b[1;31mFileNotFoundError\u001b[0m                         Traceback (most recent call last)",
      "\u001b[1;32m<ipython-input-3-f3cb919839a0>\u001b[0m in \u001b[0;36m<module>\u001b[1;34m\u001b[0m\n\u001b[0;32m      1\u001b[0m \u001b[0mfileName\u001b[0m \u001b[1;33m=\u001b[0m \u001b[1;34m'C:/Users/mcarp/Downloads/usa_00007.csv/usa_00007.csv'\u001b[0m\u001b[1;33m\u001b[0m\u001b[1;33m\u001b[0m\u001b[0m\n\u001b[1;32m----> 2\u001b[1;33m \u001b[0mfile\u001b[0m \u001b[1;33m=\u001b[0m \u001b[0mpd\u001b[0m\u001b[1;33m.\u001b[0m\u001b[0mread_csv\u001b[0m\u001b[1;33m(\u001b[0m\u001b[0mfileName\u001b[0m\u001b[1;33m)\u001b[0m\u001b[1;33m\u001b[0m\u001b[1;33m\u001b[0m\u001b[0m\n\u001b[0m\u001b[0;32m      3\u001b[0m \u001b[0mdfCDI\u001b[0m \u001b[1;33m=\u001b[0m \u001b[0mpd\u001b[0m\u001b[1;33m.\u001b[0m\u001b[0mDataFrame\u001b[0m\u001b[1;33m(\u001b[0m\u001b[0mfile\u001b[0m\u001b[1;33m)\u001b[0m\u001b[1;33m\u001b[0m\u001b[1;33m\u001b[0m\u001b[0m\n",
      "\u001b[1;32m~\\anaconda3\\lib\\site-packages\\pandas\\io\\parsers.py\u001b[0m in \u001b[0;36mread_csv\u001b[1;34m(filepath_or_buffer, sep, delimiter, header, names, index_col, usecols, squeeze, prefix, mangle_dupe_cols, dtype, engine, converters, true_values, false_values, skipinitialspace, skiprows, skipfooter, nrows, na_values, keep_default_na, na_filter, verbose, skip_blank_lines, parse_dates, infer_datetime_format, keep_date_col, date_parser, dayfirst, cache_dates, iterator, chunksize, compression, thousands, decimal, lineterminator, quotechar, quoting, doublequote, escapechar, comment, encoding, dialect, error_bad_lines, warn_bad_lines, delim_whitespace, low_memory, memory_map, float_precision, storage_options)\u001b[0m\n\u001b[0;32m    603\u001b[0m     \u001b[0mkwds\u001b[0m\u001b[1;33m.\u001b[0m\u001b[0mupdate\u001b[0m\u001b[1;33m(\u001b[0m\u001b[0mkwds_defaults\u001b[0m\u001b[1;33m)\u001b[0m\u001b[1;33m\u001b[0m\u001b[1;33m\u001b[0m\u001b[0m\n\u001b[0;32m    604\u001b[0m \u001b[1;33m\u001b[0m\u001b[0m\n\u001b[1;32m--> 605\u001b[1;33m     \u001b[1;32mreturn\u001b[0m \u001b[0m_read\u001b[0m\u001b[1;33m(\u001b[0m\u001b[0mfilepath_or_buffer\u001b[0m\u001b[1;33m,\u001b[0m \u001b[0mkwds\u001b[0m\u001b[1;33m)\u001b[0m\u001b[1;33m\u001b[0m\u001b[1;33m\u001b[0m\u001b[0m\n\u001b[0m\u001b[0;32m    606\u001b[0m \u001b[1;33m\u001b[0m\u001b[0m\n\u001b[0;32m    607\u001b[0m \u001b[1;33m\u001b[0m\u001b[0m\n",
      "\u001b[1;32m~\\anaconda3\\lib\\site-packages\\pandas\\io\\parsers.py\u001b[0m in \u001b[0;36m_read\u001b[1;34m(filepath_or_buffer, kwds)\u001b[0m\n\u001b[0;32m    455\u001b[0m \u001b[1;33m\u001b[0m\u001b[0m\n\u001b[0;32m    456\u001b[0m     \u001b[1;31m# Create the parser.\u001b[0m\u001b[1;33m\u001b[0m\u001b[1;33m\u001b[0m\u001b[1;33m\u001b[0m\u001b[0m\n\u001b[1;32m--> 457\u001b[1;33m     \u001b[0mparser\u001b[0m \u001b[1;33m=\u001b[0m \u001b[0mTextFileReader\u001b[0m\u001b[1;33m(\u001b[0m\u001b[0mfilepath_or_buffer\u001b[0m\u001b[1;33m,\u001b[0m \u001b[1;33m**\u001b[0m\u001b[0mkwds\u001b[0m\u001b[1;33m)\u001b[0m\u001b[1;33m\u001b[0m\u001b[1;33m\u001b[0m\u001b[0m\n\u001b[0m\u001b[0;32m    458\u001b[0m \u001b[1;33m\u001b[0m\u001b[0m\n\u001b[0;32m    459\u001b[0m     \u001b[1;32mif\u001b[0m \u001b[0mchunksize\u001b[0m \u001b[1;32mor\u001b[0m \u001b[0miterator\u001b[0m\u001b[1;33m:\u001b[0m\u001b[1;33m\u001b[0m\u001b[1;33m\u001b[0m\u001b[0m\n",
      "\u001b[1;32m~\\anaconda3\\lib\\site-packages\\pandas\\io\\parsers.py\u001b[0m in \u001b[0;36m__init__\u001b[1;34m(self, f, engine, **kwds)\u001b[0m\n\u001b[0;32m    812\u001b[0m             \u001b[0mself\u001b[0m\u001b[1;33m.\u001b[0m\u001b[0moptions\u001b[0m\u001b[1;33m[\u001b[0m\u001b[1;34m\"has_index_names\"\u001b[0m\u001b[1;33m]\u001b[0m \u001b[1;33m=\u001b[0m \u001b[0mkwds\u001b[0m\u001b[1;33m[\u001b[0m\u001b[1;34m\"has_index_names\"\u001b[0m\u001b[1;33m]\u001b[0m\u001b[1;33m\u001b[0m\u001b[1;33m\u001b[0m\u001b[0m\n\u001b[0;32m    813\u001b[0m \u001b[1;33m\u001b[0m\u001b[0m\n\u001b[1;32m--> 814\u001b[1;33m         \u001b[0mself\u001b[0m\u001b[1;33m.\u001b[0m\u001b[0m_engine\u001b[0m \u001b[1;33m=\u001b[0m \u001b[0mself\u001b[0m\u001b[1;33m.\u001b[0m\u001b[0m_make_engine\u001b[0m\u001b[1;33m(\u001b[0m\u001b[0mself\u001b[0m\u001b[1;33m.\u001b[0m\u001b[0mengine\u001b[0m\u001b[1;33m)\u001b[0m\u001b[1;33m\u001b[0m\u001b[1;33m\u001b[0m\u001b[0m\n\u001b[0m\u001b[0;32m    815\u001b[0m \u001b[1;33m\u001b[0m\u001b[0m\n\u001b[0;32m    816\u001b[0m     \u001b[1;32mdef\u001b[0m \u001b[0mclose\u001b[0m\u001b[1;33m(\u001b[0m\u001b[0mself\u001b[0m\u001b[1;33m)\u001b[0m\u001b[1;33m:\u001b[0m\u001b[1;33m\u001b[0m\u001b[1;33m\u001b[0m\u001b[0m\n",
      "\u001b[1;32m~\\anaconda3\\lib\\site-packages\\pandas\\io\\parsers.py\u001b[0m in \u001b[0;36m_make_engine\u001b[1;34m(self, engine)\u001b[0m\n\u001b[0;32m   1043\u001b[0m             )\n\u001b[0;32m   1044\u001b[0m         \u001b[1;31m# error: Too many arguments for \"ParserBase\"\u001b[0m\u001b[1;33m\u001b[0m\u001b[1;33m\u001b[0m\u001b[1;33m\u001b[0m\u001b[0m\n\u001b[1;32m-> 1045\u001b[1;33m         \u001b[1;32mreturn\u001b[0m \u001b[0mmapping\u001b[0m\u001b[1;33m[\u001b[0m\u001b[0mengine\u001b[0m\u001b[1;33m]\u001b[0m\u001b[1;33m(\u001b[0m\u001b[0mself\u001b[0m\u001b[1;33m.\u001b[0m\u001b[0mf\u001b[0m\u001b[1;33m,\u001b[0m \u001b[1;33m**\u001b[0m\u001b[0mself\u001b[0m\u001b[1;33m.\u001b[0m\u001b[0moptions\u001b[0m\u001b[1;33m)\u001b[0m  \u001b[1;31m# type: ignore[call-arg]\u001b[0m\u001b[1;33m\u001b[0m\u001b[1;33m\u001b[0m\u001b[0m\n\u001b[0m\u001b[0;32m   1046\u001b[0m \u001b[1;33m\u001b[0m\u001b[0m\n\u001b[0;32m   1047\u001b[0m     \u001b[1;32mdef\u001b[0m \u001b[0m_failover_to_python\u001b[0m\u001b[1;33m(\u001b[0m\u001b[0mself\u001b[0m\u001b[1;33m)\u001b[0m\u001b[1;33m:\u001b[0m\u001b[1;33m\u001b[0m\u001b[1;33m\u001b[0m\u001b[0m\n",
      "\u001b[1;32m~\\anaconda3\\lib\\site-packages\\pandas\\io\\parsers.py\u001b[0m in \u001b[0;36m__init__\u001b[1;34m(self, src, **kwds)\u001b[0m\n\u001b[0;32m   1860\u001b[0m \u001b[1;33m\u001b[0m\u001b[0m\n\u001b[0;32m   1861\u001b[0m         \u001b[1;31m# open handles\u001b[0m\u001b[1;33m\u001b[0m\u001b[1;33m\u001b[0m\u001b[1;33m\u001b[0m\u001b[0m\n\u001b[1;32m-> 1862\u001b[1;33m         \u001b[0mself\u001b[0m\u001b[1;33m.\u001b[0m\u001b[0m_open_handles\u001b[0m\u001b[1;33m(\u001b[0m\u001b[0msrc\u001b[0m\u001b[1;33m,\u001b[0m \u001b[0mkwds\u001b[0m\u001b[1;33m)\u001b[0m\u001b[1;33m\u001b[0m\u001b[1;33m\u001b[0m\u001b[0m\n\u001b[0m\u001b[0;32m   1863\u001b[0m         \u001b[1;32massert\u001b[0m \u001b[0mself\u001b[0m\u001b[1;33m.\u001b[0m\u001b[0mhandles\u001b[0m \u001b[1;32mis\u001b[0m \u001b[1;32mnot\u001b[0m \u001b[1;32mNone\u001b[0m\u001b[1;33m\u001b[0m\u001b[1;33m\u001b[0m\u001b[0m\n\u001b[0;32m   1864\u001b[0m         \u001b[1;32mfor\u001b[0m \u001b[0mkey\u001b[0m \u001b[1;32min\u001b[0m \u001b[1;33m(\u001b[0m\u001b[1;34m\"storage_options\"\u001b[0m\u001b[1;33m,\u001b[0m \u001b[1;34m\"encoding\"\u001b[0m\u001b[1;33m,\u001b[0m \u001b[1;34m\"memory_map\"\u001b[0m\u001b[1;33m,\u001b[0m \u001b[1;34m\"compression\"\u001b[0m\u001b[1;33m)\u001b[0m\u001b[1;33m:\u001b[0m\u001b[1;33m\u001b[0m\u001b[1;33m\u001b[0m\u001b[0m\n",
      "\u001b[1;32m~\\anaconda3\\lib\\site-packages\\pandas\\io\\parsers.py\u001b[0m in \u001b[0;36m_open_handles\u001b[1;34m(self, src, kwds)\u001b[0m\n\u001b[0;32m   1361\u001b[0m             \u001b[0mcompression\u001b[0m\u001b[1;33m=\u001b[0m\u001b[0mkwds\u001b[0m\u001b[1;33m.\u001b[0m\u001b[0mget\u001b[0m\u001b[1;33m(\u001b[0m\u001b[1;34m\"compression\"\u001b[0m\u001b[1;33m,\u001b[0m \u001b[1;32mNone\u001b[0m\u001b[1;33m)\u001b[0m\u001b[1;33m,\u001b[0m\u001b[1;33m\u001b[0m\u001b[1;33m\u001b[0m\u001b[0m\n\u001b[0;32m   1362\u001b[0m             \u001b[0mmemory_map\u001b[0m\u001b[1;33m=\u001b[0m\u001b[0mkwds\u001b[0m\u001b[1;33m.\u001b[0m\u001b[0mget\u001b[0m\u001b[1;33m(\u001b[0m\u001b[1;34m\"memory_map\"\u001b[0m\u001b[1;33m,\u001b[0m \u001b[1;32mFalse\u001b[0m\u001b[1;33m)\u001b[0m\u001b[1;33m,\u001b[0m\u001b[1;33m\u001b[0m\u001b[1;33m\u001b[0m\u001b[0m\n\u001b[1;32m-> 1363\u001b[1;33m             \u001b[0mstorage_options\u001b[0m\u001b[1;33m=\u001b[0m\u001b[0mkwds\u001b[0m\u001b[1;33m.\u001b[0m\u001b[0mget\u001b[0m\u001b[1;33m(\u001b[0m\u001b[1;34m\"storage_options\"\u001b[0m\u001b[1;33m,\u001b[0m \u001b[1;32mNone\u001b[0m\u001b[1;33m)\u001b[0m\u001b[1;33m,\u001b[0m\u001b[1;33m\u001b[0m\u001b[1;33m\u001b[0m\u001b[0m\n\u001b[0m\u001b[0;32m   1364\u001b[0m         )\n\u001b[0;32m   1365\u001b[0m \u001b[1;33m\u001b[0m\u001b[0m\n",
      "\u001b[1;32m~\\anaconda3\\lib\\site-packages\\pandas\\io\\common.py\u001b[0m in \u001b[0;36mget_handle\u001b[1;34m(path_or_buf, mode, encoding, compression, memory_map, is_text, errors, storage_options)\u001b[0m\n\u001b[0;32m    645\u001b[0m                 \u001b[0mencoding\u001b[0m\u001b[1;33m=\u001b[0m\u001b[0mioargs\u001b[0m\u001b[1;33m.\u001b[0m\u001b[0mencoding\u001b[0m\u001b[1;33m,\u001b[0m\u001b[1;33m\u001b[0m\u001b[1;33m\u001b[0m\u001b[0m\n\u001b[0;32m    646\u001b[0m                 \u001b[0merrors\u001b[0m\u001b[1;33m=\u001b[0m\u001b[0merrors\u001b[0m\u001b[1;33m,\u001b[0m\u001b[1;33m\u001b[0m\u001b[1;33m\u001b[0m\u001b[0m\n\u001b[1;32m--> 647\u001b[1;33m                 \u001b[0mnewline\u001b[0m\u001b[1;33m=\u001b[0m\u001b[1;34m\"\"\u001b[0m\u001b[1;33m,\u001b[0m\u001b[1;33m\u001b[0m\u001b[1;33m\u001b[0m\u001b[0m\n\u001b[0m\u001b[0;32m    648\u001b[0m             )\n\u001b[0;32m    649\u001b[0m         \u001b[1;32melse\u001b[0m\u001b[1;33m:\u001b[0m\u001b[1;33m\u001b[0m\u001b[1;33m\u001b[0m\u001b[0m\n",
      "\u001b[1;31mFileNotFoundError\u001b[0m: [Errno 2] No such file or directory: 'C:/Users/mcarp/Downloads/usa_00007.csv/usa_00007.csv'"
     ]
    }
   ],
   "source": [
    "fileName = 'C:/Users/mcarp/Downloads/usa_00007.csv/usa_00007.csv'\n",
    "file = pd.read_csv(fileName)\n",
    "dfCDI = pd.DataFrame(file)"
   ]
  },
  {
   "cell_type": "code",
   "execution_count": 69,
   "metadata": {},
   "outputs": [],
   "source": [
    "fileName2 = 'C:/Users/mcarp/Downloads/county_merged_vals - Sheet1.csv'\n",
    "file2 = pd.read_csv(fileName2)\n",
    "dfCty = pd.DataFrame(file2)"
   ]
  },
  {
   "cell_type": "code",
   "execution_count": 70,
   "metadata": {},
   "outputs": [
    {
     "name": "stdout",
     "output_type": "stream",
     "text": [
      "<class 'pandas.core.frame.DataFrame'>\n",
      "RangeIndex: 1887461 entries, 0 to 1887460\n",
      "Data columns (total 40 columns):\n",
      " #   Column      Dtype  \n",
      "---  ------      -----  \n",
      " 0   YEAR        int64  \n",
      " 1   MULTYEAR    int64  \n",
      " 2   SAMPLE      int64  \n",
      " 3   SERIAL      int64  \n",
      " 4   CBSERIAL    int64  \n",
      " 5   HHWT        float64\n",
      " 6   CLUSTER     int64  \n",
      " 7   CPI99       float64\n",
      " 8   STATEFIP    int64  \n",
      " 9   COUNTYFIP   int64  \n",
      " 10  DENSITY     float64\n",
      " 11  CITY        int64  \n",
      " 12  PUMA        int64  \n",
      " 13  STRATA      int64  \n",
      " 14  GQ          int64  \n",
      " 15  OWNERSHP    int64  \n",
      " 16  OWNERSHPD   int64  \n",
      " 17  OWNCOST     int64  \n",
      " 18  RENTGRS     int64  \n",
      " 19  HHINCOME    int64  \n",
      " 20  CILAPTOP    int64  \n",
      " 21  CIHISPEED   int64  \n",
      " 22  PERNUM      int64  \n",
      " 23  PERWT       float64\n",
      " 24  FAMSIZE     int64  \n",
      " 25  AGE         int64  \n",
      " 26  RACE        int64  \n",
      " 27  RACED       int64  \n",
      " 28  HISPAN      int64  \n",
      " 29  HISPAND     int64  \n",
      " 30  EDUC        int64  \n",
      " 31  EDUCD       int64  \n",
      " 32  OCCSOC      object \n",
      " 33  INDNAICS    object \n",
      " 34  INCTOT      int64  \n",
      " 35  FTOTINC     int64  \n",
      " 36  INCWAGE     int64  \n",
      " 37  MIGCOUNTY1  int64  \n",
      " 38  MOVEDIN     int64  \n",
      " 39  TRANTIME    int64  \n",
      "dtypes: float64(4), int64(34), object(2)\n",
      "memory usage: 576.0+ MB\n"
     ]
    }
   ],
   "source": [
    "dfCDI.info()"
   ]
  },
  {
   "cell_type": "code",
   "execution_count": 71,
   "metadata": {},
   "outputs": [
    {
     "data": {
      "text/plain": [
       "(1887461, 40)"
      ]
     },
     "execution_count": 71,
     "metadata": {},
     "output_type": "execute_result"
    }
   ],
   "source": [
    "dfCDI.shape"
   ]
  },
  {
   "cell_type": "code",
   "execution_count": 72,
   "metadata": {},
   "outputs": [
    {
     "data": {
      "text/plain": [
       "(1417874, 40)"
      ]
     },
     "execution_count": 72,
     "metadata": {},
     "output_type": "execute_result"
    }
   ],
   "source": [
    "dfCDI = dfCDI[dfCDI['AGE']>=21]\n",
    "dfCDI.shape"
   ]
  },
  {
   "cell_type": "code",
   "execution_count": 73,
   "metadata": {},
   "outputs": [
    {
     "data": {
      "text/plain": [
       "0       941339\n",
       "1252      1640\n",
       "1460      1534\n",
       "1619      1222\n",
       "1079      1172\n",
       "         ...  \n",
       "4263         1\n",
       "332          1\n",
       "3996         1\n",
       "57           1\n",
       "197          1\n",
       "Name: RENTGRS, Length: 4547, dtype: int64"
      ]
     },
     "execution_count": 73,
     "metadata": {},
     "output_type": "execute_result"
    }
   ],
   "source": [
    "dfCDI.RENTGRS.value_counts()"
   ]
  },
  {
   "cell_type": "code",
   "execution_count": 74,
   "metadata": {},
   "outputs": [
    {
     "data": {
      "text/plain": [
       "count    863826.0\n",
       "mean          0.0\n",
       "std           0.0\n",
       "min           0.0\n",
       "25%           0.0\n",
       "50%           0.0\n",
       "75%           0.0\n",
       "max           0.0\n",
       "Name: RENTGRS, dtype: float64"
      ]
     },
     "execution_count": 74,
     "metadata": {},
     "output_type": "execute_result"
    }
   ],
   "source": [
    "dfHomeOwn=dfCDI[dfCDI['OWNERSHP']==1]\n",
    "dfHomeOwn.RENTGRS.describe()"
   ]
  },
  {
   "cell_type": "markdown",
   "metadata": {},
   "source": [
    "This reveals that home owning rows all have 0 values for cost of rent."
   ]
  },
  {
   "cell_type": "code",
   "execution_count": 75,
   "metadata": {},
   "outputs": [
    {
     "data": {
      "text/plain": [
       "1    863826\n",
       "2    494178\n",
       "0     59870\n",
       "Name: OWNERSHP, dtype: int64"
      ]
     },
     "execution_count": 75,
     "metadata": {},
     "output_type": "execute_result"
    }
   ],
   "source": [
    "dfCDI['OWNERSHP'].value_counts()"
   ]
  },
  {
   "cell_type": "code",
   "execution_count": 76,
   "metadata": {},
   "outputs": [
    {
     "data": {
      "text/plain": [
       "(1358004, 40)"
      ]
     },
     "execution_count": 76,
     "metadata": {},
     "output_type": "execute_result"
    }
   ],
   "source": [
    "dfCDI = dfCDI[dfCDI['OWNERSHP']!=0]\n",
    "dfCDI.shape"
   ]
  },
  {
   "cell_type": "markdown",
   "metadata": {},
   "source": [
    "Removes N/As (~50k rows)"
   ]
  },
  {
   "cell_type": "code",
   "execution_count": 84,
   "metadata": {},
   "outputs": [
    {
     "data": {
      "text/plain": [
       "0       881469\n",
       "1252      1640\n",
       "1460      1534\n",
       "1619      1222\n",
       "1079      1172\n",
       "         ...  \n",
       "4263         1\n",
       "332          1\n",
       "3996         1\n",
       "57           1\n",
       "197          1\n",
       "Name: RENTGRS, Length: 4547, dtype: int64"
      ]
     },
     "execution_count": 84,
     "metadata": {},
     "output_type": "execute_result"
    }
   ],
   "source": [
    "dfCDI['RENTGRS'].value_counts()"
   ]
  },
  {
   "cell_type": "code",
   "execution_count": 83,
   "metadata": {},
   "outputs": [
    {
     "data": {
      "text/plain": [
       "count    1.358004e+06\n",
       "mean     1.225203e+05\n",
       "std      1.231829e+05\n",
       "min     -1.694200e+04\n",
       "25%      4.794100e+04\n",
       "50%      9.055600e+04\n",
       "75%      1.543550e+05\n",
       "max      2.626744e+06\n",
       "Name: HHINCOME, dtype: float64"
      ]
     },
     "execution_count": 83,
     "metadata": {},
     "output_type": "execute_result"
    }
   ],
   "source": [
    "dfCDI.HHINCOME.describe()"
   ]
  },
  {
   "cell_type": "code",
   "execution_count": 85,
   "metadata": {},
   "outputs": [],
   "source": [
    "dfCDI['affrentdec'] = dfCDI['RENTGRS']*12/dfCDI['HHINCOME']"
   ]
  },
  {
   "cell_type": "code",
   "execution_count": 86,
   "metadata": {},
   "outputs": [],
   "source": [
    "def housingFunc(own, affrentdec):\n",
    "    if own==1:\n",
    "        housingCat=2\n",
    "    elif own==2 and affrentdec<.3:\n",
    "        housingCat=1\n",
    "    else:\n",
    "        housingCat=0\n",
    "    return housingCat"
   ]
  },
  {
   "cell_type": "code",
   "execution_count": 87,
   "metadata": {},
   "outputs": [
    {
     "data": {
      "text/plain": [
       "2    863826\n",
       "1    261051\n",
       "0    233127\n",
       "Name: HousingCat, dtype: int64"
      ]
     },
     "execution_count": 87,
     "metadata": {},
     "output_type": "execute_result"
    }
   ],
   "source": [
    "dfCDI['HousingCat'] = dfCDI.apply(lambda x: housingFunc(x['OWNERSHP'], x['affrentdec']), axis=1)\n",
    "dfCDI['HousingCat'].value_counts()"
   ]
  },
  {
   "cell_type": "markdown",
   "metadata": {},
   "source": [
    "COMBINING aff. rent and home ownership into 1 indicator: 0, 1, 2 scores (0: rent>=30% income, 1: rent<30% income, 2: owner)"
   ]
  },
  {
   "cell_type": "code",
   "execution_count": 88,
   "metadata": {},
   "outputs": [
    {
     "data": {
      "text/plain": [
       "0    761987\n",
       "1    596017\n",
       "Name: EDUCbin, dtype: int64"
      ]
     },
     "execution_count": 88,
     "metadata": {},
     "output_type": "execute_result"
    }
   ],
   "source": [
    "dfCDI['EDUCbin'] = [1 if x >=8 else 0 for x in dfCDI['EDUC']]\n",
    "dfCDI['EDUCbin'].value_counts()"
   ]
  },
  {
   "cell_type": "code",
   "execution_count": 89,
   "metadata": {},
   "outputs": [
    {
     "data": {
      "text/plain": [
       "10    1047257\n",
       "20     176856\n",
       "0      133891\n",
       "Name: CIHISPEED, dtype: int64"
      ]
     },
     "execution_count": 89,
     "metadata": {},
     "output_type": "execute_result"
    }
   ],
   "source": [
    "dfCDI['CIHISPEED'].value_counts()"
   ]
  },
  {
   "cell_type": "code",
   "execution_count": 90,
   "metadata": {},
   "outputs": [],
   "source": [
    "dfCDI = dfCDI[dfCDI['CIHISPEED']!=0]"
   ]
  },
  {
   "cell_type": "code",
   "execution_count": 91,
   "metadata": {},
   "outputs": [
    {
     "data": {
      "text/plain": [
       "0      510201\n",
       "30     105754\n",
       "15      96661\n",
       "20      96467\n",
       "10      73306\n",
       "        ...  \n",
       "104         1\n",
       "117         1\n",
       "116         1\n",
       "103         1\n",
       "113         1\n",
       "Name: TRANTIME, Length: 120, dtype: int64"
      ]
     },
     "execution_count": 91,
     "metadata": {},
     "output_type": "execute_result"
    }
   ],
   "source": [
    "dfCDI['TRANTIME'].value_counts()"
   ]
  },
  {
   "cell_type": "code",
   "execution_count": 92,
   "metadata": {},
   "outputs": [
    {
     "data": {
      "text/plain": [
       "(1224113, 43)"
      ]
     },
     "execution_count": 92,
     "metadata": {},
     "output_type": "execute_result"
    }
   ],
   "source": [
    "dfCDI.shape"
   ]
  },
  {
   "cell_type": "code",
   "execution_count": 93,
   "metadata": {},
   "outputs": [
    {
     "data": {
      "text/plain": [
       "(1180785, 60)"
      ]
     },
     "execution_count": 93,
     "metadata": {},
     "output_type": "execute_result"
    }
   ],
   "source": [
    "joined2019_2 = dfCDI.merge(dfCty, on='COUNTYFIP')\n",
    "joined2019_2.shape"
   ]
  },
  {
   "cell_type": "code",
   "execution_count": 94,
   "metadata": {},
   "outputs": [
    {
     "name": "stdout",
     "output_type": "stream",
     "text": [
      "41\n",
      "42\n",
      "21\n",
      "39\n",
      "56\n",
      "58\n",
      "57\n",
      "59\n"
     ]
    }
   ],
   "source": [
    "print(joined2019_2.columns.get_loc(\"HousingCat\"))\n",
    "print(joined2019_2.columns.get_loc(\"EDUCbin\"))\n",
    "print(joined2019_2.columns.get_loc(\"CIHISPEED\"))\n",
    "print(joined2019_2.columns.get_loc(\"TRANTIME\"))\n",
    "print(joined2019_2.columns.get_loc(\"DrinkingWater\"))\n",
    "print(joined2019_2.columns.get_loc(\"AirQuality\"))\n",
    "print(joined2019_2.columns.get_loc(\"EarlyEd\"))\n",
    "print(joined2019_2.columns.get_loc(\"ProspNeigh\"))"
   ]
  },
  {
   "cell_type": "code",
   "execution_count": 95,
   "metadata": {},
   "outputs": [],
   "source": [
    "X = joined2019_2.iloc[:, [41,42,21,39,56,58,57,59]]"
   ]
  },
  {
   "cell_type": "code",
   "execution_count": 96,
   "metadata": {},
   "outputs": [
    {
     "data": {
      "text/html": [
       "<div>\n",
       "<style scoped>\n",
       "    .dataframe tbody tr th:only-of-type {\n",
       "        vertical-align: middle;\n",
       "    }\n",
       "\n",
       "    .dataframe tbody tr th {\n",
       "        vertical-align: top;\n",
       "    }\n",
       "\n",
       "    .dataframe thead th {\n",
       "        text-align: right;\n",
       "    }\n",
       "</style>\n",
       "<table border=\"1\" class=\"dataframe\">\n",
       "  <thead>\n",
       "    <tr style=\"text-align: right;\">\n",
       "      <th></th>\n",
       "      <th>HousingCat</th>\n",
       "      <th>EDUCbin</th>\n",
       "      <th>CIHISPEED</th>\n",
       "      <th>TRANTIME</th>\n",
       "      <th>DrinkingWater</th>\n",
       "      <th>AirQuality</th>\n",
       "      <th>EarlyEd</th>\n",
       "      <th>ProspNeigh</th>\n",
       "    </tr>\n",
       "  </thead>\n",
       "  <tbody>\n",
       "    <tr>\n",
       "      <th>count</th>\n",
       "      <td>1.180785e+06</td>\n",
       "      <td>1.180785e+06</td>\n",
       "      <td>1.180785e+06</td>\n",
       "      <td>1.180785e+06</td>\n",
       "      <td>1.180785e+06</td>\n",
       "      <td>1.180785e+06</td>\n",
       "      <td>1.180785e+06</td>\n",
       "      <td>1.180785e+06</td>\n",
       "    </tr>\n",
       "    <tr>\n",
       "      <th>mean</th>\n",
       "      <td>1.495227e+00</td>\n",
       "      <td>4.688491e-01</td>\n",
       "      <td>1.139179e+01</td>\n",
       "      <td>1.802718e+01</td>\n",
       "      <td>9.943121e-01</td>\n",
       "      <td>3.523099e+01</td>\n",
       "      <td>5.149841e-01</td>\n",
       "      <td>8.171870e-01</td>\n",
       "    </tr>\n",
       "    <tr>\n",
       "      <th>std</th>\n",
       "      <td>7.505296e-01</td>\n",
       "      <td>4.990289e-01</td>\n",
       "      <td>3.461329e+00</td>\n",
       "      <td>2.410094e+01</td>\n",
       "      <td>1.992936e-02</td>\n",
       "      <td>6.126561e+00</td>\n",
       "      <td>8.383225e-02</td>\n",
       "      <td>1.154902e-01</td>\n",
       "    </tr>\n",
       "    <tr>\n",
       "      <th>min</th>\n",
       "      <td>0.000000e+00</td>\n",
       "      <td>0.000000e+00</td>\n",
       "      <td>1.000000e+01</td>\n",
       "      <td>0.000000e+00</td>\n",
       "      <td>8.888183e-01</td>\n",
       "      <td>1.700000e+01</td>\n",
       "      <td>3.260000e-01</td>\n",
       "      <td>3.646189e-01</td>\n",
       "    </tr>\n",
       "    <tr>\n",
       "      <th>25%</th>\n",
       "      <td>1.000000e+00</td>\n",
       "      <td>0.000000e+00</td>\n",
       "      <td>1.000000e+01</td>\n",
       "      <td>0.000000e+00</td>\n",
       "      <td>9.996217e-01</td>\n",
       "      <td>3.000000e+01</td>\n",
       "      <td>4.570000e-01</td>\n",
       "      <td>7.592451e-01</td>\n",
       "    </tr>\n",
       "    <tr>\n",
       "      <th>50%</th>\n",
       "      <td>2.000000e+00</td>\n",
       "      <td>0.000000e+00</td>\n",
       "      <td>1.000000e+01</td>\n",
       "      <td>1.000000e+01</td>\n",
       "      <td>9.999295e-01</td>\n",
       "      <td>3.700000e+01</td>\n",
       "      <td>5.450000e-01</td>\n",
       "      <td>8.183911e-01</td>\n",
       "    </tr>\n",
       "    <tr>\n",
       "      <th>75%</th>\n",
       "      <td>2.000000e+00</td>\n",
       "      <td>1.000000e+00</td>\n",
       "      <td>1.000000e+01</td>\n",
       "      <td>3.000000e+01</td>\n",
       "      <td>1.000000e+00</td>\n",
       "      <td>4.000000e+01</td>\n",
       "      <td>5.540000e-01</td>\n",
       "      <td>8.968348e-01</td>\n",
       "    </tr>\n",
       "    <tr>\n",
       "      <th>max</th>\n",
       "      <td>2.000000e+00</td>\n",
       "      <td>1.000000e+00</td>\n",
       "      <td>2.000000e+01</td>\n",
       "      <td>1.420000e+02</td>\n",
       "      <td>1.000000e+00</td>\n",
       "      <td>4.300000e+01</td>\n",
       "      <td>7.440000e-01</td>\n",
       "      <td>9.960382e-01</td>\n",
       "    </tr>\n",
       "  </tbody>\n",
       "</table>\n",
       "</div>"
      ],
      "text/plain": [
       "         HousingCat       EDUCbin     CIHISPEED      TRANTIME  DrinkingWater  \\\n",
       "count  1.180785e+06  1.180785e+06  1.180785e+06  1.180785e+06   1.180785e+06   \n",
       "mean   1.495227e+00  4.688491e-01  1.139179e+01  1.802718e+01   9.943121e-01   \n",
       "std    7.505296e-01  4.990289e-01  3.461329e+00  2.410094e+01   1.992936e-02   \n",
       "min    0.000000e+00  0.000000e+00  1.000000e+01  0.000000e+00   8.888183e-01   \n",
       "25%    1.000000e+00  0.000000e+00  1.000000e+01  0.000000e+00   9.996217e-01   \n",
       "50%    2.000000e+00  0.000000e+00  1.000000e+01  1.000000e+01   9.999295e-01   \n",
       "75%    2.000000e+00  1.000000e+00  1.000000e+01  3.000000e+01   1.000000e+00   \n",
       "max    2.000000e+00  1.000000e+00  2.000000e+01  1.420000e+02   1.000000e+00   \n",
       "\n",
       "         AirQuality       EarlyEd    ProspNeigh  \n",
       "count  1.180785e+06  1.180785e+06  1.180785e+06  \n",
       "mean   3.523099e+01  5.149841e-01  8.171870e-01  \n",
       "std    6.126561e+00  8.383225e-02  1.154902e-01  \n",
       "min    1.700000e+01  3.260000e-01  3.646189e-01  \n",
       "25%    3.000000e+01  4.570000e-01  7.592451e-01  \n",
       "50%    3.700000e+01  5.450000e-01  8.183911e-01  \n",
       "75%    4.000000e+01  5.540000e-01  8.968348e-01  \n",
       "max    4.300000e+01  7.440000e-01  9.960382e-01  "
      ]
     },
     "execution_count": 96,
     "metadata": {},
     "output_type": "execute_result"
    }
   ],
   "source": [
    "X.describe()"
   ]
  },
  {
   "cell_type": "code",
   "execution_count": 97,
   "metadata": {},
   "outputs": [],
   "source": [
    "scaler=StandardScaler()\n",
    "scalerNum = scaler.fit(X)\n",
    "Xstd = scalerNum.transform(X)"
   ]
  },
  {
   "cell_type": "code",
   "execution_count": 99,
   "metadata": {},
   "outputs": [
    {
     "data": {
      "text/html": [
       "<div>\n",
       "<style scoped>\n",
       "    .dataframe tbody tr th:only-of-type {\n",
       "        vertical-align: middle;\n",
       "    }\n",
       "\n",
       "    .dataframe tbody tr th {\n",
       "        vertical-align: top;\n",
       "    }\n",
       "\n",
       "    .dataframe thead th {\n",
       "        text-align: right;\n",
       "    }\n",
       "</style>\n",
       "<table border=\"1\" class=\"dataframe\">\n",
       "  <thead>\n",
       "    <tr style=\"text-align: right;\">\n",
       "      <th></th>\n",
       "      <th>HousingCat</th>\n",
       "      <th>EDUCbin</th>\n",
       "      <th>CIHISPEED</th>\n",
       "      <th>TRANTIME</th>\n",
       "      <th>DrinkingWater</th>\n",
       "      <th>AirQuality</th>\n",
       "      <th>EarlyEd</th>\n",
       "      <th>ProspNeigh</th>\n",
       "    </tr>\n",
       "  </thead>\n",
       "  <tbody>\n",
       "    <tr>\n",
       "      <th>count</th>\n",
       "      <td>1.180785e+06</td>\n",
       "      <td>1.180785e+06</td>\n",
       "      <td>1.180785e+06</td>\n",
       "      <td>1.180785e+06</td>\n",
       "      <td>1.180785e+06</td>\n",
       "      <td>1.180785e+06</td>\n",
       "      <td>1.180785e+06</td>\n",
       "      <td>1.180785e+06</td>\n",
       "    </tr>\n",
       "    <tr>\n",
       "      <th>mean</th>\n",
       "      <td>7.065428e-13</td>\n",
       "      <td>-4.973875e-14</td>\n",
       "      <td>8.830854e-14</td>\n",
       "      <td>-4.389707e-13</td>\n",
       "      <td>-2.740658e-13</td>\n",
       "      <td>1.435436e-12</td>\n",
       "      <td>-3.516910e-12</td>\n",
       "      <td>5.989656e-13</td>\n",
       "    </tr>\n",
       "    <tr>\n",
       "      <th>std</th>\n",
       "      <td>1.000000e+00</td>\n",
       "      <td>1.000000e+00</td>\n",
       "      <td>1.000000e+00</td>\n",
       "      <td>1.000000e+00</td>\n",
       "      <td>1.000000e+00</td>\n",
       "      <td>1.000000e+00</td>\n",
       "      <td>1.000000e+00</td>\n",
       "      <td>1.000000e+00</td>\n",
       "    </tr>\n",
       "    <tr>\n",
       "      <th>min</th>\n",
       "      <td>-1.992230e+00</td>\n",
       "      <td>-9.395234e-01</td>\n",
       "      <td>-4.020960e-01</td>\n",
       "      <td>-7.479869e-01</td>\n",
       "      <td>-5.293388e+00</td>\n",
       "      <td>-2.975731e+00</td>\n",
       "      <td>-2.254314e+00</td>\n",
       "      <td>-3.918673e+00</td>\n",
       "    </tr>\n",
       "    <tr>\n",
       "      <th>25%</th>\n",
       "      <td>-6.598374e-01</td>\n",
       "      <td>-9.395234e-01</td>\n",
       "      <td>-4.020960e-01</td>\n",
       "      <td>-7.479869e-01</td>\n",
       "      <td>2.664198e-01</td>\n",
       "      <td>-8.538214e-01</td>\n",
       "      <td>-6.916685e-01</td>\n",
       "      <td>-5.017038e-01</td>\n",
       "    </tr>\n",
       "    <tr>\n",
       "      <th>50%</th>\n",
       "      <td>6.725556e-01</td>\n",
       "      <td>-9.395234e-01</td>\n",
       "      <td>-4.020960e-01</td>\n",
       "      <td>-3.330653e-01</td>\n",
       "      <td>2.818670e-01</td>\n",
       "      <td>2.887450e-01</td>\n",
       "      <td>3.580473e-01</td>\n",
       "      <td>1.042612e-02</td>\n",
       "    </tr>\n",
       "    <tr>\n",
       "      <th>75%</th>\n",
       "      <td>6.725556e-01</td>\n",
       "      <td>1.064369e+00</td>\n",
       "      <td>-4.020960e-01</td>\n",
       "      <td>4.967781e-01</td>\n",
       "      <td>2.854028e-01</td>\n",
       "      <td>7.784163e-01</td>\n",
       "      <td>4.654046e-01</td>\n",
       "      <td>6.896505e-01</td>\n",
       "    </tr>\n",
       "    <tr>\n",
       "      <th>max</th>\n",
       "      <td>6.725556e-01</td>\n",
       "      <td>1.064369e+00</td>\n",
       "      <td>2.486969e+00</td>\n",
       "      <td>5.143901e+00</td>\n",
       "      <td>2.854028e-01</td>\n",
       "      <td>1.268088e+00</td>\n",
       "      <td>2.731836e+00</td>\n",
       "      <td>1.548628e+00</td>\n",
       "    </tr>\n",
       "  </tbody>\n",
       "</table>\n",
       "</div>"
      ],
      "text/plain": [
       "         HousingCat       EDUCbin     CIHISPEED      TRANTIME  DrinkingWater  \\\n",
       "count  1.180785e+06  1.180785e+06  1.180785e+06  1.180785e+06   1.180785e+06   \n",
       "mean   7.065428e-13 -4.973875e-14  8.830854e-14 -4.389707e-13  -2.740658e-13   \n",
       "std    1.000000e+00  1.000000e+00  1.000000e+00  1.000000e+00   1.000000e+00   \n",
       "min   -1.992230e+00 -9.395234e-01 -4.020960e-01 -7.479869e-01  -5.293388e+00   \n",
       "25%   -6.598374e-01 -9.395234e-01 -4.020960e-01 -7.479869e-01   2.664198e-01   \n",
       "50%    6.725556e-01 -9.395234e-01 -4.020960e-01 -3.330653e-01   2.818670e-01   \n",
       "75%    6.725556e-01  1.064369e+00 -4.020960e-01  4.967781e-01   2.854028e-01   \n",
       "max    6.725556e-01  1.064369e+00  2.486969e+00  5.143901e+00   2.854028e-01   \n",
       "\n",
       "         AirQuality       EarlyEd    ProspNeigh  \n",
       "count  1.180785e+06  1.180785e+06  1.180785e+06  \n",
       "mean   1.435436e-12 -3.516910e-12  5.989656e-13  \n",
       "std    1.000000e+00  1.000000e+00  1.000000e+00  \n",
       "min   -2.975731e+00 -2.254314e+00 -3.918673e+00  \n",
       "25%   -8.538214e-01 -6.916685e-01 -5.017038e-01  \n",
       "50%    2.887450e-01  3.580473e-01  1.042612e-02  \n",
       "75%    7.784163e-01  4.654046e-01  6.896505e-01  \n",
       "max    1.268088e+00  2.731836e+00  1.548628e+00  "
      ]
     },
     "execution_count": 99,
     "metadata": {},
     "output_type": "execute_result"
    }
   ],
   "source": [
    "dfX = pd.DataFrame(Xstd, columns=['HousingCat','EDUCbin','CIHISPEED','TRANTIME','DrinkingWater','AirQuality','EarlyEd','ProspNeigh'])\n",
    "dfX.describe()"
   ]
  },
  {
   "cell_type": "code",
   "execution_count": 100,
   "metadata": {},
   "outputs": [],
   "source": [
    "wcss = []\n",
    "for i in range(1,9):\n",
    "    kmeans = KMeans(n_clusters = i, init = 'k-means++', random_state = 42)\n",
    "    kmeans.fit(dfX)\n",
    "    # inertia method returns wcss for that model\n",
    "    wcss.append(kmeans.inertia_)\n",
    "    #cluster_labels = kmeans.fit_predict(dfX)\n",
    "    #silhouette_avg = silhouette_score(dfX, cluster_labels)\n",
    "    #print(\"For n_clusters = {},\".format(i)+\" the average silhouette_score is :{}\".format(silhouette_avg))"
   ]
  },
  {
   "cell_type": "code",
   "execution_count": 101,
   "metadata": {},
   "outputs": [
    {
     "name": "stderr",
     "output_type": "stream",
     "text": [
      "C:\\Users\\mcarp\\anaconda3\\lib\\site-packages\\seaborn\\_decorators.py:43: FutureWarning: Pass the following variables as keyword args: x, y. From version 0.12, the only valid positional argument will be `data`, and passing other arguments without an explicit keyword will result in an error or misinterpretation.\n",
      "  FutureWarning\n"
     ]
    },
    {
     "data": {
      "image/png": "[encoded data removed]",
      "text/plain": [
       "<Figure size 720x360 with 1 Axes>"
      ]
     },
     "metadata": {
      "needs_background": "light"
     },
     "output_type": "display_data"
    }
   ],
   "source": [
    "plt.figure(figsize=(10,5))\n",
    "sns.lineplot(range(1,9), wcss,marker='o',color='red')\n",
    "plt.title('The Elbow Method')\n",
    "plt.xlabel('Number of clusters')\n",
    "plt.ylabel('WCSS')\n",
    "plt.show()"
   ]
  },
  {
   "cell_type": "code",
   "execution_count": 102,
   "metadata": {},
   "outputs": [
    {
     "name": "stdout",
     "output_type": "stream",
     "text": [
      "[3 2 3 ... 5 5 5]\n"
     ]
    }
   ],
   "source": [
    "kmeans = KMeans(n_clusters = 6, init = 'k-means++', random_state = 42)\n",
    "kmeans.fit(dfX)\n",
    "print(kmeans.labels_)"
   ]
  },
  {
   "cell_type": "code",
   "execution_count": 103,
   "metadata": {},
   "outputs": [
    {
     "data": {
      "text/plain": [
       "array([[ 1.        ,  1.        , 10.        , ..., 37.        ,\n",
       "         0.554     ,  0.89683482],\n",
       "       [ 1.        ,  0.        , 10.        , ..., 37.        ,\n",
       "         0.554     ,  0.89683482],\n",
       "       [ 2.        ,  1.        , 10.        , ..., 37.        ,\n",
       "         0.554     ,  0.89683482],\n",
       "       ...,\n",
       "       [ 2.        ,  1.        , 10.        , ..., 40.        ,\n",
       "         0.326     ,  0.40503748],\n",
       "       [ 2.        ,  1.        , 10.        , ..., 40.        ,\n",
       "         0.326     ,  0.40503748],\n",
       "       [ 2.        ,  1.        , 10.        , ..., 40.        ,\n",
       "         0.326     ,  0.40503748]])"
      ]
     },
     "execution_count": 103,
     "metadata": {},
     "output_type": "execute_result"
    }
   ],
   "source": [
    "Xfin = scaler.inverse_transform(dfX)\n",
    "Xfin"
   ]
  },
  {
   "cell_type": "code",
   "execution_count": 104,
   "metadata": {},
   "outputs": [
    {
     "data": {
      "text/html": [
       "<div>\n",
       "<style scoped>\n",
       "    .dataframe tbody tr th:only-of-type {\n",
       "        vertical-align: middle;\n",
       "    }\n",
       "\n",
       "    .dataframe tbody tr th {\n",
       "        vertical-align: top;\n",
       "    }\n",
       "\n",
       "    .dataframe thead th {\n",
       "        text-align: right;\n",
       "    }\n",
       "</style>\n",
       "<table border=\"1\" class=\"dataframe\">\n",
       "  <thead>\n",
       "    <tr style=\"text-align: right;\">\n",
       "      <th></th>\n",
       "      <th>HousingCat</th>\n",
       "      <th>EDUCbin</th>\n",
       "      <th>CIHISPEED</th>\n",
       "      <th>TRANTIME</th>\n",
       "      <th>DrinkingWater</th>\n",
       "      <th>AirQuality</th>\n",
       "      <th>EarlyEd</th>\n",
       "      <th>ProspNeigh</th>\n",
       "    </tr>\n",
       "  </thead>\n",
       "  <tbody>\n",
       "    <tr>\n",
       "      <th>count</th>\n",
       "      <td>1.180785e+06</td>\n",
       "      <td>1.180785e+06</td>\n",
       "      <td>1.180785e+06</td>\n",
       "      <td>1.180785e+06</td>\n",
       "      <td>1.180785e+06</td>\n",
       "      <td>1.180785e+06</td>\n",
       "      <td>1.180785e+06</td>\n",
       "      <td>1.180785e+06</td>\n",
       "    </tr>\n",
       "    <tr>\n",
       "      <th>mean</th>\n",
       "      <td>1.495227e+00</td>\n",
       "      <td>4.688491e-01</td>\n",
       "      <td>1.139179e+01</td>\n",
       "      <td>1.802718e+01</td>\n",
       "      <td>9.943121e-01</td>\n",
       "      <td>3.523099e+01</td>\n",
       "      <td>5.149841e-01</td>\n",
       "      <td>8.171870e-01</td>\n",
       "    </tr>\n",
       "    <tr>\n",
       "      <th>std</th>\n",
       "      <td>7.505296e-01</td>\n",
       "      <td>4.990289e-01</td>\n",
       "      <td>3.461329e+00</td>\n",
       "      <td>2.410094e+01</td>\n",
       "      <td>1.992936e-02</td>\n",
       "      <td>6.126561e+00</td>\n",
       "      <td>8.383225e-02</td>\n",
       "      <td>1.154902e-01</td>\n",
       "    </tr>\n",
       "    <tr>\n",
       "      <th>min</th>\n",
       "      <td>0.000000e+00</td>\n",
       "      <td>0.000000e+00</td>\n",
       "      <td>1.000000e+01</td>\n",
       "      <td>0.000000e+00</td>\n",
       "      <td>8.888183e-01</td>\n",
       "      <td>1.700000e+01</td>\n",
       "      <td>3.260000e-01</td>\n",
       "      <td>3.646189e-01</td>\n",
       "    </tr>\n",
       "    <tr>\n",
       "      <th>25%</th>\n",
       "      <td>1.000000e+00</td>\n",
       "      <td>0.000000e+00</td>\n",
       "      <td>1.000000e+01</td>\n",
       "      <td>0.000000e+00</td>\n",
       "      <td>9.996217e-01</td>\n",
       "      <td>3.000000e+01</td>\n",
       "      <td>4.570000e-01</td>\n",
       "      <td>7.592451e-01</td>\n",
       "    </tr>\n",
       "    <tr>\n",
       "      <th>50%</th>\n",
       "      <td>2.000000e+00</td>\n",
       "      <td>0.000000e+00</td>\n",
       "      <td>1.000000e+01</td>\n",
       "      <td>1.000000e+01</td>\n",
       "      <td>9.999295e-01</td>\n",
       "      <td>3.700000e+01</td>\n",
       "      <td>5.450000e-01</td>\n",
       "      <td>8.183911e-01</td>\n",
       "    </tr>\n",
       "    <tr>\n",
       "      <th>75%</th>\n",
       "      <td>2.000000e+00</td>\n",
       "      <td>1.000000e+00</td>\n",
       "      <td>1.000000e+01</td>\n",
       "      <td>3.000000e+01</td>\n",
       "      <td>1.000000e+00</td>\n",
       "      <td>4.000000e+01</td>\n",
       "      <td>5.540000e-01</td>\n",
       "      <td>8.968348e-01</td>\n",
       "    </tr>\n",
       "    <tr>\n",
       "      <th>max</th>\n",
       "      <td>2.000000e+00</td>\n",
       "      <td>1.000000e+00</td>\n",
       "      <td>2.000000e+01</td>\n",
       "      <td>1.420000e+02</td>\n",
       "      <td>1.000000e+00</td>\n",
       "      <td>4.300000e+01</td>\n",
       "      <td>7.440000e-01</td>\n",
       "      <td>9.960382e-01</td>\n",
       "    </tr>\n",
       "  </tbody>\n",
       "</table>\n",
       "</div>"
      ],
      "text/plain": [
       "         HousingCat       EDUCbin     CIHISPEED      TRANTIME  DrinkingWater  \\\n",
       "count  1.180785e+06  1.180785e+06  1.180785e+06  1.180785e+06   1.180785e+06   \n",
       "mean   1.495227e+00  4.688491e-01  1.139179e+01  1.802718e+01   9.943121e-01   \n",
       "std    7.505296e-01  4.990289e-01  3.461329e+00  2.410094e+01   1.992936e-02   \n",
       "min    0.000000e+00  0.000000e+00  1.000000e+01  0.000000e+00   8.888183e-01   \n",
       "25%    1.000000e+00  0.000000e+00  1.000000e+01  0.000000e+00   9.996217e-01   \n",
       "50%    2.000000e+00  0.000000e+00  1.000000e+01  1.000000e+01   9.999295e-01   \n",
       "75%    2.000000e+00  1.000000e+00  1.000000e+01  3.000000e+01   1.000000e+00   \n",
       "max    2.000000e+00  1.000000e+00  2.000000e+01  1.420000e+02   1.000000e+00   \n",
       "\n",
       "         AirQuality       EarlyEd    ProspNeigh  \n",
       "count  1.180785e+06  1.180785e+06  1.180785e+06  \n",
       "mean   3.523099e+01  5.149841e-01  8.171870e-01  \n",
       "std    6.126561e+00  8.383225e-02  1.154902e-01  \n",
       "min    1.700000e+01  3.260000e-01  3.646189e-01  \n",
       "25%    3.000000e+01  4.570000e-01  7.592451e-01  \n",
       "50%    3.700000e+01  5.450000e-01  8.183911e-01  \n",
       "75%    4.000000e+01  5.540000e-01  8.968348e-01  \n",
       "max    4.300000e+01  7.440000e-01  9.960382e-01  "
      ]
     },
     "execution_count": 104,
     "metadata": {},
     "output_type": "execute_result"
    }
   ],
   "source": [
    "dfXfin = pd.DataFrame(Xfin, columns=['HousingCat','EDUCbin','CIHISPEED','TRANTIME','DrinkingWater','AirQuality','EarlyEd','ProspNeigh'])\n",
    "dfXfin.describe()"
   ]
  },
  {
   "cell_type": "code",
   "execution_count": 105,
   "metadata": {},
   "outputs": [
    {
     "data": {
      "text/html": [
       "<div>\n",
       "<style scoped>\n",
       "    .dataframe tbody tr th:only-of-type {\n",
       "        vertical-align: middle;\n",
       "    }\n",
       "\n",
       "    .dataframe tbody tr th {\n",
       "        vertical-align: top;\n",
       "    }\n",
       "\n",
       "    .dataframe thead th {\n",
       "        text-align: right;\n",
       "    }\n",
       "</style>\n",
       "<table border=\"1\" class=\"dataframe\">\n",
       "  <thead>\n",
       "    <tr style=\"text-align: right;\">\n",
       "      <th></th>\n",
       "      <th>HousingCat</th>\n",
       "      <th>EDUCbin</th>\n",
       "      <th>CIHISPEED</th>\n",
       "      <th>TRANTIME</th>\n",
       "      <th>DrinkingWater</th>\n",
       "      <th>AirQuality</th>\n",
       "      <th>EarlyEd</th>\n",
       "      <th>ProspNeigh</th>\n",
       "    </tr>\n",
       "    <tr>\n",
       "      <th>labels</th>\n",
       "      <th></th>\n",
       "      <th></th>\n",
       "      <th></th>\n",
       "      <th></th>\n",
       "      <th></th>\n",
       "      <th></th>\n",
       "      <th></th>\n",
       "      <th></th>\n",
       "    </tr>\n",
       "  </thead>\n",
       "  <tbody>\n",
       "    <tr>\n",
       "      <th>0</th>\n",
       "      <td>1.337954</td>\n",
       "      <td>0.313746</td>\n",
       "      <td>20.000000</td>\n",
       "      <td>16.804049</td>\n",
       "      <td>0.998404</td>\n",
       "      <td>36.010795</td>\n",
       "      <td>0.509560</td>\n",
       "      <td>0.807084</td>\n",
       "    </tr>\n",
       "    <tr>\n",
       "      <th>1</th>\n",
       "      <td>1.950598</td>\n",
       "      <td>0.000000</td>\n",
       "      <td>10.000000</td>\n",
       "      <td>15.805773</td>\n",
       "      <td>0.998279</td>\n",
       "      <td>37.961472</td>\n",
       "      <td>0.483879</td>\n",
       "      <td>0.790235</td>\n",
       "    </tr>\n",
       "    <tr>\n",
       "      <th>2</th>\n",
       "      <td>0.326877</td>\n",
       "      <td>0.209402</td>\n",
       "      <td>10.000000</td>\n",
       "      <td>17.209627</td>\n",
       "      <td>0.998763</td>\n",
       "      <td>36.927742</td>\n",
       "      <td>0.517517</td>\n",
       "      <td>0.804238</td>\n",
       "    </tr>\n",
       "    <tr>\n",
       "      <th>3</th>\n",
       "      <td>1.805176</td>\n",
       "      <td>1.000000</td>\n",
       "      <td>10.000000</td>\n",
       "      <td>19.731307</td>\n",
       "      <td>0.998885</td>\n",
       "      <td>37.608766</td>\n",
       "      <td>0.506656</td>\n",
       "      <td>0.800225</td>\n",
       "    </tr>\n",
       "    <tr>\n",
       "      <th>4</th>\n",
       "      <td>1.619310</td>\n",
       "      <td>0.676129</td>\n",
       "      <td>10.157179</td>\n",
       "      <td>20.890049</td>\n",
       "      <td>0.999957</td>\n",
       "      <td>26.798829</td>\n",
       "      <td>0.599387</td>\n",
       "      <td>0.938321</td>\n",
       "    </tr>\n",
       "    <tr>\n",
       "      <th>5</th>\n",
       "      <td>1.537159</td>\n",
       "      <td>0.307743</td>\n",
       "      <td>12.447006</td>\n",
       "      <td>14.108426</td>\n",
       "      <td>0.914040</td>\n",
       "      <td>36.808718</td>\n",
       "      <td>0.380446</td>\n",
       "      <td>0.628615</td>\n",
       "    </tr>\n",
       "  </tbody>\n",
       "</table>\n",
       "</div>"
      ],
      "text/plain": [
       "        HousingCat   EDUCbin  CIHISPEED   TRANTIME  DrinkingWater  AirQuality  \\\n",
       "labels                                                                          \n",
       "0         1.337954  0.313746  20.000000  16.804049       0.998404   36.010795   \n",
       "1         1.950598  0.000000  10.000000  15.805773       0.998279   37.961472   \n",
       "2         0.326877  0.209402  10.000000  17.209627       0.998763   36.927742   \n",
       "3         1.805176  1.000000  10.000000  19.731307       0.998885   37.608766   \n",
       "4         1.619310  0.676129  10.157179  20.890049       0.999957   26.798829   \n",
       "5         1.537159  0.307743  12.447006  14.108426       0.914040   36.808718   \n",
       "\n",
       "         EarlyEd  ProspNeigh  \n",
       "labels                        \n",
       "0       0.509560    0.807084  \n",
       "1       0.483879    0.790235  \n",
       "2       0.517517    0.804238  \n",
       "3       0.506656    0.800225  \n",
       "4       0.599387    0.938321  \n",
       "5       0.380446    0.628615  "
      ]
     },
     "execution_count": 105,
     "metadata": {},
     "output_type": "execute_result"
    }
   ],
   "source": [
    "dfXfin['labels'] = kmeans.labels_\n",
    "cluster_sum = dfXfin.groupby(by = 'labels').mean()\n",
    "cluster_sum.head(6)"
   ]
  },
  {
   "cell_type": "code",
   "execution_count": 108,
   "metadata": {},
   "outputs": [
    {
     "data": {
      "text/html": [
       "<div>\n",
       "<style scoped>\n",
       "    .dataframe tbody tr th:only-of-type {\n",
       "        vertical-align: middle;\n",
       "    }\n",
       "\n",
       "    .dataframe tbody tr th {\n",
       "        vertical-align: top;\n",
       "    }\n",
       "\n",
       "    .dataframe thead th {\n",
       "        text-align: right;\n",
       "    }\n",
       "</style>\n",
       "<table border=\"1\" class=\"dataframe\">\n",
       "  <thead>\n",
       "    <tr style=\"text-align: right;\">\n",
       "      <th></th>\n",
       "      <th>HousingCat</th>\n",
       "      <th>EDUCbin</th>\n",
       "      <th>CIHISPEED</th>\n",
       "      <th>TRANTIME</th>\n",
       "      <th>DrinkingWater</th>\n",
       "      <th>AirQuality</th>\n",
       "      <th>EarlyEd</th>\n",
       "      <th>ProspNeigh</th>\n",
       "    </tr>\n",
       "  </thead>\n",
       "  <tbody>\n",
       "    <tr>\n",
       "      <th>0</th>\n",
       "      <td>1.0</td>\n",
       "      <td>1.0</td>\n",
       "      <td>10.0</td>\n",
       "      <td>10.0</td>\n",
       "      <td>1.0</td>\n",
       "      <td>37.0</td>\n",
       "      <td>0.554</td>\n",
       "      <td>0.896835</td>\n",
       "    </tr>\n",
       "    <tr>\n",
       "      <th>1</th>\n",
       "      <td>1.0</td>\n",
       "      <td>0.0</td>\n",
       "      <td>10.0</td>\n",
       "      <td>0.0</td>\n",
       "      <td>1.0</td>\n",
       "      <td>37.0</td>\n",
       "      <td>0.554</td>\n",
       "      <td>0.896835</td>\n",
       "    </tr>\n",
       "    <tr>\n",
       "      <th>2</th>\n",
       "      <td>2.0</td>\n",
       "      <td>1.0</td>\n",
       "      <td>10.0</td>\n",
       "      <td>20.0</td>\n",
       "      <td>1.0</td>\n",
       "      <td>37.0</td>\n",
       "      <td>0.554</td>\n",
       "      <td>0.896835</td>\n",
       "    </tr>\n",
       "    <tr>\n",
       "      <th>3</th>\n",
       "      <td>2.0</td>\n",
       "      <td>0.0</td>\n",
       "      <td>10.0</td>\n",
       "      <td>25.0</td>\n",
       "      <td>1.0</td>\n",
       "      <td>37.0</td>\n",
       "      <td>0.554</td>\n",
       "      <td>0.896835</td>\n",
       "    </tr>\n",
       "    <tr>\n",
       "      <th>4</th>\n",
       "      <td>2.0</td>\n",
       "      <td>0.0</td>\n",
       "      <td>10.0</td>\n",
       "      <td>0.0</td>\n",
       "      <td>1.0</td>\n",
       "      <td>37.0</td>\n",
       "      <td>0.554</td>\n",
       "      <td>0.896835</td>\n",
       "    </tr>\n",
       "  </tbody>\n",
       "</table>\n",
       "</div>"
      ],
      "text/plain": [
       "   HousingCat  EDUCbin  CIHISPEED  TRANTIME  DrinkingWater  AirQuality  \\\n",
       "0         1.0      1.0       10.0      10.0            1.0        37.0   \n",
       "1         1.0      0.0       10.0       0.0            1.0        37.0   \n",
       "2         2.0      1.0       10.0      20.0            1.0        37.0   \n",
       "3         2.0      0.0       10.0      25.0            1.0        37.0   \n",
       "4         2.0      0.0       10.0       0.0            1.0        37.0   \n",
       "\n",
       "   EarlyEd  ProspNeigh  \n",
       "0    0.554    0.896835  \n",
       "1    0.554    0.896835  \n",
       "2    0.554    0.896835  \n",
       "3    0.554    0.896835  \n",
       "4    0.554    0.896835  "
      ]
     },
     "execution_count": 108,
     "metadata": {},
     "output_type": "execute_result"
    }
   ],
   "source": [
    "Xcorr=dfXfin.iloc[:, [0,1,2,3,4,5,6,7]]\n",
    "Xcorr.head()"
   ]
  },
  {
   "cell_type": "code",
   "execution_count": 109,
   "metadata": {},
   "outputs": [
    {
     "data": {
      "text/plain": [
       "<AxesSubplot:>"
      ]
     },
     "execution_count": 109,
     "metadata": {},
     "output_type": "execute_result"
    },
    {
     "data": {
      "image/png": "[encoded data removed]",
      "text/plain": [
       "<Figure size 864x576 with 2 Axes>"
      ]
     },
     "metadata": {
      "needs_background": "light"
     },
     "output_type": "display_data"
    }
   ],
   "source": [
    "plt.subplots(figsize=(12,8))\n",
    "sns.heatmap(Xcorr.corr(), annot = True)"
   ]
  },
  {
   "cell_type": "raw",
   "metadata": {},
   "source": [
    "2-D Cluster Visualizations:"
   ]
  },
  {
   "cell_type": "code",
   "execution_count": null,
   "metadata": {},
   "outputs": [],
   "source": [
    "fig, ax = plt.subplots(figsize=(8,8))\n",
    "scatter = ax.scatter(dfXfin['EDUCbin'], dfXfin['EarlyEd'], c=dfXfin['labels'], cmap=plt.cm.cool)\n",
    "ax.set_xlabel('2 yr college binary')\n",
    "ax.set_ylabel('% of 3-4 yr olds in preschool')\n",
    "legend1=ax.legend(*scatter.legend_elements(),loc=\"lower left\", title=\"Cluster\")\n",
    "plt.gca().add_artist(legend1)\n",
    "ax.set_title('Education Status vs. County Early Education')"
   ]
  }
 ],
 "metadata": {
  "kernelspec": {
   "display_name": "Python 3",
   "language": "python",
   "name": "python3"
  },
  "language_info": {
   "codemirror_mode": {
    "name": "ipython",
    "version": 3
   },
   "file_extension": ".py",
   "mimetype": "text/x-python",
   "name": "python",
   "nbconvert_exporter": "python",
   "pygments_lexer": "ipython3",
   "version": "3.7.6"
  }
 },
 "nbformat": 4,
 "nbformat_minor": 5
}
