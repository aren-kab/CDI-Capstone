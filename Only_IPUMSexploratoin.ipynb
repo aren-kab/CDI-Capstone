{
  "nbformat": 4,
  "nbformat_minor": 5,
  "metadata": {
    "kernelspec": {
      "display_name": "Python 3",
      "language": "python",
      "name": "python3"
    },
    "language_info": {
      "codemirror_mode": {
        "name": "ipython",
        "version": 3
      },
      "file_extension": ".py",
      "mimetype": "text/x-python",
      "name": "python",
      "nbconvert_exporter": "python",
      "pygments_lexer": "ipython3",
      "version": "3.7.6"
    },
    "colab": {
      "name": "Only_IPUMSexploratoin.ipynb",
      "provenance": [],
      "include_colab_link": true
    }
  },
  "cells": [
    {
      "cell_type": "markdown",
      "metadata": {
        "id": "view-in-github",
        "colab_type": "text"
      },
      "source": [
        "<a href=\"https://colab.research.google.com/github/aren-kab/CDI-Capstone/blob/main/Only_IPUMSexploratoin.ipynb\" target=\"_parent\"><img src=\"https://colab.research.google.com/assets/colab-badge.svg\" alt=\"Open In Colab\"/></a>"
      ]
    },
    {
      "cell_type": "code",
      "metadata": {
        "id": "vulnerable-radar"
      },
      "source": [
        "import pandas as pd\n",
        "import numpy as np\n",
        "import datetime as dt\n",
        "import matplotlib\n",
        "import matplotlib.pyplot as plt\n",
        "import scipy.cluster.hierarchy as shc\n",
        "from sklearn.cluster import AgglomerativeClustering\n",
        "import os\n",
        "import seaborn as sns"
      ],
      "id": "vulnerable-radar",
      "execution_count": 1,
      "outputs": []
    },
    {
      "cell_type": "code",
      "metadata": {
        "id": "figured-dakota"
      },
      "source": [
        "from sklearn.cluster import KMeans\n",
        "from scipy.spatial.distance import cdist, pdist\n",
        "from sklearn.datasets import make_classification\n",
        "from sklearn.datasets import make_blobs\n",
        "from sklearn.metrics import silhouette_samples, silhouette_score\n",
        "import matplotlib.cm as cm\n",
        "from sklearn.mixture import GaussianMixture\n",
        "from sklearn.cluster import DBSCAN"
      ],
      "id": "figured-dakota",
      "execution_count": 2,
      "outputs": []
    },
    {
      "cell_type": "code",
      "metadata": {
        "id": "social-mongolia",
        "colab": {
          "base_uri": "https://localhost:8080/"
        },
        "outputId": "90ff5bab-9d60-4cfa-bbe4-2ca1a4dbd16e"
      },
      "source": [
        "!gdown --id 1K_YtC79sMWCfRq7dKdXgGulgZ4QBJ-3u -O ipums2019.csv\n"
      ],
      "id": "social-mongolia",
      "execution_count": 3,
      "outputs": [
        {
          "output_type": "stream",
          "text": [
            "Downloading...\n",
            "From: https://drive.google.com/uc?id=1K_YtC79sMWCfRq7dKdXgGulgZ4QBJ-3u\n",
            "To: /content/ipums2019.csv\n",
            "354MB [00:05, 60.2MB/s]\n"
          ],
          "name": "stdout"
        }
      ]
    },
    {
      "cell_type": "code",
      "metadata": {
        "id": "4B03JwhbgBIk"
      },
      "source": [
        "dfCDI = pd.read_csv('/content/ipums2019.csv')\n"
      ],
      "id": "4B03JwhbgBIk",
      "execution_count": 7,
      "outputs": []
    },
    {
      "cell_type": "code",
      "metadata": {
        "id": "younger-knowing",
        "colab": {
          "base_uri": "https://localhost:8080/"
        },
        "outputId": "35c394fd-00ee-46f6-e8d3-de1c2ee58feb"
      },
      "source": [
        "!gdown --id 11RuwsJhyMXBt6jHFHaShmPfPwM3hexsk -O Countydf.csv"
      ],
      "id": "younger-knowing",
      "execution_count": 5,
      "outputs": [
        {
          "output_type": "stream",
          "text": [
            "Downloading...\n",
            "From: https://drive.google.com/uc?id=11RuwsJhyMXBt6jHFHaShmPfPwM3hexsk\n",
            "To: /content/Countydf.csv\n",
            "\r  0% 0.00/11.8k [00:00<?, ?B/s]\r100% 11.8k/11.8k [00:00<00:00, 10.4MB/s]\n"
          ],
          "name": "stdout"
        }
      ]
    },
    {
      "cell_type": "code",
      "metadata": {
        "id": "xFIbSG3agEbq"
      },
      "source": [
        "Countydf = pd.read_csv('/content/Countydf.csv')"
      ],
      "id": "xFIbSG3agEbq",
      "execution_count": 6,
      "outputs": []
    },
    {
      "cell_type": "code",
      "metadata": {
        "id": "dietary-liability",
        "colab": {
          "base_uri": "https://localhost:8080/"
        },
        "outputId": "3921d456-59dc-4fa5-ac77-f5c8cc9d4127"
      },
      "source": [
        "dfCDI.info()"
      ],
      "id": "dietary-liability",
      "execution_count": 8,
      "outputs": [
        {
          "output_type": "stream",
          "text": [
            "<class 'pandas.core.frame.DataFrame'>\n",
            "RangeIndex: 1887461 entries, 0 to 1887460\n",
            "Data columns (total 40 columns):\n",
            " #   Column      Dtype  \n",
            "---  ------      -----  \n",
            " 0   YEAR        int64  \n",
            " 1   MULTYEAR    int64  \n",
            " 2   SAMPLE      int64  \n",
            " 3   SERIAL      int64  \n",
            " 4   CBSERIAL    int64  \n",
            " 5   HHWT        float64\n",
            " 6   CLUSTER     int64  \n",
            " 7   CPI99       float64\n",
            " 8   STATEFIP    int64  \n",
            " 9   COUNTYFIP   int64  \n",
            " 10  DENSITY     float64\n",
            " 11  CITY        int64  \n",
            " 12  PUMA        int64  \n",
            " 13  STRATA      int64  \n",
            " 14  GQ          int64  \n",
            " 15  OWNERSHP    int64  \n",
            " 16  OWNERSHPD   int64  \n",
            " 17  OWNCOST     int64  \n",
            " 18  RENTGRS     int64  \n",
            " 19  HHINCOME    int64  \n",
            " 20  CILAPTOP    int64  \n",
            " 21  CIHISPEED   int64  \n",
            " 22  PERNUM      int64  \n",
            " 23  PERWT       float64\n",
            " 24  FAMSIZE     int64  \n",
            " 25  AGE         int64  \n",
            " 26  RACE        int64  \n",
            " 27  RACED       int64  \n",
            " 28  HISPAN      int64  \n",
            " 29  HISPAND     int64  \n",
            " 30  EDUC        int64  \n",
            " 31  EDUCD       int64  \n",
            " 32  OCCSOC      object \n",
            " 33  INDNAICS    object \n",
            " 34  INCTOT      int64  \n",
            " 35  FTOTINC     int64  \n",
            " 36  INCWAGE     int64  \n",
            " 37  MIGCOUNTY1  int64  \n",
            " 38  MOVEDIN     int64  \n",
            " 39  TRANTIME    int64  \n",
            "dtypes: float64(4), int64(34), object(2)\n",
            "memory usage: 576.0+ MB\n"
          ],
          "name": "stdout"
        }
      ]
    },
    {
      "cell_type": "code",
      "metadata": {
        "id": "worth-century",
        "colab": {
          "base_uri": "https://localhost:8080/",
          "height": 310
        },
        "outputId": "327ab53e-fd3a-4652-986e-871da76cbe7c"
      },
      "source": [
        "dfCDI.describe()"
      ],
      "id": "worth-century",
      "execution_count": 9,
      "outputs": [
        {
          "output_type": "execute_result",
          "data": {
            "text/html": [
              "<div>\n",
              "<style scoped>\n",
              "    .dataframe tbody tr th:only-of-type {\n",
              "        vertical-align: middle;\n",
              "    }\n",
              "\n",
              "    .dataframe tbody tr th {\n",
              "        vertical-align: top;\n",
              "    }\n",
              "\n",
              "    .dataframe thead th {\n",
              "        text-align: right;\n",
              "    }\n",
              "</style>\n",
              "<table border=\"1\" class=\"dataframe\">\n",
              "  <thead>\n",
              "    <tr style=\"text-align: right;\">\n",
              "      <th></th>\n",
              "      <th>YEAR</th>\n",
              "      <th>MULTYEAR</th>\n",
              "      <th>SAMPLE</th>\n",
              "      <th>SERIAL</th>\n",
              "      <th>CBSERIAL</th>\n",
              "      <th>HHWT</th>\n",
              "      <th>CLUSTER</th>\n",
              "      <th>CPI99</th>\n",
              "      <th>STATEFIP</th>\n",
              "      <th>COUNTYFIP</th>\n",
              "      <th>DENSITY</th>\n",
              "      <th>CITY</th>\n",
              "      <th>PUMA</th>\n",
              "      <th>STRATA</th>\n",
              "      <th>GQ</th>\n",
              "      <th>OWNERSHP</th>\n",
              "      <th>OWNERSHPD</th>\n",
              "      <th>OWNCOST</th>\n",
              "      <th>RENTGRS</th>\n",
              "      <th>HHINCOME</th>\n",
              "      <th>CILAPTOP</th>\n",
              "      <th>CIHISPEED</th>\n",
              "      <th>PERNUM</th>\n",
              "      <th>PERWT</th>\n",
              "      <th>FAMSIZE</th>\n",
              "      <th>AGE</th>\n",
              "      <th>RACE</th>\n",
              "      <th>RACED</th>\n",
              "      <th>HISPAN</th>\n",
              "      <th>HISPAND</th>\n",
              "      <th>EDUC</th>\n",
              "      <th>EDUCD</th>\n",
              "      <th>INCTOT</th>\n",
              "      <th>FTOTINC</th>\n",
              "      <th>INCWAGE</th>\n",
              "      <th>MIGCOUNTY1</th>\n",
              "      <th>MOVEDIN</th>\n",
              "      <th>TRANTIME</th>\n",
              "    </tr>\n",
              "  </thead>\n",
              "  <tbody>\n",
              "    <tr>\n",
              "      <th>count</th>\n",
              "      <td>1887461.0</td>\n",
              "      <td>1.887461e+06</td>\n",
              "      <td>1887461.0</td>\n",
              "      <td>1.887461e+06</td>\n",
              "      <td>1.887461e+06</td>\n",
              "      <td>1.887461e+06</td>\n",
              "      <td>1.887461e+06</td>\n",
              "      <td>1.887461e+06</td>\n",
              "      <td>1887461.0</td>\n",
              "      <td>1.887461e+06</td>\n",
              "      <td>1.887461e+06</td>\n",
              "      <td>1.887461e+06</td>\n",
              "      <td>1.887461e+06</td>\n",
              "      <td>1.887461e+06</td>\n",
              "      <td>1.887461e+06</td>\n",
              "      <td>1.887461e+06</td>\n",
              "      <td>1.887461e+06</td>\n",
              "      <td>1.887461e+06</td>\n",
              "      <td>1.887461e+06</td>\n",
              "      <td>1.887461e+06</td>\n",
              "      <td>1.887461e+06</td>\n",
              "      <td>1.887461e+06</td>\n",
              "      <td>1.887461e+06</td>\n",
              "      <td>1.887461e+06</td>\n",
              "      <td>1.887461e+06</td>\n",
              "      <td>1.887461e+06</td>\n",
              "      <td>1.887461e+06</td>\n",
              "      <td>1.887461e+06</td>\n",
              "      <td>1.887461e+06</td>\n",
              "      <td>1.887461e+06</td>\n",
              "      <td>1.887461e+06</td>\n",
              "      <td>1.887461e+06</td>\n",
              "      <td>1.887461e+06</td>\n",
              "      <td>1.887461e+06</td>\n",
              "      <td>1.887461e+06</td>\n",
              "      <td>1.887461e+06</td>\n",
              "      <td>1.887461e+06</td>\n",
              "      <td>1.887461e+06</td>\n",
              "    </tr>\n",
              "    <tr>\n",
              "      <th>mean</th>\n",
              "      <td>2019.0</td>\n",
              "      <td>2.017007e+03</td>\n",
              "      <td>201903.0</td>\n",
              "      <td>7.161752e+05</td>\n",
              "      <td>2.017008e+12</td>\n",
              "      <td>1.950090e+01</td>\n",
              "      <td>2.019007e+12</td>\n",
              "      <td>6.520000e-01</td>\n",
              "      <td>6.0</td>\n",
              "      <td>5.322070e+01</td>\n",
              "      <td>6.709357e+03</td>\n",
              "      <td>9.690809e+02</td>\n",
              "      <td>5.491851e+03</td>\n",
              "      <td>5.491911e+05</td>\n",
              "      <td>1.111560e+00</td>\n",
              "      <td>1.327811e+00</td>\n",
              "      <td>1.561020e+01</td>\n",
              "      <td>4.254004e+04</td>\n",
              "      <td>6.111439e+02</td>\n",
              "      <td>5.396229e+05</td>\n",
              "      <td>1.086026e+00</td>\n",
              "      <td>9.950621e+00</td>\n",
              "      <td>2.270603e+00</td>\n",
              "      <td>2.081288e+01</td>\n",
              "      <td>3.348763e+00</td>\n",
              "      <td>4.014631e+01</td>\n",
              "      <td>2.825623e+00</td>\n",
              "      <td>2.867859e+02</td>\n",
              "      <td>5.212203e-01</td>\n",
              "      <td>5.395687e+01</td>\n",
              "      <td>6.112827e+00</td>\n",
              "      <td>6.350181e+01</td>\n",
              "      <td>1.733883e+06</td>\n",
              "      <td>5.430318e+05</td>\n",
              "      <td>2.107476e+05</td>\n",
              "      <td>6.346545e+00</td>\n",
              "      <td>1.470495e+00</td>\n",
              "      <td>1.281491e+01</td>\n",
              "    </tr>\n",
              "    <tr>\n",
              "      <th>std</th>\n",
              "      <td>0.0</td>\n",
              "      <td>1.414209e+00</td>\n",
              "      <td>0.0</td>\n",
              "      <td>2.177509e+05</td>\n",
              "      <td>1.414360e+09</td>\n",
              "      <td>1.395353e+01</td>\n",
              "      <td>2.177509e+06</td>\n",
              "      <td>1.789791e-12</td>\n",
              "      <td>0.0</td>\n",
              "      <td>2.819463e+01</td>\n",
              "      <td>6.025557e+03</td>\n",
              "      <td>1.901606e+03</td>\n",
              "      <td>2.686269e+03</td>\n",
              "      <td>2.686269e+05</td>\n",
              "      <td>5.245079e-01</td>\n",
              "      <td>5.521752e-01</td>\n",
              "      <td>5.501216e+00</td>\n",
              "      <td>4.814891e+04</td>\n",
              "      <td>9.497765e+02</td>\n",
              "      <td>1.991288e+06</td>\n",
              "      <td>4.039457e-01</td>\n",
              "      <td>5.073344e+00</td>\n",
              "      <td>1.500830e+00</td>\n",
              "      <td>1.517289e+01</td>\n",
              "      <td>1.921385e+00</td>\n",
              "      <td>2.318845e+01</td>\n",
              "      <td>2.592563e+00</td>\n",
              "      <td>2.650356e+02</td>\n",
              "      <td>9.677537e-01</td>\n",
              "      <td>1.037007e+02</td>\n",
              "      <td>3.402226e+00</td>\n",
              "      <td>3.383771e+01</td>\n",
              "      <td>3.734217e+06</td>\n",
              "      <td>2.020262e+06</td>\n",
              "      <td>3.771700e+05</td>\n",
              "      <td>2.284799e+01</td>\n",
              "      <td>2.260702e+00</td>\n",
              "      <td>2.181307e+01</td>\n",
              "    </tr>\n",
              "    <tr>\n",
              "      <th>min</th>\n",
              "      <td>2019.0</td>\n",
              "      <td>2.015000e+03</td>\n",
              "      <td>201903.0</td>\n",
              "      <td>3.422620e+05</td>\n",
              "      <td>2.015000e+12</td>\n",
              "      <td>1.000000e+00</td>\n",
              "      <td>2.019003e+12</td>\n",
              "      <td>6.520000e-01</td>\n",
              "      <td>6.0</td>\n",
              "      <td>0.000000e+00</td>\n",
              "      <td>3.820000e+01</td>\n",
              "      <td>0.000000e+00</td>\n",
              "      <td>1.010000e+02</td>\n",
              "      <td>1.010600e+04</td>\n",
              "      <td>1.000000e+00</td>\n",
              "      <td>0.000000e+00</td>\n",
              "      <td>0.000000e+00</td>\n",
              "      <td>0.000000e+00</td>\n",
              "      <td>0.000000e+00</td>\n",
              "      <td>-1.694200e+04</td>\n",
              "      <td>0.000000e+00</td>\n",
              "      <td>0.000000e+00</td>\n",
              "      <td>1.000000e+00</td>\n",
              "      <td>1.000000e+00</td>\n",
              "      <td>1.000000e+00</td>\n",
              "      <td>0.000000e+00</td>\n",
              "      <td>1.000000e+00</td>\n",
              "      <td>1.000000e+02</td>\n",
              "      <td>0.000000e+00</td>\n",
              "      <td>0.000000e+00</td>\n",
              "      <td>0.000000e+00</td>\n",
              "      <td>1.000000e+00</td>\n",
              "      <td>-1.165400e+04</td>\n",
              "      <td>-1.575500e+04</td>\n",
              "      <td>0.000000e+00</td>\n",
              "      <td>0.000000e+00</td>\n",
              "      <td>0.000000e+00</td>\n",
              "      <td>0.000000e+00</td>\n",
              "    </tr>\n",
              "    <tr>\n",
              "      <th>25%</th>\n",
              "      <td>2019.0</td>\n",
              "      <td>2.016000e+03</td>\n",
              "      <td>201903.0</td>\n",
              "      <td>5.280200e+05</td>\n",
              "      <td>2.016000e+12</td>\n",
              "      <td>1.100000e+01</td>\n",
              "      <td>2.019005e+12</td>\n",
              "      <td>6.520000e-01</td>\n",
              "      <td>6.0</td>\n",
              "      <td>3.700000e+01</td>\n",
              "      <td>2.448600e+03</td>\n",
              "      <td>0.000000e+00</td>\n",
              "      <td>3.723000e+03</td>\n",
              "      <td>3.723060e+05</td>\n",
              "      <td>1.000000e+00</td>\n",
              "      <td>1.000000e+00</td>\n",
              "      <td>1.300000e+01</td>\n",
              "      <td>1.674000e+03</td>\n",
              "      <td>0.000000e+00</td>\n",
              "      <td>4.850000e+04</td>\n",
              "      <td>1.000000e+00</td>\n",
              "      <td>1.000000e+01</td>\n",
              "      <td>1.000000e+00</td>\n",
              "      <td>1.200000e+01</td>\n",
              "      <td>2.000000e+00</td>\n",
              "      <td>2.100000e+01</td>\n",
              "      <td>1.000000e+00</td>\n",
              "      <td>1.000000e+02</td>\n",
              "      <td>0.000000e+00</td>\n",
              "      <td>0.000000e+00</td>\n",
              "      <td>3.000000e+00</td>\n",
              "      <td>3.000000e+01</td>\n",
              "      <td>1.018100e+04</td>\n",
              "      <td>4.072500e+04</td>\n",
              "      <td>0.000000e+00</td>\n",
              "      <td>0.000000e+00</td>\n",
              "      <td>0.000000e+00</td>\n",
              "      <td>0.000000e+00</td>\n",
              "    </tr>\n",
              "    <tr>\n",
              "      <th>50%</th>\n",
              "      <td>2019.0</td>\n",
              "      <td>2.017000e+03</td>\n",
              "      <td>201903.0</td>\n",
              "      <td>7.092400e+05</td>\n",
              "      <td>2.017001e+12</td>\n",
              "      <td>1.500000e+01</td>\n",
              "      <td>2.019007e+12</td>\n",
              "      <td>6.520000e-01</td>\n",
              "      <td>6.0</td>\n",
              "      <td>5.900000e+01</td>\n",
              "      <td>5.275400e+03</td>\n",
              "      <td>0.000000e+00</td>\n",
              "      <td>5.909000e+03</td>\n",
              "      <td>5.909060e+05</td>\n",
              "      <td>1.000000e+00</td>\n",
              "      <td>1.000000e+00</td>\n",
              "      <td>1.300000e+01</td>\n",
              "      <td>3.663000e+03</td>\n",
              "      <td>0.000000e+00</td>\n",
              "      <td>9.375200e+04</td>\n",
              "      <td>1.000000e+00</td>\n",
              "      <td>1.000000e+01</td>\n",
              "      <td>2.000000e+00</td>\n",
              "      <td>1.600000e+01</td>\n",
              "      <td>3.000000e+00</td>\n",
              "      <td>4.000000e+01</td>\n",
              "      <td>1.000000e+00</td>\n",
              "      <td>1.000000e+02</td>\n",
              "      <td>0.000000e+00</td>\n",
              "      <td>0.000000e+00</td>\n",
              "      <td>6.000000e+00</td>\n",
              "      <td>6.500000e+01</td>\n",
              "      <td>3.590000e+04</td>\n",
              "      <td>8.449400e+04</td>\n",
              "      <td>2.357000e+04</td>\n",
              "      <td>0.000000e+00</td>\n",
              "      <td>0.000000e+00</td>\n",
              "      <td>0.000000e+00</td>\n",
              "    </tr>\n",
              "    <tr>\n",
              "      <th>75%</th>\n",
              "      <td>2019.0</td>\n",
              "      <td>2.018000e+03</td>\n",
              "      <td>201903.0</td>\n",
              "      <td>9.046820e+05</td>\n",
              "      <td>2.018001e+12</td>\n",
              "      <td>2.400000e+01</td>\n",
              "      <td>2.019009e+12</td>\n",
              "      <td>6.520000e-01</td>\n",
              "      <td>6.0</td>\n",
              "      <td>7.300000e+01</td>\n",
              "      <td>8.899800e+03</td>\n",
              "      <td>0.000000e+00</td>\n",
              "      <td>7.315000e+03</td>\n",
              "      <td>7.315060e+05</td>\n",
              "      <td>1.000000e+00</td>\n",
              "      <td>2.000000e+00</td>\n",
              "      <td>2.200000e+01</td>\n",
              "      <td>9.999900e+04</td>\n",
              "      <td>1.222000e+03</td>\n",
              "      <td>1.666140e+05</td>\n",
              "      <td>1.000000e+00</td>\n",
              "      <td>1.000000e+01</td>\n",
              "      <td>3.000000e+00</td>\n",
              "      <td>2.500000e+01</td>\n",
              "      <td>4.000000e+00</td>\n",
              "      <td>5.900000e+01</td>\n",
              "      <td>6.000000e+00</td>\n",
              "      <td>6.000000e+02</td>\n",
              "      <td>1.000000e+00</td>\n",
              "      <td>1.000000e+02</td>\n",
              "      <td>1.000000e+01</td>\n",
              "      <td>1.010000e+02</td>\n",
              "      <td>1.124000e+05</td>\n",
              "      <td>1.565180e+05</td>\n",
              "      <td>1.065370e+05</td>\n",
              "      <td>0.000000e+00</td>\n",
              "      <td>3.000000e+00</td>\n",
              "      <td>2.000000e+01</td>\n",
              "    </tr>\n",
              "    <tr>\n",
              "      <th>max</th>\n",
              "      <td>2019.0</td>\n",
              "      <td>2.019000e+03</td>\n",
              "      <td>201903.0</td>\n",
              "      <td>1.090399e+06</td>\n",
              "      <td>2.019010e+12</td>\n",
              "      <td>4.720000e+02</td>\n",
              "      <td>2.019011e+12</td>\n",
              "      <td>6.520000e-01</td>\n",
              "      <td>6.0</td>\n",
              "      <td>1.130000e+02</td>\n",
              "      <td>4.278810e+04</td>\n",
              "      <td>7.140000e+03</td>\n",
              "      <td>1.130000e+04</td>\n",
              "      <td>1.130006e+06</td>\n",
              "      <td>5.000000e+00</td>\n",
              "      <td>2.000000e+00</td>\n",
              "      <td>2.200000e+01</td>\n",
              "      <td>9.999900e+04</td>\n",
              "      <td>5.238000e+03</td>\n",
              "      <td>9.999999e+06</td>\n",
              "      <td>2.000000e+00</td>\n",
              "      <td>2.000000e+01</td>\n",
              "      <td>2.000000e+01</td>\n",
              "      <td>4.720000e+02</td>\n",
              "      <td>2.000000e+01</td>\n",
              "      <td>9.400000e+01</td>\n",
              "      <td>9.000000e+00</td>\n",
              "      <td>9.900000e+02</td>\n",
              "      <td>4.000000e+00</td>\n",
              "      <td>4.980000e+02</td>\n",
              "      <td>1.100000e+01</td>\n",
              "      <td>1.160000e+02</td>\n",
              "      <td>9.999999e+06</td>\n",
              "      <td>9.999999e+06</td>\n",
              "      <td>9.999990e+05</td>\n",
              "      <td>8.100000e+02</td>\n",
              "      <td>7.000000e+00</td>\n",
              "      <td>1.420000e+02</td>\n",
              "    </tr>\n",
              "  </tbody>\n",
              "</table>\n",
              "</div>"
            ],
            "text/plain": [
              "            YEAR      MULTYEAR  ...       MOVEDIN      TRANTIME\n",
              "count  1887461.0  1.887461e+06  ...  1.887461e+06  1.887461e+06\n",
              "mean      2019.0  2.017007e+03  ...  1.470495e+00  1.281491e+01\n",
              "std          0.0  1.414209e+00  ...  2.260702e+00  2.181307e+01\n",
              "min       2019.0  2.015000e+03  ...  0.000000e+00  0.000000e+00\n",
              "25%       2019.0  2.016000e+03  ...  0.000000e+00  0.000000e+00\n",
              "50%       2019.0  2.017000e+03  ...  0.000000e+00  0.000000e+00\n",
              "75%       2019.0  2.018000e+03  ...  3.000000e+00  2.000000e+01\n",
              "max       2019.0  2.019000e+03  ...  7.000000e+00  1.420000e+02\n",
              "\n",
              "[8 rows x 38 columns]"
            ]
          },
          "metadata": {
            "tags": []
          },
          "execution_count": 9
        }
      ]
    },
    {
      "cell_type": "code",
      "metadata": {
        "id": "empirical-discharge",
        "colab": {
          "base_uri": "https://localhost:8080/"
        },
        "outputId": "e240d0f1-5c26-4605-82a8-258f7febadee"
      },
      "source": [
        "dfCDI['affrentdec']= dfCDI['RENTGRS']/dfCDI['FTOTINC'] \n",
        "dfCDI['affrentbin'] = [0 if x >=.3 else 1 for x in dfCDI['affrentdec']]\n",
        "dfCDI['affrentbin'].value_counts()"
      ],
      "id": "empirical-discharge",
      "execution_count": 10,
      "outputs": [
        {
          "output_type": "execute_result",
          "data": {
            "text/plain": [
              "1    1851700\n",
              "0      35761\n",
              "Name: affrentbin, dtype: int64"
            ]
          },
          "metadata": {
            "tags": []
          },
          "execution_count": 10
        }
      ]
    },
    {
      "cell_type": "code",
      "metadata": {
        "id": "romantic-history",
        "colab": {
          "base_uri": "https://localhost:8080/"
        },
        "outputId": "9f3f7948-d460-4d0c-f0c7-277d25f3bb92"
      },
      "source": [
        "dfCDI['EDUC'].describe()"
      ],
      "id": "romantic-history",
      "execution_count": 11,
      "outputs": [
        {
          "output_type": "execute_result",
          "data": {
            "text/plain": [
              "count    1.887461e+06\n",
              "mean     6.112827e+00\n",
              "std      3.402226e+00\n",
              "min      0.000000e+00\n",
              "25%      3.000000e+00\n",
              "50%      6.000000e+00\n",
              "75%      1.000000e+01\n",
              "max      1.100000e+01\n",
              "Name: EDUC, dtype: float64"
            ]
          },
          "metadata": {
            "tags": []
          },
          "execution_count": 11
        }
      ]
    },
    {
      "cell_type": "code",
      "metadata": {
        "id": "widespread-recording"
      },
      "source": [
        "dfCDI['EDUCbin'] = [1 if x >=8 else 0 for x in dfCDI['EDUC']]"
      ],
      "id": "widespread-recording",
      "execution_count": 12,
      "outputs": []
    },
    {
      "cell_type": "code",
      "metadata": {
        "id": "retained-armenia",
        "colab": {
          "base_uri": "https://localhost:8080/"
        },
        "outputId": "2784817c-c4f6-4027-dd84-25950a82c675"
      },
      "source": [
        "dfCDI['CIHISPEED'].value_counts()"
      ],
      "id": "retained-armenia",
      "execution_count": 13,
      "outputs": [
        {
          "output_type": "execute_result",
          "data": {
            "text/plain": [
              "10    1401605\n",
              "0      247588\n",
              "20     238268\n",
              "Name: CIHISPEED, dtype: int64"
            ]
          },
          "metadata": {
            "tags": []
          },
          "execution_count": 13
        }
      ]
    },
    {
      "cell_type": "code",
      "metadata": {
        "id": "attached-synthetic",
        "colab": {
          "base_uri": "https://localhost:8080/"
        },
        "outputId": "02f5c451-4848-4b0c-fad9-2adaba92df05"
      },
      "source": [
        "dfCDI['OWNERSHP'].value_counts()"
      ],
      "id": "attached-synthetic",
      "execution_count": 14,
      "outputs": [
        {
          "output_type": "execute_result",
          "data": {
            "text/plain": [
              "1    1109153\n",
              "2     698519\n",
              "0      79789\n",
              "Name: OWNERSHP, dtype: int64"
            ]
          },
          "metadata": {
            "tags": []
          },
          "execution_count": 14
        }
      ]
    },
    {
      "cell_type": "code",
      "metadata": {
        "id": "advisory-chester",
        "colab": {
          "base_uri": "https://localhost:8080/"
        },
        "outputId": "825bfe1e-b7b7-4f60-c6be-43e0cd842697"
      },
      "source": [
        "dfCDI['TRANTIME'].value_counts()"
      ],
      "id": "advisory-chester",
      "execution_count": 15,
      "outputs": [
        {
          "output_type": "execute_result",
          "data": {
            "text/plain": [
              "0      1082661\n",
              "30      118512\n",
              "15      110400\n",
              "20      108637\n",
              "10       86031\n",
              "        ...   \n",
              "91           2\n",
              "107          2\n",
              "113          1\n",
              "104          1\n",
              "117          1\n",
              "Name: TRANTIME, Length: 120, dtype: int64"
            ]
          },
          "metadata": {
            "tags": []
          },
          "execution_count": 15
        }
      ]
    },
    {
      "cell_type": "code",
      "metadata": {
        "id": "wound-meeting",
        "colab": {
          "base_uri": "https://localhost:8080/"
        },
        "outputId": "dc246f7a-3b85-4df2-9bfb-e63b952653cd"
      },
      "source": [
        "dfCDI.shape"
      ],
      "id": "wound-meeting",
      "execution_count": 16,
      "outputs": [
        {
          "output_type": "execute_result",
          "data": {
            "text/plain": [
              "(1887461, 43)"
            ]
          },
          "metadata": {
            "tags": []
          },
          "execution_count": 16
        }
      ]
    },
    {
      "cell_type": "code",
      "metadata": {
        "id": "pressing-leonard",
        "colab": {
          "base_uri": "https://localhost:8080/"
        },
        "outputId": "713e2710-1be7-4592-8717-a2b143936a7a"
      },
      "source": [
        "dfCDI = dfCDI[dfCDI['OWNERSHP']!=0]\n",
        "dfCDI.shape"
      ],
      "id": "pressing-leonard",
      "execution_count": 17,
      "outputs": [
        {
          "output_type": "execute_result",
          "data": {
            "text/plain": [
              "(1807672, 43)"
            ]
          },
          "metadata": {
            "tags": []
          },
          "execution_count": 17
        }
      ]
    },
    {
      "cell_type": "code",
      "metadata": {
        "id": "radical-madison",
        "colab": {
          "base_uri": "https://localhost:8080/",
          "height": 220
        },
        "outputId": "bd4b92d8-dbc8-455e-c4f3-68bfdbe5d040"
      },
      "source": [
        "dfCDI.head()"
      ],
      "id": "radical-madison",
      "execution_count": 18,
      "outputs": [
        {
          "output_type": "execute_result",
          "data": {
            "text/html": [
              "<div>\n",
              "<style scoped>\n",
              "    .dataframe tbody tr th:only-of-type {\n",
              "        vertical-align: middle;\n",
              "    }\n",
              "\n",
              "    .dataframe tbody tr th {\n",
              "        vertical-align: top;\n",
              "    }\n",
              "\n",
              "    .dataframe thead th {\n",
              "        text-align: right;\n",
              "    }\n",
              "</style>\n",
              "<table border=\"1\" class=\"dataframe\">\n",
              "  <thead>\n",
              "    <tr style=\"text-align: right;\">\n",
              "      <th></th>\n",
              "      <th>YEAR</th>\n",
              "      <th>MULTYEAR</th>\n",
              "      <th>SAMPLE</th>\n",
              "      <th>SERIAL</th>\n",
              "      <th>CBSERIAL</th>\n",
              "      <th>HHWT</th>\n",
              "      <th>CLUSTER</th>\n",
              "      <th>CPI99</th>\n",
              "      <th>STATEFIP</th>\n",
              "      <th>COUNTYFIP</th>\n",
              "      <th>DENSITY</th>\n",
              "      <th>CITY</th>\n",
              "      <th>PUMA</th>\n",
              "      <th>STRATA</th>\n",
              "      <th>GQ</th>\n",
              "      <th>OWNERSHP</th>\n",
              "      <th>OWNERSHPD</th>\n",
              "      <th>OWNCOST</th>\n",
              "      <th>RENTGRS</th>\n",
              "      <th>HHINCOME</th>\n",
              "      <th>CILAPTOP</th>\n",
              "      <th>CIHISPEED</th>\n",
              "      <th>PERNUM</th>\n",
              "      <th>PERWT</th>\n",
              "      <th>FAMSIZE</th>\n",
              "      <th>AGE</th>\n",
              "      <th>RACE</th>\n",
              "      <th>RACED</th>\n",
              "      <th>HISPAN</th>\n",
              "      <th>HISPAND</th>\n",
              "      <th>EDUC</th>\n",
              "      <th>EDUCD</th>\n",
              "      <th>OCCSOC</th>\n",
              "      <th>INDNAICS</th>\n",
              "      <th>INCTOT</th>\n",
              "      <th>FTOTINC</th>\n",
              "      <th>INCWAGE</th>\n",
              "      <th>MIGCOUNTY1</th>\n",
              "      <th>MOVEDIN</th>\n",
              "      <th>TRANTIME</th>\n",
              "      <th>affrentdec</th>\n",
              "      <th>affrentbin</th>\n",
              "      <th>EDUCbin</th>\n",
              "    </tr>\n",
              "  </thead>\n",
              "  <tbody>\n",
              "    <tr>\n",
              "      <th>0</th>\n",
              "      <td>2019</td>\n",
              "      <td>2015</td>\n",
              "      <td>201903</td>\n",
              "      <td>342262</td>\n",
              "      <td>2015000000008</td>\n",
              "      <td>20.0</td>\n",
              "      <td>2019003422623</td>\n",
              "      <td>0.652</td>\n",
              "      <td>6</td>\n",
              "      <td>59</td>\n",
              "      <td>4806.3</td>\n",
              "      <td>0</td>\n",
              "      <td>5906</td>\n",
              "      <td>590606</td>\n",
              "      <td>1</td>\n",
              "      <td>2</td>\n",
              "      <td>22</td>\n",
              "      <td>99999</td>\n",
              "      <td>1209</td>\n",
              "      <td>56113</td>\n",
              "      <td>1</td>\n",
              "      <td>10</td>\n",
              "      <td>1</td>\n",
              "      <td>19.0</td>\n",
              "      <td>2</td>\n",
              "      <td>41</td>\n",
              "      <td>1</td>\n",
              "      <td>100</td>\n",
              "      <td>1</td>\n",
              "      <td>100</td>\n",
              "      <td>10</td>\n",
              "      <td>101</td>\n",
              "      <td>414010</td>\n",
              "      <td>424M</td>\n",
              "      <td>56113</td>\n",
              "      <td>56113</td>\n",
              "      <td>53955</td>\n",
              "      <td>0</td>\n",
              "      <td>2</td>\n",
              "      <td>10</td>\n",
              "      <td>0.021546</td>\n",
              "      <td>1</td>\n",
              "      <td>1</td>\n",
              "    </tr>\n",
              "    <tr>\n",
              "      <th>1</th>\n",
              "      <td>2019</td>\n",
              "      <td>2015</td>\n",
              "      <td>201903</td>\n",
              "      <td>342262</td>\n",
              "      <td>2015000000008</td>\n",
              "      <td>20.0</td>\n",
              "      <td>2019003422623</td>\n",
              "      <td>0.652</td>\n",
              "      <td>6</td>\n",
              "      <td>59</td>\n",
              "      <td>4806.3</td>\n",
              "      <td>0</td>\n",
              "      <td>5906</td>\n",
              "      <td>590606</td>\n",
              "      <td>1</td>\n",
              "      <td>2</td>\n",
              "      <td>22</td>\n",
              "      <td>99999</td>\n",
              "      <td>1209</td>\n",
              "      <td>56113</td>\n",
              "      <td>1</td>\n",
              "      <td>10</td>\n",
              "      <td>2</td>\n",
              "      <td>17.0</td>\n",
              "      <td>2</td>\n",
              "      <td>32</td>\n",
              "      <td>1</td>\n",
              "      <td>100</td>\n",
              "      <td>1</td>\n",
              "      <td>100</td>\n",
              "      <td>6</td>\n",
              "      <td>65</td>\n",
              "      <td>433071</td>\n",
              "      <td>522M</td>\n",
              "      <td>0</td>\n",
              "      <td>56113</td>\n",
              "      <td>0</td>\n",
              "      <td>0</td>\n",
              "      <td>0</td>\n",
              "      <td>0</td>\n",
              "      <td>0.021546</td>\n",
              "      <td>1</td>\n",
              "      <td>0</td>\n",
              "    </tr>\n",
              "    <tr>\n",
              "      <th>2</th>\n",
              "      <td>2019</td>\n",
              "      <td>2015</td>\n",
              "      <td>201903</td>\n",
              "      <td>342263</td>\n",
              "      <td>2015000000009</td>\n",
              "      <td>15.0</td>\n",
              "      <td>2019003422633</td>\n",
              "      <td>0.652</td>\n",
              "      <td>6</td>\n",
              "      <td>81</td>\n",
              "      <td>6417.1</td>\n",
              "      <td>0</td>\n",
              "      <td>8105</td>\n",
              "      <td>810506</td>\n",
              "      <td>1</td>\n",
              "      <td>1</td>\n",
              "      <td>13</td>\n",
              "      <td>8315</td>\n",
              "      <td>0</td>\n",
              "      <td>250353</td>\n",
              "      <td>1</td>\n",
              "      <td>10</td>\n",
              "      <td>1</td>\n",
              "      <td>15.0</td>\n",
              "      <td>4</td>\n",
              "      <td>34</td>\n",
              "      <td>1</td>\n",
              "      <td>100</td>\n",
              "      <td>0</td>\n",
              "      <td>0</td>\n",
              "      <td>11</td>\n",
              "      <td>115</td>\n",
              "      <td>2310XX</td>\n",
              "      <td>5411</td>\n",
              "      <td>0</td>\n",
              "      <td>250353</td>\n",
              "      <td>0</td>\n",
              "      <td>85</td>\n",
              "      <td>1</td>\n",
              "      <td>0</td>\n",
              "      <td>0.000000</td>\n",
              "      <td>1</td>\n",
              "      <td>1</td>\n",
              "    </tr>\n",
              "    <tr>\n",
              "      <th>3</th>\n",
              "      <td>2019</td>\n",
              "      <td>2015</td>\n",
              "      <td>201903</td>\n",
              "      <td>342263</td>\n",
              "      <td>2015000000009</td>\n",
              "      <td>15.0</td>\n",
              "      <td>2019003422633</td>\n",
              "      <td>0.652</td>\n",
              "      <td>6</td>\n",
              "      <td>81</td>\n",
              "      <td>6417.1</td>\n",
              "      <td>0</td>\n",
              "      <td>8105</td>\n",
              "      <td>810506</td>\n",
              "      <td>1</td>\n",
              "      <td>1</td>\n",
              "      <td>13</td>\n",
              "      <td>8315</td>\n",
              "      <td>0</td>\n",
              "      <td>250353</td>\n",
              "      <td>1</td>\n",
              "      <td>10</td>\n",
              "      <td>2</td>\n",
              "      <td>14.0</td>\n",
              "      <td>4</td>\n",
              "      <td>34</td>\n",
              "      <td>1</td>\n",
              "      <td>100</td>\n",
              "      <td>0</td>\n",
              "      <td>0</td>\n",
              "      <td>11</td>\n",
              "      <td>114</td>\n",
              "      <td>132011</td>\n",
              "      <td>3341</td>\n",
              "      <td>250353</td>\n",
              "      <td>250353</td>\n",
              "      <td>248194</td>\n",
              "      <td>85</td>\n",
              "      <td>0</td>\n",
              "      <td>25</td>\n",
              "      <td>0.000000</td>\n",
              "      <td>1</td>\n",
              "      <td>1</td>\n",
              "    </tr>\n",
              "    <tr>\n",
              "      <th>4</th>\n",
              "      <td>2019</td>\n",
              "      <td>2015</td>\n",
              "      <td>201903</td>\n",
              "      <td>342263</td>\n",
              "      <td>2015000000009</td>\n",
              "      <td>15.0</td>\n",
              "      <td>2019003422633</td>\n",
              "      <td>0.652</td>\n",
              "      <td>6</td>\n",
              "      <td>81</td>\n",
              "      <td>6417.1</td>\n",
              "      <td>0</td>\n",
              "      <td>8105</td>\n",
              "      <td>810506</td>\n",
              "      <td>1</td>\n",
              "      <td>1</td>\n",
              "      <td>13</td>\n",
              "      <td>8315</td>\n",
              "      <td>0</td>\n",
              "      <td>250353</td>\n",
              "      <td>1</td>\n",
              "      <td>10</td>\n",
              "      <td>3</td>\n",
              "      <td>19.0</td>\n",
              "      <td>4</td>\n",
              "      <td>2</td>\n",
              "      <td>1</td>\n",
              "      <td>100</td>\n",
              "      <td>0</td>\n",
              "      <td>0</td>\n",
              "      <td>0</td>\n",
              "      <td>1</td>\n",
              "      <td>0</td>\n",
              "      <td>0</td>\n",
              "      <td>9999999</td>\n",
              "      <td>250353</td>\n",
              "      <td>999999</td>\n",
              "      <td>85</td>\n",
              "      <td>0</td>\n",
              "      <td>0</td>\n",
              "      <td>0.000000</td>\n",
              "      <td>1</td>\n",
              "      <td>0</td>\n",
              "    </tr>\n",
              "  </tbody>\n",
              "</table>\n",
              "</div>"
            ],
            "text/plain": [
              "   YEAR  MULTYEAR  SAMPLE  SERIAL  ...  TRANTIME  affrentdec  affrentbin  EDUCbin\n",
              "0  2019      2015  201903  342262  ...        10    0.021546           1        1\n",
              "1  2019      2015  201903  342262  ...         0    0.021546           1        0\n",
              "2  2019      2015  201903  342263  ...         0    0.000000           1        1\n",
              "3  2019      2015  201903  342263  ...        25    0.000000           1        1\n",
              "4  2019      2015  201903  342263  ...         0    0.000000           1        0\n",
              "\n",
              "[5 rows x 43 columns]"
            ]
          },
          "metadata": {
            "tags": []
          },
          "execution_count": 18
        }
      ]
    },
    {
      "cell_type": "code",
      "metadata": {
        "id": "respected-netherlands"
      },
      "source": [
        "#joined2019 = dfCDI.join(dfCty,on='COUNTYFIP',how='inner',lsuffix='str')"
      ],
      "id": "respected-netherlands",
      "execution_count": null,
      "outputs": []
    },
    {
      "cell_type": "code",
      "metadata": {
        "id": "wound-scott",
        "outputId": "f64b2f19-63af-410f-950f-76d9393bdf11"
      },
      "source": [
        "#joined2019"
      ],
      "id": "wound-scott",
      "execution_count": null,
      "outputs": [
        {
          "output_type": "execute_result",
          "data": {
            "text/html": [
              "<div>\n",
              "<style scoped>\n",
              "    .dataframe tbody tr th:only-of-type {\n",
              "        vertical-align: middle;\n",
              "    }\n",
              "\n",
              "    .dataframe tbody tr th {\n",
              "        vertical-align: top;\n",
              "    }\n",
              "\n",
              "    .dataframe thead th {\n",
              "        text-align: right;\n",
              "    }\n",
              "</style>\n",
              "<table border=\"1\" class=\"dataframe\">\n",
              "  <thead>\n",
              "    <tr style=\"text-align: right;\">\n",
              "      <th></th>\n",
              "      <th>YEAR</th>\n",
              "      <th>MULTYEAR</th>\n",
              "      <th>SAMPLE</th>\n",
              "      <th>SERIAL</th>\n",
              "      <th>CBSERIAL</th>\n",
              "      <th>HHWT</th>\n",
              "      <th>CLUSTER</th>\n",
              "      <th>CPI99</th>\n",
              "      <th>STATEFIP</th>\n",
              "      <th>COUNTYFIPstr</th>\n",
              "      <th>...</th>\n",
              "      <th>Population - Households</th>\n",
              "      <th>Rural/Urban</th>\n",
              "      <th>Redstone Regions</th>\n",
              "      <th>WF Regions</th>\n",
              "      <th>CDI Regions</th>\n",
              "      <th>Population</th>\n",
              "      <th>DrinkingWater</th>\n",
              "      <th>EarlyEd</th>\n",
              "      <th>AirQuality</th>\n",
              "      <th>ProspNeigh</th>\n",
              "    </tr>\n",
              "  </thead>\n",
              "  <tbody>\n",
              "    <tr>\n",
              "      <th>6</th>\n",
              "      <td>2019</td>\n",
              "      <td>2015</td>\n",
              "      <td>201903</td>\n",
              "      <td>342264</td>\n",
              "      <td>2015000000012</td>\n",
              "      <td>14.0</td>\n",
              "      <td>2019003422643</td>\n",
              "      <td>0.652</td>\n",
              "      <td>6</td>\n",
              "      <td>37</td>\n",
              "      <td>...</td>\n",
              "      <td>172,190</td>\n",
              "      <td>Urban</td>\n",
              "      <td>Bay Area</td>\n",
              "      <td>Bay Area</td>\n",
              "      <td>Bay Area</td>\n",
              "      <td>874,961</td>\n",
              "      <td>1.000000</td>\n",
              "      <td>0.744</td>\n",
              "      <td>26</td>\n",
              "      <td>0.900075</td>\n",
              "    </tr>\n",
              "    <tr>\n",
              "      <th>7</th>\n",
              "      <td>2019</td>\n",
              "      <td>2015</td>\n",
              "      <td>201903</td>\n",
              "      <td>342264</td>\n",
              "      <td>2015000000012</td>\n",
              "      <td>14.0</td>\n",
              "      <td>2019003422643</td>\n",
              "      <td>0.652</td>\n",
              "      <td>6</td>\n",
              "      <td>37</td>\n",
              "      <td>...</td>\n",
              "      <td>172,190</td>\n",
              "      <td>Urban</td>\n",
              "      <td>Bay Area</td>\n",
              "      <td>Bay Area</td>\n",
              "      <td>Bay Area</td>\n",
              "      <td>874,961</td>\n",
              "      <td>1.000000</td>\n",
              "      <td>0.744</td>\n",
              "      <td>26</td>\n",
              "      <td>0.900075</td>\n",
              "    </tr>\n",
              "    <tr>\n",
              "      <th>8</th>\n",
              "      <td>2019</td>\n",
              "      <td>2015</td>\n",
              "      <td>201903</td>\n",
              "      <td>342264</td>\n",
              "      <td>2015000000012</td>\n",
              "      <td>14.0</td>\n",
              "      <td>2019003422643</td>\n",
              "      <td>0.652</td>\n",
              "      <td>6</td>\n",
              "      <td>37</td>\n",
              "      <td>...</td>\n",
              "      <td>172,190</td>\n",
              "      <td>Urban</td>\n",
              "      <td>Bay Area</td>\n",
              "      <td>Bay Area</td>\n",
              "      <td>Bay Area</td>\n",
              "      <td>874,961</td>\n",
              "      <td>1.000000</td>\n",
              "      <td>0.744</td>\n",
              "      <td>26</td>\n",
              "      <td>0.900075</td>\n",
              "    </tr>\n",
              "    <tr>\n",
              "      <th>10</th>\n",
              "      <td>2019</td>\n",
              "      <td>2015</td>\n",
              "      <td>201903</td>\n",
              "      <td>342266</td>\n",
              "      <td>2015000000036</td>\n",
              "      <td>36.0</td>\n",
              "      <td>2019003422663</td>\n",
              "      <td>0.652</td>\n",
              "      <td>6</td>\n",
              "      <td>37</td>\n",
              "      <td>...</td>\n",
              "      <td>172,190</td>\n",
              "      <td>Urban</td>\n",
              "      <td>Bay Area</td>\n",
              "      <td>Bay Area</td>\n",
              "      <td>Bay Area</td>\n",
              "      <td>874,961</td>\n",
              "      <td>1.000000</td>\n",
              "      <td>0.744</td>\n",
              "      <td>26</td>\n",
              "      <td>0.900075</td>\n",
              "    </tr>\n",
              "    <tr>\n",
              "      <th>11</th>\n",
              "      <td>2019</td>\n",
              "      <td>2015</td>\n",
              "      <td>201903</td>\n",
              "      <td>342266</td>\n",
              "      <td>2015000000036</td>\n",
              "      <td>36.0</td>\n",
              "      <td>2019003422663</td>\n",
              "      <td>0.652</td>\n",
              "      <td>6</td>\n",
              "      <td>37</td>\n",
              "      <td>...</td>\n",
              "      <td>172,190</td>\n",
              "      <td>Urban</td>\n",
              "      <td>Bay Area</td>\n",
              "      <td>Bay Area</td>\n",
              "      <td>Bay Area</td>\n",
              "      <td>874,961</td>\n",
              "      <td>1.000000</td>\n",
              "      <td>0.744</td>\n",
              "      <td>26</td>\n",
              "      <td>0.900075</td>\n",
              "    </tr>\n",
              "    <tr>\n",
              "      <th>...</th>\n",
              "      <td>...</td>\n",
              "      <td>...</td>\n",
              "      <td>...</td>\n",
              "      <td>...</td>\n",
              "      <td>...</td>\n",
              "      <td>...</td>\n",
              "      <td>...</td>\n",
              "      <td>...</td>\n",
              "      <td>...</td>\n",
              "      <td>...</td>\n",
              "      <td>...</td>\n",
              "      <td>...</td>\n",
              "      <td>...</td>\n",
              "      <td>...</td>\n",
              "      <td>...</td>\n",
              "      <td>...</td>\n",
              "      <td>...</td>\n",
              "      <td>...</td>\n",
              "      <td>...</td>\n",
              "      <td>...</td>\n",
              "      <td>...</td>\n",
              "    </tr>\n",
              "    <tr>\n",
              "      <th>1883543</th>\n",
              "      <td>2019</td>\n",
              "      <td>2019</td>\n",
              "      <td>201903</td>\n",
              "      <td>1088952</td>\n",
              "      <td>2019001397740</td>\n",
              "      <td>12.0</td>\n",
              "      <td>2019010889523</td>\n",
              "      <td>0.652</td>\n",
              "      <td>6</td>\n",
              "      <td>25</td>\n",
              "      <td>...</td>\n",
              "      <td>2,524</td>\n",
              "      <td>Rural</td>\n",
              "      <td>Northern San Joaquin Valley</td>\n",
              "      <td>Central Valley</td>\n",
              "      <td>Sierra Nevada</td>\n",
              "      <td>14,310</td>\n",
              "      <td>0.999999</td>\n",
              "      <td>0.293</td>\n",
              "      <td>20</td>\n",
              "      <td>1.000000</td>\n",
              "    </tr>\n",
              "    <tr>\n",
              "      <th>1883544</th>\n",
              "      <td>2019</td>\n",
              "      <td>2019</td>\n",
              "      <td>201903</td>\n",
              "      <td>1088952</td>\n",
              "      <td>2019001397740</td>\n",
              "      <td>12.0</td>\n",
              "      <td>2019010889523</td>\n",
              "      <td>0.652</td>\n",
              "      <td>6</td>\n",
              "      <td>25</td>\n",
              "      <td>...</td>\n",
              "      <td>2,524</td>\n",
              "      <td>Rural</td>\n",
              "      <td>Northern San Joaquin Valley</td>\n",
              "      <td>Central Valley</td>\n",
              "      <td>Sierra Nevada</td>\n",
              "      <td>14,310</td>\n",
              "      <td>0.999999</td>\n",
              "      <td>0.293</td>\n",
              "      <td>20</td>\n",
              "      <td>1.000000</td>\n",
              "    </tr>\n",
              "    <tr>\n",
              "      <th>1883545</th>\n",
              "      <td>2019</td>\n",
              "      <td>2019</td>\n",
              "      <td>201903</td>\n",
              "      <td>1088952</td>\n",
              "      <td>2019001397740</td>\n",
              "      <td>12.0</td>\n",
              "      <td>2019010889523</td>\n",
              "      <td>0.652</td>\n",
              "      <td>6</td>\n",
              "      <td>25</td>\n",
              "      <td>...</td>\n",
              "      <td>2,524</td>\n",
              "      <td>Rural</td>\n",
              "      <td>Northern San Joaquin Valley</td>\n",
              "      <td>Central Valley</td>\n",
              "      <td>Sierra Nevada</td>\n",
              "      <td>14,310</td>\n",
              "      <td>0.999999</td>\n",
              "      <td>0.293</td>\n",
              "      <td>20</td>\n",
              "      <td>1.000000</td>\n",
              "    </tr>\n",
              "    <tr>\n",
              "      <th>1885408</th>\n",
              "      <td>2019</td>\n",
              "      <td>2019</td>\n",
              "      <td>201903</td>\n",
              "      <td>1089653</td>\n",
              "      <td>2019001404952</td>\n",
              "      <td>38.0</td>\n",
              "      <td>2019010896533</td>\n",
              "      <td>0.652</td>\n",
              "      <td>6</td>\n",
              "      <td>25</td>\n",
              "      <td>...</td>\n",
              "      <td>2,524</td>\n",
              "      <td>Rural</td>\n",
              "      <td>Northern San Joaquin Valley</td>\n",
              "      <td>Central Valley</td>\n",
              "      <td>Sierra Nevada</td>\n",
              "      <td>14,310</td>\n",
              "      <td>0.999999</td>\n",
              "      <td>0.293</td>\n",
              "      <td>20</td>\n",
              "      <td>1.000000</td>\n",
              "    </tr>\n",
              "    <tr>\n",
              "      <th>1886133</th>\n",
              "      <td>2019</td>\n",
              "      <td>2019</td>\n",
              "      <td>201903</td>\n",
              "      <td>1089928</td>\n",
              "      <td>2019001407507</td>\n",
              "      <td>27.0</td>\n",
              "      <td>2019010899283</td>\n",
              "      <td>0.652</td>\n",
              "      <td>6</td>\n",
              "      <td>25</td>\n",
              "      <td>...</td>\n",
              "      <td>2,524</td>\n",
              "      <td>Rural</td>\n",
              "      <td>Northern San Joaquin Valley</td>\n",
              "      <td>Central Valley</td>\n",
              "      <td>Sierra Nevada</td>\n",
              "      <td>14,310</td>\n",
              "      <td>0.999999</td>\n",
              "      <td>0.293</td>\n",
              "      <td>20</td>\n",
              "      <td>1.000000</td>\n",
              "    </tr>\n",
              "  </tbody>\n",
              "</table>\n",
              "<p>841841 rows × 61 columns</p>\n",
              "</div>"
            ],
            "text/plain": [
              "         YEAR  MULTYEAR  SAMPLE   SERIAL       CBSERIAL  HHWT        CLUSTER  \\\n",
              "6        2019      2015  201903   342264  2015000000012  14.0  2019003422643   \n",
              "7        2019      2015  201903   342264  2015000000012  14.0  2019003422643   \n",
              "8        2019      2015  201903   342264  2015000000012  14.0  2019003422643   \n",
              "10       2019      2015  201903   342266  2015000000036  36.0  2019003422663   \n",
              "11       2019      2015  201903   342266  2015000000036  36.0  2019003422663   \n",
              "...       ...       ...     ...      ...            ...   ...            ...   \n",
              "1883543  2019      2019  201903  1088952  2019001397740  12.0  2019010889523   \n",
              "1883544  2019      2019  201903  1088952  2019001397740  12.0  2019010889523   \n",
              "1883545  2019      2019  201903  1088952  2019001397740  12.0  2019010889523   \n",
              "1885408  2019      2019  201903  1089653  2019001404952  38.0  2019010896533   \n",
              "1886133  2019      2019  201903  1089928  2019001407507  27.0  2019010899283   \n",
              "\n",
              "         CPI99  STATEFIP  COUNTYFIPstr  ...  Population - Households  \\\n",
              "6        0.652         6            37  ...                  172,190   \n",
              "7        0.652         6            37  ...                  172,190   \n",
              "8        0.652         6            37  ...                  172,190   \n",
              "10       0.652         6            37  ...                  172,190   \n",
              "11       0.652         6            37  ...                  172,190   \n",
              "...        ...       ...           ...  ...                      ...   \n",
              "1883543  0.652         6            25  ...                    2,524   \n",
              "1883544  0.652         6            25  ...                    2,524   \n",
              "1883545  0.652         6            25  ...                    2,524   \n",
              "1885408  0.652         6            25  ...                    2,524   \n",
              "1886133  0.652         6            25  ...                    2,524   \n",
              "\n",
              "         Rural/Urban             Redstone Regions      WF Regions  \\\n",
              "6              Urban                     Bay Area        Bay Area   \n",
              "7              Urban                     Bay Area        Bay Area   \n",
              "8              Urban                     Bay Area        Bay Area   \n",
              "10             Urban                     Bay Area        Bay Area   \n",
              "11             Urban                     Bay Area        Bay Area   \n",
              "...              ...                          ...             ...   \n",
              "1883543        Rural  Northern San Joaquin Valley  Central Valley   \n",
              "1883544        Rural  Northern San Joaquin Valley  Central Valley   \n",
              "1883545        Rural  Northern San Joaquin Valley  Central Valley   \n",
              "1885408        Rural  Northern San Joaquin Valley  Central Valley   \n",
              "1886133        Rural  Northern San Joaquin Valley  Central Valley   \n",
              "\n",
              "           CDI Regions  Population  DrinkingWater  EarlyEd  AirQuality  \\\n",
              "6             Bay Area     874,961       1.000000    0.744          26   \n",
              "7             Bay Area     874,961       1.000000    0.744          26   \n",
              "8             Bay Area     874,961       1.000000    0.744          26   \n",
              "10            Bay Area     874,961       1.000000    0.744          26   \n",
              "11            Bay Area     874,961       1.000000    0.744          26   \n",
              "...                ...         ...            ...      ...         ...   \n",
              "1883543  Sierra Nevada      14,310       0.999999    0.293          20   \n",
              "1883544  Sierra Nevada      14,310       0.999999    0.293          20   \n",
              "1883545  Sierra Nevada      14,310       0.999999    0.293          20   \n",
              "1885408  Sierra Nevada      14,310       0.999999    0.293          20   \n",
              "1886133  Sierra Nevada      14,310       0.999999    0.293          20   \n",
              "\n",
              "         ProspNeigh  \n",
              "6          0.900075  \n",
              "7          0.900075  \n",
              "8          0.900075  \n",
              "10         0.900075  \n",
              "11         0.900075  \n",
              "...             ...  \n",
              "1883543    1.000000  \n",
              "1883544    1.000000  \n",
              "1883545    1.000000  \n",
              "1885408    1.000000  \n",
              "1886133    1.000000  \n",
              "\n",
              "[841841 rows x 61 columns]"
            ]
          },
          "metadata": {
            "tags": []
          },
          "execution_count": 20
        }
      ]
    },
    {
      "cell_type": "code",
      "metadata": {
        "id": "political-creek",
        "colab": {
          "base_uri": "https://localhost:8080/"
        },
        "outputId": "b0fb2304-7d12-4403-9846-86e4ca03c28b"
      },
      "source": [
        "print(dfCDI.columns.get_loc(\"affrentbin\"))\n",
        "print(dfCDI.columns.get_loc(\"OWNERSHP\"))\n",
        "print(dfCDI.columns.get_loc(\"EDUCbin\"))\n",
        "print(dfCDI.columns.get_loc(\"CIHISPEED\"))\n",
        "print(dfCDI.columns.get_loc(\"TRANTIME\"))"
      ],
      "id": "political-creek",
      "execution_count": 19,
      "outputs": [
        {
          "output_type": "stream",
          "text": [
            "41\n",
            "15\n",
            "42\n",
            "21\n",
            "39\n"
          ],
          "name": "stdout"
        }
      ]
    },
    {
      "cell_type": "code",
      "metadata": {
        "id": "coupled-fault"
      },
      "source": [
        "X = dfCDI.iloc[:, [41,15,42,21,39]]"
      ],
      "id": "coupled-fault",
      "execution_count": 20,
      "outputs": []
    },
    {
      "cell_type": "code",
      "metadata": {
        "id": "actual-ebony",
        "colab": {
          "base_uri": "https://localhost:8080/"
        },
        "outputId": "3b614fcb-3e2a-4870-bd95-eb3abb2d9b1e"
      },
      "source": [
        "X.shape"
      ],
      "id": "actual-ebony",
      "execution_count": 21,
      "outputs": [
        {
          "output_type": "execute_result",
          "data": {
            "text/plain": [
              "(1807672, 5)"
            ]
          },
          "metadata": {
            "tags": []
          },
          "execution_count": 21
        }
      ]
    },
    {
      "cell_type": "code",
      "metadata": {
        "id": "nonprofit-spirit",
        "colab": {
          "base_uri": "https://localhost:8080/"
        },
        "outputId": "5975d4b3-c7ab-4d28-8feb-08df2f94612e"
      },
      "source": [
        "print('Aff. Rent:',X['affrentbin'].max(), X['affrentbin'].min())\n",
        "print('Home Ownership:',X['OWNERSHP'].max(), X['OWNERSHP'].min())\n",
        "print('Education:',X['EDUCbin'].max(), X['EDUCbin'].min())\n",
        "print('Broadband:',X['CIHISPEED'].max(), X['CIHISPEED'].min())\n",
        "print('Commute Time:',X['TRANTIME'].max(), X['TRANTIME'].min())"
      ],
      "id": "nonprofit-spirit",
      "execution_count": 22,
      "outputs": [
        {
          "output_type": "stream",
          "text": [
            "Aff. Rent: 1 0\n",
            "Home Ownership: 2 1\n",
            "Education: 1 0\n",
            "Broadband: 20 0\n",
            "Commute Time: 142 0\n"
          ],
          "name": "stdout"
        }
      ]
    },
    {
      "cell_type": "code",
      "metadata": {
        "id": "motivated-romantic",
        "colab": {
          "base_uri": "https://localhost:8080/"
        },
        "outputId": "ab12adc2-6fef-473a-9268-809a4922cdf6"
      },
      "source": [
        "X.loc[:,'affrentbin'] = (X['affrentbin'] - X['affrentbin'].max())/(X['affrentbin'].min() - X['affrentbin'].max()) # reversed\n",
        "X.loc[:,'OWNERSHP'] = (X['OWNERSHP'] - X['OWNERSHP'].max())/(X['OWNERSHP'].min() - X['OWNERSHP'].max()) # reversed + normalized\n",
        "X.loc[:,'CIHISPEED'] = X['CIHISPEED']/20\n",
        "X.loc[:,'TRANTIME'] = (X['TRANTIME'] - X['TRANTIME'].max())/(X['TRANTIME'].min() - X['TRANTIME'].max()) # reversed"
      ],
      "id": "motivated-romantic",
      "execution_count": 24,
      "outputs": [
        {
          "output_type": "stream",
          "text": [
            "/usr/local/lib/python3.7/dist-packages/pandas/core/indexing.py:1743: SettingWithCopyWarning: \n",
            "A value is trying to be set on a copy of a slice from a DataFrame.\n",
            "Try using .loc[row_indexer,col_indexer] = value instead\n",
            "\n",
            "See the caveats in the documentation: https://pandas.pydata.org/pandas-docs/stable/user_guide/indexing.html#returning-a-view-versus-a-copy\n",
            "  isetter(ilocs[0], value)\n"
          ],
          "name": "stderr"
        }
      ]
    },
    {
      "cell_type": "code",
      "metadata": {
        "id": "changing-teens",
        "colab": {
          "base_uri": "https://localhost:8080/",
          "height": 290
        },
        "outputId": "a75ba228-a6e2-4d12-e4fa-599f52230d01"
      },
      "source": [
        "X.describe()"
      ],
      "id": "changing-teens",
      "execution_count": 25,
      "outputs": [
        {
          "output_type": "execute_result",
          "data": {
            "text/html": [
              "<div>\n",
              "<style scoped>\n",
              "    .dataframe tbody tr th:only-of-type {\n",
              "        vertical-align: middle;\n",
              "    }\n",
              "\n",
              "    .dataframe tbody tr th {\n",
              "        vertical-align: top;\n",
              "    }\n",
              "\n",
              "    .dataframe thead th {\n",
              "        text-align: right;\n",
              "    }\n",
              "</style>\n",
              "<table border=\"1\" class=\"dataframe\">\n",
              "  <thead>\n",
              "    <tr style=\"text-align: right;\">\n",
              "      <th></th>\n",
              "      <th>affrentbin</th>\n",
              "      <th>OWNERSHP</th>\n",
              "      <th>EDUCbin</th>\n",
              "      <th>CIHISPEED</th>\n",
              "      <th>TRANTIME</th>\n",
              "    </tr>\n",
              "  </thead>\n",
              "  <tbody>\n",
              "    <tr>\n",
              "      <th>count</th>\n",
              "      <td>1.807672e+06</td>\n",
              "      <td>1.807672e+06</td>\n",
              "      <td>1.807672e+06</td>\n",
              "      <td>1.807672e+06</td>\n",
              "      <td>1.807672e+06</td>\n",
              "    </tr>\n",
              "    <tr>\n",
              "      <th>mean</th>\n",
              "      <td>9.802171e-01</td>\n",
              "      <td>3.864191e-01</td>\n",
              "      <td>3.305279e-01</td>\n",
              "      <td>2.597458e-02</td>\n",
              "      <td>9.352527e-02</td>\n",
              "    </tr>\n",
              "    <tr>\n",
              "      <th>std</th>\n",
              "      <td>1.392535e-01</td>\n",
              "      <td>4.869287e-01</td>\n",
              "      <td>4.704034e-01</td>\n",
              "      <td>1.180878e-02</td>\n",
              "      <td>1.555622e-01</td>\n",
              "    </tr>\n",
              "    <tr>\n",
              "      <th>min</th>\n",
              "      <td>-0.000000e+00</td>\n",
              "      <td>-0.000000e+00</td>\n",
              "      <td>0.000000e+00</td>\n",
              "      <td>0.000000e+00</td>\n",
              "      <td>-0.000000e+00</td>\n",
              "    </tr>\n",
              "    <tr>\n",
              "      <th>25%</th>\n",
              "      <td>1.000000e+00</td>\n",
              "      <td>-0.000000e+00</td>\n",
              "      <td>0.000000e+00</td>\n",
              "      <td>2.500000e-02</td>\n",
              "      <td>-0.000000e+00</td>\n",
              "    </tr>\n",
              "    <tr>\n",
              "      <th>50%</th>\n",
              "      <td>1.000000e+00</td>\n",
              "      <td>-0.000000e+00</td>\n",
              "      <td>0.000000e+00</td>\n",
              "      <td>2.500000e-02</td>\n",
              "      <td>-0.000000e+00</td>\n",
              "    </tr>\n",
              "    <tr>\n",
              "      <th>75%</th>\n",
              "      <td>1.000000e+00</td>\n",
              "      <td>1.000000e+00</td>\n",
              "      <td>1.000000e+00</td>\n",
              "      <td>2.500000e-02</td>\n",
              "      <td>1.408451e-01</td>\n",
              "    </tr>\n",
              "    <tr>\n",
              "      <th>max</th>\n",
              "      <td>1.000000e+00</td>\n",
              "      <td>1.000000e+00</td>\n",
              "      <td>1.000000e+00</td>\n",
              "      <td>5.000000e-02</td>\n",
              "      <td>1.000000e+00</td>\n",
              "    </tr>\n",
              "  </tbody>\n",
              "</table>\n",
              "</div>"
            ],
            "text/plain": [
              "         affrentbin      OWNERSHP       EDUCbin     CIHISPEED      TRANTIME\n",
              "count  1.807672e+06  1.807672e+06  1.807672e+06  1.807672e+06  1.807672e+06\n",
              "mean   9.802171e-01  3.864191e-01  3.305279e-01  2.597458e-02  9.352527e-02\n",
              "std    1.392535e-01  4.869287e-01  4.704034e-01  1.180878e-02  1.555622e-01\n",
              "min   -0.000000e+00 -0.000000e+00  0.000000e+00  0.000000e+00 -0.000000e+00\n",
              "25%    1.000000e+00 -0.000000e+00  0.000000e+00  2.500000e-02 -0.000000e+00\n",
              "50%    1.000000e+00 -0.000000e+00  0.000000e+00  2.500000e-02 -0.000000e+00\n",
              "75%    1.000000e+00  1.000000e+00  1.000000e+00  2.500000e-02  1.408451e-01\n",
              "max    1.000000e+00  1.000000e+00  1.000000e+00  5.000000e-02  1.000000e+00"
            ]
          },
          "metadata": {
            "tags": []
          },
          "execution_count": 25
        }
      ]
    },
    {
      "cell_type": "code",
      "metadata": {
        "id": "healthy-custom"
      },
      "source": [
        "wcss = []\n",
        "for i in range(1, 11):\n",
        "    kmeans = KMeans(n_clusters = i, init = 'k-means++', random_state = 42)\n",
        "    kmeans.fit(X)\n",
        "    # inertia method returns wcss for that model\n",
        "    wcss.append(kmeans.inertia_)"
      ],
      "id": "healthy-custom",
      "execution_count": 26,
      "outputs": []
    },
    {
      "cell_type": "code",
      "metadata": {
        "id": "inside-photography",
        "colab": {
          "base_uri": "https://localhost:8080/",
          "height": 402
        },
        "outputId": "2f06cb62-dcc4-4fd5-bc3a-2d1925f3e8d7"
      },
      "source": [
        "plt.figure(figsize=(10,5))\n",
        "sns.lineplot(range(1, 11), wcss,marker='o',color='red')\n",
        "plt.title('The Elbow Method')\n",
        "plt.xlabel('Number of clusters')\n",
        "plt.ylabel('WCSS')\n",
        "plt.show()"
      ],
      "id": "inside-photography",
      "execution_count": 27,
      "outputs": [
        {
          "output_type": "stream",
          "text": [
            "/usr/local/lib/python3.7/dist-packages/seaborn/_decorators.py:43: FutureWarning: Pass the following variables as keyword args: x, y. From version 0.12, the only valid positional argument will be `data`, and passing other arguments without an explicit keyword will result in an error or misinterpretation.\n",
            "  FutureWarning\n"
          ],
          "name": "stderr"
        },
        {
          "output_type": "display_data",
          "data": {
            "image/png": "[encoded data removed]",
            "text/plain": [
              "<Figure size 720x360 with 1 Axes>"
            ]
          },
          "metadata": {
            "tags": [],
            "needs_background": "light"
          }
        }
      ]
    },
    {
      "cell_type": "code",
      "metadata": {
        "id": "hidden-minneapolis",
        "colab": {
          "base_uri": "https://localhost:8080/"
        },
        "outputId": "d11801a4-87a5-4051-a115-38f8012fd152"
      },
      "source": [
        "kmeans = KMeans(n_clusters = 4, init = 'k-means++', random_state = 42)\n",
        "kmeans.fit(X)\n",
        "print(kmeans.labels_)"
      ],
      "id": "hidden-minneapolis",
      "execution_count": 34,
      "outputs": [
        {
          "output_type": "stream",
          "text": [
            "[3 0 2 ... 1 2 2]\n"
          ],
          "name": "stdout"
        }
      ]
    },
    {
      "cell_type": "code",
      "metadata": {
        "id": "mature-image",
        "colab": {
          "base_uri": "https://localhost:8080/",
          "height": 297
        },
        "outputId": "e8ca5b40-4945-4bea-a996-2afdc601f4bc"
      },
      "source": [
        "X['labels'] = kmeans.labels_\n",
        "cluster_sum = X.groupby(by = 'labels').mean()\n",
        "cluster_sum.head()"
      ],
      "id": "mature-image",
      "execution_count": 35,
      "outputs": [
        {
          "output_type": "stream",
          "text": [
            "/usr/local/lib/python3.7/dist-packages/ipykernel_launcher.py:1: SettingWithCopyWarning: \n",
            "A value is trying to be set on a copy of a slice from a DataFrame.\n",
            "Try using .loc[row_indexer,col_indexer] = value instead\n",
            "\n",
            "See the caveats in the documentation: https://pandas.pydata.org/pandas-docs/stable/user_guide/indexing.html#returning-a-view-versus-a-copy\n",
            "  \"\"\"Entry point for launching an IPython kernel.\n"
          ],
          "name": "stderr"
        },
        {
          "output_type": "execute_result",
          "data": {
            "text/html": [
              "<div>\n",
              "<style scoped>\n",
              "    .dataframe tbody tr th:only-of-type {\n",
              "        vertical-align: middle;\n",
              "    }\n",
              "\n",
              "    .dataframe tbody tr th {\n",
              "        vertical-align: top;\n",
              "    }\n",
              "\n",
              "    .dataframe thead th {\n",
              "        text-align: right;\n",
              "    }\n",
              "</style>\n",
              "<table border=\"1\" class=\"dataframe\">\n",
              "  <thead>\n",
              "    <tr style=\"text-align: right;\">\n",
              "      <th></th>\n",
              "      <th>affrentbin</th>\n",
              "      <th>OWNERSHP</th>\n",
              "      <th>EDUCbin</th>\n",
              "      <th>CIHISPEED</th>\n",
              "      <th>TRANTIME</th>\n",
              "    </tr>\n",
              "    <tr>\n",
              "      <th>labels</th>\n",
              "      <th></th>\n",
              "      <th></th>\n",
              "      <th></th>\n",
              "      <th></th>\n",
              "      <th></th>\n",
              "    </tr>\n",
              "  </thead>\n",
              "  <tbody>\n",
              "    <tr>\n",
              "      <th>0</th>\n",
              "      <td>1.000000</td>\n",
              "      <td>1.0</td>\n",
              "      <td>0.000000</td>\n",
              "      <td>0.025431</td>\n",
              "      <td>0.076648</td>\n",
              "    </tr>\n",
              "    <tr>\n",
              "      <th>1</th>\n",
              "      <td>1.000000</td>\n",
              "      <td>0.0</td>\n",
              "      <td>0.000000</td>\n",
              "      <td>0.026183</td>\n",
              "      <td>0.070387</td>\n",
              "    </tr>\n",
              "    <tr>\n",
              "      <th>2</th>\n",
              "      <td>1.000000</td>\n",
              "      <td>0.0</td>\n",
              "      <td>1.000000</td>\n",
              "      <td>0.026432</td>\n",
              "      <td>0.133198</td>\n",
              "    </tr>\n",
              "    <tr>\n",
              "      <th>3</th>\n",
              "      <td>0.829766</td>\n",
              "      <td>1.0</td>\n",
              "      <td>0.864888</td>\n",
              "      <td>0.025644</td>\n",
              "      <td>0.130612</td>\n",
              "    </tr>\n",
              "  </tbody>\n",
              "</table>\n",
              "</div>"
            ],
            "text/plain": [
              "        affrentbin  OWNERSHP   EDUCbin  CIHISPEED  TRANTIME\n",
              "labels                                                     \n",
              "0         1.000000       1.0  0.000000   0.025431  0.076648\n",
              "1         1.000000       0.0  0.000000   0.026183  0.070387\n",
              "2         1.000000       0.0  1.000000   0.026432  0.133198\n",
              "3         0.829766       1.0  0.864888   0.025644  0.130612"
            ]
          },
          "metadata": {
            "tags": []
          },
          "execution_count": 35
        }
      ]
    },
    {
      "cell_type": "code",
      "metadata": {
        "id": "adjusted-retailer",
        "colab": {
          "base_uri": "https://localhost:8080/",
          "height": 290
        },
        "outputId": "48e6f5d2-44af-47b5-bcd4-541b43733581"
      },
      "source": [
        "X.describe()"
      ],
      "id": "adjusted-retailer",
      "execution_count": 36,
      "outputs": [
        {
          "output_type": "execute_result",
          "data": {
            "text/html": [
              "<div>\n",
              "<style scoped>\n",
              "    .dataframe tbody tr th:only-of-type {\n",
              "        vertical-align: middle;\n",
              "    }\n",
              "\n",
              "    .dataframe tbody tr th {\n",
              "        vertical-align: top;\n",
              "    }\n",
              "\n",
              "    .dataframe thead th {\n",
              "        text-align: right;\n",
              "    }\n",
              "</style>\n",
              "<table border=\"1\" class=\"dataframe\">\n",
              "  <thead>\n",
              "    <tr style=\"text-align: right;\">\n",
              "      <th></th>\n",
              "      <th>affrentbin</th>\n",
              "      <th>OWNERSHP</th>\n",
              "      <th>EDUCbin</th>\n",
              "      <th>CIHISPEED</th>\n",
              "      <th>TRANTIME</th>\n",
              "      <th>labels</th>\n",
              "    </tr>\n",
              "  </thead>\n",
              "  <tbody>\n",
              "    <tr>\n",
              "      <th>count</th>\n",
              "      <td>1.807672e+06</td>\n",
              "      <td>1.807672e+06</td>\n",
              "      <td>1.807672e+06</td>\n",
              "      <td>1.807672e+06</td>\n",
              "      <td>1.807672e+06</td>\n",
              "      <td>1.807672e+06</td>\n",
              "    </tr>\n",
              "    <tr>\n",
              "      <th>mean</th>\n",
              "      <td>9.802171e-01</td>\n",
              "      <td>3.864191e-01</td>\n",
              "      <td>3.305279e-01</td>\n",
              "      <td>2.597458e-02</td>\n",
              "      <td>9.352527e-02</td>\n",
              "      <td>1.192231e+00</td>\n",
              "    </tr>\n",
              "    <tr>\n",
              "      <th>std</th>\n",
              "      <td>1.392535e-01</td>\n",
              "      <td>4.869287e-01</td>\n",
              "      <td>4.704034e-01</td>\n",
              "      <td>1.180878e-02</td>\n",
              "      <td>1.555622e-01</td>\n",
              "      <td>9.633882e-01</td>\n",
              "    </tr>\n",
              "    <tr>\n",
              "      <th>min</th>\n",
              "      <td>-0.000000e+00</td>\n",
              "      <td>-0.000000e+00</td>\n",
              "      <td>0.000000e+00</td>\n",
              "      <td>0.000000e+00</td>\n",
              "      <td>-0.000000e+00</td>\n",
              "      <td>0.000000e+00</td>\n",
              "    </tr>\n",
              "    <tr>\n",
              "      <th>25%</th>\n",
              "      <td>1.000000e+00</td>\n",
              "      <td>-0.000000e+00</td>\n",
              "      <td>0.000000e+00</td>\n",
              "      <td>2.500000e-02</td>\n",
              "      <td>-0.000000e+00</td>\n",
              "      <td>0.000000e+00</td>\n",
              "    </tr>\n",
              "    <tr>\n",
              "      <th>50%</th>\n",
              "      <td>1.000000e+00</td>\n",
              "      <td>-0.000000e+00</td>\n",
              "      <td>0.000000e+00</td>\n",
              "      <td>2.500000e-02</td>\n",
              "      <td>-0.000000e+00</td>\n",
              "      <td>1.000000e+00</td>\n",
              "    </tr>\n",
              "    <tr>\n",
              "      <th>75%</th>\n",
              "      <td>1.000000e+00</td>\n",
              "      <td>1.000000e+00</td>\n",
              "      <td>1.000000e+00</td>\n",
              "      <td>2.500000e-02</td>\n",
              "      <td>1.408451e-01</td>\n",
              "      <td>2.000000e+00</td>\n",
              "    </tr>\n",
              "    <tr>\n",
              "      <th>max</th>\n",
              "      <td>1.000000e+00</td>\n",
              "      <td>1.000000e+00</td>\n",
              "      <td>1.000000e+00</td>\n",
              "      <td>5.000000e-02</td>\n",
              "      <td>1.000000e+00</td>\n",
              "      <td>3.000000e+00</td>\n",
              "    </tr>\n",
              "  </tbody>\n",
              "</table>\n",
              "</div>"
            ],
            "text/plain": [
              "         affrentbin      OWNERSHP  ...      TRANTIME        labels\n",
              "count  1.807672e+06  1.807672e+06  ...  1.807672e+06  1.807672e+06\n",
              "mean   9.802171e-01  3.864191e-01  ...  9.352527e-02  1.192231e+00\n",
              "std    1.392535e-01  4.869287e-01  ...  1.555622e-01  9.633882e-01\n",
              "min   -0.000000e+00 -0.000000e+00  ... -0.000000e+00  0.000000e+00\n",
              "25%    1.000000e+00 -0.000000e+00  ... -0.000000e+00  0.000000e+00\n",
              "50%    1.000000e+00 -0.000000e+00  ... -0.000000e+00  1.000000e+00\n",
              "75%    1.000000e+00  1.000000e+00  ...  1.408451e-01  2.000000e+00\n",
              "max    1.000000e+00  1.000000e+00  ...  1.000000e+00  3.000000e+00\n",
              "\n",
              "[8 rows x 6 columns]"
            ]
          },
          "metadata": {
            "tags": []
          },
          "execution_count": 36
        }
      ]
    },
    {
      "cell_type": "code",
      "metadata": {
        "id": "martial-malawi",
        "colab": {
          "base_uri": "https://localhost:8080/",
          "height": 200
        },
        "outputId": "1d1c1a3c-3e84-484c-caaf-7e56dbead110"
      },
      "source": [
        "Xcorr=X.iloc[:, [0,1,2,3,4]]\n",
        "Xcorr.head()"
      ],
      "id": "martial-malawi",
      "execution_count": 39,
      "outputs": [
        {
          "output_type": "execute_result",
          "data": {
            "text/html": [
              "<div>\n",
              "<style scoped>\n",
              "    .dataframe tbody tr th:only-of-type {\n",
              "        vertical-align: middle;\n",
              "    }\n",
              "\n",
              "    .dataframe tbody tr th {\n",
              "        vertical-align: top;\n",
              "    }\n",
              "\n",
              "    .dataframe thead th {\n",
              "        text-align: right;\n",
              "    }\n",
              "</style>\n",
              "<table border=\"1\" class=\"dataframe\">\n",
              "  <thead>\n",
              "    <tr style=\"text-align: right;\">\n",
              "      <th></th>\n",
              "      <th>affrentbin</th>\n",
              "      <th>OWNERSHP</th>\n",
              "      <th>EDUCbin</th>\n",
              "      <th>CIHISPEED</th>\n",
              "      <th>TRANTIME</th>\n",
              "    </tr>\n",
              "  </thead>\n",
              "  <tbody>\n",
              "    <tr>\n",
              "      <th>0</th>\n",
              "      <td>1.0</td>\n",
              "      <td>1.0</td>\n",
              "      <td>1</td>\n",
              "      <td>0.025</td>\n",
              "      <td>0.070423</td>\n",
              "    </tr>\n",
              "    <tr>\n",
              "      <th>1</th>\n",
              "      <td>1.0</td>\n",
              "      <td>1.0</td>\n",
              "      <td>0</td>\n",
              "      <td>0.025</td>\n",
              "      <td>-0.000000</td>\n",
              "    </tr>\n",
              "    <tr>\n",
              "      <th>2</th>\n",
              "      <td>1.0</td>\n",
              "      <td>-0.0</td>\n",
              "      <td>1</td>\n",
              "      <td>0.025</td>\n",
              "      <td>-0.000000</td>\n",
              "    </tr>\n",
              "    <tr>\n",
              "      <th>3</th>\n",
              "      <td>1.0</td>\n",
              "      <td>-0.0</td>\n",
              "      <td>1</td>\n",
              "      <td>0.025</td>\n",
              "      <td>0.176056</td>\n",
              "    </tr>\n",
              "    <tr>\n",
              "      <th>4</th>\n",
              "      <td>1.0</td>\n",
              "      <td>-0.0</td>\n",
              "      <td>0</td>\n",
              "      <td>0.025</td>\n",
              "      <td>-0.000000</td>\n",
              "    </tr>\n",
              "  </tbody>\n",
              "</table>\n",
              "</div>"
            ],
            "text/plain": [
              "   affrentbin  OWNERSHP  EDUCbin  CIHISPEED  TRANTIME\n",
              "0         1.0       1.0        1      0.025  0.070423\n",
              "1         1.0       1.0        0      0.025 -0.000000\n",
              "2         1.0      -0.0        1      0.025 -0.000000\n",
              "3         1.0      -0.0        1      0.025  0.176056\n",
              "4         1.0      -0.0        0      0.025 -0.000000"
            ]
          },
          "metadata": {
            "tags": []
          },
          "execution_count": 39
        }
      ]
    },
    {
      "cell_type": "code",
      "metadata": {
        "id": "alien-academy",
        "colab": {
          "base_uri": "https://localhost:8080/",
          "height": 612
        },
        "outputId": "5d419221-f0aa-4f11-b5f8-fefdbaa66a99"
      },
      "source": [
        "plt.subplots(figsize=(15,10))\n",
        "sns.heatmap(Xcorr.corr(), annot = True)"
      ],
      "id": "alien-academy",
      "execution_count": 40,
      "outputs": [
        {
          "output_type": "execute_result",
          "data": {
            "text/plain": [
              "<matplotlib.axes._subplots.AxesSubplot at 0x7f1969781450>"
            ]
          },
          "metadata": {
            "tags": []
          },
          "execution_count": 40
        },
        {
          "output_type": "display_data",
          "data": {
            "image/png": "[encoded data removed]",
            "text/plain": [
              "<Figure size 1080x720 with 2 Axes>"
            ]
          },
          "metadata": {
            "tags": [],
            "needs_background": "light"
          }
        }
      ]
    },
    {
      "cell_type": "code",
      "metadata": {
        "id": "gDk_JmBThjVi"
      },
      "source": [
        ""
      ],
      "id": "gDk_JmBThjVi",
      "execution_count": null,
      "outputs": []
    }
  ]
}