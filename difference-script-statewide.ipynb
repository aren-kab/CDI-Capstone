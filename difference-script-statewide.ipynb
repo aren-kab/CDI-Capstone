{
 "cells": [
  {
   "cell_type": "code",
   "execution_count": 27,
   "metadata": {},
   "outputs": [],
   "source": [
    "import matplotlib as mpl\n",
    "import pandas as pd"
   ]
  },
  {
   "cell_type": "code",
   "execution_count": 52,
   "metadata": {},
   "outputs": [
    {
     "name": "stderr",
     "output_type": "stream",
     "text": [
      "C:\\Users\\mcarp\\anaconda3\\lib\\site-packages\\IPython\\core\\interactiveshell.py:3156: DtypeWarning: Columns (20) have mixed types.Specify dtype option on import or set low_memory=False.\n",
      "  interactivity=interactivity, compiler=compiler, result=result)\n"
     ]
    }
   ],
   "source": [
    "affordable_rent = pd.read_csv(\"https://www.dropbox.com/sh/kfa4leubphs4ath/AAC5_RUtYLw_VkuA8eVkv5L4a/data/affordable_rent.csv?dl=1\")\n",
    "air_quality = pd.read_csv(\"https://www.dropbox.com/sh/kfa4leubphs4ath/AADcS8GQqTWuKaXnyJpmjn-wa/data/airquality.csv?dl=1\")\n",
    "broadbandavailability = pd.read_csv(\"https://www.dropbox.com/sh/kfa4leubphs4ath/AAAD0Dvyk37HKM5q2Eu-9C2za/data/broadbandavailability.csv?dl=1\")\n",
    "college= pd.read_csv(\"https://www.dropbox.com/sh/kfa4leubphs4ath/AADH3hjqQX_rEYs7gEOEsZ1Pa/data/college.csv?dl=1\")\n",
    "costofliving = pd.read_csv(\"https://www.dropbox.com/sh/kfa4leubphs4ath/AAAeGgWQiK06lA4b8gMU5rIga/data/costofliving.csv?dl=1\")\n",
    "drinkingwater = pd.read_csv(\"https://www.dropbox.com/sh/kfa4leubphs4ath/AADusw8OVLkffahXTbyXnbBba/data/drinkingwater.csv?dl=1\")\n",
    "earlychildhoodeducation = pd.read_csv(\"https://www.dropbox.com/sh/kfa4leubphs4ath/AABiMATGi6bWOCNPgQQ3m_V1a/data/earlychildhoodeducation.csv?dl=1\")\n",
    "homeownership = pd.read_csv(\"https://www.dropbox.com/sh/kfa4leubphs4ath/AAB6TaShTnx_2iqXB38WKeN4a/data/homeownership.csv?dl=1\")\n",
    "overall_score = pd.read_csv(\"https://www.dropbox.com/sh/kfa4leubphs4ath/AAAKVIOp5LsBYpAQbwRtG-CLa/data/overall_score.csv?dl=1\")\n",
    "prosperousneighborhoods = pd.read_csv(\"https://www.dropbox.com/sh/kfa4leubphs4ath/AAAnv7HGyDwS-SEm45lO4U_ua/data/prosperousneighborhoods.csv?dl=1\")\n",
    "shortcommutes = pd.read_csv(\"https://www.dropbox.com/sh/kfa4leubphs4ath/AAAvyYIQj7eEIIz2cM4rcQlPa/data/shortcommutes.csv?dl=1\")"
   ]
  },
  {
   "cell_type": "code",
   "execution_count": 5,
   "metadata": {},
   "outputs": [],
   "source": [
    "indicators = ['affordable_rent','airquality','broadbandavailability','college','costofliving','drinkingwater','earlychildhoodeducation','homeownership','overall_score','prosperousneighborhoods','shortcommutes']"
   ]
  },
  {
   "cell_type": "code",
   "execution_count": 29,
   "metadata": {},
   "outputs": [],
   "source": [
    "def year_statewide(df,year,indicator):\n",
    "    df = df.copy(deep=True)\n",
    "    df = df.loc[df['year']==year]\n",
    "    df = df[['year','total', 'geography_id']]\n",
    "    df['geography_id_len'] = df['geography_id'].astype(str).map(len)\n",
    "    df = df.loc[df['geography_id_len']==11]\n",
    "    df = df.drop(df[df['geography_id'] == 'los-angeles'].index)   \n",
    "    df= df.sort_values(by= 'geography_id')\n",
    "    df['Name'] = (df['geography_id'].str.slice(5,11)).astype(int)\n",
    "    df['Census-Tract-Name'] = df['Name']*.01\n",
    "    df['total']=df['total']*100\n",
    "    df = df[['geography_id','Census-Tract-Name','year','total']]\n",
    "    df = df.round(2)\n",
    "    df.columns= ['GEOID','Tract-Name','Year','Total']\n",
    "    df = df.fillna(0)\n",
    "    df['Total'] = df['Total'].astype(int)\n",
    "    df['GEOID']=(df['GEOID'].str.slice(2,11)) #datawrapper specific - cuts off first 2 of geoID\n",
    "    df = df.drop(df[df['Tract-Name'] >= 9900 ].index)   #Get rid of large bodies of water\n",
    "    return (df)"
   ]
  },
  {
   "cell_type": "code",
   "execution_count": 58,
   "metadata": {},
   "outputs": [],
   "source": [
    "def year_statewide2(df,year,indicator):\n",
    "    df = df.copy(deep=True)\n",
    "    df = df.loc[df['year']==year]\n",
    "    df = df[['year','total', 'geography_id']]\n",
    "    df['geography_id_len'] = df['geography_id'].astype(str).map(len)\n",
    "    df = df.loc[df['geography_id_len']==11]\n",
    "    df = df.drop(df[df['geography_id'] == 'los-angeles'].index)   \n",
    "    df= df.sort_values(by= 'geography_id')\n",
    "    df['Name'] = (df['geography_id'].str.slice(5,11)).astype(int)\n",
    "    df['Census-Tract-Name'] = df['Name']*.01\n",
    "    #df['total']=df['total']*100 # removed for indicator values not in decimal form\n",
    "    df = df[['geography_id','Census-Tract-Name','year','total']]\n",
    "    df = df.round(2)\n",
    "    df.columns= ['GEOID','Tract-Name','Year','Total']\n",
    "    df = df.fillna(0)\n",
    "    df['Total'] = df['Total'].astype(int)\n",
    "    df['GEOID']=(df['GEOID'].str.slice(2,11)) #datawrapper specific - cuts off first 2 of geoID\n",
    "    df = df.drop(df[df['Tract-Name'] >= 9900 ].index)   #Get rid of large bodies of water\n",
    "    return (df)"
   ]
  },
  {
   "cell_type": "code",
   "execution_count": 60,
   "metadata": {},
   "outputs": [],
   "source": [
    "def score_difference(df, year1, year2, indicator):\n",
    "    scores1=year_statewide(df,year1,indicator)\n",
    "    scores2=year_statewide(df,year2,indicator)\n",
    "    scores1=scores1.reset_index()\n",
    "    scores2=scores2.reset_index()\n",
    "    scoresD=scores1.copy()\n",
    "    scoresD['{0} Scores - {1} Scores'.format(year2,year1)] = scores2['Total'] - scores1['Total']\n",
    "    del scoresD['Total']\n",
    "    del scoresD['Year']\n",
    "    del scoresD['index']\n",
    "    scoresD.to_csv('scoresDiff{0}-{1}_{2}.csv'.format(year2,year1,indicator), index=False)"
   ]
  },
  {
   "cell_type": "code",
   "execution_count": 61,
   "metadata": {},
   "outputs": [],
   "source": [
    "def score_difference2(df, year1, year2, indicator):\n",
    "    scores1=year_statewide2(df,year1,indicator)\n",
    "    scores2=year_statewide2(df,year2,indicator)\n",
    "    scores1=scores1.reset_index()\n",
    "    scores2=scores2.reset_index()\n",
    "    scoresD=scores1.copy()\n",
    "    scoresD['{0} Scores - {1} Scores'.format(year2,year1)] = scores2['Total'] - scores1['Total']\n",
    "    del scoresD['Total']\n",
    "    del scoresD['Year']\n",
    "    del scoresD['index']\n",
    "    scoresD.to_csv('scoresDiff{0}-{1}_{2}.csv'.format(year2,year1,indicator), index=False)"
   ]
  },
  {
   "cell_type": "code",
   "execution_count": 56,
   "metadata": {},
   "outputs": [],
   "source": [
    "score_difference(affordable_rent,2010,2019,'affordable_rent')\n",
    "score_difference(broadbandavailability,2010,2019,'broadbandavailability')\n",
    "score_difference(college,2010,2019,'college')\n",
    "score_difference(costofliving,2010,2019,'costofliving')\n",
    "score_difference(drinkingwater,2010,2019,'drinkingwater')\n",
    "score_difference(earlychildhoodeducation,2010,2019,'earlychildhoodeducation')\n",
    "score_difference(homeownership,2010,2019,'homeownership')\n",
    "score_difference(prosperousneighborhoods,2010,2019,'prosperousneighborhoods')\n",
    "score_difference(overall_score,2010,2019,'overall_score')"
   ]
  },
  {
   "cell_type": "code",
   "execution_count": 63,
   "metadata": {},
   "outputs": [],
   "source": [
    "score_difference2(air_quality,2010,2019,'airquality')\n",
    "score_difference2(shortcommutes,2010,2019,'shortcommutes')"
   ]
  }
 ],
 "metadata": {
  "kernelspec": {
   "display_name": "Python 3",
   "language": "python",
   "name": "python3"
  },
  "language_info": {
   "codemirror_mode": {
    "name": "ipython",
    "version": 3
   },
   "file_extension": ".py",
   "mimetype": "text/x-python",
   "name": "python",
   "nbconvert_exporter": "python",
   "pygments_lexer": "ipython3",
   "version": "3.7.6"
  }
 },
 "nbformat": 4,
 "nbformat_minor": 4
}
