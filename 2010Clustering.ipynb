{
 "cells": [
  {
   "cell_type": "code",
   "execution_count": 1,
   "id": "fallen-aspect",
   "metadata": {},
   "outputs": [],
   "source": [
    "import pandas as pd\n",
    "import numpy as np\n",
    "import datetime as dt\n",
    "import matplotlib\n",
    "import matplotlib.pyplot as plt\n",
    "import scipy.cluster.hierarchy as shc\n",
    "from sklearn.cluster import AgglomerativeClustering\n",
    "import os\n",
    "import seaborn as sns"
   ]
  },
  {
   "cell_type": "code",
   "execution_count": 2,
   "id": "white-apartment",
   "metadata": {},
   "outputs": [],
   "source": [
    "from sklearn.cluster import KMeans\n",
    "from scipy.spatial.distance import cdist, pdist\n",
    "from sklearn.datasets import make_classification\n",
    "from sklearn.datasets import make_blobs\n",
    "from sklearn.metrics import silhouette_samples, silhouette_score\n",
    "import matplotlib.cm as cm\n",
    "from sklearn.mixture import GaussianMixture\n",
    "from sklearn.cluster import DBSCAN\n",
    "from sklearn import preprocessing\n",
    "from sklearn.preprocessing import StandardScaler"
   ]
  },
  {
   "cell_type": "code",
   "execution_count": 3,
   "id": "radio-reviewer",
   "metadata": {},
   "outputs": [],
   "source": [
    "fileName = 'C:/Users/mcarp/Downloads/usa_00008.csv/usa_00008.csv'\n",
    "file = pd.read_csv(fileName)\n",
    "dfCDI = pd.DataFrame(file)"
   ]
  },
  {
   "cell_type": "code",
   "execution_count": 4,
   "id": "eleven-mason",
   "metadata": {},
   "outputs": [],
   "source": [
    "fileName2 = 'C:/Users/mcarp/Downloads/county_merged2010.xlsx - Sheet1.csv'\n",
    "file2 = pd.read_csv(fileName2)\n",
    "dfCty = pd.DataFrame(file2)"
   ]
  },
  {
   "cell_type": "code",
   "execution_count": 5,
   "id": "personalized-manor",
   "metadata": {},
   "outputs": [
    {
     "name": "stdout",
     "output_type": "stream",
     "text": [
      "<class 'pandas.core.frame.DataFrame'>\n",
      "RangeIndex: 1753741 entries, 0 to 1753740\n",
      "Data columns (total 38 columns):\n",
      " #   Column      Dtype  \n",
      "---  ------      -----  \n",
      " 0   YEAR        int64  \n",
      " 1   MULTYEAR    int64  \n",
      " 2   SAMPLE      int64  \n",
      " 3   SERIAL      int64  \n",
      " 4   CBSERIAL    int64  \n",
      " 5   HHWT        float64\n",
      " 6   CLUSTER     int64  \n",
      " 7   CPI99       float64\n",
      " 8   STATEFIP    int64  \n",
      " 9   COUNTYFIP   int64  \n",
      " 10  DENSITY     float64\n",
      " 11  CITY        int64  \n",
      " 12  PUMA        int64  \n",
      " 13  STRATA      int64  \n",
      " 14  GQ          int64  \n",
      " 15  OWNERSHP    int64  \n",
      " 16  OWNERSHPD   int64  \n",
      " 17  OWNCOST     int64  \n",
      " 18  RENTGRS     int64  \n",
      " 19  HHINCOME    int64  \n",
      " 20  PERNUM      int64  \n",
      " 21  PERWT       float64\n",
      " 22  FAMSIZE     int64  \n",
      " 23  AGE         int64  \n",
      " 24  RACE        int64  \n",
      " 25  RACED       int64  \n",
      " 26  HISPAN      int64  \n",
      " 27  HISPAND     int64  \n",
      " 28  EDUC        int64  \n",
      " 29  EDUCD       int64  \n",
      " 30  OCCSOC      object \n",
      " 31  INDNAICS    object \n",
      " 32  INCTOT      int64  \n",
      " 33  FTOTINC     int64  \n",
      " 34  INCWAGE     int64  \n",
      " 35  MIGCOUNTY1  int64  \n",
      " 36  MOVEDIN     int64  \n",
      " 37  TRANTIME    int64  \n",
      "dtypes: float64(4), int64(32), object(2)\n",
      "memory usage: 508.4+ MB\n"
     ]
    }
   ],
   "source": [
    "dfCDI.info()"
   ]
  },
  {
   "cell_type": "code",
   "execution_count": 6,
   "id": "finished-bloom",
   "metadata": {},
   "outputs": [
    {
     "data": {
      "text/plain": [
       "(1753741, 38)"
      ]
     },
     "execution_count": 6,
     "metadata": {},
     "output_type": "execute_result"
    }
   ],
   "source": [
    "dfCDI.shape"
   ]
  },
  {
   "cell_type": "code",
   "execution_count": 7,
   "id": "fifteen-forwarding",
   "metadata": {},
   "outputs": [
    {
     "data": {
      "text/plain": [
       "(1253598, 38)"
      ]
     },
     "execution_count": 7,
     "metadata": {},
     "output_type": "execute_result"
    }
   ],
   "source": [
    "dfCDI = dfCDI[dfCDI['AGE']>=21]\n",
    "dfCDI.shape"
   ]
  },
  {
   "cell_type": "code",
   "execution_count": 8,
   "id": "subsequent-milan",
   "metadata": {},
   "outputs": [
    {
     "data": {
      "text/plain": [
       "0       860271\n",
       "810       1569\n",
       "800       1394\n",
       "1220      1377\n",
       "820       1334\n",
       "         ...  \n",
       "49           1\n",
       "4146         1\n",
       "3025         1\n",
       "3787         1\n",
       "3608         1\n",
       "Name: RENTGRS, Length: 3925, dtype: int64"
      ]
     },
     "execution_count": 8,
     "metadata": {},
     "output_type": "execute_result"
    }
   ],
   "source": [
    "dfCDI.RENTGRS.value_counts()"
   ]
  },
  {
   "cell_type": "code",
   "execution_count": 9,
   "id": "complete-arctic",
   "metadata": {},
   "outputs": [
    {
     "data": {
      "text/plain": [
       "count    810238.0\n",
       "mean          0.0\n",
       "std           0.0\n",
       "min           0.0\n",
       "25%           0.0\n",
       "50%           0.0\n",
       "75%           0.0\n",
       "max           0.0\n",
       "Name: RENTGRS, dtype: float64"
      ]
     },
     "execution_count": 9,
     "metadata": {},
     "output_type": "execute_result"
    }
   ],
   "source": [
    "dfHomeOwn=dfCDI[dfCDI['OWNERSHP']==1]\n",
    "dfHomeOwn.RENTGRS.describe()"
   ]
  },
  {
   "cell_type": "markdown",
   "id": "expressed-leave",
   "metadata": {},
   "source": [
    "This reveals that home owning rows all have 0 values for cost of rent."
   ]
  },
  {
   "cell_type": "code",
   "execution_count": 10,
   "id": "included-andrews",
   "metadata": {},
   "outputs": [
    {
     "data": {
      "text/plain": [
       "1    810238\n",
       "2    409307\n",
       "0     34053\n",
       "Name: OWNERSHP, dtype: int64"
      ]
     },
     "execution_count": 10,
     "metadata": {},
     "output_type": "execute_result"
    }
   ],
   "source": [
    "dfCDI['OWNERSHP'].value_counts()"
   ]
  },
  {
   "cell_type": "code",
   "execution_count": 11,
   "id": "right-writing",
   "metadata": {},
   "outputs": [
    {
     "data": {
      "text/plain": [
       "(1219545, 38)"
      ]
     },
     "execution_count": 11,
     "metadata": {},
     "output_type": "execute_result"
    }
   ],
   "source": [
    "dfCDI = dfCDI[dfCDI['OWNERSHP']!=0]\n",
    "dfCDI.shape"
   ]
  },
  {
   "cell_type": "markdown",
   "id": "revolutionary-charlotte",
   "metadata": {},
   "source": [
    "Removes N/As (~50k rows)"
   ]
  },
  {
   "cell_type": "code",
   "execution_count": 12,
   "id": "substantial-chemistry",
   "metadata": {},
   "outputs": [
    {
     "data": {
      "text/plain": [
       "0       826218\n",
       "810       1569\n",
       "800       1394\n",
       "1220      1377\n",
       "820       1334\n",
       "         ...  \n",
       "49           1\n",
       "4146         1\n",
       "3025         1\n",
       "3787         1\n",
       "3608         1\n",
       "Name: RENTGRS, Length: 3925, dtype: int64"
      ]
     },
     "execution_count": 12,
     "metadata": {},
     "output_type": "execute_result"
    }
   ],
   "source": [
    "dfCDI['RENTGRS'].value_counts()"
   ]
  },
  {
   "cell_type": "code",
   "execution_count": 13,
   "id": "incorporated-employer",
   "metadata": {},
   "outputs": [],
   "source": [
    "dfCDI['affrentdec'] = dfCDI['RENTGRS']*12/dfCDI['HHINCOME']"
   ]
  },
  {
   "cell_type": "code",
   "execution_count": 14,
   "id": "super-marathon",
   "metadata": {},
   "outputs": [],
   "source": [
    "def housingFunc(own, affrentdec):\n",
    "    if own==1:\n",
    "        housingCat=2\n",
    "    elif own==2 and affrentdec<.3:\n",
    "        housingCat=1\n",
    "    else:\n",
    "        housingCat=0\n",
    "    return housingCat"
   ]
  },
  {
   "cell_type": "code",
   "execution_count": 15,
   "id": "outstanding-finger",
   "metadata": {},
   "outputs": [
    {
     "data": {
      "text/plain": [
       "2    810238\n",
       "1    213086\n",
       "0    196221\n",
       "Name: HousingCat, dtype: int64"
      ]
     },
     "execution_count": 15,
     "metadata": {},
     "output_type": "execute_result"
    }
   ],
   "source": [
    "dfCDI['HousingCat'] = dfCDI.apply(lambda x: housingFunc(x['OWNERSHP'], x['affrentdec']), axis=1)\n",
    "dfCDI['HousingCat'].value_counts()"
   ]
  },
  {
   "cell_type": "markdown",
   "id": "talented-turkey",
   "metadata": {},
   "source": [
    "COMBINING aff. rent and home ownership into 1 indicator: 0, 1, 2 scores (0: rent>=30% income, 1: rent<30% income, 2: owner)"
   ]
  },
  {
   "cell_type": "code",
   "execution_count": 16,
   "id": "bibliographic-mission",
   "metadata": {},
   "outputs": [
    {
     "data": {
      "text/plain": [
       "0    738291\n",
       "1    481254\n",
       "Name: EDUCbin, dtype: int64"
      ]
     },
     "execution_count": 16,
     "metadata": {},
     "output_type": "execute_result"
    }
   ],
   "source": [
    "dfCDI['EDUCbin'] = [1 if x >=8 else 0 for x in dfCDI['EDUC']]\n",
    "dfCDI['EDUCbin'].value_counts()"
   ]
  },
  {
   "cell_type": "code",
   "execution_count": 17,
   "id": "bored-mineral",
   "metadata": {},
   "outputs": [
    {
     "data": {
      "text/plain": [
       "0      530850\n",
       "15     101569\n",
       "30     100776\n",
       "20      99530\n",
       "10      83993\n",
       "        ...  \n",
       "126         1\n",
       "82          1\n",
       "94          1\n",
       "92          1\n",
       "86          1\n",
       "Name: TRANTIME, Length: 126, dtype: int64"
      ]
     },
     "execution_count": 17,
     "metadata": {},
     "output_type": "execute_result"
    }
   ],
   "source": [
    "dfCDI['TRANTIME'].value_counts()"
   ]
  },
  {
   "cell_type": "code",
   "execution_count": 18,
   "id": "voluntary-conditions",
   "metadata": {},
   "outputs": [
    {
     "data": {
      "text/plain": [
       "(1219545, 41)"
      ]
     },
     "execution_count": 18,
     "metadata": {},
     "output_type": "execute_result"
    }
   ],
   "source": [
    "dfCDI.shape"
   ]
  },
  {
   "cell_type": "markdown",
   "id": "pretty-difficulty",
   "metadata": {},
   "source": [
    "## County-level merge"
   ]
  },
  {
   "cell_type": "code",
   "execution_count": 19,
   "id": "atomic-academy",
   "metadata": {},
   "outputs": [
    {
     "data": {
      "text/plain": [
       "(1170510, 58)"
      ]
     },
     "execution_count": 19,
     "metadata": {},
     "output_type": "execute_result"
    }
   ],
   "source": [
    "joined2019_2 = dfCDI.merge(dfCty, on='COUNTYFIP')\n",
    "joined2019_2.shape"
   ]
  },
  {
   "cell_type": "code",
   "execution_count": 20,
   "id": "likely-holocaust",
   "metadata": {},
   "outputs": [
    {
     "name": "stdout",
     "output_type": "stream",
     "text": [
      "39\n",
      "40\n",
      "37\n",
      "54\n",
      "56\n",
      "55\n",
      "57\n"
     ]
    }
   ],
   "source": [
    "print(joined2019_2.columns.get_loc(\"HousingCat\"))\n",
    "print(joined2019_2.columns.get_loc(\"EDUCbin\"))\n",
    "print(joined2019_2.columns.get_loc(\"TRANTIME\"))\n",
    "print(joined2019_2.columns.get_loc(\"DrinkingWater\"))\n",
    "print(joined2019_2.columns.get_loc(\"AirQuality\"))\n",
    "print(joined2019_2.columns.get_loc(\"EarlyEd\"))\n",
    "print(joined2019_2.columns.get_loc(\"ProspNeigh\"))"
   ]
  },
  {
   "cell_type": "code",
   "execution_count": 21,
   "id": "according-thong",
   "metadata": {},
   "outputs": [],
   "source": [
    "X = joined2019_2.iloc[:, [39,40,37,54,56,55,57]]"
   ]
  },
  {
   "cell_type": "code",
   "execution_count": 22,
   "id": "minimal-daily",
   "metadata": {},
   "outputs": [
    {
     "data": {
      "text/html": [
       "<div>\n",
       "<style scoped>\n",
       "    .dataframe tbody tr th:only-of-type {\n",
       "        vertical-align: middle;\n",
       "    }\n",
       "\n",
       "    .dataframe tbody tr th {\n",
       "        vertical-align: top;\n",
       "    }\n",
       "\n",
       "    .dataframe thead th {\n",
       "        text-align: right;\n",
       "    }\n",
       "</style>\n",
       "<table border=\"1\" class=\"dataframe\">\n",
       "  <thead>\n",
       "    <tr style=\"text-align: right;\">\n",
       "      <th></th>\n",
       "      <th>HousingCat</th>\n",
       "      <th>EDUCbin</th>\n",
       "      <th>TRANTIME</th>\n",
       "      <th>DrinkingWater</th>\n",
       "      <th>AirQuality</th>\n",
       "      <th>EarlyEd</th>\n",
       "      <th>ProspNeigh</th>\n",
       "    </tr>\n",
       "  </thead>\n",
       "  <tbody>\n",
       "    <tr>\n",
       "      <th>count</th>\n",
       "      <td>1.170510e+06</td>\n",
       "      <td>1.170510e+06</td>\n",
       "      <td>1.170510e+06</td>\n",
       "      <td>1170510.0</td>\n",
       "      <td>1.170510e+06</td>\n",
       "      <td>1.170510e+06</td>\n",
       "      <td>1.170510e+06</td>\n",
       "    </tr>\n",
       "    <tr>\n",
       "      <th>mean</th>\n",
       "      <td>1.499936e+00</td>\n",
       "      <td>3.981188e-01</td>\n",
       "      <td>1.560110e+01</td>\n",
       "      <td>1.0</td>\n",
       "      <td>3.486640e+01</td>\n",
       "      <td>5.090249e-01</td>\n",
       "      <td>8.312623e-01</td>\n",
       "    </tr>\n",
       "    <tr>\n",
       "      <th>std</th>\n",
       "      <td>7.582193e-01</td>\n",
       "      <td>4.895104e-01</td>\n",
       "      <td>2.179290e+01</td>\n",
       "      <td>0.0</td>\n",
       "      <td>7.366761e+00</td>\n",
       "      <td>7.035853e-02</td>\n",
       "      <td>9.973130e-02</td>\n",
       "    </tr>\n",
       "    <tr>\n",
       "      <th>min</th>\n",
       "      <td>0.000000e+00</td>\n",
       "      <td>0.000000e+00</td>\n",
       "      <td>0.000000e+00</td>\n",
       "      <td>1.0</td>\n",
       "      <td>1.900000e+01</td>\n",
       "      <td>3.300000e-01</td>\n",
       "      <td>5.633676e-01</td>\n",
       "    </tr>\n",
       "    <tr>\n",
       "      <th>25%</th>\n",
       "      <td>1.000000e+00</td>\n",
       "      <td>0.000000e+00</td>\n",
       "      <td>0.000000e+00</td>\n",
       "      <td>1.0</td>\n",
       "      <td>2.700000e+01</td>\n",
       "      <td>4.790000e-01</td>\n",
       "      <td>7.498056e-01</td>\n",
       "    </tr>\n",
       "    <tr>\n",
       "      <th>50%</th>\n",
       "      <td>2.000000e+00</td>\n",
       "      <td>0.000000e+00</td>\n",
       "      <td>1.000000e+01</td>\n",
       "      <td>1.0</td>\n",
       "      <td>3.800000e+01</td>\n",
       "      <td>5.320000e-01</td>\n",
       "      <td>8.438507e-01</td>\n",
       "    </tr>\n",
       "    <tr>\n",
       "      <th>75%</th>\n",
       "      <td>2.000000e+00</td>\n",
       "      <td>1.000000e+00</td>\n",
       "      <td>2.500000e+01</td>\n",
       "      <td>1.0</td>\n",
       "      <td>4.100000e+01</td>\n",
       "      <td>5.380000e-01</td>\n",
       "      <td>9.269250e-01</td>\n",
       "    </tr>\n",
       "    <tr>\n",
       "      <th>max</th>\n",
       "      <td>2.000000e+00</td>\n",
       "      <td>1.000000e+00</td>\n",
       "      <td>1.780000e+02</td>\n",
       "      <td>1.0</td>\n",
       "      <td>4.400000e+01</td>\n",
       "      <td>7.400000e-01</td>\n",
       "      <td>1.000000e+00</td>\n",
       "    </tr>\n",
       "  </tbody>\n",
       "</table>\n",
       "</div>"
      ],
      "text/plain": [
       "         HousingCat       EDUCbin      TRANTIME  DrinkingWater    AirQuality  \\\n",
       "count  1.170510e+06  1.170510e+06  1.170510e+06      1170510.0  1.170510e+06   \n",
       "mean   1.499936e+00  3.981188e-01  1.560110e+01            1.0  3.486640e+01   \n",
       "std    7.582193e-01  4.895104e-01  2.179290e+01            0.0  7.366761e+00   \n",
       "min    0.000000e+00  0.000000e+00  0.000000e+00            1.0  1.900000e+01   \n",
       "25%    1.000000e+00  0.000000e+00  0.000000e+00            1.0  2.700000e+01   \n",
       "50%    2.000000e+00  0.000000e+00  1.000000e+01            1.0  3.800000e+01   \n",
       "75%    2.000000e+00  1.000000e+00  2.500000e+01            1.0  4.100000e+01   \n",
       "max    2.000000e+00  1.000000e+00  1.780000e+02            1.0  4.400000e+01   \n",
       "\n",
       "            EarlyEd    ProspNeigh  \n",
       "count  1.170510e+06  1.170510e+06  \n",
       "mean   5.090249e-01  8.312623e-01  \n",
       "std    7.035853e-02  9.973130e-02  \n",
       "min    3.300000e-01  5.633676e-01  \n",
       "25%    4.790000e-01  7.498056e-01  \n",
       "50%    5.320000e-01  8.438507e-01  \n",
       "75%    5.380000e-01  9.269250e-01  \n",
       "max    7.400000e-01  1.000000e+00  "
      ]
     },
     "execution_count": 22,
     "metadata": {},
     "output_type": "execute_result"
    }
   ],
   "source": [
    "X.describe()"
   ]
  },
  {
   "cell_type": "markdown",
   "id": "distant-jurisdiction",
   "metadata": {},
   "source": [
    "## Standardization:"
   ]
  },
  {
   "cell_type": "code",
   "execution_count": 23,
   "id": "olive-rogers",
   "metadata": {},
   "outputs": [],
   "source": [
    "scaler=StandardScaler()\n",
    "scalerNum = scaler.fit(X)\n",
    "Xstd = scalerNum.transform(X)"
   ]
  },
  {
   "cell_type": "code",
   "execution_count": 24,
   "id": "loving-brain",
   "metadata": {},
   "outputs": [
    {
     "data": {
      "text/html": [
       "<div>\n",
       "<style scoped>\n",
       "    .dataframe tbody tr th:only-of-type {\n",
       "        vertical-align: middle;\n",
       "    }\n",
       "\n",
       "    .dataframe tbody tr th {\n",
       "        vertical-align: top;\n",
       "    }\n",
       "\n",
       "    .dataframe thead th {\n",
       "        text-align: right;\n",
       "    }\n",
       "</style>\n",
       "<table border=\"1\" class=\"dataframe\">\n",
       "  <thead>\n",
       "    <tr style=\"text-align: right;\">\n",
       "      <th></th>\n",
       "      <th>HousingCat</th>\n",
       "      <th>EDUCbin</th>\n",
       "      <th>TRANTIME</th>\n",
       "      <th>DrinkingWater</th>\n",
       "      <th>AirQuality</th>\n",
       "      <th>EarlyEd</th>\n",
       "      <th>ProspNeigh</th>\n",
       "    </tr>\n",
       "  </thead>\n",
       "  <tbody>\n",
       "    <tr>\n",
       "      <th>count</th>\n",
       "      <td>1.170510e+06</td>\n",
       "      <td>1.170510e+06</td>\n",
       "      <td>1.170510e+06</td>\n",
       "      <td>1170510.0</td>\n",
       "      <td>1.170510e+06</td>\n",
       "      <td>1.170510e+06</td>\n",
       "      <td>1.170510e+06</td>\n",
       "    </tr>\n",
       "    <tr>\n",
       "      <th>mean</th>\n",
       "      <td>7.169730e-13</td>\n",
       "      <td>-4.328006e-13</td>\n",
       "      <td>9.084261e-14</td>\n",
       "      <td>0.0</td>\n",
       "      <td>1.100339e-12</td>\n",
       "      <td>1.124357e-12</td>\n",
       "      <td>1.141147e-12</td>\n",
       "    </tr>\n",
       "    <tr>\n",
       "      <th>std</th>\n",
       "      <td>1.000000e+00</td>\n",
       "      <td>1.000000e+00</td>\n",
       "      <td>1.000000e+00</td>\n",
       "      <td>0.0</td>\n",
       "      <td>1.000000e+00</td>\n",
       "      <td>1.000000e+00</td>\n",
       "      <td>1.000000e+00</td>\n",
       "    </tr>\n",
       "    <tr>\n",
       "      <th>min</th>\n",
       "      <td>-1.978236e+00</td>\n",
       "      <td>-8.133003e-01</td>\n",
       "      <td>-7.158803e-01</td>\n",
       "      <td>0.0</td>\n",
       "      <td>-2.153784e+00</td>\n",
       "      <td>-2.544467e+00</td>\n",
       "      <td>-2.686166e+00</td>\n",
       "    </tr>\n",
       "    <tr>\n",
       "      <th>25%</th>\n",
       "      <td>-6.593556e-01</td>\n",
       "      <td>-8.133003e-01</td>\n",
       "      <td>-7.158803e-01</td>\n",
       "      <td>0.0</td>\n",
       "      <td>-1.067824e+00</td>\n",
       "      <td>-4.267416e-01</td>\n",
       "      <td>-8.167623e-01</td>\n",
       "    </tr>\n",
       "    <tr>\n",
       "      <th>50%</th>\n",
       "      <td>6.595246e-01</td>\n",
       "      <td>-8.133003e-01</td>\n",
       "      <td>-2.570151e-01</td>\n",
       "      <td>0.0</td>\n",
       "      <td>4.253698e-01</td>\n",
       "      <td>3.265434e-01</td>\n",
       "      <td>1.262227e-01</td>\n",
       "    </tr>\n",
       "    <tr>\n",
       "      <th>75%</th>\n",
       "      <td>6.595246e-01</td>\n",
       "      <td>1.229558e+00</td>\n",
       "      <td>4.312827e-01</td>\n",
       "      <td>0.0</td>\n",
       "      <td>8.326046e-01</td>\n",
       "      <td>4.118209e-01</td>\n",
       "      <td>9.592045e-01</td>\n",
       "    </tr>\n",
       "    <tr>\n",
       "      <th>max</th>\n",
       "      <td>6.595246e-01</td>\n",
       "      <td>1.229558e+00</td>\n",
       "      <td>7.451921e+00</td>\n",
       "      <td>0.0</td>\n",
       "      <td>1.239839e+00</td>\n",
       "      <td>3.282831e+00</td>\n",
       "      <td>1.691924e+00</td>\n",
       "    </tr>\n",
       "  </tbody>\n",
       "</table>\n",
       "</div>"
      ],
      "text/plain": [
       "         HousingCat       EDUCbin      TRANTIME  DrinkingWater    AirQuality  \\\n",
       "count  1.170510e+06  1.170510e+06  1.170510e+06      1170510.0  1.170510e+06   \n",
       "mean   7.169730e-13 -4.328006e-13  9.084261e-14            0.0  1.100339e-12   \n",
       "std    1.000000e+00  1.000000e+00  1.000000e+00            0.0  1.000000e+00   \n",
       "min   -1.978236e+00 -8.133003e-01 -7.158803e-01            0.0 -2.153784e+00   \n",
       "25%   -6.593556e-01 -8.133003e-01 -7.158803e-01            0.0 -1.067824e+00   \n",
       "50%    6.595246e-01 -8.133003e-01 -2.570151e-01            0.0  4.253698e-01   \n",
       "75%    6.595246e-01  1.229558e+00  4.312827e-01            0.0  8.326046e-01   \n",
       "max    6.595246e-01  1.229558e+00  7.451921e+00            0.0  1.239839e+00   \n",
       "\n",
       "            EarlyEd    ProspNeigh  \n",
       "count  1.170510e+06  1.170510e+06  \n",
       "mean   1.124357e-12  1.141147e-12  \n",
       "std    1.000000e+00  1.000000e+00  \n",
       "min   -2.544467e+00 -2.686166e+00  \n",
       "25%   -4.267416e-01 -8.167623e-01  \n",
       "50%    3.265434e-01  1.262227e-01  \n",
       "75%    4.118209e-01  9.592045e-01  \n",
       "max    3.282831e+00  1.691924e+00  "
      ]
     },
     "execution_count": 24,
     "metadata": {},
     "output_type": "execute_result"
    }
   ],
   "source": [
    "dfX = pd.DataFrame(Xstd, columns=['HousingCat','EDUCbin','TRANTIME','DrinkingWater','AirQuality','EarlyEd','ProspNeigh'])\n",
    "dfX.describe()"
   ]
  },
  {
   "cell_type": "markdown",
   "id": "apparent-destination",
   "metadata": {},
   "source": [
    "## Silhouette score:"
   ]
  },
  {
   "cell_type": "code",
   "execution_count": 25,
   "id": "human-wisconsin",
   "metadata": {},
   "outputs": [
    {
     "name": "stdout",
     "output_type": "stream",
     "text": [
      "For n_clusters = 3 the average silhouette_score is: 0.2387408233687985\n",
      "For n_clusters = 4 the average silhouette_score is: 0.254847431023946\n",
      "For n_clusters = 5 the average silhouette_score is: 0.26238159768710195\n",
      "For n_clusters = 6 the average silhouette_score is: 0.26835382043534045\n",
      "For n_clusters = 7 the average silhouette_score is: 0.2854596080963848\n",
      "For n_clusters = 8 the average silhouette_score is: 0.2882144792640402\n",
      "For n_clusters = 9 the average silhouette_score is: 0.2986733149589627\n"
     ]
    }
   ],
   "source": [
    "for i in range(3,10):\n",
    "    km = KMeans(n_clusters = i, init = 'k-means++', random_state = 42)\n",
    "    cluster_labels = km.fit_predict(dfX)\n",
    "    silhouette_avg = silhouette_score(dfX, cluster_labels, metric='euclidean',sample_size = 10000, random_state=None)\n",
    "    print('For n_clusters = {} the average silhouette_score is: {}'.format(i, silhouette_avg))"
   ]
  },
  {
   "cell_type": "markdown",
   "id": "preceding-garbage",
   "metadata": {},
   "source": [
    "## Clustering"
   ]
  },
  {
   "cell_type": "code",
   "execution_count": 26,
   "id": "female-ceiling",
   "metadata": {},
   "outputs": [
    {
     "name": "stdout",
     "output_type": "stream",
     "text": [
      "[3 3 3 ... 0 2 2]\n"
     ]
    }
   ],
   "source": [
    "kmeans = KMeans(n_clusters = 7, init = 'k-means++', random_state = 42)\n",
    "kmeans.fit(dfX)\n",
    "print(kmeans.labels_)"
   ]
  },
  {
   "cell_type": "code",
   "execution_count": 27,
   "id": "little-budget",
   "metadata": {},
   "outputs": [
    {
     "data": {
      "text/plain": [
       "array([[ 2.        ,  0.        ,  0.        , ..., 24.        ,\n",
       "         0.577     ,  0.95378249],\n",
       "       [ 2.        ,  0.        ,  0.        , ..., 24.        ,\n",
       "         0.577     ,  0.95378249],\n",
       "       [ 2.        ,  0.        ,  0.        , ..., 24.        ,\n",
       "         0.577     ,  0.95378249],\n",
       "       ...,\n",
       "       [ 0.        ,  0.        ,  0.        , ..., 40.        ,\n",
       "         0.355     ,  0.77457972],\n",
       "       [ 2.        ,  0.        ,  2.        , ..., 40.        ,\n",
       "         0.355     ,  0.77457972],\n",
       "       [ 2.        ,  1.        ,  5.        , ..., 40.        ,\n",
       "         0.355     ,  0.77457972]])"
      ]
     },
     "execution_count": 27,
     "metadata": {},
     "output_type": "execute_result"
    }
   ],
   "source": [
    "Xfin = scaler.inverse_transform(dfX)\n",
    "Xfin"
   ]
  },
  {
   "cell_type": "code",
   "execution_count": 28,
   "id": "casual-soldier",
   "metadata": {},
   "outputs": [
    {
     "data": {
      "text/html": [
       "<div>\n",
       "<style scoped>\n",
       "    .dataframe tbody tr th:only-of-type {\n",
       "        vertical-align: middle;\n",
       "    }\n",
       "\n",
       "    .dataframe tbody tr th {\n",
       "        vertical-align: top;\n",
       "    }\n",
       "\n",
       "    .dataframe thead th {\n",
       "        text-align: right;\n",
       "    }\n",
       "</style>\n",
       "<table border=\"1\" class=\"dataframe\">\n",
       "  <thead>\n",
       "    <tr style=\"text-align: right;\">\n",
       "      <th></th>\n",
       "      <th>HousingCat</th>\n",
       "      <th>EDUCbin</th>\n",
       "      <th>TRANTIME</th>\n",
       "      <th>DrinkingWater</th>\n",
       "      <th>AirQuality</th>\n",
       "      <th>EarlyEd</th>\n",
       "      <th>ProspNeigh</th>\n",
       "    </tr>\n",
       "  </thead>\n",
       "  <tbody>\n",
       "    <tr>\n",
       "      <th>count</th>\n",
       "      <td>1.170510e+06</td>\n",
       "      <td>1.170510e+06</td>\n",
       "      <td>1.170510e+06</td>\n",
       "      <td>1170510.0</td>\n",
       "      <td>1.170510e+06</td>\n",
       "      <td>1.170510e+06</td>\n",
       "      <td>1.170510e+06</td>\n",
       "    </tr>\n",
       "    <tr>\n",
       "      <th>mean</th>\n",
       "      <td>1.499936e+00</td>\n",
       "      <td>3.981188e-01</td>\n",
       "      <td>1.560110e+01</td>\n",
       "      <td>1.0</td>\n",
       "      <td>3.486640e+01</td>\n",
       "      <td>5.090249e-01</td>\n",
       "      <td>8.312623e-01</td>\n",
       "    </tr>\n",
       "    <tr>\n",
       "      <th>std</th>\n",
       "      <td>7.582193e-01</td>\n",
       "      <td>4.895104e-01</td>\n",
       "      <td>2.179290e+01</td>\n",
       "      <td>0.0</td>\n",
       "      <td>7.366761e+00</td>\n",
       "      <td>7.035853e-02</td>\n",
       "      <td>9.973130e-02</td>\n",
       "    </tr>\n",
       "    <tr>\n",
       "      <th>min</th>\n",
       "      <td>0.000000e+00</td>\n",
       "      <td>0.000000e+00</td>\n",
       "      <td>0.000000e+00</td>\n",
       "      <td>1.0</td>\n",
       "      <td>1.900000e+01</td>\n",
       "      <td>3.300000e-01</td>\n",
       "      <td>5.633676e-01</td>\n",
       "    </tr>\n",
       "    <tr>\n",
       "      <th>25%</th>\n",
       "      <td>1.000000e+00</td>\n",
       "      <td>0.000000e+00</td>\n",
       "      <td>0.000000e+00</td>\n",
       "      <td>1.0</td>\n",
       "      <td>2.700000e+01</td>\n",
       "      <td>4.790000e-01</td>\n",
       "      <td>7.498056e-01</td>\n",
       "    </tr>\n",
       "    <tr>\n",
       "      <th>50%</th>\n",
       "      <td>2.000000e+00</td>\n",
       "      <td>0.000000e+00</td>\n",
       "      <td>1.000000e+01</td>\n",
       "      <td>1.0</td>\n",
       "      <td>3.800000e+01</td>\n",
       "      <td>5.320000e-01</td>\n",
       "      <td>8.438507e-01</td>\n",
       "    </tr>\n",
       "    <tr>\n",
       "      <th>75%</th>\n",
       "      <td>2.000000e+00</td>\n",
       "      <td>1.000000e+00</td>\n",
       "      <td>2.500000e+01</td>\n",
       "      <td>1.0</td>\n",
       "      <td>4.100000e+01</td>\n",
       "      <td>5.380000e-01</td>\n",
       "      <td>9.269250e-01</td>\n",
       "    </tr>\n",
       "    <tr>\n",
       "      <th>max</th>\n",
       "      <td>2.000000e+00</td>\n",
       "      <td>1.000000e+00</td>\n",
       "      <td>1.780000e+02</td>\n",
       "      <td>1.0</td>\n",
       "      <td>4.400000e+01</td>\n",
       "      <td>7.400000e-01</td>\n",
       "      <td>1.000000e+00</td>\n",
       "    </tr>\n",
       "  </tbody>\n",
       "</table>\n",
       "</div>"
      ],
      "text/plain": [
       "         HousingCat       EDUCbin      TRANTIME  DrinkingWater    AirQuality  \\\n",
       "count  1.170510e+06  1.170510e+06  1.170510e+06      1170510.0  1.170510e+06   \n",
       "mean   1.499936e+00  3.981188e-01  1.560110e+01            1.0  3.486640e+01   \n",
       "std    7.582193e-01  4.895104e-01  2.179290e+01            0.0  7.366761e+00   \n",
       "min    0.000000e+00  0.000000e+00  0.000000e+00            1.0  1.900000e+01   \n",
       "25%    1.000000e+00  0.000000e+00  0.000000e+00            1.0  2.700000e+01   \n",
       "50%    2.000000e+00  0.000000e+00  1.000000e+01            1.0  3.800000e+01   \n",
       "75%    2.000000e+00  1.000000e+00  2.500000e+01            1.0  4.100000e+01   \n",
       "max    2.000000e+00  1.000000e+00  1.780000e+02            1.0  4.400000e+01   \n",
       "\n",
       "            EarlyEd    ProspNeigh  \n",
       "count  1.170510e+06  1.170510e+06  \n",
       "mean   5.090249e-01  8.312623e-01  \n",
       "std    7.035853e-02  9.973130e-02  \n",
       "min    3.300000e-01  5.633676e-01  \n",
       "25%    4.790000e-01  7.498056e-01  \n",
       "50%    5.320000e-01  8.438507e-01  \n",
       "75%    5.380000e-01  9.269250e-01  \n",
       "max    7.400000e-01  1.000000e+00  "
      ]
     },
     "execution_count": 28,
     "metadata": {},
     "output_type": "execute_result"
    }
   ],
   "source": [
    "dfXfin = pd.DataFrame(Xfin, columns=['HousingCat','EDUCbin','TRANTIME','DrinkingWater','AirQuality','EarlyEd','ProspNeigh'])\n",
    "dfXfin.describe()"
   ]
  },
  {
   "cell_type": "code",
   "execution_count": 29,
   "id": "therapeutic-return",
   "metadata": {},
   "outputs": [
    {
     "data": {
      "text/html": [
       "<div>\n",
       "<style scoped>\n",
       "    .dataframe tbody tr th:only-of-type {\n",
       "        vertical-align: middle;\n",
       "    }\n",
       "\n",
       "    .dataframe tbody tr th {\n",
       "        vertical-align: top;\n",
       "    }\n",
       "\n",
       "    .dataframe thead th {\n",
       "        text-align: right;\n",
       "    }\n",
       "</style>\n",
       "<table border=\"1\" class=\"dataframe\">\n",
       "  <thead>\n",
       "    <tr style=\"text-align: right;\">\n",
       "      <th></th>\n",
       "      <th>HousingCat</th>\n",
       "      <th>EDUCbin</th>\n",
       "      <th>TRANTIME</th>\n",
       "      <th>DrinkingWater</th>\n",
       "      <th>AirQuality</th>\n",
       "      <th>EarlyEd</th>\n",
       "      <th>ProspNeigh</th>\n",
       "    </tr>\n",
       "    <tr>\n",
       "      <th>labels</th>\n",
       "      <th></th>\n",
       "      <th></th>\n",
       "      <th></th>\n",
       "      <th></th>\n",
       "      <th></th>\n",
       "      <th></th>\n",
       "      <th></th>\n",
       "    </tr>\n",
       "  </thead>\n",
       "  <tbody>\n",
       "    <tr>\n",
       "      <th>0</th>\n",
       "      <td>0.000000</td>\n",
       "      <td>0.227715</td>\n",
       "      <td>11.086254</td>\n",
       "      <td>1.0</td>\n",
       "      <td>38.461073</td>\n",
       "      <td>0.499165</td>\n",
       "      <td>0.794887</td>\n",
       "    </tr>\n",
       "    <tr>\n",
       "      <th>1</th>\n",
       "      <td>1.817256</td>\n",
       "      <td>1.000000</td>\n",
       "      <td>14.052477</td>\n",
       "      <td>1.0</td>\n",
       "      <td>38.239700</td>\n",
       "      <td>0.502490</td>\n",
       "      <td>0.821365</td>\n",
       "    </tr>\n",
       "    <tr>\n",
       "      <th>2</th>\n",
       "      <td>1.780329</td>\n",
       "      <td>0.111597</td>\n",
       "      <td>9.823048</td>\n",
       "      <td>1.0</td>\n",
       "      <td>38.295019</td>\n",
       "      <td>0.393756</td>\n",
       "      <td>0.726586</td>\n",
       "    </tr>\n",
       "    <tr>\n",
       "      <th>3</th>\n",
       "      <td>1.504888</td>\n",
       "      <td>0.000000</td>\n",
       "      <td>11.618084</td>\n",
       "      <td>1.0</td>\n",
       "      <td>24.833046</td>\n",
       "      <td>0.557585</td>\n",
       "      <td>0.925058</td>\n",
       "    </tr>\n",
       "    <tr>\n",
       "      <th>4</th>\n",
       "      <td>1.660216</td>\n",
       "      <td>0.438049</td>\n",
       "      <td>82.304712</td>\n",
       "      <td>1.0</td>\n",
       "      <td>37.519816</td>\n",
       "      <td>0.493864</td>\n",
       "      <td>0.816820</td>\n",
       "    </tr>\n",
       "    <tr>\n",
       "      <th>5</th>\n",
       "      <td>1.754304</td>\n",
       "      <td>0.000000</td>\n",
       "      <td>11.297752</td>\n",
       "      <td>1.0</td>\n",
       "      <td>39.263676</td>\n",
       "      <td>0.527864</td>\n",
       "      <td>0.810682</td>\n",
       "    </tr>\n",
       "    <tr>\n",
       "      <th>6</th>\n",
       "      <td>1.640610</td>\n",
       "      <td>1.000000</td>\n",
       "      <td>16.504460</td>\n",
       "      <td>1.0</td>\n",
       "      <td>24.602951</td>\n",
       "      <td>0.581420</td>\n",
       "      <td>0.938681</td>\n",
       "    </tr>\n",
       "  </tbody>\n",
       "</table>\n",
       "</div>"
      ],
      "text/plain": [
       "        HousingCat   EDUCbin   TRANTIME  DrinkingWater  AirQuality   EarlyEd  \\\n",
       "labels                                                                         \n",
       "0         0.000000  0.227715  11.086254            1.0   38.461073  0.499165   \n",
       "1         1.817256  1.000000  14.052477            1.0   38.239700  0.502490   \n",
       "2         1.780329  0.111597   9.823048            1.0   38.295019  0.393756   \n",
       "3         1.504888  0.000000  11.618084            1.0   24.833046  0.557585   \n",
       "4         1.660216  0.438049  82.304712            1.0   37.519816  0.493864   \n",
       "5         1.754304  0.000000  11.297752            1.0   39.263676  0.527864   \n",
       "6         1.640610  1.000000  16.504460            1.0   24.602951  0.581420   \n",
       "\n",
       "        ProspNeigh  \n",
       "labels              \n",
       "0         0.794887  \n",
       "1         0.821365  \n",
       "2         0.726586  \n",
       "3         0.925058  \n",
       "4         0.816820  \n",
       "5         0.810682  \n",
       "6         0.938681  "
      ]
     },
     "execution_count": 29,
     "metadata": {},
     "output_type": "execute_result"
    }
   ],
   "source": [
    "dfXfin['labels'] = kmeans.labels_\n",
    "cluster_sum = dfXfin.groupby(by = 'labels').mean()\n",
    "cluster_sum.head(7)"
   ]
  },
  {
   "cell_type": "code",
   "execution_count": 30,
   "id": "chinese-usage",
   "metadata": {},
   "outputs": [],
   "source": [
    "clust0 = dfXfin[dfXfin['labels']==0]\n",
    "clust1 = dfXfin[dfXfin['labels']==1]\n",
    "clust2 = dfXfin[dfXfin['labels']==2]\n",
    "clust3 = dfXfin[dfXfin['labels']==3]\n",
    "clust4 = dfXfin[dfXfin['labels']==4]\n",
    "clust5 = dfXfin[dfXfin['labels']==5]\n",
    "clust6 = dfXfin[dfXfin['labels']==6]"
   ]
  },
  {
   "cell_type": "markdown",
   "id": "hollow-shape",
   "metadata": {},
   "source": [
    "## Housing Category"
   ]
  },
  {
   "cell_type": "code",
   "execution_count": 39,
   "id": "norman-bowling",
   "metadata": {},
   "outputs": [
    {
     "data": {
      "text/html": [
       "<div>\n",
       "<style scoped>\n",
       "    .dataframe tbody tr th:only-of-type {\n",
       "        vertical-align: middle;\n",
       "    }\n",
       "\n",
       "    .dataframe tbody tr th {\n",
       "        vertical-align: top;\n",
       "    }\n",
       "\n",
       "    .dataframe thead th {\n",
       "        text-align: right;\n",
       "    }\n",
       "</style>\n",
       "<table border=\"1\" class=\"dataframe\">\n",
       "  <thead>\n",
       "    <tr style=\"text-align: right;\">\n",
       "      <th></th>\n",
       "      <th>&gt;=30% Income on Rent</th>\n",
       "      <th>&lt;30% Income on Rent</th>\n",
       "      <th>Owner</th>\n",
       "    </tr>\n",
       "  </thead>\n",
       "  <tbody>\n",
       "    <tr>\n",
       "      <th>Cluster 0</th>\n",
       "      <td>100.000000</td>\n",
       "      <td>0.000000</td>\n",
       "      <td>0.000000</td>\n",
       "    </tr>\n",
       "    <tr>\n",
       "      <th>Cluster 1</th>\n",
       "      <td>0.000000</td>\n",
       "      <td>18.274430</td>\n",
       "      <td>81.725570</td>\n",
       "    </tr>\n",
       "    <tr>\n",
       "      <th>Cluster 2</th>\n",
       "      <td>1.776127</td>\n",
       "      <td>18.414819</td>\n",
       "      <td>79.809054</td>\n",
       "    </tr>\n",
       "    <tr>\n",
       "      <th>Cluster 3</th>\n",
       "      <td>15.273525</td>\n",
       "      <td>18.964125</td>\n",
       "      <td>65.762350</td>\n",
       "    </tr>\n",
       "    <tr>\n",
       "      <th>Cluster 4</th>\n",
       "      <td>6.938420</td>\n",
       "      <td>20.101583</td>\n",
       "      <td>72.959997</td>\n",
       "    </tr>\n",
       "    <tr>\n",
       "      <th>Cluster 5</th>\n",
       "      <td>0.000000</td>\n",
       "      <td>24.569644</td>\n",
       "      <td>75.430356</td>\n",
       "    </tr>\n",
       "    <tr>\n",
       "      <th>Cluster 6</th>\n",
       "      <td>8.921203</td>\n",
       "      <td>18.096590</td>\n",
       "      <td>72.982207</td>\n",
       "    </tr>\n",
       "  </tbody>\n",
       "</table>\n",
       "</div>"
      ],
      "text/plain": [
       "           >=30% Income on Rent  <30% Income on Rent      Owner\n",
       "Cluster 0            100.000000             0.000000   0.000000\n",
       "Cluster 1              0.000000            18.274430  81.725570\n",
       "Cluster 2              1.776127            18.414819  79.809054\n",
       "Cluster 3             15.273525            18.964125  65.762350\n",
       "Cluster 4              6.938420            20.101583  72.959997\n",
       "Cluster 5              0.000000            24.569644  75.430356\n",
       "Cluster 6              8.921203            18.096590  72.982207"
      ]
     },
     "execution_count": 39,
     "metadata": {},
     "output_type": "execute_result"
    }
   ],
   "source": [
    "clustNames= ['Cluster 0', 'Cluster 1', 'Cluster 2','Cluster 3','Cluster 4', 'Cluster 5', 'Cluster 6']\n",
    "dfH = pd.DataFrame(index=clustNames, data=np.array([[clust0['HousingCat'].value_counts()[0]*100/clust0.shape[0],\n",
    "                                                     0,\n",
    "                                                     0], \n",
    "                                                    [0,\n",
    "                                                     clust1['HousingCat'].value_counts()[1]*100/clust1.shape[0],\n",
    "                                                     clust1['HousingCat'].value_counts()[2]*100/clust1.shape[0]],\n",
    "                                                    [clust2['HousingCat'].value_counts()[0]*100/clust2.shape[0],\n",
    "                                                     clust2['HousingCat'].value_counts()[1]*100/clust2.shape[0],\n",
    "                                                     clust2['HousingCat'].value_counts()[2]*100/clust2.shape[0]],\n",
    "                                                    [clust3['HousingCat'].value_counts()[0]*100/clust3.shape[0],\n",
    "                                                     clust3['HousingCat'].value_counts()[1]*100/clust3.shape[0],\n",
    "                                                     clust3['HousingCat'].value_counts()[2]*100/clust3.shape[0]],\n",
    "                                                    [clust4['HousingCat'].value_counts()[0]*100/clust4.shape[0],\n",
    "                                                     clust4['HousingCat'].value_counts()[1]*100/clust4.shape[0],\n",
    "                                                     clust4['HousingCat'].value_counts()[2]*100/clust4.shape[0]],\n",
    "                                                    [0,\n",
    "                                                     clust5['HousingCat'].value_counts()[1]*100/clust5.shape[0],\n",
    "                                                     clust5['HousingCat'].value_counts()[2]*100/clust5.shape[0]],\n",
    "                                                    [clust6['HousingCat'].value_counts()[0]*100/clust6.shape[0],\n",
    "                                                     clust6['HousingCat'].value_counts()[1]*100/clust6.shape[0],\n",
    "                                                     clust6['HousingCat'].value_counts()[2]*100/clust6.shape[0]]]),\n",
    "                   columns=['>=30% Income on Rent', '<30% Income on Rent', 'Owner'])\n",
    "dfH"
   ]
  },
  {
   "cell_type": "markdown",
   "id": "seasonal-presence",
   "metadata": {},
   "source": [
    "## Education (binary)"
   ]
  },
  {
   "cell_type": "code",
   "execution_count": 48,
   "id": "approximate-coupon",
   "metadata": {},
   "outputs": [
    {
     "data": {
      "text/html": [
       "<div>\n",
       "<style scoped>\n",
       "    .dataframe tbody tr th:only-of-type {\n",
       "        vertical-align: middle;\n",
       "    }\n",
       "\n",
       "    .dataframe tbody tr th {\n",
       "        vertical-align: top;\n",
       "    }\n",
       "\n",
       "    .dataframe thead th {\n",
       "        text-align: right;\n",
       "    }\n",
       "</style>\n",
       "<table border=\"1\" class=\"dataframe\">\n",
       "  <thead>\n",
       "    <tr style=\"text-align: right;\">\n",
       "      <th></th>\n",
       "      <th>&lt;2 yr. College</th>\n",
       "      <th>&gt;2 yr. College</th>\n",
       "    </tr>\n",
       "  </thead>\n",
       "  <tbody>\n",
       "    <tr>\n",
       "      <th>Cluster 0</th>\n",
       "      <td>77.228535</td>\n",
       "      <td>22.771465</td>\n",
       "    </tr>\n",
       "    <tr>\n",
       "      <th>Cluster 1</th>\n",
       "      <td>0.000000</td>\n",
       "      <td>100.000000</td>\n",
       "    </tr>\n",
       "    <tr>\n",
       "      <th>Cluster 2</th>\n",
       "      <td>88.840280</td>\n",
       "      <td>11.159720</td>\n",
       "    </tr>\n",
       "    <tr>\n",
       "      <th>Cluster 3</th>\n",
       "      <td>100.000000</td>\n",
       "      <td>0.000000</td>\n",
       "    </tr>\n",
       "    <tr>\n",
       "      <th>Cluster 4</th>\n",
       "      <td>56.195084</td>\n",
       "      <td>43.804916</td>\n",
       "    </tr>\n",
       "    <tr>\n",
       "      <th>Cluster 5</th>\n",
       "      <td>100.000000</td>\n",
       "      <td>0.000000</td>\n",
       "    </tr>\n",
       "    <tr>\n",
       "      <th>Cluster 6</th>\n",
       "      <td>0.000000</td>\n",
       "      <td>100.000000</td>\n",
       "    </tr>\n",
       "  </tbody>\n",
       "</table>\n",
       "</div>"
      ],
      "text/plain": [
       "           <2 yr. College  >2 yr. College\n",
       "Cluster 0       77.228535       22.771465\n",
       "Cluster 1        0.000000      100.000000\n",
       "Cluster 2       88.840280       11.159720\n",
       "Cluster 3      100.000000        0.000000\n",
       "Cluster 4       56.195084       43.804916\n",
       "Cluster 5      100.000000        0.000000\n",
       "Cluster 6        0.000000      100.000000"
      ]
     },
     "execution_count": 48,
     "metadata": {},
     "output_type": "execute_result"
    }
   ],
   "source": [
    "#TABLE\n",
    "clustNames= ['Cluster 0', 'Cluster 1', 'Cluster 2','Cluster 3','Cluster 4', 'Cluster 5', 'Cluster 6']\n",
    "column='EDUCbin'\n",
    "dfEd = pd.DataFrame(index=clustNames, data=np.array([[clust0['{}'.format(column)].value_counts()[0]*100/clust0.shape[0],\n",
    "                                                      clust0['{}'.format(column)].value_counts()[1]*100/clust0.shape[0]], \n",
    "                                                    [0,\n",
    "                                                     clust1['{}'.format(column)].value_counts()[1]*100/clust1.shape[0]],\n",
    "                                                    [clust2['{}'.format(column)].value_counts()[0]*100/clust2.shape[0],\n",
    "                                                     clust2['{}'.format(column)].value_counts()[1]*100/clust2.shape[0]],\n",
    "                                                    [clust3['{}'.format(column)].value_counts()[0]*100/clust3.shape[0],\n",
    "                                                    0],\n",
    "                                                    [clust4['{}'.format(column)].value_counts()[0]*100/clust4.shape[0],\n",
    "                                                     clust4['{}'.format(column)].value_counts()[1]*100/clust4.shape[0]],\n",
    "                                                    [clust5['{}'.format(column)].value_counts()[0]*100/clust5.shape[0],\n",
    "                                                     0],\n",
    "                                                    [0,\n",
    "                                                     clust6['{}'.format(column)].value_counts()[1]*100/clust6.shape[0]]]),\n",
    "                   columns=['<2 yr. College', '>2 yr. College'])\n",
    "dfEd"
   ]
  },
  {
   "cell_type": "markdown",
   "id": "delayed-grocery",
   "metadata": {},
   "source": [
    "## Commute Time"
   ]
  },
  {
   "cell_type": "code",
   "execution_count": 49,
   "id": "determined-source",
   "metadata": {},
   "outputs": [
    {
     "data": {
      "image/png": "[encoded data removed]",
      "text/plain": [
       "<Figure size 1440x720 with 8 Axes>"
      ]
     },
     "metadata": {
      "needs_background": "light"
     },
     "output_type": "display_data"
    }
   ],
   "source": [
    "fig, axs = plt.subplots(2, 4, sharey=True, figsize=(20,10))\n",
    "fig.suptitle(\"Cluster Commute Time Distributions\")\n",
    "\n",
    "axs[0, 0].hist(clust0['TRANTIME'])\n",
    "axs[0, 0].set_title('Cluster 0')\n",
    "axs[0, 1].hist(clust1['TRANTIME'])\n",
    "axs[0, 1].set_title('Cluster 1')\n",
    "axs[0, 2].hist(clust2['TRANTIME'])\n",
    "axs[0, 2].set_title('Cluster 2')\n",
    "axs[0, 3].hist(clust3['TRANTIME'])\n",
    "axs[0, 3].set_title('Cluster 3')\n",
    "axs[1, 0].hist(clust4['TRANTIME'])\n",
    "axs[1, 0].set_title('Cluster 4')\n",
    "axs[1, 1].hist(clust5['TRANTIME'])\n",
    "axs[1, 1].set_title('Cluster 5')\n",
    "axs[1, 2].hist(clust6['TRANTIME'])\n",
    "axs[1, 2].set_title('Cluster 6')\n",
    "\n",
    "for ax in axs.flat:\n",
    "    ax.set(xlabel='Commute Time (Minutes)')"
   ]
  },
  {
   "cell_type": "markdown",
   "id": "organic-stockholm",
   "metadata": {},
   "source": [
    "## Drinking Water"
   ]
  },
  {
   "cell_type": "code",
   "execution_count": 50,
   "id": "induced-township",
   "metadata": {},
   "outputs": [
    {
     "data": {
      "image/png": "[encoded data removed]",
      "text/plain": [
       "<Figure size 1440x720 with 8 Axes>"
      ]
     },
     "metadata": {
      "needs_background": "light"
     },
     "output_type": "display_data"
    }
   ],
   "source": [
    "fig, axs = plt.subplots(2, 4, sharey=True, figsize=(20,10))\n",
    "fig.suptitle(\"Cluster Drinking Water Distributions\")\n",
    "\n",
    "axs[0, 0].hist(clust0['DrinkingWater'])\n",
    "axs[0, 0].set_title('Cluster 0')\n",
    "axs[0, 1].hist(clust1['DrinkingWater'])\n",
    "axs[0, 1].set_title('Cluster 1')\n",
    "axs[0, 2].hist(clust2['DrinkingWater'])\n",
    "axs[0, 2].set_title('Cluster 2')\n",
    "axs[0, 3].hist(clust3['DrinkingWater'])\n",
    "axs[0, 3].set_title('Cluster 3')\n",
    "axs[1, 0].hist(clust4['DrinkingWater'])\n",
    "axs[1, 0].set_title('Cluster 4')\n",
    "axs[1, 1].hist(clust5['DrinkingWater'])\n",
    "axs[1, 1].set_title('Cluster 5')\n",
    "axs[1, 2].hist(clust6['DrinkingWater'])\n",
    "axs[1, 2].set_title('Cluster 6')\n",
    "\n",
    "for ax in axs.flat[4:]:\n",
    "    ax.set(xlabel='Clean Drinking Water')"
   ]
  },
  {
   "cell_type": "markdown",
   "id": "arabic-recovery",
   "metadata": {},
   "source": [
    "## Early Education"
   ]
  },
  {
   "cell_type": "code",
   "execution_count": 51,
   "id": "dependent-supplement",
   "metadata": {},
   "outputs": [
    {
     "data": {
      "image/png": "[encoded data removed]",
      "text/plain": [
       "<Figure size 1440x720 with 8 Axes>"
      ]
     },
     "metadata": {
      "needs_background": "light"
     },
     "output_type": "display_data"
    }
   ],
   "source": [
    "fig, axs = plt.subplots(2, 4, sharey=True, figsize=(20,10))\n",
    "fig.suptitle(\"Cluster Early Education Distributions\")\n",
    "\n",
    "axs[0, 0].hist(clust0['EarlyEd'])\n",
    "axs[0, 0].set_title('Cluster 0')\n",
    "axs[0, 1].hist(clust1['EarlyEd'])\n",
    "axs[0, 1].set_title('Cluster 1')\n",
    "axs[0, 2].hist(clust2['EarlyEd'])\n",
    "axs[0, 2].set_title('Cluster 2')\n",
    "axs[0, 3].hist(clust3['EarlyEd'])\n",
    "axs[0, 3].set_title('Cluster 3')\n",
    "axs[1, 0].hist(clust4['EarlyEd'])\n",
    "axs[1, 0].set_title('Cluster 4')\n",
    "axs[1, 1].hist(clust5['EarlyEd'])\n",
    "axs[1, 1].set_title('Cluster 5')\n",
    "axs[1, 2].hist(clust6['EarlyEd'])\n",
    "axs[1, 2].set_title('Cluster 6')\n",
    "\n",
    "for ax in axs.flat[4:]:\n",
    "    ax.set(xlabel='Early Education')"
   ]
  },
  {
   "cell_type": "markdown",
   "id": "objective-placement",
   "metadata": {},
   "source": [
    "## Prosperous Neighborhoods"
   ]
  },
  {
   "cell_type": "code",
   "execution_count": 52,
   "id": "blessed-survival",
   "metadata": {},
   "outputs": [
    {
     "data": {
      "image/png": "[encoded data removed]",
      "text/plain": [
       "<Figure size 1440x720 with 8 Axes>"
      ]
     },
     "metadata": {
      "needs_background": "light"
     },
     "output_type": "display_data"
    }
   ],
   "source": [
    "fig, axs = plt.subplots(2, 4, sharey=True, figsize=(20,10))\n",
    "fig.suptitle(\"Cluster Prosperous Neighborhoods Distributions\")\n",
    "\n",
    "axs[0, 0].hist(clust0['ProspNeigh'])\n",
    "axs[0, 0].set_title('Cluster 0')\n",
    "axs[0, 1].hist(clust1['ProspNeigh'])\n",
    "axs[0, 1].set_title('Cluster 1')\n",
    "axs[0, 2].hist(clust2['ProspNeigh'])\n",
    "axs[0, 2].set_title('Cluster 2')\n",
    "axs[0, 3].hist(clust3['ProspNeigh'])\n",
    "axs[0, 3].set_title('Cluster 3')\n",
    "axs[1, 0].hist(clust4['ProspNeigh'])\n",
    "axs[1, 0].set_title('Cluster 4')\n",
    "axs[1, 1].hist(clust5['ProspNeigh'])\n",
    "axs[1, 1].set_title('Cluster 5')\n",
    "axs[1, 2].hist(clust6['ProspNeigh'])\n",
    "axs[1, 2].set_title('Cluster 6')\n",
    "\n",
    "for ax in axs.flat[4:]:\n",
    "    ax.set(xlabel='Prosperous Neighborhoods')"
   ]
  },
  {
   "cell_type": "markdown",
   "id": "color-contemporary",
   "metadata": {},
   "source": [
    "## Feature Correlations"
   ]
  },
  {
   "cell_type": "code",
   "execution_count": null,
   "id": "express-spider",
   "metadata": {},
   "outputs": [],
   "source": [
    "Xcorr=dfXfin.iloc[:, [0,1,2,3,4,5,6,7]]\n",
    "Xcorr.head()"
   ]
  },
  {
   "cell_type": "code",
   "execution_count": 127,
   "id": "expected-pontiac",
   "metadata": {},
   "outputs": [
    {
     "data": {
      "text/plain": [
       "<AxesSubplot:>"
      ]
     },
     "execution_count": 127,
     "metadata": {},
     "output_type": "execute_result"
    },
    {
     "data": {
      "image/png": "[encoded data removed]",
      "text/plain": [
       "<Figure size 864x576 with 2 Axes>"
      ]
     },
     "metadata": {
      "needs_background": "light"
     },
     "output_type": "display_data"
    }
   ],
   "source": [
    "plt.subplots(figsize=(15,8))\n",
    "sns.heatmap(Xcorr.corr(), annot = True)"
   ]
  }
 ],
 "metadata": {
  "kernelspec": {
   "display_name": "Python 3",
   "language": "python",
   "name": "python3"
  },
  "language_info": {
   "codemirror_mode": {
    "name": "ipython",
    "version": 3
   },
   "file_extension": ".py",
   "mimetype": "text/x-python",
   "name": "python",
   "nbconvert_exporter": "python",
   "pygments_lexer": "ipython3",
   "version": "3.7.6"
  }
 },
 "nbformat": 4,
 "nbformat_minor": 5
}
