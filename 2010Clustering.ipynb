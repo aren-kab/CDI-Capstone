{
 "cells": [
  {
   "cell_type": "code",
   "execution_count": 1,
   "id": "norman-fluid",
   "metadata": {},
   "outputs": [],
   "source": [
    "import pandas as pd\n",
    "import numpy as np\n",
    "import datetime as dt\n",
    "import matplotlib\n",
    "import matplotlib.pyplot as plt\n",
    "import scipy.cluster.hierarchy as shc\n",
    "from sklearn.cluster import AgglomerativeClustering\n",
    "import os\n",
    "import seaborn as sns"
   ]
  },
  {
   "cell_type": "code",
   "execution_count": 2,
   "id": "warming-iraqi",
   "metadata": {},
   "outputs": [],
   "source": [
    "from sklearn.cluster import KMeans\n",
    "from scipy.spatial.distance import cdist, pdist\n",
    "from sklearn.datasets import make_classification\n",
    "from sklearn.datasets import make_blobs\n",
    "from sklearn.metrics import silhouette_samples, silhouette_score\n",
    "import matplotlib.cm as cm\n",
    "from sklearn.mixture import GaussianMixture\n",
    "from sklearn.cluster import DBSCAN\n",
    "from sklearn import preprocessing\n",
    "from sklearn.preprocessing import StandardScaler"
   ]
  },
  {
   "cell_type": "code",
   "execution_count": 3,
   "id": "early-mainland",
   "metadata": {},
   "outputs": [],
   "source": [
    "fileName = 'C:/Users/mcarp/Downloads/usa_00008.csv/usa_00008.csv'\n",
    "file = pd.read_csv(fileName)\n",
    "dfCDI = pd.DataFrame(file)"
   ]
  },
  {
   "cell_type": "code",
   "execution_count": 4,
   "id": "sticky-profile",
   "metadata": {},
   "outputs": [],
   "source": [
    "fileName2 = 'C:/Users/mcarp/Downloads/county_merged2010.xlsx - Sheet1.csv'\n",
    "file2 = pd.read_csv(fileName2)\n",
    "dfCty = pd.DataFrame(file2)"
   ]
  },
  {
   "cell_type": "code",
   "execution_count": 5,
   "id": "improving-enclosure",
   "metadata": {},
   "outputs": [
    {
     "name": "stdout",
     "output_type": "stream",
     "text": [
      "<class 'pandas.core.frame.DataFrame'>\n",
      "RangeIndex: 1753741 entries, 0 to 1753740\n",
      "Data columns (total 38 columns):\n",
      " #   Column      Dtype  \n",
      "---  ------      -----  \n",
      " 0   YEAR        int64  \n",
      " 1   MULTYEAR    int64  \n",
      " 2   SAMPLE      int64  \n",
      " 3   SERIAL      int64  \n",
      " 4   CBSERIAL    int64  \n",
      " 5   HHWT        float64\n",
      " 6   CLUSTER     int64  \n",
      " 7   CPI99       float64\n",
      " 8   STATEFIP    int64  \n",
      " 9   COUNTYFIP   int64  \n",
      " 10  DENSITY     float64\n",
      " 11  CITY        int64  \n",
      " 12  PUMA        int64  \n",
      " 13  STRATA      int64  \n",
      " 14  GQ          int64  \n",
      " 15  OWNERSHP    int64  \n",
      " 16  OWNERSHPD   int64  \n",
      " 17  OWNCOST     int64  \n",
      " 18  RENTGRS     int64  \n",
      " 19  HHINCOME    int64  \n",
      " 20  PERNUM      int64  \n",
      " 21  PERWT       float64\n",
      " 22  FAMSIZE     int64  \n",
      " 23  AGE         int64  \n",
      " 24  RACE        int64  \n",
      " 25  RACED       int64  \n",
      " 26  HISPAN      int64  \n",
      " 27  HISPAND     int64  \n",
      " 28  EDUC        int64  \n",
      " 29  EDUCD       int64  \n",
      " 30  OCCSOC      object \n",
      " 31  INDNAICS    object \n",
      " 32  INCTOT      int64  \n",
      " 33  FTOTINC     int64  \n",
      " 34  INCWAGE     int64  \n",
      " 35  MIGCOUNTY1  int64  \n",
      " 36  MOVEDIN     int64  \n",
      " 37  TRANTIME    int64  \n",
      "dtypes: float64(4), int64(32), object(2)\n",
      "memory usage: 508.4+ MB\n"
     ]
    }
   ],
   "source": [
    "dfCDI.info()"
   ]
  },
  {
   "cell_type": "code",
   "execution_count": 6,
   "id": "accessible-guess",
   "metadata": {},
   "outputs": [
    {
     "data": {
      "text/plain": [
       "(1753741, 38)"
      ]
     },
     "execution_count": 6,
     "metadata": {},
     "output_type": "execute_result"
    }
   ],
   "source": [
    "dfCDI.shape"
   ]
  },
  {
   "cell_type": "code",
   "execution_count": 7,
   "id": "closed-founder",
   "metadata": {},
   "outputs": [
    {
     "data": {
      "text/plain": [
       "(1253598, 38)"
      ]
     },
     "execution_count": 7,
     "metadata": {},
     "output_type": "execute_result"
    }
   ],
   "source": [
    "dfCDI = dfCDI[dfCDI['AGE']>=21]\n",
    "dfCDI.shape"
   ]
  },
  {
   "cell_type": "code",
   "execution_count": 8,
   "id": "cross-wrong",
   "metadata": {},
   "outputs": [
    {
     "data": {
      "text/plain": [
       "0       860271\n",
       "810       1569\n",
       "800       1394\n",
       "1220      1377\n",
       "820       1334\n",
       "         ...  \n",
       "49           1\n",
       "4146         1\n",
       "3025         1\n",
       "3787         1\n",
       "3608         1\n",
       "Name: RENTGRS, Length: 3925, dtype: int64"
      ]
     },
     "execution_count": 8,
     "metadata": {},
     "output_type": "execute_result"
    }
   ],
   "source": [
    "dfCDI.RENTGRS.value_counts()"
   ]
  },
  {
   "cell_type": "code",
   "execution_count": 9,
   "id": "reduced-commodity",
   "metadata": {},
   "outputs": [
    {
     "data": {
      "text/plain": [
       "count    810238.0\n",
       "mean          0.0\n",
       "std           0.0\n",
       "min           0.0\n",
       "25%           0.0\n",
       "50%           0.0\n",
       "75%           0.0\n",
       "max           0.0\n",
       "Name: RENTGRS, dtype: float64"
      ]
     },
     "execution_count": 9,
     "metadata": {},
     "output_type": "execute_result"
    }
   ],
   "source": [
    "dfHomeOwn=dfCDI[dfCDI['OWNERSHP']==1]\n",
    "dfHomeOwn.RENTGRS.describe()"
   ]
  },
  {
   "cell_type": "markdown",
   "id": "different-westminster",
   "metadata": {},
   "source": [
    "This reveals that home owning rows all have 0 values for cost of rent."
   ]
  },
  {
   "cell_type": "code",
   "execution_count": 10,
   "id": "single-bouquet",
   "metadata": {},
   "outputs": [
    {
     "data": {
      "text/plain": [
       "1    810238\n",
       "2    409307\n",
       "0     34053\n",
       "Name: OWNERSHP, dtype: int64"
      ]
     },
     "execution_count": 10,
     "metadata": {},
     "output_type": "execute_result"
    }
   ],
   "source": [
    "dfCDI['OWNERSHP'].value_counts()"
   ]
  },
  {
   "cell_type": "code",
   "execution_count": 11,
   "id": "stunning-valley",
   "metadata": {},
   "outputs": [
    {
     "data": {
      "text/plain": [
       "(1219545, 38)"
      ]
     },
     "execution_count": 11,
     "metadata": {},
     "output_type": "execute_result"
    }
   ],
   "source": [
    "dfCDI = dfCDI[dfCDI['OWNERSHP']!=0]\n",
    "dfCDI.shape"
   ]
  },
  {
   "cell_type": "markdown",
   "id": "running-orlando",
   "metadata": {},
   "source": [
    "Removes N/As (~50k rows)"
   ]
  },
  {
   "cell_type": "code",
   "execution_count": 12,
   "id": "architectural-butter",
   "metadata": {},
   "outputs": [],
   "source": [
    "dfCDI['affrentdec'] = dfCDI['RENTGRS']*12/dfCDI['HHINCOME']"
   ]
  },
  {
   "cell_type": "code",
   "execution_count": 13,
   "id": "under-carter",
   "metadata": {},
   "outputs": [],
   "source": [
    "def housingFunc(own, affrentdec):\n",
    "    if own==1:\n",
    "        housingCat=2\n",
    "    elif own==2 and affrentdec<.3:\n",
    "        housingCat=1\n",
    "    else:\n",
    "        housingCat=0\n",
    "    return housingCat"
   ]
  },
  {
   "cell_type": "code",
   "execution_count": 14,
   "id": "duplicate-intervention",
   "metadata": {},
   "outputs": [
    {
     "data": {
      "text/plain": [
       "2    810238\n",
       "1    213086\n",
       "0    196221\n",
       "Name: HousingCat, dtype: int64"
      ]
     },
     "execution_count": 14,
     "metadata": {},
     "output_type": "execute_result"
    }
   ],
   "source": [
    "dfCDI['HousingCat'] = dfCDI.apply(lambda x: housingFunc(x['OWNERSHP'], x['affrentdec']), axis=1)\n",
    "dfCDI['HousingCat'].value_counts()"
   ]
  },
  {
   "cell_type": "markdown",
   "id": "inner-contractor",
   "metadata": {},
   "source": [
    "COMBINING aff. rent and home ownership into 1 indicator: 0, 1, 2 scores (0: rent>=30% income, 1: rent<30% income, 2: owner)"
   ]
  },
  {
   "cell_type": "code",
   "execution_count": 15,
   "id": "checked-philadelphia",
   "metadata": {},
   "outputs": [
    {
     "data": {
      "text/plain": [
       "0    738291\n",
       "1    481254\n",
       "Name: EDUCbin, dtype: int64"
      ]
     },
     "execution_count": 15,
     "metadata": {},
     "output_type": "execute_result"
    }
   ],
   "source": [
    "dfCDI['EDUCbin'] = [1 if x >=8 else 0 for x in dfCDI['EDUC']]\n",
    "dfCDI['EDUCbin'].value_counts()"
   ]
  },
  {
   "cell_type": "code",
   "execution_count": 18,
   "id": "remarkable-roots",
   "metadata": {},
   "outputs": [
    {
     "data": {
      "text/plain": [
       "0      530850\n",
       "15     101569\n",
       "30     100776\n",
       "20      99530\n",
       "10      83993\n",
       "        ...  \n",
       "126         1\n",
       "82          1\n",
       "94          1\n",
       "92          1\n",
       "86          1\n",
       "Name: TRANTIME, Length: 126, dtype: int64"
      ]
     },
     "execution_count": 18,
     "metadata": {},
     "output_type": "execute_result"
    }
   ],
   "source": [
    "dfCDI['TRANTIME'].value_counts()"
   ]
  },
  {
   "cell_type": "code",
   "execution_count": 19,
   "id": "broken-virginia",
   "metadata": {},
   "outputs": [
    {
     "data": {
      "text/plain": [
       "(1219545, 41)"
      ]
     },
     "execution_count": 19,
     "metadata": {},
     "output_type": "execute_result"
    }
   ],
   "source": [
    "dfCDI.shape"
   ]
  },
  {
   "cell_type": "code",
   "execution_count": 20,
   "id": "egyptian-execution",
   "metadata": {},
   "outputs": [
    {
     "data": {
      "text/plain": [
       "(1170510, 58)"
      ]
     },
     "execution_count": 20,
     "metadata": {},
     "output_type": "execute_result"
    }
   ],
   "source": [
    "joined2019_2 = dfCDI.merge(dfCty, on='COUNTYFIP')\n",
    "joined2019_2.shape"
   ]
  },
  {
   "cell_type": "code",
   "execution_count": 21,
   "id": "informational-campaign",
   "metadata": {},
   "outputs": [
    {
     "name": "stdout",
     "output_type": "stream",
     "text": [
      "39\n",
      "40\n",
      "37\n",
      "54\n",
      "56\n",
      "55\n",
      "57\n"
     ]
    }
   ],
   "source": [
    "print(joined2019_2.columns.get_loc(\"HousingCat\"))\n",
    "print(joined2019_2.columns.get_loc(\"EDUCbin\"))\n",
    "print(joined2019_2.columns.get_loc(\"TRANTIME\"))\n",
    "print(joined2019_2.columns.get_loc(\"DrinkingWater\"))\n",
    "print(joined2019_2.columns.get_loc(\"AirQuality\"))\n",
    "print(joined2019_2.columns.get_loc(\"EarlyEd\"))\n",
    "print(joined2019_2.columns.get_loc(\"ProspNeigh\"))"
   ]
  },
  {
   "cell_type": "code",
   "execution_count": 22,
   "id": "solved-hammer",
   "metadata": {},
   "outputs": [],
   "source": [
    "X = joined2019_2.iloc[:, [39,40,37,54,56,55,57]]"
   ]
  },
  {
   "cell_type": "code",
   "execution_count": 23,
   "id": "cosmetic-croatia",
   "metadata": {},
   "outputs": [
    {
     "data": {
      "text/html": [
       "<div>\n",
       "<style scoped>\n",
       "    .dataframe tbody tr th:only-of-type {\n",
       "        vertical-align: middle;\n",
       "    }\n",
       "\n",
       "    .dataframe tbody tr th {\n",
       "        vertical-align: top;\n",
       "    }\n",
       "\n",
       "    .dataframe thead th {\n",
       "        text-align: right;\n",
       "    }\n",
       "</style>\n",
       "<table border=\"1\" class=\"dataframe\">\n",
       "  <thead>\n",
       "    <tr style=\"text-align: right;\">\n",
       "      <th></th>\n",
       "      <th>HousingCat</th>\n",
       "      <th>EDUCbin</th>\n",
       "      <th>TRANTIME</th>\n",
       "      <th>DrinkingWater</th>\n",
       "      <th>AirQuality</th>\n",
       "      <th>EarlyEd</th>\n",
       "      <th>ProspNeigh</th>\n",
       "    </tr>\n",
       "  </thead>\n",
       "  <tbody>\n",
       "    <tr>\n",
       "      <th>count</th>\n",
       "      <td>1.170510e+06</td>\n",
       "      <td>1.170510e+06</td>\n",
       "      <td>1.170510e+06</td>\n",
       "      <td>1170510.0</td>\n",
       "      <td>1.170510e+06</td>\n",
       "      <td>1.170510e+06</td>\n",
       "      <td>1.170510e+06</td>\n",
       "    </tr>\n",
       "    <tr>\n",
       "      <th>mean</th>\n",
       "      <td>1.499936e+00</td>\n",
       "      <td>3.981188e-01</td>\n",
       "      <td>1.560110e+01</td>\n",
       "      <td>1.0</td>\n",
       "      <td>3.486640e+01</td>\n",
       "      <td>5.090249e-01</td>\n",
       "      <td>8.312623e-01</td>\n",
       "    </tr>\n",
       "    <tr>\n",
       "      <th>std</th>\n",
       "      <td>7.582193e-01</td>\n",
       "      <td>4.895104e-01</td>\n",
       "      <td>2.179290e+01</td>\n",
       "      <td>0.0</td>\n",
       "      <td>7.366761e+00</td>\n",
       "      <td>7.035853e-02</td>\n",
       "      <td>9.973130e-02</td>\n",
       "    </tr>\n",
       "    <tr>\n",
       "      <th>min</th>\n",
       "      <td>0.000000e+00</td>\n",
       "      <td>0.000000e+00</td>\n",
       "      <td>0.000000e+00</td>\n",
       "      <td>1.0</td>\n",
       "      <td>1.900000e+01</td>\n",
       "      <td>3.300000e-01</td>\n",
       "      <td>5.633676e-01</td>\n",
       "    </tr>\n",
       "    <tr>\n",
       "      <th>25%</th>\n",
       "      <td>1.000000e+00</td>\n",
       "      <td>0.000000e+00</td>\n",
       "      <td>0.000000e+00</td>\n",
       "      <td>1.0</td>\n",
       "      <td>2.700000e+01</td>\n",
       "      <td>4.790000e-01</td>\n",
       "      <td>7.498056e-01</td>\n",
       "    </tr>\n",
       "    <tr>\n",
       "      <th>50%</th>\n",
       "      <td>2.000000e+00</td>\n",
       "      <td>0.000000e+00</td>\n",
       "      <td>1.000000e+01</td>\n",
       "      <td>1.0</td>\n",
       "      <td>3.800000e+01</td>\n",
       "      <td>5.320000e-01</td>\n",
       "      <td>8.438507e-01</td>\n",
       "    </tr>\n",
       "    <tr>\n",
       "      <th>75%</th>\n",
       "      <td>2.000000e+00</td>\n",
       "      <td>1.000000e+00</td>\n",
       "      <td>2.500000e+01</td>\n",
       "      <td>1.0</td>\n",
       "      <td>4.100000e+01</td>\n",
       "      <td>5.380000e-01</td>\n",
       "      <td>9.269250e-01</td>\n",
       "    </tr>\n",
       "    <tr>\n",
       "      <th>max</th>\n",
       "      <td>2.000000e+00</td>\n",
       "      <td>1.000000e+00</td>\n",
       "      <td>1.780000e+02</td>\n",
       "      <td>1.0</td>\n",
       "      <td>4.400000e+01</td>\n",
       "      <td>7.400000e-01</td>\n",
       "      <td>1.000000e+00</td>\n",
       "    </tr>\n",
       "  </tbody>\n",
       "</table>\n",
       "</div>"
      ],
      "text/plain": [
       "         HousingCat       EDUCbin      TRANTIME  DrinkingWater    AirQuality  \\\n",
       "count  1.170510e+06  1.170510e+06  1.170510e+06      1170510.0  1.170510e+06   \n",
       "mean   1.499936e+00  3.981188e-01  1.560110e+01            1.0  3.486640e+01   \n",
       "std    7.582193e-01  4.895104e-01  2.179290e+01            0.0  7.366761e+00   \n",
       "min    0.000000e+00  0.000000e+00  0.000000e+00            1.0  1.900000e+01   \n",
       "25%    1.000000e+00  0.000000e+00  0.000000e+00            1.0  2.700000e+01   \n",
       "50%    2.000000e+00  0.000000e+00  1.000000e+01            1.0  3.800000e+01   \n",
       "75%    2.000000e+00  1.000000e+00  2.500000e+01            1.0  4.100000e+01   \n",
       "max    2.000000e+00  1.000000e+00  1.780000e+02            1.0  4.400000e+01   \n",
       "\n",
       "            EarlyEd    ProspNeigh  \n",
       "count  1.170510e+06  1.170510e+06  \n",
       "mean   5.090249e-01  8.312623e-01  \n",
       "std    7.035853e-02  9.973130e-02  \n",
       "min    3.300000e-01  5.633676e-01  \n",
       "25%    4.790000e-01  7.498056e-01  \n",
       "50%    5.320000e-01  8.438507e-01  \n",
       "75%    5.380000e-01  9.269250e-01  \n",
       "max    7.400000e-01  1.000000e+00  "
      ]
     },
     "execution_count": 23,
     "metadata": {},
     "output_type": "execute_result"
    }
   ],
   "source": [
    "X.describe()"
   ]
  },
  {
   "cell_type": "code",
   "execution_count": 24,
   "id": "sacred-whole",
   "metadata": {},
   "outputs": [],
   "source": [
    "scaler=StandardScaler()\n",
    "scalerNum = scaler.fit(X)\n",
    "Xstd = scalerNum.transform(X)"
   ]
  },
  {
   "cell_type": "code",
   "execution_count": 26,
   "id": "damaged-matrix",
   "metadata": {},
   "outputs": [
    {
     "data": {
      "text/html": [
       "<div>\n",
       "<style scoped>\n",
       "    .dataframe tbody tr th:only-of-type {\n",
       "        vertical-align: middle;\n",
       "    }\n",
       "\n",
       "    .dataframe tbody tr th {\n",
       "        vertical-align: top;\n",
       "    }\n",
       "\n",
       "    .dataframe thead th {\n",
       "        text-align: right;\n",
       "    }\n",
       "</style>\n",
       "<table border=\"1\" class=\"dataframe\">\n",
       "  <thead>\n",
       "    <tr style=\"text-align: right;\">\n",
       "      <th></th>\n",
       "      <th>HousingCat</th>\n",
       "      <th>EDUCbin</th>\n",
       "      <th>TRANTIME</th>\n",
       "      <th>DrinkingWater</th>\n",
       "      <th>AirQuality</th>\n",
       "      <th>EarlyEd</th>\n",
       "      <th>ProspNeigh</th>\n",
       "    </tr>\n",
       "  </thead>\n",
       "  <tbody>\n",
       "    <tr>\n",
       "      <th>count</th>\n",
       "      <td>1.170510e+06</td>\n",
       "      <td>1.170510e+06</td>\n",
       "      <td>1.170510e+06</td>\n",
       "      <td>1170510.0</td>\n",
       "      <td>1.170510e+06</td>\n",
       "      <td>1.170510e+06</td>\n",
       "      <td>1.170510e+06</td>\n",
       "    </tr>\n",
       "    <tr>\n",
       "      <th>mean</th>\n",
       "      <td>7.169730e-13</td>\n",
       "      <td>-4.328006e-13</td>\n",
       "      <td>9.084261e-14</td>\n",
       "      <td>0.0</td>\n",
       "      <td>1.100339e-12</td>\n",
       "      <td>1.124357e-12</td>\n",
       "      <td>1.141147e-12</td>\n",
       "    </tr>\n",
       "    <tr>\n",
       "      <th>std</th>\n",
       "      <td>1.000000e+00</td>\n",
       "      <td>1.000000e+00</td>\n",
       "      <td>1.000000e+00</td>\n",
       "      <td>0.0</td>\n",
       "      <td>1.000000e+00</td>\n",
       "      <td>1.000000e+00</td>\n",
       "      <td>1.000000e+00</td>\n",
       "    </tr>\n",
       "    <tr>\n",
       "      <th>min</th>\n",
       "      <td>-1.978236e+00</td>\n",
       "      <td>-8.133003e-01</td>\n",
       "      <td>-7.158803e-01</td>\n",
       "      <td>0.0</td>\n",
       "      <td>-2.153784e+00</td>\n",
       "      <td>-2.544467e+00</td>\n",
       "      <td>-2.686166e+00</td>\n",
       "    </tr>\n",
       "    <tr>\n",
       "      <th>25%</th>\n",
       "      <td>-6.593556e-01</td>\n",
       "      <td>-8.133003e-01</td>\n",
       "      <td>-7.158803e-01</td>\n",
       "      <td>0.0</td>\n",
       "      <td>-1.067824e+00</td>\n",
       "      <td>-4.267416e-01</td>\n",
       "      <td>-8.167623e-01</td>\n",
       "    </tr>\n",
       "    <tr>\n",
       "      <th>50%</th>\n",
       "      <td>6.595246e-01</td>\n",
       "      <td>-8.133003e-01</td>\n",
       "      <td>-2.570151e-01</td>\n",
       "      <td>0.0</td>\n",
       "      <td>4.253698e-01</td>\n",
       "      <td>3.265434e-01</td>\n",
       "      <td>1.262227e-01</td>\n",
       "    </tr>\n",
       "    <tr>\n",
       "      <th>75%</th>\n",
       "      <td>6.595246e-01</td>\n",
       "      <td>1.229558e+00</td>\n",
       "      <td>4.312827e-01</td>\n",
       "      <td>0.0</td>\n",
       "      <td>8.326046e-01</td>\n",
       "      <td>4.118209e-01</td>\n",
       "      <td>9.592045e-01</td>\n",
       "    </tr>\n",
       "    <tr>\n",
       "      <th>max</th>\n",
       "      <td>6.595246e-01</td>\n",
       "      <td>1.229558e+00</td>\n",
       "      <td>7.451921e+00</td>\n",
       "      <td>0.0</td>\n",
       "      <td>1.239839e+00</td>\n",
       "      <td>3.282831e+00</td>\n",
       "      <td>1.691924e+00</td>\n",
       "    </tr>\n",
       "  </tbody>\n",
       "</table>\n",
       "</div>"
      ],
      "text/plain": [
       "         HousingCat       EDUCbin      TRANTIME  DrinkingWater    AirQuality  \\\n",
       "count  1.170510e+06  1.170510e+06  1.170510e+06      1170510.0  1.170510e+06   \n",
       "mean   7.169730e-13 -4.328006e-13  9.084261e-14            0.0  1.100339e-12   \n",
       "std    1.000000e+00  1.000000e+00  1.000000e+00            0.0  1.000000e+00   \n",
       "min   -1.978236e+00 -8.133003e-01 -7.158803e-01            0.0 -2.153784e+00   \n",
       "25%   -6.593556e-01 -8.133003e-01 -7.158803e-01            0.0 -1.067824e+00   \n",
       "50%    6.595246e-01 -8.133003e-01 -2.570151e-01            0.0  4.253698e-01   \n",
       "75%    6.595246e-01  1.229558e+00  4.312827e-01            0.0  8.326046e-01   \n",
       "max    6.595246e-01  1.229558e+00  7.451921e+00            0.0  1.239839e+00   \n",
       "\n",
       "            EarlyEd    ProspNeigh  \n",
       "count  1.170510e+06  1.170510e+06  \n",
       "mean   1.124357e-12  1.141147e-12  \n",
       "std    1.000000e+00  1.000000e+00  \n",
       "min   -2.544467e+00 -2.686166e+00  \n",
       "25%   -4.267416e-01 -8.167623e-01  \n",
       "50%    3.265434e-01  1.262227e-01  \n",
       "75%    4.118209e-01  9.592045e-01  \n",
       "max    3.282831e+00  1.691924e+00  "
      ]
     },
     "execution_count": 26,
     "metadata": {},
     "output_type": "execute_result"
    }
   ],
   "source": [
    "dfX = pd.DataFrame(Xstd, columns=['HousingCat','EDUCbin','TRANTIME','DrinkingWater','AirQuality','EarlyEd','ProspNeigh'])\n",
    "dfX.describe()"
   ]
  },
  {
   "cell_type": "markdown",
   "id": "included-simulation",
   "metadata": {},
   "source": [
    "elbow method:"
   ]
  },
  {
   "cell_type": "markdown",
   "id": "liked-thousand",
   "metadata": {},
   "source": [
    "silhouette score:"
   ]
  },
  {
   "cell_type": "code",
   "execution_count": 27,
   "id": "antique-genesis",
   "metadata": {},
   "outputs": [
    {
     "name": "stdout",
     "output_type": "stream",
     "text": [
      "[3 3 3 ... 0 2 1]\n"
     ]
    }
   ],
   "source": [
    "kmeans = KMeans(n_clusters = 5, init = 'k-means++', random_state = 42)\n",
    "kmeans.fit(dfX)\n",
    "print(kmeans.labels_)"
   ]
  },
  {
   "cell_type": "code",
   "execution_count": 28,
   "id": "featured-athens",
   "metadata": {},
   "outputs": [
    {
     "data": {
      "text/plain": [
       "array([[ 2.        ,  0.        ,  0.        , ..., 24.        ,\n",
       "         0.577     ,  0.95378249],\n",
       "       [ 2.        ,  0.        ,  0.        , ..., 24.        ,\n",
       "         0.577     ,  0.95378249],\n",
       "       [ 2.        ,  0.        ,  0.        , ..., 24.        ,\n",
       "         0.577     ,  0.95378249],\n",
       "       ...,\n",
       "       [ 0.        ,  0.        ,  0.        , ..., 40.        ,\n",
       "         0.355     ,  0.77457972],\n",
       "       [ 2.        ,  0.        ,  2.        , ..., 40.        ,\n",
       "         0.355     ,  0.77457972],\n",
       "       [ 2.        ,  1.        ,  5.        , ..., 40.        ,\n",
       "         0.355     ,  0.77457972]])"
      ]
     },
     "execution_count": 28,
     "metadata": {},
     "output_type": "execute_result"
    }
   ],
   "source": [
    "Xfin = scaler.inverse_transform(dfX)\n",
    "Xfin"
   ]
  },
  {
   "cell_type": "code",
   "execution_count": 29,
   "id": "designed-value",
   "metadata": {},
   "outputs": [
    {
     "data": {
      "text/html": [
       "<div>\n",
       "<style scoped>\n",
       "    .dataframe tbody tr th:only-of-type {\n",
       "        vertical-align: middle;\n",
       "    }\n",
       "\n",
       "    .dataframe tbody tr th {\n",
       "        vertical-align: top;\n",
       "    }\n",
       "\n",
       "    .dataframe thead th {\n",
       "        text-align: right;\n",
       "    }\n",
       "</style>\n",
       "<table border=\"1\" class=\"dataframe\">\n",
       "  <thead>\n",
       "    <tr style=\"text-align: right;\">\n",
       "      <th></th>\n",
       "      <th>HousingCat</th>\n",
       "      <th>EDUCbin</th>\n",
       "      <th>TRANTIME</th>\n",
       "      <th>DrinkingWater</th>\n",
       "      <th>AirQuality</th>\n",
       "      <th>EarlyEd</th>\n",
       "      <th>ProspNeigh</th>\n",
       "    </tr>\n",
       "  </thead>\n",
       "  <tbody>\n",
       "    <tr>\n",
       "      <th>count</th>\n",
       "      <td>1.170510e+06</td>\n",
       "      <td>1.170510e+06</td>\n",
       "      <td>1.170510e+06</td>\n",
       "      <td>1170510.0</td>\n",
       "      <td>1.170510e+06</td>\n",
       "      <td>1.170510e+06</td>\n",
       "      <td>1.170510e+06</td>\n",
       "    </tr>\n",
       "    <tr>\n",
       "      <th>mean</th>\n",
       "      <td>1.499936e+00</td>\n",
       "      <td>3.981188e-01</td>\n",
       "      <td>1.560110e+01</td>\n",
       "      <td>1.0</td>\n",
       "      <td>3.486640e+01</td>\n",
       "      <td>5.090249e-01</td>\n",
       "      <td>8.312623e-01</td>\n",
       "    </tr>\n",
       "    <tr>\n",
       "      <th>std</th>\n",
       "      <td>7.582193e-01</td>\n",
       "      <td>4.895104e-01</td>\n",
       "      <td>2.179290e+01</td>\n",
       "      <td>0.0</td>\n",
       "      <td>7.366761e+00</td>\n",
       "      <td>7.035853e-02</td>\n",
       "      <td>9.973130e-02</td>\n",
       "    </tr>\n",
       "    <tr>\n",
       "      <th>min</th>\n",
       "      <td>0.000000e+00</td>\n",
       "      <td>0.000000e+00</td>\n",
       "      <td>0.000000e+00</td>\n",
       "      <td>1.0</td>\n",
       "      <td>1.900000e+01</td>\n",
       "      <td>3.300000e-01</td>\n",
       "      <td>5.633676e-01</td>\n",
       "    </tr>\n",
       "    <tr>\n",
       "      <th>25%</th>\n",
       "      <td>1.000000e+00</td>\n",
       "      <td>0.000000e+00</td>\n",
       "      <td>0.000000e+00</td>\n",
       "      <td>1.0</td>\n",
       "      <td>2.700000e+01</td>\n",
       "      <td>4.790000e-01</td>\n",
       "      <td>7.498056e-01</td>\n",
       "    </tr>\n",
       "    <tr>\n",
       "      <th>50%</th>\n",
       "      <td>2.000000e+00</td>\n",
       "      <td>0.000000e+00</td>\n",
       "      <td>1.000000e+01</td>\n",
       "      <td>1.0</td>\n",
       "      <td>3.800000e+01</td>\n",
       "      <td>5.320000e-01</td>\n",
       "      <td>8.438507e-01</td>\n",
       "    </tr>\n",
       "    <tr>\n",
       "      <th>75%</th>\n",
       "      <td>2.000000e+00</td>\n",
       "      <td>1.000000e+00</td>\n",
       "      <td>2.500000e+01</td>\n",
       "      <td>1.0</td>\n",
       "      <td>4.100000e+01</td>\n",
       "      <td>5.380000e-01</td>\n",
       "      <td>9.269250e-01</td>\n",
       "    </tr>\n",
       "    <tr>\n",
       "      <th>max</th>\n",
       "      <td>2.000000e+00</td>\n",
       "      <td>1.000000e+00</td>\n",
       "      <td>1.780000e+02</td>\n",
       "      <td>1.0</td>\n",
       "      <td>4.400000e+01</td>\n",
       "      <td>7.400000e-01</td>\n",
       "      <td>1.000000e+00</td>\n",
       "    </tr>\n",
       "  </tbody>\n",
       "</table>\n",
       "</div>"
      ],
      "text/plain": [
       "         HousingCat       EDUCbin      TRANTIME  DrinkingWater    AirQuality  \\\n",
       "count  1.170510e+06  1.170510e+06  1.170510e+06      1170510.0  1.170510e+06   \n",
       "mean   1.499936e+00  3.981188e-01  1.560110e+01            1.0  3.486640e+01   \n",
       "std    7.582193e-01  4.895104e-01  2.179290e+01            0.0  7.366761e+00   \n",
       "min    0.000000e+00  0.000000e+00  0.000000e+00            1.0  1.900000e+01   \n",
       "25%    1.000000e+00  0.000000e+00  0.000000e+00            1.0  2.700000e+01   \n",
       "50%    2.000000e+00  0.000000e+00  1.000000e+01            1.0  3.800000e+01   \n",
       "75%    2.000000e+00  1.000000e+00  2.500000e+01            1.0  4.100000e+01   \n",
       "max    2.000000e+00  1.000000e+00  1.780000e+02            1.0  4.400000e+01   \n",
       "\n",
       "            EarlyEd    ProspNeigh  \n",
       "count  1.170510e+06  1.170510e+06  \n",
       "mean   5.090249e-01  8.312623e-01  \n",
       "std    7.035853e-02  9.973130e-02  \n",
       "min    3.300000e-01  5.633676e-01  \n",
       "25%    4.790000e-01  7.498056e-01  \n",
       "50%    5.320000e-01  8.438507e-01  \n",
       "75%    5.380000e-01  9.269250e-01  \n",
       "max    7.400000e-01  1.000000e+00  "
      ]
     },
     "execution_count": 29,
     "metadata": {},
     "output_type": "execute_result"
    }
   ],
   "source": [
    "dfXfin = pd.DataFrame(Xfin, columns=['HousingCat','EDUCbin','TRANTIME','DrinkingWater','AirQuality','EarlyEd','ProspNeigh'])\n",
    "dfXfin.describe()"
   ]
  },
  {
   "cell_type": "code",
   "execution_count": 30,
   "id": "opponent-schedule",
   "metadata": {},
   "outputs": [
    {
     "data": {
      "text/html": [
       "<div>\n",
       "<style scoped>\n",
       "    .dataframe tbody tr th:only-of-type {\n",
       "        vertical-align: middle;\n",
       "    }\n",
       "\n",
       "    .dataframe tbody tr th {\n",
       "        vertical-align: top;\n",
       "    }\n",
       "\n",
       "    .dataframe thead th {\n",
       "        text-align: right;\n",
       "    }\n",
       "</style>\n",
       "<table border=\"1\" class=\"dataframe\">\n",
       "  <thead>\n",
       "    <tr style=\"text-align: right;\">\n",
       "      <th></th>\n",
       "      <th>HousingCat</th>\n",
       "      <th>EDUCbin</th>\n",
       "      <th>TRANTIME</th>\n",
       "      <th>DrinkingWater</th>\n",
       "      <th>AirQuality</th>\n",
       "      <th>EarlyEd</th>\n",
       "      <th>ProspNeigh</th>\n",
       "    </tr>\n",
       "    <tr>\n",
       "      <th>labels</th>\n",
       "      <th></th>\n",
       "      <th></th>\n",
       "      <th></th>\n",
       "      <th></th>\n",
       "      <th></th>\n",
       "      <th></th>\n",
       "      <th></th>\n",
       "    </tr>\n",
       "  </thead>\n",
       "  <tbody>\n",
       "    <tr>\n",
       "      <th>0</th>\n",
       "      <td>0.297571</td>\n",
       "      <td>0.144018</td>\n",
       "      <td>11.624143</td>\n",
       "      <td>1.0</td>\n",
       "      <td>37.809882</td>\n",
       "      <td>0.508641</td>\n",
       "      <td>0.801258</td>\n",
       "    </tr>\n",
       "    <tr>\n",
       "      <th>1</th>\n",
       "      <td>1.820293</td>\n",
       "      <td>1.000000</td>\n",
       "      <td>13.875369</td>\n",
       "      <td>1.0</td>\n",
       "      <td>38.154047</td>\n",
       "      <td>0.494141</td>\n",
       "      <td>0.806277</td>\n",
       "    </tr>\n",
       "    <tr>\n",
       "      <th>2</th>\n",
       "      <td>1.921969</td>\n",
       "      <td>0.000000</td>\n",
       "      <td>9.443645</td>\n",
       "      <td>1.0</td>\n",
       "      <td>38.274098</td>\n",
       "      <td>0.469645</td>\n",
       "      <td>0.785771</td>\n",
       "    </tr>\n",
       "    <tr>\n",
       "      <th>3</th>\n",
       "      <td>1.620814</td>\n",
       "      <td>0.525884</td>\n",
       "      <td>14.068875</td>\n",
       "      <td>1.0</td>\n",
       "      <td>24.467513</td>\n",
       "      <td>0.576485</td>\n",
       "      <td>0.940207</td>\n",
       "    </tr>\n",
       "    <tr>\n",
       "      <th>4</th>\n",
       "      <td>1.662427</td>\n",
       "      <td>0.413673</td>\n",
       "      <td>78.653317</td>\n",
       "      <td>1.0</td>\n",
       "      <td>37.117589</td>\n",
       "      <td>0.494400</td>\n",
       "      <td>0.818774</td>\n",
       "    </tr>\n",
       "  </tbody>\n",
       "</table>\n",
       "</div>"
      ],
      "text/plain": [
       "        HousingCat   EDUCbin   TRANTIME  DrinkingWater  AirQuality   EarlyEd  \\\n",
       "labels                                                                         \n",
       "0         0.297571  0.144018  11.624143            1.0   37.809882  0.508641   \n",
       "1         1.820293  1.000000  13.875369            1.0   38.154047  0.494141   \n",
       "2         1.921969  0.000000   9.443645            1.0   38.274098  0.469645   \n",
       "3         1.620814  0.525884  14.068875            1.0   24.467513  0.576485   \n",
       "4         1.662427  0.413673  78.653317            1.0   37.117589  0.494400   \n",
       "\n",
       "        ProspNeigh  \n",
       "labels              \n",
       "0         0.801258  \n",
       "1         0.806277  \n",
       "2         0.785771  \n",
       "3         0.940207  \n",
       "4         0.818774  "
      ]
     },
     "execution_count": 30,
     "metadata": {},
     "output_type": "execute_result"
    }
   ],
   "source": [
    "dfXfin['labels'] = kmeans.labels_\n",
    "cluster_sum = dfXfin.groupby(by = 'labels').mean()\n",
    "cluster_sum.head()"
   ]
  },
  {
   "cell_type": "code",
   "execution_count": 31,
   "id": "included-expense",
   "metadata": {},
   "outputs": [],
   "source": [
    "clust0 = dfXfin[dfXfin['labels']==0]\n",
    "clust1 = dfXfin[dfXfin['labels']==1]\n",
    "clust2 = dfXfin[dfXfin['labels']==2]\n",
    "clust3 = dfXfin[dfXfin['labels']==3]\n",
    "clust4 = dfXfin[dfXfin['labels']==4]\n",
    "#clust5 = dfXfin[dfXfin['labels']==5]\n",
    "#clust6 = dfXfin[dfXfin['labels']==6]"
   ]
  },
  {
   "cell_type": "markdown",
   "id": "accepted-sister",
   "metadata": {},
   "source": [
    "## Housing Category"
   ]
  },
  {
   "cell_type": "code",
   "execution_count": 32,
   "id": "gentle-absence",
   "metadata": {},
   "outputs": [
    {
     "data": {
      "text/plain": [
       "0.0    159426\n",
       "1.0     67538\n",
       "Name: HousingCat, dtype: int64"
      ]
     },
     "execution_count": 32,
     "metadata": {},
     "output_type": "execute_result"
    }
   ],
   "source": [
    "clust0['HousingCat'].value_counts()"
   ]
  },
  {
   "cell_type": "code",
   "execution_count": 33,
   "id": "working-material",
   "metadata": {},
   "outputs": [
    {
     "data": {
      "text/plain": [
       "2.0    216363\n",
       "1.0     47400\n",
       "Name: HousingCat, dtype: int64"
      ]
     },
     "execution_count": 33,
     "metadata": {},
     "output_type": "execute_result"
    }
   ],
   "source": [
    "clust1['HousingCat'].value_counts()"
   ]
  },
  {
   "cell_type": "code",
   "execution_count": 34,
   "id": "equivalent-advancement",
   "metadata": {},
   "outputs": [
    {
     "data": {
      "text/plain": [
       "2.0    317326\n",
       "1.0     26857\n",
       "Name: HousingCat, dtype: int64"
      ]
     },
     "execution_count": 34,
     "metadata": {},
     "output_type": "execute_result"
    }
   ],
   "source": [
    "clust2['HousingCat'].value_counts()"
   ]
  },
  {
   "cell_type": "code",
   "execution_count": 35,
   "id": "historical-exception",
   "metadata": {},
   "outputs": [
    {
     "data": {
      "text/plain": [
       "2.0    196308\n",
       "1.0     51163\n",
       "0.0     26329\n",
       "Name: HousingCat, dtype: int64"
      ]
     },
     "execution_count": 35,
     "metadata": {},
     "output_type": "execute_result"
    }
   ],
   "source": [
    "clust3['HousingCat'].value_counts()"
   ]
  },
  {
   "cell_type": "code",
   "execution_count": 36,
   "id": "flush-azerbaijan",
   "metadata": {},
   "outputs": [
    {
     "data": {
      "text/plain": [
       "2.0    45330\n",
       "1.0    12078\n",
       "0.0     4392\n",
       "Name: HousingCat, dtype: int64"
      ]
     },
     "execution_count": 36,
     "metadata": {},
     "output_type": "execute_result"
    }
   ],
   "source": [
    "clust4['HousingCat'].value_counts()"
   ]
  },
  {
   "cell_type": "code",
   "execution_count": 37,
   "id": "rural-conference",
   "metadata": {},
   "outputs": [],
   "source": [
    "# TABLE"
   ]
  },
  {
   "cell_type": "markdown",
   "id": "corresponding-small",
   "metadata": {},
   "source": [
    "## Education (binary)"
   ]
  },
  {
   "cell_type": "code",
   "execution_count": 38,
   "id": "liberal-membrane",
   "metadata": {},
   "outputs": [
    {
     "data": {
      "text/plain": [
       "0.0    194277\n",
       "1.0     32687\n",
       "Name: EDUCbin, dtype: int64"
      ]
     },
     "execution_count": 38,
     "metadata": {},
     "output_type": "execute_result"
    }
   ],
   "source": [
    "clust0['EDUCbin'].value_counts()"
   ]
  },
  {
   "cell_type": "code",
   "execution_count": 39,
   "id": "universal-resident",
   "metadata": {},
   "outputs": [
    {
     "data": {
      "text/plain": [
       "1.0    263763\n",
       "Name: EDUCbin, dtype: int64"
      ]
     },
     "execution_count": 39,
     "metadata": {},
     "output_type": "execute_result"
    }
   ],
   "source": [
    "clust1['EDUCbin'].value_counts()"
   ]
  },
  {
   "cell_type": "code",
   "execution_count": 40,
   "id": "united-smell",
   "metadata": {},
   "outputs": [
    {
     "data": {
      "text/plain": [
       "0.0    344183\n",
       "Name: EDUCbin, dtype: int64"
      ]
     },
     "execution_count": 40,
     "metadata": {},
     "output_type": "execute_result"
    }
   ],
   "source": [
    "clust2['EDUCbin'].value_counts()"
   ]
  },
  {
   "cell_type": "code",
   "execution_count": 41,
   "id": "fleet-closer",
   "metadata": {},
   "outputs": [
    {
     "data": {
      "text/plain": [
       "1.0    143987\n",
       "0.0    129813\n",
       "Name: EDUCbin, dtype: int64"
      ]
     },
     "execution_count": 41,
     "metadata": {},
     "output_type": "execute_result"
    }
   ],
   "source": [
    "clust3['EDUCbin'].value_counts()"
   ]
  },
  {
   "cell_type": "code",
   "execution_count": 42,
   "id": "ahead-affair",
   "metadata": {},
   "outputs": [
    {
     "data": {
      "text/plain": [
       "0.0    36235\n",
       "1.0    25565\n",
       "Name: EDUCbin, dtype: int64"
      ]
     },
     "execution_count": 42,
     "metadata": {},
     "output_type": "execute_result"
    }
   ],
   "source": [
    "clust4['EDUCbin'].value_counts()"
   ]
  },
  {
   "cell_type": "code",
   "execution_count": null,
   "id": "lesbian-student",
   "metadata": {},
   "outputs": [],
   "source": [
    "#TABLE\n"
   ]
  },
  {
   "cell_type": "markdown",
   "id": "grateful-ozone",
   "metadata": {},
   "source": [
    "## Commute Time"
   ]
  },
  {
   "cell_type": "code",
   "execution_count": 43,
   "id": "black-honey",
   "metadata": {},
   "outputs": [
    {
     "data": {
      "text/plain": [
       "(array([120154.,  18839.,  20473.,  26261.,  21642.,   2939.,  12200.,\n",
       "           768.,    158.,   3530.]),\n",
       " array([ 0. ,  6.5, 13. , 19.5, 26. , 32.5, 39. , 45.5, 52. , 58.5, 65. ]),\n",
       " <BarContainer object of 10 artists>)"
      ]
     },
     "execution_count": 43,
     "metadata": {},
     "output_type": "execute_result"
    },
    {
     "data": {
      "image/png": "[encoded data removed]",
      "text/plain": [
       "<Figure size 432x288 with 1 Axes>"
      ]
     },
     "metadata": {
      "needs_background": "light"
     },
     "output_type": "display_data"
    }
   ],
   "source": [
    "matplotlib.pyplot.hist(clust0['TRANTIME'])"
   ]
  },
  {
   "cell_type": "code",
   "execution_count": 44,
   "id": "adapted-omaha",
   "metadata": {},
   "outputs": [
    {
     "data": {
      "text/plain": [
       "(array([112149.,  25656.,  29150.,  28081.,  12064.,  26856.,   5971.,\n",
       "          8418.,  12152.,   3266.]),\n",
       " array([ 0. ,  5.5, 11. , 16.5, 22. , 27.5, 33. , 38.5, 44. , 49.5, 55. ]),\n",
       " <BarContainer object of 10 artists>)"
      ]
     },
     "execution_count": 44,
     "metadata": {},
     "output_type": "execute_result"
    },
    {
     "data": {
      "image/png": "[encoded data removed]",
      "text/plain": [
       "<Figure size 432x288 with 1 Axes>"
      ]
     },
     "metadata": {
      "needs_background": "light"
     },
     "output_type": "display_data"
    }
   ],
   "source": [
    "matplotlib.pyplot.hist(clust1['TRANTIME'])"
   ]
  },
  {
   "cell_type": "code",
   "execution_count": 45,
   "id": "forty-northwest",
   "metadata": {},
   "outputs": [
    {
     "data": {
      "text/plain": [
       "(array([200348.,  27686.,  30460.,  28037.,  10882.,  26591.,   4556.,\n",
       "          6811.,   8039.,    773.]),\n",
       " array([ 0. ,  5.5, 11. , 16.5, 22. , 27.5, 33. , 38.5, 44. , 49.5, 55. ]),\n",
       " <BarContainer object of 10 artists>)"
      ]
     },
     "execution_count": 45,
     "metadata": {},
     "output_type": "execute_result"
    },
    {
     "data": {
      "image/png": "[encoded data removed]",
      "text/plain": [
       "<Figure size 432x288 with 1 Axes>"
      ]
     },
     "metadata": {
      "needs_background": "light"
     },
     "output_type": "display_data"
    }
   ],
   "source": [
    "matplotlib.pyplot.hist(clust2['TRANTIME'])"
   ]
  },
  {
   "cell_type": "code",
   "execution_count": 46,
   "id": "played-smile",
   "metadata": {},
   "outputs": [
    {
     "data": {
      "text/plain": [
       "(array([1.32784e+05, 4.64840e+04, 3.39030e+04, 2.88270e+04, 1.91850e+04,\n",
       "        3.82400e+03, 8.27000e+03, 4.44000e+02, 1.00000e+01, 6.90000e+01]),\n",
       " array([ 0. ,  9.5, 19. , 28.5, 38. , 47.5, 57. , 66.5, 76. , 85.5, 95. ]),\n",
       " <BarContainer object of 10 artists>)"
      ]
     },
     "execution_count": 46,
     "metadata": {},
     "output_type": "execute_result"
    },
    {
     "data": {
      "image/png": "[encoded data removed]",
      "text/plain": [
       "<Figure size 432x288 with 1 Axes>"
      ]
     },
     "metadata": {
      "needs_background": "light"
     },
     "output_type": "display_data"
    }
   ],
   "source": [
    "matplotlib.pyplot.hist(clust3['TRANTIME'])"
   ]
  },
  {
   "cell_type": "code",
   "execution_count": 47,
   "id": "listed-carnival",
   "metadata": {},
   "outputs": [
    {
     "data": {
      "text/plain": [
       "(array([ 7006., 27873.,  5948., 10683.,  1604.,  2988.,    89.,  3319.,\n",
       "            0.,  2290.]),\n",
       " array([ 45. ,  58.3,  71.6,  84.9,  98.2, 111.5, 124.8, 138.1, 151.4,\n",
       "        164.7, 178. ]),\n",
       " <BarContainer object of 10 artists>)"
      ]
     },
     "execution_count": 47,
     "metadata": {},
     "output_type": "execute_result"
    },
    {
     "data": {
      "image/png": "[encoded data removed]",
      "text/plain": [
       "<Figure size 432x288 with 1 Axes>"
      ]
     },
     "metadata": {
      "needs_background": "light"
     },
     "output_type": "display_data"
    }
   ],
   "source": [
    "matplotlib.pyplot.hist(clust4['TRANTIME'])"
   ]
  },
  {
   "cell_type": "markdown",
   "id": "prescribed-supervisor",
   "metadata": {},
   "source": [
    "## Clean Drinking Water"
   ]
  },
  {
   "cell_type": "code",
   "execution_count": 48,
   "id": "clinical-monroe",
   "metadata": {},
   "outputs": [
    {
     "data": {
      "text/plain": [
       "(array([     0.,      0.,      0.,      0.,      0., 226964.,      0.,\n",
       "             0.,      0.,      0.]),\n",
       " array([0.5, 0.6, 0.7, 0.8, 0.9, 1. , 1.1, 1.2, 1.3, 1.4, 1.5]),\n",
       " <BarContainer object of 10 artists>)"
      ]
     },
     "execution_count": 48,
     "metadata": {},
     "output_type": "execute_result"
    },
    {
     "data": {
      "image/png": "[encoded data removed]",
      "text/plain": [
       "<Figure size 432x288 with 1 Axes>"
      ]
     },
     "metadata": {
      "needs_background": "light"
     },
     "output_type": "display_data"
    }
   ],
   "source": [
    "matplotlib.pyplot.hist(clust0['DrinkingWater'])"
   ]
  },
  {
   "cell_type": "code",
   "execution_count": 49,
   "id": "breathing-premiere",
   "metadata": {},
   "outputs": [
    {
     "data": {
      "text/plain": [
       "(array([     0.,      0.,      0.,      0.,      0., 263763.,      0.,\n",
       "             0.,      0.,      0.]),\n",
       " array([0.5, 0.6, 0.7, 0.8, 0.9, 1. , 1.1, 1.2, 1.3, 1.4, 1.5]),\n",
       " <BarContainer object of 10 artists>)"
      ]
     },
     "execution_count": 49,
     "metadata": {},
     "output_type": "execute_result"
    },
    {
     "data": {
      "image/png": "[encoded data removed]",
      "text/plain": [
       "<Figure size 432x288 with 1 Axes>"
      ]
     },
     "metadata": {
      "needs_background": "light"
     },
     "output_type": "display_data"
    }
   ],
   "source": [
    "matplotlib.pyplot.hist(clust1['DrinkingWater'])"
   ]
  },
  {
   "cell_type": "code",
   "execution_count": 50,
   "id": "alike-simulation",
   "metadata": {},
   "outputs": [
    {
     "data": {
      "text/plain": [
       "(array([     0.,      0.,      0.,      0.,      0., 344183.,      0.,\n",
       "             0.,      0.,      0.]),\n",
       " array([0.5, 0.6, 0.7, 0.8, 0.9, 1. , 1.1, 1.2, 1.3, 1.4, 1.5]),\n",
       " <BarContainer object of 10 artists>)"
      ]
     },
     "execution_count": 50,
     "metadata": {},
     "output_type": "execute_result"
    },
    {
     "data": {
      "image/png": "[encoded data removed]",
      "text/plain": [
       "<Figure size 432x288 with 1 Axes>"
      ]
     },
     "metadata": {
      "needs_background": "light"
     },
     "output_type": "display_data"
    }
   ],
   "source": [
    "matplotlib.pyplot.hist(clust2['DrinkingWater'])"
   ]
  },
  {
   "cell_type": "code",
   "execution_count": 51,
   "id": "sublime-blank",
   "metadata": {},
   "outputs": [
    {
     "data": {
      "text/plain": [
       "(array([     0.,      0.,      0.,      0.,      0., 273800.,      0.,\n",
       "             0.,      0.,      0.]),\n",
       " array([0.5, 0.6, 0.7, 0.8, 0.9, 1. , 1.1, 1.2, 1.3, 1.4, 1.5]),\n",
       " <BarContainer object of 10 artists>)"
      ]
     },
     "execution_count": 51,
     "metadata": {},
     "output_type": "execute_result"
    },
    {
     "data": {
      "image/png": "[encoded data removed]",
      "text/plain": [
       "<Figure size 432x288 with 1 Axes>"
      ]
     },
     "metadata": {
      "needs_background": "light"
     },
     "output_type": "display_data"
    }
   ],
   "source": [
    "matplotlib.pyplot.hist(clust3['DrinkingWater'])"
   ]
  },
  {
   "cell_type": "code",
   "execution_count": 52,
   "id": "adjusted-england",
   "metadata": {},
   "outputs": [
    {
     "data": {
      "text/plain": [
       "(array([    0.,     0.,     0.,     0.,     0., 61800.,     0.,     0.,\n",
       "            0.,     0.]),\n",
       " array([0.5, 0.6, 0.7, 0.8, 0.9, 1. , 1.1, 1.2, 1.3, 1.4, 1.5]),\n",
       " <BarContainer object of 10 artists>)"
      ]
     },
     "execution_count": 52,
     "metadata": {},
     "output_type": "execute_result"
    },
    {
     "data": {
      "image/png": "[encoded data removed]",
      "text/plain": [
       "<Figure size 432x288 with 1 Axes>"
      ]
     },
     "metadata": {
      "needs_background": "light"
     },
     "output_type": "display_data"
    }
   ],
   "source": [
    "matplotlib.pyplot.hist(clust4['DrinkingWater'])"
   ]
  },
  {
   "cell_type": "markdown",
   "id": "developing-affair",
   "metadata": {},
   "source": [
    "## Air Quality"
   ]
  },
  {
   "cell_type": "code",
   "execution_count": 53,
   "id": "endangered-arena",
   "metadata": {},
   "outputs": [
    {
     "data": {
      "text/plain": [
       "(array([  1295.,   6989.,  15805.,   6791.,   1243.,   6748.,  37025.,\n",
       "         30775., 102855.,  17438.]),\n",
       " array([21. , 23.3, 25.6, 27.9, 30.2, 32.5, 34.8, 37.1, 39.4, 41.7, 44. ]),\n",
       " <BarContainer object of 10 artists>)"
      ]
     },
     "execution_count": 53,
     "metadata": {},
     "output_type": "execute_result"
    },
    {
     "data": {
      "image/png": "[encoded data removed]",
      "text/plain": [
       "<Figure size 432x288 with 1 Axes>"
      ]
     },
     "metadata": {
      "needs_background": "light"
     },
     "output_type": "display_data"
    }
   ],
   "source": [
    "matplotlib.pyplot.hist(clust0['AirQuality'])"
   ]
  },
  {
   "cell_type": "code",
   "execution_count": 54,
   "id": "conceptual-northern",
   "metadata": {},
   "outputs": [
    {
     "data": {
      "text/plain": [
       "(array([  1942.,  20598.,   4976.,      0.,   6911.,  13760.,  89365.,\n",
       "           975., 109981.,  15255.]),\n",
       " array([25. , 26.9, 28.8, 30.7, 32.6, 34.5, 36.4, 38.3, 40.2, 42.1, 44. ]),\n",
       " <BarContainer object of 10 artists>)"
      ]
     },
     "execution_count": 54,
     "metadata": {},
     "output_type": "execute_result"
    },
    {
     "data": {
      "image/png": "[encoded data removed]",
      "text/plain": [
       "<Figure size 432x288 with 1 Axes>"
      ]
     },
     "metadata": {
      "needs_background": "light"
     },
     "output_type": "display_data"
    }
   ],
   "source": [
    "matplotlib.pyplot.hist(clust1['AirQuality'])"
   ]
  },
  {
   "cell_type": "code",
   "execution_count": 55,
   "id": "optical-cradle",
   "metadata": {},
   "outputs": [
    {
     "data": {
      "text/plain": [
       "(array([  4007.,  27909.,   4679.,      0.,  15561.,  34947.,  77750.,\n",
       "          2795., 137160.,  39375.]),\n",
       " array([25. , 26.9, 28.8, 30.7, 32.6, 34.5, 36.4, 38.3, 40.2, 42.1, 44. ]),\n",
       " <BarContainer object of 10 artists>)"
      ]
     },
     "execution_count": 55,
     "metadata": {},
     "output_type": "execute_result"
    },
    {
     "data": {
      "image/png": "[encoded data removed]",
      "text/plain": [
       "<Figure size 432x288 with 1 Axes>"
      ]
     },
     "metadata": {
      "needs_background": "light"
     },
     "output_type": "display_data"
    }
   ],
   "source": [
    "matplotlib.pyplot.hist(clust2['AirQuality'])"
   ]
  },
  {
   "cell_type": "code",
   "execution_count": 56,
   "id": "dutch-archive",
   "metadata": {},
   "outputs": [
    {
     "data": {
      "text/plain": [
       "(array([50162., 25788., 60450., 82962.,  5493., 24736.,     0.,  7508.,\n",
       "        11221.,  5480.]),\n",
       " array([19. , 20.7, 22.4, 24.1, 25.8, 27.5, 29.2, 30.9, 32.6, 34.3, 36. ]),\n",
       " <BarContainer object of 10 artists>)"
      ]
     },
     "execution_count": 56,
     "metadata": {},
     "output_type": "execute_result"
    },
    {
     "data": {
      "image/png": "[encoded data removed]",
      "text/plain": [
       "<Figure size 432x288 with 1 Axes>"
      ]
     },
     "metadata": {
      "needs_background": "light"
     },
     "output_type": "display_data"
    }
   ],
   "source": [
    "matplotlib.pyplot.hist(clust3['AirQuality'])"
   ]
  },
  {
   "cell_type": "code",
   "execution_count": 57,
   "id": "technological-leeds",
   "metadata": {},
   "outputs": [
    {
     "data": {
      "text/plain": [
       "(array([ 3010.,    54.,  2678.,  5094.,   845.,   446.,  3967., 13326.,\n",
       "        21365., 11015.]),\n",
       " array([19. , 21.5, 24. , 26.5, 29. , 31.5, 34. , 36.5, 39. , 41.5, 44. ]),\n",
       " <BarContainer object of 10 artists>)"
      ]
     },
     "execution_count": 57,
     "metadata": {},
     "output_type": "execute_result"
    },
    {
     "data": {
      "image/png": "[encoded data removed]",
      "text/plain": [
       "<Figure size 432x288 with 1 Axes>"
      ]
     },
     "metadata": {
      "needs_background": "light"
     },
     "output_type": "display_data"
    }
   ],
   "source": [
    "matplotlib.pyplot.hist(clust4['AirQuality'])"
   ]
  },
  {
   "cell_type": "markdown",
   "id": "nasty-saskatchewan",
   "metadata": {},
   "source": [
    "## Early Education"
   ]
  },
  {
   "cell_type": "code",
   "execution_count": 58,
   "id": "activated-mandate",
   "metadata": {},
   "outputs": [
    {
     "data": {
      "text/plain": [
       "(array([  1683.,  13802.,  14903.,   4628.,      0.,  42374.,  36337.,\n",
       "        104016.,   6068.,   3153.]),\n",
       " array([0.33  , 0.3595, 0.389 , 0.4185, 0.448 , 0.4775, 0.507 , 0.5365,\n",
       "        0.566 , 0.5955, 0.625 ]),\n",
       " <BarContainer object of 10 artists>)"
      ]
     },
     "execution_count": 58,
     "metadata": {},
     "output_type": "execute_result"
    },
    {
     "data": {
      "image/png": "[encoded data removed]",
      "text/plain": [
       "<Figure size 432x288 with 1 Axes>"
      ]
     },
     "metadata": {
      "needs_background": "light"
     },
     "output_type": "display_data"
    }
   ],
   "source": [
    "matplotlib.pyplot.hist(clust0['EarlyEd'])"
   ]
  },
  {
   "cell_type": "code",
   "execution_count": 59,
   "id": "musical-behavior",
   "metadata": {},
   "outputs": [
    {
     "data": {
      "text/plain": [
       "(array([  1395.,   6129.,  20983.,  23143.,   1942.,   4666.,      0.,\n",
       "         20908.,  41844., 142753.]),\n",
       " array([0.33  , 0.3508, 0.3716, 0.3924, 0.4132, 0.434 , 0.4548, 0.4756,\n",
       "        0.4964, 0.5172, 0.538 ]),\n",
       " <BarContainer object of 10 artists>)"
      ]
     },
     "execution_count": 59,
     "metadata": {},
     "output_type": "execute_result"
    },
    {
     "data": {
      "image/png": "[encoded data removed]",
      "text/plain": [
       "<Figure size 432x288 with 1 Axes>"
      ]
     },
     "metadata": {
      "needs_background": "light"
     },
     "output_type": "display_data"
    }
   ],
   "source": [
    "matplotlib.pyplot.hist(clust1['EarlyEd'])"
   ]
  },
  {
   "cell_type": "code",
   "execution_count": 60,
   "id": "important-present",
   "metadata": {},
   "outputs": [
    {
     "data": {
      "text/plain": [
       "(array([  4538.,  17667.,  49924.,  54775.,   4007.,  11038.,      0.,\n",
       "         21550.,  35927., 144757.]),\n",
       " array([0.33  , 0.3508, 0.3716, 0.3924, 0.4132, 0.434 , 0.4548, 0.4756,\n",
       "        0.4964, 0.5172, 0.538 ]),\n",
       " <BarContainer object of 10 artists>)"
      ]
     },
     "execution_count": 60,
     "metadata": {},
     "output_type": "execute_result"
    },
    {
     "data": {
      "image/png": "[encoded data removed]",
      "text/plain": [
       "<Figure size 432x288 with 1 Axes>"
      ]
     },
     "metadata": {
      "needs_background": "light"
     },
     "output_type": "display_data"
    }
   ],
   "source": [
    "matplotlib.pyplot.hist(clust2['EarlyEd'])"
   ]
  },
  {
   "cell_type": "code",
   "execution_count": 61,
   "id": "impressive-banana",
   "metadata": {},
   "outputs": [
    {
     "data": {
      "text/plain": [
       "(array([ 11217.,      0.,  24876.,  19416., 109017.,  75662.,  24736.,\n",
       "             0.,      0.,   8876.]),\n",
       " array([0.431 , 0.4619, 0.4928, 0.5237, 0.5546, 0.5855, 0.6164, 0.6473,\n",
       "        0.6782, 0.7091, 0.74  ]),\n",
       " <BarContainer object of 10 artists>)"
      ]
     },
     "execution_count": 61,
     "metadata": {},
     "output_type": "execute_result"
    },
    {
     "data": {
      "image/png": "[encoded data removed]",
      "text/plain": [
       "<Figure size 432x288 with 1 Axes>"
      ]
     },
     "metadata": {
      "needs_background": "light"
     },
     "output_type": "display_data"
    }
   ],
   "source": [
    "matplotlib.pyplot.hist(clust3['EarlyEd'])"
   ]
  },
  {
   "cell_type": "code",
   "execution_count": 62,
   "id": "voluntary-platinum",
   "metadata": {},
   "outputs": [
    {
     "data": {
      "text/plain": [
       "(array([ 1448., 12950.,  3332.,  2370., 14982., 23005.,  3058.,   608.,\n",
       "            0.,    47.]),\n",
       " array([0.33 , 0.371, 0.412, 0.453, 0.494, 0.535, 0.576, 0.617, 0.658,\n",
       "        0.699, 0.74 ]),\n",
       " <BarContainer object of 10 artists>)"
      ]
     },
     "execution_count": 62,
     "metadata": {},
     "output_type": "execute_result"
    },
    {
     "data": {
      "image/png": "[encoded data removed]",
      "text/plain": [
       "<Figure size 432x288 with 1 Axes>"
      ]
     },
     "metadata": {
      "needs_background": "light"
     },
     "output_type": "display_data"
    }
   ],
   "source": [
    "matplotlib.pyplot.hist(clust4['EarlyEd'])"
   ]
  },
  {
   "cell_type": "markdown",
   "id": "honey-destiny",
   "metadata": {},
   "source": [
    "## Prosperous Neighborhoods"
   ]
  },
  {
   "cell_type": "code",
   "execution_count": 63,
   "id": "desirable-defensive",
   "metadata": {},
   "outputs": [
    {
     "data": {
      "text/plain": [
       "(array([  6541.,   4272.,   1990.,      0., 102855.,  17824.,  49235.,\n",
       "          5269.,  37725.,   1253.]),\n",
       " array([0.56336763, 0.60703086, 0.6506941 , 0.69435734, 0.73802058,\n",
       "        0.78168381, 0.82534705, 0.86901029, 0.91267353, 0.95633676,\n",
       "        1.        ]),\n",
       " <BarContainer object of 10 artists>)"
      ]
     },
     "execution_count": 63,
     "metadata": {},
     "output_type": "execute_result"
    },
    {
     "data": {
      "image/png": "[encoded data removed]",
      "text/plain": [
       "<Figure size 432x288 with 1 Axes>"
      ]
     },
     "metadata": {
      "needs_background": "light"
     },
     "output_type": "display_data"
    }
   ],
   "source": [
    "matplotlib.pyplot.hist(clust0['ProspNeigh'])"
   ]
  },
  {
   "cell_type": "code",
   "execution_count": 64,
   "id": "pressing-grain",
   "metadata": {},
   "outputs": [
    {
     "data": {
      "text/plain": [
       "(array([10145.,  5154.,  3264.,     0.,     0., 93767., 18929., 81864.,\n",
       "            0., 50640.]),\n",
       " array([0.56336763, 0.59975012, 0.63613262, 0.67251511, 0.7088976 ,\n",
       "        0.7452801 , 0.78166259, 0.81804509, 0.85442758, 0.89081008,\n",
       "        0.92719257]),\n",
       " <BarContainer object of 10 artists>)"
      ]
     },
     "execution_count": 64,
     "metadata": {},
     "output_type": "execute_result"
    },
    {
     "data": {
      "image/png": "[encoded data removed]",
      "text/plain": [
       "<Figure size 432x288 with 1 Axes>"
      ]
     },
     "metadata": {
      "needs_background": "light"
     },
     "output_type": "display_data"
    }
   ],
   "source": [
    "matplotlib.pyplot.hist(clust1['ProspNeigh'])"
   ]
  },
  {
   "cell_type": "code",
   "execution_count": 65,
   "id": "empirical-routine",
   "metadata": {},
   "outputs": [
    {
     "data": {
      "text/plain": [
       "(array([ 25259.,  14872.,   9608.,      0.,      0., 102376.,  44698.,\n",
       "        103708.,      0.,  43662.]),\n",
       " array([0.56336763, 0.59975012, 0.63613262, 0.67251511, 0.7088976 ,\n",
       "        0.7452801 , 0.78166259, 0.81804509, 0.85442758, 0.89081008,\n",
       "        0.92719257]),\n",
       " <BarContainer object of 10 artists>)"
      ]
     },
     "execution_count": 65,
     "metadata": {},
     "output_type": "execute_result"
    },
    {
     "data": {
      "image/png": "[encoded data removed]",
      "text/plain": [
       "<Figure size 432x288 with 1 Axes>"
      ]
     },
     "metadata": {
      "needs_background": "light"
     },
     "output_type": "display_data"
    }
   ],
   "source": [
    "matplotlib.pyplot.hist(clust2['ProspNeigh'])"
   ]
  },
  {
   "cell_type": "code",
   "execution_count": 66,
   "id": "appropriate-neighbor",
   "metadata": {},
   "outputs": [
    {
     "data": {
      "text/plain": [
       "(array([44540.,     0.,     0., 57530., 13721., 32153., 60450., 22848.,\n",
       "        31337., 11221.]),\n",
       " array([0.88109044, 0.8929814 , 0.90487236, 0.91676331, 0.92865427,\n",
       "        0.94054522, 0.95243618, 0.96432713, 0.97621809, 0.98810904,\n",
       "        1.        ]),\n",
       " <BarContainer object of 10 artists>)"
      ]
     },
     "execution_count": 66,
     "metadata": {},
     "output_type": "execute_result"
    },
    {
     "data": {
      "image/png": "[encoded data removed]",
      "text/plain": [
       "<Figure size 432x288 with 1 Axes>"
      ]
     },
     "metadata": {
      "needs_background": "light"
     },
     "output_type": "display_data"
    }
   ],
   "source": [
    "matplotlib.pyplot.hist(clust3['ProspNeigh'])"
   ]
  },
  {
   "cell_type": "code",
   "execution_count": 67,
   "id": "commercial-conditioning",
   "metadata": {},
   "outputs": [
    {
     "data": {
      "text/plain": [
       "(array([ 1145.,  1335.,   302.,     0., 21365.,  8154., 13692.,  1089.,\n",
       "        12983.,  1735.]),\n",
       " array([0.56336763, 0.60703086, 0.6506941 , 0.69435734, 0.73802058,\n",
       "        0.78168381, 0.82534705, 0.86901029, 0.91267353, 0.95633676,\n",
       "        1.        ]),\n",
       " <BarContainer object of 10 artists>)"
      ]
     },
     "execution_count": 67,
     "metadata": {},
     "output_type": "execute_result"
    },
    {
     "data": {
      "image/png": "[encoded data removed]",
      "text/plain": [
       "<Figure size 432x288 with 1 Axes>"
      ]
     },
     "metadata": {
      "needs_background": "light"
     },
     "output_type": "display_data"
    }
   ],
   "source": [
    "matplotlib.pyplot.hist(clust4['ProspNeigh'])"
   ]
  },
  {
   "cell_type": "markdown",
   "id": "humanitarian-essex",
   "metadata": {},
   "source": [
    "## Feature Correlations"
   ]
  },
  {
   "cell_type": "code",
   "execution_count": 70,
   "id": "acquired-prime",
   "metadata": {},
   "outputs": [
    {
     "data": {
      "text/html": [
       "<div>\n",
       "<style scoped>\n",
       "    .dataframe tbody tr th:only-of-type {\n",
       "        vertical-align: middle;\n",
       "    }\n",
       "\n",
       "    .dataframe tbody tr th {\n",
       "        vertical-align: top;\n",
       "    }\n",
       "\n",
       "    .dataframe thead th {\n",
       "        text-align: right;\n",
       "    }\n",
       "</style>\n",
       "<table border=\"1\" class=\"dataframe\">\n",
       "  <thead>\n",
       "    <tr style=\"text-align: right;\">\n",
       "      <th></th>\n",
       "      <th>HousingCat</th>\n",
       "      <th>EDUCbin</th>\n",
       "      <th>TRANTIME</th>\n",
       "      <th>DrinkingWater</th>\n",
       "      <th>AirQuality</th>\n",
       "      <th>EarlyEd</th>\n",
       "      <th>ProspNeigh</th>\n",
       "    </tr>\n",
       "  </thead>\n",
       "  <tbody>\n",
       "    <tr>\n",
       "      <th>0</th>\n",
       "      <td>2.0</td>\n",
       "      <td>0.0</td>\n",
       "      <td>0.0</td>\n",
       "      <td>1.0</td>\n",
       "      <td>24.0</td>\n",
       "      <td>0.577</td>\n",
       "      <td>0.953782</td>\n",
       "    </tr>\n",
       "    <tr>\n",
       "      <th>1</th>\n",
       "      <td>2.0</td>\n",
       "      <td>0.0</td>\n",
       "      <td>0.0</td>\n",
       "      <td>1.0</td>\n",
       "      <td>24.0</td>\n",
       "      <td>0.577</td>\n",
       "      <td>0.953782</td>\n",
       "    </tr>\n",
       "    <tr>\n",
       "      <th>2</th>\n",
       "      <td>2.0</td>\n",
       "      <td>0.0</td>\n",
       "      <td>0.0</td>\n",
       "      <td>1.0</td>\n",
       "      <td>24.0</td>\n",
       "      <td>0.577</td>\n",
       "      <td>0.953782</td>\n",
       "    </tr>\n",
       "    <tr>\n",
       "      <th>3</th>\n",
       "      <td>2.0</td>\n",
       "      <td>0.0</td>\n",
       "      <td>0.0</td>\n",
       "      <td>1.0</td>\n",
       "      <td>24.0</td>\n",
       "      <td>0.577</td>\n",
       "      <td>0.953782</td>\n",
       "    </tr>\n",
       "    <tr>\n",
       "      <th>4</th>\n",
       "      <td>2.0</td>\n",
       "      <td>1.0</td>\n",
       "      <td>20.0</td>\n",
       "      <td>1.0</td>\n",
       "      <td>24.0</td>\n",
       "      <td>0.577</td>\n",
       "      <td>0.953782</td>\n",
       "    </tr>\n",
       "  </tbody>\n",
       "</table>\n",
       "</div>"
      ],
      "text/plain": [
       "   HousingCat  EDUCbin  TRANTIME  DrinkingWater  AirQuality  EarlyEd  \\\n",
       "0         2.0      0.0       0.0            1.0        24.0    0.577   \n",
       "1         2.0      0.0       0.0            1.0        24.0    0.577   \n",
       "2         2.0      0.0       0.0            1.0        24.0    0.577   \n",
       "3         2.0      0.0       0.0            1.0        24.0    0.577   \n",
       "4         2.0      1.0      20.0            1.0        24.0    0.577   \n",
       "\n",
       "   ProspNeigh  \n",
       "0    0.953782  \n",
       "1    0.953782  \n",
       "2    0.953782  \n",
       "3    0.953782  \n",
       "4    0.953782  "
      ]
     },
     "execution_count": 70,
     "metadata": {},
     "output_type": "execute_result"
    }
   ],
   "source": [
    "Xcorr=dfXfin.iloc[:, [0,1,2,3,4,5,6]]\n",
    "Xcorr.head()"
   ]
  },
  {
   "cell_type": "code",
   "execution_count": 71,
   "id": "directed-reflection",
   "metadata": {},
   "outputs": [
    {
     "data": {
      "text/plain": [
       "<AxesSubplot:>"
      ]
     },
     "execution_count": 71,
     "metadata": {},
     "output_type": "execute_result"
    },
    {
     "data": {
      "image/png": "[encoded data removed]",
      "text/plain": [
       "<Figure size 1080x576 with 2 Axes>"
      ]
     },
     "metadata": {
      "needs_background": "light"
     },
     "output_type": "display_data"
    }
   ],
   "source": [
    "plt.subplots(figsize=(15,8))\n",
    "sns.heatmap(Xcorr.corr(), annot = True)"
   ]
  },
  {
   "cell_type": "code",
   "execution_count": null,
   "id": "earned-multimedia",
   "metadata": {},
   "outputs": [],
   "source": []
  }
 ],
 "metadata": {
  "kernelspec": {
   "display_name": "Python 3",
   "language": "python",
   "name": "python3"
  },
  "language_info": {
   "codemirror_mode": {
    "name": "ipython",
    "version": 3
   },
   "file_extension": ".py",
   "mimetype": "text/x-python",
   "name": "python",
   "nbconvert_exporter": "python",
   "pygments_lexer": "ipython3",
   "version": "3.7.6"
  }
 },
 "nbformat": 4,
 "nbformat_minor": 5
}
