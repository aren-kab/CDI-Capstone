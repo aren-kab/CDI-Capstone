{
 "cells": [
  {
   "cell_type": "code",
   "execution_count": 82,
   "id": "exotic-emperor",
   "metadata": {},
   "outputs": [],
   "source": [
    "import pandas as pd\n",
    "import numpy as np\n",
    "import datetime as dt\n",
    "import matplotlib\n",
    "import matplotlib.pyplot as plt\n",
    "import scipy.cluster.hierarchy as shc\n",
    "from sklearn.cluster import AgglomerativeClustering\n",
    "import os\n",
    "import seaborn as sns"
   ]
  },
  {
   "cell_type": "code",
   "execution_count": 83,
   "id": "oriental-fortune",
   "metadata": {},
   "outputs": [],
   "source": [
    "from sklearn.cluster import KMeans\n",
    "from scipy.spatial.distance import cdist, pdist\n",
    "from sklearn.datasets import make_classification\n",
    "from sklearn.datasets import make_blobs\n",
    "from sklearn.metrics import silhouette_samples, silhouette_score\n",
    "import matplotlib.cm as cm\n",
    "from sklearn.mixture import GaussianMixture\n",
    "from sklearn.cluster import DBSCAN\n",
    "from sklearn import preprocessing\n",
    "from sklearn.preprocessing import StandardScaler"
   ]
  },
  {
   "cell_type": "code",
   "execution_count": 84,
   "id": "meaning-saver",
   "metadata": {},
   "outputs": [],
   "source": [
    "fileName = 'C:/Users/mcarp/Downloads/usa_00008.csv/usa_00008.csv'\n",
    "file = pd.read_csv(fileName)\n",
    "dfCDI = pd.DataFrame(file)"
   ]
  },
  {
   "cell_type": "code",
   "execution_count": 85,
   "id": "valid-solution",
   "metadata": {},
   "outputs": [],
   "source": [
    "fileName2 = 'C:/Users/mcarp/Downloads/county_merged2010.xlsx - Sheet1.csv'\n",
    "file2 = pd.read_csv(fileName2)\n",
    "dfCty = pd.DataFrame(file2)"
   ]
  },
  {
   "cell_type": "code",
   "execution_count": 86,
   "id": "internal-doubt",
   "metadata": {},
   "outputs": [
    {
     "name": "stdout",
     "output_type": "stream",
     "text": [
      "<class 'pandas.core.frame.DataFrame'>\n",
      "RangeIndex: 1753741 entries, 0 to 1753740\n",
      "Data columns (total 38 columns):\n",
      " #   Column      Dtype  \n",
      "---  ------      -----  \n",
      " 0   YEAR        int64  \n",
      " 1   MULTYEAR    int64  \n",
      " 2   SAMPLE      int64  \n",
      " 3   SERIAL      int64  \n",
      " 4   CBSERIAL    int64  \n",
      " 5   HHWT        float64\n",
      " 6   CLUSTER     int64  \n",
      " 7   CPI99       float64\n",
      " 8   STATEFIP    int64  \n",
      " 9   COUNTYFIP   int64  \n",
      " 10  DENSITY     float64\n",
      " 11  CITY        int64  \n",
      " 12  PUMA        int64  \n",
      " 13  STRATA      int64  \n",
      " 14  GQ          int64  \n",
      " 15  OWNERSHP    int64  \n",
      " 16  OWNERSHPD   int64  \n",
      " 17  OWNCOST     int64  \n",
      " 18  RENTGRS     int64  \n",
      " 19  HHINCOME    int64  \n",
      " 20  PERNUM      int64  \n",
      " 21  PERWT       float64\n",
      " 22  FAMSIZE     int64  \n",
      " 23  AGE         int64  \n",
      " 24  RACE        int64  \n",
      " 25  RACED       int64  \n",
      " 26  HISPAN      int64  \n",
      " 27  HISPAND     int64  \n",
      " 28  EDUC        int64  \n",
      " 29  EDUCD       int64  \n",
      " 30  OCCSOC      object \n",
      " 31  INDNAICS    object \n",
      " 32  INCTOT      int64  \n",
      " 33  FTOTINC     int64  \n",
      " 34  INCWAGE     int64  \n",
      " 35  MIGCOUNTY1  int64  \n",
      " 36  MOVEDIN     int64  \n",
      " 37  TRANTIME    int64  \n",
      "dtypes: float64(4), int64(32), object(2)\n",
      "memory usage: 508.4+ MB\n"
     ]
    }
   ],
   "source": [
    "dfCDI.info()"
   ]
  },
  {
   "cell_type": "code",
   "execution_count": 87,
   "id": "stupid-nudist",
   "metadata": {},
   "outputs": [
    {
     "data": {
      "text/plain": [
       "(1753741, 38)"
      ]
     },
     "execution_count": 87,
     "metadata": {},
     "output_type": "execute_result"
    }
   ],
   "source": [
    "dfCDI.shape"
   ]
  },
  {
   "cell_type": "code",
   "execution_count": 88,
   "id": "developed-concentrate",
   "metadata": {},
   "outputs": [
    {
     "data": {
      "text/plain": [
       "(1253598, 38)"
      ]
     },
     "execution_count": 88,
     "metadata": {},
     "output_type": "execute_result"
    }
   ],
   "source": [
    "dfCDI = dfCDI[dfCDI['AGE']>=21]\n",
    "dfCDI.shape"
   ]
  },
  {
   "cell_type": "code",
   "execution_count": 89,
   "id": "eastern-portsmouth",
   "metadata": {},
   "outputs": [
    {
     "data": {
      "text/plain": [
       "0       860271\n",
       "810       1569\n",
       "800       1394\n",
       "1220      1377\n",
       "820       1334\n",
       "         ...  \n",
       "49           1\n",
       "4146         1\n",
       "3025         1\n",
       "3787         1\n",
       "3608         1\n",
       "Name: RENTGRS, Length: 3925, dtype: int64"
      ]
     },
     "execution_count": 89,
     "metadata": {},
     "output_type": "execute_result"
    }
   ],
   "source": [
    "dfCDI.RENTGRS.value_counts()"
   ]
  },
  {
   "cell_type": "code",
   "execution_count": 90,
   "id": "reflected-starter",
   "metadata": {},
   "outputs": [
    {
     "data": {
      "text/plain": [
       "count    810238.0\n",
       "mean          0.0\n",
       "std           0.0\n",
       "min           0.0\n",
       "25%           0.0\n",
       "50%           0.0\n",
       "75%           0.0\n",
       "max           0.0\n",
       "Name: RENTGRS, dtype: float64"
      ]
     },
     "execution_count": 90,
     "metadata": {},
     "output_type": "execute_result"
    }
   ],
   "source": [
    "dfHomeOwn=dfCDI[dfCDI['OWNERSHP']==1]\n",
    "dfHomeOwn.RENTGRS.describe()"
   ]
  },
  {
   "cell_type": "markdown",
   "id": "divided-visibility",
   "metadata": {},
   "source": [
    "This reveals that home owning rows all have 0 values for cost of rent."
   ]
  },
  {
   "cell_type": "code",
   "execution_count": 91,
   "id": "silent-elimination",
   "metadata": {},
   "outputs": [
    {
     "data": {
      "text/plain": [
       "1    810238\n",
       "2    409307\n",
       "0     34053\n",
       "Name: OWNERSHP, dtype: int64"
      ]
     },
     "execution_count": 91,
     "metadata": {},
     "output_type": "execute_result"
    }
   ],
   "source": [
    "dfCDI['OWNERSHP'].value_counts()"
   ]
  },
  {
   "cell_type": "code",
   "execution_count": 92,
   "id": "endless-railway",
   "metadata": {},
   "outputs": [
    {
     "data": {
      "text/plain": [
       "(1219545, 38)"
      ]
     },
     "execution_count": 92,
     "metadata": {},
     "output_type": "execute_result"
    }
   ],
   "source": [
    "dfCDI = dfCDI[dfCDI['OWNERSHP']!=0]\n",
    "dfCDI.shape"
   ]
  },
  {
   "cell_type": "markdown",
   "id": "dimensional-princeton",
   "metadata": {},
   "source": [
    "Removes N/As (~50k rows)"
   ]
  },
  {
   "cell_type": "code",
   "execution_count": 93,
   "id": "apart-hindu",
   "metadata": {},
   "outputs": [
    {
     "data": {
      "text/plain": [
       "0       826218\n",
       "810       1569\n",
       "800       1394\n",
       "1220      1377\n",
       "820       1334\n",
       "         ...  \n",
       "49           1\n",
       "4146         1\n",
       "3025         1\n",
       "3787         1\n",
       "3608         1\n",
       "Name: RENTGRS, Length: 3925, dtype: int64"
      ]
     },
     "execution_count": 93,
     "metadata": {},
     "output_type": "execute_result"
    }
   ],
   "source": [
    "dfCDI['RENTGRS'].value_counts()"
   ]
  },
  {
   "cell_type": "code",
   "execution_count": 94,
   "id": "executive-thumb",
   "metadata": {},
   "outputs": [],
   "source": [
    "dfCDI['affrentdec'] = dfCDI['RENTGRS']*12/dfCDI['HHINCOME']"
   ]
  },
  {
   "cell_type": "code",
   "execution_count": 95,
   "id": "certain-budget",
   "metadata": {},
   "outputs": [],
   "source": [
    "def housingFunc(own, affrentdec):\n",
    "    if own==1:\n",
    "        housingCat=2\n",
    "    elif own==2 and affrentdec<.3:\n",
    "        housingCat=1\n",
    "    else:\n",
    "        housingCat=0\n",
    "    return housingCat"
   ]
  },
  {
   "cell_type": "code",
   "execution_count": 96,
   "id": "irish-costa",
   "metadata": {},
   "outputs": [
    {
     "data": {
      "text/plain": [
       "2    810238\n",
       "1    213086\n",
       "0    196221\n",
       "Name: HousingCat, dtype: int64"
      ]
     },
     "execution_count": 96,
     "metadata": {},
     "output_type": "execute_result"
    }
   ],
   "source": [
    "dfCDI['HousingCat'] = dfCDI.apply(lambda x: housingFunc(x['OWNERSHP'], x['affrentdec']), axis=1)\n",
    "dfCDI['HousingCat'].value_counts()"
   ]
  },
  {
   "cell_type": "markdown",
   "id": "affected-participant",
   "metadata": {},
   "source": [
    "COMBINING aff. rent and home ownership into 1 indicator: 0, 1, 2 scores (0: rent>=30% income, 1: rent<30% income, 2: owner)"
   ]
  },
  {
   "cell_type": "code",
   "execution_count": 97,
   "id": "micro-honey",
   "metadata": {},
   "outputs": [
    {
     "data": {
      "text/plain": [
       "0    738291\n",
       "1    481254\n",
       "Name: EDUCbin, dtype: int64"
      ]
     },
     "execution_count": 97,
     "metadata": {},
     "output_type": "execute_result"
    }
   ],
   "source": [
    "dfCDI['EDUCbin'] = [1 if x >=8 else 0 for x in dfCDI['EDUC']]\n",
    "dfCDI['EDUCbin'].value_counts()"
   ]
  },
  {
   "cell_type": "code",
   "execution_count": 98,
   "id": "educated-bidder",
   "metadata": {},
   "outputs": [
    {
     "data": {
      "text/plain": [
       "0      530850\n",
       "15     101569\n",
       "30     100776\n",
       "20      99530\n",
       "10      83993\n",
       "        ...  \n",
       "126         1\n",
       "82          1\n",
       "94          1\n",
       "92          1\n",
       "86          1\n",
       "Name: TRANTIME, Length: 126, dtype: int64"
      ]
     },
     "execution_count": 98,
     "metadata": {},
     "output_type": "execute_result"
    }
   ],
   "source": [
    "dfCDI['TRANTIME'].value_counts()"
   ]
  },
  {
   "cell_type": "code",
   "execution_count": 99,
   "id": "sharing-snake",
   "metadata": {},
   "outputs": [
    {
     "data": {
      "text/plain": [
       "(1219545, 41)"
      ]
     },
     "execution_count": 99,
     "metadata": {},
     "output_type": "execute_result"
    }
   ],
   "source": [
    "dfCDI.shape"
   ]
  },
  {
   "cell_type": "markdown",
   "id": "educational-ethernet",
   "metadata": {},
   "source": [
    "## County-level merge"
   ]
  },
  {
   "cell_type": "code",
   "execution_count": 100,
   "id": "chief-devices",
   "metadata": {},
   "outputs": [
    {
     "data": {
      "text/plain": [
       "(1170510, 58)"
      ]
     },
     "execution_count": 100,
     "metadata": {},
     "output_type": "execute_result"
    }
   ],
   "source": [
    "joined2019_2 = dfCDI.merge(dfCty, on='COUNTYFIP')\n",
    "joined2019_2.shape"
   ]
  },
  {
   "cell_type": "code",
   "execution_count": 101,
   "id": "little-shoot",
   "metadata": {},
   "outputs": [
    {
     "name": "stdout",
     "output_type": "stream",
     "text": [
      "39\n",
      "40\n",
      "37\n",
      "54\n",
      "56\n",
      "55\n",
      "57\n",
      "5\n",
      "19\n",
      "24\n",
      "23\n",
      "26\n"
     ]
    }
   ],
   "source": [
    "print(joined2019_2.columns.get_loc(\"HousingCat\"))\n",
    "print(joined2019_2.columns.get_loc(\"EDUCbin\"))\n",
    "print(joined2019_2.columns.get_loc(\"TRANTIME\"))\n",
    "print(joined2019_2.columns.get_loc(\"DrinkingWater\"))\n",
    "print(joined2019_2.columns.get_loc(\"AirQuality\"))\n",
    "print(joined2019_2.columns.get_loc(\"EarlyEd\"))\n",
    "print(joined2019_2.columns.get_loc(\"ProspNeigh\"))\n",
    "print(joined2019_2.columns.get_loc(\"HHWT\"))\n",
    "print(joined2019_2.columns.get_loc(\"HHINCOME\"))\n",
    "print(joined2019_2.columns.get_loc(\"RACE\"))\n",
    "print(joined2019_2.columns.get_loc(\"AGE\"))\n",
    "print(joined2019_2.columns.get_loc(\"HISPAN\"))"
   ]
  },
  {
   "cell_type": "code",
   "execution_count": 102,
   "id": "earlier-feedback",
   "metadata": {},
   "outputs": [],
   "source": [
    "X = joined2019_2.iloc[:, [39,40,37,54,56,55,57,5,19,24,23,26]]"
   ]
  },
  {
   "cell_type": "code",
   "execution_count": 103,
   "id": "serious-saturday",
   "metadata": {},
   "outputs": [
    {
     "data": {
      "text/html": [
       "<div>\n",
       "<style scoped>\n",
       "    .dataframe tbody tr th:only-of-type {\n",
       "        vertical-align: middle;\n",
       "    }\n",
       "\n",
       "    .dataframe tbody tr th {\n",
       "        vertical-align: top;\n",
       "    }\n",
       "\n",
       "    .dataframe thead th {\n",
       "        text-align: right;\n",
       "    }\n",
       "</style>\n",
       "<table border=\"1\" class=\"dataframe\">\n",
       "  <thead>\n",
       "    <tr style=\"text-align: right;\">\n",
       "      <th></th>\n",
       "      <th>HousingCat</th>\n",
       "      <th>EDUCbin</th>\n",
       "      <th>TRANTIME</th>\n",
       "      <th>DrinkingWater</th>\n",
       "      <th>AirQuality</th>\n",
       "      <th>EarlyEd</th>\n",
       "      <th>ProspNeigh</th>\n",
       "      <th>HHWT</th>\n",
       "      <th>HHINCOME</th>\n",
       "      <th>RACE</th>\n",
       "      <th>AGE</th>\n",
       "      <th>HISPAN</th>\n",
       "    </tr>\n",
       "  </thead>\n",
       "  <tbody>\n",
       "    <tr>\n",
       "      <th>count</th>\n",
       "      <td>1.170510e+06</td>\n",
       "      <td>1.170510e+06</td>\n",
       "      <td>1.170510e+06</td>\n",
       "      <td>1170510.0</td>\n",
       "      <td>1.170510e+06</td>\n",
       "      <td>1.170510e+06</td>\n",
       "      <td>1.170510e+06</td>\n",
       "      <td>1.170510e+06</td>\n",
       "      <td>1.170510e+06</td>\n",
       "      <td>1.170510e+06</td>\n",
       "      <td>1.170510e+06</td>\n",
       "      <td>1.170510e+06</td>\n",
       "    </tr>\n",
       "    <tr>\n",
       "      <th>mean</th>\n",
       "      <td>1.499936e+00</td>\n",
       "      <td>3.981188e-01</td>\n",
       "      <td>1.560110e+01</td>\n",
       "      <td>1.0</td>\n",
       "      <td>3.486640e+01</td>\n",
       "      <td>5.090249e-01</td>\n",
       "      <td>8.312623e-01</td>\n",
       "      <td>1.961318e+01</td>\n",
       "      <td>9.597531e+04</td>\n",
       "      <td>2.555695e+00</td>\n",
       "      <td>4.840819e+01</td>\n",
       "      <td>4.318955e-01</td>\n",
       "    </tr>\n",
       "    <tr>\n",
       "      <th>std</th>\n",
       "      <td>7.582193e-01</td>\n",
       "      <td>4.895104e-01</td>\n",
       "      <td>2.179290e+01</td>\n",
       "      <td>0.0</td>\n",
       "      <td>7.366761e+00</td>\n",
       "      <td>7.035853e-02</td>\n",
       "      <td>9.973130e-02</td>\n",
       "      <td>1.242436e+01</td>\n",
       "      <td>9.231640e+04</td>\n",
       "      <td>2.419788e+00</td>\n",
       "      <td>1.704289e+01</td>\n",
       "      <td>9.166246e-01</td>\n",
       "    </tr>\n",
       "    <tr>\n",
       "      <th>min</th>\n",
       "      <td>0.000000e+00</td>\n",
       "      <td>0.000000e+00</td>\n",
       "      <td>0.000000e+00</td>\n",
       "      <td>1.0</td>\n",
       "      <td>1.900000e+01</td>\n",
       "      <td>3.300000e-01</td>\n",
       "      <td>5.633676e-01</td>\n",
       "      <td>1.000000e+00</td>\n",
       "      <td>-4.050700e+04</td>\n",
       "      <td>1.000000e+00</td>\n",
       "      <td>2.100000e+01</td>\n",
       "      <td>0.000000e+00</td>\n",
       "    </tr>\n",
       "    <tr>\n",
       "      <th>25%</th>\n",
       "      <td>1.000000e+00</td>\n",
       "      <td>0.000000e+00</td>\n",
       "      <td>0.000000e+00</td>\n",
       "      <td>1.0</td>\n",
       "      <td>2.700000e+01</td>\n",
       "      <td>4.790000e-01</td>\n",
       "      <td>7.498056e-01</td>\n",
       "      <td>1.200000e+01</td>\n",
       "      <td>3.919500e+04</td>\n",
       "      <td>1.000000e+00</td>\n",
       "      <td>3.500000e+01</td>\n",
       "      <td>0.000000e+00</td>\n",
       "    </tr>\n",
       "    <tr>\n",
       "      <th>50%</th>\n",
       "      <td>2.000000e+00</td>\n",
       "      <td>0.000000e+00</td>\n",
       "      <td>1.000000e+01</td>\n",
       "      <td>1.0</td>\n",
       "      <td>3.800000e+01</td>\n",
       "      <td>5.320000e-01</td>\n",
       "      <td>8.438507e-01</td>\n",
       "      <td>1.600000e+01</td>\n",
       "      <td>7.318100e+04</td>\n",
       "      <td>1.000000e+00</td>\n",
       "      <td>4.700000e+01</td>\n",
       "      <td>0.000000e+00</td>\n",
       "    </tr>\n",
       "    <tr>\n",
       "      <th>75%</th>\n",
       "      <td>2.000000e+00</td>\n",
       "      <td>1.000000e+00</td>\n",
       "      <td>2.500000e+01</td>\n",
       "      <td>1.0</td>\n",
       "      <td>4.100000e+01</td>\n",
       "      <td>5.380000e-01</td>\n",
       "      <td>9.269250e-01</td>\n",
       "      <td>2.300000e+01</td>\n",
       "      <td>1.219680e+05</td>\n",
       "      <td>4.000000e+00</td>\n",
       "      <td>6.000000e+01</td>\n",
       "      <td>1.000000e+00</td>\n",
       "    </tr>\n",
       "    <tr>\n",
       "      <th>max</th>\n",
       "      <td>2.000000e+00</td>\n",
       "      <td>1.000000e+00</td>\n",
       "      <td>1.780000e+02</td>\n",
       "      <td>1.0</td>\n",
       "      <td>4.400000e+01</td>\n",
       "      <td>7.400000e-01</td>\n",
       "      <td>1.000000e+00</td>\n",
       "      <td>2.170000e+02</td>\n",
       "      <td>2.071857e+06</td>\n",
       "      <td>9.000000e+00</td>\n",
       "      <td>9.300000e+01</td>\n",
       "      <td>4.000000e+00</td>\n",
       "    </tr>\n",
       "  </tbody>\n",
       "</table>\n",
       "</div>"
      ],
      "text/plain": [
       "         HousingCat       EDUCbin      TRANTIME  DrinkingWater    AirQuality  \\\n",
       "count  1.170510e+06  1.170510e+06  1.170510e+06      1170510.0  1.170510e+06   \n",
       "mean   1.499936e+00  3.981188e-01  1.560110e+01            1.0  3.486640e+01   \n",
       "std    7.582193e-01  4.895104e-01  2.179290e+01            0.0  7.366761e+00   \n",
       "min    0.000000e+00  0.000000e+00  0.000000e+00            1.0  1.900000e+01   \n",
       "25%    1.000000e+00  0.000000e+00  0.000000e+00            1.0  2.700000e+01   \n",
       "50%    2.000000e+00  0.000000e+00  1.000000e+01            1.0  3.800000e+01   \n",
       "75%    2.000000e+00  1.000000e+00  2.500000e+01            1.0  4.100000e+01   \n",
       "max    2.000000e+00  1.000000e+00  1.780000e+02            1.0  4.400000e+01   \n",
       "\n",
       "            EarlyEd    ProspNeigh          HHWT      HHINCOME          RACE  \\\n",
       "count  1.170510e+06  1.170510e+06  1.170510e+06  1.170510e+06  1.170510e+06   \n",
       "mean   5.090249e-01  8.312623e-01  1.961318e+01  9.597531e+04  2.555695e+00   \n",
       "std    7.035853e-02  9.973130e-02  1.242436e+01  9.231640e+04  2.419788e+00   \n",
       "min    3.300000e-01  5.633676e-01  1.000000e+00 -4.050700e+04  1.000000e+00   \n",
       "25%    4.790000e-01  7.498056e-01  1.200000e+01  3.919500e+04  1.000000e+00   \n",
       "50%    5.320000e-01  8.438507e-01  1.600000e+01  7.318100e+04  1.000000e+00   \n",
       "75%    5.380000e-01  9.269250e-01  2.300000e+01  1.219680e+05  4.000000e+00   \n",
       "max    7.400000e-01  1.000000e+00  2.170000e+02  2.071857e+06  9.000000e+00   \n",
       "\n",
       "                AGE        HISPAN  \n",
       "count  1.170510e+06  1.170510e+06  \n",
       "mean   4.840819e+01  4.318955e-01  \n",
       "std    1.704289e+01  9.166246e-01  \n",
       "min    2.100000e+01  0.000000e+00  \n",
       "25%    3.500000e+01  0.000000e+00  \n",
       "50%    4.700000e+01  0.000000e+00  \n",
       "75%    6.000000e+01  1.000000e+00  \n",
       "max    9.300000e+01  4.000000e+00  "
      ]
     },
     "execution_count": 103,
     "metadata": {},
     "output_type": "execute_result"
    }
   ],
   "source": [
    "X.describe()"
   ]
  },
  {
   "cell_type": "markdown",
   "id": "stock-millennium",
   "metadata": {},
   "source": [
    "## Standardization:"
   ]
  },
  {
   "cell_type": "code",
   "execution_count": 104,
   "id": "ignored-tribune",
   "metadata": {},
   "outputs": [],
   "source": [
    "scaler=StandardScaler()\n",
    "scalerNum = scaler.fit(X)\n",
    "Xstd = scalerNum.transform(X)"
   ]
  },
  {
   "cell_type": "code",
   "execution_count": 105,
   "id": "surface-eagle",
   "metadata": {},
   "outputs": [
    {
     "data": {
      "text/html": [
       "<div>\n",
       "<style scoped>\n",
       "    .dataframe tbody tr th:only-of-type {\n",
       "        vertical-align: middle;\n",
       "    }\n",
       "\n",
       "    .dataframe tbody tr th {\n",
       "        vertical-align: top;\n",
       "    }\n",
       "\n",
       "    .dataframe thead th {\n",
       "        text-align: right;\n",
       "    }\n",
       "</style>\n",
       "<table border=\"1\" class=\"dataframe\">\n",
       "  <thead>\n",
       "    <tr style=\"text-align: right;\">\n",
       "      <th></th>\n",
       "      <th>HousingCat</th>\n",
       "      <th>EDUCbin</th>\n",
       "      <th>TRANTIME</th>\n",
       "      <th>DrinkingWater</th>\n",
       "      <th>AirQuality</th>\n",
       "      <th>EarlyEd</th>\n",
       "      <th>ProspNeigh</th>\n",
       "      <th>HHWT</th>\n",
       "      <th>HHINCOME</th>\n",
       "      <th>RACE</th>\n",
       "      <th>AGE</th>\n",
       "      <th>HISPAN</th>\n",
       "    </tr>\n",
       "  </thead>\n",
       "  <tbody>\n",
       "    <tr>\n",
       "      <th>count</th>\n",
       "      <td>1.170510e+06</td>\n",
       "      <td>1.170510e+06</td>\n",
       "      <td>1.170510e+06</td>\n",
       "      <td>1170510.0</td>\n",
       "      <td>1.170510e+06</td>\n",
       "      <td>1.170510e+06</td>\n",
       "      <td>1.170510e+06</td>\n",
       "      <td>1.170510e+06</td>\n",
       "      <td>1.170510e+06</td>\n",
       "      <td>1.170510e+06</td>\n",
       "      <td>1.170510e+06</td>\n",
       "      <td>1.170510e+06</td>\n",
       "    </tr>\n",
       "    <tr>\n",
       "      <th>mean</th>\n",
       "      <td>7.169730e-13</td>\n",
       "      <td>-4.328006e-13</td>\n",
       "      <td>9.084261e-14</td>\n",
       "      <td>0.0</td>\n",
       "      <td>1.100339e-12</td>\n",
       "      <td>1.124357e-12</td>\n",
       "      <td>1.141147e-12</td>\n",
       "      <td>7.577302e-16</td>\n",
       "      <td>-6.221149e-15</td>\n",
       "      <td>-1.094092e-12</td>\n",
       "      <td>-2.476590e-14</td>\n",
       "      <td>3.422022e-13</td>\n",
       "    </tr>\n",
       "    <tr>\n",
       "      <th>std</th>\n",
       "      <td>1.000000e+00</td>\n",
       "      <td>1.000000e+00</td>\n",
       "      <td>1.000000e+00</td>\n",
       "      <td>0.0</td>\n",
       "      <td>1.000000e+00</td>\n",
       "      <td>1.000000e+00</td>\n",
       "      <td>1.000000e+00</td>\n",
       "      <td>1.000000e+00</td>\n",
       "      <td>1.000000e+00</td>\n",
       "      <td>1.000000e+00</td>\n",
       "      <td>1.000000e+00</td>\n",
       "      <td>1.000000e+00</td>\n",
       "    </tr>\n",
       "    <tr>\n",
       "      <th>min</th>\n",
       "      <td>-1.978236e+00</td>\n",
       "      <td>-8.133003e-01</td>\n",
       "      <td>-7.158803e-01</td>\n",
       "      <td>0.0</td>\n",
       "      <td>-2.153784e+00</td>\n",
       "      <td>-2.544467e+00</td>\n",
       "      <td>-2.686166e+00</td>\n",
       "      <td>-1.498121e+00</td>\n",
       "      <td>-1.478419e+00</td>\n",
       "      <td>-6.429059e-01</td>\n",
       "      <td>-1.608189e+00</td>\n",
       "      <td>-4.711806e-01</td>\n",
       "    </tr>\n",
       "    <tr>\n",
       "      <th>25%</th>\n",
       "      <td>-6.593556e-01</td>\n",
       "      <td>-8.133003e-01</td>\n",
       "      <td>-7.158803e-01</td>\n",
       "      <td>0.0</td>\n",
       "      <td>-1.067824e+00</td>\n",
       "      <td>-4.267416e-01</td>\n",
       "      <td>-8.167623e-01</td>\n",
       "      <td>-6.127628e-01</td>\n",
       "      <td>-6.150622e-01</td>\n",
       "      <td>-6.429059e-01</td>\n",
       "      <td>-7.867323e-01</td>\n",
       "      <td>-4.711806e-01</td>\n",
       "    </tr>\n",
       "    <tr>\n",
       "      <th>50%</th>\n",
       "      <td>6.595246e-01</td>\n",
       "      <td>-8.133003e-01</td>\n",
       "      <td>-2.570151e-01</td>\n",
       "      <td>0.0</td>\n",
       "      <td>4.253698e-01</td>\n",
       "      <td>3.265434e-01</td>\n",
       "      <td>1.262227e-01</td>\n",
       "      <td>-2.908146e-01</td>\n",
       "      <td>-2.469151e-01</td>\n",
       "      <td>-6.429059e-01</td>\n",
       "      <td>-8.262628e-02</td>\n",
       "      <td>-4.711806e-01</td>\n",
       "    </tr>\n",
       "    <tr>\n",
       "      <th>75%</th>\n",
       "      <td>6.595246e-01</td>\n",
       "      <td>1.229558e+00</td>\n",
       "      <td>4.312827e-01</td>\n",
       "      <td>0.0</td>\n",
       "      <td>8.326046e-01</td>\n",
       "      <td>4.118209e-01</td>\n",
       "      <td>9.592045e-01</td>\n",
       "      <td>2.725949e-01</td>\n",
       "      <td>2.815611e-01</td>\n",
       "      <td>5.968726e-01</td>\n",
       "      <td>6.801553e-01</td>\n",
       "      <td>6.197791e-01</td>\n",
       "    </tr>\n",
       "    <tr>\n",
       "      <th>max</th>\n",
       "      <td>6.595246e-01</td>\n",
       "      <td>1.229558e+00</td>\n",
       "      <td>7.451921e+00</td>\n",
       "      <td>0.0</td>\n",
       "      <td>1.239839e+00</td>\n",
       "      <td>3.282831e+00</td>\n",
       "      <td>1.691924e+00</td>\n",
       "      <td>1.588709e+01</td>\n",
       "      <td>2.140337e+01</td>\n",
       "      <td>2.663170e+00</td>\n",
       "      <td>2.616447e+00</td>\n",
       "      <td>3.892658e+00</td>\n",
       "    </tr>\n",
       "  </tbody>\n",
       "</table>\n",
       "</div>"
      ],
      "text/plain": [
       "         HousingCat       EDUCbin      TRANTIME  DrinkingWater    AirQuality  \\\n",
       "count  1.170510e+06  1.170510e+06  1.170510e+06      1170510.0  1.170510e+06   \n",
       "mean   7.169730e-13 -4.328006e-13  9.084261e-14            0.0  1.100339e-12   \n",
       "std    1.000000e+00  1.000000e+00  1.000000e+00            0.0  1.000000e+00   \n",
       "min   -1.978236e+00 -8.133003e-01 -7.158803e-01            0.0 -2.153784e+00   \n",
       "25%   -6.593556e-01 -8.133003e-01 -7.158803e-01            0.0 -1.067824e+00   \n",
       "50%    6.595246e-01 -8.133003e-01 -2.570151e-01            0.0  4.253698e-01   \n",
       "75%    6.595246e-01  1.229558e+00  4.312827e-01            0.0  8.326046e-01   \n",
       "max    6.595246e-01  1.229558e+00  7.451921e+00            0.0  1.239839e+00   \n",
       "\n",
       "            EarlyEd    ProspNeigh          HHWT      HHINCOME          RACE  \\\n",
       "count  1.170510e+06  1.170510e+06  1.170510e+06  1.170510e+06  1.170510e+06   \n",
       "mean   1.124357e-12  1.141147e-12  7.577302e-16 -6.221149e-15 -1.094092e-12   \n",
       "std    1.000000e+00  1.000000e+00  1.000000e+00  1.000000e+00  1.000000e+00   \n",
       "min   -2.544467e+00 -2.686166e+00 -1.498121e+00 -1.478419e+00 -6.429059e-01   \n",
       "25%   -4.267416e-01 -8.167623e-01 -6.127628e-01 -6.150622e-01 -6.429059e-01   \n",
       "50%    3.265434e-01  1.262227e-01 -2.908146e-01 -2.469151e-01 -6.429059e-01   \n",
       "75%    4.118209e-01  9.592045e-01  2.725949e-01  2.815611e-01  5.968726e-01   \n",
       "max    3.282831e+00  1.691924e+00  1.588709e+01  2.140337e+01  2.663170e+00   \n",
       "\n",
       "                AGE        HISPAN  \n",
       "count  1.170510e+06  1.170510e+06  \n",
       "mean  -2.476590e-14  3.422022e-13  \n",
       "std    1.000000e+00  1.000000e+00  \n",
       "min   -1.608189e+00 -4.711806e-01  \n",
       "25%   -7.867323e-01 -4.711806e-01  \n",
       "50%   -8.262628e-02 -4.711806e-01  \n",
       "75%    6.801553e-01  6.197791e-01  \n",
       "max    2.616447e+00  3.892658e+00  "
      ]
     },
     "execution_count": 105,
     "metadata": {},
     "output_type": "execute_result"
    }
   ],
   "source": [
    "dfX = pd.DataFrame(Xstd, columns=['HousingCat','EDUCbin','TRANTIME','DrinkingWater','AirQuality','EarlyEd','ProspNeigh','HHWT','HHINCOME','RACE','AGE','HISPAN'])\n",
    "dfX.describe()"
   ]
  },
  {
   "cell_type": "markdown",
   "id": "conventional-peace",
   "metadata": {},
   "source": [
    "## Silhouette score:"
   ]
  },
  {
   "cell_type": "code",
   "execution_count": 106,
   "id": "creative-nursing",
   "metadata": {},
   "outputs": [
    {
     "name": "stdout",
     "output_type": "stream",
     "text": [
      "For n_clusters = 3 the average silhouette_score is: 0.20151709504866927\n",
      "For n_clusters = 4 the average silhouette_score is: 0.20833833007419245\n",
      "For n_clusters = 5 the average silhouette_score is: 0.21922407264236654\n",
      "For n_clusters = 6 the average silhouette_score is: 0.22641948654357466\n",
      "For n_clusters = 7 the average silhouette_score is: 0.23296247868259357\n",
      "For n_clusters = 8 the average silhouette_score is: 0.24848968637815716\n",
      "For n_clusters = 9 the average silhouette_score is: 0.2474549563337966\n"
     ]
    }
   ],
   "source": [
    "for i in range(3,10):\n",
    "    km = KMeans(n_clusters = i, init = 'k-means++', random_state = 42)\n",
    "    cluster_labels = km.fit_predict(dfX.iloc[:,0:8])\n",
    "    silhouette_avg = silhouette_score(dfX.iloc[:,0:8], cluster_labels, metric='euclidean',sample_size = 10000, random_state=None)\n",
    "    print('For n_clusters = {} the average silhouette_score is: {}'.format(i, silhouette_avg))"
   ]
  },
  {
   "cell_type": "markdown",
   "id": "correct-watson",
   "metadata": {},
   "source": [
    "## Clustering"
   ]
  },
  {
   "cell_type": "code",
   "execution_count": 107,
   "id": "controversial-ladder",
   "metadata": {},
   "outputs": [
    {
     "name": "stdout",
     "output_type": "stream",
     "text": [
      "[2 2 2 ... 4 6 3]\n"
     ]
    }
   ],
   "source": [
    "kmeans = KMeans(n_clusters = 7, init = 'k-means++', random_state = 42)\n",
    "kmeans.fit(dfX.iloc[:,0:8])\n",
    "print(kmeans.labels_)"
   ]
  },
  {
   "cell_type": "code",
   "execution_count": 108,
   "id": "collective-wrong",
   "metadata": {},
   "outputs": [
    {
     "data": {
      "text/plain": [
       "array([[ 2.,  0.,  0., ...,  1., 67.,  1.],\n",
       "       [ 2.,  0.,  0., ...,  1., 64.,  1.],\n",
       "       [ 2.,  0.,  0., ...,  1., 86.,  0.],\n",
       "       ...,\n",
       "       [ 0.,  0.,  0., ...,  7., 38.,  1.],\n",
       "       [ 2.,  0.,  2., ...,  1., 40.,  0.],\n",
       "       [ 2.,  1.,  5., ...,  1., 36.,  0.]])"
      ]
     },
     "execution_count": 108,
     "metadata": {},
     "output_type": "execute_result"
    }
   ],
   "source": [
    "Xfin = scaler.inverse_transform(dfX)\n",
    "Xfin"
   ]
  },
  {
   "cell_type": "code",
   "execution_count": 109,
   "id": "herbal-defensive",
   "metadata": {},
   "outputs": [
    {
     "data": {
      "text/html": [
       "<div>\n",
       "<style scoped>\n",
       "    .dataframe tbody tr th:only-of-type {\n",
       "        vertical-align: middle;\n",
       "    }\n",
       "\n",
       "    .dataframe tbody tr th {\n",
       "        vertical-align: top;\n",
       "    }\n",
       "\n",
       "    .dataframe thead th {\n",
       "        text-align: right;\n",
       "    }\n",
       "</style>\n",
       "<table border=\"1\" class=\"dataframe\">\n",
       "  <thead>\n",
       "    <tr style=\"text-align: right;\">\n",
       "      <th></th>\n",
       "      <th>HousingCat</th>\n",
       "      <th>EDUCbin</th>\n",
       "      <th>TRANTIME</th>\n",
       "      <th>DrinkingWater</th>\n",
       "      <th>AirQuality</th>\n",
       "      <th>EarlyEd</th>\n",
       "      <th>ProspNeigh</th>\n",
       "      <th>HHWT</th>\n",
       "      <th>HHINCOME</th>\n",
       "      <th>RACE</th>\n",
       "      <th>AGE</th>\n",
       "      <th>HISPAN</th>\n",
       "    </tr>\n",
       "  </thead>\n",
       "  <tbody>\n",
       "    <tr>\n",
       "      <th>count</th>\n",
       "      <td>1.170510e+06</td>\n",
       "      <td>1.170510e+06</td>\n",
       "      <td>1.170510e+06</td>\n",
       "      <td>1170510.0</td>\n",
       "      <td>1.170510e+06</td>\n",
       "      <td>1.170510e+06</td>\n",
       "      <td>1.170510e+06</td>\n",
       "      <td>1.170510e+06</td>\n",
       "      <td>1.170510e+06</td>\n",
       "      <td>1.170510e+06</td>\n",
       "      <td>1.170510e+06</td>\n",
       "      <td>1.170510e+06</td>\n",
       "    </tr>\n",
       "    <tr>\n",
       "      <th>mean</th>\n",
       "      <td>1.499936e+00</td>\n",
       "      <td>3.981188e-01</td>\n",
       "      <td>1.560110e+01</td>\n",
       "      <td>1.0</td>\n",
       "      <td>3.486640e+01</td>\n",
       "      <td>5.090249e-01</td>\n",
       "      <td>8.312623e-01</td>\n",
       "      <td>1.961318e+01</td>\n",
       "      <td>9.597531e+04</td>\n",
       "      <td>2.555695e+00</td>\n",
       "      <td>4.840819e+01</td>\n",
       "      <td>4.318955e-01</td>\n",
       "    </tr>\n",
       "    <tr>\n",
       "      <th>std</th>\n",
       "      <td>7.582193e-01</td>\n",
       "      <td>4.895104e-01</td>\n",
       "      <td>2.179290e+01</td>\n",
       "      <td>0.0</td>\n",
       "      <td>7.366761e+00</td>\n",
       "      <td>7.035853e-02</td>\n",
       "      <td>9.973130e-02</td>\n",
       "      <td>1.242436e+01</td>\n",
       "      <td>9.231640e+04</td>\n",
       "      <td>2.419788e+00</td>\n",
       "      <td>1.704289e+01</td>\n",
       "      <td>9.166246e-01</td>\n",
       "    </tr>\n",
       "    <tr>\n",
       "      <th>min</th>\n",
       "      <td>0.000000e+00</td>\n",
       "      <td>0.000000e+00</td>\n",
       "      <td>0.000000e+00</td>\n",
       "      <td>1.0</td>\n",
       "      <td>1.900000e+01</td>\n",
       "      <td>3.300000e-01</td>\n",
       "      <td>5.633676e-01</td>\n",
       "      <td>1.000000e+00</td>\n",
       "      <td>-4.050700e+04</td>\n",
       "      <td>1.000000e+00</td>\n",
       "      <td>2.100000e+01</td>\n",
       "      <td>0.000000e+00</td>\n",
       "    </tr>\n",
       "    <tr>\n",
       "      <th>25%</th>\n",
       "      <td>1.000000e+00</td>\n",
       "      <td>0.000000e+00</td>\n",
       "      <td>0.000000e+00</td>\n",
       "      <td>1.0</td>\n",
       "      <td>2.700000e+01</td>\n",
       "      <td>4.790000e-01</td>\n",
       "      <td>7.498056e-01</td>\n",
       "      <td>1.200000e+01</td>\n",
       "      <td>3.919500e+04</td>\n",
       "      <td>1.000000e+00</td>\n",
       "      <td>3.500000e+01</td>\n",
       "      <td>0.000000e+00</td>\n",
       "    </tr>\n",
       "    <tr>\n",
       "      <th>50%</th>\n",
       "      <td>2.000000e+00</td>\n",
       "      <td>0.000000e+00</td>\n",
       "      <td>1.000000e+01</td>\n",
       "      <td>1.0</td>\n",
       "      <td>3.800000e+01</td>\n",
       "      <td>5.320000e-01</td>\n",
       "      <td>8.438507e-01</td>\n",
       "      <td>1.600000e+01</td>\n",
       "      <td>7.318100e+04</td>\n",
       "      <td>1.000000e+00</td>\n",
       "      <td>4.700000e+01</td>\n",
       "      <td>0.000000e+00</td>\n",
       "    </tr>\n",
       "    <tr>\n",
       "      <th>75%</th>\n",
       "      <td>2.000000e+00</td>\n",
       "      <td>1.000000e+00</td>\n",
       "      <td>2.500000e+01</td>\n",
       "      <td>1.0</td>\n",
       "      <td>4.100000e+01</td>\n",
       "      <td>5.380000e-01</td>\n",
       "      <td>9.269250e-01</td>\n",
       "      <td>2.300000e+01</td>\n",
       "      <td>1.219680e+05</td>\n",
       "      <td>4.000000e+00</td>\n",
       "      <td>6.000000e+01</td>\n",
       "      <td>1.000000e+00</td>\n",
       "    </tr>\n",
       "    <tr>\n",
       "      <th>max</th>\n",
       "      <td>2.000000e+00</td>\n",
       "      <td>1.000000e+00</td>\n",
       "      <td>1.780000e+02</td>\n",
       "      <td>1.0</td>\n",
       "      <td>4.400000e+01</td>\n",
       "      <td>7.400000e-01</td>\n",
       "      <td>1.000000e+00</td>\n",
       "      <td>2.170000e+02</td>\n",
       "      <td>2.071857e+06</td>\n",
       "      <td>9.000000e+00</td>\n",
       "      <td>9.300000e+01</td>\n",
       "      <td>4.000000e+00</td>\n",
       "    </tr>\n",
       "  </tbody>\n",
       "</table>\n",
       "</div>"
      ],
      "text/plain": [
       "         HousingCat       EDUCbin      TRANTIME  DrinkingWater    AirQuality  \\\n",
       "count  1.170510e+06  1.170510e+06  1.170510e+06      1170510.0  1.170510e+06   \n",
       "mean   1.499936e+00  3.981188e-01  1.560110e+01            1.0  3.486640e+01   \n",
       "std    7.582193e-01  4.895104e-01  2.179290e+01            0.0  7.366761e+00   \n",
       "min    0.000000e+00  0.000000e+00  0.000000e+00            1.0  1.900000e+01   \n",
       "25%    1.000000e+00  0.000000e+00  0.000000e+00            1.0  2.700000e+01   \n",
       "50%    2.000000e+00  0.000000e+00  1.000000e+01            1.0  3.800000e+01   \n",
       "75%    2.000000e+00  1.000000e+00  2.500000e+01            1.0  4.100000e+01   \n",
       "max    2.000000e+00  1.000000e+00  1.780000e+02            1.0  4.400000e+01   \n",
       "\n",
       "            EarlyEd    ProspNeigh          HHWT      HHINCOME          RACE  \\\n",
       "count  1.170510e+06  1.170510e+06  1.170510e+06  1.170510e+06  1.170510e+06   \n",
       "mean   5.090249e-01  8.312623e-01  1.961318e+01  9.597531e+04  2.555695e+00   \n",
       "std    7.035853e-02  9.973130e-02  1.242436e+01  9.231640e+04  2.419788e+00   \n",
       "min    3.300000e-01  5.633676e-01  1.000000e+00 -4.050700e+04  1.000000e+00   \n",
       "25%    4.790000e-01  7.498056e-01  1.200000e+01  3.919500e+04  1.000000e+00   \n",
       "50%    5.320000e-01  8.438507e-01  1.600000e+01  7.318100e+04  1.000000e+00   \n",
       "75%    5.380000e-01  9.269250e-01  2.300000e+01  1.219680e+05  4.000000e+00   \n",
       "max    7.400000e-01  1.000000e+00  2.170000e+02  2.071857e+06  9.000000e+00   \n",
       "\n",
       "                AGE        HISPAN  \n",
       "count  1.170510e+06  1.170510e+06  \n",
       "mean   4.840819e+01  4.318955e-01  \n",
       "std    1.704289e+01  9.166246e-01  \n",
       "min    2.100000e+01  0.000000e+00  \n",
       "25%    3.500000e+01  0.000000e+00  \n",
       "50%    4.700000e+01  0.000000e+00  \n",
       "75%    6.000000e+01  1.000000e+00  \n",
       "max    9.300000e+01  4.000000e+00  "
      ]
     },
     "execution_count": 109,
     "metadata": {},
     "output_type": "execute_result"
    }
   ],
   "source": [
    "dfXfin = pd.DataFrame(Xfin, columns=['HousingCat','EDUCbin','TRANTIME','DrinkingWater','AirQuality','EarlyEd','ProspNeigh','HHWT','HHINCOME','RACE','AGE','HISPAN'])\n",
    "dfXfin.describe()"
   ]
  },
  {
   "cell_type": "code",
   "execution_count": 110,
   "id": "incorporate-metadata",
   "metadata": {},
   "outputs": [
    {
     "data": {
      "text/html": [
       "<div>\n",
       "<style scoped>\n",
       "    .dataframe tbody tr th:only-of-type {\n",
       "        vertical-align: middle;\n",
       "    }\n",
       "\n",
       "    .dataframe tbody tr th {\n",
       "        vertical-align: top;\n",
       "    }\n",
       "\n",
       "    .dataframe thead th {\n",
       "        text-align: right;\n",
       "    }\n",
       "</style>\n",
       "<table border=\"1\" class=\"dataframe\">\n",
       "  <thead>\n",
       "    <tr style=\"text-align: right;\">\n",
       "      <th></th>\n",
       "      <th>HousingCat</th>\n",
       "      <th>EDUCbin</th>\n",
       "      <th>TRANTIME</th>\n",
       "      <th>DrinkingWater</th>\n",
       "      <th>AirQuality</th>\n",
       "      <th>EarlyEd</th>\n",
       "      <th>ProspNeigh</th>\n",
       "      <th>HHWT</th>\n",
       "      <th>HHINCOME</th>\n",
       "      <th>RACE</th>\n",
       "      <th>AGE</th>\n",
       "      <th>HISPAN</th>\n",
       "    </tr>\n",
       "    <tr>\n",
       "      <th>labels</th>\n",
       "      <th></th>\n",
       "      <th></th>\n",
       "      <th></th>\n",
       "      <th></th>\n",
       "      <th></th>\n",
       "      <th></th>\n",
       "      <th></th>\n",
       "      <th></th>\n",
       "      <th></th>\n",
       "      <th></th>\n",
       "      <th></th>\n",
       "      <th></th>\n",
       "    </tr>\n",
       "  </thead>\n",
       "  <tbody>\n",
       "    <tr>\n",
       "      <th>0</th>\n",
       "      <td>1.172539</td>\n",
       "      <td>0.284889</td>\n",
       "      <td>15.205946</td>\n",
       "      <td>1.0</td>\n",
       "      <td>35.350457</td>\n",
       "      <td>0.508811</td>\n",
       "      <td>0.836598</td>\n",
       "      <td>51.739039</td>\n",
       "      <td>80074.250077</td>\n",
       "      <td>2.913074</td>\n",
       "      <td>41.842320</td>\n",
       "      <td>0.585105</td>\n",
       "    </tr>\n",
       "    <tr>\n",
       "      <th>1</th>\n",
       "      <td>1.659193</td>\n",
       "      <td>0.442142</td>\n",
       "      <td>81.958054</td>\n",
       "      <td>1.0</td>\n",
       "      <td>37.288554</td>\n",
       "      <td>0.495802</td>\n",
       "      <td>0.819584</td>\n",
       "      <td>18.758998</td>\n",
       "      <td>113530.213345</td>\n",
       "      <td>2.703924</td>\n",
       "      <td>43.585958</td>\n",
       "      <td>0.525371</td>\n",
       "    </tr>\n",
       "    <tr>\n",
       "      <th>2</th>\n",
       "      <td>1.645604</td>\n",
       "      <td>0.540688</td>\n",
       "      <td>14.205644</td>\n",
       "      <td>1.0</td>\n",
       "      <td>24.271306</td>\n",
       "      <td>0.578236</td>\n",
       "      <td>0.940224</td>\n",
       "      <td>17.117311</td>\n",
       "      <td>120194.362357</td>\n",
       "      <td>2.451670</td>\n",
       "      <td>49.861022</td>\n",
       "      <td>0.251225</td>\n",
       "    </tr>\n",
       "    <tr>\n",
       "      <th>3</th>\n",
       "      <td>1.833499</td>\n",
       "      <td>1.000000</td>\n",
       "      <td>13.881799</td>\n",
       "      <td>1.0</td>\n",
       "      <td>38.157089</td>\n",
       "      <td>0.502006</td>\n",
       "      <td>0.822812</td>\n",
       "      <td>16.219182</td>\n",
       "      <td>133560.513391</td>\n",
       "      <td>2.269534</td>\n",
       "      <td>49.352402</td>\n",
       "      <td>0.220468</td>\n",
       "    </tr>\n",
       "    <tr>\n",
       "      <th>4</th>\n",
       "      <td>0.304647</td>\n",
       "      <td>0.146809</td>\n",
       "      <td>11.691214</td>\n",
       "      <td>1.0</td>\n",
       "      <td>37.889899</td>\n",
       "      <td>0.515301</td>\n",
       "      <td>0.811227</td>\n",
       "      <td>18.678216</td>\n",
       "      <td>43703.112345</td>\n",
       "      <td>3.006398</td>\n",
       "      <td>43.760014</td>\n",
       "      <td>0.693485</td>\n",
       "    </tr>\n",
       "    <tr>\n",
       "      <th>5</th>\n",
       "      <td>1.527635</td>\n",
       "      <td>0.244466</td>\n",
       "      <td>10.130621</td>\n",
       "      <td>1.0</td>\n",
       "      <td>37.044139</td>\n",
       "      <td>0.383116</td>\n",
       "      <td>0.602757</td>\n",
       "      <td>17.701914</td>\n",
       "      <td>70533.512355</td>\n",
       "      <td>2.407782</td>\n",
       "      <td>48.158153</td>\n",
       "      <td>0.478750</td>\n",
       "    </tr>\n",
       "    <tr>\n",
       "      <th>6</th>\n",
       "      <td>1.962306</td>\n",
       "      <td>0.000000</td>\n",
       "      <td>9.644601</td>\n",
       "      <td>1.0</td>\n",
       "      <td>38.380878</td>\n",
       "      <td>0.485643</td>\n",
       "      <td>0.817390</td>\n",
       "      <td>15.938121</td>\n",
       "      <td>86394.152531</td>\n",
       "      <td>2.485121</td>\n",
       "      <td>52.536393</td>\n",
       "      <td>0.517016</td>\n",
       "    </tr>\n",
       "  </tbody>\n",
       "</table>\n",
       "</div>"
      ],
      "text/plain": [
       "        HousingCat   EDUCbin   TRANTIME  DrinkingWater  AirQuality   EarlyEd  \\\n",
       "labels                                                                         \n",
       "0         1.172539  0.284889  15.205946            1.0   35.350457  0.508811   \n",
       "1         1.659193  0.442142  81.958054            1.0   37.288554  0.495802   \n",
       "2         1.645604  0.540688  14.205644            1.0   24.271306  0.578236   \n",
       "3         1.833499  1.000000  13.881799            1.0   38.157089  0.502006   \n",
       "4         0.304647  0.146809  11.691214            1.0   37.889899  0.515301   \n",
       "5         1.527635  0.244466  10.130621            1.0   37.044139  0.383116   \n",
       "6         1.962306  0.000000   9.644601            1.0   38.380878  0.485643   \n",
       "\n",
       "        ProspNeigh       HHWT       HHINCOME      RACE        AGE    HISPAN  \n",
       "labels                                                                       \n",
       "0         0.836598  51.739039   80074.250077  2.913074  41.842320  0.585105  \n",
       "1         0.819584  18.758998  113530.213345  2.703924  43.585958  0.525371  \n",
       "2         0.940224  17.117311  120194.362357  2.451670  49.861022  0.251225  \n",
       "3         0.822812  16.219182  133560.513391  2.269534  49.352402  0.220468  \n",
       "4         0.811227  18.678216   43703.112345  3.006398  43.760014  0.693485  \n",
       "5         0.602757  17.701914   70533.512355  2.407782  48.158153  0.478750  \n",
       "6         0.817390  15.938121   86394.152531  2.485121  52.536393  0.517016  "
      ]
     },
     "execution_count": 110,
     "metadata": {},
     "output_type": "execute_result"
    }
   ],
   "source": [
    "dfXfin['labels'] = kmeans.labels_\n",
    "cluster_sum = dfXfin.groupby(by = 'labels').mean()\n",
    "cluster_sum.head(7)"
   ]
  },
  {
   "cell_type": "code",
   "execution_count": 64,
   "id": "static-theory",
   "metadata": {},
   "outputs": [],
   "source": [
    "clust0 = dfXfin[dfXfin['labels']==0]\n",
    "clust1 = dfXfin[dfXfin['labels']==1]\n",
    "clust2 = dfXfin[dfXfin['labels']==2]\n",
    "clust3 = dfXfin[dfXfin['labels']==3]\n",
    "clust4 = dfXfin[dfXfin['labels']==4]\n",
    "clust5 = dfXfin[dfXfin['labels']==5]\n",
    "clust6 = dfXfin[dfXfin['labels']==6]"
   ]
  },
  {
   "cell_type": "markdown",
   "id": "sacred-literature",
   "metadata": {},
   "source": [
    "## Housing Category"
   ]
  },
  {
   "cell_type": "code",
   "execution_count": 118,
   "id": "brazilian-purse",
   "metadata": {},
   "outputs": [
    {
     "data": {
      "text/html": [
       "<div>\n",
       "<style scoped>\n",
       "    .dataframe tbody tr th:only-of-type {\n",
       "        vertical-align: middle;\n",
       "    }\n",
       "\n",
       "    .dataframe tbody tr th {\n",
       "        vertical-align: top;\n",
       "    }\n",
       "\n",
       "    .dataframe thead th {\n",
       "        text-align: right;\n",
       "    }\n",
       "</style>\n",
       "<table border=\"1\" class=\"dataframe\">\n",
       "  <thead>\n",
       "    <tr style=\"text-align: right;\">\n",
       "      <th></th>\n",
       "      <th>&gt;=30% Income on Rent</th>\n",
       "      <th>&lt;30% Income on Rent</th>\n",
       "      <th>Owner</th>\n",
       "    </tr>\n",
       "  </thead>\n",
       "  <tbody>\n",
       "    <tr>\n",
       "      <th>Cluster 0</th>\n",
       "      <td>25.431433</td>\n",
       "      <td>31.883230</td>\n",
       "      <td>42.685336</td>\n",
       "    </tr>\n",
       "    <tr>\n",
       "      <th>Cluster 1</th>\n",
       "      <td>4.640406</td>\n",
       "      <td>19.098016</td>\n",
       "      <td>73.410650</td>\n",
       "    </tr>\n",
       "    <tr>\n",
       "      <th>Cluster 2</th>\n",
       "      <td>8.789077</td>\n",
       "      <td>17.861440</td>\n",
       "      <td>73.349483</td>\n",
       "    </tr>\n",
       "    <tr>\n",
       "      <th>Cluster 3</th>\n",
       "      <td>0.000000</td>\n",
       "      <td>16.650135</td>\n",
       "      <td>83.349865</td>\n",
       "    </tr>\n",
       "    <tr>\n",
       "      <th>Cluster 4</th>\n",
       "      <td>69.535254</td>\n",
       "      <td>30.464746</td>\n",
       "      <td>0.000000</td>\n",
       "    </tr>\n",
       "    <tr>\n",
       "      <th>Cluster 5</th>\n",
       "      <td>5.671919</td>\n",
       "      <td>19.429344</td>\n",
       "      <td>66.667100</td>\n",
       "    </tr>\n",
       "    <tr>\n",
       "      <th>Cluster 6</th>\n",
       "      <td>0.000000</td>\n",
       "      <td>3.769382</td>\n",
       "      <td>96.230618</td>\n",
       "    </tr>\n",
       "  </tbody>\n",
       "</table>\n",
       "</div>"
      ],
      "text/plain": [
       "           >=30% Income on Rent  <30% Income on Rent      Owner\n",
       "Cluster 0             25.431433            31.883230  42.685336\n",
       "Cluster 1              4.640406            19.098016  73.410650\n",
       "Cluster 2              8.789077            17.861440  73.349483\n",
       "Cluster 3              0.000000            16.650135  83.349865\n",
       "Cluster 4             69.535254            30.464746   0.000000\n",
       "Cluster 5              5.671919            19.429344  66.667100\n",
       "Cluster 6              0.000000             3.769382  96.230618"
      ]
     },
     "execution_count": 118,
     "metadata": {},
     "output_type": "execute_result"
    }
   ],
   "source": [
    "clustNames= ['Cluster 0', 'Cluster 1', 'Cluster 2','Cluster 3','Cluster 4', 'Cluster 5', 'Cluster 6']\n",
    "dfH = pd.DataFrame(index=clustNames, data=np.array([[clust0['HousingCat'].value_counts()[0]*100/clust0.shape[0],\n",
    "                                                     clust0['HousingCat'].value_counts()[1]*100/clust0.shape[0],\n",
    "                                                     clust0['HousingCat'].value_counts()[2]*100/clust0.shape[0]], \n",
    "                                                    [clust1['HousingCat'].value_counts()[0]*100/clust0.shape[0],\n",
    "                                                     clust1['HousingCat'].value_counts()[1]*100/clust1.shape[0],\n",
    "                                                     clust1['HousingCat'].value_counts()[2]*100/clust1.shape[0]],\n",
    "                                                    [clust2['HousingCat'].value_counts()[0]*100/clust2.shape[0],\n",
    "                                                     clust2['HousingCat'].value_counts()[1]*100/clust2.shape[0],\n",
    "                                                     clust2['HousingCat'].value_counts()[2]*100/clust2.shape[0]],\n",
    "                                                    [0,\n",
    "                                                     clust3['HousingCat'].value_counts()[1]*100/clust3.shape[0],\n",
    "                                                     clust3['HousingCat'].value_counts()[2]*100/clust3.shape[0]],\n",
    "                                                    [clust4['HousingCat'].value_counts()[0]*100/clust4.shape[0],\n",
    "                                                     clust4['HousingCat'].value_counts()[1]*100/clust4.shape[0],\n",
    "                                                     0],\n",
    "                                                    [clust5['HousingCat'].value_counts()[0]*100/clust4.shape[0],\n",
    "                                                     clust5['HousingCat'].value_counts()[1]*100/clust5.shape[0],\n",
    "                                                     clust5['HousingCat'].value_counts()[2]*100/clust5.shape[0]],\n",
    "                                                    [0,\n",
    "                                                     clust6['HousingCat'].value_counts()[1]*100/clust6.shape[0],\n",
    "                                                     clust6['HousingCat'].value_counts()[2]*100/clust6.shape[0]]]),\n",
    "                   columns=['>=30% Income on Rent', '<30% Income on Rent', 'Owner'])\n",
    "dfH"
   ]
  },
  {
   "cell_type": "markdown",
   "id": "institutional-discrimination",
   "metadata": {},
   "source": [
    "## Education (binary)"
   ]
  },
  {
   "cell_type": "code",
   "execution_count": 126,
   "id": "successful-asbestos",
   "metadata": {},
   "outputs": [
    {
     "data": {
      "text/html": [
       "<div>\n",
       "<style scoped>\n",
       "    .dataframe tbody tr th:only-of-type {\n",
       "        vertical-align: middle;\n",
       "    }\n",
       "\n",
       "    .dataframe tbody tr th {\n",
       "        vertical-align: top;\n",
       "    }\n",
       "\n",
       "    .dataframe thead th {\n",
       "        text-align: right;\n",
       "    }\n",
       "</style>\n",
       "<table border=\"1\" class=\"dataframe\">\n",
       "  <thead>\n",
       "    <tr style=\"text-align: right;\">\n",
       "      <th></th>\n",
       "      <th>&lt;2 yr. College</th>\n",
       "      <th>&gt;2 yr. College</th>\n",
       "    </tr>\n",
       "  </thead>\n",
       "  <tbody>\n",
       "    <tr>\n",
       "      <th>Cluster 0</th>\n",
       "      <td>71.511130</td>\n",
       "      <td>28.488870</td>\n",
       "    </tr>\n",
       "    <tr>\n",
       "      <th>Cluster 1</th>\n",
       "      <td>34.555775</td>\n",
       "      <td>44.214175</td>\n",
       "    </tr>\n",
       "    <tr>\n",
       "      <th>Cluster 2</th>\n",
       "      <td>45.931182</td>\n",
       "      <td>54.068818</td>\n",
       "    </tr>\n",
       "    <tr>\n",
       "      <th>Cluster 3</th>\n",
       "      <td>0.000000</td>\n",
       "      <td>100.000000</td>\n",
       "    </tr>\n",
       "    <tr>\n",
       "      <th>Cluster 4</th>\n",
       "      <td>85.319115</td>\n",
       "      <td>14.680885</td>\n",
       "    </tr>\n",
       "    <tr>\n",
       "      <th>Cluster 5</th>\n",
       "      <td>75.553359</td>\n",
       "      <td>21.469443</td>\n",
       "    </tr>\n",
       "    <tr>\n",
       "      <th>Cluster 6</th>\n",
       "      <td>100.000000</td>\n",
       "      <td>0.000000</td>\n",
       "    </tr>\n",
       "  </tbody>\n",
       "</table>\n",
       "</div>"
      ],
      "text/plain": [
       "           <2 yr. College  >2 yr. College\n",
       "Cluster 0       71.511130       28.488870\n",
       "Cluster 1       34.555775       44.214175\n",
       "Cluster 2       45.931182       54.068818\n",
       "Cluster 3        0.000000      100.000000\n",
       "Cluster 4       85.319115       14.680885\n",
       "Cluster 5       75.553359       21.469443\n",
       "Cluster 6      100.000000        0.000000"
      ]
     },
     "execution_count": 126,
     "metadata": {},
     "output_type": "execute_result"
    }
   ],
   "source": [
    "#TABLE\n",
    "clustNames= ['Cluster 0', 'Cluster 1', 'Cluster 2','Cluster 3','Cluster 4', 'Cluster 5', 'Cluster 6']\n",
    "column='EDUCbin'\n",
    "dfEd = pd.DataFrame(index=clustNames, data=np.array([[clust0['{}'.format(column)].value_counts()[0]*100/clust0.shape[0],\n",
    "                                                      clust0['{}'.format(column)].value_counts()[1]*100/clust0.shape[0]], \n",
    "                                                    [clust1['{}'.format(column)].value_counts()[0]*100/clust0.shape[0],\n",
    "                                                     clust1['{}'.format(column)].value_counts()[1]*100/clust1.shape[0]],\n",
    "                                                    [clust2['{}'.format(column)].value_counts()[0]*100/clust2.shape[0],\n",
    "                                                     clust2['{}'.format(column)].value_counts()[1]*100/clust2.shape[0]],\n",
    "                                                    [0,\n",
    "                                                     clust3['{}'.format(column)].value_counts()[1]*100/clust3.shape[0]],\n",
    "                                                    [clust4['{}'.format(column)].value_counts()[0]*100/clust4.shape[0],\n",
    "                                                     clust4['{}'.format(column)].value_counts()[1]*100/clust4.shape[0]],\n",
    "                                                    [clust5['{}'.format(column)].value_counts()[0]*100/clust5.shape[0],\n",
    "                                                     clust5['{}'.format(column)].value_counts()[1]*100/clust0.shape[0]],\n",
    "                                                    [clust6['{}'.format(column)].value_counts()[0]*100/clust6.shape[0],\n",
    "                                                    0]]),\n",
    "                   columns=['<2 yr. College', '>2 yr. College'])\n",
    "dfEd"
   ]
  },
  {
   "cell_type": "markdown",
   "id": "native-boutique",
   "metadata": {},
   "source": [
    "## Commute Time"
   ]
  },
  {
   "cell_type": "code",
   "execution_count": 127,
   "id": "european-framework",
   "metadata": {},
   "outputs": [
    {
     "data": {
      "image/png": "[encoded data removed]",
      "text/plain": [
       "<Figure size 1440x720 with 8 Axes>"
      ]
     },
     "metadata": {
      "needs_background": "light"
     },
     "output_type": "display_data"
    }
   ],
   "source": [
    "fig, axs = plt.subplots(2, 4, sharey=True, figsize=(20,10))\n",
    "fig.suptitle(\"Cluster Commute Time Distributions\")\n",
    "\n",
    "axs[0, 0].hist(clust0['TRANTIME'])\n",
    "axs[0, 0].set_title('Cluster 0')\n",
    "axs[0, 1].hist(clust1['TRANTIME'])\n",
    "axs[0, 1].set_title('Cluster 1')\n",
    "axs[0, 2].hist(clust2['TRANTIME'])\n",
    "axs[0, 2].set_title('Cluster 2')\n",
    "axs[0, 3].hist(clust3['TRANTIME'])\n",
    "axs[0, 3].set_title('Cluster 3')\n",
    "axs[1, 0].hist(clust4['TRANTIME'])\n",
    "axs[1, 0].set_title('Cluster 4')\n",
    "axs[1, 1].hist(clust5['TRANTIME'])\n",
    "axs[1, 1].set_title('Cluster 5')\n",
    "axs[1, 2].hist(clust6['TRANTIME'])\n",
    "axs[1, 2].set_title('Cluster 6')\n",
    "\n",
    "for ax in axs.flat:\n",
    "    ax.set(xlabel='Commute Time (Minutes)')"
   ]
  },
  {
   "cell_type": "markdown",
   "id": "broadband-national",
   "metadata": {},
   "source": [
    "## Drinking Water"
   ]
  },
  {
   "cell_type": "code",
   "execution_count": 128,
   "id": "established-accuracy",
   "metadata": {},
   "outputs": [
    {
     "data": {
      "image/png": "[encoded data removed]",
      "text/plain": [
       "<Figure size 1440x720 with 8 Axes>"
      ]
     },
     "metadata": {
      "needs_background": "light"
     },
     "output_type": "display_data"
    }
   ],
   "source": [
    "fig, axs = plt.subplots(2, 4, sharey=True, figsize=(20,10))\n",
    "fig.suptitle(\"Cluster Drinking Water Distributions\")\n",
    "\n",
    "axs[0, 0].hist(clust0['DrinkingWater'])\n",
    "axs[0, 0].set_title('Cluster 0')\n",
    "axs[0, 1].hist(clust1['DrinkingWater'])\n",
    "axs[0, 1].set_title('Cluster 1')\n",
    "axs[0, 2].hist(clust2['DrinkingWater'])\n",
    "axs[0, 2].set_title('Cluster 2')\n",
    "axs[0, 3].hist(clust3['DrinkingWater'])\n",
    "axs[0, 3].set_title('Cluster 3')\n",
    "axs[1, 0].hist(clust4['DrinkingWater'])\n",
    "axs[1, 0].set_title('Cluster 4')\n",
    "axs[1, 1].hist(clust5['DrinkingWater'])\n",
    "axs[1, 1].set_title('Cluster 5')\n",
    "axs[1, 2].hist(clust6['DrinkingWater'])\n",
    "axs[1, 2].set_title('Cluster 6')\n",
    "\n",
    "for ax in axs.flat[4:]:\n",
    "    ax.set(xlabel='Clean Drinking Water')"
   ]
  },
  {
   "cell_type": "markdown",
   "id": "diagnostic-object",
   "metadata": {},
   "source": [
    "## Early Education"
   ]
  },
  {
   "cell_type": "code",
   "execution_count": 129,
   "id": "dutch-receiver",
   "metadata": {},
   "outputs": [
    {
     "data": {
      "image/png": "[encoded data removed]",
      "text/plain": [
       "<Figure size 1440x720 with 8 Axes>"
      ]
     },
     "metadata": {
      "needs_background": "light"
     },
     "output_type": "display_data"
    }
   ],
   "source": [
    "fig, axs = plt.subplots(2, 4, sharey=True, figsize=(20,10))\n",
    "fig.suptitle(\"Cluster Early Education Distributions\")\n",
    "\n",
    "axs[0, 0].hist(clust0['EarlyEd'])\n",
    "axs[0, 0].set_title('Cluster 0')\n",
    "axs[0, 1].hist(clust1['EarlyEd'])\n",
    "axs[0, 1].set_title('Cluster 1')\n",
    "axs[0, 2].hist(clust2['EarlyEd'])\n",
    "axs[0, 2].set_title('Cluster 2')\n",
    "axs[0, 3].hist(clust3['EarlyEd'])\n",
    "axs[0, 3].set_title('Cluster 3')\n",
    "axs[1, 0].hist(clust4['EarlyEd'])\n",
    "axs[1, 0].set_title('Cluster 4')\n",
    "axs[1, 1].hist(clust5['EarlyEd'])\n",
    "axs[1, 1].set_title('Cluster 5')\n",
    "axs[1, 2].hist(clust6['EarlyEd'])\n",
    "axs[1, 2].set_title('Cluster 6')\n",
    "\n",
    "for ax in axs.flat[4:]:\n",
    "    ax.set(xlabel='Early Education')"
   ]
  },
  {
   "cell_type": "markdown",
   "id": "crucial-burns",
   "metadata": {},
   "source": [
    "## Prosperous Neighborhoods"
   ]
  },
  {
   "cell_type": "code",
   "execution_count": 130,
   "id": "presidential-copying",
   "metadata": {},
   "outputs": [
    {
     "data": {
      "image/png": "[encoded data removed]",
      "text/plain": [
       "<Figure size 1440x720 with 8 Axes>"
      ]
     },
     "metadata": {
      "needs_background": "light"
     },
     "output_type": "display_data"
    }
   ],
   "source": [
    "fig, axs = plt.subplots(2, 4, sharey=True, figsize=(20,10))\n",
    "fig.suptitle(\"Cluster Prosperous Neighborhoods Distributions\")\n",
    "\n",
    "axs[0, 0].hist(clust0['ProspNeigh'])\n",
    "axs[0, 0].set_title('Cluster 0')\n",
    "axs[0, 1].hist(clust1['ProspNeigh'])\n",
    "axs[0, 1].set_title('Cluster 1')\n",
    "axs[0, 2].hist(clust2['ProspNeigh'])\n",
    "axs[0, 2].set_title('Cluster 2')\n",
    "axs[0, 3].hist(clust3['ProspNeigh'])\n",
    "axs[0, 3].set_title('Cluster 3')\n",
    "axs[1, 0].hist(clust4['ProspNeigh'])\n",
    "axs[1, 0].set_title('Cluster 4')\n",
    "axs[1, 1].hist(clust5['ProspNeigh'])\n",
    "axs[1, 1].set_title('Cluster 5')\n",
    "axs[1, 2].hist(clust6['ProspNeigh'])\n",
    "axs[1, 2].set_title('Cluster 6')\n",
    "\n",
    "for ax in axs.flat[4:]:\n",
    "    ax.set(xlabel='Prosperous Neighborhoods')"
   ]
  },
  {
   "cell_type": "markdown",
   "id": "brazilian-rings",
   "metadata": {},
   "source": [
    "## CLUSTER DEMOGRAPHICS"
   ]
  },
  {
   "cell_type": "markdown",
   "id": "married-unknown",
   "metadata": {},
   "source": [
    "## Age"
   ]
  },
  {
   "cell_type": "code",
   "execution_count": 131,
   "id": "spare-shadow",
   "metadata": {},
   "outputs": [
    {
     "data": {
      "image/png": "[encoded data removed]",
      "text/plain": [
       "<Figure size 1440x720 with 8 Axes>"
      ]
     },
     "metadata": {
      "needs_background": "light"
     },
     "output_type": "display_data"
    }
   ],
   "source": [
    "\n",
    "fig, axs = plt.subplots(2, 4, sharey=True, figsize=(20,10))\n",
    "fig.suptitle(\"AGE\")\n",
    "\n",
    "axs[0, 0].hist(clust0['AGE'])\n",
    "axs[0, 0].set_title('Cluster 0')\n",
    "axs[0, 1].hist(clust1['AGE'])\n",
    "axs[0, 1].set_title('Cluster 1')\n",
    "axs[0, 2].hist(clust2['AGE'])\n",
    "axs[0, 2].set_title('Cluster 2')\n",
    "axs[0, 3].hist(clust3['AGE'])\n",
    "axs[0, 3].set_title('Cluster 3')\n",
    "axs[1, 0].hist(clust4['AGE'])\n",
    "axs[1, 0].set_title('Cluster 4')\n",
    "axs[1, 1].hist(clust5['AGE'])\n",
    "axs[1, 1].set_title('Cluster 5')\n",
    "axs[1, 2].hist(clust6['AGE'])\n",
    "axs[1, 2].set_title('Cluster 6')\n",
    "\n",
    "\n",
    "for ax in axs.flat[4:]:\n",
    "    ax.set(xlabel='AGE')"
   ]
  },
  {
   "cell_type": "markdown",
   "id": "opponent-veteran",
   "metadata": {},
   "source": [
    "## Race"
   ]
  },
  {
   "cell_type": "code",
   "execution_count": 132,
   "id": "overall-bundle",
   "metadata": {},
   "outputs": [
    {
     "data": {
      "image/png": "[encoded data removed]",
      "text/plain": [
       "<Figure size 1440x720 with 8 Axes>"
      ]
     },
     "metadata": {
      "needs_background": "light"
     },
     "output_type": "display_data"
    }
   ],
   "source": [
    "fig, axs = plt.subplots(2, 4, sharey=True, figsize=(20,10))\n",
    "fig.suptitle(\"RACE\")\n",
    "\n",
    "axs[0, 0].hist(clust0['RACE'])\n",
    "axs[0, 0].set_title('Cluster 0')\n",
    "axs[0, 1].hist(clust1['RACE'])\n",
    "axs[0, 1].set_title('Cluster 1')\n",
    "axs[0, 2].hist(clust2['RACE'])\n",
    "axs[0, 2].set_title('Cluster 2')\n",
    "axs[0, 3].hist(clust3['RACE'])\n",
    "axs[0, 3].set_title('Cluster 3')\n",
    "axs[1, 0].hist(clust4['RACE'])\n",
    "axs[1, 0].set_title('Cluster 4')\n",
    "axs[1, 1].hist(clust5['RACE'])\n",
    "axs[1, 1].set_title('Cluster 5')\n",
    "axs[1, 2].hist(clust6['RACE'])\n",
    "axs[1, 2].set_title('Cluster 6')\n",
    "\n",
    "\n",
    "for ax in axs.flat[4:]:\n",
    "    ax.set(xlabel='RACE')"
   ]
  },
  {
   "cell_type": "markdown",
   "id": "superb-stream",
   "metadata": {},
   "source": [
    "## Income"
   ]
  },
  {
   "cell_type": "code",
   "execution_count": 133,
   "id": "dated-segment",
   "metadata": {},
   "outputs": [
    {
     "data": {
      "image/png": "[encoded data removed]",
      "text/plain": [
       "<Figure size 1440x720 with 8 Axes>"
      ]
     },
     "metadata": {
      "needs_background": "light"
     },
     "output_type": "display_data"
    }
   ],
   "source": [
    "fig, axs = plt.subplots(2, 4, sharey=True, figsize=(20,10))\n",
    "fig.suptitle(\"Income\")\n",
    "\n",
    "axs[0, 0].hist(clust0['HHINCOME'])\n",
    "axs[0, 0].set_title('Cluster 0')\n",
    "axs[0, 1].hist(clust1['HHINCOME'])\n",
    "axs[0, 1].set_title('Cluster 1')\n",
    "axs[0, 2].hist(clust2['HHINCOME'])\n",
    "axs[0, 2].set_title('Cluster 2')\n",
    "axs[0, 3].hist(clust3['HHINCOME'])\n",
    "axs[0, 3].set_title('Cluster 3')\n",
    "axs[1, 0].hist(clust4['HHINCOME'])\n",
    "axs[1, 0].set_title('Cluster 4')\n",
    "axs[1, 1].hist(clust5['HHINCOME'])\n",
    "axs[1, 1].set_title('Cluster 5')\n",
    "axs[1, 2].hist(clust6['HHINCOME'])\n",
    "axs[1, 2].set_title('Cluster 6')\n",
    "\n",
    "\n",
    "for ax in axs.flat[4:]:\n",
    "    ax.set(xlabel='Income')"
   ]
  },
  {
   "cell_type": "markdown",
   "id": "geological-devon",
   "metadata": {},
   "source": [
    "## Feature Correlations"
   ]
  },
  {
   "cell_type": "code",
   "execution_count": 134,
   "id": "addressed-standard",
   "metadata": {},
   "outputs": [
    {
     "data": {
      "text/html": [
       "<div>\n",
       "<style scoped>\n",
       "    .dataframe tbody tr th:only-of-type {\n",
       "        vertical-align: middle;\n",
       "    }\n",
       "\n",
       "    .dataframe tbody tr th {\n",
       "        vertical-align: top;\n",
       "    }\n",
       "\n",
       "    .dataframe thead th {\n",
       "        text-align: right;\n",
       "    }\n",
       "</style>\n",
       "<table border=\"1\" class=\"dataframe\">\n",
       "  <thead>\n",
       "    <tr style=\"text-align: right;\">\n",
       "      <th></th>\n",
       "      <th>HousingCat</th>\n",
       "      <th>EDUCbin</th>\n",
       "      <th>TRANTIME</th>\n",
       "      <th>AirQuality</th>\n",
       "      <th>EarlyEd</th>\n",
       "      <th>ProspNeigh</th>\n",
       "      <th>HHWT</th>\n",
       "    </tr>\n",
       "  </thead>\n",
       "  <tbody>\n",
       "    <tr>\n",
       "      <th>0</th>\n",
       "      <td>2.0</td>\n",
       "      <td>0.0</td>\n",
       "      <td>0.0</td>\n",
       "      <td>24.0</td>\n",
       "      <td>0.577</td>\n",
       "      <td>0.953782</td>\n",
       "      <td>18.0</td>\n",
       "    </tr>\n",
       "    <tr>\n",
       "      <th>1</th>\n",
       "      <td>2.0</td>\n",
       "      <td>0.0</td>\n",
       "      <td>0.0</td>\n",
       "      <td>24.0</td>\n",
       "      <td>0.577</td>\n",
       "      <td>0.953782</td>\n",
       "      <td>18.0</td>\n",
       "    </tr>\n",
       "    <tr>\n",
       "      <th>2</th>\n",
       "      <td>2.0</td>\n",
       "      <td>0.0</td>\n",
       "      <td>0.0</td>\n",
       "      <td>24.0</td>\n",
       "      <td>0.577</td>\n",
       "      <td>0.953782</td>\n",
       "      <td>15.0</td>\n",
       "    </tr>\n",
       "    <tr>\n",
       "      <th>3</th>\n",
       "      <td>2.0</td>\n",
       "      <td>0.0</td>\n",
       "      <td>0.0</td>\n",
       "      <td>24.0</td>\n",
       "      <td>0.577</td>\n",
       "      <td>0.953782</td>\n",
       "      <td>15.0</td>\n",
       "    </tr>\n",
       "    <tr>\n",
       "      <th>4</th>\n",
       "      <td>2.0</td>\n",
       "      <td>1.0</td>\n",
       "      <td>20.0</td>\n",
       "      <td>24.0</td>\n",
       "      <td>0.577</td>\n",
       "      <td>0.953782</td>\n",
       "      <td>13.0</td>\n",
       "    </tr>\n",
       "  </tbody>\n",
       "</table>\n",
       "</div>"
      ],
      "text/plain": [
       "   HousingCat  EDUCbin  TRANTIME  AirQuality  EarlyEd  ProspNeigh  HHWT\n",
       "0         2.0      0.0       0.0        24.0    0.577    0.953782  18.0\n",
       "1         2.0      0.0       0.0        24.0    0.577    0.953782  18.0\n",
       "2         2.0      0.0       0.0        24.0    0.577    0.953782  15.0\n",
       "3         2.0      0.0       0.0        24.0    0.577    0.953782  15.0\n",
       "4         2.0      1.0      20.0        24.0    0.577    0.953782  13.0"
      ]
     },
     "execution_count": 134,
     "metadata": {},
     "output_type": "execute_result"
    }
   ],
   "source": [
    "Xcorr=dfXfin.iloc[:, [0,1,2,4,5,6,7]]\n",
    "Xcorr.head()"
   ]
  },
  {
   "cell_type": "code",
   "execution_count": 135,
   "id": "digital-yield",
   "metadata": {},
   "outputs": [
    {
     "data": {
      "text/plain": [
       "<AxesSubplot:>"
      ]
     },
     "execution_count": 135,
     "metadata": {},
     "output_type": "execute_result"
    },
    {
     "data": {
      "image/png": "[encoded data removed]",
      "text/plain": [
       "<Figure size 1080x576 with 2 Axes>"
      ]
     },
     "metadata": {
      "needs_background": "light"
     },
     "output_type": "display_data"
    }
   ],
   "source": [
    "plt.subplots(figsize=(15,8))\n",
    "sns.heatmap(Xcorr.corr(), annot = True)"
   ]
  },
  {
   "cell_type": "code",
   "execution_count": 136,
   "id": "settled-placement",
   "metadata": {},
   "outputs": [],
   "source": [
    "Xcorr=dfXfin.iloc[:, [0,1,2,4,5,6,7,8,9,10,11,12]]"
   ]
  },
  {
   "cell_type": "code",
   "execution_count": 137,
   "id": "democratic-newfoundland",
   "metadata": {},
   "outputs": [
    {
     "data": {
      "text/plain": [
       "<AxesSubplot:>"
      ]
     },
     "execution_count": 137,
     "metadata": {},
     "output_type": "execute_result"
    },
    {
     "data": {
      "image/png": "[encoded data removed]",
      "text/plain": [
       "<Figure size 864x576 with 2 Axes>"
      ]
     },
     "metadata": {
      "needs_background": "light"
     },
     "output_type": "display_data"
    }
   ],
   "source": [
    "plt.subplots(figsize=(12,8))\n",
    "sns.heatmap(Xcorr.corr(), annot = True)"
   ]
  }
 ],
 "metadata": {
  "kernelspec": {
   "display_name": "Python 3",
   "language": "python",
   "name": "python3"
  },
  "language_info": {
   "codemirror_mode": {
    "name": "ipython",
    "version": 3
   },
   "file_extension": ".py",
   "mimetype": "text/x-python",
   "name": "python",
   "nbconvert_exporter": "python",
   "pygments_lexer": "ipython3",
   "version": "3.7.6"
  }
 },
 "nbformat": 4,
 "nbformat_minor": 5
}
