{
 "cells": [
  {
   "cell_type": "code",
   "execution_count": 1,
   "metadata": {},
   "outputs": [],
   "source": [
    "import pandas as pd\n",
    "import numpy as np\n",
    "import datetime as dt\n",
    "import matplotlib\n",
    "import matplotlib.pyplot as plt\n",
    "import scipy.cluster.hierarchy as shc\n",
    "from sklearn.cluster import AgglomerativeClustering\n",
    "import os\n",
    "import seaborn as sns"
   ]
  },
  {
   "cell_type": "code",
   "execution_count": 2,
   "metadata": {},
   "outputs": [],
   "source": [
    "from sklearn.cluster import KMeans\n",
    "from scipy.spatial.distance import cdist, pdist\n",
    "from sklearn.datasets import make_classification\n",
    "from sklearn.datasets import make_blobs\n",
    "from sklearn.metrics import silhouette_samples, silhouette_score\n",
    "import matplotlib.cm as cm\n",
    "from sklearn.mixture import GaussianMixture\n",
    "from sklearn.cluster import DBSCAN\n",
    "from sklearn import preprocessing\n",
    "from sklearn.preprocessing import StandardScaler"
   ]
  },
  {
   "cell_type": "code",
   "execution_count": 3,
   "metadata": {},
   "outputs": [],
   "source": [
    "# fileName = 'C:/Users/mcarp/Downloads/usa_00007.csv/usa_00007.csv'\n",
    "fileName = 'C:/Users/Aren Kabarajian/Documents/NYU_CUSP/Capstone/usa_00007.csv'\n",
    "file = pd.read_csv(fileName)\n",
    "dfCDI = pd.DataFrame(file)"
   ]
  },
  {
   "cell_type": "code",
   "execution_count": 4,
   "metadata": {},
   "outputs": [],
   "source": [
    "# fileName2 = 'C:/Users/mcarp/Downloads/county_merged_vals - Sheet1.csv'\n",
    "fileName2 = 'C:/Users/Aren Kabarajian/Documents/NYU_CUSP/Capstone/county_merged_vals - Sheet1.csv'\n",
    "file2 = pd.read_csv(fileName2)\n",
    "dfCty = pd.DataFrame(file2)"
   ]
  },
  {
   "cell_type": "code",
   "execution_count": 5,
   "metadata": {},
   "outputs": [
    {
     "name": "stdout",
     "output_type": "stream",
     "text": [
      "<class 'pandas.core.frame.DataFrame'>\n",
      "RangeIndex: 1887461 entries, 0 to 1887460\n",
      "Data columns (total 40 columns):\n",
      " #   Column      Dtype  \n",
      "---  ------      -----  \n",
      " 0   YEAR        int64  \n",
      " 1   MULTYEAR    int64  \n",
      " 2   SAMPLE      int64  \n",
      " 3   SERIAL      int64  \n",
      " 4   CBSERIAL    int64  \n",
      " 5   HHWT        float64\n",
      " 6   CLUSTER     int64  \n",
      " 7   CPI99       float64\n",
      " 8   STATEFIP    int64  \n",
      " 9   COUNTYFIP   int64  \n",
      " 10  DENSITY     float64\n",
      " 11  CITY        int64  \n",
      " 12  PUMA        int64  \n",
      " 13  STRATA      int64  \n",
      " 14  GQ          int64  \n",
      " 15  OWNERSHP    int64  \n",
      " 16  OWNERSHPD   int64  \n",
      " 17  OWNCOST     int64  \n",
      " 18  RENTGRS     int64  \n",
      " 19  HHINCOME    int64  \n",
      " 20  CILAPTOP    int64  \n",
      " 21  CIHISPEED   int64  \n",
      " 22  PERNUM      int64  \n",
      " 23  PERWT       float64\n",
      " 24  FAMSIZE     int64  \n",
      " 25  AGE         int64  \n",
      " 26  RACE        int64  \n",
      " 27  RACED       int64  \n",
      " 28  HISPAN      int64  \n",
      " 29  HISPAND     int64  \n",
      " 30  EDUC        int64  \n",
      " 31  EDUCD       int64  \n",
      " 32  OCCSOC      object \n",
      " 33  INDNAICS    object \n",
      " 34  INCTOT      int64  \n",
      " 35  FTOTINC     int64  \n",
      " 36  INCWAGE     int64  \n",
      " 37  MIGCOUNTY1  int64  \n",
      " 38  MOVEDIN     int64  \n",
      " 39  TRANTIME    int64  \n",
      "dtypes: float64(4), int64(34), object(2)\n",
      "memory usage: 576.0+ MB\n"
     ]
    }
   ],
   "source": [
    "dfCDI.info()"
   ]
  },
  {
   "cell_type": "code",
   "execution_count": 6,
   "metadata": {},
   "outputs": [
    {
     "data": {
      "text/plain": [
       "(1887461, 40)"
      ]
     },
     "execution_count": 6,
     "metadata": {},
     "output_type": "execute_result"
    }
   ],
   "source": [
    "dfCDI.shape"
   ]
  },
  {
   "cell_type": "code",
   "execution_count": 7,
   "metadata": {},
   "outputs": [
    {
     "data": {
      "text/html": [
       "<div>\n",
       "<style scoped>\n",
       "    .dataframe tbody tr th:only-of-type {\n",
       "        vertical-align: middle;\n",
       "    }\n",
       "\n",
       "    .dataframe tbody tr th {\n",
       "        vertical-align: top;\n",
       "    }\n",
       "\n",
       "    .dataframe thead th {\n",
       "        text-align: right;\n",
       "    }\n",
       "</style>\n",
       "<table border=\"1\" class=\"dataframe\">\n",
       "  <thead>\n",
       "    <tr style=\"text-align: right;\">\n",
       "      <th></th>\n",
       "      <th>YEAR</th>\n",
       "      <th>MULTYEAR</th>\n",
       "      <th>SAMPLE</th>\n",
       "      <th>SERIAL</th>\n",
       "      <th>CBSERIAL</th>\n",
       "      <th>HHWT</th>\n",
       "      <th>CLUSTER</th>\n",
       "      <th>CPI99</th>\n",
       "      <th>STATEFIP</th>\n",
       "      <th>COUNTYFIP</th>\n",
       "      <th>...</th>\n",
       "      <th>EDUC</th>\n",
       "      <th>EDUCD</th>\n",
       "      <th>OCCSOC</th>\n",
       "      <th>INDNAICS</th>\n",
       "      <th>INCTOT</th>\n",
       "      <th>FTOTINC</th>\n",
       "      <th>INCWAGE</th>\n",
       "      <th>MIGCOUNTY1</th>\n",
       "      <th>MOVEDIN</th>\n",
       "      <th>TRANTIME</th>\n",
       "    </tr>\n",
       "  </thead>\n",
       "  <tbody>\n",
       "    <tr>\n",
       "      <th>0</th>\n",
       "      <td>2019</td>\n",
       "      <td>2015</td>\n",
       "      <td>201903</td>\n",
       "      <td>342262</td>\n",
       "      <td>2015000000008</td>\n",
       "      <td>20.0</td>\n",
       "      <td>2019003422623</td>\n",
       "      <td>0.652</td>\n",
       "      <td>6</td>\n",
       "      <td>59</td>\n",
       "      <td>...</td>\n",
       "      <td>10</td>\n",
       "      <td>101</td>\n",
       "      <td>414010</td>\n",
       "      <td>424M</td>\n",
       "      <td>56113</td>\n",
       "      <td>56113</td>\n",
       "      <td>53955</td>\n",
       "      <td>0</td>\n",
       "      <td>2</td>\n",
       "      <td>10</td>\n",
       "    </tr>\n",
       "    <tr>\n",
       "      <th>1</th>\n",
       "      <td>2019</td>\n",
       "      <td>2015</td>\n",
       "      <td>201903</td>\n",
       "      <td>342262</td>\n",
       "      <td>2015000000008</td>\n",
       "      <td>20.0</td>\n",
       "      <td>2019003422623</td>\n",
       "      <td>0.652</td>\n",
       "      <td>6</td>\n",
       "      <td>59</td>\n",
       "      <td>...</td>\n",
       "      <td>6</td>\n",
       "      <td>65</td>\n",
       "      <td>433071</td>\n",
       "      <td>522M</td>\n",
       "      <td>0</td>\n",
       "      <td>56113</td>\n",
       "      <td>0</td>\n",
       "      <td>0</td>\n",
       "      <td>0</td>\n",
       "      <td>0</td>\n",
       "    </tr>\n",
       "    <tr>\n",
       "      <th>2</th>\n",
       "      <td>2019</td>\n",
       "      <td>2015</td>\n",
       "      <td>201903</td>\n",
       "      <td>342263</td>\n",
       "      <td>2015000000009</td>\n",
       "      <td>15.0</td>\n",
       "      <td>2019003422633</td>\n",
       "      <td>0.652</td>\n",
       "      <td>6</td>\n",
       "      <td>81</td>\n",
       "      <td>...</td>\n",
       "      <td>11</td>\n",
       "      <td>115</td>\n",
       "      <td>2310XX</td>\n",
       "      <td>5411</td>\n",
       "      <td>0</td>\n",
       "      <td>250353</td>\n",
       "      <td>0</td>\n",
       "      <td>85</td>\n",
       "      <td>1</td>\n",
       "      <td>0</td>\n",
       "    </tr>\n",
       "    <tr>\n",
       "      <th>3</th>\n",
       "      <td>2019</td>\n",
       "      <td>2015</td>\n",
       "      <td>201903</td>\n",
       "      <td>342263</td>\n",
       "      <td>2015000000009</td>\n",
       "      <td>15.0</td>\n",
       "      <td>2019003422633</td>\n",
       "      <td>0.652</td>\n",
       "      <td>6</td>\n",
       "      <td>81</td>\n",
       "      <td>...</td>\n",
       "      <td>11</td>\n",
       "      <td>114</td>\n",
       "      <td>132011</td>\n",
       "      <td>3341</td>\n",
       "      <td>250353</td>\n",
       "      <td>250353</td>\n",
       "      <td>248194</td>\n",
       "      <td>85</td>\n",
       "      <td>0</td>\n",
       "      <td>25</td>\n",
       "    </tr>\n",
       "    <tr>\n",
       "      <th>4</th>\n",
       "      <td>2019</td>\n",
       "      <td>2015</td>\n",
       "      <td>201903</td>\n",
       "      <td>342263</td>\n",
       "      <td>2015000000009</td>\n",
       "      <td>15.0</td>\n",
       "      <td>2019003422633</td>\n",
       "      <td>0.652</td>\n",
       "      <td>6</td>\n",
       "      <td>81</td>\n",
       "      <td>...</td>\n",
       "      <td>0</td>\n",
       "      <td>1</td>\n",
       "      <td>0</td>\n",
       "      <td>0</td>\n",
       "      <td>9999999</td>\n",
       "      <td>250353</td>\n",
       "      <td>999999</td>\n",
       "      <td>85</td>\n",
       "      <td>0</td>\n",
       "      <td>0</td>\n",
       "    </tr>\n",
       "  </tbody>\n",
       "</table>\n",
       "<p>5 rows × 40 columns</p>\n",
       "</div>"
      ],
      "text/plain": [
       "   YEAR  MULTYEAR  SAMPLE  SERIAL       CBSERIAL  HHWT        CLUSTER  CPI99  \\\n",
       "0  2019      2015  201903  342262  2015000000008  20.0  2019003422623  0.652   \n",
       "1  2019      2015  201903  342262  2015000000008  20.0  2019003422623  0.652   \n",
       "2  2019      2015  201903  342263  2015000000009  15.0  2019003422633  0.652   \n",
       "3  2019      2015  201903  342263  2015000000009  15.0  2019003422633  0.652   \n",
       "4  2019      2015  201903  342263  2015000000009  15.0  2019003422633  0.652   \n",
       "\n",
       "   STATEFIP  COUNTYFIP  ...  EDUC  EDUCD  OCCSOC  INDNAICS   INCTOT  FTOTINC  \\\n",
       "0         6         59  ...    10    101  414010  424M        56113    56113   \n",
       "1         6         59  ...     6     65  433071  522M            0    56113   \n",
       "2         6         81  ...    11    115  2310XX  5411            0   250353   \n",
       "3         6         81  ...    11    114  132011  3341       250353   250353   \n",
       "4         6         81  ...     0      1       0         0  9999999   250353   \n",
       "\n",
       "   INCWAGE  MIGCOUNTY1  MOVEDIN  TRANTIME  \n",
       "0    53955           0        2        10  \n",
       "1        0           0        0         0  \n",
       "2        0          85        1         0  \n",
       "3   248194          85        0        25  \n",
       "4   999999          85        0         0  \n",
       "\n",
       "[5 rows x 40 columns]"
      ]
     },
     "execution_count": 7,
     "metadata": {},
     "output_type": "execute_result"
    }
   ],
   "source": [
    "dfCDI.head()"
   ]
  },
  {
   "cell_type": "code",
   "execution_count": 8,
   "metadata": {},
   "outputs": [
    {
     "data": {
      "text/plain": [
       "(1417874, 40)"
      ]
     },
     "execution_count": 8,
     "metadata": {},
     "output_type": "execute_result"
    }
   ],
   "source": [
    "dfCDI = dfCDI[dfCDI['AGE']>=21]\n",
    "dfCDI.shape"
   ]
  },
  {
   "cell_type": "code",
   "execution_count": 9,
   "metadata": {},
   "outputs": [
    {
     "data": {
      "text/plain": [
       "0       941339\n",
       "1252      1640\n",
       "1460      1534\n",
       "1619      1222\n",
       "1079      1172\n",
       "         ...  \n",
       "4263         1\n",
       "332          1\n",
       "3996         1\n",
       "57           1\n",
       "197          1\n",
       "Name: RENTGRS, Length: 4547, dtype: int64"
      ]
     },
     "execution_count": 9,
     "metadata": {},
     "output_type": "execute_result"
    }
   ],
   "source": [
    "dfCDI.RENTGRS.value_counts()"
   ]
  },
  {
   "cell_type": "code",
   "execution_count": 10,
   "metadata": {},
   "outputs": [
    {
     "data": {
      "text/plain": [
       "count    863826.0\n",
       "mean          0.0\n",
       "std           0.0\n",
       "min           0.0\n",
       "25%           0.0\n",
       "50%           0.0\n",
       "75%           0.0\n",
       "max           0.0\n",
       "Name: RENTGRS, dtype: float64"
      ]
     },
     "execution_count": 10,
     "metadata": {},
     "output_type": "execute_result"
    }
   ],
   "source": [
    "dfHomeOwn=dfCDI[dfCDI['OWNERSHP']==1]\n",
    "dfHomeOwn.RENTGRS.describe()"
   ]
  },
  {
   "cell_type": "markdown",
   "metadata": {},
   "source": [
    "This reveals that home owning rows all have 0 values for cost of rent."
   ]
  },
  {
   "cell_type": "code",
   "execution_count": 11,
   "metadata": {},
   "outputs": [
    {
     "data": {
      "text/plain": [
       "1    863826\n",
       "2    494178\n",
       "0     59870\n",
       "Name: OWNERSHP, dtype: int64"
      ]
     },
     "execution_count": 11,
     "metadata": {},
     "output_type": "execute_result"
    }
   ],
   "source": [
    "dfCDI['OWNERSHP'].value_counts()"
   ]
  },
  {
   "cell_type": "code",
   "execution_count": 12,
   "metadata": {},
   "outputs": [
    {
     "data": {
      "text/plain": [
       "(1358004, 40)"
      ]
     },
     "execution_count": 12,
     "metadata": {},
     "output_type": "execute_result"
    }
   ],
   "source": [
    "dfCDI = dfCDI[dfCDI['OWNERSHP']!=0]\n",
    "dfCDI.shape"
   ]
  },
  {
   "cell_type": "markdown",
   "metadata": {},
   "source": [
    "Removes N/As (~50k rows)"
   ]
  },
  {
   "cell_type": "code",
   "execution_count": 13,
   "metadata": {},
   "outputs": [
    {
     "data": {
      "text/plain": [
       "0       881469\n",
       "1252      1640\n",
       "1460      1534\n",
       "1619      1222\n",
       "1079      1172\n",
       "         ...  \n",
       "4263         1\n",
       "332          1\n",
       "3996         1\n",
       "57           1\n",
       "197          1\n",
       "Name: RENTGRS, Length: 4547, dtype: int64"
      ]
     },
     "execution_count": 13,
     "metadata": {},
     "output_type": "execute_result"
    }
   ],
   "source": [
    "dfCDI['RENTGRS'].value_counts()"
   ]
  },
  {
   "cell_type": "code",
   "execution_count": 14,
   "metadata": {},
   "outputs": [],
   "source": [
    "dfCDI['affrentdec'] = dfCDI['RENTGRS']*12/dfCDI['HHINCOME']"
   ]
  },
  {
   "cell_type": "code",
   "execution_count": 15,
   "metadata": {},
   "outputs": [],
   "source": [
    "def housingFunc(own, affrentdec):\n",
    "    if own==1:\n",
    "        housingCat=2\n",
    "    elif own==2 and affrentdec<.3:\n",
    "        housingCat=1\n",
    "    else:\n",
    "        housingCat=0\n",
    "    return housingCat"
   ]
  },
  {
   "cell_type": "code",
   "execution_count": 16,
   "metadata": {},
   "outputs": [
    {
     "data": {
      "text/plain": [
       "2    863826\n",
       "1    261051\n",
       "0    233127\n",
       "Name: HousingCat, dtype: int64"
      ]
     },
     "execution_count": 16,
     "metadata": {},
     "output_type": "execute_result"
    }
   ],
   "source": [
    "dfCDI['HousingCat'] = dfCDI.apply(lambda x: housingFunc(x['OWNERSHP'], x['affrentdec']), axis=1)\n",
    "dfCDI['HousingCat'].value_counts()"
   ]
  },
  {
   "cell_type": "markdown",
   "metadata": {},
   "source": [
    "COMBINING aff. rent and home ownership into 1 indicator: 0, 1, 2 scores (0: rent>=30% income, 1: rent<30% income, 2: owner)"
   ]
  },
  {
   "cell_type": "code",
   "execution_count": 17,
   "metadata": {},
   "outputs": [
    {
     "data": {
      "text/plain": [
       "0    761987\n",
       "1    596017\n",
       "Name: EDUCbin, dtype: int64"
      ]
     },
     "execution_count": 17,
     "metadata": {},
     "output_type": "execute_result"
    }
   ],
   "source": [
    "dfCDI['EDUCbin'] = [1 if x >=8 else 0 for x in dfCDI['EDUC']]\n",
    "dfCDI['EDUCbin'].value_counts()"
   ]
  },
  {
   "cell_type": "code",
   "execution_count": 18,
   "metadata": {},
   "outputs": [
    {
     "data": {
      "text/plain": [
       "10    1047257\n",
       "20     176856\n",
       "0      133891\n",
       "Name: CIHISPEED, dtype: int64"
      ]
     },
     "execution_count": 18,
     "metadata": {},
     "output_type": "execute_result"
    }
   ],
   "source": [
    "dfCDI['CIHISPEED'].value_counts()"
   ]
  },
  {
   "cell_type": "code",
   "execution_count": 19,
   "metadata": {},
   "outputs": [],
   "source": [
    "dfCDI = dfCDI[dfCDI['CIHISPEED']!=0]"
   ]
  },
  {
   "cell_type": "code",
   "execution_count": 20,
   "metadata": {},
   "outputs": [
    {
     "data": {
      "text/plain": [
       "0      510201\n",
       "30     105754\n",
       "15      96661\n",
       "20      96467\n",
       "10      73306\n",
       "        ...  \n",
       "104         1\n",
       "117         1\n",
       "116         1\n",
       "103         1\n",
       "113         1\n",
       "Name: TRANTIME, Length: 120, dtype: int64"
      ]
     },
     "execution_count": 20,
     "metadata": {},
     "output_type": "execute_result"
    }
   ],
   "source": [
    "dfCDI['TRANTIME'].value_counts()"
   ]
  },
  {
   "cell_type": "code",
   "execution_count": 21,
   "metadata": {},
   "outputs": [
    {
     "data": {
      "text/plain": [
       "(1224113, 43)"
      ]
     },
     "execution_count": 21,
     "metadata": {},
     "output_type": "execute_result"
    }
   ],
   "source": [
    "dfCDI.shape"
   ]
  },
  {
   "cell_type": "code",
   "execution_count": 22,
   "metadata": {},
   "outputs": [
    {
     "data": {
      "text/plain": [
       "(1180785, 60)"
      ]
     },
     "execution_count": 22,
     "metadata": {},
     "output_type": "execute_result"
    }
   ],
   "source": [
    "joined2019_2 = dfCDI.merge(dfCty, on='COUNTYFIP')\n",
    "joined2019_2.shape"
   ]
  },
  {
   "cell_type": "code",
   "execution_count": 23,
   "metadata": {},
   "outputs": [
    {
     "name": "stdout",
     "output_type": "stream",
     "text": [
      "41\n",
      "42\n",
      "21\n",
      "39\n",
      "56\n",
      "58\n",
      "57\n",
      "59\n"
     ]
    }
   ],
   "source": [
    "print(joined2019_2.columns.get_loc(\"HousingCat\"))\n",
    "print(joined2019_2.columns.get_loc(\"EDUCbin\"))\n",
    "print(joined2019_2.columns.get_loc(\"CIHISPEED\"))\n",
    "print(joined2019_2.columns.get_loc(\"TRANTIME\"))\n",
    "print(joined2019_2.columns.get_loc(\"DrinkingWater\"))\n",
    "print(joined2019_2.columns.get_loc(\"AirQuality\"))\n",
    "print(joined2019_2.columns.get_loc(\"EarlyEd\"))\n",
    "print(joined2019_2.columns.get_loc(\"ProspNeigh\"))"
   ]
  },
  {
   "cell_type": "code",
   "execution_count": 24,
   "metadata": {},
   "outputs": [],
   "source": [
    "X = joined2019_2.iloc[:, [41,42,21,39,56,58,57,59,5,19,26,25,28]]"
   ]
  },
  {
   "cell_type": "code",
   "execution_count": 25,
   "metadata": {},
   "outputs": [
    {
     "data": {
      "text/html": [
       "<div>\n",
       "<style scoped>\n",
       "    .dataframe tbody tr th:only-of-type {\n",
       "        vertical-align: middle;\n",
       "    }\n",
       "\n",
       "    .dataframe tbody tr th {\n",
       "        vertical-align: top;\n",
       "    }\n",
       "\n",
       "    .dataframe thead th {\n",
       "        text-align: right;\n",
       "    }\n",
       "</style>\n",
       "<table border=\"1\" class=\"dataframe\">\n",
       "  <thead>\n",
       "    <tr style=\"text-align: right;\">\n",
       "      <th></th>\n",
       "      <th>HousingCat</th>\n",
       "      <th>EDUCbin</th>\n",
       "      <th>CIHISPEED</th>\n",
       "      <th>TRANTIME</th>\n",
       "      <th>DrinkingWater</th>\n",
       "      <th>AirQuality</th>\n",
       "      <th>EarlyEd</th>\n",
       "      <th>ProspNeigh</th>\n",
       "      <th>HHWT</th>\n",
       "      <th>HHINCOME</th>\n",
       "      <th>RACE</th>\n",
       "      <th>AGE</th>\n",
       "      <th>HISPAN</th>\n",
       "    </tr>\n",
       "  </thead>\n",
       "  <tbody>\n",
       "    <tr>\n",
       "      <th>0</th>\n",
       "      <td>1</td>\n",
       "      <td>1</td>\n",
       "      <td>10</td>\n",
       "      <td>10</td>\n",
       "      <td>1.0</td>\n",
       "      <td>37</td>\n",
       "      <td>0.554</td>\n",
       "      <td>0.896835</td>\n",
       "      <td>20.0</td>\n",
       "      <td>56113</td>\n",
       "      <td>1</td>\n",
       "      <td>41</td>\n",
       "      <td>1</td>\n",
       "    </tr>\n",
       "    <tr>\n",
       "      <th>1</th>\n",
       "      <td>1</td>\n",
       "      <td>0</td>\n",
       "      <td>10</td>\n",
       "      <td>0</td>\n",
       "      <td>1.0</td>\n",
       "      <td>37</td>\n",
       "      <td>0.554</td>\n",
       "      <td>0.896835</td>\n",
       "      <td>20.0</td>\n",
       "      <td>56113</td>\n",
       "      <td>1</td>\n",
       "      <td>32</td>\n",
       "      <td>1</td>\n",
       "    </tr>\n",
       "    <tr>\n",
       "      <th>2</th>\n",
       "      <td>2</td>\n",
       "      <td>1</td>\n",
       "      <td>10</td>\n",
       "      <td>20</td>\n",
       "      <td>1.0</td>\n",
       "      <td>37</td>\n",
       "      <td>0.554</td>\n",
       "      <td>0.896835</td>\n",
       "      <td>27.0</td>\n",
       "      <td>147837</td>\n",
       "      <td>1</td>\n",
       "      <td>45</td>\n",
       "      <td>0</td>\n",
       "    </tr>\n",
       "    <tr>\n",
       "      <th>3</th>\n",
       "      <td>2</td>\n",
       "      <td>0</td>\n",
       "      <td>10</td>\n",
       "      <td>25</td>\n",
       "      <td>1.0</td>\n",
       "      <td>37</td>\n",
       "      <td>0.554</td>\n",
       "      <td>0.896835</td>\n",
       "      <td>27.0</td>\n",
       "      <td>147837</td>\n",
       "      <td>1</td>\n",
       "      <td>46</td>\n",
       "      <td>0</td>\n",
       "    </tr>\n",
       "    <tr>\n",
       "      <th>4</th>\n",
       "      <td>2</td>\n",
       "      <td>0</td>\n",
       "      <td>10</td>\n",
       "      <td>0</td>\n",
       "      <td>1.0</td>\n",
       "      <td>37</td>\n",
       "      <td>0.554</td>\n",
       "      <td>0.896835</td>\n",
       "      <td>13.0</td>\n",
       "      <td>1705</td>\n",
       "      <td>1</td>\n",
       "      <td>78</td>\n",
       "      <td>0</td>\n",
       "    </tr>\n",
       "  </tbody>\n",
       "</table>\n",
       "</div>"
      ],
      "text/plain": [
       "   HousingCat  EDUCbin  CIHISPEED  TRANTIME  DrinkingWater  AirQuality  \\\n",
       "0           1        1         10        10            1.0          37   \n",
       "1           1        0         10         0            1.0          37   \n",
       "2           2        1         10        20            1.0          37   \n",
       "3           2        0         10        25            1.0          37   \n",
       "4           2        0         10         0            1.0          37   \n",
       "\n",
       "   EarlyEd  ProspNeigh  HHWT  HHINCOME  RACE  AGE  HISPAN  \n",
       "0    0.554    0.896835  20.0     56113     1   41       1  \n",
       "1    0.554    0.896835  20.0     56113     1   32       1  \n",
       "2    0.554    0.896835  27.0    147837     1   45       0  \n",
       "3    0.554    0.896835  27.0    147837     1   46       0  \n",
       "4    0.554    0.896835  13.0      1705     1   78       0  "
      ]
     },
     "execution_count": 25,
     "metadata": {},
     "output_type": "execute_result"
    }
   ],
   "source": [
    "X.head()"
   ]
  },
  {
   "cell_type": "code",
   "execution_count": 26,
   "metadata": {},
   "outputs": [],
   "source": [
    "scaler=StandardScaler()\n",
    "scalerNum = scaler.fit(X)\n",
    "Xstd = scalerNum.transform(X)"
   ]
  },
  {
   "cell_type": "code",
   "execution_count": 27,
   "metadata": {},
   "outputs": [
    {
     "data": {
      "text/plain": [
       "array([[-0.65983745,  1.06436946, -0.40209595, ..., -0.68580028,\n",
       "        -0.46413453,  0.5732051 ],\n",
       "       [-0.65983745, -0.93952338, -0.40209595, ..., -0.68580028,\n",
       "        -0.98982715,  0.5732051 ],\n",
       "       [ 0.6725556 ,  1.06436946, -0.40209595, ..., -0.68580028,\n",
       "        -0.23049336, -0.48418627],\n",
       "       ...,\n",
       "       [ 0.6725556 ,  1.06436946, -0.40209595, ..., -0.68580028,\n",
       "        -1.39869919, -0.48418627],\n",
       "       [ 0.6725556 ,  1.06436946, -0.40209595, ...,  2.12581545,\n",
       "        -1.39869919, -0.48418627],\n",
       "       [ 0.6725556 ,  1.06436946, -0.40209595, ..., -0.68580028,\n",
       "        -1.10664773, -0.48418627]])"
      ]
     },
     "execution_count": 27,
     "metadata": {},
     "output_type": "execute_result"
    }
   ],
   "source": [
    "Xstd"
   ]
  },
  {
   "cell_type": "code",
   "execution_count": 28,
   "metadata": {
    "scrolled": true
   },
   "outputs": [
    {
     "data": {
      "text/html": [
       "<div>\n",
       "<style scoped>\n",
       "    .dataframe tbody tr th:only-of-type {\n",
       "        vertical-align: middle;\n",
       "    }\n",
       "\n",
       "    .dataframe tbody tr th {\n",
       "        vertical-align: top;\n",
       "    }\n",
       "\n",
       "    .dataframe thead th {\n",
       "        text-align: right;\n",
       "    }\n",
       "</style>\n",
       "<table border=\"1\" class=\"dataframe\">\n",
       "  <thead>\n",
       "    <tr style=\"text-align: right;\">\n",
       "      <th></th>\n",
       "      <th>HousingCat</th>\n",
       "      <th>EDUCbin</th>\n",
       "      <th>CIHISPEED</th>\n",
       "      <th>TRANTIME</th>\n",
       "      <th>DrinkingWater</th>\n",
       "      <th>AirQuality</th>\n",
       "      <th>EarlyEd</th>\n",
       "      <th>ProspNeigh</th>\n",
       "      <th>HHWT</th>\n",
       "      <th>HHINCOME</th>\n",
       "      <th>RACE</th>\n",
       "      <th>AGE</th>\n",
       "      <th>HISPAN</th>\n",
       "    </tr>\n",
       "  </thead>\n",
       "  <tbody>\n",
       "    <tr>\n",
       "      <th>count</th>\n",
       "      <td>1.180785e+06</td>\n",
       "      <td>1.180785e+06</td>\n",
       "      <td>1.180785e+06</td>\n",
       "      <td>1.180785e+06</td>\n",
       "      <td>1.180785e+06</td>\n",
       "      <td>1.180785e+06</td>\n",
       "      <td>1.180785e+06</td>\n",
       "      <td>1.180785e+06</td>\n",
       "      <td>1.180785e+06</td>\n",
       "      <td>1.180785e+06</td>\n",
       "      <td>1.180785e+06</td>\n",
       "      <td>1.180785e+06</td>\n",
       "      <td>1.180785e+06</td>\n",
       "    </tr>\n",
       "    <tr>\n",
       "      <th>mean</th>\n",
       "      <td>7.065428e-13</td>\n",
       "      <td>-4.973875e-14</td>\n",
       "      <td>8.830854e-14</td>\n",
       "      <td>-4.389707e-13</td>\n",
       "      <td>-2.740658e-13</td>\n",
       "      <td>1.435436e-12</td>\n",
       "      <td>-3.516910e-12</td>\n",
       "      <td>5.989656e-13</td>\n",
       "      <td>-3.423819e-14</td>\n",
       "      <td>1.485636e-15</td>\n",
       "      <td>5.424345e-13</td>\n",
       "      <td>-8.973570e-15</td>\n",
       "      <td>3.176876e-13</td>\n",
       "    </tr>\n",
       "    <tr>\n",
       "      <th>std</th>\n",
       "      <td>1.000000e+00</td>\n",
       "      <td>1.000000e+00</td>\n",
       "      <td>1.000000e+00</td>\n",
       "      <td>1.000000e+00</td>\n",
       "      <td>1.000000e+00</td>\n",
       "      <td>1.000000e+00</td>\n",
       "      <td>1.000000e+00</td>\n",
       "      <td>1.000000e+00</td>\n",
       "      <td>1.000000e+00</td>\n",
       "      <td>1.000000e+00</td>\n",
       "      <td>1.000000e+00</td>\n",
       "      <td>1.000000e+00</td>\n",
       "      <td>1.000000e+00</td>\n",
       "    </tr>\n",
       "    <tr>\n",
       "      <th>min</th>\n",
       "      <td>-1.992230e+00</td>\n",
       "      <td>-9.395234e-01</td>\n",
       "      <td>-4.020960e-01</td>\n",
       "      <td>-7.479869e-01</td>\n",
       "      <td>-5.293388e+00</td>\n",
       "      <td>-2.975731e+00</td>\n",
       "      <td>-2.254314e+00</td>\n",
       "      <td>-3.918673e+00</td>\n",
       "      <td>-1.366441e+00</td>\n",
       "      <td>-1.158032e+00</td>\n",
       "      <td>-6.858003e-01</td>\n",
       "      <td>-1.632340e+00</td>\n",
       "      <td>-4.841863e-01</td>\n",
       "    </tr>\n",
       "    <tr>\n",
       "      <th>25%</th>\n",
       "      <td>-6.598374e-01</td>\n",
       "      <td>-9.395234e-01</td>\n",
       "      <td>-4.020960e-01</td>\n",
       "      <td>-7.479869e-01</td>\n",
       "      <td>2.664198e-01</td>\n",
       "      <td>-8.538214e-01</td>\n",
       "      <td>-6.916685e-01</td>\n",
       "      <td>-5.017038e-01</td>\n",
       "      <td>-5.409315e-01</td>\n",
       "      <td>-6.055501e-01</td>\n",
       "      <td>-6.858003e-01</td>\n",
       "      <td>-8.730066e-01</td>\n",
       "      <td>-4.841863e-01</td>\n",
       "    </tr>\n",
       "    <tr>\n",
       "      <th>50%</th>\n",
       "      <td>6.725556e-01</td>\n",
       "      <td>-9.395234e-01</td>\n",
       "      <td>-4.020960e-01</td>\n",
       "      <td>-3.330653e-01</td>\n",
       "      <td>2.818670e-01</td>\n",
       "      <td>2.887450e-01</td>\n",
       "      <td>3.580473e-01</td>\n",
       "      <td>1.042612e-02</td>\n",
       "      <td>-3.157925e-01</td>\n",
       "      <td>-2.570564e-01</td>\n",
       "      <td>-6.858003e-01</td>\n",
       "      <td>-5.526249e-02</td>\n",
       "      <td>-4.841863e-01</td>\n",
       "    </tr>\n",
       "    <tr>\n",
       "      <th>75%</th>\n",
       "      <td>6.725556e-01</td>\n",
       "      <td>1.064369e+00</td>\n",
       "      <td>-4.020960e-01</td>\n",
       "      <td>4.967781e-01</td>\n",
       "      <td>2.854028e-01</td>\n",
       "      <td>7.784163e-01</td>\n",
       "      <td>4.654046e-01</td>\n",
       "      <td>6.896505e-01</td>\n",
       "      <td>2.845780e-01</td>\n",
       "      <td>2.569640e-01</td>\n",
       "      <td>1.322497e+00</td>\n",
       "      <td>7.624816e-01</td>\n",
       "      <td>5.732051e-01</td>\n",
       "    </tr>\n",
       "    <tr>\n",
       "      <th>max</th>\n",
       "      <td>6.725556e-01</td>\n",
       "      <td>1.064369e+00</td>\n",
       "      <td>2.486969e+00</td>\n",
       "      <td>5.143901e+00</td>\n",
       "      <td>2.854028e-01</td>\n",
       "      <td>1.268088e+00</td>\n",
       "      <td>2.731836e+00</td>\n",
       "      <td>1.548628e+00</td>\n",
       "      <td>1.859588e+01</td>\n",
       "      <td>1.977139e+01</td>\n",
       "      <td>2.527475e+00</td>\n",
       "      <td>2.631611e+00</td>\n",
       "      <td>3.745379e+00</td>\n",
       "    </tr>\n",
       "  </tbody>\n",
       "</table>\n",
       "</div>"
      ],
      "text/plain": [
       "         HousingCat       EDUCbin     CIHISPEED      TRANTIME  DrinkingWater  \\\n",
       "count  1.180785e+06  1.180785e+06  1.180785e+06  1.180785e+06   1.180785e+06   \n",
       "mean   7.065428e-13 -4.973875e-14  8.830854e-14 -4.389707e-13  -2.740658e-13   \n",
       "std    1.000000e+00  1.000000e+00  1.000000e+00  1.000000e+00   1.000000e+00   \n",
       "min   -1.992230e+00 -9.395234e-01 -4.020960e-01 -7.479869e-01  -5.293388e+00   \n",
       "25%   -6.598374e-01 -9.395234e-01 -4.020960e-01 -7.479869e-01   2.664198e-01   \n",
       "50%    6.725556e-01 -9.395234e-01 -4.020960e-01 -3.330653e-01   2.818670e-01   \n",
       "75%    6.725556e-01  1.064369e+00 -4.020960e-01  4.967781e-01   2.854028e-01   \n",
       "max    6.725556e-01  1.064369e+00  2.486969e+00  5.143901e+00   2.854028e-01   \n",
       "\n",
       "         AirQuality       EarlyEd    ProspNeigh          HHWT      HHINCOME  \\\n",
       "count  1.180785e+06  1.180785e+06  1.180785e+06  1.180785e+06  1.180785e+06   \n",
       "mean   1.435436e-12 -3.516910e-12  5.989656e-13 -3.423819e-14  1.485636e-15   \n",
       "std    1.000000e+00  1.000000e+00  1.000000e+00  1.000000e+00  1.000000e+00   \n",
       "min   -2.975731e+00 -2.254314e+00 -3.918673e+00 -1.366441e+00 -1.158032e+00   \n",
       "25%   -8.538214e-01 -6.916685e-01 -5.017038e-01 -5.409315e-01 -6.055501e-01   \n",
       "50%    2.887450e-01  3.580473e-01  1.042612e-02 -3.157925e-01 -2.570564e-01   \n",
       "75%    7.784163e-01  4.654046e-01  6.896505e-01  2.845780e-01  2.569640e-01   \n",
       "max    1.268088e+00  2.731836e+00  1.548628e+00  1.859588e+01  1.977139e+01   \n",
       "\n",
       "               RACE           AGE        HISPAN  \n",
       "count  1.180785e+06  1.180785e+06  1.180785e+06  \n",
       "mean   5.424345e-13 -8.973570e-15  3.176876e-13  \n",
       "std    1.000000e+00  1.000000e+00  1.000000e+00  \n",
       "min   -6.858003e-01 -1.632340e+00 -4.841863e-01  \n",
       "25%   -6.858003e-01 -8.730066e-01 -4.841863e-01  \n",
       "50%   -6.858003e-01 -5.526249e-02 -4.841863e-01  \n",
       "75%    1.322497e+00  7.624816e-01  5.732051e-01  \n",
       "max    2.527475e+00  2.631611e+00  3.745379e+00  "
      ]
     },
     "execution_count": 28,
     "metadata": {},
     "output_type": "execute_result"
    }
   ],
   "source": [
    "dfX = pd.DataFrame(Xstd, columns=['HousingCat','EDUCbin','CIHISPEED','TRANTIME','DrinkingWater','AirQuality','EarlyEd','ProspNeigh','HHWT','HHINCOME','RACE','AGE','HISPAN'])\n",
    "dfX.describe()"
   ]
  },
  {
   "cell_type": "code",
   "execution_count": 29,
   "metadata": {},
   "outputs": [
    {
     "data": {
      "text/plain": [
       "(1180785, 13)"
      ]
     },
     "execution_count": 29,
     "metadata": {},
     "output_type": "execute_result"
    }
   ],
   "source": [
    "dfX.shape"
   ]
  },
  {
   "cell_type": "markdown",
   "metadata": {},
   "source": [
    "elbow method:"
   ]
  },
  {
   "cell_type": "code",
   "execution_count": 30,
   "metadata": {},
   "outputs": [],
   "source": [
    "# wcss = []\n",
    "# for i in range(1,10):\n",
    "#     kmeans = KMeans(n_clusters = i, init = 'k-means++', random_state = 42)\n",
    "#     kmeans.fit(dfX)\n",
    "#     wcss.append(kmeans.inertia_)"
   ]
  },
  {
   "cell_type": "code",
   "execution_count": 31,
   "metadata": {},
   "outputs": [],
   "source": [
    "# plt.figure(figsize=(10,5))\n",
    "# sns.lineplot(range(1,10), wcss,marker='o',color='red')\n",
    "# plt.title('The Elbow Method')\n",
    "# plt.xlabel('Number of clusters')\n",
    "# plt.ylabel('WCSS')\n",
    "# plt.show()"
   ]
  },
  {
   "cell_type": "markdown",
   "metadata": {},
   "source": [
    "silhouette score:"
   ]
  },
  {
   "cell_type": "code",
   "execution_count": 33,
   "metadata": {},
   "outputs": [],
   "source": [
    "# for i in range(2,11):\n",
    "#     km = KMeans(n_clusters = i, init = 'k-means++', random_state = 42)\n",
    "#     cluster_labels = km.fit_predict(dfX)\n",
    "#     silhouette_avg = silhouette_score(dfX, cluster_labels, metric='euclidean', random_state=None)\n",
    "#     print('For n_clusters = {} the average silhouette_score is: {}'.format(i, silhouette_avg))"
   ]
  },
  {
   "cell_type": "code",
   "execution_count": 34,
   "metadata": {},
   "outputs": [
    {
     "name": "stdout",
     "output_type": "stream",
     "text": [
      "[3 0 3 ... 1 1 1]\n"
     ]
    }
   ],
   "source": [
    "kmeans = KMeans(n_clusters = 5, init = 'k-means++', random_state = 42)\n",
    "kmeans.fit(dfX.iloc[:,0:8])\n",
    "print(kmeans.labels_)"
   ]
  },
  {
   "cell_type": "code",
   "execution_count": 35,
   "metadata": {},
   "outputs": [
    {
     "data": {
      "text/plain": [
       "array([[ 1.,  1., 10., ...,  1., 41.,  1.],\n",
       "       [ 1.,  0., 10., ...,  1., 32.,  1.],\n",
       "       [ 2.,  1., 10., ...,  1., 45.,  0.],\n",
       "       ...,\n",
       "       [ 2.,  1., 10., ...,  1., 25.,  0.],\n",
       "       [ 2.,  1., 10., ...,  8., 25.,  0.],\n",
       "       [ 2.,  1., 10., ...,  1., 30.,  0.]])"
      ]
     },
     "execution_count": 35,
     "metadata": {},
     "output_type": "execute_result"
    }
   ],
   "source": [
    "Xfin = scaler.inverse_transform(dfX)\n",
    "Xfin"
   ]
  },
  {
   "cell_type": "code",
   "execution_count": 36,
   "metadata": {},
   "outputs": [
    {
     "data": {
      "text/html": [
       "<div>\n",
       "<style scoped>\n",
       "    .dataframe tbody tr th:only-of-type {\n",
       "        vertical-align: middle;\n",
       "    }\n",
       "\n",
       "    .dataframe tbody tr th {\n",
       "        vertical-align: top;\n",
       "    }\n",
       "\n",
       "    .dataframe thead th {\n",
       "        text-align: right;\n",
       "    }\n",
       "</style>\n",
       "<table border=\"1\" class=\"dataframe\">\n",
       "  <thead>\n",
       "    <tr style=\"text-align: right;\">\n",
       "      <th></th>\n",
       "      <th>HousingCat</th>\n",
       "      <th>EDUCbin</th>\n",
       "      <th>CIHISPEED</th>\n",
       "      <th>TRANTIME</th>\n",
       "      <th>DrinkingWater</th>\n",
       "      <th>AirQuality</th>\n",
       "      <th>EarlyEd</th>\n",
       "      <th>ProspNeigh</th>\n",
       "      <th>HHWT</th>\n",
       "      <th>HHINCOME</th>\n",
       "      <th>RACE</th>\n",
       "      <th>AGE</th>\n",
       "      <th>HISPAN</th>\n",
       "    </tr>\n",
       "  </thead>\n",
       "  <tbody>\n",
       "    <tr>\n",
       "      <th>0</th>\n",
       "      <td>1.0</td>\n",
       "      <td>1.0</td>\n",
       "      <td>10.0</td>\n",
       "      <td>10.0</td>\n",
       "      <td>1.0</td>\n",
       "      <td>37.0</td>\n",
       "      <td>0.554</td>\n",
       "      <td>0.896835</td>\n",
       "      <td>20.0</td>\n",
       "      <td>56113.0</td>\n",
       "      <td>1.0</td>\n",
       "      <td>41.0</td>\n",
       "      <td>1.0</td>\n",
       "    </tr>\n",
       "    <tr>\n",
       "      <th>1</th>\n",
       "      <td>1.0</td>\n",
       "      <td>0.0</td>\n",
       "      <td>10.0</td>\n",
       "      <td>0.0</td>\n",
       "      <td>1.0</td>\n",
       "      <td>37.0</td>\n",
       "      <td>0.554</td>\n",
       "      <td>0.896835</td>\n",
       "      <td>20.0</td>\n",
       "      <td>56113.0</td>\n",
       "      <td>1.0</td>\n",
       "      <td>32.0</td>\n",
       "      <td>1.0</td>\n",
       "    </tr>\n",
       "    <tr>\n",
       "      <th>2</th>\n",
       "      <td>2.0</td>\n",
       "      <td>1.0</td>\n",
       "      <td>10.0</td>\n",
       "      <td>20.0</td>\n",
       "      <td>1.0</td>\n",
       "      <td>37.0</td>\n",
       "      <td>0.554</td>\n",
       "      <td>0.896835</td>\n",
       "      <td>27.0</td>\n",
       "      <td>147837.0</td>\n",
       "      <td>1.0</td>\n",
       "      <td>45.0</td>\n",
       "      <td>0.0</td>\n",
       "    </tr>\n",
       "    <tr>\n",
       "      <th>3</th>\n",
       "      <td>2.0</td>\n",
       "      <td>0.0</td>\n",
       "      <td>10.0</td>\n",
       "      <td>25.0</td>\n",
       "      <td>1.0</td>\n",
       "      <td>37.0</td>\n",
       "      <td>0.554</td>\n",
       "      <td>0.896835</td>\n",
       "      <td>27.0</td>\n",
       "      <td>147837.0</td>\n",
       "      <td>1.0</td>\n",
       "      <td>46.0</td>\n",
       "      <td>0.0</td>\n",
       "    </tr>\n",
       "    <tr>\n",
       "      <th>4</th>\n",
       "      <td>2.0</td>\n",
       "      <td>0.0</td>\n",
       "      <td>10.0</td>\n",
       "      <td>0.0</td>\n",
       "      <td>1.0</td>\n",
       "      <td>37.0</td>\n",
       "      <td>0.554</td>\n",
       "      <td>0.896835</td>\n",
       "      <td>13.0</td>\n",
       "      <td>1705.0</td>\n",
       "      <td>1.0</td>\n",
       "      <td>78.0</td>\n",
       "      <td>0.0</td>\n",
       "    </tr>\n",
       "  </tbody>\n",
       "</table>\n",
       "</div>"
      ],
      "text/plain": [
       "   HousingCat  EDUCbin  CIHISPEED  TRANTIME  DrinkingWater  AirQuality  \\\n",
       "0         1.0      1.0       10.0      10.0            1.0        37.0   \n",
       "1         1.0      0.0       10.0       0.0            1.0        37.0   \n",
       "2         2.0      1.0       10.0      20.0            1.0        37.0   \n",
       "3         2.0      0.0       10.0      25.0            1.0        37.0   \n",
       "4         2.0      0.0       10.0       0.0            1.0        37.0   \n",
       "\n",
       "   EarlyEd  ProspNeigh  HHWT  HHINCOME  RACE   AGE  HISPAN  \n",
       "0    0.554    0.896835  20.0   56113.0   1.0  41.0     1.0  \n",
       "1    0.554    0.896835  20.0   56113.0   1.0  32.0     1.0  \n",
       "2    0.554    0.896835  27.0  147837.0   1.0  45.0     0.0  \n",
       "3    0.554    0.896835  27.0  147837.0   1.0  46.0     0.0  \n",
       "4    0.554    0.896835  13.0    1705.0   1.0  78.0     0.0  "
      ]
     },
     "execution_count": 36,
     "metadata": {},
     "output_type": "execute_result"
    }
   ],
   "source": [
    "dfXfin = pd.DataFrame(Xfin, columns=['HousingCat','EDUCbin','CIHISPEED','TRANTIME','DrinkingWater','AirQuality','EarlyEd','ProspNeigh','HHWT','HHINCOME','RACE','AGE','HISPAN'])\n",
    "dfXfin.head()"
   ]
  },
  {
   "cell_type": "code",
   "execution_count": 37,
   "metadata": {},
   "outputs": [
    {
     "data": {
      "text/html": [
       "<div>\n",
       "<style scoped>\n",
       "    .dataframe tbody tr th:only-of-type {\n",
       "        vertical-align: middle;\n",
       "    }\n",
       "\n",
       "    .dataframe tbody tr th {\n",
       "        vertical-align: top;\n",
       "    }\n",
       "\n",
       "    .dataframe thead th {\n",
       "        text-align: right;\n",
       "    }\n",
       "</style>\n",
       "<table border=\"1\" class=\"dataframe\">\n",
       "  <thead>\n",
       "    <tr style=\"text-align: right;\">\n",
       "      <th></th>\n",
       "      <th>HousingCat</th>\n",
       "      <th>EDUCbin</th>\n",
       "      <th>CIHISPEED</th>\n",
       "      <th>TRANTIME</th>\n",
       "      <th>DrinkingWater</th>\n",
       "      <th>AirQuality</th>\n",
       "      <th>EarlyEd</th>\n",
       "      <th>ProspNeigh</th>\n",
       "      <th>HHWT</th>\n",
       "      <th>HHINCOME</th>\n",
       "      <th>RACE</th>\n",
       "      <th>AGE</th>\n",
       "      <th>HISPAN</th>\n",
       "    </tr>\n",
       "  </thead>\n",
       "  <tbody>\n",
       "    <tr>\n",
       "      <th>0</th>\n",
       "      <td>1.0</td>\n",
       "      <td>1.0</td>\n",
       "      <td>10.0</td>\n",
       "      <td>10.0</td>\n",
       "      <td>1.0</td>\n",
       "      <td>37.0</td>\n",
       "      <td>0.554</td>\n",
       "      <td>0.896835</td>\n",
       "      <td>20.0</td>\n",
       "      <td>56113.0</td>\n",
       "      <td>1.0</td>\n",
       "      <td>41.0</td>\n",
       "      <td>1.0</td>\n",
       "    </tr>\n",
       "    <tr>\n",
       "      <th>1</th>\n",
       "      <td>1.0</td>\n",
       "      <td>0.0</td>\n",
       "      <td>10.0</td>\n",
       "      <td>0.0</td>\n",
       "      <td>1.0</td>\n",
       "      <td>37.0</td>\n",
       "      <td>0.554</td>\n",
       "      <td>0.896835</td>\n",
       "      <td>20.0</td>\n",
       "      <td>56113.0</td>\n",
       "      <td>1.0</td>\n",
       "      <td>32.0</td>\n",
       "      <td>1.0</td>\n",
       "    </tr>\n",
       "    <tr>\n",
       "      <th>2</th>\n",
       "      <td>2.0</td>\n",
       "      <td>1.0</td>\n",
       "      <td>10.0</td>\n",
       "      <td>20.0</td>\n",
       "      <td>1.0</td>\n",
       "      <td>37.0</td>\n",
       "      <td>0.554</td>\n",
       "      <td>0.896835</td>\n",
       "      <td>27.0</td>\n",
       "      <td>147837.0</td>\n",
       "      <td>1.0</td>\n",
       "      <td>45.0</td>\n",
       "      <td>0.0</td>\n",
       "    </tr>\n",
       "    <tr>\n",
       "      <th>3</th>\n",
       "      <td>2.0</td>\n",
       "      <td>0.0</td>\n",
       "      <td>10.0</td>\n",
       "      <td>25.0</td>\n",
       "      <td>1.0</td>\n",
       "      <td>37.0</td>\n",
       "      <td>0.554</td>\n",
       "      <td>0.896835</td>\n",
       "      <td>27.0</td>\n",
       "      <td>147837.0</td>\n",
       "      <td>1.0</td>\n",
       "      <td>46.0</td>\n",
       "      <td>0.0</td>\n",
       "    </tr>\n",
       "    <tr>\n",
       "      <th>4</th>\n",
       "      <td>2.0</td>\n",
       "      <td>0.0</td>\n",
       "      <td>10.0</td>\n",
       "      <td>0.0</td>\n",
       "      <td>1.0</td>\n",
       "      <td>37.0</td>\n",
       "      <td>0.554</td>\n",
       "      <td>0.896835</td>\n",
       "      <td>13.0</td>\n",
       "      <td>1705.0</td>\n",
       "      <td>1.0</td>\n",
       "      <td>78.0</td>\n",
       "      <td>0.0</td>\n",
       "    </tr>\n",
       "  </tbody>\n",
       "</table>\n",
       "</div>"
      ],
      "text/plain": [
       "   HousingCat  EDUCbin  CIHISPEED  TRANTIME  DrinkingWater  AirQuality  \\\n",
       "0         1.0      1.0       10.0      10.0            1.0        37.0   \n",
       "1         1.0      0.0       10.0       0.0            1.0        37.0   \n",
       "2         2.0      1.0       10.0      20.0            1.0        37.0   \n",
       "3         2.0      0.0       10.0      25.0            1.0        37.0   \n",
       "4         2.0      0.0       10.0       0.0            1.0        37.0   \n",
       "\n",
       "   EarlyEd  ProspNeigh  HHWT  HHINCOME  RACE   AGE  HISPAN  \n",
       "0    0.554    0.896835  20.0   56113.0   1.0  41.0     1.0  \n",
       "1    0.554    0.896835  20.0   56113.0   1.0  32.0     1.0  \n",
       "2    0.554    0.896835  27.0  147837.0   1.0  45.0     0.0  \n",
       "3    0.554    0.896835  27.0  147837.0   1.0  46.0     0.0  \n",
       "4    0.554    0.896835  13.0    1705.0   1.0  78.0     0.0  "
      ]
     },
     "execution_count": 37,
     "metadata": {},
     "output_type": "execute_result"
    }
   ],
   "source": [
    "dfXfin.head()"
   ]
  },
  {
   "cell_type": "code",
   "execution_count": 38,
   "metadata": {},
   "outputs": [
    {
     "data": {
      "text/plain": [
       "array([[ 1.,  1., 10., ...,  1., 41.,  1.],\n",
       "       [ 1.,  0., 10., ...,  1., 32.,  1.],\n",
       "       [ 2.,  1., 10., ...,  1., 45.,  0.],\n",
       "       ...,\n",
       "       [ 2.,  1., 10., ...,  1., 25.,  0.],\n",
       "       [ 2.,  1., 10., ...,  8., 25.,  0.],\n",
       "       [ 2.,  1., 10., ...,  1., 30.,  0.]])"
      ]
     },
     "execution_count": 38,
     "metadata": {},
     "output_type": "execute_result"
    }
   ],
   "source": [
    "Xfin"
   ]
  },
  {
   "cell_type": "code",
   "execution_count": 39,
   "metadata": {},
   "outputs": [
    {
     "data": {
      "text/plain": [
       "array([3, 0, 3, ..., 1, 1, 1])"
      ]
     },
     "execution_count": 39,
     "metadata": {},
     "output_type": "execute_result"
    }
   ],
   "source": [
    "kmeans.labels_"
   ]
  },
  {
   "cell_type": "code",
   "execution_count": 40,
   "metadata": {},
   "outputs": [
    {
     "data": {
      "text/html": [
       "<div>\n",
       "<style scoped>\n",
       "    .dataframe tbody tr th:only-of-type {\n",
       "        vertical-align: middle;\n",
       "    }\n",
       "\n",
       "    .dataframe tbody tr th {\n",
       "        vertical-align: top;\n",
       "    }\n",
       "\n",
       "    .dataframe thead th {\n",
       "        text-align: right;\n",
       "    }\n",
       "</style>\n",
       "<table border=\"1\" class=\"dataframe\">\n",
       "  <thead>\n",
       "    <tr style=\"text-align: right;\">\n",
       "      <th></th>\n",
       "      <th>HousingCat</th>\n",
       "      <th>EDUCbin</th>\n",
       "      <th>CIHISPEED</th>\n",
       "      <th>TRANTIME</th>\n",
       "      <th>DrinkingWater</th>\n",
       "      <th>AirQuality</th>\n",
       "      <th>EarlyEd</th>\n",
       "      <th>ProspNeigh</th>\n",
       "      <th>HHWT</th>\n",
       "      <th>HHINCOME</th>\n",
       "      <th>RACE</th>\n",
       "      <th>AGE</th>\n",
       "      <th>HISPAN</th>\n",
       "    </tr>\n",
       "  </thead>\n",
       "  <tbody>\n",
       "    <tr>\n",
       "      <th>0</th>\n",
       "      <td>1.0</td>\n",
       "      <td>1.0</td>\n",
       "      <td>10.0</td>\n",
       "      <td>10.0</td>\n",
       "      <td>1.000000</td>\n",
       "      <td>37.0</td>\n",
       "      <td>0.554</td>\n",
       "      <td>0.896835</td>\n",
       "      <td>20.0</td>\n",
       "      <td>56113.0</td>\n",
       "      <td>1.0</td>\n",
       "      <td>41.0</td>\n",
       "      <td>1.0</td>\n",
       "    </tr>\n",
       "    <tr>\n",
       "      <th>1</th>\n",
       "      <td>1.0</td>\n",
       "      <td>0.0</td>\n",
       "      <td>10.0</td>\n",
       "      <td>0.0</td>\n",
       "      <td>1.000000</td>\n",
       "      <td>37.0</td>\n",
       "      <td>0.554</td>\n",
       "      <td>0.896835</td>\n",
       "      <td>20.0</td>\n",
       "      <td>56113.0</td>\n",
       "      <td>1.0</td>\n",
       "      <td>32.0</td>\n",
       "      <td>1.0</td>\n",
       "    </tr>\n",
       "    <tr>\n",
       "      <th>2</th>\n",
       "      <td>2.0</td>\n",
       "      <td>1.0</td>\n",
       "      <td>10.0</td>\n",
       "      <td>20.0</td>\n",
       "      <td>1.000000</td>\n",
       "      <td>37.0</td>\n",
       "      <td>0.554</td>\n",
       "      <td>0.896835</td>\n",
       "      <td>27.0</td>\n",
       "      <td>147837.0</td>\n",
       "      <td>1.0</td>\n",
       "      <td>45.0</td>\n",
       "      <td>0.0</td>\n",
       "    </tr>\n",
       "    <tr>\n",
       "      <th>3</th>\n",
       "      <td>2.0</td>\n",
       "      <td>0.0</td>\n",
       "      <td>10.0</td>\n",
       "      <td>25.0</td>\n",
       "      <td>1.000000</td>\n",
       "      <td>37.0</td>\n",
       "      <td>0.554</td>\n",
       "      <td>0.896835</td>\n",
       "      <td>27.0</td>\n",
       "      <td>147837.0</td>\n",
       "      <td>1.0</td>\n",
       "      <td>46.0</td>\n",
       "      <td>0.0</td>\n",
       "    </tr>\n",
       "    <tr>\n",
       "      <th>4</th>\n",
       "      <td>2.0</td>\n",
       "      <td>0.0</td>\n",
       "      <td>10.0</td>\n",
       "      <td>0.0</td>\n",
       "      <td>1.000000</td>\n",
       "      <td>37.0</td>\n",
       "      <td>0.554</td>\n",
       "      <td>0.896835</td>\n",
       "      <td>13.0</td>\n",
       "      <td>1705.0</td>\n",
       "      <td>1.0</td>\n",
       "      <td>78.0</td>\n",
       "      <td>0.0</td>\n",
       "    </tr>\n",
       "    <tr>\n",
       "      <th>...</th>\n",
       "      <td>...</td>\n",
       "      <td>...</td>\n",
       "      <td>...</td>\n",
       "      <td>...</td>\n",
       "      <td>...</td>\n",
       "      <td>...</td>\n",
       "      <td>...</td>\n",
       "      <td>...</td>\n",
       "      <td>...</td>\n",
       "      <td>...</td>\n",
       "      <td>...</td>\n",
       "      <td>...</td>\n",
       "      <td>...</td>\n",
       "    </tr>\n",
       "    <tr>\n",
       "      <th>1180780</th>\n",
       "      <td>2.0</td>\n",
       "      <td>0.0</td>\n",
       "      <td>20.0</td>\n",
       "      <td>0.0</td>\n",
       "      <td>0.888818</td>\n",
       "      <td>40.0</td>\n",
       "      <td>0.326</td>\n",
       "      <td>0.405037</td>\n",
       "      <td>10.0</td>\n",
       "      <td>256500.0</td>\n",
       "      <td>1.0</td>\n",
       "      <td>43.0</td>\n",
       "      <td>1.0</td>\n",
       "    </tr>\n",
       "    <tr>\n",
       "      <th>1180781</th>\n",
       "      <td>2.0</td>\n",
       "      <td>1.0</td>\n",
       "      <td>10.0</td>\n",
       "      <td>20.0</td>\n",
       "      <td>0.888818</td>\n",
       "      <td>40.0</td>\n",
       "      <td>0.326</td>\n",
       "      <td>0.405037</td>\n",
       "      <td>32.0</td>\n",
       "      <td>95400.0</td>\n",
       "      <td>1.0</td>\n",
       "      <td>26.0</td>\n",
       "      <td>0.0</td>\n",
       "    </tr>\n",
       "    <tr>\n",
       "      <th>1180782</th>\n",
       "      <td>2.0</td>\n",
       "      <td>1.0</td>\n",
       "      <td>10.0</td>\n",
       "      <td>25.0</td>\n",
       "      <td>0.888818</td>\n",
       "      <td>40.0</td>\n",
       "      <td>0.326</td>\n",
       "      <td>0.405037</td>\n",
       "      <td>32.0</td>\n",
       "      <td>95400.0</td>\n",
       "      <td>1.0</td>\n",
       "      <td>25.0</td>\n",
       "      <td>0.0</td>\n",
       "    </tr>\n",
       "    <tr>\n",
       "      <th>1180783</th>\n",
       "      <td>2.0</td>\n",
       "      <td>1.0</td>\n",
       "      <td>10.0</td>\n",
       "      <td>10.0</td>\n",
       "      <td>0.888818</td>\n",
       "      <td>40.0</td>\n",
       "      <td>0.326</td>\n",
       "      <td>0.405037</td>\n",
       "      <td>14.0</td>\n",
       "      <td>158000.0</td>\n",
       "      <td>8.0</td>\n",
       "      <td>25.0</td>\n",
       "      <td>0.0</td>\n",
       "    </tr>\n",
       "    <tr>\n",
       "      <th>1180784</th>\n",
       "      <td>2.0</td>\n",
       "      <td>1.0</td>\n",
       "      <td>10.0</td>\n",
       "      <td>10.0</td>\n",
       "      <td>0.888818</td>\n",
       "      <td>40.0</td>\n",
       "      <td>0.326</td>\n",
       "      <td>0.405037</td>\n",
       "      <td>14.0</td>\n",
       "      <td>158000.0</td>\n",
       "      <td>1.0</td>\n",
       "      <td>30.0</td>\n",
       "      <td>0.0</td>\n",
       "    </tr>\n",
       "  </tbody>\n",
       "</table>\n",
       "<p>1180785 rows × 13 columns</p>\n",
       "</div>"
      ],
      "text/plain": [
       "         HousingCat  EDUCbin  CIHISPEED  TRANTIME  DrinkingWater  AirQuality  \\\n",
       "0               1.0      1.0       10.0      10.0       1.000000        37.0   \n",
       "1               1.0      0.0       10.0       0.0       1.000000        37.0   \n",
       "2               2.0      1.0       10.0      20.0       1.000000        37.0   \n",
       "3               2.0      0.0       10.0      25.0       1.000000        37.0   \n",
       "4               2.0      0.0       10.0       0.0       1.000000        37.0   \n",
       "...             ...      ...        ...       ...            ...         ...   \n",
       "1180780         2.0      0.0       20.0       0.0       0.888818        40.0   \n",
       "1180781         2.0      1.0       10.0      20.0       0.888818        40.0   \n",
       "1180782         2.0      1.0       10.0      25.0       0.888818        40.0   \n",
       "1180783         2.0      1.0       10.0      10.0       0.888818        40.0   \n",
       "1180784         2.0      1.0       10.0      10.0       0.888818        40.0   \n",
       "\n",
       "         EarlyEd  ProspNeigh  HHWT  HHINCOME  RACE   AGE  HISPAN  \n",
       "0          0.554    0.896835  20.0   56113.0   1.0  41.0     1.0  \n",
       "1          0.554    0.896835  20.0   56113.0   1.0  32.0     1.0  \n",
       "2          0.554    0.896835  27.0  147837.0   1.0  45.0     0.0  \n",
       "3          0.554    0.896835  27.0  147837.0   1.0  46.0     0.0  \n",
       "4          0.554    0.896835  13.0    1705.0   1.0  78.0     0.0  \n",
       "...          ...         ...   ...       ...   ...   ...     ...  \n",
       "1180780    0.326    0.405037  10.0  256500.0   1.0  43.0     1.0  \n",
       "1180781    0.326    0.405037  32.0   95400.0   1.0  26.0     0.0  \n",
       "1180782    0.326    0.405037  32.0   95400.0   1.0  25.0     0.0  \n",
       "1180783    0.326    0.405037  14.0  158000.0   8.0  25.0     0.0  \n",
       "1180784    0.326    0.405037  14.0  158000.0   1.0  30.0     0.0  \n",
       "\n",
       "[1180785 rows x 13 columns]"
      ]
     },
     "execution_count": 40,
     "metadata": {},
     "output_type": "execute_result"
    }
   ],
   "source": [
    "dfXfin"
   ]
  },
  {
   "cell_type": "code",
   "execution_count": 41,
   "metadata": {},
   "outputs": [
    {
     "data": {
      "text/html": [
       "<div>\n",
       "<style scoped>\n",
       "    .dataframe tbody tr th:only-of-type {\n",
       "        vertical-align: middle;\n",
       "    }\n",
       "\n",
       "    .dataframe tbody tr th {\n",
       "        vertical-align: top;\n",
       "    }\n",
       "\n",
       "    .dataframe thead th {\n",
       "        text-align: right;\n",
       "    }\n",
       "</style>\n",
       "<table border=\"1\" class=\"dataframe\">\n",
       "  <thead>\n",
       "    <tr style=\"text-align: right;\">\n",
       "      <th></th>\n",
       "      <th>HousingCat</th>\n",
       "      <th>EDUCbin</th>\n",
       "      <th>CIHISPEED</th>\n",
       "      <th>TRANTIME</th>\n",
       "      <th>DrinkingWater</th>\n",
       "      <th>AirQuality</th>\n",
       "      <th>EarlyEd</th>\n",
       "      <th>ProspNeigh</th>\n",
       "      <th>HHWT</th>\n",
       "      <th>HHINCOME</th>\n",
       "      <th>RACE</th>\n",
       "      <th>AGE</th>\n",
       "      <th>HISPAN</th>\n",
       "    </tr>\n",
       "    <tr>\n",
       "      <th>labels</th>\n",
       "      <th></th>\n",
       "      <th></th>\n",
       "      <th></th>\n",
       "      <th></th>\n",
       "      <th></th>\n",
       "      <th></th>\n",
       "      <th></th>\n",
       "      <th></th>\n",
       "      <th></th>\n",
       "      <th></th>\n",
       "      <th></th>\n",
       "      <th></th>\n",
       "      <th></th>\n",
       "    </tr>\n",
       "  </thead>\n",
       "  <tbody>\n",
       "    <tr>\n",
       "      <th>0</th>\n",
       "      <td>1.422376</td>\n",
       "      <td>0.000000</td>\n",
       "      <td>10.000000</td>\n",
       "      <td>16.362021</td>\n",
       "      <td>0.998359</td>\n",
       "      <td>37.916319</td>\n",
       "      <td>0.495234</td>\n",
       "      <td>0.790483</td>\n",
       "      <td>19.556804</td>\n",
       "      <td>98645.337374</td>\n",
       "      <td>2.796588</td>\n",
       "      <td>48.723556</td>\n",
       "      <td>0.655222</td>\n",
       "    </tr>\n",
       "    <tr>\n",
       "      <th>1</th>\n",
       "      <td>1.537159</td>\n",
       "      <td>0.307743</td>\n",
       "      <td>12.447006</td>\n",
       "      <td>14.108426</td>\n",
       "      <td>0.914040</td>\n",
       "      <td>36.808718</td>\n",
       "      <td>0.380446</td>\n",
       "      <td>0.628615</td>\n",
       "      <td>21.138131</td>\n",
       "      <td>96182.485769</td>\n",
       "      <td>2.272770</td>\n",
       "      <td>48.491933</td>\n",
       "      <td>0.499513</td>\n",
       "    </tr>\n",
       "    <tr>\n",
       "      <th>2</th>\n",
       "      <td>1.568412</td>\n",
       "      <td>0.654738</td>\n",
       "      <td>10.138298</td>\n",
       "      <td>20.177830</td>\n",
       "      <td>0.999951</td>\n",
       "      <td>27.013553</td>\n",
       "      <td>0.588497</td>\n",
       "      <td>0.935869</td>\n",
       "      <td>19.178924</td>\n",
       "      <td>178824.144106</td>\n",
       "      <td>2.816220</td>\n",
       "      <td>49.238454</td>\n",
       "      <td>0.264237</td>\n",
       "    </tr>\n",
       "    <tr>\n",
       "      <th>3</th>\n",
       "      <td>1.588748</td>\n",
       "      <td>1.000000</td>\n",
       "      <td>10.000000</td>\n",
       "      <td>19.656906</td>\n",
       "      <td>0.998869</td>\n",
       "      <td>37.966914</td>\n",
       "      <td>0.508506</td>\n",
       "      <td>0.795337</td>\n",
       "      <td>18.296798</td>\n",
       "      <td>153470.600349</td>\n",
       "      <td>2.522148</td>\n",
       "      <td>48.416731</td>\n",
       "      <td>0.287399</td>\n",
       "    </tr>\n",
       "    <tr>\n",
       "      <th>4</th>\n",
       "      <td>1.338217</td>\n",
       "      <td>0.313674</td>\n",
       "      <td>20.000000</td>\n",
       "      <td>16.829503</td>\n",
       "      <td>0.998404</td>\n",
       "      <td>36.015051</td>\n",
       "      <td>0.509720</td>\n",
       "      <td>0.807054</td>\n",
       "      <td>19.464347</td>\n",
       "      <td>94501.742843</td>\n",
       "      <td>2.866548</td>\n",
       "      <td>50.383066</td>\n",
       "      <td>0.625716</td>\n",
       "    </tr>\n",
       "  </tbody>\n",
       "</table>\n",
       "</div>"
      ],
      "text/plain": [
       "        HousingCat   EDUCbin  CIHISPEED   TRANTIME  DrinkingWater  AirQuality  \\\n",
       "labels                                                                          \n",
       "0         1.422376  0.000000  10.000000  16.362021       0.998359   37.916319   \n",
       "1         1.537159  0.307743  12.447006  14.108426       0.914040   36.808718   \n",
       "2         1.568412  0.654738  10.138298  20.177830       0.999951   27.013553   \n",
       "3         1.588748  1.000000  10.000000  19.656906       0.998869   37.966914   \n",
       "4         1.338217  0.313674  20.000000  16.829503       0.998404   36.015051   \n",
       "\n",
       "         EarlyEd  ProspNeigh       HHWT       HHINCOME      RACE        AGE  \\\n",
       "labels                                                                        \n",
       "0       0.495234    0.790483  19.556804   98645.337374  2.796588  48.723556   \n",
       "1       0.380446    0.628615  21.138131   96182.485769  2.272770  48.491933   \n",
       "2       0.588497    0.935869  19.178924  178824.144106  2.816220  49.238454   \n",
       "3       0.508506    0.795337  18.296798  153470.600349  2.522148  48.416731   \n",
       "4       0.509720    0.807054  19.464347   94501.742843  2.866548  50.383066   \n",
       "\n",
       "          HISPAN  \n",
       "labels            \n",
       "0       0.655222  \n",
       "1       0.499513  \n",
       "2       0.264237  \n",
       "3       0.287399  \n",
       "4       0.625716  "
      ]
     },
     "execution_count": 41,
     "metadata": {},
     "output_type": "execute_result"
    }
   ],
   "source": [
    "dfXfin['labels'] = kmeans.labels_\n",
    "cluster_sum = dfXfin.groupby(by = 'labels').mean()\n",
    "cluster_sum.head(7)"
   ]
  },
  {
   "cell_type": "code",
   "execution_count": 42,
   "metadata": {},
   "outputs": [],
   "source": [
    "clust0 = dfXfin[dfXfin['labels']==0]\n",
    "clust1 = dfXfin[dfXfin['labels']==1]\n",
    "clust2 = dfXfin[dfXfin['labels']==2]\n",
    "clust3 = dfXfin[dfXfin['labels']==3]\n",
    "clust4 = dfXfin[dfXfin['labels']==4]\n",
    "# clust5 = dfXfin[dfXfin['labels']==5]\n",
    "# clust6 = dfXfin[dfXfin['labels']==6]"
   ]
  },
  {
   "cell_type": "markdown",
   "metadata": {},
   "source": [
    "## Cluster 0"
   ]
  },
  {
   "cell_type": "code",
   "execution_count": 43,
   "metadata": {},
   "outputs": [
    {
     "data": {
      "text/html": [
       "<div>\n",
       "<style scoped>\n",
       "    .dataframe tbody tr th:only-of-type {\n",
       "        vertical-align: middle;\n",
       "    }\n",
       "\n",
       "    .dataframe tbody tr th {\n",
       "        vertical-align: top;\n",
       "    }\n",
       "\n",
       "    .dataframe thead th {\n",
       "        text-align: right;\n",
       "    }\n",
       "</style>\n",
       "<table border=\"1\" class=\"dataframe\">\n",
       "  <thead>\n",
       "    <tr style=\"text-align: right;\">\n",
       "      <th></th>\n",
       "      <th>HousingCat</th>\n",
       "      <th>EDUCbin</th>\n",
       "      <th>CIHISPEED</th>\n",
       "      <th>TRANTIME</th>\n",
       "      <th>DrinkingWater</th>\n",
       "      <th>AirQuality</th>\n",
       "      <th>EarlyEd</th>\n",
       "      <th>ProspNeigh</th>\n",
       "      <th>HHWT</th>\n",
       "      <th>HHINCOME</th>\n",
       "      <th>RACE</th>\n",
       "      <th>AGE</th>\n",
       "      <th>HISPAN</th>\n",
       "      <th>labels</th>\n",
       "    </tr>\n",
       "  </thead>\n",
       "  <tbody>\n",
       "    <tr>\n",
       "      <th>count</th>\n",
       "      <td>393566.000000</td>\n",
       "      <td>393566.0</td>\n",
       "      <td>393566.0</td>\n",
       "      <td>393566.000000</td>\n",
       "      <td>393566.000000</td>\n",
       "      <td>393566.000000</td>\n",
       "      <td>393566.000000</td>\n",
       "      <td>393566.000000</td>\n",
       "      <td>393566.000000</td>\n",
       "      <td>3.935660e+05</td>\n",
       "      <td>393566.000000</td>\n",
       "      <td>393566.000000</td>\n",
       "      <td>393566.000000</td>\n",
       "      <td>393566.0</td>\n",
       "    </tr>\n",
       "    <tr>\n",
       "      <th>mean</th>\n",
       "      <td>1.422376</td>\n",
       "      <td>0.0</td>\n",
       "      <td>10.0</td>\n",
       "      <td>16.362021</td>\n",
       "      <td>0.998359</td>\n",
       "      <td>37.916319</td>\n",
       "      <td>0.495234</td>\n",
       "      <td>0.790483</td>\n",
       "      <td>19.556804</td>\n",
       "      <td>9.864534e+04</td>\n",
       "      <td>2.796588</td>\n",
       "      <td>48.723556</td>\n",
       "      <td>0.655222</td>\n",
       "      <td>0.0</td>\n",
       "    </tr>\n",
       "    <tr>\n",
       "      <th>std</th>\n",
       "      <td>0.796844</td>\n",
       "      <td>0.0</td>\n",
       "      <td>0.0</td>\n",
       "      <td>23.347553</td>\n",
       "      <td>0.005958</td>\n",
       "      <td>4.345386</td>\n",
       "      <td>0.067622</td>\n",
       "      <td>0.085714</td>\n",
       "      <td>13.655907</td>\n",
       "      <td>8.741458e+04</td>\n",
       "      <td>2.607768</td>\n",
       "      <td>17.599660</td>\n",
       "      <td>1.041959</td>\n",
       "      <td>0.0</td>\n",
       "    </tr>\n",
       "    <tr>\n",
       "      <th>min</th>\n",
       "      <td>0.000000</td>\n",
       "      <td>0.0</td>\n",
       "      <td>10.0</td>\n",
       "      <td>0.000000</td>\n",
       "      <td>0.964234</td>\n",
       "      <td>26.000000</td>\n",
       "      <td>0.351000</td>\n",
       "      <td>0.506095</td>\n",
       "      <td>1.000000</td>\n",
       "      <td>-1.235800e+04</td>\n",
       "      <td>1.000000</td>\n",
       "      <td>21.000000</td>\n",
       "      <td>0.000000</td>\n",
       "      <td>0.0</td>\n",
       "    </tr>\n",
       "    <tr>\n",
       "      <th>25%</th>\n",
       "      <td>1.000000</td>\n",
       "      <td>0.0</td>\n",
       "      <td>10.0</td>\n",
       "      <td>0.000000</td>\n",
       "      <td>0.999622</td>\n",
       "      <td>36.000000</td>\n",
       "      <td>0.453000</td>\n",
       "      <td>0.759245</td>\n",
       "      <td>11.000000</td>\n",
       "      <td>4.551000e+04</td>\n",
       "      <td>1.000000</td>\n",
       "      <td>34.000000</td>\n",
       "      <td>0.000000</td>\n",
       "      <td>0.0</td>\n",
       "    </tr>\n",
       "    <tr>\n",
       "      <th>50%</th>\n",
       "      <td>2.000000</td>\n",
       "      <td>0.0</td>\n",
       "      <td>10.0</td>\n",
       "      <td>10.000000</td>\n",
       "      <td>0.999622</td>\n",
       "      <td>40.000000</td>\n",
       "      <td>0.545000</td>\n",
       "      <td>0.759245</td>\n",
       "      <td>15.000000</td>\n",
       "      <td>7.900000e+04</td>\n",
       "      <td>1.000000</td>\n",
       "      <td>49.000000</td>\n",
       "      <td>0.000000</td>\n",
       "      <td>0.0</td>\n",
       "    </tr>\n",
       "    <tr>\n",
       "      <th>75%</th>\n",
       "      <td>2.000000</td>\n",
       "      <td>0.0</td>\n",
       "      <td>10.0</td>\n",
       "      <td>25.000000</td>\n",
       "      <td>0.999998</td>\n",
       "      <td>40.000000</td>\n",
       "      <td>0.545000</td>\n",
       "      <td>0.872352</td>\n",
       "      <td>24.000000</td>\n",
       "      <td>1.257130e+05</td>\n",
       "      <td>6.000000</td>\n",
       "      <td>62.000000</td>\n",
       "      <td>1.000000</td>\n",
       "      <td>0.0</td>\n",
       "    </tr>\n",
       "    <tr>\n",
       "      <th>max</th>\n",
       "      <td>2.000000</td>\n",
       "      <td>0.0</td>\n",
       "      <td>10.0</td>\n",
       "      <td>142.000000</td>\n",
       "      <td>1.000000</td>\n",
       "      <td>43.000000</td>\n",
       "      <td>0.558000</td>\n",
       "      <td>0.975044</td>\n",
       "      <td>249.000000</td>\n",
       "      <td>2.300946e+06</td>\n",
       "      <td>9.000000</td>\n",
       "      <td>94.000000</td>\n",
       "      <td>4.000000</td>\n",
       "      <td>0.0</td>\n",
       "    </tr>\n",
       "  </tbody>\n",
       "</table>\n",
       "</div>"
      ],
      "text/plain": [
       "          HousingCat   EDUCbin  CIHISPEED       TRANTIME  DrinkingWater  \\\n",
       "count  393566.000000  393566.0   393566.0  393566.000000  393566.000000   \n",
       "mean        1.422376       0.0       10.0      16.362021       0.998359   \n",
       "std         0.796844       0.0        0.0      23.347553       0.005958   \n",
       "min         0.000000       0.0       10.0       0.000000       0.964234   \n",
       "25%         1.000000       0.0       10.0       0.000000       0.999622   \n",
       "50%         2.000000       0.0       10.0      10.000000       0.999622   \n",
       "75%         2.000000       0.0       10.0      25.000000       0.999998   \n",
       "max         2.000000       0.0       10.0     142.000000       1.000000   \n",
       "\n",
       "          AirQuality        EarlyEd     ProspNeigh           HHWT  \\\n",
       "count  393566.000000  393566.000000  393566.000000  393566.000000   \n",
       "mean       37.916319       0.495234       0.790483      19.556804   \n",
       "std         4.345386       0.067622       0.085714      13.655907   \n",
       "min        26.000000       0.351000       0.506095       1.000000   \n",
       "25%        36.000000       0.453000       0.759245      11.000000   \n",
       "50%        40.000000       0.545000       0.759245      15.000000   \n",
       "75%        40.000000       0.545000       0.872352      24.000000   \n",
       "max        43.000000       0.558000       0.975044     249.000000   \n",
       "\n",
       "           HHINCOME           RACE            AGE         HISPAN    labels  \n",
       "count  3.935660e+05  393566.000000  393566.000000  393566.000000  393566.0  \n",
       "mean   9.864534e+04       2.796588      48.723556       0.655222       0.0  \n",
       "std    8.741458e+04       2.607768      17.599660       1.041959       0.0  \n",
       "min   -1.235800e+04       1.000000      21.000000       0.000000       0.0  \n",
       "25%    4.551000e+04       1.000000      34.000000       0.000000       0.0  \n",
       "50%    7.900000e+04       1.000000      49.000000       0.000000       0.0  \n",
       "75%    1.257130e+05       6.000000      62.000000       1.000000       0.0  \n",
       "max    2.300946e+06       9.000000      94.000000       4.000000       0.0  "
      ]
     },
     "execution_count": 43,
     "metadata": {},
     "output_type": "execute_result"
    }
   ],
   "source": [
    "clust0.describe()"
   ]
  },
  {
   "cell_type": "code",
   "execution_count": 44,
   "metadata": {
    "scrolled": true
   },
   "outputs": [
    {
     "data": {
      "text/html": [
       "<div>\n",
       "<style scoped>\n",
       "    .dataframe tbody tr th:only-of-type {\n",
       "        vertical-align: middle;\n",
       "    }\n",
       "\n",
       "    .dataframe tbody tr th {\n",
       "        vertical-align: top;\n",
       "    }\n",
       "\n",
       "    .dataframe thead th {\n",
       "        text-align: right;\n",
       "    }\n",
       "</style>\n",
       "<table border=\"1\" class=\"dataframe\">\n",
       "  <thead>\n",
       "    <tr style=\"text-align: right;\">\n",
       "      <th></th>\n",
       "      <th>HousingCat</th>\n",
       "      <th>EDUCbin</th>\n",
       "      <th>CIHISPEED</th>\n",
       "      <th>TRANTIME</th>\n",
       "      <th>DrinkingWater</th>\n",
       "      <th>AirQuality</th>\n",
       "      <th>EarlyEd</th>\n",
       "      <th>ProspNeigh</th>\n",
       "      <th>HHWT</th>\n",
       "      <th>HHINCOME</th>\n",
       "      <th>RACE</th>\n",
       "      <th>AGE</th>\n",
       "      <th>HISPAN</th>\n",
       "      <th>labels</th>\n",
       "    </tr>\n",
       "  </thead>\n",
       "  <tbody>\n",
       "    <tr>\n",
       "      <th>1</th>\n",
       "      <td>1.0</td>\n",
       "      <td>0.0</td>\n",
       "      <td>10.0</td>\n",
       "      <td>0.0</td>\n",
       "      <td>1.0</td>\n",
       "      <td>37.0</td>\n",
       "      <td>0.554</td>\n",
       "      <td>0.896835</td>\n",
       "      <td>20.0</td>\n",
       "      <td>56113.0</td>\n",
       "      <td>1.0</td>\n",
       "      <td>32.0</td>\n",
       "      <td>1.0</td>\n",
       "      <td>0</td>\n",
       "    </tr>\n",
       "    <tr>\n",
       "      <th>3</th>\n",
       "      <td>2.0</td>\n",
       "      <td>0.0</td>\n",
       "      <td>10.0</td>\n",
       "      <td>25.0</td>\n",
       "      <td>1.0</td>\n",
       "      <td>37.0</td>\n",
       "      <td>0.554</td>\n",
       "      <td>0.896835</td>\n",
       "      <td>27.0</td>\n",
       "      <td>147837.0</td>\n",
       "      <td>1.0</td>\n",
       "      <td>46.0</td>\n",
       "      <td>0.0</td>\n",
       "      <td>0</td>\n",
       "    </tr>\n",
       "    <tr>\n",
       "      <th>4</th>\n",
       "      <td>2.0</td>\n",
       "      <td>0.0</td>\n",
       "      <td>10.0</td>\n",
       "      <td>0.0</td>\n",
       "      <td>1.0</td>\n",
       "      <td>37.0</td>\n",
       "      <td>0.554</td>\n",
       "      <td>0.896835</td>\n",
       "      <td>13.0</td>\n",
       "      <td>1705.0</td>\n",
       "      <td>1.0</td>\n",
       "      <td>78.0</td>\n",
       "      <td>0.0</td>\n",
       "      <td>0</td>\n",
       "    </tr>\n",
       "    <tr>\n",
       "      <th>5</th>\n",
       "      <td>2.0</td>\n",
       "      <td>0.0</td>\n",
       "      <td>10.0</td>\n",
       "      <td>0.0</td>\n",
       "      <td>1.0</td>\n",
       "      <td>37.0</td>\n",
       "      <td>0.554</td>\n",
       "      <td>0.896835</td>\n",
       "      <td>10.0</td>\n",
       "      <td>22230.0</td>\n",
       "      <td>1.0</td>\n",
       "      <td>63.0</td>\n",
       "      <td>1.0</td>\n",
       "      <td>0</td>\n",
       "    </tr>\n",
       "    <tr>\n",
       "      <th>6</th>\n",
       "      <td>2.0</td>\n",
       "      <td>0.0</td>\n",
       "      <td>10.0</td>\n",
       "      <td>0.0</td>\n",
       "      <td>1.0</td>\n",
       "      <td>37.0</td>\n",
       "      <td>0.554</td>\n",
       "      <td>0.896835</td>\n",
       "      <td>10.0</td>\n",
       "      <td>22230.0</td>\n",
       "      <td>1.0</td>\n",
       "      <td>79.0</td>\n",
       "      <td>0.0</td>\n",
       "      <td>0</td>\n",
       "    </tr>\n",
       "  </tbody>\n",
       "</table>\n",
       "</div>"
      ],
      "text/plain": [
       "   HousingCat  EDUCbin  CIHISPEED  TRANTIME  DrinkingWater  AirQuality  \\\n",
       "1         1.0      0.0       10.0       0.0            1.0        37.0   \n",
       "3         2.0      0.0       10.0      25.0            1.0        37.0   \n",
       "4         2.0      0.0       10.0       0.0            1.0        37.0   \n",
       "5         2.0      0.0       10.0       0.0            1.0        37.0   \n",
       "6         2.0      0.0       10.0       0.0            1.0        37.0   \n",
       "\n",
       "   EarlyEd  ProspNeigh  HHWT  HHINCOME  RACE   AGE  HISPAN  labels  \n",
       "1    0.554    0.896835  20.0   56113.0   1.0  32.0     1.0       0  \n",
       "3    0.554    0.896835  27.0  147837.0   1.0  46.0     0.0       0  \n",
       "4    0.554    0.896835  13.0    1705.0   1.0  78.0     0.0       0  \n",
       "5    0.554    0.896835  10.0   22230.0   1.0  63.0     1.0       0  \n",
       "6    0.554    0.896835  10.0   22230.0   1.0  79.0     0.0       0  "
      ]
     },
     "execution_count": 44,
     "metadata": {},
     "output_type": "execute_result"
    }
   ],
   "source": [
    "clust0.head()"
   ]
  },
  {
   "cell_type": "code",
   "execution_count": 45,
   "metadata": {
    "scrolled": true
   },
   "outputs": [
    {
     "data": {
      "text/plain": [
       "(array([2.22141e+05, 7.62010e+04, 4.92940e+04, 1.87810e+04, 1.55690e+04,\n",
       "        2.28300e+03, 4.68000e+03, 6.32000e+02, 5.00000e+01, 3.93500e+03]),\n",
       " array([  0. ,  14.2,  28.4,  42.6,  56.8,  71. ,  85.2,  99.4, 113.6,\n",
       "        127.8, 142. ]),\n",
       " <a list of 10 Patch objects>)"
      ]
     },
     "execution_count": 45,
     "metadata": {},
     "output_type": "execute_result"
    },
    {
     "data": {
      "image/png": "[encoded data removed]",
      "text/plain": [
       "<Figure size 432x288 with 1 Axes>"
      ]
     },
     "metadata": {
      "needs_background": "light"
     },
     "output_type": "display_data"
    }
   ],
   "source": [
    "matplotlib.pyplot.hist(clust0['TRANTIME'])"
   ]
  },
  {
   "cell_type": "code",
   "execution_count": 46,
   "metadata": {},
   "outputs": [
    {
     "data": {
      "text/plain": [
       "(array([  8735.,  33881.,      0.,  10940.,   4973.,  45621.,  69719.,\n",
       "             0., 150561.,  69136.]),\n",
       " array([26. , 27.7, 29.4, 31.1, 32.8, 34.5, 36.2, 37.9, 39.6, 41.3, 43. ]),\n",
       " <a list of 10 Patch objects>)"
      ]
     },
     "execution_count": 46,
     "metadata": {},
     "output_type": "execute_result"
    },
    {
     "data": {
      "image/png": "[encoded data removed]",
      "text/plain": [
       "<Figure size 432x288 with 1 Axes>"
      ]
     },
     "metadata": {
      "needs_background": "light"
     },
     "output_type": "display_data"
    }
   ],
   "source": [
    "matplotlib.pyplot.hist(clust0['AirQuality'])"
   ]
  },
  {
   "cell_type": "code",
   "execution_count": 47,
   "metadata": {},
   "outputs": [
    {
     "data": {
      "text/plain": [
       "2.0    243172\n",
       "0.0     76939\n",
       "1.0     73455\n",
       "Name: HousingCat, dtype: int64"
      ]
     },
     "execution_count": 47,
     "metadata": {},
     "output_type": "execute_result"
    }
   ],
   "source": [
    "clust0['HousingCat'].value_counts()"
   ]
  },
  {
   "cell_type": "markdown",
   "metadata": {},
   "source": [
    "## Cluster 1"
   ]
  },
  {
   "cell_type": "code",
   "execution_count": 48,
   "metadata": {},
   "outputs": [
    {
     "data": {
      "text/html": [
       "<div>\n",
       "<style scoped>\n",
       "    .dataframe tbody tr th:only-of-type {\n",
       "        vertical-align: middle;\n",
       "    }\n",
       "\n",
       "    .dataframe tbody tr th {\n",
       "        vertical-align: top;\n",
       "    }\n",
       "\n",
       "    .dataframe thead th {\n",
       "        text-align: right;\n",
       "    }\n",
       "</style>\n",
       "<table border=\"1\" class=\"dataframe\">\n",
       "  <thead>\n",
       "    <tr style=\"text-align: right;\">\n",
       "      <th></th>\n",
       "      <th>HousingCat</th>\n",
       "      <th>EDUCbin</th>\n",
       "      <th>CIHISPEED</th>\n",
       "      <th>TRANTIME</th>\n",
       "      <th>DrinkingWater</th>\n",
       "      <th>AirQuality</th>\n",
       "      <th>EarlyEd</th>\n",
       "      <th>ProspNeigh</th>\n",
       "      <th>HHWT</th>\n",
       "      <th>HHINCOME</th>\n",
       "      <th>RACE</th>\n",
       "      <th>AGE</th>\n",
       "      <th>HISPAN</th>\n",
       "      <th>labels</th>\n",
       "    </tr>\n",
       "  </thead>\n",
       "  <tbody>\n",
       "    <tr>\n",
       "      <th>count</th>\n",
       "      <td>63592.000000</td>\n",
       "      <td>63592.000000</td>\n",
       "      <td>63592.000000</td>\n",
       "      <td>63592.000000</td>\n",
       "      <td>63592.000000</td>\n",
       "      <td>63592.000000</td>\n",
       "      <td>63592.000000</td>\n",
       "      <td>63592.000000</td>\n",
       "      <td>63592.000000</td>\n",
       "      <td>6.359200e+04</td>\n",
       "      <td>63592.000000</td>\n",
       "      <td>63592.000000</td>\n",
       "      <td>63592.000000</td>\n",
       "      <td>63592.0</td>\n",
       "    </tr>\n",
       "    <tr>\n",
       "      <th>mean</th>\n",
       "      <td>1.537159</td>\n",
       "      <td>0.307743</td>\n",
       "      <td>12.447006</td>\n",
       "      <td>14.108426</td>\n",
       "      <td>0.914040</td>\n",
       "      <td>36.808718</td>\n",
       "      <td>0.380446</td>\n",
       "      <td>0.628615</td>\n",
       "      <td>21.138131</td>\n",
       "      <td>9.618249e+04</td>\n",
       "      <td>2.272770</td>\n",
       "      <td>48.491933</td>\n",
       "      <td>0.499513</td>\n",
       "      <td>1.0</td>\n",
       "    </tr>\n",
       "    <tr>\n",
       "      <th>std</th>\n",
       "      <td>0.720487</td>\n",
       "      <td>0.461563</td>\n",
       "      <td>4.299129</td>\n",
       "      <td>23.024460</td>\n",
       "      <td>0.011947</td>\n",
       "      <td>4.645156</td>\n",
       "      <td>0.056385</td>\n",
       "      <td>0.189324</td>\n",
       "      <td>17.076690</td>\n",
       "      <td>9.314349e+04</td>\n",
       "      <td>2.388428</td>\n",
       "      <td>17.005112</td>\n",
       "      <td>0.775949</td>\n",
       "      <td>0.0</td>\n",
       "    </tr>\n",
       "    <tr>\n",
       "      <th>min</th>\n",
       "      <td>0.000000</td>\n",
       "      <td>0.000000</td>\n",
       "      <td>10.000000</td>\n",
       "      <td>0.000000</td>\n",
       "      <td>0.888818</td>\n",
       "      <td>25.000000</td>\n",
       "      <td>0.326000</td>\n",
       "      <td>0.364619</td>\n",
       "      <td>1.000000</td>\n",
       "      <td>-1.165400e+04</td>\n",
       "      <td>1.000000</td>\n",
       "      <td>21.000000</td>\n",
       "      <td>0.000000</td>\n",
       "      <td>1.0</td>\n",
       "    </tr>\n",
       "    <tr>\n",
       "      <th>25%</th>\n",
       "      <td>1.000000</td>\n",
       "      <td>0.000000</td>\n",
       "      <td>10.000000</td>\n",
       "      <td>0.000000</td>\n",
       "      <td>0.916417</td>\n",
       "      <td>35.000000</td>\n",
       "      <td>0.336000</td>\n",
       "      <td>0.548841</td>\n",
       "      <td>11.000000</td>\n",
       "      <td>4.171700e+04</td>\n",
       "      <td>1.000000</td>\n",
       "      <td>34.000000</td>\n",
       "      <td>0.000000</td>\n",
       "      <td>1.0</td>\n",
       "    </tr>\n",
       "    <tr>\n",
       "      <th>50%</th>\n",
       "      <td>2.000000</td>\n",
       "      <td>0.000000</td>\n",
       "      <td>10.000000</td>\n",
       "      <td>5.000000</td>\n",
       "      <td>0.916609</td>\n",
       "      <td>38.000000</td>\n",
       "      <td>0.336000</td>\n",
       "      <td>0.548841</td>\n",
       "      <td>16.000000</td>\n",
       "      <td>7.371200e+04</td>\n",
       "      <td>1.000000</td>\n",
       "      <td>48.000000</td>\n",
       "      <td>0.000000</td>\n",
       "      <td>1.0</td>\n",
       "    </tr>\n",
       "    <tr>\n",
       "      <th>75%</th>\n",
       "      <td>2.000000</td>\n",
       "      <td>1.000000</td>\n",
       "      <td>10.000000</td>\n",
       "      <td>20.000000</td>\n",
       "      <td>0.919018</td>\n",
       "      <td>41.000000</td>\n",
       "      <td>0.421000</td>\n",
       "      <td>0.823759</td>\n",
       "      <td>26.000000</td>\n",
       "      <td>1.207570e+05</td>\n",
       "      <td>1.000000</td>\n",
       "      <td>61.000000</td>\n",
       "      <td>1.000000</td>\n",
       "      <td>1.0</td>\n",
       "    </tr>\n",
       "    <tr>\n",
       "      <th>max</th>\n",
       "      <td>2.000000</td>\n",
       "      <td>1.000000</td>\n",
       "      <td>20.000000</td>\n",
       "      <td>142.000000</td>\n",
       "      <td>0.924825</td>\n",
       "      <td>41.000000</td>\n",
       "      <td>0.506000</td>\n",
       "      <td>0.994578</td>\n",
       "      <td>225.000000</td>\n",
       "      <td>1.347803e+06</td>\n",
       "      <td>9.000000</td>\n",
       "      <td>94.000000</td>\n",
       "      <td>4.000000</td>\n",
       "      <td>1.0</td>\n",
       "    </tr>\n",
       "  </tbody>\n",
       "</table>\n",
       "</div>"
      ],
      "text/plain": [
       "         HousingCat       EDUCbin     CIHISPEED      TRANTIME  DrinkingWater  \\\n",
       "count  63592.000000  63592.000000  63592.000000  63592.000000   63592.000000   \n",
       "mean       1.537159      0.307743     12.447006     14.108426       0.914040   \n",
       "std        0.720487      0.461563      4.299129     23.024460       0.011947   \n",
       "min        0.000000      0.000000     10.000000      0.000000       0.888818   \n",
       "25%        1.000000      0.000000     10.000000      0.000000       0.916417   \n",
       "50%        2.000000      0.000000     10.000000      5.000000       0.916609   \n",
       "75%        2.000000      1.000000     10.000000     20.000000       0.919018   \n",
       "max        2.000000      1.000000     20.000000    142.000000       0.924825   \n",
       "\n",
       "         AirQuality       EarlyEd    ProspNeigh          HHWT      HHINCOME  \\\n",
       "count  63592.000000  63592.000000  63592.000000  63592.000000  6.359200e+04   \n",
       "mean      36.808718      0.380446      0.628615     21.138131  9.618249e+04   \n",
       "std        4.645156      0.056385      0.189324     17.076690  9.314349e+04   \n",
       "min       25.000000      0.326000      0.364619      1.000000 -1.165400e+04   \n",
       "25%       35.000000      0.336000      0.548841     11.000000  4.171700e+04   \n",
       "50%       38.000000      0.336000      0.548841     16.000000  7.371200e+04   \n",
       "75%       41.000000      0.421000      0.823759     26.000000  1.207570e+05   \n",
       "max       41.000000      0.506000      0.994578    225.000000  1.347803e+06   \n",
       "\n",
       "               RACE           AGE        HISPAN   labels  \n",
       "count  63592.000000  63592.000000  63592.000000  63592.0  \n",
       "mean       2.272770     48.491933      0.499513      1.0  \n",
       "std        2.388428     17.005112      0.775949      0.0  \n",
       "min        1.000000     21.000000      0.000000      1.0  \n",
       "25%        1.000000     34.000000      0.000000      1.0  \n",
       "50%        1.000000     48.000000      0.000000      1.0  \n",
       "75%        1.000000     61.000000      1.000000      1.0  \n",
       "max        9.000000     94.000000      4.000000      1.0  "
      ]
     },
     "execution_count": 48,
     "metadata": {},
     "output_type": "execute_result"
    }
   ],
   "source": [
    "clust1.describe()"
   ]
  },
  {
   "cell_type": "code",
   "execution_count": 49,
   "metadata": {},
   "outputs": [
    {
     "data": {
      "text/plain": [
       "(array([3.9949e+04, 1.2782e+04, 5.4740e+03, 2.1220e+03, 1.3700e+03,\n",
       "        3.1000e+02, 5.6400e+02, 1.3500e+02, 8.0000e+00, 8.7800e+02]),\n",
       " array([  0. ,  14.2,  28.4,  42.6,  56.8,  71. ,  85.2,  99.4, 113.6,\n",
       "        127.8, 142. ]),\n",
       " <a list of 10 Patch objects>)"
      ]
     },
     "execution_count": 49,
     "metadata": {},
     "output_type": "execute_result"
    },
    {
     "data": {
      "image/png": "[encoded data removed]",
      "text/plain": [
       "<Figure size 432x288 with 1 Axes>"
      ]
     },
     "metadata": {
      "needs_background": "light"
     },
     "output_type": "display_data"
    }
   ],
   "source": [
    "matplotlib.pyplot.hist(clust1['TRANTIME'])"
   ]
  },
  {
   "cell_type": "code",
   "execution_count": 50,
   "metadata": {},
   "outputs": [
    {
     "data": {
      "text/plain": [
       "(array([ 5950.,     0.,     0.,     0.,     0.,  3473., 20930.,     0.,\n",
       "         3491., 29748.]),\n",
       " array([25. , 26.6, 28.2, 29.8, 31.4, 33. , 34.6, 36.2, 37.8, 39.4, 41. ]),\n",
       " <a list of 10 Patch objects>)"
      ]
     },
     "execution_count": 50,
     "metadata": {},
     "output_type": "execute_result"
    },
    {
     "data": {
      "image/png": "[encoded data removed]",
      "text/plain": [
       "<Figure size 432x288 with 1 Axes>"
      ]
     },
     "metadata": {
      "needs_background": "light"
     },
     "output_type": "display_data"
    }
   ],
   "source": [
    "matplotlib.pyplot.hist(clust1['AirQuality'])"
   ]
  },
  {
   "cell_type": "code",
   "execution_count": 51,
   "metadata": {},
   "outputs": [
    {
     "data": {
      "text/plain": [
       "2.0    42759\n",
       "1.0    12233\n",
       "0.0     8600\n",
       "Name: HousingCat, dtype: int64"
      ]
     },
     "execution_count": 51,
     "metadata": {},
     "output_type": "execute_result"
    }
   ],
   "source": [
    "clust1['HousingCat'].value_counts()"
   ]
  },
  {
   "cell_type": "markdown",
   "metadata": {},
   "source": [
    "## Cluster 2"
   ]
  },
  {
   "cell_type": "code",
   "execution_count": 52,
   "metadata": {},
   "outputs": [
    {
     "data": {
      "text/html": [
       "<div>\n",
       "<style scoped>\n",
       "    .dataframe tbody tr th:only-of-type {\n",
       "        vertical-align: middle;\n",
       "    }\n",
       "\n",
       "    .dataframe tbody tr th {\n",
       "        vertical-align: top;\n",
       "    }\n",
       "\n",
       "    .dataframe thead th {\n",
       "        text-align: right;\n",
       "    }\n",
       "</style>\n",
       "<table border=\"1\" class=\"dataframe\">\n",
       "  <thead>\n",
       "    <tr style=\"text-align: right;\">\n",
       "      <th></th>\n",
       "      <th>HousingCat</th>\n",
       "      <th>EDUCbin</th>\n",
       "      <th>CIHISPEED</th>\n",
       "      <th>TRANTIME</th>\n",
       "      <th>DrinkingWater</th>\n",
       "      <th>AirQuality</th>\n",
       "      <th>EarlyEd</th>\n",
       "      <th>ProspNeigh</th>\n",
       "      <th>HHWT</th>\n",
       "      <th>HHINCOME</th>\n",
       "      <th>RACE</th>\n",
       "      <th>AGE</th>\n",
       "      <th>HISPAN</th>\n",
       "      <th>labels</th>\n",
       "    </tr>\n",
       "  </thead>\n",
       "  <tbody>\n",
       "    <tr>\n",
       "      <th>count</th>\n",
       "      <td>260524.000000</td>\n",
       "      <td>260524.000000</td>\n",
       "      <td>260524.000000</td>\n",
       "      <td>260524.000000</td>\n",
       "      <td>260524.000000</td>\n",
       "      <td>260524.000000</td>\n",
       "      <td>260524.000000</td>\n",
       "      <td>260524.000000</td>\n",
       "      <td>260524.000000</td>\n",
       "      <td>2.605240e+05</td>\n",
       "      <td>260524.000000</td>\n",
       "      <td>260524.000000</td>\n",
       "      <td>260524.000000</td>\n",
       "      <td>260524.0</td>\n",
       "    </tr>\n",
       "    <tr>\n",
       "      <th>mean</th>\n",
       "      <td>1.568412</td>\n",
       "      <td>0.654738</td>\n",
       "      <td>10.138298</td>\n",
       "      <td>20.177830</td>\n",
       "      <td>0.999951</td>\n",
       "      <td>27.013553</td>\n",
       "      <td>0.588497</td>\n",
       "      <td>0.935869</td>\n",
       "      <td>19.178924</td>\n",
       "      <td>1.788241e+05</td>\n",
       "      <td>2.816220</td>\n",
       "      <td>49.238454</td>\n",
       "      <td>0.264237</td>\n",
       "      <td>2.0</td>\n",
       "    </tr>\n",
       "    <tr>\n",
       "      <th>std</th>\n",
       "      <td>0.685268</td>\n",
       "      <td>0.475454</td>\n",
       "      <td>1.167845</td>\n",
       "      <td>25.077526</td>\n",
       "      <td>0.000191</td>\n",
       "      <td>3.379824</td>\n",
       "      <td>0.078569</td>\n",
       "      <td>0.043373</td>\n",
       "      <td>12.383061</td>\n",
       "      <td>1.572529e+05</td>\n",
       "      <td>2.418954</td>\n",
       "      <td>16.732496</td>\n",
       "      <td>0.818037</td>\n",
       "      <td>0.0</td>\n",
       "    </tr>\n",
       "    <tr>\n",
       "      <th>min</th>\n",
       "      <td>0.000000</td>\n",
       "      <td>0.000000</td>\n",
       "      <td>10.000000</td>\n",
       "      <td>0.000000</td>\n",
       "      <td>0.998583</td>\n",
       "      <td>17.000000</td>\n",
       "      <td>0.415000</td>\n",
       "      <td>0.840084</td>\n",
       "      <td>1.000000</td>\n",
       "      <td>-1.193200e+04</td>\n",
       "      <td>1.000000</td>\n",
       "      <td>21.000000</td>\n",
       "      <td>0.000000</td>\n",
       "      <td>2.0</td>\n",
       "    </tr>\n",
       "    <tr>\n",
       "      <th>25%</th>\n",
       "      <td>1.000000</td>\n",
       "      <td>0.000000</td>\n",
       "      <td>10.000000</td>\n",
       "      <td>0.000000</td>\n",
       "      <td>1.000000</td>\n",
       "      <td>26.000000</td>\n",
       "      <td>0.541000</td>\n",
       "      <td>0.891250</td>\n",
       "      <td>12.000000</td>\n",
       "      <td>7.941300e+04</td>\n",
       "      <td>1.000000</td>\n",
       "      <td>35.000000</td>\n",
       "      <td>0.000000</td>\n",
       "      <td>2.0</td>\n",
       "    </tr>\n",
       "    <tr>\n",
       "      <th>50%</th>\n",
       "      <td>2.000000</td>\n",
       "      <td>1.000000</td>\n",
       "      <td>10.000000</td>\n",
       "      <td>15.000000</td>\n",
       "      <td>1.000000</td>\n",
       "      <td>28.000000</td>\n",
       "      <td>0.574000</td>\n",
       "      <td>0.942794</td>\n",
       "      <td>15.000000</td>\n",
       "      <td>1.380000e+05</td>\n",
       "      <td>1.000000</td>\n",
       "      <td>49.000000</td>\n",
       "      <td>0.000000</td>\n",
       "      <td>2.0</td>\n",
       "    </tr>\n",
       "    <tr>\n",
       "      <th>75%</th>\n",
       "      <td>2.000000</td>\n",
       "      <td>1.000000</td>\n",
       "      <td>10.000000</td>\n",
       "      <td>30.000000</td>\n",
       "      <td>1.000000</td>\n",
       "      <td>30.000000</td>\n",
       "      <td>0.607000</td>\n",
       "      <td>0.969714</td>\n",
       "      <td>23.000000</td>\n",
       "      <td>2.239860e+05</td>\n",
       "      <td>6.000000</td>\n",
       "      <td>62.000000</td>\n",
       "      <td>0.000000</td>\n",
       "      <td>2.0</td>\n",
       "    </tr>\n",
       "    <tr>\n",
       "      <th>max</th>\n",
       "      <td>2.000000</td>\n",
       "      <td>1.000000</td>\n",
       "      <td>20.000000</td>\n",
       "      <td>142.000000</td>\n",
       "      <td>1.000000</td>\n",
       "      <td>34.000000</td>\n",
       "      <td>0.744000</td>\n",
       "      <td>0.996038</td>\n",
       "      <td>205.000000</td>\n",
       "      <td>2.626744e+06</td>\n",
       "      <td>9.000000</td>\n",
       "      <td>94.000000</td>\n",
       "      <td>4.000000</td>\n",
       "      <td>2.0</td>\n",
       "    </tr>\n",
       "  </tbody>\n",
       "</table>\n",
       "</div>"
      ],
      "text/plain": [
       "          HousingCat        EDUCbin      CIHISPEED       TRANTIME  \\\n",
       "count  260524.000000  260524.000000  260524.000000  260524.000000   \n",
       "mean        1.568412       0.654738      10.138298      20.177830   \n",
       "std         0.685268       0.475454       1.167845      25.077526   \n",
       "min         0.000000       0.000000      10.000000       0.000000   \n",
       "25%         1.000000       0.000000      10.000000       0.000000   \n",
       "50%         2.000000       1.000000      10.000000      15.000000   \n",
       "75%         2.000000       1.000000      10.000000      30.000000   \n",
       "max         2.000000       1.000000      20.000000     142.000000   \n",
       "\n",
       "       DrinkingWater     AirQuality        EarlyEd     ProspNeigh  \\\n",
       "count  260524.000000  260524.000000  260524.000000  260524.000000   \n",
       "mean        0.999951      27.013553       0.588497       0.935869   \n",
       "std         0.000191       3.379824       0.078569       0.043373   \n",
       "min         0.998583      17.000000       0.415000       0.840084   \n",
       "25%         1.000000      26.000000       0.541000       0.891250   \n",
       "50%         1.000000      28.000000       0.574000       0.942794   \n",
       "75%         1.000000      30.000000       0.607000       0.969714   \n",
       "max         1.000000      34.000000       0.744000       0.996038   \n",
       "\n",
       "                HHWT      HHINCOME           RACE            AGE  \\\n",
       "count  260524.000000  2.605240e+05  260524.000000  260524.000000   \n",
       "mean       19.178924  1.788241e+05       2.816220      49.238454   \n",
       "std        12.383061  1.572529e+05       2.418954      16.732496   \n",
       "min         1.000000 -1.193200e+04       1.000000      21.000000   \n",
       "25%        12.000000  7.941300e+04       1.000000      35.000000   \n",
       "50%        15.000000  1.380000e+05       1.000000      49.000000   \n",
       "75%        23.000000  2.239860e+05       6.000000      62.000000   \n",
       "max       205.000000  2.626744e+06       9.000000      94.000000   \n",
       "\n",
       "              HISPAN    labels  \n",
       "count  260524.000000  260524.0  \n",
       "mean        0.264237       2.0  \n",
       "std         0.818037       0.0  \n",
       "min         0.000000       2.0  \n",
       "25%         0.000000       2.0  \n",
       "50%         0.000000       2.0  \n",
       "75%         0.000000       2.0  \n",
       "max         4.000000       2.0  "
      ]
     },
     "execution_count": 52,
     "metadata": {},
     "output_type": "execute_result"
    }
   ],
   "source": [
    "clust2.describe()"
   ]
  },
  {
   "cell_type": "code",
   "execution_count": 53,
   "metadata": {},
   "outputs": [
    {
     "data": {
      "text/plain": [
       "(array([1.28205e+05, 5.12070e+04, 3.70740e+04, 1.88270e+04, 1.44740e+04,\n",
       "        3.16500e+03, 4.29000e+03, 7.66000e+02, 2.40000e+01, 2.49200e+03]),\n",
       " array([  0. ,  14.2,  28.4,  42.6,  56.8,  71. ,  85.2,  99.4, 113.6,\n",
       "        127.8, 142. ]),\n",
       " <a list of 10 Patch objects>)"
      ]
     },
     "execution_count": 53,
     "metadata": {},
     "output_type": "execute_result"
    },
    {
     "data": {
      "image/png": "[encoded data removed]",
      "text/plain": [
       "<Figure size 432x288 with 1 Axes>"
      ]
     },
     "metadata": {
      "needs_background": "light"
     },
     "output_type": "display_data"
    }
   ],
   "source": [
    "matplotlib.pyplot.hist(clust2['TRANTIME'])"
   ]
  },
  {
   "cell_type": "code",
   "execution_count": 54,
   "metadata": {},
   "outputs": [
    {
     "data": {
      "text/plain": [
       "(array([15505.,     0.,     0.,     0., 39306., 71369., 57277., 65653.,\n",
       "         4679.,  6735.]),\n",
       " array([17. , 18.7, 20.4, 22.1, 23.8, 25.5, 27.2, 28.9, 30.6, 32.3, 34. ]),\n",
       " <a list of 10 Patch objects>)"
      ]
     },
     "execution_count": 54,
     "metadata": {},
     "output_type": "execute_result"
    },
    {
     "data": {
      "image/png": "[encoded data removed]",
      "text/plain": [
       "<Figure size 432x288 with 1 Axes>"
      ]
     },
     "metadata": {
      "needs_background": "light"
     },
     "output_type": "display_data"
    }
   ],
   "source": [
    "matplotlib.pyplot.hist(clust2['AirQuality'])"
   ]
  },
  {
   "cell_type": "code",
   "execution_count": 55,
   "metadata": {
    "scrolled": true
   },
   "outputs": [
    {
     "data": {
      "text/plain": [
       "2.0    177299\n",
       "1.0     54011\n",
       "0.0     29214\n",
       "Name: HousingCat, dtype: int64"
      ]
     },
     "execution_count": 55,
     "metadata": {},
     "output_type": "execute_result"
    }
   ],
   "source": [
    "clust2['HousingCat'].value_counts()"
   ]
  },
  {
   "cell_type": "markdown",
   "metadata": {},
   "source": [
    "## Cluster 3"
   ]
  },
  {
   "cell_type": "code",
   "execution_count": 56,
   "metadata": {},
   "outputs": [
    {
     "data": {
      "text/html": [
       "<div>\n",
       "<style scoped>\n",
       "    .dataframe tbody tr th:only-of-type {\n",
       "        vertical-align: middle;\n",
       "    }\n",
       "\n",
       "    .dataframe tbody tr th {\n",
       "        vertical-align: top;\n",
       "    }\n",
       "\n",
       "    .dataframe thead th {\n",
       "        text-align: right;\n",
       "    }\n",
       "</style>\n",
       "<table border=\"1\" class=\"dataframe\">\n",
       "  <thead>\n",
       "    <tr style=\"text-align: right;\">\n",
       "      <th></th>\n",
       "      <th>HousingCat</th>\n",
       "      <th>EDUCbin</th>\n",
       "      <th>CIHISPEED</th>\n",
       "      <th>TRANTIME</th>\n",
       "      <th>DrinkingWater</th>\n",
       "      <th>AirQuality</th>\n",
       "      <th>EarlyEd</th>\n",
       "      <th>ProspNeigh</th>\n",
       "      <th>HHWT</th>\n",
       "      <th>HHINCOME</th>\n",
       "      <th>RACE</th>\n",
       "      <th>AGE</th>\n",
       "      <th>HISPAN</th>\n",
       "      <th>labels</th>\n",
       "    </tr>\n",
       "  </thead>\n",
       "  <tbody>\n",
       "    <tr>\n",
       "      <th>count</th>\n",
       "      <td>317927.000000</td>\n",
       "      <td>317927.0</td>\n",
       "      <td>317927.0</td>\n",
       "      <td>317927.000000</td>\n",
       "      <td>317927.000000</td>\n",
       "      <td>317927.000000</td>\n",
       "      <td>317927.000000</td>\n",
       "      <td>317927.000000</td>\n",
       "      <td>317927.000000</td>\n",
       "      <td>3.179270e+05</td>\n",
       "      <td>317927.000000</td>\n",
       "      <td>317927.000000</td>\n",
       "      <td>317927.000000</td>\n",
       "      <td>317927.0</td>\n",
       "    </tr>\n",
       "    <tr>\n",
       "      <th>mean</th>\n",
       "      <td>1.588748</td>\n",
       "      <td>1.0</td>\n",
       "      <td>10.0</td>\n",
       "      <td>19.656906</td>\n",
       "      <td>0.998869</td>\n",
       "      <td>37.966914</td>\n",
       "      <td>0.508506</td>\n",
       "      <td>0.795337</td>\n",
       "      <td>18.296798</td>\n",
       "      <td>1.534706e+05</td>\n",
       "      <td>2.522148</td>\n",
       "      <td>48.416731</td>\n",
       "      <td>0.287399</td>\n",
       "      <td>3.0</td>\n",
       "    </tr>\n",
       "    <tr>\n",
       "      <th>std</th>\n",
       "      <td>0.688067</td>\n",
       "      <td>0.0</td>\n",
       "      <td>0.0</td>\n",
       "      <td>24.133519</td>\n",
       "      <td>0.004798</td>\n",
       "      <td>3.807193</td>\n",
       "      <td>0.060721</td>\n",
       "      <td>0.083209</td>\n",
       "      <td>12.547455</td>\n",
       "      <td>1.371090e+05</td>\n",
       "      <td>2.343574</td>\n",
       "      <td>16.473598</td>\n",
       "      <td>0.822609</td>\n",
       "      <td>0.0</td>\n",
       "    </tr>\n",
       "    <tr>\n",
       "      <th>min</th>\n",
       "      <td>0.000000</td>\n",
       "      <td>1.0</td>\n",
       "      <td>10.0</td>\n",
       "      <td>0.000000</td>\n",
       "      <td>0.964234</td>\n",
       "      <td>26.000000</td>\n",
       "      <td>0.351000</td>\n",
       "      <td>0.506095</td>\n",
       "      <td>1.000000</td>\n",
       "      <td>-1.575500e+04</td>\n",
       "      <td>1.000000</td>\n",
       "      <td>21.000000</td>\n",
       "      <td>0.000000</td>\n",
       "      <td>3.0</td>\n",
       "    </tr>\n",
       "    <tr>\n",
       "      <th>25%</th>\n",
       "      <td>1.000000</td>\n",
       "      <td>1.0</td>\n",
       "      <td>10.0</td>\n",
       "      <td>0.000000</td>\n",
       "      <td>0.999622</td>\n",
       "      <td>36.000000</td>\n",
       "      <td>0.513000</td>\n",
       "      <td>0.759245</td>\n",
       "      <td>12.000000</td>\n",
       "      <td>7.126800e+04</td>\n",
       "      <td>1.000000</td>\n",
       "      <td>34.000000</td>\n",
       "      <td>0.000000</td>\n",
       "      <td>3.0</td>\n",
       "    </tr>\n",
       "    <tr>\n",
       "      <th>50%</th>\n",
       "      <td>2.000000</td>\n",
       "      <td>1.0</td>\n",
       "      <td>10.0</td>\n",
       "      <td>15.000000</td>\n",
       "      <td>0.999622</td>\n",
       "      <td>40.000000</td>\n",
       "      <td>0.545000</td>\n",
       "      <td>0.759245</td>\n",
       "      <td>14.000000</td>\n",
       "      <td>1.200000e+05</td>\n",
       "      <td>1.000000</td>\n",
       "      <td>47.000000</td>\n",
       "      <td>0.000000</td>\n",
       "      <td>3.0</td>\n",
       "    </tr>\n",
       "    <tr>\n",
       "      <th>75%</th>\n",
       "      <td>2.000000</td>\n",
       "      <td>1.0</td>\n",
       "      <td>10.0</td>\n",
       "      <td>30.000000</td>\n",
       "      <td>0.999999</td>\n",
       "      <td>40.000000</td>\n",
       "      <td>0.545000</td>\n",
       "      <td>0.872352</td>\n",
       "      <td>21.000000</td>\n",
       "      <td>1.892000e+05</td>\n",
       "      <td>4.000000</td>\n",
       "      <td>61.000000</td>\n",
       "      <td>0.000000</td>\n",
       "      <td>3.0</td>\n",
       "    </tr>\n",
       "    <tr>\n",
       "      <th>max</th>\n",
       "      <td>2.000000</td>\n",
       "      <td>1.0</td>\n",
       "      <td>10.0</td>\n",
       "      <td>142.000000</td>\n",
       "      <td>1.000000</td>\n",
       "      <td>43.000000</td>\n",
       "      <td>0.558000</td>\n",
       "      <td>0.938336</td>\n",
       "      <td>267.000000</td>\n",
       "      <td>2.329101e+06</td>\n",
       "      <td>9.000000</td>\n",
       "      <td>94.000000</td>\n",
       "      <td>4.000000</td>\n",
       "      <td>3.0</td>\n",
       "    </tr>\n",
       "  </tbody>\n",
       "</table>\n",
       "</div>"
      ],
      "text/plain": [
       "          HousingCat   EDUCbin  CIHISPEED       TRANTIME  DrinkingWater  \\\n",
       "count  317927.000000  317927.0   317927.0  317927.000000  317927.000000   \n",
       "mean        1.588748       1.0       10.0      19.656906       0.998869   \n",
       "std         0.688067       0.0        0.0      24.133519       0.004798   \n",
       "min         0.000000       1.0       10.0       0.000000       0.964234   \n",
       "25%         1.000000       1.0       10.0       0.000000       0.999622   \n",
       "50%         2.000000       1.0       10.0      15.000000       0.999622   \n",
       "75%         2.000000       1.0       10.0      30.000000       0.999999   \n",
       "max         2.000000       1.0       10.0     142.000000       1.000000   \n",
       "\n",
       "          AirQuality        EarlyEd     ProspNeigh           HHWT  \\\n",
       "count  317927.000000  317927.000000  317927.000000  317927.000000   \n",
       "mean       37.966914       0.508506       0.795337      18.296798   \n",
       "std         3.807193       0.060721       0.083209      12.547455   \n",
       "min        26.000000       0.351000       0.506095       1.000000   \n",
       "25%        36.000000       0.513000       0.759245      12.000000   \n",
       "50%        40.000000       0.545000       0.759245      14.000000   \n",
       "75%        40.000000       0.545000       0.872352      21.000000   \n",
       "max        43.000000       0.558000       0.938336     267.000000   \n",
       "\n",
       "           HHINCOME           RACE            AGE         HISPAN    labels  \n",
       "count  3.179270e+05  317927.000000  317927.000000  317927.000000  317927.0  \n",
       "mean   1.534706e+05       2.522148      48.416731       0.287399       3.0  \n",
       "std    1.371090e+05       2.343574      16.473598       0.822609       0.0  \n",
       "min   -1.575500e+04       1.000000      21.000000       0.000000       3.0  \n",
       "25%    7.126800e+04       1.000000      34.000000       0.000000       3.0  \n",
       "50%    1.200000e+05       1.000000      47.000000       0.000000       3.0  \n",
       "75%    1.892000e+05       4.000000      61.000000       0.000000       3.0  \n",
       "max    2.329101e+06       9.000000      94.000000       4.000000       3.0  "
      ]
     },
     "execution_count": 56,
     "metadata": {},
     "output_type": "execute_result"
    }
   ],
   "source": [
    "clust3.describe()"
   ]
  },
  {
   "cell_type": "code",
   "execution_count": 57,
   "metadata": {},
   "outputs": [
    {
     "data": {
      "text/plain": [
       "(array([1.53068e+05, 7.00320e+04, 4.71920e+04, 2.12930e+04, 1.51330e+04,\n",
       "        2.99000e+03, 4.32200e+03, 7.07000e+02, 3.50000e+01, 3.15500e+03]),\n",
       " array([  0. ,  14.2,  28.4,  42.6,  56.8,  71. ,  85.2,  99.4, 113.6,\n",
       "        127.8, 142. ]),\n",
       " <a list of 10 Patch objects>)"
      ]
     },
     "execution_count": 57,
     "metadata": {},
     "output_type": "execute_result"
    },
    {
     "data": {
      "image/png": "[encoded data removed]",
      "text/plain": [
       "<Figure size 432x288 with 1 Axes>"
      ]
     },
     "metadata": {
      "needs_background": "light"
     },
     "output_type": "display_data"
    }
   ],
   "source": [
    "matplotlib.pyplot.hist(clust3['TRANTIME'])"
   ]
  },
  {
   "cell_type": "code",
   "execution_count": 58,
   "metadata": {},
   "outputs": [
    {
     "data": {
      "text/plain": [
       "(array([  1705.,  25026.,      0.,   5555.,      0.,  47637.,  68717.,\n",
       "             0., 130602.,  38685.]),\n",
       " array([26. , 27.7, 29.4, 31.1, 32.8, 34.5, 36.2, 37.9, 39.6, 41.3, 43. ]),\n",
       " <a list of 10 Patch objects>)"
      ]
     },
     "execution_count": 58,
     "metadata": {},
     "output_type": "execute_result"
    },
    {
     "data": {
      "image/png": "[encoded data removed]",
      "text/plain": [
       "<Figure size 432x288 with 1 Axes>"
      ]
     },
     "metadata": {
      "needs_background": "light"
     },
     "output_type": "display_data"
    }
   ],
   "source": [
    "matplotlib.pyplot.hist(clust3['AirQuality'])"
   ]
  },
  {
   "cell_type": "code",
   "execution_count": 59,
   "metadata": {},
   "outputs": [
    {
     "data": {
      "text/plain": [
       "2.0    223949\n",
       "1.0     57208\n",
       "0.0     36770\n",
       "Name: HousingCat, dtype: int64"
      ]
     },
     "execution_count": 59,
     "metadata": {},
     "output_type": "execute_result"
    }
   ],
   "source": [
    "clust3['HousingCat'].value_counts()"
   ]
  },
  {
   "cell_type": "markdown",
   "metadata": {},
   "source": [
    "## Cluster 4"
   ]
  },
  {
   "cell_type": "code",
   "execution_count": 60,
   "metadata": {},
   "outputs": [
    {
     "data": {
      "text/html": [
       "<div>\n",
       "<style scoped>\n",
       "    .dataframe tbody tr th:only-of-type {\n",
       "        vertical-align: middle;\n",
       "    }\n",
       "\n",
       "    .dataframe tbody tr th {\n",
       "        vertical-align: top;\n",
       "    }\n",
       "\n",
       "    .dataframe thead th {\n",
       "        text-align: right;\n",
       "    }\n",
       "</style>\n",
       "<table border=\"1\" class=\"dataframe\">\n",
       "  <thead>\n",
       "    <tr style=\"text-align: right;\">\n",
       "      <th></th>\n",
       "      <th>HousingCat</th>\n",
       "      <th>EDUCbin</th>\n",
       "      <th>CIHISPEED</th>\n",
       "      <th>TRANTIME</th>\n",
       "      <th>DrinkingWater</th>\n",
       "      <th>AirQuality</th>\n",
       "      <th>EarlyEd</th>\n",
       "      <th>ProspNeigh</th>\n",
       "      <th>HHWT</th>\n",
       "      <th>HHINCOME</th>\n",
       "      <th>RACE</th>\n",
       "      <th>AGE</th>\n",
       "      <th>HISPAN</th>\n",
       "      <th>labels</th>\n",
       "    </tr>\n",
       "  </thead>\n",
       "  <tbody>\n",
       "    <tr>\n",
       "      <th>count</th>\n",
       "      <td>145176.000000</td>\n",
       "      <td>145176.000000</td>\n",
       "      <td>145176.0</td>\n",
       "      <td>145176.000000</td>\n",
       "      <td>145176.000000</td>\n",
       "      <td>145176.000000</td>\n",
       "      <td>145176.000000</td>\n",
       "      <td>145176.000000</td>\n",
       "      <td>145176.000000</td>\n",
       "      <td>1.451760e+05</td>\n",
       "      <td>145176.000000</td>\n",
       "      <td>145176.000000</td>\n",
       "      <td>145176.000000</td>\n",
       "      <td>145176.0</td>\n",
       "    </tr>\n",
       "    <tr>\n",
       "      <th>mean</th>\n",
       "      <td>1.338217</td>\n",
       "      <td>0.313674</td>\n",
       "      <td>20.0</td>\n",
       "      <td>16.829503</td>\n",
       "      <td>0.998404</td>\n",
       "      <td>36.015051</td>\n",
       "      <td>0.509720</td>\n",
       "      <td>0.807054</td>\n",
       "      <td>19.464347</td>\n",
       "      <td>9.450174e+04</td>\n",
       "      <td>2.866548</td>\n",
       "      <td>50.383066</td>\n",
       "      <td>0.625716</td>\n",
       "      <td>4.0</td>\n",
       "    </tr>\n",
       "    <tr>\n",
       "      <th>std</th>\n",
       "      <td>0.827495</td>\n",
       "      <td>0.463987</td>\n",
       "      <td>0.0</td>\n",
       "      <td>24.095228</td>\n",
       "      <td>0.005916</td>\n",
       "      <td>5.794882</td>\n",
       "      <td>0.073592</td>\n",
       "      <td>0.101951</td>\n",
       "      <td>13.677835</td>\n",
       "      <td>9.842346e+04</td>\n",
       "      <td>2.593511</td>\n",
       "      <td>17.826626</td>\n",
       "      <td>1.058000</td>\n",
       "      <td>0.0</td>\n",
       "    </tr>\n",
       "    <tr>\n",
       "      <th>min</th>\n",
       "      <td>0.000000</td>\n",
       "      <td>0.000000</td>\n",
       "      <td>20.0</td>\n",
       "      <td>0.000000</td>\n",
       "      <td>0.964234</td>\n",
       "      <td>17.000000</td>\n",
       "      <td>0.351000</td>\n",
       "      <td>0.506095</td>\n",
       "      <td>1.000000</td>\n",
       "      <td>-1.165400e+04</td>\n",
       "      <td>1.000000</td>\n",
       "      <td>21.000000</td>\n",
       "      <td>0.000000</td>\n",
       "      <td>4.0</td>\n",
       "    </tr>\n",
       "    <tr>\n",
       "      <th>25%</th>\n",
       "      <td>1.000000</td>\n",
       "      <td>0.000000</td>\n",
       "      <td>20.0</td>\n",
       "      <td>0.000000</td>\n",
       "      <td>0.999622</td>\n",
       "      <td>31.000000</td>\n",
       "      <td>0.457000</td>\n",
       "      <td>0.759245</td>\n",
       "      <td>11.000000</td>\n",
       "      <td>3.760700e+04</td>\n",
       "      <td>1.000000</td>\n",
       "      <td>35.000000</td>\n",
       "      <td>0.000000</td>\n",
       "      <td>4.0</td>\n",
       "    </tr>\n",
       "    <tr>\n",
       "      <th>50%</th>\n",
       "      <td>2.000000</td>\n",
       "      <td>0.000000</td>\n",
       "      <td>20.0</td>\n",
       "      <td>9.000000</td>\n",
       "      <td>0.999908</td>\n",
       "      <td>37.000000</td>\n",
       "      <td>0.545000</td>\n",
       "      <td>0.759245</td>\n",
       "      <td>15.000000</td>\n",
       "      <td>6.967500e+04</td>\n",
       "      <td>1.000000</td>\n",
       "      <td>51.000000</td>\n",
       "      <td>0.000000</td>\n",
       "      <td>4.0</td>\n",
       "    </tr>\n",
       "    <tr>\n",
       "      <th>75%</th>\n",
       "      <td>2.000000</td>\n",
       "      <td>1.000000</td>\n",
       "      <td>20.0</td>\n",
       "      <td>30.000000</td>\n",
       "      <td>1.000000</td>\n",
       "      <td>40.000000</td>\n",
       "      <td>0.545000</td>\n",
       "      <td>0.885916</td>\n",
       "      <td>24.000000</td>\n",
       "      <td>1.181020e+05</td>\n",
       "      <td>6.000000</td>\n",
       "      <td>64.000000</td>\n",
       "      <td>1.000000</td>\n",
       "      <td>4.0</td>\n",
       "    </tr>\n",
       "    <tr>\n",
       "      <th>max</th>\n",
       "      <td>2.000000</td>\n",
       "      <td>1.000000</td>\n",
       "      <td>20.0</td>\n",
       "      <td>142.000000</td>\n",
       "      <td>1.000000</td>\n",
       "      <td>43.000000</td>\n",
       "      <td>0.744000</td>\n",
       "      <td>0.996038</td>\n",
       "      <td>247.000000</td>\n",
       "      <td>1.942990e+06</td>\n",
       "      <td>9.000000</td>\n",
       "      <td>94.000000</td>\n",
       "      <td>4.000000</td>\n",
       "      <td>4.0</td>\n",
       "    </tr>\n",
       "  </tbody>\n",
       "</table>\n",
       "</div>"
      ],
      "text/plain": [
       "          HousingCat        EDUCbin  CIHISPEED       TRANTIME  DrinkingWater  \\\n",
       "count  145176.000000  145176.000000   145176.0  145176.000000  145176.000000   \n",
       "mean        1.338217       0.313674       20.0      16.829503       0.998404   \n",
       "std         0.827495       0.463987        0.0      24.095228       0.005916   \n",
       "min         0.000000       0.000000       20.0       0.000000       0.964234   \n",
       "25%         1.000000       0.000000       20.0       0.000000       0.999622   \n",
       "50%         2.000000       0.000000       20.0       9.000000       0.999908   \n",
       "75%         2.000000       1.000000       20.0      30.000000       1.000000   \n",
       "max         2.000000       1.000000       20.0     142.000000       1.000000   \n",
       "\n",
       "          AirQuality        EarlyEd     ProspNeigh           HHWT  \\\n",
       "count  145176.000000  145176.000000  145176.000000  145176.000000   \n",
       "mean       36.015051       0.509720       0.807054      19.464347   \n",
       "std         5.794882       0.073592       0.101951      13.677835   \n",
       "min        17.000000       0.351000       0.506095       1.000000   \n",
       "25%        31.000000       0.457000       0.759245      11.000000   \n",
       "50%        37.000000       0.545000       0.759245      15.000000   \n",
       "75%        40.000000       0.545000       0.885916      24.000000   \n",
       "max        43.000000       0.744000       0.996038     247.000000   \n",
       "\n",
       "           HHINCOME           RACE            AGE         HISPAN    labels  \n",
       "count  1.451760e+05  145176.000000  145176.000000  145176.000000  145176.0  \n",
       "mean   9.450174e+04       2.866548      50.383066       0.625716       4.0  \n",
       "std    9.842346e+04       2.593511      17.826626       1.058000       0.0  \n",
       "min   -1.165400e+04       1.000000      21.000000       0.000000       4.0  \n",
       "25%    3.760700e+04       1.000000      35.000000       0.000000       4.0  \n",
       "50%    6.967500e+04       1.000000      51.000000       0.000000       4.0  \n",
       "75%    1.181020e+05       6.000000      64.000000       1.000000       4.0  \n",
       "max    1.942990e+06       9.000000      94.000000       4.000000       4.0  "
      ]
     },
     "execution_count": 60,
     "metadata": {},
     "output_type": "execute_result"
    }
   ],
   "source": [
    "clust4.describe()"
   ]
  },
  {
   "cell_type": "code",
   "execution_count": 61,
   "metadata": {},
   "outputs": [
    {
     "data": {
      "text/plain": [
       "(array([8.1606e+04, 2.6740e+04, 1.8743e+04, 7.2310e+03, 6.3030e+03,\n",
       "        8.7100e+02, 1.7670e+03, 2.5600e+02, 9.0000e+00, 1.6500e+03]),\n",
       " array([  0. ,  14.2,  28.4,  42.6,  56.8,  71. ,  85.2,  99.4, 113.6,\n",
       "        127.8, 142. ]),\n",
       " <a list of 10 Patch objects>)"
      ]
     },
     "execution_count": 61,
     "metadata": {},
     "output_type": "execute_result"
    },
    {
     "data": {
      "image/png": "[encoded data removed]",
      "text/plain": [
       "<Figure size 432x288 with 1 Axes>"
      ]
     },
     "metadata": {
      "needs_background": "light"
     },
     "output_type": "display_data"
    }
   ],
   "source": [
    "matplotlib.pyplot.hist(clust4['TRANTIME'])"
   ]
  },
  {
   "cell_type": "code",
   "execution_count": 62,
   "metadata": {},
   "outputs": [
    {
     "data": {
      "text/plain": [
       "(array([ 1414.,     0.,  3930.,  8048., 16731., 11425.,  3414., 32633.,\n",
       "        48833., 18748.]),\n",
       " array([17. , 19.6, 22.2, 24.8, 27.4, 30. , 32.6, 35.2, 37.8, 40.4, 43. ]),\n",
       " <a list of 10 Patch objects>)"
      ]
     },
     "execution_count": 62,
     "metadata": {},
     "output_type": "execute_result"
    },
    {
     "data": {
      "image/png": "[encoded data removed]",
      "text/plain": [
       "<Figure size 432x288 with 1 Axes>"
      ]
     },
     "metadata": {
      "needs_background": "light"
     },
     "output_type": "display_data"
    }
   ],
   "source": [
    "matplotlib.pyplot.hist(clust4['AirQuality'])"
   ]
  },
  {
   "cell_type": "code",
   "execution_count": 63,
   "metadata": {},
   "outputs": [
    {
     "data": {
      "text/plain": [
       "2.0    82558\n",
       "0.0    33457\n",
       "1.0    29161\n",
       "Name: HousingCat, dtype: int64"
      ]
     },
     "execution_count": 63,
     "metadata": {},
     "output_type": "execute_result"
    }
   ],
   "source": [
    "clust4['HousingCat'].value_counts()"
   ]
  },
  {
   "cell_type": "code",
   "execution_count": null,
   "metadata": {},
   "outputs": [],
   "source": [
    "Xcorr=dfXfin.iloc[:, [0,1,2,3,4,5,6,7,8,9,10,11,1]]\n",
    "Xcorr.head()"
   ]
  },
  {
   "cell_type": "code",
   "execution_count": null,
   "metadata": {},
   "outputs": [],
   "source": [
    "plt.subplots(figsize=(12,8))\n",
    "sns.heatmap(Xcorr.corr(), annot = True)"
   ]
  },
  {
   "cell_type": "markdown",
   "metadata": {},
   "source": [
    "## Cluster Visualizations:"
   ]
  },
  {
   "cell_type": "code",
   "execution_count": null,
   "metadata": {},
   "outputs": [
    {
     "data": {
      "text/plain": [
       "<matplotlib.legend.Legend at 0x21244eacd88>"
      ]
     },
     "execution_count": 66,
     "metadata": {},
     "output_type": "execute_result"
    }
   ],
   "source": [
    "fig, ax = plt.subplots(figsize=(8,8))\n",
    "scatter = ax.scatter(dfXfin['HousingCat'], dfXfin['EDUCbin'], c=dfXfin['labels'], cmap=plt.cm.cool)\n",
    "ax.set_xlabel('2 yr college binary')\n",
    "ax.set_ylabel('% of 3-4 yr olds in preschool')\n",
    "legend1=ax.legend(*scatter.legend_elements(),loc=\"lower left\", title=\"Cluster\")\n",
    "plt.gca().add_artist(legend1)"
   ]
  }
 ],
 "metadata": {
  "kernelspec": {
   "display_name": "Python 3",
   "language": "python",
   "name": "python3"
  },
  "language_info": {
   "codemirror_mode": {
    "name": "ipython",
    "version": 3
   },
   "file_extension": ".py",
   "mimetype": "text/x-python",
   "name": "python",
   "nbconvert_exporter": "python",
   "pygments_lexer": "ipython3",
   "version": "3.7.6"
  }
 },
 "nbformat": 4,
 "nbformat_minor": 5
}
